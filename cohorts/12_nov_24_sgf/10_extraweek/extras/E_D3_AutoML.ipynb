{
  "cells": [
    {
      "cell_type": "markdown",
      "metadata": {},
      "source": [
        "**Table of contents**<a id='toc0_'></a>    \n",
        "- [AutoML - PyCaret Quickstart](#toc1_)    \n",
        "- [Regression](#toc2_)    \n",
        "  - [Setting up an experiment](#toc2_1_)    \n",
        "      - [Preprocessing](#toc2_1_1_1_)    \n",
        "  - [Modelling](#toc2_2_)    \n",
        "  - [Model diagnostics](#toc2_3_)    \n",
        "  - [Model tracking](#toc2_4_)    \n",
        "  - [What comes next?](#toc2_5_)    \n",
        "- [Extra: Homework](#toc3_)    \n",
        "- [Resources](#toc4_)    \n",
        "\n",
        "<!-- vscode-jupyter-toc-config\n",
        "\tnumbering=false\n",
        "\tanchor=true\n",
        "\tflat=false\n",
        "\tminLevel=1\n",
        "\tmaxLevel=6\n",
        "\t/vscode-jupyter-toc-config -->\n",
        "<!-- THIS CELL WILL BE REPLACED ON TOC UPDATE. DO NOT WRITE YOUR TEXT IN THIS CELL -->"
      ]
    },
    {
      "cell_type": "markdown",
      "metadata": {},
      "source": [
        "# <a id='toc1_'></a>[AutoML - PyCaret Quickstart](#toc0_)"
      ]
    },
    {
      "cell_type": "code",
      "execution_count": 21,
      "metadata": {
        "colab": {
          "base_uri": "https://localhost:8080/"
        },
        "id": "om_wELaDewPB",
        "outputId": "cc793181-1674-4b61-cd92-e86072b149c2"
      },
      "outputs": [],
      "source": [
        "#!pip install pycaret\n",
        "#!pip install markupsafe==2.0.1\n",
        "#!pip install numpy==1.20\n",
        "#!pip install mlflow"
      ]
    },
    {
      "cell_type": "code",
      "execution_count": 22,
      "metadata": {},
      "outputs": [],
      "source": [
        "import numpy as np\n",
        "import pandas as pd\n",
        "import time\n",
        "from sklearn.impute import KNNImputer"
      ]
    },
    {
      "cell_type": "markdown",
      "metadata": {},
      "source": [
        "# <a id='toc2_'></a>[Regression](#toc0_)"
      ]
    },
    {
      "cell_type": "code",
      "execution_count": 23,
      "metadata": {},
      "outputs": [],
      "source": [
        "from pycaret.regression import *"
      ]
    },
    {
      "cell_type": "code",
      "execution_count": 24,
      "metadata": {
        "colab": {
          "base_uri": "https://localhost:8080/",
          "height": 206
        },
        "id": "PwtvHbLFfdC6",
        "outputId": "095651c4-04dd-4ce5-ff10-4eef170128fa"
      },
      "outputs": [
        {
          "data": {
            "text/plain": [
              "(20640, 10)"
            ]
          },
          "execution_count": 24,
          "metadata": {},
          "output_type": "execute_result"
        }
      ],
      "source": [
        "housing_data = pd.read_csv('https://raw.githubusercontent.com/sabinagio/data-analytics/main/data/california_housing_census.csv')\n",
        "housing_data.shape"
      ]
    },
    {
      "cell_type": "code",
      "execution_count": null,
      "metadata": {},
      "outputs": [],
      "source": [
        "# Shrink the dataset to make experiments simpler, i.e. faster to run, hopefully\n",
        "housing = housing_data.copy().sample(500)\n",
        "print(housing.shape)"
      ]
    },
    {
      "cell_type": "markdown",
      "metadata": {},
      "source": [
        "## <a id='toc2_1_'></a>[Setting up an experiment](#toc0_)"
      ]
    },
    {
      "cell_type": "code",
      "execution_count": 41,
      "metadata": {},
      "outputs": [
        {
          "data": {
            "text/html": [
              "<style type=\"text/css\">\n",
              "#T_18a8f_row10_col1, #T_18a8f_row16_col1 {\n",
              "  background-color: lightgreen;\n",
              "}\n",
              "</style>\n",
              "<table id=\"T_18a8f\">\n",
              "  <thead>\n",
              "    <tr>\n",
              "      <th class=\"blank level0\" >&nbsp;</th>\n",
              "      <th id=\"T_18a8f_level0_col0\" class=\"col_heading level0 col0\" >Description</th>\n",
              "      <th id=\"T_18a8f_level0_col1\" class=\"col_heading level0 col1\" >Value</th>\n",
              "    </tr>\n",
              "  </thead>\n",
              "  <tbody>\n",
              "    <tr>\n",
              "      <th id=\"T_18a8f_level0_row0\" class=\"row_heading level0 row0\" >0</th>\n",
              "      <td id=\"T_18a8f_row0_col0\" class=\"data row0 col0\" >Session id</td>\n",
              "      <td id=\"T_18a8f_row0_col1\" class=\"data row0 col1\" >10</td>\n",
              "    </tr>\n",
              "    <tr>\n",
              "      <th id=\"T_18a8f_level0_row1\" class=\"row_heading level0 row1\" >1</th>\n",
              "      <td id=\"T_18a8f_row1_col0\" class=\"data row1 col0\" >Target</td>\n",
              "      <td id=\"T_18a8f_row1_col1\" class=\"data row1 col1\" >median_house_value</td>\n",
              "    </tr>\n",
              "    <tr>\n",
              "      <th id=\"T_18a8f_level0_row2\" class=\"row_heading level0 row2\" >2</th>\n",
              "      <td id=\"T_18a8f_row2_col0\" class=\"data row2 col0\" >Target type</td>\n",
              "      <td id=\"T_18a8f_row2_col1\" class=\"data row2 col1\" >Regression</td>\n",
              "    </tr>\n",
              "    <tr>\n",
              "      <th id=\"T_18a8f_level0_row3\" class=\"row_heading level0 row3\" >3</th>\n",
              "      <td id=\"T_18a8f_row3_col0\" class=\"data row3 col0\" >Original data shape</td>\n",
              "      <td id=\"T_18a8f_row3_col1\" class=\"data row3 col1\" >(500, 10)</td>\n",
              "    </tr>\n",
              "    <tr>\n",
              "      <th id=\"T_18a8f_level0_row4\" class=\"row_heading level0 row4\" >4</th>\n",
              "      <td id=\"T_18a8f_row4_col0\" class=\"data row4 col0\" >Transformed data shape</td>\n",
              "      <td id=\"T_18a8f_row4_col1\" class=\"data row4 col1\" >(500, 13)</td>\n",
              "    </tr>\n",
              "    <tr>\n",
              "      <th id=\"T_18a8f_level0_row5\" class=\"row_heading level0 row5\" >5</th>\n",
              "      <td id=\"T_18a8f_row5_col0\" class=\"data row5 col0\" >Transformed train set shape</td>\n",
              "      <td id=\"T_18a8f_row5_col1\" class=\"data row5 col1\" >(350, 13)</td>\n",
              "    </tr>\n",
              "    <tr>\n",
              "      <th id=\"T_18a8f_level0_row6\" class=\"row_heading level0 row6\" >6</th>\n",
              "      <td id=\"T_18a8f_row6_col0\" class=\"data row6 col0\" >Transformed test set shape</td>\n",
              "      <td id=\"T_18a8f_row6_col1\" class=\"data row6 col1\" >(150, 13)</td>\n",
              "    </tr>\n",
              "    <tr>\n",
              "      <th id=\"T_18a8f_level0_row7\" class=\"row_heading level0 row7\" >7</th>\n",
              "      <td id=\"T_18a8f_row7_col0\" class=\"data row7 col0\" >Numeric features</td>\n",
              "      <td id=\"T_18a8f_row7_col1\" class=\"data row7 col1\" >8</td>\n",
              "    </tr>\n",
              "    <tr>\n",
              "      <th id=\"T_18a8f_level0_row8\" class=\"row_heading level0 row8\" >8</th>\n",
              "      <td id=\"T_18a8f_row8_col0\" class=\"data row8 col0\" >Categorical features</td>\n",
              "      <td id=\"T_18a8f_row8_col1\" class=\"data row8 col1\" >1</td>\n",
              "    </tr>\n",
              "    <tr>\n",
              "      <th id=\"T_18a8f_level0_row9\" class=\"row_heading level0 row9\" >9</th>\n",
              "      <td id=\"T_18a8f_row9_col0\" class=\"data row9 col0\" >Rows with missing values</td>\n",
              "      <td id=\"T_18a8f_row9_col1\" class=\"data row9 col1\" >1.2%</td>\n",
              "    </tr>\n",
              "    <tr>\n",
              "      <th id=\"T_18a8f_level0_row10\" class=\"row_heading level0 row10\" >10</th>\n",
              "      <td id=\"T_18a8f_row10_col0\" class=\"data row10 col0\" >Preprocess</td>\n",
              "      <td id=\"T_18a8f_row10_col1\" class=\"data row10 col1\" >True</td>\n",
              "    </tr>\n",
              "    <tr>\n",
              "      <th id=\"T_18a8f_level0_row11\" class=\"row_heading level0 row11\" >11</th>\n",
              "      <td id=\"T_18a8f_row11_col0\" class=\"data row11 col0\" >Imputation type</td>\n",
              "      <td id=\"T_18a8f_row11_col1\" class=\"data row11 col1\" >simple</td>\n",
              "    </tr>\n",
              "    <tr>\n",
              "      <th id=\"T_18a8f_level0_row12\" class=\"row_heading level0 row12\" >12</th>\n",
              "      <td id=\"T_18a8f_row12_col0\" class=\"data row12 col0\" >Numeric imputation</td>\n",
              "      <td id=\"T_18a8f_row12_col1\" class=\"data row12 col1\" >mean</td>\n",
              "    </tr>\n",
              "    <tr>\n",
              "      <th id=\"T_18a8f_level0_row13\" class=\"row_heading level0 row13\" >13</th>\n",
              "      <td id=\"T_18a8f_row13_col0\" class=\"data row13 col0\" >Categorical imputation</td>\n",
              "      <td id=\"T_18a8f_row13_col1\" class=\"data row13 col1\" >mode</td>\n",
              "    </tr>\n",
              "    <tr>\n",
              "      <th id=\"T_18a8f_level0_row14\" class=\"row_heading level0 row14\" >14</th>\n",
              "      <td id=\"T_18a8f_row14_col0\" class=\"data row14 col0\" >Maximum one-hot encoding</td>\n",
              "      <td id=\"T_18a8f_row14_col1\" class=\"data row14 col1\" >25</td>\n",
              "    </tr>\n",
              "    <tr>\n",
              "      <th id=\"T_18a8f_level0_row15\" class=\"row_heading level0 row15\" >15</th>\n",
              "      <td id=\"T_18a8f_row15_col0\" class=\"data row15 col0\" >Encoding method</td>\n",
              "      <td id=\"T_18a8f_row15_col1\" class=\"data row15 col1\" >None</td>\n",
              "    </tr>\n",
              "    <tr>\n",
              "      <th id=\"T_18a8f_level0_row16\" class=\"row_heading level0 row16\" >16</th>\n",
              "      <td id=\"T_18a8f_row16_col0\" class=\"data row16 col0\" >Normalize</td>\n",
              "      <td id=\"T_18a8f_row16_col1\" class=\"data row16 col1\" >True</td>\n",
              "    </tr>\n",
              "    <tr>\n",
              "      <th id=\"T_18a8f_level0_row17\" class=\"row_heading level0 row17\" >17</th>\n",
              "      <td id=\"T_18a8f_row17_col0\" class=\"data row17 col0\" >Normalize method</td>\n",
              "      <td id=\"T_18a8f_row17_col1\" class=\"data row17 col1\" >zscore</td>\n",
              "    </tr>\n",
              "    <tr>\n",
              "      <th id=\"T_18a8f_level0_row18\" class=\"row_heading level0 row18\" >18</th>\n",
              "      <td id=\"T_18a8f_row18_col0\" class=\"data row18 col0\" >Fold Generator</td>\n",
              "      <td id=\"T_18a8f_row18_col1\" class=\"data row18 col1\" >KFold</td>\n",
              "    </tr>\n",
              "    <tr>\n",
              "      <th id=\"T_18a8f_level0_row19\" class=\"row_heading level0 row19\" >19</th>\n",
              "      <td id=\"T_18a8f_row19_col0\" class=\"data row19 col0\" >Fold Number</td>\n",
              "      <td id=\"T_18a8f_row19_col1\" class=\"data row19 col1\" >10</td>\n",
              "    </tr>\n",
              "    <tr>\n",
              "      <th id=\"T_18a8f_level0_row20\" class=\"row_heading level0 row20\" >20</th>\n",
              "      <td id=\"T_18a8f_row20_col0\" class=\"data row20 col0\" >CPU Jobs</td>\n",
              "      <td id=\"T_18a8f_row20_col1\" class=\"data row20 col1\" >-1</td>\n",
              "    </tr>\n",
              "    <tr>\n",
              "      <th id=\"T_18a8f_level0_row21\" class=\"row_heading level0 row21\" >21</th>\n",
              "      <td id=\"T_18a8f_row21_col0\" class=\"data row21 col0\" >Use GPU</td>\n",
              "      <td id=\"T_18a8f_row21_col1\" class=\"data row21 col1\" >False</td>\n",
              "    </tr>\n",
              "    <tr>\n",
              "      <th id=\"T_18a8f_level0_row22\" class=\"row_heading level0 row22\" >22</th>\n",
              "      <td id=\"T_18a8f_row22_col0\" class=\"data row22 col0\" >Log Experiment</td>\n",
              "      <td id=\"T_18a8f_row22_col1\" class=\"data row22 col1\" >MlflowLogger</td>\n",
              "    </tr>\n",
              "    <tr>\n",
              "      <th id=\"T_18a8f_level0_row23\" class=\"row_heading level0 row23\" >23</th>\n",
              "      <td id=\"T_18a8f_row23_col0\" class=\"data row23 col0\" >Experiment Name</td>\n",
              "      <td id=\"T_18a8f_row23_col1\" class=\"data row23 col1\" >reg-default-name</td>\n",
              "    </tr>\n",
              "    <tr>\n",
              "      <th id=\"T_18a8f_level0_row24\" class=\"row_heading level0 row24\" >24</th>\n",
              "      <td id=\"T_18a8f_row24_col0\" class=\"data row24 col0\" >USI</td>\n",
              "      <td id=\"T_18a8f_row24_col1\" class=\"data row24 col1\" >2998</td>\n",
              "    </tr>\n",
              "  </tbody>\n",
              "</table>\n"
            ],
            "text/plain": [
              "<pandas.io.formats.style.Styler at 0x1d0eea92790>"
            ]
          },
          "metadata": {},
          "output_type": "display_data"
        }
      ],
      "source": [
        "# Exp with normalization, seed\n",
        "exp = setup(\n",
        "    housing, \n",
        "    target='median_house_value',\n",
        "    normalize=True, \n",
        "    # fold=5,\n",
        "    session_id=10,\n",
        "    log_experiment='mlflow', \n",
        "    log_plots=True, \n",
        "    log_data=True\n",
        "    )"
      ]
    },
    {
      "cell_type": "markdown",
      "metadata": {},
      "source": [
        "Most of this can be found in the full-on documentation: https://pycaret.readthedocs.io/en/stable/api/regression.html\n",
        "\n",
        "#### <a id='toc2_1_1_1_'></a>[Preprocessing](#toc0_)\n",
        "\n",
        "The cool thing about pycaret is that you can personalize a gazillion things off the bat. A couple of things that I found useful to work with:\n",
        "\n",
        "- `ordinal_features` - which features to be encoded ordinally. By default, pycaret uses One-Hot Encoding for all categorical features. \n",
        "\n",
        "- `max_encoding_ohe` - when to stop doing OHE. By default, if a categorical feature has more than 25 categories, pycaret defaults to target encoding. When dealing with a regression problem, target encoding takes the mean of the target per group (only in the training set!). When dealing with a classification problem, target encoding uses the probability of an outcome happening in each of the groups.\n",
        "\n",
        "- `ignore_features` - which features to ignore during modelling.\n",
        "\n",
        "- `keep_features` - which features to never remove during preprocessing. **Attention:** The moel might still have other features, this option is simply there so these features can't be removed.\n",
        "\n",
        "- `numeric_imputation`, `categorical_imputation` - to select how to fill in NaNs.\n",
        "\n",
        "- `remove_multicollinearity`, `multicollinearity_threshold` - uses Pearson (linear) correlation to remove highly correlated variables.\n",
        "\n",
        "- `remove_outliers`, `outliers_method` - this one doesn't remove outliers by [typical methods](https://archive.is/ruhhQ) but instead uses outlier detection algorithms such as `IsolationForest`, `EllipticEnvelope`, and `LocalOutlierFactor`\n",
        "\n",
        "- `normalize`, `normalize_method` - how to normalize/scale the data\n",
        "\n",
        "Other cool stuff:  \n",
        "\n",
        "- `polynomial_features`, `polynomial_degree` - whether to create new features using the polynomials of existing features.\n",
        "\n",
        "- `transformation`, `transformation_method` - whether to apply any transformation on the feature, in pycaret we have yeo-johnson (aka a log-transform adapted for negative values) and quantile transform (which I never used but it maps the current distribution into a to desired distribution). More easy to interpret transformations are sqrt and log transforms. There are separate options to transform the target, i.e. `transform_target` and `transform_target_method`.\n",
        "\n",
        "- `pca`, `pca_method`, `pca_components` - whether to apply PCA for feature extraction & compression.\n",
        "\n",
        "**Note:** While pycaret is great for doing blanket transformations over numerical/categorical variables, it starts to break down when you need a higher level of granularity, e.g. when you want to remove outliers/apply transformations only in certain columns. However, it's a great library to help you start off a project, i.e. get something up-and-running quickly."
      ]
    },
    {
      "cell_type": "code",
      "execution_count": 33,
      "metadata": {},
      "outputs": [
        {
          "data": {
            "text/html": [
              "<div>\n",
              "<style scoped>\n",
              "    .dataframe tbody tr th:only-of-type {\n",
              "        vertical-align: middle;\n",
              "    }\n",
              "\n",
              "    .dataframe tbody tr th {\n",
              "        vertical-align: top;\n",
              "    }\n",
              "\n",
              "    .dataframe thead th {\n",
              "        text-align: right;\n",
              "    }\n",
              "</style>\n",
              "<table border=\"1\" class=\"dataframe\">\n",
              "  <thead>\n",
              "    <tr style=\"text-align: right;\">\n",
              "      <th></th>\n",
              "      <th>longitude</th>\n",
              "      <th>latitude</th>\n",
              "      <th>housing_median_age</th>\n",
              "      <th>total_rooms</th>\n",
              "      <th>total_bedrooms</th>\n",
              "      <th>population</th>\n",
              "      <th>households</th>\n",
              "      <th>median_income</th>\n",
              "      <th>ocean_proximity</th>\n",
              "    </tr>\n",
              "  </thead>\n",
              "  <tbody>\n",
              "    <tr>\n",
              "      <th>6317</th>\n",
              "      <td>-117.970001</td>\n",
              "      <td>34.009998</td>\n",
              "      <td>33.0</td>\n",
              "      <td>3530.0</td>\n",
              "      <td>700.0</td>\n",
              "      <td>2959.0</td>\n",
              "      <td>679.0</td>\n",
              "      <td>3.7459</td>\n",
              "      <td>&lt;1H OCEAN</td>\n",
              "    </tr>\n",
              "    <tr>\n",
              "      <th>7036</th>\n",
              "      <td>-118.080002</td>\n",
              "      <td>33.959999</td>\n",
              "      <td>35.0</td>\n",
              "      <td>2104.0</td>\n",
              "      <td>399.0</td>\n",
              "      <td>1659.0</td>\n",
              "      <td>387.0</td>\n",
              "      <td>4.0096</td>\n",
              "      <td>&lt;1H OCEAN</td>\n",
              "    </tr>\n",
              "    <tr>\n",
              "      <th>9828</th>\n",
              "      <td>-121.910004</td>\n",
              "      <td>36.619999</td>\n",
              "      <td>52.0</td>\n",
              "      <td>541.0</td>\n",
              "      <td>157.0</td>\n",
              "      <td>240.0</td>\n",
              "      <td>145.0</td>\n",
              "      <td>3.5865</td>\n",
              "      <td>&lt;1H OCEAN</td>\n",
              "    </tr>\n",
              "    <tr>\n",
              "      <th>605</th>\n",
              "      <td>-122.070000</td>\n",
              "      <td>37.689999</td>\n",
              "      <td>31.0</td>\n",
              "      <td>5914.0</td>\n",
              "      <td>1309.0</td>\n",
              "      <td>2999.0</td>\n",
              "      <td>1295.0</td>\n",
              "      <td>3.0964</td>\n",
              "      <td>NEAR BAY</td>\n",
              "    </tr>\n",
              "    <tr>\n",
              "      <th>9695</th>\n",
              "      <td>-121.610001</td>\n",
              "      <td>36.680000</td>\n",
              "      <td>37.0</td>\n",
              "      <td>3149.0</td>\n",
              "      <td>833.0</td>\n",
              "      <td>3456.0</td>\n",
              "      <td>788.0</td>\n",
              "      <td>2.8542</td>\n",
              "      <td>&lt;1H OCEAN</td>\n",
              "    </tr>\n",
              "    <tr>\n",
              "      <th>...</th>\n",
              "      <td>...</td>\n",
              "      <td>...</td>\n",
              "      <td>...</td>\n",
              "      <td>...</td>\n",
              "      <td>...</td>\n",
              "      <td>...</td>\n",
              "      <td>...</td>\n",
              "      <td>...</td>\n",
              "      <td>...</td>\n",
              "    </tr>\n",
              "    <tr>\n",
              "      <th>17863</th>\n",
              "      <td>-121.910004</td>\n",
              "      <td>37.419998</td>\n",
              "      <td>19.0</td>\n",
              "      <td>1684.0</td>\n",
              "      <td>387.0</td>\n",
              "      <td>1224.0</td>\n",
              "      <td>376.0</td>\n",
              "      <td>4.1389</td>\n",
              "      <td>&lt;1H OCEAN</td>\n",
              "    </tr>\n",
              "    <tr>\n",
              "      <th>6821</th>\n",
              "      <td>-118.089996</td>\n",
              "      <td>34.080002</td>\n",
              "      <td>33.0</td>\n",
              "      <td>1430.0</td>\n",
              "      <td>344.0</td>\n",
              "      <td>1165.0</td>\n",
              "      <td>328.0</td>\n",
              "      <td>3.0357</td>\n",
              "      <td>&lt;1H OCEAN</td>\n",
              "    </tr>\n",
              "    <tr>\n",
              "      <th>6645</th>\n",
              "      <td>-118.150002</td>\n",
              "      <td>34.169998</td>\n",
              "      <td>36.0</td>\n",
              "      <td>930.0</td>\n",
              "      <td>280.0</td>\n",
              "      <td>1024.0</td>\n",
              "      <td>300.0</td>\n",
              "      <td>1.0846</td>\n",
              "      <td>&lt;1H OCEAN</td>\n",
              "    </tr>\n",
              "    <tr>\n",
              "      <th>6229</th>\n",
              "      <td>-117.940002</td>\n",
              "      <td>34.060001</td>\n",
              "      <td>32.0</td>\n",
              "      <td>3418.0</td>\n",
              "      <td>662.0</td>\n",
              "      <td>2003.0</td>\n",
              "      <td>622.0</td>\n",
              "      <td>4.0333</td>\n",
              "      <td>&lt;1H OCEAN</td>\n",
              "    </tr>\n",
              "    <tr>\n",
              "      <th>12679</th>\n",
              "      <td>-121.379997</td>\n",
              "      <td>38.549999</td>\n",
              "      <td>26.0</td>\n",
              "      <td>1532.0</td>\n",
              "      <td>264.0</td>\n",
              "      <td>781.0</td>\n",
              "      <td>285.0</td>\n",
              "      <td>4.6944</td>\n",
              "      <td>INLAND</td>\n",
              "    </tr>\n",
              "  </tbody>\n",
              "</table>\n",
              "<p>150 rows × 9 columns</p>\n",
              "</div>"
            ],
            "text/plain": [
              "        longitude   latitude  housing_median_age  total_rooms  total_bedrooms  \\\n",
              "6317  -117.970001  34.009998                33.0       3530.0           700.0   \n",
              "7036  -118.080002  33.959999                35.0       2104.0           399.0   \n",
              "9828  -121.910004  36.619999                52.0        541.0           157.0   \n",
              "605   -122.070000  37.689999                31.0       5914.0          1309.0   \n",
              "9695  -121.610001  36.680000                37.0       3149.0           833.0   \n",
              "...           ...        ...                 ...          ...             ...   \n",
              "17863 -121.910004  37.419998                19.0       1684.0           387.0   \n",
              "6821  -118.089996  34.080002                33.0       1430.0           344.0   \n",
              "6645  -118.150002  34.169998                36.0        930.0           280.0   \n",
              "6229  -117.940002  34.060001                32.0       3418.0           662.0   \n",
              "12679 -121.379997  38.549999                26.0       1532.0           264.0   \n",
              "\n",
              "       population  households  median_income ocean_proximity  \n",
              "6317       2959.0       679.0         3.7459       <1H OCEAN  \n",
              "7036       1659.0       387.0         4.0096       <1H OCEAN  \n",
              "9828        240.0       145.0         3.5865       <1H OCEAN  \n",
              "605        2999.0      1295.0         3.0964        NEAR BAY  \n",
              "9695       3456.0       788.0         2.8542       <1H OCEAN  \n",
              "...           ...         ...            ...             ...  \n",
              "17863      1224.0       376.0         4.1389       <1H OCEAN  \n",
              "6821       1165.0       328.0         3.0357       <1H OCEAN  \n",
              "6645       1024.0       300.0         1.0846       <1H OCEAN  \n",
              "6229       2003.0       622.0         4.0333       <1H OCEAN  \n",
              "12679       781.0       285.0         4.6944          INLAND  \n",
              "\n",
              "[150 rows x 9 columns]"
            ]
          },
          "execution_count": 33,
          "metadata": {},
          "output_type": "execute_result"
        }
      ],
      "source": [
        "# You can access directly X_train, X_test, etc.\n",
        "exp.X_test  "
      ]
    },
    {
      "cell_type": "code",
      "execution_count": 34,
      "metadata": {},
      "outputs": [
        {
          "data": {
            "text/html": [
              "<div>\n",
              "<style scoped>\n",
              "    .dataframe tbody tr th:only-of-type {\n",
              "        vertical-align: middle;\n",
              "    }\n",
              "\n",
              "    .dataframe tbody tr th {\n",
              "        vertical-align: top;\n",
              "    }\n",
              "\n",
              "    .dataframe thead th {\n",
              "        text-align: right;\n",
              "    }\n",
              "</style>\n",
              "<table border=\"1\" class=\"dataframe\">\n",
              "  <thead>\n",
              "    <tr style=\"text-align: right;\">\n",
              "      <th></th>\n",
              "      <th>longitude</th>\n",
              "      <th>latitude</th>\n",
              "      <th>housing_median_age</th>\n",
              "      <th>total_rooms</th>\n",
              "      <th>total_bedrooms</th>\n",
              "      <th>population</th>\n",
              "      <th>households</th>\n",
              "      <th>median_income</th>\n",
              "      <th>ocean_proximity_INLAND</th>\n",
              "      <th>ocean_proximity_NEAR BAY</th>\n",
              "      <th>ocean_proximity_&lt;1H OCEAN</th>\n",
              "      <th>ocean_proximity_NEAR OCEAN</th>\n",
              "    </tr>\n",
              "  </thead>\n",
              "  <tbody>\n",
              "    <tr>\n",
              "      <th>6317</th>\n",
              "      <td>0.849920</td>\n",
              "      <td>-0.813570</td>\n",
              "      <td>0.328120</td>\n",
              "      <td>0.294735</td>\n",
              "      <td>0.325208</td>\n",
              "      <td>1.168645</td>\n",
              "      <td>0.394904</td>\n",
              "      <td>-0.062853</td>\n",
              "      <td>-0.668043</td>\n",
              "      <td>-0.388993</td>\n",
              "      <td>1.154701</td>\n",
              "      <td>-0.388993</td>\n",
              "    </tr>\n",
              "    <tr>\n",
              "      <th>7036</th>\n",
              "      <td>0.795565</td>\n",
              "      <td>-0.837002</td>\n",
              "      <td>0.489528</td>\n",
              "      <td>-0.207454</td>\n",
              "      <td>-0.279933</td>\n",
              "      <td>0.172914</td>\n",
              "      <td>-0.265423</td>\n",
              "      <td>0.074992</td>\n",
              "      <td>-0.668043</td>\n",
              "      <td>-0.388993</td>\n",
              "      <td>1.154701</td>\n",
              "      <td>-0.388993</td>\n",
              "    </tr>\n",
              "    <tr>\n",
              "      <th>9828</th>\n",
              "      <td>-1.096993</td>\n",
              "      <td>0.409596</td>\n",
              "      <td>1.861497</td>\n",
              "      <td>-0.757890</td>\n",
              "      <td>-0.766459</td>\n",
              "      <td>-0.913966</td>\n",
              "      <td>-0.812681</td>\n",
              "      <td>-0.146176</td>\n",
              "      <td>-0.668043</td>\n",
              "      <td>-0.388993</td>\n",
              "      <td>1.154701</td>\n",
              "      <td>-0.388993</td>\n",
              "    </tr>\n",
              "    <tr>\n",
              "      <th>605</th>\n",
              "      <td>-1.176053</td>\n",
              "      <td>0.911047</td>\n",
              "      <td>0.166712</td>\n",
              "      <td>1.134299</td>\n",
              "      <td>1.549565</td>\n",
              "      <td>1.199283</td>\n",
              "      <td>1.787923</td>\n",
              "      <td>-0.402368</td>\n",
              "      <td>-0.668043</td>\n",
              "      <td>2.570738</td>\n",
              "      <td>-0.866025</td>\n",
              "      <td>-0.388993</td>\n",
              "    </tr>\n",
              "    <tr>\n",
              "      <th>9695</th>\n",
              "      <td>-0.948749</td>\n",
              "      <td>0.437715</td>\n",
              "      <td>0.650936</td>\n",
              "      <td>0.160560</td>\n",
              "      <td>0.592597</td>\n",
              "      <td>1.549321</td>\n",
              "      <td>0.641396</td>\n",
              "      <td>-0.528974</td>\n",
              "      <td>-0.668043</td>\n",
              "      <td>-0.388993</td>\n",
              "      <td>1.154701</td>\n",
              "      <td>-0.388993</td>\n",
              "    </tr>\n",
              "    <tr>\n",
              "      <th>...</th>\n",
              "      <td>...</td>\n",
              "      <td>...</td>\n",
              "      <td>...</td>\n",
              "      <td>...</td>\n",
              "      <td>...</td>\n",
              "      <td>...</td>\n",
              "      <td>...</td>\n",
              "      <td>...</td>\n",
              "      <td>...</td>\n",
              "      <td>...</td>\n",
              "      <td>...</td>\n",
              "      <td>...</td>\n",
              "    </tr>\n",
              "    <tr>\n",
              "      <th>17863</th>\n",
              "      <td>-1.096993</td>\n",
              "      <td>0.784512</td>\n",
              "      <td>-0.801737</td>\n",
              "      <td>-0.355364</td>\n",
              "      <td>-0.304058</td>\n",
              "      <td>-0.160273</td>\n",
              "      <td>-0.290298</td>\n",
              "      <td>0.142581</td>\n",
              "      <td>-0.668043</td>\n",
              "      <td>-0.388993</td>\n",
              "      <td>1.154701</td>\n",
              "      <td>-0.388993</td>\n",
              "    </tr>\n",
              "    <tr>\n",
              "      <th>6821</th>\n",
              "      <td>0.790626</td>\n",
              "      <td>-0.780763</td>\n",
              "      <td>0.328120</td>\n",
              "      <td>-0.444814</td>\n",
              "      <td>-0.390507</td>\n",
              "      <td>-0.205464</td>\n",
              "      <td>-0.398845</td>\n",
              "      <td>-0.434098</td>\n",
              "      <td>-0.668043</td>\n",
              "      <td>-0.388993</td>\n",
              "      <td>1.154701</td>\n",
              "      <td>-0.388993</td>\n",
              "    </tr>\n",
              "    <tr>\n",
              "      <th>6645</th>\n",
              "      <td>0.760975</td>\n",
              "      <td>-0.738587</td>\n",
              "      <td>0.570232</td>\n",
              "      <td>-0.620897</td>\n",
              "      <td>-0.519175</td>\n",
              "      <td>-0.313463</td>\n",
              "      <td>-0.462164</td>\n",
              "      <td>-1.454001</td>\n",
              "      <td>-0.668043</td>\n",
              "      <td>-0.388993</td>\n",
              "      <td>1.154701</td>\n",
              "      <td>-0.388993</td>\n",
              "    </tr>\n",
              "    <tr>\n",
              "      <th>6229</th>\n",
              "      <td>0.864744</td>\n",
              "      <td>-0.790136</td>\n",
              "      <td>0.247416</td>\n",
              "      <td>0.255292</td>\n",
              "      <td>0.248812</td>\n",
              "      <td>0.436400</td>\n",
              "      <td>0.266005</td>\n",
              "      <td>0.087381</td>\n",
              "      <td>-0.668043</td>\n",
              "      <td>-0.388993</td>\n",
              "      <td>1.154701</td>\n",
              "      <td>-0.388993</td>\n",
              "    </tr>\n",
              "    <tr>\n",
              "      <th>12679</th>\n",
              "      <td>-0.835095</td>\n",
              "      <td>1.314082</td>\n",
              "      <td>-0.236809</td>\n",
              "      <td>-0.408893</td>\n",
              "      <td>-0.551342</td>\n",
              "      <td>-0.499588</td>\n",
              "      <td>-0.496085</td>\n",
              "      <td>0.432959</td>\n",
              "      <td>1.496910</td>\n",
              "      <td>-0.388993</td>\n",
              "      <td>-0.866025</td>\n",
              "      <td>-0.388993</td>\n",
              "    </tr>\n",
              "  </tbody>\n",
              "</table>\n",
              "<p>150 rows × 12 columns</p>\n",
              "</div>"
            ],
            "text/plain": [
              "       longitude  latitude  housing_median_age  total_rooms  total_bedrooms  \\\n",
              "6317    0.849920 -0.813570            0.328120     0.294735        0.325208   \n",
              "7036    0.795565 -0.837002            0.489528    -0.207454       -0.279933   \n",
              "9828   -1.096993  0.409596            1.861497    -0.757890       -0.766459   \n",
              "605    -1.176053  0.911047            0.166712     1.134299        1.549565   \n",
              "9695   -0.948749  0.437715            0.650936     0.160560        0.592597   \n",
              "...          ...       ...                 ...          ...             ...   \n",
              "17863  -1.096993  0.784512           -0.801737    -0.355364       -0.304058   \n",
              "6821    0.790626 -0.780763            0.328120    -0.444814       -0.390507   \n",
              "6645    0.760975 -0.738587            0.570232    -0.620897       -0.519175   \n",
              "6229    0.864744 -0.790136            0.247416     0.255292        0.248812   \n",
              "12679  -0.835095  1.314082           -0.236809    -0.408893       -0.551342   \n",
              "\n",
              "       population  households  median_income  ocean_proximity_INLAND  \\\n",
              "6317     1.168645    0.394904      -0.062853               -0.668043   \n",
              "7036     0.172914   -0.265423       0.074992               -0.668043   \n",
              "9828    -0.913966   -0.812681      -0.146176               -0.668043   \n",
              "605      1.199283    1.787923      -0.402368               -0.668043   \n",
              "9695     1.549321    0.641396      -0.528974               -0.668043   \n",
              "...           ...         ...            ...                     ...   \n",
              "17863   -0.160273   -0.290298       0.142581               -0.668043   \n",
              "6821    -0.205464   -0.398845      -0.434098               -0.668043   \n",
              "6645    -0.313463   -0.462164      -1.454001               -0.668043   \n",
              "6229     0.436400    0.266005       0.087381               -0.668043   \n",
              "12679   -0.499588   -0.496085       0.432959                1.496910   \n",
              "\n",
              "       ocean_proximity_NEAR BAY  ocean_proximity_<1H OCEAN  \\\n",
              "6317                  -0.388993                   1.154701   \n",
              "7036                  -0.388993                   1.154701   \n",
              "9828                  -0.388993                   1.154701   \n",
              "605                    2.570738                  -0.866025   \n",
              "9695                  -0.388993                   1.154701   \n",
              "...                         ...                        ...   \n",
              "17863                 -0.388993                   1.154701   \n",
              "6821                  -0.388993                   1.154701   \n",
              "6645                  -0.388993                   1.154701   \n",
              "6229                  -0.388993                   1.154701   \n",
              "12679                 -0.388993                  -0.866025   \n",
              "\n",
              "       ocean_proximity_NEAR OCEAN  \n",
              "6317                    -0.388993  \n",
              "7036                    -0.388993  \n",
              "9828                    -0.388993  \n",
              "605                     -0.388993  \n",
              "9695                    -0.388993  \n",
              "...                           ...  \n",
              "17863                   -0.388993  \n",
              "6821                    -0.388993  \n",
              "6645                    -0.388993  \n",
              "6229                    -0.388993  \n",
              "12679                   -0.388993  \n",
              "\n",
              "[150 rows x 12 columns]"
            ]
          },
          "execution_count": 34,
          "metadata": {},
          "output_type": "execute_result"
        }
      ],
      "source": [
        "exp.X_test_transformed"
      ]
    },
    {
      "cell_type": "code",
      "execution_count": 35,
      "metadata": {},
      "outputs": [
        {
          "data": {
            "text/plain": [
              "10"
            ]
          },
          "execution_count": 35,
          "metadata": {},
          "output_type": "execute_result"
        }
      ],
      "source": [
        "exp.get_config('seed')"
      ]
    },
    {
      "cell_type": "markdown",
      "metadata": {},
      "source": [
        "## <a id='toc2_2_'></a>[Modelling](#toc0_)"
      ]
    },
    {
      "cell_type": "markdown",
      "metadata": {},
      "source": [
        "PyCaret is great not only because it allows you to set a crazy amount of preprocessing options but also because it allows you to compare model performance crazy easy:"
      ]
    },
    {
      "cell_type": "code",
      "execution_count": 42,
      "metadata": {
        "colab": {
          "base_uri": "https://localhost:8080/",
          "height": 645,
          "referenced_widgets": [
            "0eb23e20f6b04a86a58c1c193d5481fc",
            "4978b2c64187436ca294ef510263e668",
            "1eae4830d06e42a6b344a535ad2faf8a",
            "f05803c144ce4e74aad745fd5cf90426",
            "cf9ab3afd5814a4ebed76d31ef6d7568",
            "f293613faaba403190d78a2d7d0d211b",
            "62992922593e4d00b44b8c257a2b1972",
            "a06aa8e0d0864aabaa410e8f5d1f9eeb",
            "717ed9fe2201447d898da60d5ca0cdec",
            "9830d87c17924508be04be9a4313b1e4",
            "46d13fe25df942a1933620b297d40abe"
          ]
        },
        "id": "LsmZVfz2n_R6",
        "outputId": "75afb638-79ae-41b1-cfa4-d2457ce65ad9"
      },
      "outputs": [
        {
          "data": {
            "text/html": [],
            "text/plain": [
              "<IPython.core.display.HTML object>"
            ]
          },
          "metadata": {},
          "output_type": "display_data"
        },
        {
          "data": {
            "text/html": [
              "<style type=\"text/css\">\n",
              "#T_90ad7 th {\n",
              "  text-align: left;\n",
              "}\n",
              "#T_90ad7_row0_col0, #T_90ad7_row1_col0, #T_90ad7_row1_col1, #T_90ad7_row1_col2, #T_90ad7_row1_col3, #T_90ad7_row1_col4, #T_90ad7_row1_col5, #T_90ad7_row1_col6, #T_90ad7_row2_col0, #T_90ad7_row2_col1, #T_90ad7_row2_col2, #T_90ad7_row2_col3, #T_90ad7_row2_col4, #T_90ad7_row2_col5, #T_90ad7_row2_col6, #T_90ad7_row3_col0, #T_90ad7_row3_col1, #T_90ad7_row3_col2, #T_90ad7_row3_col3, #T_90ad7_row3_col4, #T_90ad7_row3_col5, #T_90ad7_row3_col6 {\n",
              "  text-align: left;\n",
              "}\n",
              "#T_90ad7_row0_col1, #T_90ad7_row0_col2, #T_90ad7_row0_col3, #T_90ad7_row0_col4, #T_90ad7_row0_col5, #T_90ad7_row0_col6 {\n",
              "  text-align: left;\n",
              "  background-color: yellow;\n",
              "}\n",
              "#T_90ad7_row0_col7, #T_90ad7_row1_col7, #T_90ad7_row3_col7 {\n",
              "  text-align: left;\n",
              "  background-color: lightgrey;\n",
              "}\n",
              "#T_90ad7_row2_col7 {\n",
              "  text-align: left;\n",
              "  background-color: yellow;\n",
              "  background-color: lightgrey;\n",
              "}\n",
              "</style>\n",
              "<table id=\"T_90ad7\">\n",
              "  <thead>\n",
              "    <tr>\n",
              "      <th class=\"blank level0\" >&nbsp;</th>\n",
              "      <th id=\"T_90ad7_level0_col0\" class=\"col_heading level0 col0\" >Model</th>\n",
              "      <th id=\"T_90ad7_level0_col1\" class=\"col_heading level0 col1\" >MAE</th>\n",
              "      <th id=\"T_90ad7_level0_col2\" class=\"col_heading level0 col2\" >MSE</th>\n",
              "      <th id=\"T_90ad7_level0_col3\" class=\"col_heading level0 col3\" >RMSE</th>\n",
              "      <th id=\"T_90ad7_level0_col4\" class=\"col_heading level0 col4\" >R2</th>\n",
              "      <th id=\"T_90ad7_level0_col5\" class=\"col_heading level0 col5\" >RMSLE</th>\n",
              "      <th id=\"T_90ad7_level0_col6\" class=\"col_heading level0 col6\" >MAPE</th>\n",
              "      <th id=\"T_90ad7_level0_col7\" class=\"col_heading level0 col7\" >TT (Sec)</th>\n",
              "    </tr>\n",
              "  </thead>\n",
              "  <tbody>\n",
              "    <tr>\n",
              "      <th id=\"T_90ad7_level0_row0\" class=\"row_heading level0 row0\" >rf</th>\n",
              "      <td id=\"T_90ad7_row0_col0\" class=\"data row0 col0\" >Random Forest Regressor</td>\n",
              "      <td id=\"T_90ad7_row0_col1\" class=\"data row0 col1\" >46497.2667</td>\n",
              "      <td id=\"T_90ad7_row0_col2\" class=\"data row0 col2\" >4150050414.1866</td>\n",
              "      <td id=\"T_90ad7_row0_col3\" class=\"data row0 col3\" >63343.6260</td>\n",
              "      <td id=\"T_90ad7_row0_col4\" class=\"data row0 col4\" >0.6696</td>\n",
              "      <td id=\"T_90ad7_row0_col5\" class=\"data row0 col5\" >0.3156</td>\n",
              "      <td id=\"T_90ad7_row0_col6\" class=\"data row0 col6\" >0.2663</td>\n",
              "      <td id=\"T_90ad7_row0_col7\" class=\"data row0 col7\" >0.2990</td>\n",
              "    </tr>\n",
              "    <tr>\n",
              "      <th id=\"T_90ad7_level0_row1\" class=\"row_heading level0 row1\" >lr</th>\n",
              "      <td id=\"T_90ad7_row1_col0\" class=\"data row1 col0\" >Linear Regression</td>\n",
              "      <td id=\"T_90ad7_row1_col1\" class=\"data row1 col1\" >53120.7210</td>\n",
              "      <td id=\"T_90ad7_row1_col2\" class=\"data row1 col2\" >4863336879.0511</td>\n",
              "      <td id=\"T_90ad7_row1_col3\" class=\"data row1 col3\" >68899.8704</td>\n",
              "      <td id=\"T_90ad7_row1_col4\" class=\"data row1 col4\" >0.6011</td>\n",
              "      <td id=\"T_90ad7_row1_col5\" class=\"data row1 col5\" >0.4068</td>\n",
              "      <td id=\"T_90ad7_row1_col6\" class=\"data row1 col6\" >0.3115</td>\n",
              "      <td id=\"T_90ad7_row1_col7\" class=\"data row1 col7\" >2.8570</td>\n",
              "    </tr>\n",
              "    <tr>\n",
              "      <th id=\"T_90ad7_level0_row2\" class=\"row_heading level0 row2\" >knn</th>\n",
              "      <td id=\"T_90ad7_row2_col0\" class=\"data row2 col0\" >K Neighbors Regressor</td>\n",
              "      <td id=\"T_90ad7_row2_col1\" class=\"data row2 col1\" >60137.7523</td>\n",
              "      <td id=\"T_90ad7_row2_col2\" class=\"data row2 col2\" >6772027545.6000</td>\n",
              "      <td id=\"T_90ad7_row2_col3\" class=\"data row2 col3\" >81695.5828</td>\n",
              "      <td id=\"T_90ad7_row2_col4\" class=\"data row2 col4\" >0.4448</td>\n",
              "      <td id=\"T_90ad7_row2_col5\" class=\"data row2 col5\" >0.3890</td>\n",
              "      <td id=\"T_90ad7_row2_col6\" class=\"data row2 col6\" >0.3284</td>\n",
              "      <td id=\"T_90ad7_row2_col7\" class=\"data row2 col7\" >0.0740</td>\n",
              "    </tr>\n",
              "    <tr>\n",
              "      <th id=\"T_90ad7_level0_row3\" class=\"row_heading level0 row3\" >svm</th>\n",
              "      <td id=\"T_90ad7_row3_col0\" class=\"data row3 col0\" >Support Vector Regression</td>\n",
              "      <td id=\"T_90ad7_row3_col1\" class=\"data row3 col1\" >89489.1881</td>\n",
              "      <td id=\"T_90ad7_row3_col2\" class=\"data row3 col2\" >13812118270.0300</td>\n",
              "      <td id=\"T_90ad7_row3_col3\" class=\"data row3 col3\" >116159.2217</td>\n",
              "      <td id=\"T_90ad7_row3_col4\" class=\"data row3 col4\" >-0.0922</td>\n",
              "      <td id=\"T_90ad7_row3_col5\" class=\"data row3 col5\" >0.5656</td>\n",
              "      <td id=\"T_90ad7_row3_col6\" class=\"data row3 col6\" >0.5314</td>\n",
              "      <td id=\"T_90ad7_row3_col7\" class=\"data row3 col7\" >0.0830</td>\n",
              "    </tr>\n",
              "  </tbody>\n",
              "</table>\n"
            ],
            "text/plain": [
              "<pandas.io.formats.style.Styler at 0x1d0eed56880>"
            ]
          },
          "metadata": {},
          "output_type": "display_data"
        },
        {
          "data": {
            "application/vnd.jupyter.widget-view+json": {
              "model_id": "d1a9c1498efc44298ae1c250f4ebcf50",
              "version_major": 2,
              "version_minor": 0
            },
            "text/plain": [
              "Processing:   0%|          | 0/25 [00:00<?, ?it/s]"
            ]
          },
          "metadata": {},
          "output_type": "display_data"
        }
      ],
      "source": [
        "# This might take a while to run so feel free to include only 1 model!\n",
        "best_model = exp.compare_models(include=['lr', 'rf', 'xgboost', 'svm', 'knn'])\n",
        "\n",
        "# Models included:\n",
        "# lr = linear regression\n",
        "# rf = random forest\n",
        "# xgboost = extreme gradient boosting\n",
        "# svm = support vector machine\n",
        "# knn = k-nearest neighbours"
      ]
    },
    {
      "cell_type": "code",
      "execution_count": 37,
      "metadata": {},
      "outputs": [
        {
          "data": {
            "text/html": [
              "<style>#sk-container-id-3 {color: black;background-color: white;}#sk-container-id-3 pre{padding: 0;}#sk-container-id-3 div.sk-toggleable {background-color: white;}#sk-container-id-3 label.sk-toggleable__label {cursor: pointer;display: block;width: 100%;margin-bottom: 0;padding: 0.3em;box-sizing: border-box;text-align: center;}#sk-container-id-3 label.sk-toggleable__label-arrow:before {content: \"▸\";float: left;margin-right: 0.25em;color: #696969;}#sk-container-id-3 label.sk-toggleable__label-arrow:hover:before {color: black;}#sk-container-id-3 div.sk-estimator:hover label.sk-toggleable__label-arrow:before {color: black;}#sk-container-id-3 div.sk-toggleable__content {max-height: 0;max-width: 0;overflow: hidden;text-align: left;background-color: #f0f8ff;}#sk-container-id-3 div.sk-toggleable__content pre {margin: 0.2em;color: black;border-radius: 0.25em;background-color: #f0f8ff;}#sk-container-id-3 input.sk-toggleable__control:checked~div.sk-toggleable__content {max-height: 200px;max-width: 100%;overflow: auto;}#sk-container-id-3 input.sk-toggleable__control:checked~label.sk-toggleable__label-arrow:before {content: \"▾\";}#sk-container-id-3 div.sk-estimator input.sk-toggleable__control:checked~label.sk-toggleable__label {background-color: #d4ebff;}#sk-container-id-3 div.sk-label input.sk-toggleable__control:checked~label.sk-toggleable__label {background-color: #d4ebff;}#sk-container-id-3 input.sk-hidden--visually {border: 0;clip: rect(1px 1px 1px 1px);clip: rect(1px, 1px, 1px, 1px);height: 1px;margin: -1px;overflow: hidden;padding: 0;position: absolute;width: 1px;}#sk-container-id-3 div.sk-estimator {font-family: monospace;background-color: #f0f8ff;border: 1px dotted black;border-radius: 0.25em;box-sizing: border-box;margin-bottom: 0.5em;}#sk-container-id-3 div.sk-estimator:hover {background-color: #d4ebff;}#sk-container-id-3 div.sk-parallel-item::after {content: \"\";width: 100%;border-bottom: 1px solid gray;flex-grow: 1;}#sk-container-id-3 div.sk-label:hover label.sk-toggleable__label {background-color: #d4ebff;}#sk-container-id-3 div.sk-serial::before {content: \"\";position: absolute;border-left: 1px solid gray;box-sizing: border-box;top: 0;bottom: 0;left: 50%;z-index: 0;}#sk-container-id-3 div.sk-serial {display: flex;flex-direction: column;align-items: center;background-color: white;padding-right: 0.2em;padding-left: 0.2em;position: relative;}#sk-container-id-3 div.sk-item {position: relative;z-index: 1;}#sk-container-id-3 div.sk-parallel {display: flex;align-items: stretch;justify-content: center;background-color: white;position: relative;}#sk-container-id-3 div.sk-item::before, #sk-container-id-3 div.sk-parallel-item::before {content: \"\";position: absolute;border-left: 1px solid gray;box-sizing: border-box;top: 0;bottom: 0;left: 50%;z-index: -1;}#sk-container-id-3 div.sk-parallel-item {display: flex;flex-direction: column;z-index: 1;position: relative;background-color: white;}#sk-container-id-3 div.sk-parallel-item:first-child::after {align-self: flex-end;width: 50%;}#sk-container-id-3 div.sk-parallel-item:last-child::after {align-self: flex-start;width: 50%;}#sk-container-id-3 div.sk-parallel-item:only-child::after {width: 0;}#sk-container-id-3 div.sk-dashed-wrapped {border: 1px dashed gray;margin: 0 0.4em 0.5em 0.4em;box-sizing: border-box;padding-bottom: 0.4em;background-color: white;}#sk-container-id-3 div.sk-label label {font-family: monospace;font-weight: bold;display: inline-block;line-height: 1.2em;}#sk-container-id-3 div.sk-label-container {text-align: center;}#sk-container-id-3 div.sk-container {/* jupyter's `normalize.less` sets `[hidden] { display: none; }` but bootstrap.min.css set `[hidden] { display: none !important; }` so we also need the `!important` here to be able to override the default hidden behavior on the sphinx rendered scikit-learn.org. See: https://github.com/scikit-learn/scikit-learn/issues/21755 */display: inline-block !important;position: relative;}#sk-container-id-3 div.sk-text-repr-fallback {display: none;}</style><div id=\"sk-container-id-3\" class=\"sk-top-container\"><div class=\"sk-text-repr-fallback\"><pre>RandomForestRegressor(n_jobs=-1, random_state=10)</pre><b>In a Jupyter environment, please rerun this cell to show the HTML representation or trust the notebook. <br />On GitHub, the HTML representation is unable to render, please try loading this page with nbviewer.org.</b></div><div class=\"sk-container\" hidden><div class=\"sk-item\"><div class=\"sk-estimator sk-toggleable\"><input class=\"sk-toggleable__control sk-hidden--visually\" id=\"sk-estimator-id-3\" type=\"checkbox\" checked><label for=\"sk-estimator-id-3\" class=\"sk-toggleable__label sk-toggleable__label-arrow\">RandomForestRegressor</label><div class=\"sk-toggleable__content\"><pre>RandomForestRegressor(n_jobs=-1, random_state=10)</pre></div></div></div></div></div>"
            ],
            "text/plain": [
              "RandomForestRegressor(n_jobs=-1, random_state=10)"
            ]
          },
          "execution_count": 37,
          "metadata": {},
          "output_type": "execute_result"
        }
      ],
      "source": [
        "best_model"
      ]
    },
    {
      "cell_type": "markdown",
      "metadata": {},
      "source": [
        "Modelling options when setting up experiments:  \n",
        "\n",
        "- `train_size` - to decide on the size of the training set \n",
        "\n",
        "- `fold_strategy`, `fold` - cross-validation strategy and number of folds  \n",
        "\n",
        "- `fold_shuffle` - random state for cross-validation"
      ]
    },
    {
      "cell_type": "code",
      "execution_count": 38,
      "metadata": {},
      "outputs": [
        {
          "data": {
            "text/html": [],
            "text/plain": [
              "<IPython.core.display.HTML object>"
            ]
          },
          "metadata": {},
          "output_type": "display_data"
        },
        {
          "data": {
            "text/html": [
              "<style type=\"text/css\">\n",
              "#T_8a6c8_row10_col0, #T_8a6c8_row10_col1, #T_8a6c8_row10_col2, #T_8a6c8_row10_col3, #T_8a6c8_row10_col4, #T_8a6c8_row10_col5 {\n",
              "  background: yellow;\n",
              "}\n",
              "</style>\n",
              "<table id=\"T_8a6c8\">\n",
              "  <thead>\n",
              "    <tr>\n",
              "      <th class=\"blank level0\" >&nbsp;</th>\n",
              "      <th id=\"T_8a6c8_level0_col0\" class=\"col_heading level0 col0\" >MAE</th>\n",
              "      <th id=\"T_8a6c8_level0_col1\" class=\"col_heading level0 col1\" >MSE</th>\n",
              "      <th id=\"T_8a6c8_level0_col2\" class=\"col_heading level0 col2\" >RMSE</th>\n",
              "      <th id=\"T_8a6c8_level0_col3\" class=\"col_heading level0 col3\" >R2</th>\n",
              "      <th id=\"T_8a6c8_level0_col4\" class=\"col_heading level0 col4\" >RMSLE</th>\n",
              "      <th id=\"T_8a6c8_level0_col5\" class=\"col_heading level0 col5\" >MAPE</th>\n",
              "    </tr>\n",
              "    <tr>\n",
              "      <th class=\"index_name level0\" >Fold</th>\n",
              "      <th class=\"blank col0\" >&nbsp;</th>\n",
              "      <th class=\"blank col1\" >&nbsp;</th>\n",
              "      <th class=\"blank col2\" >&nbsp;</th>\n",
              "      <th class=\"blank col3\" >&nbsp;</th>\n",
              "      <th class=\"blank col4\" >&nbsp;</th>\n",
              "      <th class=\"blank col5\" >&nbsp;</th>\n",
              "    </tr>\n",
              "  </thead>\n",
              "  <tbody>\n",
              "    <tr>\n",
              "      <th id=\"T_8a6c8_level0_row0\" class=\"row_heading level0 row0\" >0</th>\n",
              "      <td id=\"T_8a6c8_row0_col0\" class=\"data row0 col0\" >39597.0976</td>\n",
              "      <td id=\"T_8a6c8_row0_col1\" class=\"data row0 col1\" >3125417093.0920</td>\n",
              "      <td id=\"T_8a6c8_row0_col2\" class=\"data row0 col2\" >55905.4299</td>\n",
              "      <td id=\"T_8a6c8_row0_col3\" class=\"data row0 col3\" >0.6544</td>\n",
              "      <td id=\"T_8a6c8_row0_col4\" class=\"data row0 col4\" >0.3110</td>\n",
              "      <td id=\"T_8a6c8_row0_col5\" class=\"data row0 col5\" >0.2149</td>\n",
              "    </tr>\n",
              "    <tr>\n",
              "      <th id=\"T_8a6c8_level0_row1\" class=\"row_heading level0 row1\" >1</th>\n",
              "      <td id=\"T_8a6c8_row1_col0\" class=\"data row1 col0\" >51074.6262</td>\n",
              "      <td id=\"T_8a6c8_row1_col1\" class=\"data row1 col1\" >4217118786.8886</td>\n",
              "      <td id=\"T_8a6c8_row1_col2\" class=\"data row1 col2\" >64939.3470</td>\n",
              "      <td id=\"T_8a6c8_row1_col3\" class=\"data row1 col3\" >0.6866</td>\n",
              "      <td id=\"T_8a6c8_row1_col4\" class=\"data row1 col4\" >0.3634</td>\n",
              "      <td id=\"T_8a6c8_row1_col5\" class=\"data row1 col5\" >0.2907</td>\n",
              "    </tr>\n",
              "    <tr>\n",
              "      <th id=\"T_8a6c8_level0_row2\" class=\"row_heading level0 row2\" >2</th>\n",
              "      <td id=\"T_8a6c8_row2_col0\" class=\"data row2 col0\" >55744.7218</td>\n",
              "      <td id=\"T_8a6c8_row2_col1\" class=\"data row2 col1\" >5317760761.5020</td>\n",
              "      <td id=\"T_8a6c8_row2_col2\" class=\"data row2 col2\" >72922.9783</td>\n",
              "      <td id=\"T_8a6c8_row2_col3\" class=\"data row2 col3\" >0.6641</td>\n",
              "      <td id=\"T_8a6c8_row2_col4\" class=\"data row2 col4\" >0.3351</td>\n",
              "      <td id=\"T_8a6c8_row2_col5\" class=\"data row2 col5\" >0.2861</td>\n",
              "    </tr>\n",
              "    <tr>\n",
              "      <th id=\"T_8a6c8_level0_row3\" class=\"row_heading level0 row3\" >3</th>\n",
              "      <td id=\"T_8a6c8_row3_col0\" class=\"data row3 col0\" >56411.0865</td>\n",
              "      <td id=\"T_8a6c8_row3_col1\" class=\"data row3 col1\" >5869063183.1916</td>\n",
              "      <td id=\"T_8a6c8_row3_col2\" class=\"data row3 col2\" >76609.8113</td>\n",
              "      <td id=\"T_8a6c8_row3_col3\" class=\"data row3 col3\" >0.6684</td>\n",
              "      <td id=\"T_8a6c8_row3_col4\" class=\"data row3 col4\" >0.4414</td>\n",
              "      <td id=\"T_8a6c8_row3_col5\" class=\"data row3 col5\" >0.3065</td>\n",
              "    </tr>\n",
              "    <tr>\n",
              "      <th id=\"T_8a6c8_level0_row4\" class=\"row_heading level0 row4\" >4</th>\n",
              "      <td id=\"T_8a6c8_row4_col0\" class=\"data row4 col0\" >60798.0080</td>\n",
              "      <td id=\"T_8a6c8_row4_col1\" class=\"data row4 col1\" >5393615120.6195</td>\n",
              "      <td id=\"T_8a6c8_row4_col2\" class=\"data row4 col2\" >73441.2358</td>\n",
              "      <td id=\"T_8a6c8_row4_col3\" class=\"data row4 col3\" >0.6459</td>\n",
              "      <td id=\"T_8a6c8_row4_col4\" class=\"data row4 col4\" >0.4666</td>\n",
              "      <td id=\"T_8a6c8_row4_col5\" class=\"data row4 col5\" >0.3424</td>\n",
              "    </tr>\n",
              "    <tr>\n",
              "      <th id=\"T_8a6c8_level0_row5\" class=\"row_heading level0 row5\" >5</th>\n",
              "      <td id=\"T_8a6c8_row5_col0\" class=\"data row5 col0\" >43082.6995</td>\n",
              "      <td id=\"T_8a6c8_row5_col1\" class=\"data row5 col1\" >3651539204.7650</td>\n",
              "      <td id=\"T_8a6c8_row5_col2\" class=\"data row5 col2\" >60427.9671</td>\n",
              "      <td id=\"T_8a6c8_row5_col3\" class=\"data row5 col3\" >0.7210</td>\n",
              "      <td id=\"T_8a6c8_row5_col4\" class=\"data row5 col4\" >0.2837</td>\n",
              "      <td id=\"T_8a6c8_row5_col5\" class=\"data row5 col5\" >0.2435</td>\n",
              "    </tr>\n",
              "    <tr>\n",
              "      <th id=\"T_8a6c8_level0_row6\" class=\"row_heading level0 row6\" >6</th>\n",
              "      <td id=\"T_8a6c8_row6_col0\" class=\"data row6 col0\" >42842.2079</td>\n",
              "      <td id=\"T_8a6c8_row6_col1\" class=\"data row6 col1\" >2701555831.7550</td>\n",
              "      <td id=\"T_8a6c8_row6_col2\" class=\"data row6 col2\" >51976.4931</td>\n",
              "      <td id=\"T_8a6c8_row6_col3\" class=\"data row6 col3\" >0.5922</td>\n",
              "      <td id=\"T_8a6c8_row6_col4\" class=\"data row6 col4\" >0.3101</td>\n",
              "      <td id=\"T_8a6c8_row6_col5\" class=\"data row6 col5\" >0.3028</td>\n",
              "    </tr>\n",
              "    <tr>\n",
              "      <th id=\"T_8a6c8_level0_row7\" class=\"row_heading level0 row7\" >7</th>\n",
              "      <td id=\"T_8a6c8_row7_col0\" class=\"data row7 col0\" >65955.6384</td>\n",
              "      <td id=\"T_8a6c8_row7_col1\" class=\"data row7 col1\" >6875556146.9735</td>\n",
              "      <td id=\"T_8a6c8_row7_col2\" class=\"data row7 col2\" >82918.9734</td>\n",
              "      <td id=\"T_8a6c8_row7_col3\" class=\"data row7 col3\" >0.5515</td>\n",
              "      <td id=\"T_8a6c8_row7_col4\" class=\"data row7 col4\" >0.5368</td>\n",
              "      <td id=\"T_8a6c8_row7_col5\" class=\"data row7 col5\" >0.4077</td>\n",
              "    </tr>\n",
              "    <tr>\n",
              "      <th id=\"T_8a6c8_level0_row8\" class=\"row_heading level0 row8\" >8</th>\n",
              "      <td id=\"T_8a6c8_row8_col0\" class=\"data row8 col0\" >60740.9467</td>\n",
              "      <td id=\"T_8a6c8_row8_col1\" class=\"data row8 col1\" >7427213181.1492</td>\n",
              "      <td id=\"T_8a6c8_row8_col2\" class=\"data row8 col2\" >86181.2809</td>\n",
              "      <td id=\"T_8a6c8_row8_col3\" class=\"data row8 col3\" >0.2589</td>\n",
              "      <td id=\"T_8a6c8_row8_col4\" class=\"data row8 col4\" >0.5320</td>\n",
              "      <td id=\"T_8a6c8_row8_col5\" class=\"data row8 col5\" >0.2946</td>\n",
              "    </tr>\n",
              "    <tr>\n",
              "      <th id=\"T_8a6c8_level0_row9\" class=\"row_heading level0 row9\" >9</th>\n",
              "      <td id=\"T_8a6c8_row9_col0\" class=\"data row9 col0\" >54960.1772</td>\n",
              "      <td id=\"T_8a6c8_row9_col1\" class=\"data row9 col1\" >4054529480.5740</td>\n",
              "      <td id=\"T_8a6c8_row9_col2\" class=\"data row9 col2\" >63675.1873</td>\n",
              "      <td id=\"T_8a6c8_row9_col3\" class=\"data row9 col3\" >0.5684</td>\n",
              "      <td id=\"T_8a6c8_row9_col4\" class=\"data row9 col4\" >0.4882</td>\n",
              "      <td id=\"T_8a6c8_row9_col5\" class=\"data row9 col5\" >0.4256</td>\n",
              "    </tr>\n",
              "    <tr>\n",
              "      <th id=\"T_8a6c8_level0_row10\" class=\"row_heading level0 row10\" >Mean</th>\n",
              "      <td id=\"T_8a6c8_row10_col0\" class=\"data row10 col0\" >53120.7210</td>\n",
              "      <td id=\"T_8a6c8_row10_col1\" class=\"data row10 col1\" >4863336879.0511</td>\n",
              "      <td id=\"T_8a6c8_row10_col2\" class=\"data row10 col2\" >68899.8704</td>\n",
              "      <td id=\"T_8a6c8_row10_col3\" class=\"data row10 col3\" >0.6011</td>\n",
              "      <td id=\"T_8a6c8_row10_col4\" class=\"data row10 col4\" >0.4068</td>\n",
              "      <td id=\"T_8a6c8_row10_col5\" class=\"data row10 col5\" >0.3115</td>\n",
              "    </tr>\n",
              "    <tr>\n",
              "      <th id=\"T_8a6c8_level0_row11\" class=\"row_heading level0 row11\" >Std</th>\n",
              "      <td id=\"T_8a6c8_row11_col0\" class=\"data row11 col0\" >8344.6016</td>\n",
              "      <td id=\"T_8a6c8_row11_col1\" class=\"data row11 col1\" >1495177342.8150</td>\n",
              "      <td id=\"T_8a6c8_row11_col2\" class=\"data row11 col2\" >10777.0468</td>\n",
              "      <td id=\"T_8a6c8_row11_col3\" class=\"data row11 col3\" >0.1248</td>\n",
              "      <td id=\"T_8a6c8_row11_col4\" class=\"data row11 col4\" >0.0920</td>\n",
              "      <td id=\"T_8a6c8_row11_col5\" class=\"data row11 col5\" >0.0622</td>\n",
              "    </tr>\n",
              "  </tbody>\n",
              "</table>\n"
            ],
            "text/plain": [
              "<pandas.io.formats.style.Styler at 0x1d0ee701e50>"
            ]
          },
          "metadata": {},
          "output_type": "display_data"
        },
        {
          "data": {
            "text/html": [],
            "text/plain": [
              "<IPython.core.display.HTML object>"
            ]
          },
          "metadata": {},
          "output_type": "display_data"
        }
      ],
      "source": [
        "# By default, the cross-validation is 10-fold but we set it to 5 because of the small dataset\n",
        "lr_model = exp.create_model('lr')"
      ]
    },
    {
      "cell_type": "markdown",
      "metadata": {},
      "source": [
        "## <a id='toc2_3_'></a>[Model diagnostics](#toc0_)"
      ]
    },
    {
      "cell_type": "markdown",
      "metadata": {},
      "source": [
        "On top of being able to create, optimize, and save models, pycaret also enables you to run more complex model diagnostics through the help of the `yellowbrick` library ([super useful for ML visualizations](https://www.scikit-yb.org/en/latest/)):"
      ]
    },
    {
      "cell_type": "code",
      "execution_count": 39,
      "metadata": {},
      "outputs": [
        {
          "data": {
            "text/html": [],
            "text/plain": [
              "<IPython.core.display.HTML object>"
            ]
          },
          "metadata": {},
          "output_type": "display_data"
        },
        {
          "data": {
            "image/png": "[encoded data removed]",
            "text/plain": [
              "<Figure size 800x550 with 2 Axes>"
            ]
          },
          "metadata": {},
          "output_type": "display_data"
        }
      ],
      "source": [
        "exp.plot_model(best_model, plot='residuals')"
      ]
    },
    {
      "cell_type": "code",
      "execution_count": 40,
      "metadata": {},
      "outputs": [
        {
          "data": {
            "text/html": [],
            "text/plain": [
              "<IPython.core.display.HTML object>"
            ]
          },
          "metadata": {},
          "output_type": "display_data"
        },
        {
          "data": {
            "image/png": "[encoded data removed]",
            "text/plain": [
              "<Figure size 800x500 with 1 Axes>"
            ]
          },
          "metadata": {},
          "output_type": "display_data"
        }
      ],
      "source": [
        "exp.plot_model(best_model, 'feature')"
      ]
    },
    {
      "cell_type": "markdown",
      "metadata": {},
      "source": [
        "## <a id='toc2_4_'></a>[Model tracking](#toc0_)"
      ]
    },
    {
      "cell_type": "markdown",
      "metadata": {},
      "source": [
        "Lastly, now that we have so much capability because of the wonderful pycaret, how are we going to keep track of all the things we've tested? Easy, pycaret is readily integrated with the most popular open-source ML-tracking software, [MLFlow](https://mlflow.org/docs/latest/index.html) - so all you need to do is to set these parameters to `True` to begin saving your results:\n",
        "\n",
        "- `log_experiment` - if set to `True`, defaults to MLFlow, but if you want to be explicit you can also say `'mlflow'`  \n",
        "\n",
        "- `log_data` - whether to save the train/test sets as `.csv` files  \n",
        "\n",
        "- `log_plots` - whether to save the typical diagnostic plots"
      ]
    },
    {
      "cell_type": "markdown",
      "metadata": {},
      "source": [
        "To view the results from the experiments, run this command in your terminal, in the same directory as this notebook: `mlflow ui`.\n",
        "\n",
        "You will then see a link to the localhost, typically `http://localhost:5000`, which you can click on!"
      ]
    },
    {
      "cell_type": "markdown",
      "metadata": {},
      "source": [
        "## <a id='toc2_5_'></a>[What comes next?](#toc0_)"
      ]
    },
    {
      "cell_type": "markdown",
      "metadata": {},
      "source": [
        "After we evaluated all these models and picked the one that suits us the most, it's time to get it ready for production!"
      ]
    },
    {
      "cell_type": "markdown",
      "metadata": {},
      "source": [
        "As we want models to see as much data as possible, we will now finally be able to re-train our model on the full sample of data!"
      ]
    },
    {
      "cell_type": "code",
      "execution_count": 44,
      "metadata": {},
      "outputs": [],
      "source": [
        "X = pd.concat([exp.X_train_transformed, exp.X_test_transformed], axis=0)\n",
        "y = pd.concat([exp.y_train_transformed, exp.y_test_transformed], axis=0)"
      ]
    },
    {
      "cell_type": "code",
      "execution_count": 45,
      "metadata": {},
      "outputs": [
        {
          "data": {
            "text/html": [
              "<style>#sk-container-id-4 {color: black;background-color: white;}#sk-container-id-4 pre{padding: 0;}#sk-container-id-4 div.sk-toggleable {background-color: white;}#sk-container-id-4 label.sk-toggleable__label {cursor: pointer;display: block;width: 100%;margin-bottom: 0;padding: 0.3em;box-sizing: border-box;text-align: center;}#sk-container-id-4 label.sk-toggleable__label-arrow:before {content: \"▸\";float: left;margin-right: 0.25em;color: #696969;}#sk-container-id-4 label.sk-toggleable__label-arrow:hover:before {color: black;}#sk-container-id-4 div.sk-estimator:hover label.sk-toggleable__label-arrow:before {color: black;}#sk-container-id-4 div.sk-toggleable__content {max-height: 0;max-width: 0;overflow: hidden;text-align: left;background-color: #f0f8ff;}#sk-container-id-4 div.sk-toggleable__content pre {margin: 0.2em;color: black;border-radius: 0.25em;background-color: #f0f8ff;}#sk-container-id-4 input.sk-toggleable__control:checked~div.sk-toggleable__content {max-height: 200px;max-width: 100%;overflow: auto;}#sk-container-id-4 input.sk-toggleable__control:checked~label.sk-toggleable__label-arrow:before {content: \"▾\";}#sk-container-id-4 div.sk-estimator input.sk-toggleable__control:checked~label.sk-toggleable__label {background-color: #d4ebff;}#sk-container-id-4 div.sk-label input.sk-toggleable__control:checked~label.sk-toggleable__label {background-color: #d4ebff;}#sk-container-id-4 input.sk-hidden--visually {border: 0;clip: rect(1px 1px 1px 1px);clip: rect(1px, 1px, 1px, 1px);height: 1px;margin: -1px;overflow: hidden;padding: 0;position: absolute;width: 1px;}#sk-container-id-4 div.sk-estimator {font-family: monospace;background-color: #f0f8ff;border: 1px dotted black;border-radius: 0.25em;box-sizing: border-box;margin-bottom: 0.5em;}#sk-container-id-4 div.sk-estimator:hover {background-color: #d4ebff;}#sk-container-id-4 div.sk-parallel-item::after {content: \"\";width: 100%;border-bottom: 1px solid gray;flex-grow: 1;}#sk-container-id-4 div.sk-label:hover label.sk-toggleable__label {background-color: #d4ebff;}#sk-container-id-4 div.sk-serial::before {content: \"\";position: absolute;border-left: 1px solid gray;box-sizing: border-box;top: 0;bottom: 0;left: 50%;z-index: 0;}#sk-container-id-4 div.sk-serial {display: flex;flex-direction: column;align-items: center;background-color: white;padding-right: 0.2em;padding-left: 0.2em;position: relative;}#sk-container-id-4 div.sk-item {position: relative;z-index: 1;}#sk-container-id-4 div.sk-parallel {display: flex;align-items: stretch;justify-content: center;background-color: white;position: relative;}#sk-container-id-4 div.sk-item::before, #sk-container-id-4 div.sk-parallel-item::before {content: \"\";position: absolute;border-left: 1px solid gray;box-sizing: border-box;top: 0;bottom: 0;left: 50%;z-index: -1;}#sk-container-id-4 div.sk-parallel-item {display: flex;flex-direction: column;z-index: 1;position: relative;background-color: white;}#sk-container-id-4 div.sk-parallel-item:first-child::after {align-self: flex-end;width: 50%;}#sk-container-id-4 div.sk-parallel-item:last-child::after {align-self: flex-start;width: 50%;}#sk-container-id-4 div.sk-parallel-item:only-child::after {width: 0;}#sk-container-id-4 div.sk-dashed-wrapped {border: 1px dashed gray;margin: 0 0.4em 0.5em 0.4em;box-sizing: border-box;padding-bottom: 0.4em;background-color: white;}#sk-container-id-4 div.sk-label label {font-family: monospace;font-weight: bold;display: inline-block;line-height: 1.2em;}#sk-container-id-4 div.sk-label-container {text-align: center;}#sk-container-id-4 div.sk-container {/* jupyter's `normalize.less` sets `[hidden] { display: none; }` but bootstrap.min.css set `[hidden] { display: none !important; }` so we also need the `!important` here to be able to override the default hidden behavior on the sphinx rendered scikit-learn.org. See: https://github.com/scikit-learn/scikit-learn/issues/21755 */display: inline-block !important;position: relative;}#sk-container-id-4 div.sk-text-repr-fallback {display: none;}</style><div id=\"sk-container-id-4\" class=\"sk-top-container\"><div class=\"sk-text-repr-fallback\"><pre>RandomForestRegressor(n_jobs=-1, random_state=10)</pre><b>In a Jupyter environment, please rerun this cell to show the HTML representation or trust the notebook. <br />On GitHub, the HTML representation is unable to render, please try loading this page with nbviewer.org.</b></div><div class=\"sk-container\" hidden><div class=\"sk-item\"><div class=\"sk-estimator sk-toggleable\"><input class=\"sk-toggleable__control sk-hidden--visually\" id=\"sk-estimator-id-4\" type=\"checkbox\" checked><label for=\"sk-estimator-id-4\" class=\"sk-toggleable__label sk-toggleable__label-arrow\">RandomForestRegressor</label><div class=\"sk-toggleable__content\"><pre>RandomForestRegressor(n_jobs=-1, random_state=10)</pre></div></div></div></div></div>"
            ],
            "text/plain": [
              "RandomForestRegressor(n_jobs=-1, random_state=10)"
            ]
          },
          "execution_count": 45,
          "metadata": {},
          "output_type": "execute_result"
        }
      ],
      "source": [
        "best_model.fit(X, y)"
      ]
    },
    {
      "cell_type": "code",
      "execution_count": 46,
      "metadata": {},
      "outputs": [],
      "source": [
        "import pickle\n",
        "\n",
        "pickle.dump(best_model, open('best_model.pkl', 'wb'))"
      ]
    },
    {
      "cell_type": "code",
      "execution_count": 47,
      "metadata": {},
      "outputs": [],
      "source": [
        "best_model = pickle.load(open('best_model.pkl', 'rb'))"
      ]
    },
    {
      "cell_type": "code",
      "execution_count": 48,
      "metadata": {},
      "outputs": [
        {
          "data": {
            "text/html": [
              "<style>#sk-container-id-5 {color: black;background-color: white;}#sk-container-id-5 pre{padding: 0;}#sk-container-id-5 div.sk-toggleable {background-color: white;}#sk-container-id-5 label.sk-toggleable__label {cursor: pointer;display: block;width: 100%;margin-bottom: 0;padding: 0.3em;box-sizing: border-box;text-align: center;}#sk-container-id-5 label.sk-toggleable__label-arrow:before {content: \"▸\";float: left;margin-right: 0.25em;color: #696969;}#sk-container-id-5 label.sk-toggleable__label-arrow:hover:before {color: black;}#sk-container-id-5 div.sk-estimator:hover label.sk-toggleable__label-arrow:before {color: black;}#sk-container-id-5 div.sk-toggleable__content {max-height: 0;max-width: 0;overflow: hidden;text-align: left;background-color: #f0f8ff;}#sk-container-id-5 div.sk-toggleable__content pre {margin: 0.2em;color: black;border-radius: 0.25em;background-color: #f0f8ff;}#sk-container-id-5 input.sk-toggleable__control:checked~div.sk-toggleable__content {max-height: 200px;max-width: 100%;overflow: auto;}#sk-container-id-5 input.sk-toggleable__control:checked~label.sk-toggleable__label-arrow:before {content: \"▾\";}#sk-container-id-5 div.sk-estimator input.sk-toggleable__control:checked~label.sk-toggleable__label {background-color: #d4ebff;}#sk-container-id-5 div.sk-label input.sk-toggleable__control:checked~label.sk-toggleable__label {background-color: #d4ebff;}#sk-container-id-5 input.sk-hidden--visually {border: 0;clip: rect(1px 1px 1px 1px);clip: rect(1px, 1px, 1px, 1px);height: 1px;margin: -1px;overflow: hidden;padding: 0;position: absolute;width: 1px;}#sk-container-id-5 div.sk-estimator {font-family: monospace;background-color: #f0f8ff;border: 1px dotted black;border-radius: 0.25em;box-sizing: border-box;margin-bottom: 0.5em;}#sk-container-id-5 div.sk-estimator:hover {background-color: #d4ebff;}#sk-container-id-5 div.sk-parallel-item::after {content: \"\";width: 100%;border-bottom: 1px solid gray;flex-grow: 1;}#sk-container-id-5 div.sk-label:hover label.sk-toggleable__label {background-color: #d4ebff;}#sk-container-id-5 div.sk-serial::before {content: \"\";position: absolute;border-left: 1px solid gray;box-sizing: border-box;top: 0;bottom: 0;left: 50%;z-index: 0;}#sk-container-id-5 div.sk-serial {display: flex;flex-direction: column;align-items: center;background-color: white;padding-right: 0.2em;padding-left: 0.2em;position: relative;}#sk-container-id-5 div.sk-item {position: relative;z-index: 1;}#sk-container-id-5 div.sk-parallel {display: flex;align-items: stretch;justify-content: center;background-color: white;position: relative;}#sk-container-id-5 div.sk-item::before, #sk-container-id-5 div.sk-parallel-item::before {content: \"\";position: absolute;border-left: 1px solid gray;box-sizing: border-box;top: 0;bottom: 0;left: 50%;z-index: -1;}#sk-container-id-5 div.sk-parallel-item {display: flex;flex-direction: column;z-index: 1;position: relative;background-color: white;}#sk-container-id-5 div.sk-parallel-item:first-child::after {align-self: flex-end;width: 50%;}#sk-container-id-5 div.sk-parallel-item:last-child::after {align-self: flex-start;width: 50%;}#sk-container-id-5 div.sk-parallel-item:only-child::after {width: 0;}#sk-container-id-5 div.sk-dashed-wrapped {border: 1px dashed gray;margin: 0 0.4em 0.5em 0.4em;box-sizing: border-box;padding-bottom: 0.4em;background-color: white;}#sk-container-id-5 div.sk-label label {font-family: monospace;font-weight: bold;display: inline-block;line-height: 1.2em;}#sk-container-id-5 div.sk-label-container {text-align: center;}#sk-container-id-5 div.sk-container {/* jupyter's `normalize.less` sets `[hidden] { display: none; }` but bootstrap.min.css set `[hidden] { display: none !important; }` so we also need the `!important` here to be able to override the default hidden behavior on the sphinx rendered scikit-learn.org. See: https://github.com/scikit-learn/scikit-learn/issues/21755 */display: inline-block !important;position: relative;}#sk-container-id-5 div.sk-text-repr-fallback {display: none;}</style><div id=\"sk-container-id-5\" class=\"sk-top-container\"><div class=\"sk-text-repr-fallback\"><pre>RandomForestRegressor(n_jobs=-1, random_state=10)</pre><b>In a Jupyter environment, please rerun this cell to show the HTML representation or trust the notebook. <br />On GitHub, the HTML representation is unable to render, please try loading this page with nbviewer.org.</b></div><div class=\"sk-container\" hidden><div class=\"sk-item\"><div class=\"sk-estimator sk-toggleable\"><input class=\"sk-toggleable__control sk-hidden--visually\" id=\"sk-estimator-id-5\" type=\"checkbox\" checked><label for=\"sk-estimator-id-5\" class=\"sk-toggleable__label sk-toggleable__label-arrow\">RandomForestRegressor</label><div class=\"sk-toggleable__content\"><pre>RandomForestRegressor(n_jobs=-1, random_state=10)</pre></div></div></div></div></div>"
            ],
            "text/plain": [
              "RandomForestRegressor(n_jobs=-1, random_state=10)"
            ]
          },
          "execution_count": 48,
          "metadata": {},
          "output_type": "execute_result"
        }
      ],
      "source": [
        "best_model"
      ]
    },
    {
      "cell_type": "markdown",
      "metadata": {},
      "source": [
        "# <a id='toc3_'></a>[Extra: Homework](#toc0_)\n",
        "\n",
        "Now that we've explored the pycaret module for regression, how about you also explore the [classification module](https://pycaret.readthedocs.io/en/stable/api/classification.html)?  \n",
        "\n",
        "Also... for those of you interested in more advanced topics, pycaret also has modules for:  \n",
        "- time series\n",
        "- anomaly detection, e.g. fraud prediction\n",
        "- clustering \n",
        "\n",
        "You can find some tutorials on all modules here: https://pycaret.gitbook.io/docs/get-started/tutorials"
      ]
    },
    {
      "cell_type": "markdown",
      "metadata": {},
      "source": [
        "# <a id='toc4_'></a>[Resources](#toc0_)"
      ]
    },
    {
      "cell_type": "code",
      "execution_count": null,
      "metadata": {},
      "outputs": [],
      "source": [
        "#https://towardsdatascience.com/how-to-use-pycaret-the-library-for-lazy-data-scientists-91343f960bd2"
      ]
    }
  ],
  "metadata": {
    "colab": {
      "provenance": []
    },
    "kernelspec": {
      "display_name": "Python 3",
      "name": "python3"
    },
    "language_info": {
      "codemirror_mode": {
        "name": "ipython",
        "version": 3
      },
      "file_extension": ".py",
      "mimetype": "text/x-python",
      "name": "python",
      "nbconvert_exporter": "python",
      "pygments_lexer": "ipython3",
      "version": "3.8.12"
    },
    "widgets": {
      "application/vnd.jupyter.widget-state+json": {
        "0eb23e20f6b04a86a58c1c193d5481fc": {
          "model_module": "@jupyter-widgets/controls",
          "model_module_version": "1.5.0",
          "model_name": "HBoxModel",
          "state": {
            "_dom_classes": [],
            "_model_module": "@jupyter-widgets/controls",
            "_model_module_version": "1.5.0",
            "_model_name": "HBoxModel",
            "_view_count": null,
            "_view_module": "@jupyter-widgets/controls",
            "_view_module_version": "1.5.0",
            "_view_name": "HBoxView",
            "box_style": "",
            "children": [
              "IPY_MODEL_4978b2c64187436ca294ef510263e668",
              "IPY_MODEL_1eae4830d06e42a6b344a535ad2faf8a",
              "IPY_MODEL_f05803c144ce4e74aad745fd5cf90426"
            ],
            "layout": "IPY_MODEL_cf9ab3afd5814a4ebed76d31ef6d7568"
          }
        },
        "1eae4830d06e42a6b344a535ad2faf8a": {
          "model_module": "@jupyter-widgets/controls",
          "model_module_version": "1.5.0",
          "model_name": "FloatProgressModel",
          "state": {
            "_dom_classes": [],
            "_model_module": "@jupyter-widgets/controls",
            "_model_module_version": "1.5.0",
            "_model_name": "FloatProgressModel",
            "_view_count": null,
            "_view_module": "@jupyter-widgets/controls",
            "_view_module_version": "1.5.0",
            "_view_name": "ProgressView",
            "bar_style": "",
            "description": "",
            "description_tooltip": null,
            "layout": "IPY_MODEL_a06aa8e0d0864aabaa410e8f5d1f9eeb",
            "max": 81,
            "min": 0,
            "orientation": "horizontal",
            "style": "IPY_MODEL_717ed9fe2201447d898da60d5ca0cdec",
            "value": 81
          }
        },
        "46d13fe25df942a1933620b297d40abe": {
          "model_module": "@jupyter-widgets/controls",
          "model_module_version": "1.5.0",
          "model_name": "DescriptionStyleModel",
          "state": {
            "_model_module": "@jupyter-widgets/controls",
            "_model_module_version": "1.5.0",
            "_model_name": "DescriptionStyleModel",
            "_view_count": null,
            "_view_module": "@jupyter-widgets/base",
            "_view_module_version": "1.2.0",
            "_view_name": "StyleView",
            "description_width": ""
          }
        },
        "4978b2c64187436ca294ef510263e668": {
          "model_module": "@jupyter-widgets/controls",
          "model_module_version": "1.5.0",
          "model_name": "HTMLModel",
          "state": {
            "_dom_classes": [],
            "_model_module": "@jupyter-widgets/controls",
            "_model_module_version": "1.5.0",
            "_model_name": "HTMLModel",
            "_view_count": null,
            "_view_module": "@jupyter-widgets/controls",
            "_view_module_version": "1.5.0",
            "_view_name": "HTMLView",
            "description": "",
            "description_tooltip": null,
            "layout": "IPY_MODEL_f293613faaba403190d78a2d7d0d211b",
            "placeholder": "​",
            "style": "IPY_MODEL_62992922593e4d00b44b8c257a2b1972",
            "value": "Processing: 100%"
          }
        },
        "62992922593e4d00b44b8c257a2b1972": {
          "model_module": "@jupyter-widgets/controls",
          "model_module_version": "1.5.0",
          "model_name": "DescriptionStyleModel",
          "state": {
            "_model_module": "@jupyter-widgets/controls",
            "_model_module_version": "1.5.0",
            "_model_name": "DescriptionStyleModel",
            "_view_count": null,
            "_view_module": "@jupyter-widgets/base",
            "_view_module_version": "1.2.0",
            "_view_name": "StyleView",
            "description_width": ""
          }
        },
        "717ed9fe2201447d898da60d5ca0cdec": {
          "model_module": "@jupyter-widgets/controls",
          "model_module_version": "1.5.0",
          "model_name": "ProgressStyleModel",
          "state": {
            "_model_module": "@jupyter-widgets/controls",
            "_model_module_version": "1.5.0",
            "_model_name": "ProgressStyleModel",
            "_view_count": null,
            "_view_module": "@jupyter-widgets/base",
            "_view_module_version": "1.2.0",
            "_view_name": "StyleView",
            "bar_color": null,
            "description_width": ""
          }
        },
        "9830d87c17924508be04be9a4313b1e4": {
          "model_module": "@jupyter-widgets/base",
          "model_module_version": "1.2.0",
          "model_name": "LayoutModel",
          "state": {
            "_model_module": "@jupyter-widgets/base",
            "_model_module_version": "1.2.0",
            "_model_name": "LayoutModel",
            "_view_count": null,
            "_view_module": "@jupyter-widgets/base",
            "_view_module_version": "1.2.0",
            "_view_name": "LayoutView",
            "align_content": null,
            "align_items": null,
            "align_self": null,
            "border": null,
            "bottom": null,
            "display": null,
            "flex": null,
            "flex_flow": null,
            "grid_area": null,
            "grid_auto_columns": null,
            "grid_auto_flow": null,
            "grid_auto_rows": null,
            "grid_column": null,
            "grid_gap": null,
            "grid_row": null,
            "grid_template_areas": null,
            "grid_template_columns": null,
            "grid_template_rows": null,
            "height": null,
            "justify_content": null,
            "justify_items": null,
            "left": null,
            "margin": null,
            "max_height": null,
            "max_width": null,
            "min_height": null,
            "min_width": null,
            "object_fit": null,
            "object_position": null,
            "order": null,
            "overflow": null,
            "overflow_x": null,
            "overflow_y": null,
            "padding": null,
            "right": null,
            "top": null,
            "visibility": null,
            "width": null
          }
        },
        "a06aa8e0d0864aabaa410e8f5d1f9eeb": {
          "model_module": "@jupyter-widgets/base",
          "model_module_version": "1.2.0",
          "model_name": "LayoutModel",
          "state": {
            "_model_module": "@jupyter-widgets/base",
            "_model_module_version": "1.2.0",
            "_model_name": "LayoutModel",
            "_view_count": null,
            "_view_module": "@jupyter-widgets/base",
            "_view_module_version": "1.2.0",
            "_view_name": "LayoutView",
            "align_content": null,
            "align_items": null,
            "align_self": null,
            "border": null,
            "bottom": null,
            "display": null,
            "flex": null,
            "flex_flow": null,
            "grid_area": null,
            "grid_auto_columns": null,
            "grid_auto_flow": null,
            "grid_auto_rows": null,
            "grid_column": null,
            "grid_gap": null,
            "grid_row": null,
            "grid_template_areas": null,
            "grid_template_columns": null,
            "grid_template_rows": null,
            "height": null,
            "justify_content": null,
            "justify_items": null,
            "left": null,
            "margin": null,
            "max_height": null,
            "max_width": null,
            "min_height": null,
            "min_width": null,
            "object_fit": null,
            "object_position": null,
            "order": null,
            "overflow": null,
            "overflow_x": null,
            "overflow_y": null,
            "padding": null,
            "right": null,
            "top": null,
            "visibility": null,
            "width": null
          }
        },
        "cf9ab3afd5814a4ebed76d31ef6d7568": {
          "model_module": "@jupyter-widgets/base",
          "model_module_version": "1.2.0",
          "model_name": "LayoutModel",
          "state": {
            "_model_module": "@jupyter-widgets/base",
            "_model_module_version": "1.2.0",
            "_model_name": "LayoutModel",
            "_view_count": null,
            "_view_module": "@jupyter-widgets/base",
            "_view_module_version": "1.2.0",
            "_view_name": "LayoutView",
            "align_content": null,
            "align_items": null,
            "align_self": null,
            "border": null,
            "bottom": null,
            "display": null,
            "flex": null,
            "flex_flow": null,
            "grid_area": null,
            "grid_auto_columns": null,
            "grid_auto_flow": null,
            "grid_auto_rows": null,
            "grid_column": null,
            "grid_gap": null,
            "grid_row": null,
            "grid_template_areas": null,
            "grid_template_columns": null,
            "grid_template_rows": null,
            "height": null,
            "justify_content": null,
            "justify_items": null,
            "left": null,
            "margin": null,
            "max_height": null,
            "max_width": null,
            "min_height": null,
            "min_width": null,
            "object_fit": null,
            "object_position": null,
            "order": null,
            "overflow": null,
            "overflow_x": null,
            "overflow_y": null,
            "padding": null,
            "right": null,
            "top": null,
            "visibility": "hidden",
            "width": null
          }
        },
        "f05803c144ce4e74aad745fd5cf90426": {
          "model_module": "@jupyter-widgets/controls",
          "model_module_version": "1.5.0",
          "model_name": "HTMLModel",
          "state": {
            "_dom_classes": [],
            "_model_module": "@jupyter-widgets/controls",
            "_model_module_version": "1.5.0",
            "_model_name": "HTMLModel",
            "_view_count": null,
            "_view_module": "@jupyter-widgets/controls",
            "_view_module_version": "1.5.0",
            "_view_name": "HTMLView",
            "description": "",
            "description_tooltip": null,
            "layout": "IPY_MODEL_9830d87c17924508be04be9a4313b1e4",
            "placeholder": "​",
            "style": "IPY_MODEL_46d13fe25df942a1933620b297d40abe",
            "value": " 81/81 [03:06&lt;00:00,  1.03it/s]"
          }
        },
        "f293613faaba403190d78a2d7d0d211b": {
          "model_module": "@jupyter-widgets/base",
          "model_module_version": "1.2.0",
          "model_name": "LayoutModel",
          "state": {
            "_model_module": "@jupyter-widgets/base",
            "_model_module_version": "1.2.0",
            "_model_name": "LayoutModel",
            "_view_count": null,
            "_view_module": "@jupyter-widgets/base",
            "_view_module_version": "1.2.0",
            "_view_name": "LayoutView",
            "align_content": null,
            "align_items": null,
            "align_self": null,
            "border": null,
            "bottom": null,
            "display": null,
            "flex": null,
            "flex_flow": null,
            "grid_area": null,
            "grid_auto_columns": null,
            "grid_auto_flow": null,
            "grid_auto_rows": null,
            "grid_column": null,
            "grid_gap": null,
            "grid_row": null,
            "grid_template_areas": null,
            "grid_template_columns": null,
            "grid_template_rows": null,
            "height": null,
            "justify_content": null,
            "justify_items": null,
            "left": null,
            "margin": null,
            "max_height": null,
            "max_width": null,
            "min_height": null,
            "min_width": null,
            "object_fit": null,
            "object_position": null,
            "order": null,
            "overflow": null,
            "overflow_x": null,
            "overflow_y": null,
            "padding": null,
            "right": null,
            "top": null,
            "visibility": null,
            "width": null
          }
        }
      }
    }
  },
  "nbformat": 4,
  "nbformat_minor": 0
}
