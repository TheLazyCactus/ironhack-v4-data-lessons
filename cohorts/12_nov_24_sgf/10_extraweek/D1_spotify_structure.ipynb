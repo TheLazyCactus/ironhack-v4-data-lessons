{
 "cells": [
  {
   "cell_type": "markdown",
   "id": "cab802fb",
   "metadata": {},
   "source": [
    "**Table of contents**<a id='toc0_'></a>    \n",
    "- [🌐 Spotify Recommender System](#toc1_)    \n",
    "  - [Getting the data](#toc1_1_)    \n",
    "    - [Connect to the API](#toc1_1_1_)    \n",
    "    - [Spotify search](#toc1_1_2_)    \n",
    "    - [Other info:](#toc1_1_3_)    \n",
    "    - [Embedded track player](#toc1_1_4_)    \n",
    "    - [Get song information (audio features)](#toc1_1_5_)    \n",
    "    - [Get album information (audio features of its songs)](#toc1_1_6_)    \n",
    "    - [Get playlist information](#toc1_1_7_)    \n",
    "    - [Playlist -> Album -> Songs -> Audio Features](#toc1_1_8_)    \n",
    "  - [Unsupervised learning (clustering)](#toc1_2_)    \n",
    "  - [Create the recommendation engine](#toc1_3_)    \n",
    "- [Acknowledgments](#toc2_)    \n",
    "\n",
    "<!-- vscode-jupyter-toc-config\n",
    "\tnumbering=false\n",
    "\tanchor=true\n",
    "\tflat=false\n",
    "\tminLevel=1\n",
    "\tmaxLevel=6\n",
    "\t/vscode-jupyter-toc-config -->\n",
    "<!-- THIS CELL WILL BE REPLACED ON TOC UPDATE. DO NOT WRITE YOUR TEXT IN THIS CELL -->"
   ]
  },
  {
   "cell_type": "markdown",
   "id": "f5c4396b",
   "metadata": {},
   "source": [
    "# <a id='toc1_'></a>[🌐 Spotify Recommender System](#toc0_)"
   ]
  },
  {
   "cell_type": "code",
   "execution_count": null,
   "id": "oQ94a5tjRXIG",
   "metadata": {
    "colab": {
     "base_uri": "https://localhost:8080/"
    },
    "id": "oQ94a5tjRXIG",
    "outputId": "2eba8f4d-6a1d-4ab7-b6b1-4cf2e839e64a"
   },
   "outputs": [],
   "source": [
    "# You know the drill\n",
    "# !pip install spotipy"
   ]
  },
  {
   "cell_type": "code",
   "execution_count": null,
   "id": "c0e2b16e",
   "metadata": {},
   "outputs": [],
   "source": [
    "import numpy as np\n",
    "import pandas as pd\n",
    "import random\n",
    "import warnings\n",
    "import spotipy\n",
    "from spotipy.oauth2 import SpotifyClientCredentials\n",
    "from sklearn.preprocessing import MinMaxScaler\n",
    "from sklearn.cluster import KMeans\n",
    "import time\n",
    "import getpass\n",
    "from yellowbrick.cluster import KElbowVisualizer\n",
    "\n",
    "warnings.filterwarnings('ignore')"
   ]
  },
  {
   "cell_type": "markdown",
   "id": "54beb4e1",
   "metadata": {},
   "source": [
    "## <a id='toc1_1_'></a>[Getting the data](#toc0_)"
   ]
  },
  {
   "cell_type": "markdown",
   "id": "bbc16075",
   "metadata": {},
   "source": [
    "Spotify has an API with a dedicated API wrapper called `spotipy` (ha, get it?), which can be used to retrieve songs, albums, and artist information. Additionally, Spotify has developed a couple of features for the tracks (liveness, instrumentalness, etc.) which are very useful in machine learning applications as the one we'll do today!"
   ]
  },
  {
   "cell_type": "markdown",
   "id": "ded04bec",
   "metadata": {},
   "source": [
    "Firstly, we will connect to the Spotify API using our credentials:"
   ]
  },
  {
   "cell_type": "code",
   "execution_count": null,
   "id": "d6858155",
   "metadata": {
    "id": "d6858155",
    "outputId": "a491e789-aca2-44bb-8fa3-23afc5e2ff70"
   },
   "outputs": [],
   "source": [
    "from config import CLIENT_SECRET, CLIENT_ID"
   ]
  },
  {
   "cell_type": "code",
   "execution_count": null,
   "id": "f915fa2a",
   "metadata": {
    "id": "f915fa2a",
    "outputId": "779fd359-f479-4336-8c32-e49d1a4989d2"
   },
   "outputs": [],
   "source": [
    "# Alternatively:\n",
    "# CLIENT_SECRET = getpass.getpass()\n",
    "# CLIENT_ID = getpass.getpass()"
   ]
  },
  {
   "cell_type": "markdown",
   "id": "4b115b88",
   "metadata": {},
   "source": [
    "### <a id='toc1_1_1_'></a>[Connect to the API](#toc0_)"
   ]
  },
  {
   "cell_type": "code",
   "execution_count": null,
   "id": "c805e4df",
   "metadata": {},
   "outputs": [],
   "source": [
    "spotify = spotipy.Spotify(\n",
    "    client_credentials_manager=SpotifyClientCredentials(\n",
    "        client_id=CLIENT_ID,\n",
    "        client_secret=CLIENT_SECRET))"
   ]
  },
  {
   "cell_type": "markdown",
   "id": "0d3cdf95",
   "metadata": {},
   "source": [
    "### <a id='toc1_1_2_'></a>[Spotify search](#toc0_)"
   ]
  },
  {
   "cell_type": "markdown",
   "id": "c738a6e1",
   "metadata": {},
   "source": [
    "We can run a search similarly to how we would in the Spotify app:"
   ]
  },
  {
   "cell_type": "code",
   "execution_count": null,
   "id": "3550cd31",
   "metadata": {
    "hidden": true,
    "id": "3550cd31"
   },
   "outputs": [],
   "source": [
    "song = spotify.search(q=\"Bohemian Rhapsody\", limit=3)"
   ]
  },
  {
   "cell_type": "code",
   "execution_count": null,
   "id": "814c7129",
   "metadata": {},
   "outputs": [],
   "source": [
    "song"
   ]
  },
  {
   "cell_type": "code",
   "execution_count": null,
   "id": "60d022bf",
   "metadata": {},
   "outputs": [],
   "source": [
    "from pprint import pprint\n",
    "pprint(song)"
   ]
  },
  {
   "cell_type": "markdown",
   "id": "0f4bd957",
   "metadata": {},
   "source": [
    "The outputs of all Spotify API calls will be JSON files, which can be treated as dictionaries:"
   ]
  },
  {
   "cell_type": "code",
   "execution_count": null,
   "id": "f42d95f4",
   "metadata": {
    "hidden": true,
    "id": "f42d95f4",
    "outputId": "b9184add-8054-479c-b0ea-9731e90e7794"
   },
   "outputs": [],
   "source": [
    "song.keys()"
   ]
  },
  {
   "cell_type": "code",
   "execution_count": null,
   "id": "217055b1",
   "metadata": {},
   "outputs": [],
   "source": [
    "song['tracks']"
   ]
  },
  {
   "cell_type": "markdown",
   "id": "f1798e1c",
   "metadata": {},
   "source": [
    "We notice that `song['tracks']` is also a dictionary, so we can repeat the process:"
   ]
  },
  {
   "cell_type": "code",
   "execution_count": null,
   "id": "e0ab03f2",
   "metadata": {
    "hidden": true,
    "id": "e0ab03f2",
    "outputId": "c6d5367c-5a8b-4f84-9901-67241c23076b"
   },
   "outputs": [],
   "source": [
    "song[\"tracks\"].keys()"
   ]
  },
  {
   "cell_type": "markdown",
   "id": "3e50555e",
   "metadata": {},
   "source": [
    "We have a couple of keys here:\n",
    "- `limit` - the song limit\n",
    "- `href` - a link to the web API endpoint returning the full result of the request\n",
    "- `previous` - URL of the previous page of items\n",
    "- `next` - URL to the next page of items\n",
    "- `offset` - the offset of items returned from the 0th page\n",
    "- `total` - total results available"
   ]
  },
  {
   "cell_type": "markdown",
   "id": "aad5014e",
   "metadata": {},
   "source": [
    "In tracks-items we have the number of hits we got from the search:"
   ]
  },
  {
   "cell_type": "code",
   "execution_count": null,
   "id": "f36c71f0",
   "metadata": {
    "hidden": true,
    "id": "f36c71f0",
    "outputId": "2378a383-4e0a-4b4b-aaad-d65b4fcfbfe5"
   },
   "outputs": [],
   "source": [
    "len(song[\"tracks\"][\"items\"]) # As we expected, this is equal to 3"
   ]
  },
  {
   "cell_type": "markdown",
   "id": "5946929d",
   "metadata": {},
   "source": [
    "We can select the first element and keep inspecting:"
   ]
  },
  {
   "cell_type": "code",
   "execution_count": null,
   "id": "b75fea80",
   "metadata": {
    "hidden": true,
    "id": "b75fea80",
    "outputId": "52d9c6f9-43b0-4e1c-86e4-c7bbe8b7c808"
   },
   "outputs": [],
   "source": [
    "song[\"tracks\"][\"items\"][0].keys()"
   ]
  },
  {
   "cell_type": "markdown",
   "id": "9975a93a",
   "metadata": {},
   "source": [
    "Now we have many more details about the specific songs, including some very relevant ones such as `album`, `artists`, `name`, and `uri`. URIs are Unique Resource Identifiers and Spotify has unique URIs for songs, albums, and playlists."
   ]
  },
  {
   "cell_type": "code",
   "execution_count": null,
   "id": "8c7b56b3",
   "metadata": {
    "hidden": true,
    "id": "8c7b56b3",
    "outputId": "a9e29f29-d79b-489f-cadb-692f476ceea8"
   },
   "outputs": [],
   "source": [
    "song[\"tracks\"][\"items\"][0][\"artists\"][0].keys()"
   ]
  },
  {
   "cell_type": "markdown",
   "id": "8309705f",
   "metadata": {},
   "source": [
    "Who were the artists playing Bohemian Rhapsody?"
   ]
  },
  {
   "cell_type": "code",
   "execution_count": null,
   "id": "be013f65",
   "metadata": {},
   "outputs": [],
   "source": [
    "song[\"tracks\"][\"items\"][0][\"artists\"][0][\"name\"]"
   ]
  },
  {
   "cell_type": "markdown",
   "id": "509c463b",
   "metadata": {},
   "source": [
    "![](https://media3.giphy.com/media/dhgg2GTU8pv8vmkdiW/giphy.gif?cid=ecf05e47vh8cfhakzo9clp91r1cewyp82u0r9o80g319kfgj&ep=v1_gifs_search&rid=giphy.gif&ct=g)"
   ]
  },
  {
   "cell_type": "markdown",
   "id": "83154ec8",
   "metadata": {},
   "source": [
    "### <a id='toc1_1_3_'></a>[Other info:](#toc0_)"
   ]
  },
  {
   "cell_type": "code",
   "execution_count": null,
   "id": "05018a48",
   "metadata": {},
   "outputs": [],
   "source": [
    "pprint(song[\"tracks\"][\"items\"][0][\"artists\"]) # Track artists\n",
    "print(\"\")\n",
    "print(\"Track ID:\", song[\"tracks\"][\"items\"][0][\"id\"], \"\\n\") # Track ID\n",
    "print(\"Track name:\", song[\"tracks\"][\"items\"][0][\"name\"], \"\\n\") # Track name\n",
    "print(\"Popularity index:\", song[\"tracks\"][\"items\"][0][\"popularity\"], \"\\n\") # Popularity index\n",
    "print(\"Long-form track ID:\", song[\"tracks\"][\"items\"][0][\"uri\"], \"\\n\") # Basically ID"
   ]
  },
  {
   "cell_type": "markdown",
   "id": "14a3ce21",
   "metadata": {},
   "source": [
    "### <a id='toc1_1_4_'></a>[Embedded track player](#toc0_)"
   ]
  },
  {
   "cell_type": "code",
   "execution_count": null,
   "id": "d4955670",
   "metadata": {},
   "outputs": [],
   "source": [
    "from IPython.display import IFrame\n",
    "\n",
    "track_id = '6l8GvAyoUZwWDgF1e4822w'\n",
    "#track_id= 'spotify:track:3hgl7EQwTutSm6PESsB7gZ'\n",
    "IFrame(src=\"https://open.spotify.com/embed/track/\"+track_id,\n",
    "       width=\"320\",\n",
    "       height=\"80\",\n",
    "       frameborder=\"0\",\n",
    "       allowtransparency=\"true\",\n",
    "       allow=\"encrypted-media\",\n",
    "      )"
   ]
  },
  {
   "cell_type": "markdown",
   "id": "e715ec68",
   "metadata": {},
   "source": [
    "### <a id='toc1_1_5_'></a>[Get song information (audio features)](#toc0_)"
   ]
  },
  {
   "cell_type": "markdown",
   "id": "521ff620",
   "metadata": {},
   "source": [
    "Now that we've learnt how to access songs using Spotify's search function, we will extract audio features to build our subsequent clustering model. This time, instead of querying for a specific song, I'm using a link taken directly from Spotify:"
   ]
  },
  {
   "cell_type": "code",
   "execution_count": null,
   "id": "9aae6b2a",
   "metadata": {
    "id": "9aae6b2a"
   },
   "outputs": [],
   "source": [
    "song = spotify.track(\"https://open.spotify.com/track/6YMPu36VGIknb8Ey1ohW3j\")"
   ]
  },
  {
   "cell_type": "code",
   "execution_count": null,
   "id": "e6d6c8bf",
   "metadata": {
    "id": "e6d6c8bf",
    "outputId": "71357de8-f2c7-40ff-a8e3-5c36b28ea680"
   },
   "outputs": [],
   "source": [
    "song.keys()"
   ]
  },
  {
   "cell_type": "markdown",
   "id": "76ae1765",
   "metadata": {},
   "source": [
    "What song is it? :D"
   ]
  },
  {
   "cell_type": "code",
   "execution_count": null,
   "id": "f2397faf",
   "metadata": {
    "id": "f2397faf",
    "outputId": "1b97f2fb-e544-4ec7-ed39-9ca8aa08ecfb"
   },
   "outputs": [],
   "source": [
    "# Find out what the song is!"
   ]
  },
  {
   "cell_type": "markdown",
   "id": "1b87daae",
   "metadata": {},
   "source": [
    "After retrieving the song, I can get its URI to further extract audio features:"
   ]
  },
  {
   "cell_type": "code",
   "execution_count": null,
   "id": "269d08c5",
   "metadata": {
    "id": "269d08c5",
    "outputId": "6485796f-47a9-43d9-c3a5-69d379fb2734"
   },
   "outputs": [],
   "source": [
    "# So... what is the URI?\n",
    "\n",
    "# song_uri = "
   ]
  },
  {
   "cell_type": "code",
   "execution_count": null,
   "id": "86a6285e",
   "metadata": {},
   "outputs": [],
   "source": [
    "spotify.audio_features(tracks=[song_uri])[0]"
   ]
  },
  {
   "cell_type": "markdown",
   "id": "bd40aa59",
   "metadata": {},
   "source": [
    "Nice! Now it's time to get even more songs :)"
   ]
  },
  {
   "cell_type": "markdown",
   "id": "c86d952c",
   "metadata": {},
   "source": [
    "### <a id='toc1_1_6_'></a>[Get album information (audio features of its songs)](#toc0_)"
   ]
  },
  {
   "cell_type": "markdown",
   "id": "8e591521",
   "metadata": {},
   "source": [
    "We can also extract album information using a direct link:"
   ]
  },
  {
   "cell_type": "code",
   "execution_count": 52,
   "id": "498b4cd7",
   "metadata": {
    "hidden": true,
    "id": "498b4cd7"
   },
   "outputs": [],
   "source": [
    "album = spotify.album_tracks(\"https://open.spotify.com/album/2WT1pbYjLJciAR26yMebkH?si=Iqlrze6XRM6FfZQWfmRq3A\")"
   ]
  },
  {
   "cell_type": "markdown",
   "id": "68f8e19e",
   "metadata": {},
   "source": [
    "and explore the JSON again:"
   ]
  },
  {
   "cell_type": "code",
   "execution_count": 53,
   "id": "65c0c465",
   "metadata": {
    "hidden": true,
    "id": "65c0c465",
    "outputId": "f104f7ec-7219-4db0-ace6-fb879113aed1"
   },
   "outputs": [
    {
     "data": {
      "text/plain": [
       "dict_keys(['href', 'items', 'limit', 'next', 'offset', 'previous', 'total'])"
      ]
     },
     "execution_count": 53,
     "metadata": {},
     "output_type": "execute_result"
    }
   ],
   "source": [
    "album.keys()"
   ]
  },
  {
   "cell_type": "code",
   "execution_count": 54,
   "id": "16cde5ce",
   "metadata": {
    "hidden": true,
    "id": "16cde5ce",
    "outputId": "07f32f13-aadb-4fc8-ab47-26a48f74e017"
   },
   "outputs": [
    {
     "data": {
      "text/plain": [
       "10"
      ]
     },
     "execution_count": 54,
     "metadata": {},
     "output_type": "execute_result"
    }
   ],
   "source": [
    "# This is the number of songs in the album\n",
    "len(album[\"items\"])"
   ]
  },
  {
   "cell_type": "markdown",
   "id": "e17db077",
   "metadata": {},
   "source": [
    "We can explore details about the first song:"
   ]
  },
  {
   "cell_type": "code",
   "execution_count": 55,
   "id": "da83891b",
   "metadata": {
    "hidden": true,
    "id": "da83891b",
    "outputId": "a3994bbc-c06f-4032-f188-ef7595c5e543"
   },
   "outputs": [
    {
     "data": {
      "text/plain": [
       "dict_keys(['artists', 'available_markets', 'disc_number', 'duration_ms', 'explicit', 'external_urls', 'href', 'id', 'name', 'preview_url', 'track_number', 'type', 'uri', 'is_local'])"
      ]
     },
     "execution_count": 55,
     "metadata": {},
     "output_type": "execute_result"
    }
   ],
   "source": [
    "album[\"items\"][0].keys()"
   ]
  },
  {
   "cell_type": "code",
   "execution_count": 56,
   "id": "aa9cde77",
   "metadata": {
    "hidden": true,
    "id": "aa9cde77",
    "outputId": "180eb6dd-1857-4e89-991e-dd1d13834dcf"
   },
   "outputs": [
    {
     "data": {
      "text/plain": [
       "'Speak To Me - 2011 Remastered Version'"
      ]
     },
     "execution_count": 56,
     "metadata": {},
     "output_type": "execute_result"
    }
   ],
   "source": [
    "album[\"items\"][0][\"name\"]"
   ]
  },
  {
   "cell_type": "markdown",
   "id": "330ff86f",
   "metadata": {},
   "source": [
    "Now we can get the titles of all songs in the album:"
   ]
  },
  {
   "cell_type": "code",
   "execution_count": 57,
   "id": "598e47da",
   "metadata": {
    "hidden": true,
    "id": "598e47da",
    "outputId": "55b0bf8c-24d6-428a-a01d-aee181f87a56"
   },
   "outputs": [
    {
     "name": "stdout",
     "output_type": "stream",
     "text": [
      "Speak To Me - 2011 Remastered Version\n",
      "Breathe (In The Air) - 2011 Remastered Version\n",
      "On The Run - 2011 Remastered Version\n",
      "Time - 2011 Remastered Version\n",
      "The Great Gig In The Sky - 2011 Remastered Version\n",
      "Money - 2011 Remastered Version\n",
      "Us And Them - 2011 Remastered Version\n",
      "Any Colour You Like - 2011 Remastered Version\n",
      "Brain Damage - 2011 Remastered Version\n",
      "Eclipse - 2011 Remastered Version\n"
     ]
    }
   ],
   "source": [
    "for song in album[\"items\"]:\n",
    "    print(song[\"name\"])"
   ]
  },
  {
   "cell_type": "markdown",
   "id": "3affc875",
   "metadata": {},
   "source": [
    "We will get the URIs using a list comprehension so we can later extract the audio features:"
   ]
  },
  {
   "cell_type": "code",
   "execution_count": 58,
   "id": "64f21eba",
   "metadata": {
    "hidden": true,
    "id": "64f21eba"
   },
   "outputs": [],
   "source": [
    "album_uris = [song[\"uri\"] for song in album[\"items\"]]"
   ]
  },
  {
   "cell_type": "code",
   "execution_count": 59,
   "id": "c3ccedaa",
   "metadata": {
    "hidden": true,
    "id": "c3ccedaa"
   },
   "outputs": [],
   "source": [
    "album_track_feat = [spotify.audio_features(uri)[0] for uri in album_uris]"
   ]
  },
  {
   "cell_type": "code",
   "execution_count": 60,
   "id": "fd99cecd",
   "metadata": {
    "hidden": true,
    "id": "fd99cecd",
    "outputId": "991ae799-64d8-44ed-a57c-bf9502da0f23"
   },
   "outputs": [
    {
     "data": {
      "text/plain": [
       "10"
      ]
     },
     "execution_count": 60,
     "metadata": {},
     "output_type": "execute_result"
    }
   ],
   "source": [
    "len(album_track_feat)"
   ]
  },
  {
   "cell_type": "code",
   "execution_count": 61,
   "id": "4467c05b",
   "metadata": {},
   "outputs": [
    {
     "data": {
      "text/html": [
       "<div>\n",
       "<style scoped>\n",
       "    .dataframe tbody tr th:only-of-type {\n",
       "        vertical-align: middle;\n",
       "    }\n",
       "\n",
       "    .dataframe tbody tr th {\n",
       "        vertical-align: top;\n",
       "    }\n",
       "\n",
       "    .dataframe thead th {\n",
       "        text-align: right;\n",
       "    }\n",
       "</style>\n",
       "<table border=\"1\" class=\"dataframe\">\n",
       "  <thead>\n",
       "    <tr style=\"text-align: right;\">\n",
       "      <th></th>\n",
       "      <th>danceability</th>\n",
       "      <th>energy</th>\n",
       "      <th>key</th>\n",
       "      <th>loudness</th>\n",
       "      <th>mode</th>\n",
       "      <th>speechiness</th>\n",
       "      <th>acousticness</th>\n",
       "      <th>instrumentalness</th>\n",
       "      <th>liveness</th>\n",
       "      <th>valence</th>\n",
       "      <th>tempo</th>\n",
       "      <th>type</th>\n",
       "      <th>id</th>\n",
       "      <th>uri</th>\n",
       "      <th>track_href</th>\n",
       "      <th>analysis_url</th>\n",
       "      <th>duration_ms</th>\n",
       "      <th>time_signature</th>\n",
       "    </tr>\n",
       "  </thead>\n",
       "  <tbody>\n",
       "    <tr>\n",
       "      <th>0</th>\n",
       "      <td>0.382</td>\n",
       "      <td>0.0176</td>\n",
       "      <td>1</td>\n",
       "      <td>-34.673</td>\n",
       "      <td>1</td>\n",
       "      <td>0.0563</td>\n",
       "      <td>0.2510</td>\n",
       "      <td>0.82300</td>\n",
       "      <td>0.0983</td>\n",
       "      <td>0.0315</td>\n",
       "      <td>179.327</td>\n",
       "      <td>audio_features</td>\n",
       "      <td>4rQYDXfKFikLX4ad674jhg</td>\n",
       "      <td>spotify:track:4rQYDXfKFikLX4ad674jhg</td>\n",
       "      <td>https://api.spotify.com/v1/tracks/4rQYDXfKFikL...</td>\n",
       "      <td>https://api.spotify.com/v1/audio-analysis/4rQY...</td>\n",
       "      <td>64333</td>\n",
       "      <td>3</td>\n",
       "    </tr>\n",
       "    <tr>\n",
       "      <th>1</th>\n",
       "      <td>0.429</td>\n",
       "      <td>0.3430</td>\n",
       "      <td>11</td>\n",
       "      <td>-16.637</td>\n",
       "      <td>0</td>\n",
       "      <td>0.0339</td>\n",
       "      <td>0.2650</td>\n",
       "      <td>0.18400</td>\n",
       "      <td>0.1570</td>\n",
       "      <td>0.3130</td>\n",
       "      <td>128.455</td>\n",
       "      <td>audio_features</td>\n",
       "      <td>3zJRvtQkHQRTNEXSY8jQPR</td>\n",
       "      <td>spotify:track:3zJRvtQkHQRTNEXSY8jQPR</td>\n",
       "      <td>https://api.spotify.com/v1/tracks/3zJRvtQkHQRT...</td>\n",
       "      <td>https://api.spotify.com/v1/audio-analysis/3zJR...</td>\n",
       "      <td>169560</td>\n",
       "      <td>4</td>\n",
       "    </tr>\n",
       "    <tr>\n",
       "      <th>2</th>\n",
       "      <td>0.380</td>\n",
       "      <td>0.5230</td>\n",
       "      <td>9</td>\n",
       "      <td>-22.437</td>\n",
       "      <td>1</td>\n",
       "      <td>0.0638</td>\n",
       "      <td>0.6300</td>\n",
       "      <td>0.86300</td>\n",
       "      <td>0.1020</td>\n",
       "      <td>0.1050</td>\n",
       "      <td>165.508</td>\n",
       "      <td>audio_features</td>\n",
       "      <td>51rylCDfKusBQcpo2iem6u</td>\n",
       "      <td>spotify:track:51rylCDfKusBQcpo2iem6u</td>\n",
       "      <td>https://api.spotify.com/v1/tracks/51rylCDfKusB...</td>\n",
       "      <td>https://api.spotify.com/v1/audio-analysis/51ry...</td>\n",
       "      <td>216107</td>\n",
       "      <td>4</td>\n",
       "    </tr>\n",
       "    <tr>\n",
       "      <th>3</th>\n",
       "      <td>0.355</td>\n",
       "      <td>0.4470</td>\n",
       "      <td>9</td>\n",
       "      <td>-13.631</td>\n",
       "      <td>1</td>\n",
       "      <td>0.0894</td>\n",
       "      <td>0.4530</td>\n",
       "      <td>0.00225</td>\n",
       "      <td>0.1630</td>\n",
       "      <td>0.3690</td>\n",
       "      <td>122.473</td>\n",
       "      <td>audio_features</td>\n",
       "      <td>4xHWH1jwV5j4mBYRhxPbwZ</td>\n",
       "      <td>spotify:track:4xHWH1jwV5j4mBYRhxPbwZ</td>\n",
       "      <td>https://api.spotify.com/v1/tracks/4xHWH1jwV5j4...</td>\n",
       "      <td>https://api.spotify.com/v1/audio-analysis/4xHW...</td>\n",
       "      <td>422853</td>\n",
       "      <td>4</td>\n",
       "    </tr>\n",
       "    <tr>\n",
       "      <th>4</th>\n",
       "      <td>0.274</td>\n",
       "      <td>0.1950</td>\n",
       "      <td>5</td>\n",
       "      <td>-15.289</td>\n",
       "      <td>1</td>\n",
       "      <td>0.0339</td>\n",
       "      <td>0.7530</td>\n",
       "      <td>0.73900</td>\n",
       "      <td>0.0774</td>\n",
       "      <td>0.1680</td>\n",
       "      <td>115.227</td>\n",
       "      <td>audio_features</td>\n",
       "      <td>25tZHMv3ctlzqDaHAeuU9c</td>\n",
       "      <td>spotify:track:25tZHMv3ctlzqDaHAeuU9c</td>\n",
       "      <td>https://api.spotify.com/v1/tracks/25tZHMv3ctlz...</td>\n",
       "      <td>https://api.spotify.com/v1/audio-analysis/25tZ...</td>\n",
       "      <td>284413</td>\n",
       "      <td>4</td>\n",
       "    </tr>\n",
       "    <tr>\n",
       "      <th>5</th>\n",
       "      <td>0.470</td>\n",
       "      <td>0.5050</td>\n",
       "      <td>11</td>\n",
       "      <td>-11.966</td>\n",
       "      <td>0</td>\n",
       "      <td>0.1710</td>\n",
       "      <td>0.0194</td>\n",
       "      <td>0.00104</td>\n",
       "      <td>0.2060</td>\n",
       "      <td>0.7670</td>\n",
       "      <td>124.065</td>\n",
       "      <td>audio_features</td>\n",
       "      <td>7Gx2q0ueNwvDp2BOZYGCMO</td>\n",
       "      <td>spotify:track:7Gx2q0ueNwvDp2BOZYGCMO</td>\n",
       "      <td>https://api.spotify.com/v1/tracks/7Gx2q0ueNwvD...</td>\n",
       "      <td>https://api.spotify.com/v1/audio-analysis/7Gx2...</td>\n",
       "      <td>380080</td>\n",
       "      <td>1</td>\n",
       "    </tr>\n",
       "    <tr>\n",
       "      <th>6</th>\n",
       "      <td>0.361</td>\n",
       "      <td>0.2590</td>\n",
       "      <td>2</td>\n",
       "      <td>-16.279</td>\n",
       "      <td>1</td>\n",
       "      <td>0.0306</td>\n",
       "      <td>0.8350</td>\n",
       "      <td>0.30300</td>\n",
       "      <td>0.6120</td>\n",
       "      <td>0.1370</td>\n",
       "      <td>72.759</td>\n",
       "      <td>audio_features</td>\n",
       "      <td>626wlz3bovvpH06PYht5R0</td>\n",
       "      <td>spotify:track:626wlz3bovvpH06PYht5R0</td>\n",
       "      <td>https://api.spotify.com/v1/tracks/626wlz3bovvp...</td>\n",
       "      <td>https://api.spotify.com/v1/audio-analysis/626w...</td>\n",
       "      <td>472627</td>\n",
       "      <td>4</td>\n",
       "    </tr>\n",
       "    <tr>\n",
       "      <th>7</th>\n",
       "      <td>0.289</td>\n",
       "      <td>0.6600</td>\n",
       "      <td>0</td>\n",
       "      <td>-13.985</td>\n",
       "      <td>1</td>\n",
       "      <td>0.0917</td>\n",
       "      <td>0.1280</td>\n",
       "      <td>0.94900</td>\n",
       "      <td>0.4260</td>\n",
       "      <td>0.5270</td>\n",
       "      <td>150.710</td>\n",
       "      <td>audio_features</td>\n",
       "      <td>1wGoqD0vrf7njGvxm8CEf5</td>\n",
       "      <td>spotify:track:1wGoqD0vrf7njGvxm8CEf5</td>\n",
       "      <td>https://api.spotify.com/v1/tracks/1wGoqD0vrf7n...</td>\n",
       "      <td>https://api.spotify.com/v1/audio-analysis/1wGo...</td>\n",
       "      <td>205773</td>\n",
       "      <td>4</td>\n",
       "    </tr>\n",
       "    <tr>\n",
       "      <th>8</th>\n",
       "      <td>0.319</td>\n",
       "      <td>0.1790</td>\n",
       "      <td>2</td>\n",
       "      <td>-17.635</td>\n",
       "      <td>1</td>\n",
       "      <td>0.0315</td>\n",
       "      <td>0.0634</td>\n",
       "      <td>0.18100</td>\n",
       "      <td>0.4310</td>\n",
       "      <td>0.2590</td>\n",
       "      <td>133.708</td>\n",
       "      <td>audio_features</td>\n",
       "      <td>7EUEl5wJb8VI777UAUvRnH</td>\n",
       "      <td>spotify:track:7EUEl5wJb8VI777UAUvRnH</td>\n",
       "      <td>https://api.spotify.com/v1/tracks/7EUEl5wJb8VI...</td>\n",
       "      <td>https://api.spotify.com/v1/audio-analysis/7EUE...</td>\n",
       "      <td>225827</td>\n",
       "      <td>4</td>\n",
       "    </tr>\n",
       "    <tr>\n",
       "      <th>9</th>\n",
       "      <td>0.276</td>\n",
       "      <td>0.4780</td>\n",
       "      <td>10</td>\n",
       "      <td>-14.186</td>\n",
       "      <td>1</td>\n",
       "      <td>0.0410</td>\n",
       "      <td>0.0338</td>\n",
       "      <td>0.84100</td>\n",
       "      <td>0.0927</td>\n",
       "      <td>0.1440</td>\n",
       "      <td>135.336</td>\n",
       "      <td>audio_features</td>\n",
       "      <td>3Z2RsIdWm4BNbT0LsFBuoN</td>\n",
       "      <td>spotify:track:3Z2RsIdWm4BNbT0LsFBuoN</td>\n",
       "      <td>https://api.spotify.com/v1/tracks/3Z2RsIdWm4BN...</td>\n",
       "      <td>https://api.spotify.com/v1/audio-analysis/3Z2R...</td>\n",
       "      <td>114093</td>\n",
       "      <td>3</td>\n",
       "    </tr>\n",
       "  </tbody>\n",
       "</table>\n",
       "</div>"
      ],
      "text/plain": [
       "   danceability  energy  key  loudness  mode  speechiness  acousticness  \\\n",
       "0         0.382  0.0176    1   -34.673     1       0.0563        0.2510   \n",
       "1         0.429  0.3430   11   -16.637     0       0.0339        0.2650   \n",
       "2         0.380  0.5230    9   -22.437     1       0.0638        0.6300   \n",
       "3         0.355  0.4470    9   -13.631     1       0.0894        0.4530   \n",
       "4         0.274  0.1950    5   -15.289     1       0.0339        0.7530   \n",
       "5         0.470  0.5050   11   -11.966     0       0.1710        0.0194   \n",
       "6         0.361  0.2590    2   -16.279     1       0.0306        0.8350   \n",
       "7         0.289  0.6600    0   -13.985     1       0.0917        0.1280   \n",
       "8         0.319  0.1790    2   -17.635     1       0.0315        0.0634   \n",
       "9         0.276  0.4780   10   -14.186     1       0.0410        0.0338   \n",
       "\n",
       "   instrumentalness  liveness  valence    tempo            type  \\\n",
       "0           0.82300    0.0983   0.0315  179.327  audio_features   \n",
       "1           0.18400    0.1570   0.3130  128.455  audio_features   \n",
       "2           0.86300    0.1020   0.1050  165.508  audio_features   \n",
       "3           0.00225    0.1630   0.3690  122.473  audio_features   \n",
       "4           0.73900    0.0774   0.1680  115.227  audio_features   \n",
       "5           0.00104    0.2060   0.7670  124.065  audio_features   \n",
       "6           0.30300    0.6120   0.1370   72.759  audio_features   \n",
       "7           0.94900    0.4260   0.5270  150.710  audio_features   \n",
       "8           0.18100    0.4310   0.2590  133.708  audio_features   \n",
       "9           0.84100    0.0927   0.1440  135.336  audio_features   \n",
       "\n",
       "                       id                                   uri  \\\n",
       "0  4rQYDXfKFikLX4ad674jhg  spotify:track:4rQYDXfKFikLX4ad674jhg   \n",
       "1  3zJRvtQkHQRTNEXSY8jQPR  spotify:track:3zJRvtQkHQRTNEXSY8jQPR   \n",
       "2  51rylCDfKusBQcpo2iem6u  spotify:track:51rylCDfKusBQcpo2iem6u   \n",
       "3  4xHWH1jwV5j4mBYRhxPbwZ  spotify:track:4xHWH1jwV5j4mBYRhxPbwZ   \n",
       "4  25tZHMv3ctlzqDaHAeuU9c  spotify:track:25tZHMv3ctlzqDaHAeuU9c   \n",
       "5  7Gx2q0ueNwvDp2BOZYGCMO  spotify:track:7Gx2q0ueNwvDp2BOZYGCMO   \n",
       "6  626wlz3bovvpH06PYht5R0  spotify:track:626wlz3bovvpH06PYht5R0   \n",
       "7  1wGoqD0vrf7njGvxm8CEf5  spotify:track:1wGoqD0vrf7njGvxm8CEf5   \n",
       "8  7EUEl5wJb8VI777UAUvRnH  spotify:track:7EUEl5wJb8VI777UAUvRnH   \n",
       "9  3Z2RsIdWm4BNbT0LsFBuoN  spotify:track:3Z2RsIdWm4BNbT0LsFBuoN   \n",
       "\n",
       "                                          track_href  \\\n",
       "0  https://api.spotify.com/v1/tracks/4rQYDXfKFikL...   \n",
       "1  https://api.spotify.com/v1/tracks/3zJRvtQkHQRT...   \n",
       "2  https://api.spotify.com/v1/tracks/51rylCDfKusB...   \n",
       "3  https://api.spotify.com/v1/tracks/4xHWH1jwV5j4...   \n",
       "4  https://api.spotify.com/v1/tracks/25tZHMv3ctlz...   \n",
       "5  https://api.spotify.com/v1/tracks/7Gx2q0ueNwvD...   \n",
       "6  https://api.spotify.com/v1/tracks/626wlz3bovvp...   \n",
       "7  https://api.spotify.com/v1/tracks/1wGoqD0vrf7n...   \n",
       "8  https://api.spotify.com/v1/tracks/7EUEl5wJb8VI...   \n",
       "9  https://api.spotify.com/v1/tracks/3Z2RsIdWm4BN...   \n",
       "\n",
       "                                        analysis_url  duration_ms  \\\n",
       "0  https://api.spotify.com/v1/audio-analysis/4rQY...        64333   \n",
       "1  https://api.spotify.com/v1/audio-analysis/3zJR...       169560   \n",
       "2  https://api.spotify.com/v1/audio-analysis/51ry...       216107   \n",
       "3  https://api.spotify.com/v1/audio-analysis/4xHW...       422853   \n",
       "4  https://api.spotify.com/v1/audio-analysis/25tZ...       284413   \n",
       "5  https://api.spotify.com/v1/audio-analysis/7Gx2...       380080   \n",
       "6  https://api.spotify.com/v1/audio-analysis/626w...       472627   \n",
       "7  https://api.spotify.com/v1/audio-analysis/1wGo...       205773   \n",
       "8  https://api.spotify.com/v1/audio-analysis/7EUE...       225827   \n",
       "9  https://api.spotify.com/v1/audio-analysis/3Z2R...       114093   \n",
       "\n",
       "   time_signature  \n",
       "0               3  \n",
       "1               4  \n",
       "2               4  \n",
       "3               4  \n",
       "4               4  \n",
       "5               1  \n",
       "6               4  \n",
       "7               4  \n",
       "8               4  \n",
       "9               3  "
      ]
     },
     "execution_count": 61,
     "metadata": {},
     "output_type": "execute_result"
    }
   ],
   "source": [
    "pd.DataFrame(album_track_feat)"
   ]
  },
  {
   "cell_type": "markdown",
   "id": "579e3efd",
   "metadata": {},
   "source": [
    "### <a id='toc1_1_7_'></a>[Get playlist information](#toc0_)"
   ]
  },
  {
   "cell_type": "markdown",
   "id": "1fb6205a",
   "metadata": {},
   "source": [
    "We can apply the same strategy to extract all the songs from a playlist:"
   ]
  },
  {
   "cell_type": "code",
   "execution_count": 62,
   "id": "42dce84e",
   "metadata": {
    "hidden": true,
    "id": "42dce84e"
   },
   "outputs": [],
   "source": [
    "list_items = spotify.playlist_items(\"https://open.spotify.com/playlist/37i9dQZEVXbMDoHDwVN2tF?si=15bc8d87f6bf4560\")"
   ]
  },
  {
   "cell_type": "code",
   "execution_count": 63,
   "id": "a874f4f5",
   "metadata": {
    "hidden": true,
    "id": "a874f4f5",
    "outputId": "e909e4d9-8404-4613-c9b3-747917bc58ed"
   },
   "outputs": [
    {
     "data": {
      "text/plain": [
       "dict_keys(['href', 'items', 'limit', 'next', 'offset', 'previous', 'total'])"
      ]
     },
     "execution_count": 63,
     "metadata": {},
     "output_type": "execute_result"
    }
   ],
   "source": [
    "list_items.keys()"
   ]
  },
  {
   "cell_type": "code",
   "execution_count": 64,
   "id": "18e01283",
   "metadata": {
    "hidden": true,
    "id": "18e01283",
    "outputId": "40dc888b-2e26-4ccd-c6c5-a4587f6a5227"
   },
   "outputs": [
    {
     "data": {
      "text/plain": [
       "50"
      ]
     },
     "execution_count": 64,
     "metadata": {},
     "output_type": "execute_result"
    }
   ],
   "source": [
    "len(list_items[\"items\"])"
   ]
  },
  {
   "cell_type": "code",
   "execution_count": 65,
   "id": "8fd410d7",
   "metadata": {
    "hidden": true,
    "id": "8fd410d7",
    "outputId": "903f5e81-4441-4c45-e40c-6ee6940af35b"
   },
   "outputs": [
    {
     "data": {
      "text/plain": [
       "dict_keys(['added_at', 'added_by', 'is_local', 'primary_color', 'track', 'video_thumbnail'])"
      ]
     },
     "execution_count": 65,
     "metadata": {},
     "output_type": "execute_result"
    }
   ],
   "source": [
    "list_items[\"items\"][0].keys()"
   ]
  },
  {
   "cell_type": "code",
   "execution_count": 66,
   "id": "23edb824",
   "metadata": {
    "hidden": true,
    "id": "23edb824",
    "outputId": "809764e8-cea9-4882-89c4-81db17772785"
   },
   "outputs": [
    {
     "data": {
      "text/plain": [
       "dict_keys(['preview_url', 'available_markets', 'explicit', 'type', 'episode', 'track', 'album', 'artists', 'disc_number', 'track_number', 'duration_ms', 'external_ids', 'external_urls', 'href', 'id', 'name', 'popularity', 'uri', 'is_local'])"
      ]
     },
     "execution_count": 66,
     "metadata": {},
     "output_type": "execute_result"
    }
   ],
   "source": [
    "list_items[\"items\"][0][\"track\"].keys()"
   ]
  },
  {
   "cell_type": "code",
   "execution_count": 67,
   "id": "14ad8ca4",
   "metadata": {
    "hidden": true,
    "id": "14ad8ca4",
    "outputId": "1220ef61-6902-44ae-d4b2-efce39d06797"
   },
   "outputs": [
    {
     "data": {
      "text/plain": [
       "'Die With A Smile'"
      ]
     },
     "execution_count": 67,
     "metadata": {},
     "output_type": "execute_result"
    }
   ],
   "source": [
    "list_items[\"items\"][0][\"track\"][\"name\"]"
   ]
  },
  {
   "cell_type": "code",
   "execution_count": 68,
   "id": "3a67337f",
   "metadata": {
    "hidden": true,
    "id": "3a67337f",
    "outputId": "fb96d281-bcb5-4879-b4aa-573f94369597"
   },
   "outputs": [
    {
     "data": {
      "text/plain": [
       "dict_keys(['available_markets', 'type', 'album_type', 'href', 'id', 'images', 'name', 'release_date', 'release_date_precision', 'uri', 'artists', 'external_urls', 'total_tracks'])"
      ]
     },
     "execution_count": 68,
     "metadata": {},
     "output_type": "execute_result"
    }
   ],
   "source": [
    "list_items[\"items\"][0][\"track\"][\"album\"].keys()"
   ]
  },
  {
   "cell_type": "code",
   "execution_count": 69,
   "id": "9de10960",
   "metadata": {},
   "outputs": [
    {
     "data": {
      "text/plain": [
       "'spotify:album:10FLjwfpbxLmW8c25Xyc2N'"
      ]
     },
     "execution_count": 69,
     "metadata": {},
     "output_type": "execute_result"
    }
   ],
   "source": [
    "list_items[\"items\"][0][\"track\"][\"album\"][\"uri\"]"
   ]
  },
  {
   "cell_type": "markdown",
   "id": "14e74386",
   "metadata": {},
   "source": [
    "### <a id='toc1_1_8_'></a>[Playlist -> Album -> Songs -> Audio Features](#toc0_)"
   ]
  },
  {
   "cell_type": "markdown",
   "id": "fdcc24c2",
   "metadata": {},
   "source": [
    "Now we will combine all the previous steps together to build up a music dataset. We will extract all the songs in a playlist, then all the songs for each of their albums. For all the songs we collect, we will create a database with audio features that we can use later on: "
   ]
  },
  {
   "cell_type": "code",
   "execution_count": 70,
   "id": "119874b9",
   "metadata": {
    "hidden": true,
    "id": "119874b9"
   },
   "outputs": [],
   "source": [
    "list_items = spotify.playlist_items(\"https://open.spotify.com/playlist/37i9dQZEVXbMDoHDwVN2tF?si=5f944fd835e14197\")"
   ]
  },
  {
   "cell_type": "code",
   "execution_count": 71,
   "id": "13899a7f",
   "metadata": {
    "hidden": true,
    "id": "13899a7f",
    "outputId": "7fda9d88-8eff-47e0-a1f6-638fb9db6307"
   },
   "outputs": [
    {
     "data": {
      "text/plain": [
       "dict_keys(['added_at', 'added_by', 'is_local', 'primary_color', 'track', 'video_thumbnail'])"
      ]
     },
     "execution_count": 71,
     "metadata": {},
     "output_type": "execute_result"
    }
   ],
   "source": [
    "list_items[\"items\"][0].keys()"
   ]
  },
  {
   "cell_type": "code",
   "execution_count": 72,
   "id": "44c777de",
   "metadata": {
    "hidden": true,
    "id": "44c777de",
    "outputId": "e100f11a-4bb4-4548-e797-d66a675ac307"
   },
   "outputs": [
    {
     "name": "stdout",
     "output_type": "stream",
     "text": [
      "Die With A Smile\n",
      "APT.\n",
      "HIT ME HARD AND SOFT\n",
      "MUSE\n",
      "Tu Boda\n",
      "The Secret of Us (Deluxe)\n",
      "Short n' Sweet\n",
      "Short n' Sweet\n",
      "Sailor Song\n",
      "Good Luck, Babe!\n",
      "Si Antes Te Hubiera Conocido\n",
      "HIT ME HARD AND SOFT\n",
      "Fireworks & Rollerblades\n",
      "Timeless\n",
      "Short n' Sweet\n",
      "I've Tried Everything But Therapy (Part 1)\n",
      "24K Magic\n",
      "+57\n",
      "INCÓMODO\n",
      "CHROMAKOPIA\n",
      "Unorthodox Jukebox\n",
      "I Love You.\n",
      "The Secret of Us\n",
      "INCÓMODO\n",
      "Where I've Been, Isn't Where I'm Going\n",
      "Moonlit Floor (Kiss Me)\n",
      "Parachutes\n",
      "AM\n",
      "Short n' Sweet\n",
      "Barbie\n",
      "São Paulo\n",
      "PRIMERA MUSA\n",
      "LA PANTERA NEGRA (DELUXE)\n",
      "The Idol Episode 4 (Music from the HBO Original Series)\n",
      "Doo-Wops & Hooligans\n",
      "Unreal Unearth: Unaired\n",
      "UTOPIA\n",
      "Mantra\n",
      "PERO NO TE ENAMORES\n",
      "Presidente\n",
      "The Emptiness Machine\n",
      "Strange Trails\n",
      "eternal sunshine\n",
      "DECIDE\n",
      "F-1 Trillion\n",
      "EL COMIENZO\n",
      "yustyna\n",
      "Merry Christmas\n",
      "Dizzy up the Girl\n",
      "The Rise and Fall of a Midwest Princess\n"
     ]
    }
   ],
   "source": [
    "for item in list_items[\"items\"]:\n",
    "    print(item[\"track\"][\"album\"][\"name\"])"
   ]
  },
  {
   "cell_type": "markdown",
   "id": "19b56a18",
   "metadata": {},
   "source": [
    "From the playlist info, we can get all the album's URI:"
   ]
  },
  {
   "cell_type": "code",
   "execution_count": 73,
   "id": "c59e963a",
   "metadata": {
    "hidden": true,
    "id": "c59e963a"
   },
   "outputs": [],
   "source": [
    "album_uris = [item[\"track\"][\"album\"][\"uri\"] for item in list_items[\"items\"]]"
   ]
  },
  {
   "cell_type": "markdown",
   "id": "86cad708",
   "metadata": {},
   "source": [
    "Then, with the album URIs, we can get all the songs:"
   ]
  },
  {
   "cell_type": "code",
   "execution_count": 74,
   "id": "9cd0dc3b",
   "metadata": {
    "hidden": true,
    "id": "9cd0dc3b"
   },
   "outputs": [],
   "source": [
    "albums = [spotify.album_tracks(uri) for uri in album_uris]"
   ]
  },
  {
   "cell_type": "code",
   "execution_count": 75,
   "id": "2dfae627",
   "metadata": {
    "hidden": true,
    "id": "2dfae627",
    "outputId": "dc8ed486-6c41-451a-e05f-4373bc915c8e"
   },
   "outputs": [
    {
     "name": "stdout",
     "output_type": "stream",
     "text": [
      "Die With A Smile\n",
      "APT.\n",
      "SKINNY\n",
      "LUNCH\n",
      "CHIHIRO\n",
      "BIRDS OF A FEATHER\n",
      "WILDFLOWER\n",
      "THE GREATEST\n",
      "L’AMOUR DE MA VIE\n",
      "THE DINER\n",
      "BITTERSUITE\n",
      "BLUE\n",
      "Rebirth (Intro)\n",
      "Interlude : Showtime\n",
      "Smeraldo Garden Marching Band (feat. Loco)\n",
      "Slow Dance (feat. Sofia Carson)\n",
      "Be Mine\n",
      "Who\n",
      "Closer Than This\n",
      "Tu Boda\n",
      "Felt Good About You\n",
      "Risk\n",
      "Blowing Smoke\n",
      "I Love You, I'm Sorry\n",
      "us. (feat. Taylor Swift)\n",
      "Let It Happen\n",
      "Tough Love\n",
      "I Knew It, I Know You\n",
      "Gave You I Gave You I\n",
      "Normal Thing\n",
      "Good Luck Charlie\n",
      "Free Now\n",
      "Close To You\n",
      "Cool\n",
      "That’s So True\n",
      "I Told You Things\n",
      "Packing It Up\n",
      "I Love You, I'm Sorry - Live From Vevo\n",
      "I Knew It, I Know You - Live From Vevo\n",
      "Free Now - Live From Vevo\n",
      "Taste\n",
      "Please Please Please\n",
      "Good Graces\n",
      "Sharpest Tool\n",
      "Coincidence\n",
      "Bed Chem\n",
      "Espresso\n",
      "Dumb & Poetic\n",
      "Slim Pickins\n",
      "Juno\n",
      "Lie To Girls\n",
      "Don’t Smile\n",
      "Taste\n",
      "Please Please Please\n",
      "Good Graces\n",
      "Sharpest Tool\n",
      "Coincidence\n",
      "Bed Chem\n",
      "Espresso\n",
      "Dumb & Poetic\n",
      "Slim Pickins\n",
      "Juno\n",
      "Lie To Girls\n",
      "Don’t Smile\n",
      "Sailor Song\n",
      "Good Luck, Babe!\n",
      "Si Antes Te Hubiera Conocido\n",
      "SKINNY\n",
      "LUNCH\n",
      "CHIHIRO\n",
      "BIRDS OF A FEATHER\n",
      "WILDFLOWER\n",
      "THE GREATEST\n",
      "L’AMOUR DE MA VIE\n",
      "THE DINER\n",
      "BITTERSUITE\n",
      "BLUE\n",
      "Intro\n",
      "Be Someone\n",
      "Slow It Down\n",
      "Beautiful Things\n",
      "Cry\n",
      "Forever and a Day\n",
      "In The Stars\n",
      "Drunk In My Mind\n",
      "My Greatest Fear\n",
      "There She Goes\n",
      "Hello Love\n",
      "Ghost Town\n",
      "Love Of Mine\n",
      "Friend\n",
      "What Do You Want\n",
      "Timeless (with Playboi Carti)\n",
      "Taste\n",
      "Please Please Please\n",
      "Good Graces\n",
      "Sharpest Tool\n",
      "Coincidence\n",
      "Bed Chem\n",
      "Espresso\n",
      "Dumb & Poetic\n",
      "Slim Pickins\n",
      "Juno\n",
      "Lie To Girls\n",
      "Don’t Smile\n",
      "Some Things I'll Never Know\n",
      "Lose Control\n",
      "What More Can I Say\n",
      "The Door\n",
      "Goodbye's Been Good to You\n",
      "Last Communion\n",
      "You Still Get to Me\n",
      "Suitcase\n",
      "Flame\n",
      "Evergreen\n",
      "24K Magic\n",
      "Chunky\n",
      "Perm\n",
      "That's What I Like\n",
      "Versace on the Floor\n",
      "Straight up & Down\n",
      "Calling All My Lovelies\n",
      "Finesse\n",
      "Too Good to Say Goodbye\n",
      "+57\n",
      "MARAVILLA\n",
      "PRIMO\n",
      "PAJUELAZO\n",
      "FARANDULITAS\n",
      "5-7\n",
      "CHINO\n",
      "EL LOKERON\n",
      "MR INTERNACIONAL\n",
      "AY MAMÁ\n",
      "DETONA\n",
      "LA BANDOLERA\n",
      "LA TROKA\n",
      "DOS DÍAS\n",
      "BLANCA ROSITA Y MARIA\n",
      "ESCAPATE\n",
      "LINDA\n",
      "DEMBOW BÉLICO\n",
      "TU SI\n",
      "LA 701\n",
      "TENDIDO\n",
      "LOS CUADROS\n",
      "St. Chroma (feat. Daniel Caesar)\n",
      "Rah Tah Tah\n",
      "Noid\n",
      "Darling, I (feat. Teezo Touchdown)\n",
      "Hey Jane\n",
      "I Killed You\n",
      "Judge Judy\n",
      "Sticky (feat. GloRilla, Sexyy Red & Lil Wayne)\n",
      "Take Your Mask Off (feat. Daniel Caesar & LaToiya Williams)\n",
      "Tomorrow\n",
      "Thought I Was Dead (feat. ScHoolboy Q & Santigold)\n",
      "Like Him (feat. Lola Young)\n",
      "Balloon (feat. Doechii)\n",
      "I Hope You Find Your Way Home\n",
      "Young Girls\n",
      "Locked out of Heaven\n",
      "Gorilla\n",
      "Treasure\n",
      "Moonshine\n",
      "When I Was Your Man\n",
      "Natalie\n",
      "Show Me\n",
      "Money Make Her Smile\n",
      "If I Knew\n",
      "How\n",
      "Afraid\n",
      "Everybody's Watching Me (Uh Oh)\n",
      "Sweater Weather\n",
      "Let It Go\n",
      "Alleyways\n",
      "W.D.Y.W.F.M?\n",
      "Flawless\n",
      "Female Robbery\n",
      "Staying Up\n",
      "Float\n",
      "Felt Good About You\n",
      "Risk\n",
      "Blowing Smoke\n",
      "I Love You, I'm Sorry\n",
      "us. (feat. Taylor Swift)\n",
      "Let It Happen\n",
      "Tough Love\n",
      "I Knew It, I Know You\n",
      "Gave You I Gave You I\n",
      "Normal Thing\n",
      "Good Luck Charlie\n",
      "Free Now\n",
      "Close To You\n",
      "MARAVILLA\n",
      "PRIMO\n",
      "PAJUELAZO\n",
      "FARANDULITAS\n",
      "5-7\n",
      "CHINO\n",
      "EL LOKERON\n",
      "MR INTERNACIONAL\n",
      "AY MAMÁ\n",
      "DETONA\n",
      "LA BANDOLERA\n",
      "LA TROKA\n",
      "DOS DÍAS\n",
      "BLANCA ROSITA Y MARIA\n",
      "ESCAPATE\n",
      "LINDA\n",
      "DEMBOW BÉLICO\n",
      "TU SI\n",
      "LA 701\n",
      "TENDIDO\n",
      "LOS CUADROS\n",
      "Horses & Hellcats\n",
      "A Bar Song (Tipsy)\n",
      "Last Of My Kind (feat. Paul Cauthen)\n",
      "Anabelle\n",
      "East Of The Massanutten\n",
      "Highway\n",
      "Let It Burn\n",
      "My Fault (feat. Noah Cyrus)\n",
      "Vegas\n",
      "Drink Don't Need No Mix (feat. BigXthaPlug)\n",
      "Steal Her From Me\n",
      "Finally Over\n",
      "Moonlit Floor (Kiss Me)\n",
      "Don't Panic\n",
      "Shiver\n",
      "Spies\n",
      "Sparks\n",
      "Yellow\n",
      "Trouble\n",
      "Parachutes\n",
      "High Speed\n",
      "We Never Change\n",
      "Everything's Not Lost - Includes Hidden Track 'Life Is For Living'\n",
      "Do I Wanna Know?\n",
      "R U Mine?\n",
      "One For The Road\n",
      "Arabella\n",
      "I Want It All\n",
      "No. 1 Party Anthem\n",
      "Mad Sounds\n",
      "Fireside\n",
      "Why'd You Only Call Me When You're High?\n",
      "Snap Out Of It\n",
      "Knee Socks\n",
      "I Wanna Be Yours\n",
      "Taste\n",
      "Please Please Please\n",
      "Good Graces\n",
      "Sharpest Tool\n",
      "Coincidence\n",
      "Bed Chem\n",
      "Espresso\n",
      "Dumb & Poetic\n",
      "Slim Pickins\n",
      "Juno\n",
      "Lie To Girls\n",
      "Don’t Smile\n",
      "Barbie\n",
      "São Paulo (feat. Anitta)\n",
      "I N T R O\n",
      "G O D D E S S\n",
      "H E A V Y\n",
      "P I E N S O E N S E X X X O\n",
      "UNA NOTi\n",
      "M U S A E L E V Á\n",
      "DRIPPEO KBRON\n",
      "P I E N S A S E N M I\n",
      "⁠P o l v o s Q u e N o S e O l v i d a n\n",
      "I N T E R L U D I O\n",
      "2 K 1 6\n",
      "S I T E G U S T A N L A S G A T A S\n",
      "A L O C A - T\n",
      "S E X P L A Y L I S T 1\n",
      "Q U E V A S H A C E R H O Y ?\n",
      "SERIO CON ESE Q\n",
      "⁠LUCES DE COLORES\n",
      "COMPETENCIA\n",
      "OTRA OPORTUNIDAD\n",
      "DEGENERE 👑 (feat. benny blanco)\n",
      "MEJOR ASÍ\n",
      "TAMBIÉN\n",
      "NO TE VAYAS 👑 (feat. Juhn)\n",
      "EL MOMENTO 👑\n",
      "FRÍO\n",
      "CACHÉ\n",
      "OTRO NIVEL 👑 (feat. Sech)\n",
      "LO QUE QUIERAN CREER 👑\n",
      "SEXO DESENFRENADO\n",
      "LA PRIMERA VEZ (feat. NTG)\n",
      "PODER ADQUISITIVO\n",
      "GEMIDOS 👑\n",
      "ESPERO QUE ESTÉS BIEN 👑\n",
      "HASTA LUEGO\n",
      "OTRA NOCHE (feat. Darell)\n",
      "HASTA LA VISTA\n",
      "AUNQUE LLEGUE OTRO (feat. Jay Wheeler)\n",
      "COMPATIBLES 👑\n",
      "SE TE NOTA (feat. Peso Pluma)\n",
      "ADIVINO\n",
      "EN EL MAR\n",
      "VAMO A DARLE (feat. Cosculluela)\n",
      "DINERO y FAMA (feat. Omar Montes)\n",
      "VENENOSA\n",
      "PRIMER DÍA 👑 (feat. De La Ghetto, Maldy)\n",
      "DIABLITA (feat. YOVNGCHIMI)\n",
      "LAS PANTERAS 👑\n",
      "One Of The Girls (with JENNIE, Lily Rose Depp)\n",
      "Jealous Guy\n",
      "Fill The Void (with Lily Rose Depp, Ramsey)\n",
      "Grenade\n",
      "Just the Way You Are\n",
      "Our First Time\n",
      "Runaway Baby\n",
      "The Lazy Song\n",
      "Marry You\n",
      "Talking to the Moon\n",
      "Liquor Store Blues (feat. Damian Marley)\n",
      "Count on Me\n",
      "The Other Side (feat. CeeLo Green and B.o.B)\n",
      "Somewhere in Brooklyn\n",
      "Talking to the Moon - Acoustic Piano\n",
      "Nobody's Soldier\n",
      "July\n",
      "That You Are\n",
      "Too Sweet\n",
      "Wildflower and Barley\n",
      "Empire Now\n",
      "Fare Well\n",
      "De Selby (Part 1)\n",
      "De Selby (Part 2)\n",
      "First Time\n",
      "Francesca\n",
      "I, Carrion (Icarian)\n",
      "Eat Your Young\n",
      "Damage Gets Done\n",
      "Who We Are\n",
      "Son of Nyx\n",
      "All Things End\n",
      "To Someone From A Warm Climate (Uiscefhuaraithe)\n",
      "Butchered Tongue\n",
      "Anything But\n",
      "Abstract (Psychopomp)\n",
      "Unknown / Nth\n",
      "First Light\n",
      "HYAENA\n",
      "THANK GOD\n",
      "MODERN JAM (feat. Teezo Touchdown)\n",
      "MY EYES\n",
      "GOD'S COUNTRY\n",
      "SIRENS\n",
      "MELTDOWN (feat. Drake)\n",
      "FE!N (feat. Playboi Carti)\n",
      "DELRESTO (ECHOES) (feat. Beyoncé)\n",
      "I KNOW ?\n",
      "TOPIA TWINS (feat. Rob49 & 21 Savage)\n",
      "CIRCUS MAXIMUS (feat. The Weeknd & Swae Lee)\n",
      "PARASAIL (feat. Yung Lean & Dave Chappelle)\n",
      "SKITZO (feat. Young Thug)\n",
      "LOST FOREVER (feat. Westside Gunn)\n",
      "LOOOVE (feat. Kid Cudi)\n",
      "K-POP (feat. Bad Bunny & The Weeknd)\n",
      "TELEKINESIS (feat. SZA & Future)\n",
      "TIL FURTHER NOTICE (feat. James Blake & 21 Savage)\n",
      "Mantra\n",
      "TUQLO\n",
      "NEL\n",
      "SOFIA\n",
      "KYLIE\n",
      "BELLA\n",
      "FVCK\n",
      "VALERIA (feat. Gordo)\n",
      "SECRETO VICTORIA\n",
      "BRITNEY\n",
      "ALE\n",
      "FRESITA\n",
      "FREESTYLE\n",
      "JESUS\n",
      "BELINDA\n",
      "PERO NO TE ENAMORES\n",
      "Presidente\n",
      "The Emptiness Machine\n",
      "Love Like Ghosts\n",
      "Until the Night Turns\n",
      "Dead Man's Hand\n",
      "Hurricane (Johnnie's Theme)\n",
      "La Belle Fleur Sauvage\n",
      "Fool for Love\n",
      "The World Ender\n",
      "Meet Me In The Woods\n",
      "The Yawning Grave\n",
      "Frozen Pines\n",
      "Cursed\n",
      "Way Out There\n",
      "Louisa\n",
      "The Night We Met\n",
      "intro (end of the world)\n",
      "bye\n",
      "don't wanna break up again\n",
      "Saturn Returns Interlude\n",
      "eternal sunshine\n",
      "supernatural\n",
      "true story\n",
      "the boy is mine\n",
      "yes, and?\n",
      "we can't be friends (wait for your love)\n",
      "i wish i hated you\n",
      "imperfect for you\n",
      "ordinary things (feat. Nonna)\n",
      "Runner\n",
      "Gloom\n",
      "Half Life\n",
      "Fool\n",
      "On and On\n",
      "End of Beginning\n",
      "I Want Your Video\n",
      "Climax\n",
      "Change\n",
      "Is That All It Takes\n",
      "Go For It\n",
      "Figure You Out\n",
      "Slither\n",
      "Wrong Ones (Feat. Tim McGraw)\n",
      "Finer Things (Feat. Hank Williams Jr.)\n",
      "I Had Some Help (Feat. Morgan Wallen)\n",
      "Pour Me A Drink (Feat. Blake Shelton)\n",
      "Have The Heart (Feat. Dolly Parton)\n",
      "What Don't Belong To Me\n",
      "Goes Without Saying (Feat. Brad Paisley)\n",
      "Guy For That (Feat. Luke Combs)\n",
      "Nosedive (Feat. Lainey Wilson)\n",
      "Losers (Feat. Jelly Roll)\n",
      "Devil I've Been (Feat. ERNEST)\n",
      "Never Love You Again (Feat. Sierra Ferrell)\n",
      "Missin’ You Like This (Feat. Luke Combs)\n",
      "California Sober (Feat. Chris Stapleton)\n",
      "Hide My Gun (Feat. HARDY)\n",
      "Right About You\n",
      "M-E-X-I-C-O (Feat. Billy Strings)\n",
      "Yours\n",
      "Gata Only\n",
      "ME GUSTA\n",
      "A POKA LUZ\n",
      "APAGA EL CEL\n",
      "PELIGROSA\n",
      "LOREA MAMI\n",
      "TU TA RICA\n",
      "i like the way you kiss me\n",
      "i always kinda knew you’d be the death of me\n",
      "you've been a bad girl\n",
      "stupidhead\n",
      "caroline\n",
      "dirty little secret\n",
      "wet dreams\n",
      "ride me darling\n",
      "slow dance\n",
      "you're simply wonderful\n",
      "good girl\n",
      "my babydoll\n",
      "mess of me, sexually\n",
      "i love you regardless\n",
      "Silent Night\n",
      "All I Want for Christmas Is You\n",
      "O Holy Night\n",
      "Christmas (Baby Please Come Home)\n",
      "Miss You Most (At Christmas Time)\n",
      "Joy to the World\n",
      "Jesus Born on This Day\n",
      "Santa Claus Is Comin' to Town\n",
      "Hark! The Herald Angels Sing / Gloria (In Excelsis Deo)\n",
      "Jesus Oh What a Wonderful Child\n",
      "Dizzy\n",
      "Slide\n",
      "Broadway\n",
      "January Friend\n",
      "Black Balloon\n",
      "Bullet Proof\n",
      "Amigone\n",
      "All Eyes on Me\n",
      "Full Forever\n",
      "Acoustic #3\n",
      "Iris\n",
      "Extra Pale\n",
      "Hate This Place\n",
      "Femininomenon\n",
      "Red Wine Supernova\n",
      "After Midnight\n",
      "Coffee\n",
      "Casual\n",
      "Super Graphic Ultra Modern Girl\n",
      "HOT TO GO!\n",
      "My Kink Is Karma\n",
      "Picture You\n",
      "Kaleidoscope\n",
      "Pink Pony Club\n",
      "Naked In Manhattan\n",
      "California\n",
      "Guilty Pleasure\n"
     ]
    }
   ],
   "source": [
    "# I can check all the songs my dataset will have and count them\n",
    "count = 0\n",
    "for album in albums:\n",
    "    for song in album[\"items\"]:\n",
    "        count += 1\n",
    "        print(song[\"name\"])"
   ]
  },
  {
   "cell_type": "code",
   "execution_count": 76,
   "id": "d0990853",
   "metadata": {
    "hidden": true,
    "id": "d0990853",
    "outputId": "1b57cc4c-9dea-4b1b-9f68-3ee2be2cfaeb"
   },
   "outputs": [
    {
     "data": {
      "text/plain": [
       "502"
      ]
     },
     "execution_count": 76,
     "metadata": {},
     "output_type": "execute_result"
    }
   ],
   "source": [
    "count # How many songs did we get?"
   ]
  },
  {
   "cell_type": "markdown",
   "id": "c64207ec",
   "metadata": {},
   "source": [
    "Now we can get all the song URIs to later extract the audio features:"
   ]
  },
  {
   "cell_type": "code",
   "execution_count": 77,
   "id": "ef913892",
   "metadata": {
    "hidden": true,
    "id": "ef913892"
   },
   "outputs": [],
   "source": [
    "song_uris = [song[\"uri\"] for album in albums for song in album[\"items\"]]"
   ]
  },
  {
   "cell_type": "code",
   "execution_count": 78,
   "id": "eedf69e5",
   "metadata": {
    "hidden": true,
    "id": "eedf69e5",
    "outputId": "b98b1469-e403-401e-9f76-9ed6956f521e"
   },
   "outputs": [
    {
     "data": {
      "text/plain": [
       "502"
      ]
     },
     "execution_count": 78,
     "metadata": {},
     "output_type": "execute_result"
    }
   ],
   "source": [
    "len(song_uris)"
   ]
  },
  {
   "cell_type": "code",
   "execution_count": 79,
   "id": "a269e2bf",
   "metadata": {
    "hidden": true,
    "id": "a269e2bf"
   },
   "outputs": [],
   "source": [
    "songs_feat = [spotify.audio_features(uri)[0] for uri in song_uris]"
   ]
  },
  {
   "cell_type": "code",
   "execution_count": 80,
   "id": "fb6d975e",
   "metadata": {
    "hidden": true,
    "id": "fb6d975e",
    "outputId": "c1acc3f7-7220-480a-d6dc-1134f6738b0a"
   },
   "outputs": [
    {
     "data": {
      "text/plain": [
       "502"
      ]
     },
     "execution_count": 80,
     "metadata": {},
     "output_type": "execute_result"
    }
   ],
   "source": [
    "len(songs_feat)"
   ]
  },
  {
   "cell_type": "code",
   "execution_count": 81,
   "id": "b033521e",
   "metadata": {
    "hidden": true,
    "id": "b033521e",
    "outputId": "79411c55-8689-48ea-c1f0-d5bb3dedc6e3",
    "scrolled": true
   },
   "outputs": [
    {
     "data": {
      "text/plain": [
       "{'danceability': 0.521,\n",
       " 'energy': 0.592,\n",
       " 'key': 6,\n",
       " 'loudness': -7.777,\n",
       " 'mode': 0,\n",
       " 'speechiness': 0.0304,\n",
       " 'acousticness': 0.308,\n",
       " 'instrumentalness': 0,\n",
       " 'liveness': 0.122,\n",
       " 'valence': 0.535,\n",
       " 'tempo': 157.969,\n",
       " 'type': 'audio_features',\n",
       " 'id': '2plbrEY59IikOBgBGLjaoe',\n",
       " 'uri': 'spotify:track:2plbrEY59IikOBgBGLjaoe',\n",
       " 'track_href': 'https://api.spotify.com/v1/tracks/2plbrEY59IikOBgBGLjaoe',\n",
       " 'analysis_url': 'https://api.spotify.com/v1/audio-analysis/2plbrEY59IikOBgBGLjaoe',\n",
       " 'duration_ms': 251668,\n",
       " 'time_signature': 3}"
      ]
     },
     "execution_count": 81,
     "metadata": {},
     "output_type": "execute_result"
    }
   ],
   "source": [
    "songs_feat[0]"
   ]
  },
  {
   "cell_type": "markdown",
   "id": "5041ffe3",
   "metadata": {},
   "source": [
    "There are some songs that do not return any results, so we will remove those:"
   ]
  },
  {
   "cell_type": "code",
   "execution_count": 82,
   "id": "9f0f2d17",
   "metadata": {},
   "outputs": [],
   "source": [
    "while None in songs_feat:\n",
    "    songs_feat.remove(None)"
   ]
  },
  {
   "cell_type": "code",
   "execution_count": 83,
   "id": "ab282118",
   "metadata": {
    "hidden": true,
    "id": "ab282118"
   },
   "outputs": [],
   "source": [
    "songs_feat_df = pd.DataFrame(songs_feat)"
   ]
  },
  {
   "cell_type": "markdown",
   "id": "7506c8a1",
   "metadata": {},
   "source": [
    "We can wrap all of the previous steps in a function to more easily extract audio features from a given playlist:"
   ]
  },
  {
   "cell_type": "code",
   "execution_count": null,
   "id": "3dcbc9a0",
   "metadata": {
    "hidden": true,
    "id": "3dcbc9a0"
   },
   "outputs": [],
   "source": [
    "def get_features_from_playlist(url):\n",
    "    list_items = spotify.playlist_items(url)\n",
    "    album_uris = [item[\"track\"][\"album\"][\"uri\"] for item in list_items[\"items\"]]\n",
    "    albums = [spotify.album_tracks(uri) for uri in album_uris]\n",
    "    song_uris = [song[\"uri\"] for album in albums for song in album[\"items\"]]\n",
    "    song_name = [song[\"name\"] for album in albums for song in album[\"items\"]]\n",
    "    song_artist = [song[\"artists\"][0][\"name\"] for album in albums for song in album[\"items\"]]\n",
    "    song_feat = [spotify.audio_features(uri)[0] for uri in song_uris]\n",
    "\n",
    "    while None in songs_feat:\n",
    "        songs_feat.remove(None)\n",
    "\n",
    "    name_df = pd.DataFrame(song_name)\n",
    "    name_df.columns = [\"name\"]\n",
    "    artist_df = pd.DataFrame(song_artist)\n",
    "    artist_df.columns = [\"artist\"]\n",
    "    feat_df = pd.DataFrame(songs_feat)\n",
    "\n",
    "    final_df = pd.concat([name_df, artist_df, feat_df], axis=1)\n",
    "\n",
    "    return pd.DataFrame(final_df)"
   ]
  },
  {
   "cell_type": "markdown",
   "id": "50136a0b",
   "metadata": {},
   "source": [
    "Let's test it:"
   ]
  },
  {
   "cell_type": "code",
   "execution_count": 85,
   "id": "05b6b434",
   "metadata": {
    "hidden": true,
    "id": "05b6b434"
   },
   "outputs": [],
   "source": [
    "my_df = get_features_from_playlist(\"https://open.spotify.com/playlist/37i9dQZEVXbMDoHDwVN2tF?si=94f82b9354d2421b\")"
   ]
  },
  {
   "cell_type": "markdown",
   "id": "58ff1efe",
   "metadata": {},
   "source": [
    "Review dataframe characteristics:"
   ]
  },
  {
   "cell_type": "code",
   "execution_count": 86,
   "id": "31db461d",
   "metadata": {
    "hidden": true,
    "id": "31db461d",
    "outputId": "a2429c36-452f-479a-8830-35c103cc97a6"
   },
   "outputs": [
    {
     "data": {
      "text/plain": [
       "(502, 20)"
      ]
     },
     "execution_count": 86,
     "metadata": {},
     "output_type": "execute_result"
    }
   ],
   "source": [
    "my_df.shape"
   ]
  },
  {
   "cell_type": "code",
   "execution_count": 87,
   "id": "01caf05f",
   "metadata": {
    "hidden": true,
    "id": "01caf05f",
    "outputId": "28c205b4-4758-4b3c-bc95-7c139a1c9b17",
    "scrolled": true
   },
   "outputs": [
    {
     "data": {
      "text/html": [
       "<div>\n",
       "<style scoped>\n",
       "    .dataframe tbody tr th:only-of-type {\n",
       "        vertical-align: middle;\n",
       "    }\n",
       "\n",
       "    .dataframe tbody tr th {\n",
       "        vertical-align: top;\n",
       "    }\n",
       "\n",
       "    .dataframe thead th {\n",
       "        text-align: right;\n",
       "    }\n",
       "</style>\n",
       "<table border=\"1\" class=\"dataframe\">\n",
       "  <thead>\n",
       "    <tr style=\"text-align: right;\">\n",
       "      <th></th>\n",
       "      <th>name</th>\n",
       "      <th>artist</th>\n",
       "      <th>danceability</th>\n",
       "      <th>energy</th>\n",
       "      <th>key</th>\n",
       "      <th>loudness</th>\n",
       "      <th>mode</th>\n",
       "      <th>speechiness</th>\n",
       "      <th>acousticness</th>\n",
       "      <th>instrumentalness</th>\n",
       "      <th>liveness</th>\n",
       "      <th>valence</th>\n",
       "      <th>tempo</th>\n",
       "      <th>type</th>\n",
       "      <th>id</th>\n",
       "      <th>uri</th>\n",
       "      <th>track_href</th>\n",
       "      <th>analysis_url</th>\n",
       "      <th>duration_ms</th>\n",
       "      <th>time_signature</th>\n",
       "    </tr>\n",
       "  </thead>\n",
       "  <tbody>\n",
       "    <tr>\n",
       "      <th>0</th>\n",
       "      <td>Die With A Smile</td>\n",
       "      <td>Lady Gaga</td>\n",
       "      <td>0.521</td>\n",
       "      <td>0.592</td>\n",
       "      <td>6</td>\n",
       "      <td>-7.777</td>\n",
       "      <td>0</td>\n",
       "      <td>0.0304</td>\n",
       "      <td>0.3080</td>\n",
       "      <td>0.00000</td>\n",
       "      <td>0.1220</td>\n",
       "      <td>0.5350</td>\n",
       "      <td>157.969</td>\n",
       "      <td>audio_features</td>\n",
       "      <td>2plbrEY59IikOBgBGLjaoe</td>\n",
       "      <td>spotify:track:2plbrEY59IikOBgBGLjaoe</td>\n",
       "      <td>https://api.spotify.com/v1/tracks/2plbrEY59Iik...</td>\n",
       "      <td>https://api.spotify.com/v1/audio-analysis/2plb...</td>\n",
       "      <td>251668</td>\n",
       "      <td>3</td>\n",
       "    </tr>\n",
       "    <tr>\n",
       "      <th>1</th>\n",
       "      <td>APT.</td>\n",
       "      <td>ROSÉ</td>\n",
       "      <td>0.777</td>\n",
       "      <td>0.783</td>\n",
       "      <td>0</td>\n",
       "      <td>-4.477</td>\n",
       "      <td>0</td>\n",
       "      <td>0.2600</td>\n",
       "      <td>0.0283</td>\n",
       "      <td>0.00000</td>\n",
       "      <td>0.3550</td>\n",
       "      <td>0.9390</td>\n",
       "      <td>149.027</td>\n",
       "      <td>audio_features</td>\n",
       "      <td>5vNRhkKd0yEAg8suGBpjeY</td>\n",
       "      <td>spotify:track:5vNRhkKd0yEAg8suGBpjeY</td>\n",
       "      <td>https://api.spotify.com/v1/tracks/5vNRhkKd0yEA...</td>\n",
       "      <td>https://api.spotify.com/v1/audio-analysis/5vNR...</td>\n",
       "      <td>169917</td>\n",
       "      <td>4</td>\n",
       "    </tr>\n",
       "    <tr>\n",
       "      <th>2</th>\n",
       "      <td>SKINNY</td>\n",
       "      <td>Billie Eilish</td>\n",
       "      <td>0.251</td>\n",
       "      <td>0.252</td>\n",
       "      <td>9</td>\n",
       "      <td>-14.478</td>\n",
       "      <td>1</td>\n",
       "      <td>0.0375</td>\n",
       "      <td>0.6930</td>\n",
       "      <td>0.00706</td>\n",
       "      <td>0.0968</td>\n",
       "      <td>0.0395</td>\n",
       "      <td>69.988</td>\n",
       "      <td>audio_features</td>\n",
       "      <td>1CsMKhwEmNnmvHUuO5nryA</td>\n",
       "      <td>spotify:track:1CsMKhwEmNnmvHUuO5nryA</td>\n",
       "      <td>https://api.spotify.com/v1/tracks/1CsMKhwEmNnm...</td>\n",
       "      <td>https://api.spotify.com/v1/audio-analysis/1CsM...</td>\n",
       "      <td>219733</td>\n",
       "      <td>4</td>\n",
       "    </tr>\n",
       "    <tr>\n",
       "      <th>3</th>\n",
       "      <td>LUNCH</td>\n",
       "      <td>Billie Eilish</td>\n",
       "      <td>0.893</td>\n",
       "      <td>0.400</td>\n",
       "      <td>11</td>\n",
       "      <td>-7.981</td>\n",
       "      <td>0</td>\n",
       "      <td>0.0643</td>\n",
       "      <td>0.0452</td>\n",
       "      <td>0.08230</td>\n",
       "      <td>0.0632</td>\n",
       "      <td>0.9450</td>\n",
       "      <td>124.987</td>\n",
       "      <td>audio_features</td>\n",
       "      <td>629DixmZGHc7ILtEntuiWE</td>\n",
       "      <td>spotify:track:629DixmZGHc7ILtEntuiWE</td>\n",
       "      <td>https://api.spotify.com/v1/tracks/629DixmZGHc7...</td>\n",
       "      <td>https://api.spotify.com/v1/audio-analysis/629D...</td>\n",
       "      <td>179587</td>\n",
       "      <td>4</td>\n",
       "    </tr>\n",
       "    <tr>\n",
       "      <th>4</th>\n",
       "      <td>CHIHIRO</td>\n",
       "      <td>Billie Eilish</td>\n",
       "      <td>0.700</td>\n",
       "      <td>0.425</td>\n",
       "      <td>7</td>\n",
       "      <td>-12.531</td>\n",
       "      <td>1</td>\n",
       "      <td>0.0529</td>\n",
       "      <td>0.1440</td>\n",
       "      <td>0.87900</td>\n",
       "      <td>0.0830</td>\n",
       "      <td>0.5210</td>\n",
       "      <td>110.015</td>\n",
       "      <td>audio_features</td>\n",
       "      <td>7BRD7x5pt8Lqa1eGYC4dzj</td>\n",
       "      <td>spotify:track:7BRD7x5pt8Lqa1eGYC4dzj</td>\n",
       "      <td>https://api.spotify.com/v1/tracks/7BRD7x5pt8Lq...</td>\n",
       "      <td>https://api.spotify.com/v1/audio-analysis/7BRD...</td>\n",
       "      <td>303440</td>\n",
       "      <td>4</td>\n",
       "    </tr>\n",
       "  </tbody>\n",
       "</table>\n",
       "</div>"
      ],
      "text/plain": [
       "               name         artist  danceability  energy  key  loudness  mode  \\\n",
       "0  Die With A Smile      Lady Gaga         0.521   0.592    6    -7.777     0   \n",
       "1              APT.           ROSÉ         0.777   0.783    0    -4.477     0   \n",
       "2            SKINNY  Billie Eilish         0.251   0.252    9   -14.478     1   \n",
       "3             LUNCH  Billie Eilish         0.893   0.400   11    -7.981     0   \n",
       "4           CHIHIRO  Billie Eilish         0.700   0.425    7   -12.531     1   \n",
       "\n",
       "   speechiness  acousticness  instrumentalness  liveness  valence    tempo  \\\n",
       "0       0.0304        0.3080           0.00000    0.1220   0.5350  157.969   \n",
       "1       0.2600        0.0283           0.00000    0.3550   0.9390  149.027   \n",
       "2       0.0375        0.6930           0.00706    0.0968   0.0395   69.988   \n",
       "3       0.0643        0.0452           0.08230    0.0632   0.9450  124.987   \n",
       "4       0.0529        0.1440           0.87900    0.0830   0.5210  110.015   \n",
       "\n",
       "             type                      id  \\\n",
       "0  audio_features  2plbrEY59IikOBgBGLjaoe   \n",
       "1  audio_features  5vNRhkKd0yEAg8suGBpjeY   \n",
       "2  audio_features  1CsMKhwEmNnmvHUuO5nryA   \n",
       "3  audio_features  629DixmZGHc7ILtEntuiWE   \n",
       "4  audio_features  7BRD7x5pt8Lqa1eGYC4dzj   \n",
       "\n",
       "                                    uri  \\\n",
       "0  spotify:track:2plbrEY59IikOBgBGLjaoe   \n",
       "1  spotify:track:5vNRhkKd0yEAg8suGBpjeY   \n",
       "2  spotify:track:1CsMKhwEmNnmvHUuO5nryA   \n",
       "3  spotify:track:629DixmZGHc7ILtEntuiWE   \n",
       "4  spotify:track:7BRD7x5pt8Lqa1eGYC4dzj   \n",
       "\n",
       "                                          track_href  \\\n",
       "0  https://api.spotify.com/v1/tracks/2plbrEY59Iik...   \n",
       "1  https://api.spotify.com/v1/tracks/5vNRhkKd0yEA...   \n",
       "2  https://api.spotify.com/v1/tracks/1CsMKhwEmNnm...   \n",
       "3  https://api.spotify.com/v1/tracks/629DixmZGHc7...   \n",
       "4  https://api.spotify.com/v1/tracks/7BRD7x5pt8Lq...   \n",
       "\n",
       "                                        analysis_url  duration_ms  \\\n",
       "0  https://api.spotify.com/v1/audio-analysis/2plb...       251668   \n",
       "1  https://api.spotify.com/v1/audio-analysis/5vNR...       169917   \n",
       "2  https://api.spotify.com/v1/audio-analysis/1CsM...       219733   \n",
       "3  https://api.spotify.com/v1/audio-analysis/629D...       179587   \n",
       "4  https://api.spotify.com/v1/audio-analysis/7BRD...       303440   \n",
       "\n",
       "   time_signature  \n",
       "0               3  \n",
       "1               4  \n",
       "2               4  \n",
       "3               4  \n",
       "4               4  "
      ]
     },
     "execution_count": 87,
     "metadata": {},
     "output_type": "execute_result"
    }
   ],
   "source": [
    "my_df.head()"
   ]
  },
  {
   "cell_type": "code",
   "execution_count": 88,
   "id": "1466ed72",
   "metadata": {
    "hidden": true,
    "id": "1466ed72",
    "outputId": "260050e3-2289-44d4-b812-798c2d2304e1"
   },
   "outputs": [
    {
     "data": {
      "text/plain": [
       "name                0\n",
       "artist              0\n",
       "danceability        0\n",
       "energy              0\n",
       "key                 0\n",
       "loudness            0\n",
       "mode                0\n",
       "speechiness         0\n",
       "acousticness        0\n",
       "instrumentalness    0\n",
       "liveness            0\n",
       "valence             0\n",
       "tempo               0\n",
       "type                0\n",
       "id                  0\n",
       "uri                 0\n",
       "track_href          0\n",
       "analysis_url        0\n",
       "duration_ms         0\n",
       "time_signature      0\n",
       "dtype: int64"
      ]
     },
     "execution_count": 88,
     "metadata": {},
     "output_type": "execute_result"
    }
   ],
   "source": [
    "my_df.isna().sum()"
   ]
  },
  {
   "cell_type": "markdown",
   "id": "b06b5fbc",
   "metadata": {},
   "source": [
    "We can fully remove songs with no features:"
   ]
  },
  {
   "cell_type": "code",
   "execution_count": 89,
   "id": "738c540f",
   "metadata": {
    "hidden": true,
    "id": "738c540f"
   },
   "outputs": [],
   "source": [
    "my_df = my_df.dropna()"
   ]
  },
  {
   "cell_type": "code",
   "execution_count": 90,
   "id": "79015ee6",
   "metadata": {
    "hidden": true,
    "id": "79015ee6",
    "outputId": "ed6db602-cbf1-4f28-c71b-553e9cfffce8",
    "scrolled": true
   },
   "outputs": [
    {
     "data": {
      "text/plain": [
       "name                 object\n",
       "artist               object\n",
       "danceability        float64\n",
       "energy              float64\n",
       "key                   int64\n",
       "loudness            float64\n",
       "mode                  int64\n",
       "speechiness         float64\n",
       "acousticness        float64\n",
       "instrumentalness    float64\n",
       "liveness            float64\n",
       "valence             float64\n",
       "tempo               float64\n",
       "type                 object\n",
       "id                   object\n",
       "uri                  object\n",
       "track_href           object\n",
       "analysis_url         object\n",
       "duration_ms           int64\n",
       "time_signature        int64\n",
       "dtype: object"
      ]
     },
     "execution_count": 90,
     "metadata": {},
     "output_type": "execute_result"
    }
   ],
   "source": [
    "my_df.dtypes"
   ]
  },
  {
   "cell_type": "markdown",
   "id": "a3ce3dbf",
   "metadata": {},
   "source": [
    "For our model, we only require the audio features, which are numeric, so we can filter out the rest:"
   ]
  },
  {
   "cell_type": "code",
   "execution_count": 91,
   "id": "91284ee0",
   "metadata": {
    "hidden": true,
    "id": "91284ee0"
   },
   "outputs": [],
   "source": [
    "my_df_num = my_df.select_dtypes(include=np.number)"
   ]
  },
  {
   "cell_type": "code",
   "execution_count": 92,
   "id": "04439062",
   "metadata": {
    "hidden": true,
    "id": "04439062",
    "outputId": "f92339bb-2b95-43ce-ae49-6ad2bd390867"
   },
   "outputs": [
    {
     "data": {
      "text/html": [
       "<div>\n",
       "<style scoped>\n",
       "    .dataframe tbody tr th:only-of-type {\n",
       "        vertical-align: middle;\n",
       "    }\n",
       "\n",
       "    .dataframe tbody tr th {\n",
       "        vertical-align: top;\n",
       "    }\n",
       "\n",
       "    .dataframe thead th {\n",
       "        text-align: right;\n",
       "    }\n",
       "</style>\n",
       "<table border=\"1\" class=\"dataframe\">\n",
       "  <thead>\n",
       "    <tr style=\"text-align: right;\">\n",
       "      <th></th>\n",
       "      <th>danceability</th>\n",
       "      <th>energy</th>\n",
       "      <th>key</th>\n",
       "      <th>loudness</th>\n",
       "      <th>mode</th>\n",
       "      <th>speechiness</th>\n",
       "      <th>acousticness</th>\n",
       "      <th>instrumentalness</th>\n",
       "      <th>liveness</th>\n",
       "      <th>valence</th>\n",
       "      <th>tempo</th>\n",
       "      <th>duration_ms</th>\n",
       "      <th>time_signature</th>\n",
       "    </tr>\n",
       "  </thead>\n",
       "  <tbody>\n",
       "    <tr>\n",
       "      <th>0</th>\n",
       "      <td>0.521</td>\n",
       "      <td>0.592</td>\n",
       "      <td>6</td>\n",
       "      <td>-7.777</td>\n",
       "      <td>0</td>\n",
       "      <td>0.0304</td>\n",
       "      <td>0.3080</td>\n",
       "      <td>0.00000</td>\n",
       "      <td>0.1220</td>\n",
       "      <td>0.5350</td>\n",
       "      <td>157.969</td>\n",
       "      <td>251668</td>\n",
       "      <td>3</td>\n",
       "    </tr>\n",
       "    <tr>\n",
       "      <th>1</th>\n",
       "      <td>0.777</td>\n",
       "      <td>0.783</td>\n",
       "      <td>0</td>\n",
       "      <td>-4.477</td>\n",
       "      <td>0</td>\n",
       "      <td>0.2600</td>\n",
       "      <td>0.0283</td>\n",
       "      <td>0.00000</td>\n",
       "      <td>0.3550</td>\n",
       "      <td>0.9390</td>\n",
       "      <td>149.027</td>\n",
       "      <td>169917</td>\n",
       "      <td>4</td>\n",
       "    </tr>\n",
       "    <tr>\n",
       "      <th>2</th>\n",
       "      <td>0.251</td>\n",
       "      <td>0.252</td>\n",
       "      <td>9</td>\n",
       "      <td>-14.478</td>\n",
       "      <td>1</td>\n",
       "      <td>0.0375</td>\n",
       "      <td>0.6930</td>\n",
       "      <td>0.00706</td>\n",
       "      <td>0.0968</td>\n",
       "      <td>0.0395</td>\n",
       "      <td>69.988</td>\n",
       "      <td>219733</td>\n",
       "      <td>4</td>\n",
       "    </tr>\n",
       "    <tr>\n",
       "      <th>3</th>\n",
       "      <td>0.893</td>\n",
       "      <td>0.400</td>\n",
       "      <td>11</td>\n",
       "      <td>-7.981</td>\n",
       "      <td>0</td>\n",
       "      <td>0.0643</td>\n",
       "      <td>0.0452</td>\n",
       "      <td>0.08230</td>\n",
       "      <td>0.0632</td>\n",
       "      <td>0.9450</td>\n",
       "      <td>124.987</td>\n",
       "      <td>179587</td>\n",
       "      <td>4</td>\n",
       "    </tr>\n",
       "    <tr>\n",
       "      <th>4</th>\n",
       "      <td>0.700</td>\n",
       "      <td>0.425</td>\n",
       "      <td>7</td>\n",
       "      <td>-12.531</td>\n",
       "      <td>1</td>\n",
       "      <td>0.0529</td>\n",
       "      <td>0.1440</td>\n",
       "      <td>0.87900</td>\n",
       "      <td>0.0830</td>\n",
       "      <td>0.5210</td>\n",
       "      <td>110.015</td>\n",
       "      <td>303440</td>\n",
       "      <td>4</td>\n",
       "    </tr>\n",
       "  </tbody>\n",
       "</table>\n",
       "</div>"
      ],
      "text/plain": [
       "   danceability  energy  key  loudness  mode  speechiness  acousticness  \\\n",
       "0         0.521   0.592    6    -7.777     0       0.0304        0.3080   \n",
       "1         0.777   0.783    0    -4.477     0       0.2600        0.0283   \n",
       "2         0.251   0.252    9   -14.478     1       0.0375        0.6930   \n",
       "3         0.893   0.400   11    -7.981     0       0.0643        0.0452   \n",
       "4         0.700   0.425    7   -12.531     1       0.0529        0.1440   \n",
       "\n",
       "   instrumentalness  liveness  valence    tempo  duration_ms  time_signature  \n",
       "0           0.00000    0.1220   0.5350  157.969       251668               3  \n",
       "1           0.00000    0.3550   0.9390  149.027       169917               4  \n",
       "2           0.00706    0.0968   0.0395   69.988       219733               4  \n",
       "3           0.08230    0.0632   0.9450  124.987       179587               4  \n",
       "4           0.87900    0.0830   0.5210  110.015       303440               4  "
      ]
     },
     "execution_count": 92,
     "metadata": {},
     "output_type": "execute_result"
    }
   ],
   "source": [
    "my_df_num.head()"
   ]
  },
  {
   "cell_type": "markdown",
   "id": "3da5f1aa",
   "metadata": {},
   "source": [
    "`Duration_ms` and `time_signature` are not really interesting parameters to classify the songs so we will drop them:"
   ]
  },
  {
   "cell_type": "code",
   "execution_count": 93,
   "id": "c3c2839e",
   "metadata": {},
   "outputs": [],
   "source": [
    "my_df_num = my_df_num.drop(columns = [\"duration_ms\", \"time_signature\"])"
   ]
  },
  {
   "cell_type": "markdown",
   "id": "58d2467b",
   "metadata": {},
   "source": [
    "# <a id='toc2_'></a>[Acknowledgments](#toc0_)"
   ]
  },
  {
   "cell_type": "markdown",
   "id": "6f4a747b",
   "metadata": {},
   "source": [
    "Thank you, Miguel SM, for the contents of this lesson!"
   ]
  }
 ],
 "metadata": {
  "colab": {
   "provenance": []
  },
  "kernelspec": {
   "display_name": "base",
   "language": "python",
   "name": "python3"
  },
  "language_info": {
   "codemirror_mode": {
    "name": "ipython",
    "version": 3
   },
   "file_extension": ".py",
   "mimetype": "text/x-python",
   "name": "python",
   "nbconvert_exporter": "python",
   "pygments_lexer": "ipython3",
   "version": "3.9.13"
  },
  "toc": {
   "base_numbering": 1,
   "nav_menu": {},
   "number_sections": false,
   "sideBar": true,
   "skip_h1_title": false,
   "title_cell": "Table of Contents",
   "title_sidebar": "Contents",
   "toc_cell": false,
   "toc_position": {},
   "toc_section_display": true,
   "toc_window_display": false
  },
  "varInspector": {
   "cols": {
    "lenName": 16,
    "lenType": 16,
    "lenVar": 40
   },
   "kernels_config": {
    "python": {
     "delete_cmd_postfix": "",
     "delete_cmd_prefix": "del ",
     "library": "var_list.py",
     "varRefreshCmd": "print(var_dic_list())"
    },
    "r": {
     "delete_cmd_postfix": ") ",
     "delete_cmd_prefix": "rm(",
     "library": "var_list.r",
     "varRefreshCmd": "cat(var_dic_list()) "
    }
   },
   "types_to_exclude": [
    "module",
    "function",
    "builtin_function_or_method",
    "instance",
    "_Feature"
   ],
   "window_display": false
  }
 },
 "nbformat": 4,
 "nbformat_minor": 5
}
