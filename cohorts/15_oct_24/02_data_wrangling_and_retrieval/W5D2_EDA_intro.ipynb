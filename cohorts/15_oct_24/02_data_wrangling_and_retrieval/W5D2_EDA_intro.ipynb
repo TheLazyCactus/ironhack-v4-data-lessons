{
 "cells": [
  {
   "cell_type": "markdown",
   "metadata": {},
   "source": [
    "**Table of contents**<a id='toc0_'></a>    \n",
    "- [What's EDA?](#toc1_)    \n",
    "- [Why is EDA important?](#toc2_)    \n",
    "    - [⚠️ **Attention** ⚠️](#toc2_1_1_)    \n",
    "- [How do we EDA?](#toc3_)    \n",
    "  - [Software](#toc3_1_)    \n",
    "  - [Plots / Charts](#toc3_2_)    \n",
    "  - [Methodology](#toc3_3_)    \n",
    "- [Let the EDA begin](#toc4_)    \n",
    "  - [Histogram](#toc4_1_)    \n",
    "  - [Box plot](#toc4_2_)    \n",
    "  - [Bar plots](#toc4_3_)    \n",
    "  - [~~Pie charts~~](#toc4_4_)    \n",
    "  - [Treemap](#toc4_5_)    \n",
    "  - [Scatter plot](#toc4_6_)    \n",
    "  - [Line plot](#toc4_7_)    \n",
    "  - [💡 Check for understanding](#toc4_8_)    \n",
    "  - [Common mistakes!](#toc4_9_)    \n",
    "    - [Plotting without understanding what you're plotting (e.g. `customer_id`)](#toc4_9_1_)    \n",
    "    - [Doing barplots for numerical continuous data](#toc4_9_2_)    \n",
    "    - [Doing boxplots for numerical discrete data](#toc4_9_3_)    \n",
    "    - [Considering histograms on numerical discrete data as normal distributions](#toc4_9_4_)    \n",
    "    - [Creating noisy plots](#toc4_9_5_)    \n",
    "\n",
    "<!-- vscode-jupyter-toc-config\n",
    "\tnumbering=false\n",
    "\tanchor=true\n",
    "\tflat=false\n",
    "\tminLevel=1\n",
    "\tmaxLevel=6\n",
    "\t/vscode-jupyter-toc-config -->\n",
    "<!-- THIS CELL WILL BE REPLACED ON TOC UPDATE. DO NOT WRITE YOUR TEXT IN THIS CELL -->"
   ]
  },
  {
   "cell_type": "markdown",
   "metadata": {},
   "source": [
    "# <a id='toc1_'></a>[What's EDA?](#toc0_)"
   ]
  },
  {
   "cell_type": "markdown",
   "metadata": {
    "id": "KIWOFkhahFca"
   },
   "source": [
    "> **Exploratory data analysis (EDA) is a process of examining and summarizing data sets** without making any formal assumptions or hypotheses. It helps to understand the structure, patterns, variability, and relationships in data, as well as identify potential problems or anomalies.\n",
    "\n",
    "> It can be carried out at various stages of the data analytics process, but it is usually conducted before a firm hypothesis or end goal is defined."
   ]
  },
  {
   "cell_type": "markdown",
   "metadata": {},
   "source": [
    "# <a id='toc2_'></a>[Why is EDA important?](#toc0_)"
   ]
  },
  {
   "cell_type": "markdown",
   "metadata": {
    "id": "Yp0-4QquhFcc"
   },
   "source": [
    "> It can be used for:\n",
    "> + data cleaning\n",
    "> + subgroup analyses\n",
    "> + understanding data better\n",
    "\n",
    "> It aims to:\n",
    "> + spot patterns and trends\n",
    "> + identify anomalies\n",
    "> + test early hypotheses"
   ]
  },
  {
   "cell_type": "markdown",
   "metadata": {
    "id": "zSYZ35FshFcd"
   },
   "source": [
    "*Example:* A scatterplot can show us different \"clusters\" or groups (i.e. concentrations of data points)\n",
    "\n",
    "![clusters](https://imgs.search.brave.com/OzO3GC6FI7JzvoZX8LzeAqso6bjk7bw-H5XwqOdrt00/rs:fit:860:0:0/g:ce/aHR0cHM6Ly9kM21t/MnM5cjE1aXFjdi5j/bG91ZGZyb250Lm5l/dC9lbi93cC1jb250/ZW50L3VwbG9hZHMv/b2xkLWJsb2ctdXBs/b2Fkcy81MDBweC1z/bGluay1nYXVzc2lh/bi1kYXRhLnBuZw)"
   ]
  },
  {
   "cell_type": "markdown",
   "metadata": {
    "id": "HfZyGl2ThFce"
   },
   "source": [
    "*Example:* A lineplot can show us how one variable is connected to another\n",
    "\n",
    "![lineplot](https://imgs.search.brave.com/m8MYbCLtnAGWF1zDpGJa7_pQ0ARO2bWGHlFss-Siet4/rs:fit:860:0:0/g:ce/aHR0cHM6Ly9pMC53/cC5jb20vc3RhdGlz/dGljc2J5amltLmNv/bS93cC1jb250ZW50/L3VwbG9hZHMvMjAx/OS8xMC9vdXRsaWVy/X2NpcmNsZWQucG5n/P3Jlc2l6ZT01NzYs/MzgzJnNzbD0x)"
   ]
  },
  {
   "cell_type": "markdown",
   "metadata": {
    "id": "YyVKVNqthFcg"
   },
   "source": [
    "*Example:* A boxplot can show us if our data has outliers or not\n",
    "\n",
    "![outliers](https://imgs.search.brave.com/OWWypOQK8IXV4gq9m6mBUQHpZ7Y9Bi0-tdtwHhulMnk/rs:fit:860:0:0/g:ce/aHR0cHM6Ly9tZWRp/YS5nZWVrc2Zvcmdl/ZWtzLm9yZy93cC1j/b250ZW50L3VwbG9h/ZHMvMjAyMTA3MDcy/MzMyMjIvb3V0bGll/cnNFREEucG5n)"
   ]
  },
  {
   "cell_type": "markdown",
   "metadata": {},
   "source": [
    "### <a id='toc2_1_1_'></a>[⚠️ **Attention** ⚠️](#toc0_)\n",
    "\n",
    "**Data visualization is QUALITATIVE, not quantitative**! Many insights (errors, correlations) that you get from plots need to be confirmed using statistical methods or calculations!"
   ]
  },
  {
   "cell_type": "markdown",
   "metadata": {},
   "source": [
    "# <a id='toc3_'></a>[How do we EDA?](#toc0_)"
   ]
  },
  {
   "cell_type": "markdown",
   "metadata": {},
   "source": [
    "## <a id='toc3_1_'></a>[Software](#toc0_)"
   ]
  },
  {
   "cell_type": "markdown",
   "metadata": {
    "id": "gge9ihGvhFch"
   },
   "source": [
    "To do EDA, you can use multiple tools, such as:\n",
    "+ Python libraries: matplotlib, seaborn, plotly, bokeh, etc.\n",
    "+ Dashboarding software: Tableau, PowerBI, Looker, AWS Quicksight, Dash, etc.\n",
    "+ The OG of data viz: Excel"
   ]
  },
  {
   "cell_type": "markdown",
   "metadata": {},
   "source": [
    "## <a id='toc3_2_'></a>[Plots / Charts](#toc0_)"
   ]
  },
  {
   "cell_type": "markdown",
   "metadata": {
    "id": "7JFIC6NahFci"
   },
   "source": [
    "There are many types of plots, but we can group them into:  \n",
    "+ Basic plots:\n",
    "    + histograms  \n",
    "    + box plots  \n",
    "    + bar plots   \n",
    "    + ~~pie charts~~  \n",
    "    + treemap   \n",
    "    + scatter plots  \n",
    "    + line plots   \n",
    "    + heatmaps    \n",
    "     \n",
    "+ More advanced plots:   \n",
    "    + violin plots  \n",
    "    + candlestick chart  \n",
    "    + lollipop chart  \n",
    "    + density plot  \n",
    "    + PCA  \n",
    "    + ridge plots  \n",
    "    + ~~3D plots~~   \n",
    "\n",
    "For more plot possibilities, please have a look at [Data-to-viz](https://www.data-to-viz.com/).\n",
    "\n",
    "*🗒️Note:* Please look at pie charts and 3D plots once, then forget they exist."
   ]
  },
  {
   "cell_type": "markdown",
   "metadata": {},
   "source": [
    "## <a id='toc3_3_'></a>[Methodology](#toc0_)"
   ]
  },
  {
   "cell_type": "markdown",
   "metadata": {
    "id": "aqvbfHbShFcj"
   },
   "source": [
    "The typical process of doing EDA looks something like this:\n",
    "+ Examining each of the variables for the whole sample (univariate analysis)\n",
    "+ Examining relationships between >2 variables (bivariate and multivariate analysis)\n",
    "+ Examining variables across subgroups\n",
    "+ Re-iterating the previous 3 steps"
   ]
  },
  {
   "cell_type": "markdown",
   "metadata": {
    "id": "NzJu1BdwhFcj"
   },
   "source": [
    "Today we'll run an EDA process using a few different libraries, with a focus on `plotly` - and some `matplotlib` and `seaborn` alongside!"
   ]
  },
  {
   "cell_type": "markdown",
   "metadata": {},
   "source": [
    "# <a id='toc4_'></a>[Let the EDA begin](#toc0_)"
   ]
  },
  {
   "cell_type": "markdown",
   "metadata": {
    "id": "D2lyijlehFcj"
   },
   "source": [
    "<iframe src=\"https://giphy.com/embed/LmHFLSnktq4vK\" width=\"480\" height=\"241\" frameBorder=\"0\" class=\"giphy-embed\" allowFullScreen></iframe><p><a href=\"https://giphy.com/gifs/game-let-begin-LmHFLSnktq4vK\">via GIPHY</a></p>"
   ]
  },
  {
   "cell_type": "code",
   "execution_count": null,
   "metadata": {
    "id": "eqt3iVuMhFck"
   },
   "outputs": [],
   "source": [
    "# Un-comment these if you cannot import the libraries\n",
    "# !pip install matplotlib\n",
    "# !pip install seaborn\n",
    "# !pip install plotly"
   ]
  },
  {
   "cell_type": "code",
   "execution_count": null,
   "metadata": {
    "executionInfo": {
     "elapsed": 2512,
     "status": "ok",
     "timestamp": 1694157106059,
     "user": {
      "displayName": "Meenu Saini",
      "userId": "17619015631710932653"
     },
     "user_tz": -120
    },
    "id": "aJeEc8PehFcm"
   },
   "outputs": [],
   "source": [
    "import pandas as pd\n",
    "import numpy as np\n",
    "\n",
    "import matplotlib.pyplot as plt\n",
    "import seaborn as sns\n",
    "import plotly.express as px"
   ]
  },
  {
   "cell_type": "code",
   "execution_count": null,
   "metadata": {
    "colab": {
     "base_uri": "https://localhost:8080/",
     "height": 310
    },
    "executionInfo": {
     "elapsed": 904,
     "status": "ok",
     "timestamp": 1694106023342,
     "user": {
      "displayName": "Amir H.ahmadzadeh",
      "userId": "14804368754049159190"
     },
     "user_tz": -120
    },
    "id": "pOKQAD9uhFcn",
    "outputId": "aaa60738-ccc6-41f9-8bec-eca8138793ce"
   },
   "outputs": [],
   "source": [
    "fortune = pd.read_csv(\"https://raw.githubusercontent.com/data-bootcamp-v4/data/main/Fortune_1000.csv\")\n",
    "fortune.head()"
   ]
  },
  {
   "cell_type": "markdown",
   "metadata": {
    "id": "58ZRIzT_hFcn"
   },
   "source": [
    "*🗒️Note:*\n",
    "> Market Cap = Market cap—or capitalization—refers to the total value of all a company's shares of stock"
   ]
  },
  {
   "cell_type": "code",
   "execution_count": null,
   "metadata": {
    "colab": {
     "base_uri": "https://localhost:8080/"
    },
    "executionInfo": {
     "elapsed": 278,
     "status": "ok",
     "timestamp": 1694106096851,
     "user": {
      "displayName": "Amir H.ahmadzadeh",
      "userId": "14804368754049159190"
     },
     "user_tz": -120
    },
    "id": "xGvX4Yi6hFcn",
    "outputId": "12d809c9-d7ab-4350-81c1-366ffa482b10"
   },
   "outputs": [],
   "source": [
    "# Check shape\n",
    "fortune.shape"
   ]
  },
  {
   "cell_type": "code",
   "execution_count": null,
   "metadata": {
    "colab": {
     "base_uri": "https://localhost:8080/",
     "height": 300
    },
    "executionInfo": {
     "elapsed": 242,
     "status": "ok",
     "timestamp": 1694106178940,
     "user": {
      "displayName": "Amir H.ahmadzadeh",
      "userId": "14804368754049159190"
     },
     "user_tz": -120
    },
    "id": "W2TscGXuhFcn",
    "outputId": "d50c26f6-70bb-4110-8b6e-a879283ceb60"
   },
   "outputs": [],
   "source": [
    "# Describe numerical dataset\n",
    "round(fortune.describe())"
   ]
  },
  {
   "cell_type": "code",
   "execution_count": null,
   "metadata": {
    "colab": {
     "base_uri": "https://localhost:8080/",
     "height": 175
    },
    "executionInfo": {
     "elapsed": 248,
     "status": "ok",
     "timestamp": 1694106217591,
     "user": {
      "displayName": "Amir H.ahmadzadeh",
      "userId": "14804368754049159190"
     },
     "user_tz": -120
    },
    "id": "MZpiQlBwhFco",
    "outputId": "eccc6452-8ccb-468e-f33c-51ff9b3e6b1d"
   },
   "outputs": [],
   "source": [
    "# Describe categorical columns\n",
    "fortune.describe(include='object')"
   ]
  },
  {
   "cell_type": "markdown",
   "metadata": {},
   "source": [
    "## <a id='toc4_2_'></a>[Box plot](#toc0_)"
   ]
  },
  {
   "cell_type": "markdown",
   "metadata": {},
   "source": [
    "One of the best ways to see the elements you studied in the descriptive statistics lesson (mean, quartiles, outliers) is to visualize them using a boxplot:"
   ]
  },
  {
   "cell_type": "code",
   "execution_count": null,
   "metadata": {},
   "outputs": [],
   "source": [
    "# plotly box horizontal\n",
    "px.box(x=fortune.profit)"
   ]
  },
  {
   "cell_type": "markdown",
   "metadata": {},
   "source": [
    "We can also have a look at the profit per sector using boxplots:"
   ]
  },
  {
   "cell_type": "code",
   "execution_count": null,
   "metadata": {},
   "outputs": [],
   "source": [
    "# Boxplot per sector\n",
    "px.box(x=fortune.profit, color=fortune.sector)"
   ]
  },
  {
   "cell_type": "code",
   "execution_count": null,
   "metadata": {},
   "outputs": [],
   "source": [
    "# Too much noise! I will select only a few industries\n",
    "industries = ['Media', 'Energy', 'Financials', 'Aerospace & Defense']\n",
    "fortune_selection = fortune[fortune.sector.isin(industries)]\n",
    "px.box(x=fortune_selection.profit, color=fortune_selection.sector)"
   ]
  },
  {
   "cell_type": "code",
   "execution_count": null,
   "metadata": {},
   "outputs": [],
   "source": [
    "# Get plotly to display the outlier companies\n",
    "px.box(data_frame=fortune_selection, x=\"profit\", color=\"sector\", hover_data=\"company\")"
   ]
  },
  {
   "cell_type": "markdown",
   "metadata": {},
   "source": [
    "## <a id='toc4_1_'></a>[Histogram](#toc0_)"
   ]
  },
  {
   "cell_type": "markdown",
   "metadata": {},
   "source": [
    "We use histograms to get a complete view of our numerical continuous data, which we cannot do when using a boxplot:"
   ]
  },
  {
   "cell_type": "code",
   "execution_count": null,
   "metadata": {
    "colab": {
     "base_uri": "https://localhost:8080/",
     "height": 542
    },
    "executionInfo": {
     "elapsed": 2147,
     "status": "ok",
     "timestamp": 1694106473620,
     "user": {
      "displayName": "Amir H.ahmadzadeh",
      "userId": "14804368754049159190"
     },
     "user_tz": -120
    },
    "id": "ik4zWNQ3hFcs",
    "outputId": "acd1353e-2e8b-4d71-bdb3-65f02345aec9"
   },
   "outputs": [],
   "source": [
    "# plotly express histogram\n",
    "px.histogram(fortune.revenue)"
   ]
  },
  {
   "cell_type": "markdown",
   "metadata": {},
   "source": [
    "We can also review subsets of data:"
   ]
  },
  {
   "cell_type": "code",
   "execution_count": null,
   "metadata": {},
   "outputs": [],
   "source": [
    "# how are companies ran by female CEOs different in terms of revenue\n",
    "px.histogram(x=fortune.revenue, facet_row=fortune.ceo_woman)"
   ]
  },
  {
   "cell_type": "markdown",
   "metadata": {},
   "source": [
    "We can clearly see there are far fewer female CEOs than otherwise, but we still can't quite read our distribution, so let's fix that:"
   ]
  },
  {
   "cell_type": "code",
   "execution_count": null,
   "metadata": {},
   "outputs": [],
   "source": [
    "fig = px.histogram(x=fortune.revenue, facet_row=fortune.ceo_woman)\n",
    "fig.update_yaxes(matches=None)\n",
    "fig.show()"
   ]
  },
  {
   "cell_type": "code",
   "execution_count": null,
   "metadata": {},
   "outputs": [],
   "source": [
    "# And finally, to remove the facet_row from the plot\n",
    "fig = px.histogram(x=fortune.revenue, facet_row=fortune.ceo_woman)\n",
    "fig.update_yaxes(matches=None)\n",
    "fig.for_each_annotation(lambda a: a.update(text=a.text.split(\"=\")[-1]))\n",
    "fig.show()"
   ]
  },
  {
   "cell_type": "markdown",
   "metadata": {},
   "source": [
    "## <a id='toc4_3_'></a>[Bar plots](#toc0_)"
   ]
  },
  {
   "cell_type": "markdown",
   "metadata": {
    "id": "fKlpHwEThFcw"
   },
   "source": [
    "Next, we want to have an idea of the proportions and absolute number of companies within each category:"
   ]
  },
  {
   "cell_type": "code",
   "execution_count": null,
   "metadata": {
    "colab": {
     "base_uri": "https://localhost:8080/",
     "height": 542
    },
    "executionInfo": {
     "elapsed": 414,
     "status": "ok",
     "timestamp": 1694108808750,
     "user": {
      "displayName": "Amir H.ahmadzadeh",
      "userId": "14804368754049159190"
     },
     "user_tz": -120
    },
    "id": "KDya_thWhFcw",
    "outputId": "33ce9afc-ad27-43ba-fb67-a95b88c1cf46"
   },
   "outputs": [],
   "source": [
    "# Check proportion of CEO founders\n",
    "px.histogram(fortune['ceo_founder'])"
   ]
  },
  {
   "cell_type": "markdown",
   "metadata": {},
   "source": [
    "Which sectors make it to the Fortune 1000 most?"
   ]
  },
  {
   "cell_type": "code",
   "execution_count": null,
   "metadata": {
    "id": "Z1Bglz9lhFcx"
   },
   "outputs": [],
   "source": [
    "# Try visualizing sector\n",
    "px.histogram(fortune.sector)"
   ]
  },
  {
   "cell_type": "code",
   "execution_count": null,
   "metadata": {},
   "outputs": [],
   "source": [
    "# Better visualized in a horizontal plot\n",
    "px.histogram(y=fortune.sector)"
   ]
  },
  {
   "cell_type": "markdown",
   "metadata": {
    "id": "2GbyVAYkhFcx"
   },
   "source": [
    "Which companies are the most profitable though?"
   ]
  },
  {
   "cell_type": "code",
   "execution_count": null,
   "metadata": {
    "colab": {
     "base_uri": "https://localhost:8080/",
     "height": 739
    },
    "executionInfo": {
     "elapsed": 11,
     "status": "ok",
     "timestamp": 1694109189788,
     "user": {
      "displayName": "Amir H.ahmadzadeh",
      "userId": "14804368754049159190"
     },
     "user_tz": -120
    },
    "id": "sjwpuCIhhFcx",
    "outputId": "d8f0ff28-b6b1-4f5f-e86f-afc87ad25bae"
   },
   "outputs": [],
   "source": [
    "# sector profit\n",
    "sector_profit = fortune.groupby('sector').agg({'profit':'mean'})\n",
    "sector_profit = sector_profit.sort_values(by=\"profit\").round()\n",
    "sector_profit"
   ]
  },
  {
   "cell_type": "code",
   "execution_count": null,
   "metadata": {
    "colab": {
     "base_uri": "https://localhost:8080/",
     "height": 346
    },
    "executionInfo": {
     "elapsed": 12,
     "status": "error",
     "timestamp": 1694109285731,
     "user": {
      "displayName": "Amir H.ahmadzadeh",
      "userId": "14804368754049159190"
     },
     "user_tz": -120
    },
    "id": "kAPp_qMxhFcx",
    "outputId": "0b67fae6-8299-44ab-b319-b35a7256a687"
   },
   "outputs": [],
   "source": [
    "# Let's redo the chart\n",
    "px.histogram(y=sector_profit.index, x=sector_profit.profit)"
   ]
  },
  {
   "cell_type": "markdown",
   "metadata": {},
   "source": [
    "## <a id='toc4_4_'></a>[~~Pie charts~~](#toc0_)"
   ]
  },
  {
   "cell_type": "markdown",
   "metadata": {
    "id": "dwObFgkrhFcy"
   },
   "source": [
    "~~Show proportions~~"
   ]
  },
  {
   "cell_type": "code",
   "execution_count": null,
   "metadata": {
    "id": "etSdNgvZhFcz"
   },
   "outputs": [],
   "source": [
    "# Sector\n",
    "px.pie(values=fortune.sector.value_counts().values, names=fortune.sector.value_counts().index)"
   ]
  },
  {
   "cell_type": "code",
   "execution_count": null,
   "metadata": {
    "id": "AuLviY_IhFc0"
   },
   "outputs": [],
   "source": [
    "# Check revenue per sector\n",
    "sector_revenue = fortune.groupby('sector')['revenue'].sum()\n",
    "px.pie(values=sector_revenue.values, names=sector_revenue.index)"
   ]
  },
  {
   "cell_type": "markdown",
   "metadata": {},
   "source": [
    "## <a id='toc4_5_'></a>[Treemap](#toc0_)"
   ]
  },
  {
   "cell_type": "markdown",
   "metadata": {
    "id": "UvCIKr2fhFc0"
   },
   "source": [
    "A bit more difficult to do in matplotlib than a pie chart but much better. Used to show proportions."
   ]
  },
  {
   "cell_type": "code",
   "execution_count": null,
   "metadata": {},
   "outputs": [],
   "source": [
    "fig = px.treemap(fortune, path=[px.Constant(\"all\"), 'sector'], values='revenue')\n",
    "fig.update_traces(root_color=\"lightgrey\")\n",
    "fig.update_layout(margin = dict(t=50, l=25, r=25, b=25))\n",
    "fig.show()"
   ]
  },
  {
   "cell_type": "markdown",
   "metadata": {},
   "source": [
    "## <a id='toc4_6_'></a>[Scatter plot](#toc0_)"
   ]
  },
  {
   "cell_type": "markdown",
   "metadata": {
    "id": "w9E8M1zKhFc2"
   },
   "source": [
    "As we've seen in the field relationships lesson, we can use a scatterplot to visualize the relationship between 2 numerical continuous variables:"
   ]
  },
  {
   "cell_type": "code",
   "execution_count": null,
   "metadata": {
    "id": "jr0UibYphFc2"
   },
   "outputs": [],
   "source": [
    "px.scatter(x=fortune.profit, y=fortune.revenue)"
   ]
  },
  {
   "cell_type": "code",
   "execution_count": null,
   "metadata": {},
   "outputs": [],
   "source": [
    "# Let's get some axis titles and labels\n",
    "fig = px.scatter(x=fortune.profit, y=fortune.revenue)\n",
    "fig.update_xaxes(title=\"profit\")\n",
    "fig.update_yaxes(title=\"revenue\")\n",
    "fig.show()"
   ]
  },
  {
   "cell_type": "markdown",
   "metadata": {},
   "source": [
    "## <a id='toc4_7_'></a>[Line plot](#toc0_)"
   ]
  },
  {
   "cell_type": "markdown",
   "metadata": {
    "id": "4MLMlYDphFc2"
   },
   "source": [
    "Line plots are particularly useful when dealing with trends over time:"
   ]
  },
  {
   "cell_type": "code",
   "execution_count": null,
   "metadata": {
    "id": "xuqs6ng7hFc3"
   },
   "outputs": [],
   "source": [
    "# Run this before the next cell\n",
    "# !pip install yfinance"
   ]
  },
  {
   "cell_type": "code",
   "execution_count": null,
   "metadata": {
    "id": "MnArkwr2hFc3"
   },
   "outputs": [],
   "source": [
    "# Don't worry about this too much, I'm just interested in getting a time series\n",
    "import yfinance as yf\n",
    "import datetime as dt\n",
    "amazon = yf.Ticker('AMZN')\n",
    "amazon_data = amazon.history(start='2022-01-01', end=dt.date.today())\n",
    "amazon_data.head()"
   ]
  },
  {
   "cell_type": "code",
   "execution_count": null,
   "metadata": {
    "id": "g58WFyQ0hFc4"
   },
   "outputs": [],
   "source": [
    "fig = px.line(x=amazon_data.index, y=amazon_data.Close)\n",
    "fig.update_xaxes(title=\"Date\")\n",
    "fig.update_yaxes(title=\"Close\")"
   ]
  },
  {
   "cell_type": "code",
   "execution_count": null,
   "metadata": {},
   "outputs": [],
   "source": [
    "# Do not use when dealing with a typical scatterplot!\n",
    "px.line(x=fortune.profit, y=fortune.revenue)"
   ]
  },
  {
   "cell_type": "markdown",
   "metadata": {},
   "source": [
    "## <a id='toc4_8_'></a>[💡 Check for understanding](#toc0_)"
   ]
  },
  {
   "cell_type": "markdown",
   "metadata": {
    "id": "Zm5W0xkhhFc4"
   },
   "source": [
    "You will still be working with the Fortune 1000 dataset like last time but this time you will visualize the results!"
   ]
  },
  {
   "cell_type": "code",
   "execution_count": null,
   "metadata": {
    "colab": {
     "base_uri": "https://localhost:8080/",
     "height": 608
    },
    "executionInfo": {
     "elapsed": 282,
     "status": "ok",
     "timestamp": 1694110663560,
     "user": {
      "displayName": "Amir H.ahmadzadeh",
      "userId": "14804368754049159190"
     },
     "user_tz": -120
    },
    "id": "d5hFTlp-hFc5",
    "outputId": "ba668f6f-a7fc-4b00-aeae-dba2a66d7e0c"
   },
   "outputs": [],
   "source": [
    "fortune = pd.read_csv(\"https://raw.githubusercontent.com/data-bootcamp-v4/data/main/Fortune_1000.csv\")\n",
    "fortune.sample(10)"
   ]
  },
  {
   "cell_type": "markdown",
   "metadata": {
    "id": "UhMcdLAOhFc5"
   },
   "source": [
    "**Questions**\n",
    "- Show the number of different companies per state with an appropriate chart. \n",
    "- Show the relative proportion of states in the dataset with an appropriate chart.\n",
    "- Can you do the same to check the overall revenue per state?\n",
    "- Check the distribution of market cap for the companies in the dataset. What do you see?\n",
    "- Are there many outlier companies when looking at market cap? Choose an appropriate graph to show this.\n",
    "- Display the number of companies per sector for the top 10% of companies. Do the same for the bottom 10%.\n",
    "- Check how market cap changes in relationship to the profit with an appropriate plot. What do you see?\n",
    "- Lastly, have a look at the sectors that have female CEOs. Which one is the most prevalent?\n",
    "- What new information did we get through EDA compared to last time? Feel free to look for other things as well 😉\n",
    "\n",
    "*Notes:*\n",
    "- You might need to remove NaNs from some of the columns!\n",
    "- You might need to convert some data types!"
   ]
  },
  {
   "cell_type": "markdown",
   "metadata": {},
   "source": [
    "## <a id='toc4_9_'></a>[Common mistakes!](#toc0_)"
   ]
  },
  {
   "cell_type": "code",
   "execution_count": null,
   "metadata": {
    "id": "NY7LBVkihFc5"
   },
   "outputs": [],
   "source": [
    "import plotly.express as px\n",
    "customer_data = pd.read_csv(\"https://raw.githubusercontent.com/data-bootcamp-v4/data/main/marketing_customer_analysis.csv\")"
   ]
  },
  {
   "cell_type": "markdown",
   "metadata": {},
   "source": [
    "### <a id='toc4_9_1_'></a>[Plotting without understanding what you're plotting (e.g. `customer_id`)](#toc0_)"
   ]
  },
  {
   "cell_type": "code",
   "execution_count": null,
   "metadata": {
    "id": "bR2l0H_LhFc6"
   },
   "outputs": [],
   "source": [
    "px.bar(customer_data, x='Customer')"
   ]
  },
  {
   "cell_type": "markdown",
   "metadata": {
    "id": "Q66GK0c3hFc6"
   },
   "source": [
    "This graph doesn't give us any significant information. It just shows the number of claims per customer but it's too cluttered to read."
   ]
  },
  {
   "cell_type": "markdown",
   "metadata": {},
   "source": [
    "### <a id='toc4_9_2_'></a>[Doing barplots for numerical continuous data](#toc0_)"
   ]
  },
  {
   "cell_type": "code",
   "execution_count": null,
   "metadata": {
    "id": "rCVhmOxYhFc6"
   },
   "outputs": [],
   "source": [
    "px.bar(customer_data, y='Income')"
   ]
  },
  {
   "cell_type": "markdown",
   "metadata": {},
   "source": [
    "### <a id='toc4_9_3_'></a>[Doing boxplots for numerical discrete data](#toc0_)"
   ]
  },
  {
   "cell_type": "code",
   "execution_count": null,
   "metadata": {
    "id": "dLDN-EQehFc7"
   },
   "outputs": [],
   "source": [
    "px.box(customer_data, x='Number of Open Complaints')"
   ]
  },
  {
   "cell_type": "markdown",
   "metadata": {},
   "source": [
    "### <a id='toc4_9_4_'></a>[Considering histograms on numerical discrete data as normal distributions](#toc0_)"
   ]
  },
  {
   "cell_type": "code",
   "execution_count": null,
   "metadata": {
    "id": "zJ674UyvhFc7"
   },
   "outputs": [],
   "source": [
    "px.histogram(customer_data, x='Number of Open Complaints')"
   ]
  },
  {
   "cell_type": "markdown",
   "metadata": {},
   "source": [
    "### <a id='toc4_9_5_'></a>[Creating incorrectly formatted plots](#toc0_)"
   ]
  },
  {
   "cell_type": "code",
   "execution_count": null,
   "metadata": {
    "id": "IoesQIeYhFc8"
   },
   "outputs": [],
   "source": [
    "px.box(customer_data, x='Effective To Date', y='Total Claim Amount')"
   ]
  },
  {
   "cell_type": "code",
   "execution_count": null,
   "metadata": {},
   "outputs": [],
   "source": [
    "# The dates aren't properly formatted!\n",
    "customer_data[\"Effective To Date\"] = pd.to_datetime(customer_data[\"Effective To Date\"])\n",
    "px.box(customer_data, x='Effective To Date', y='Total Claim Amount')"
   ]
  },
  {
   "cell_type": "markdown",
   "metadata": {},
   "source": [
    "### <a id='toc4_9_5_'></a>[Creating noisy plots](#toc0_)"
   ]
  },
  {
   "cell_type": "code",
   "execution_count": null,
   "metadata": {},
   "outputs": [],
   "source": [
    "customer_data[\"Effective To Date\"] = pd.to_datetime(customer_data[\"Effective To Date\"])\n",
    "px.box(customer_data, x='Effective To Date', y='Total Claim Amount')"
   ]
  },
  {
   "cell_type": "code",
   "execution_count": null,
   "metadata": {},
   "outputs": [],
   "source": [
    "# The chart above is still not quite useful to understand trends over time\n",
    "pivot = customer_data.groupby('Effective To Date')['Total Claim Amount'].sum().reset_index()\n",
    "px.line(pivot, x='Effective To Date', y='Total Claim Amount')"
   ]
  }
 ],
 "metadata": {
  "colab": {
   "provenance": []
  },
  "kernelspec": {
   "display_name": "lizzy_dev",
   "language": "python",
   "name": "python3"
  },
  "language_info": {
   "codemirror_mode": {
    "name": "ipython",
    "version": 3
   },
   "file_extension": ".py",
   "mimetype": "text/x-python",
   "name": "python",
   "nbconvert_exporter": "python",
   "pygments_lexer": "ipython3",
   "version": "3.11.0"
  },
  "orig_nbformat": 4
 },
 "nbformat": 4,
 "nbformat_minor": 0
}
