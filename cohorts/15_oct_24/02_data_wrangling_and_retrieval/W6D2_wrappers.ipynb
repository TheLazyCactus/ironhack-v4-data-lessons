{
 "cells": [
  {
   "cell_type": "code",
   "execution_count": 3,
   "metadata": {
    "colab": {
     "base_uri": "https://localhost:8080/"
    },
    "executionInfo": {
     "elapsed": 6992,
     "status": "ok",
     "timestamp": 1717519370720,
     "user": {
      "displayName": "David Henriques",
      "userId": "12666549553310163307"
     },
     "user_tz": -60
    },
    "id": "SRlgoQe5jRRc",
    "outputId": "a2992f0d-4de9-4953-bcc9-0184a2f2dabb"
   },
   "outputs": [
    {
     "name": "stdout",
     "output_type": "stream",
     "text": [
      "Collecting gspread\n",
      "  Downloading gspread-6.1.4-py3-none-any.whl.metadata (11 kB)\n",
      "Collecting google-auth>=1.12.0 (from gspread)\n",
      "  Downloading google_auth-2.36.0-py2.py3-none-any.whl.metadata (4.7 kB)\n",
      "Collecting google-auth-oauthlib>=0.4.1 (from gspread)\n",
      "  Downloading google_auth_oauthlib-1.2.1-py2.py3-none-any.whl.metadata (2.7 kB)\n",
      "Requirement already satisfied: cachetools<6.0,>=2.0.0 in d:\\data_analyst\\ironhack\\anaconda\\lib\\site-packages (from google-auth>=1.12.0->gspread) (5.3.3)\n",
      "Requirement already satisfied: pyasn1-modules>=0.2.1 in d:\\data_analyst\\ironhack\\anaconda\\lib\\site-packages (from google-auth>=1.12.0->gspread) (0.2.8)\n",
      "Collecting rsa<5,>=3.1.4 (from google-auth>=1.12.0->gspread)\n",
      "  Downloading rsa-4.9-py3-none-any.whl.metadata (4.2 kB)\n",
      "Collecting requests-oauthlib>=0.7.0 (from google-auth-oauthlib>=0.4.1->gspread)\n",
      "  Downloading requests_oauthlib-2.0.0-py2.py3-none-any.whl.metadata (11 kB)\n",
      "Requirement already satisfied: pyasn1<0.5.0,>=0.4.6 in d:\\data_analyst\\ironhack\\anaconda\\lib\\site-packages (from pyasn1-modules>=0.2.1->google-auth>=1.12.0->gspread) (0.4.8)\n",
      "Collecting oauthlib>=3.0.0 (from requests-oauthlib>=0.7.0->google-auth-oauthlib>=0.4.1->gspread)\n",
      "  Downloading oauthlib-3.2.2-py3-none-any.whl.metadata (7.5 kB)\n",
      "Requirement already satisfied: requests>=2.0.0 in d:\\data_analyst\\ironhack\\anaconda\\lib\\site-packages (from requests-oauthlib>=0.7.0->google-auth-oauthlib>=0.4.1->gspread) (2.32.2)\n",
      "Requirement already satisfied: charset-normalizer<4,>=2 in d:\\data_analyst\\ironhack\\anaconda\\lib\\site-packages (from requests>=2.0.0->requests-oauthlib>=0.7.0->google-auth-oauthlib>=0.4.1->gspread) (2.0.4)\n",
      "Requirement already satisfied: idna<4,>=2.5 in d:\\data_analyst\\ironhack\\anaconda\\lib\\site-packages (from requests>=2.0.0->requests-oauthlib>=0.7.0->google-auth-oauthlib>=0.4.1->gspread) (3.7)\n",
      "Requirement already satisfied: urllib3<3,>=1.21.1 in d:\\data_analyst\\ironhack\\anaconda\\lib\\site-packages (from requests>=2.0.0->requests-oauthlib>=0.7.0->google-auth-oauthlib>=0.4.1->gspread) (2.2.2)\n",
      "Requirement already satisfied: certifi>=2017.4.17 in d:\\data_analyst\\ironhack\\anaconda\\lib\\site-packages (from requests>=2.0.0->requests-oauthlib>=0.7.0->google-auth-oauthlib>=0.4.1->gspread) (2024.6.2)\n",
      "Downloading gspread-6.1.4-py3-none-any.whl (57 kB)\n",
      "   ---------------------------------------- 0.0/57.6 kB ? eta -:--:--\n",
      "   ----------------------------------- ---- 51.2/57.6 kB 1.3 MB/s eta 0:00:01\n",
      "   ---------------------------------------- 57.6/57.6 kB 751.3 kB/s eta 0:00:00\n",
      "Downloading google_auth-2.36.0-py2.py3-none-any.whl (209 kB)\n",
      "   ---------------------------------------- 0.0/209.5 kB ? eta -:--:--\n",
      "   ---------------------------------------  204.8/209.5 kB 6.3 MB/s eta 0:00:01\n",
      "   ---------------------------------------- 209.5/209.5 kB 3.2 MB/s eta 0:00:00\n",
      "Downloading google_auth_oauthlib-1.2.1-py2.py3-none-any.whl (24 kB)\n",
      "Downloading requests_oauthlib-2.0.0-py2.py3-none-any.whl (24 kB)\n",
      "Downloading rsa-4.9-py3-none-any.whl (34 kB)\n",
      "Downloading oauthlib-3.2.2-py3-none-any.whl (151 kB)\n",
      "   ---------------------------------------- 0.0/151.7 kB ? eta -:--:--\n",
      "   ---------------------------------------- 151.7/151.7 kB 4.6 MB/s eta 0:00:00\n",
      "Installing collected packages: rsa, oauthlib, requests-oauthlib, google-auth, google-auth-oauthlib, gspread\n",
      "Successfully installed google-auth-2.36.0 google-auth-oauthlib-1.2.1 gspread-6.1.4 oauthlib-3.2.2 requests-oauthlib-2.0.0 rsa-4.9\n",
      "Note: you may need to restart the kernel to use updated packages.\n"
     ]
    },
    {
     "name": "stderr",
     "output_type": "stream",
     "text": [
      "  WARNING: The scripts pyrsa-decrypt.exe, pyrsa-encrypt.exe, pyrsa-keygen.exe, pyrsa-priv2pub.exe, pyrsa-sign.exe and pyrsa-verify.exe are installed in 'd:\\Data_analyst\\Ironhack\\Anaconda\\Scripts' which is not on PATH.\n",
      "  Consider adding this directory to PATH or, if you prefer to suppress this warning, use --no-warn-script-location.\n",
      "  WARNING: The script google-oauthlib-tool.exe is installed in 'd:\\Data_analyst\\Ironhack\\Anaconda\\Scripts' which is not on PATH.\n",
      "  Consider adding this directory to PATH or, if you prefer to suppress this warning, use --no-warn-script-location.\n"
     ]
    }
   ],
   "source": [
    "pip install --upgrade gspread"
   ]
  },
  {
   "cell_type": "code",
   "execution_count": null,
   "metadata": {
    "id": "lf8PQQN5tbxe"
   },
   "outputs": [],
   "source": [
    "# go to https://console.developers.google.com/\n",
    "# click \"Create project\" (top right)\n",
    "# click \"enable APIS and Services\" (top center)\n",
    "# Enable the Google Sheets API for your project (select the Google Sheets option), then click \"Enable\"\n",
    "# APIS & SERVICES (left) -> Credentials ->\n",
    "# Create Credentials (Top) -> API key\n",
    "# Create Credentials (Top) -> Service account -> name your service account -> create and continue -> Role = Owner -> Done\n",
    "# Select service account -> Keys (Top center) -> Add key -> Create new key -> Download JSON\n",
    "\n",
    "# share the sheet with the service account and all users"
   ]
  },
  {
   "cell_type": "code",
   "execution_count": 1,
   "metadata": {
    "id": "ynRmA84zkIOk"
   },
   "outputs": [],
   "source": [
    "import requests\n",
    "import gspread\n",
    "import json\n",
    "import pandas as pd"
   ]
  },
  {
   "cell_type": "markdown",
   "metadata": {},
   "source": [
    "Let's use google sheet api first"
   ]
  },
  {
   "cell_type": "code",
   "execution_count": null,
   "metadata": {
    "colab": {
     "base_uri": "https://localhost:8080/"
    },
    "executionInfo": {
     "elapsed": 12235,
     "status": "ok",
     "timestamp": 1717520046532,
     "user": {
      "displayName": "David Henriques",
      "userId": "12666549553310163307"
     },
     "user_tz": -60
    },
    "id": "AElt1ikEZoKN",
    "outputId": "3627c0c1-6f4e-409a-86fd-d4182fd71d31"
   },
   "outputs": [],
   "source": [
    "spreadsheet_id = input('write your spreadsheet id: ')"
   ]
  },
  {
   "cell_type": "code",
   "execution_count": null,
   "metadata": {
    "colab": {
     "base_uri": "https://localhost:8080/",
     "height": 35
    },
    "executionInfo": {
     "elapsed": 399,
     "status": "ok",
     "timestamp": 1717520060929,
     "user": {
      "displayName": "David Henriques",
      "userId": "12666549553310163307"
     },
     "user_tz": -60
    },
    "id": "gQ2QkSDiZ1zV",
    "outputId": "b3f5685c-ade7-46bf-fd41-7a09590c13e2"
   },
   "outputs": [
    {
     "data": {
      "application/vnd.google.colaboratory.intrinsic+json": {
       "type": "string"
      },
      "text/plain": [
       "'1or4qvyhhqaUkd3mj-R43OG98cK8XkV0lFYifdaCMAGs'"
      ]
     },
     "execution_count": 23,
     "metadata": {},
     "output_type": "execute_result"
    }
   ],
   "source": [
    "spreadsheet_id"
   ]
  },
  {
   "cell_type": "code",
   "execution_count": null,
   "metadata": {
    "id": "lOv5uBUctrWO"
   },
   "outputs": [],
   "source": [
    "range_name = 'Sheet1!A2:A2'\n",
    "url = 'https://sheets.googleapis.com/v4/spreadsheets/'+spreadsheet_id+'/values/'+range_name"
   ]
  },
  {
   "cell_type": "code",
   "execution_count": null,
   "metadata": {
    "colab": {
     "base_uri": "https://localhost:8080/"
    },
    "executionInfo": {
     "elapsed": 1823,
     "status": "ok",
     "timestamp": 1717520226604,
     "user": {
      "displayName": "David Henriques",
      "userId": "12666549553310163307"
     },
     "user_tz": -60
    },
    "id": "3KNglPTBtsPk",
    "outputId": "f70ded59-91a2-49a2-d6ee-b06593b7f06e"
   },
   "outputs": [
    {
     "data": {
      "text/plain": [
       "{'error': {'code': 403,\n",
       "  'message': \"Method doesn't allow unregistered callers (callers without established identity). Please use API Key or other form of API consumer identity to call this API.\",\n",
       "  'status': 'PERMISSION_DENIED'}}"
      ]
     },
     "execution_count": 25,
     "metadata": {},
     "output_type": "execute_result"
    }
   ],
   "source": [
    "response = requests.get(url)\n",
    "response.json()"
   ]
  },
  {
   "cell_type": "markdown",
   "metadata": {
    "id": "IA8grcETtdny"
   },
   "source": [
    "Handling secrets: secrets files, .gitignore and other prod tricks"
   ]
  },
  {
   "cell_type": "code",
   "execution_count": null,
   "metadata": {
    "id": "cSd4NDNrcojb"
   },
   "outputs": [],
   "source": [
    "credentials_file = 'spreadsheet_secrets.txt'\n",
    "handler = open(credentials_file, 'r')\n",
    "lines = handler.readlines()\n",
    "handler.close()"
   ]
  },
  {
   "cell_type": "code",
   "execution_count": null,
   "metadata": {
    "id": "I_7kLlj6dD1j"
   },
   "outputs": [],
   "source": [
    "API_key = lines[0]\n",
    "params = {\n",
    "   'key': API_key\n",
    "}\n",
    "headers = {\n",
    "   'Content-Type': 'application/json'\n",
    "}"
   ]
  },
  {
   "cell_type": "code",
   "execution_count": null,
   "metadata": {
    "id": "JerVKh50ko-O"
   },
   "outputs": [],
   "source": [
    "response = requests.get(url, headers=headers, params=params)"
   ]
  },
  {
   "cell_type": "code",
   "execution_count": null,
   "metadata": {
    "colab": {
     "base_uri": "https://localhost:8080/"
    },
    "executionInfo": {
     "elapsed": 4,
     "status": "ok",
     "timestamp": 1717521640853,
     "user": {
      "displayName": "David Henriques",
      "userId": "12666549553310163307"
     },
     "user_tz": -60
    },
    "id": "6wKRpRngkpA4",
    "outputId": "8b10bff9-f3d5-4d1a-ad1e-1be312f3fd2f"
   },
   "outputs": [
    {
     "data": {
      "text/plain": [
       "{'range': 'Sheet1!A2', 'majorDimension': 'ROWS', 'values': [['Hello world']]}"
      ]
     },
     "execution_count": 49,
     "metadata": {},
     "output_type": "execute_result"
    }
   ],
   "source": [
    "response.json()"
   ]
  },
  {
   "cell_type": "code",
   "execution_count": null,
   "metadata": {
    "id": "RnG4agm6TZuW"
   },
   "outputs": [],
   "source": [
    "json_credentials_path = 'ironhackapiwrappersclass-133f259abbb8.json'"
   ]
  },
  {
   "cell_type": "markdown",
   "metadata": {
    "id": "1PD__W3TNmpN"
   },
   "source": [
    "This is *not* how we would typically handle a request in production, for that we would use an more advanced authentication method, such as OAuth, which essentially generates Authentication keys with a timeout. However that is kind of a bother to handle, requiring even a call to *another* API to generate the keys"
   ]
  },
  {
   "cell_type": "code",
   "execution_count": null,
   "metadata": {
    "id": "CiBRCmLoTVkG"
   },
   "outputs": [],
   "source": [
    "with open(json_credentials_path) as json_file:\n",
    "        credentials_data = json.load(json_file)\n",
    "#credentials_data"
   ]
  },
  {
   "cell_type": "code",
   "execution_count": null,
   "metadata": {
    "id": "pOb0SzJ2Oqdg"
   },
   "outputs": [],
   "source": [
    "# Example, this is how you would generate a temporary access token...\n",
    "# import requests\n",
    "# import json\n",
    "# from google.auth import crypt\n",
    "# from google.auth import jwt\n",
    "\n",
    "# def get_access_token(json_credentials_path):\n",
    "#     url = 'https://oauth2.googleapis.com/token'\n",
    "#     headers = {'Content-Type': 'application/x-www-form-urlencoded'}\n",
    "#     data = {'grant_type': 'urn:ietf:params:oauth:grant-type:jwt-bearer','assertion': create_assertion(json_credentials_path)}\n",
    "#     response = requests.post(url, headers=headers, data=data)\n",
    "#     return response.json().get('access_token')\n",
    "\n",
    "# def create_assertion(json_credentials_path):\n",
    "#     with open(json_credentials_path) as json_file:\n",
    "#         credentials_data = json.load(json_file)\n",
    "#     credentials = jwt.Credentials.from_service_account_info(credentials_data,audience=\"https://sheets.googleapis.com/\")\n",
    "#     return credentials.signer.sign(b'')\n",
    "\n",
    "# json_credentials_path = 'ironhackapiwrappersclass-133f259abbb8.json'\n",
    "# access_token = get_access_token(json_credentials_path)"
   ]
  },
  {
   "cell_type": "markdown",
   "metadata": {
    "id": "TDXSbnT7Ts41"
   },
   "source": [
    "And then this access token times out after a few minutes and a new one has to be generated. It is a bother and we instead usually use a wrapper..."
   ]
  },
  {
   "cell_type": "markdown",
   "metadata": {
    "id": "0zMCl_fAGayh"
   },
   "source": [
    "A wrapper handles the basic requests of an API in ways that are more functionally meaningful.\n",
    "\n",
    "An API Wrapper can be used to add functionality that the API might not have itself, for example, by making one or more requests and templating the resulting (usually JSON) responses into a useful data structure appropriate for the language you are using (say a pandas dataframe, for example).\n",
    "\n",
    "Another reason wrappers are used is to make it easier to use an API. Handling authentication, parameters, batching requests and generally abstracting away background admin we don't usually care so much about functionally."
   ]
  },
  {
   "cell_type": "code",
   "execution_count": null,
   "metadata": {
    "id": "QP7G0kMVr04c"
   },
   "outputs": [],
   "source": [
    "gc = gspread.service_account(filename=json_credentials_path)"
   ]
  },
  {
   "cell_type": "code",
   "execution_count": null,
   "metadata": {
    "id": "aVxtdTuqlKMo"
   },
   "outputs": [],
   "source": [
    "sheet = gc.open_by_key(spreadsheet_id)"
   ]
  },
  {
   "cell_type": "code",
   "execution_count": null,
   "metadata": {
    "id": "Yh27BMpZTUJh"
   },
   "outputs": [],
   "source": [
    "worksheet = sheet.get_worksheet(0)"
   ]
  },
  {
   "cell_type": "code",
   "execution_count": null,
   "metadata": {
    "colab": {
     "base_uri": "https://localhost:8080/"
    },
    "executionInfo": {
     "elapsed": 2,
     "status": "ok",
     "timestamp": 1717522325831,
     "user": {
      "displayName": "David Henriques",
      "userId": "12666549553310163307"
     },
     "user_tz": -60
    },
    "id": "osOTklifqCH1",
    "outputId": "d8e79c50-7231-47cd-f19d-aa8f2f076323"
   },
   "outputs": [
    {
     "data": {
      "text/plain": [
       "<Worksheet 'Sheet1' id:0>"
      ]
     },
     "execution_count": 59,
     "metadata": {},
     "output_type": "execute_result"
    }
   ],
   "source": [
    "worksheet"
   ]
  },
  {
   "cell_type": "code",
   "execution_count": null,
   "metadata": {
    "colab": {
     "base_uri": "https://localhost:8080/"
    },
    "executionInfo": {
     "elapsed": 869,
     "status": "ok",
     "timestamp": 1717522406955,
     "user": {
      "displayName": "David Henriques",
      "userId": "12666549553310163307"
     },
     "user_tz": -60
    },
    "id": "gTZTBLFLkpHZ",
    "outputId": "f56182c7-0851-492b-f75c-f0da551437ec"
   },
   "outputs": [
    {
     "data": {
      "text/plain": [
       "[['Header1', 'Header2', 'Header3'],\n",
       " ['Hello world', '', ''],\n",
       " ['', '', ''],\n",
       " ['', '', 'Goodbye world']]"
      ]
     },
     "execution_count": 60,
     "metadata": {},
     "output_type": "execute_result"
    }
   ],
   "source": [
    "# get all values is not available in the original API (where you need to specify the range), but it's a natural call to make\n",
    "worksheet.get_all_values()"
   ]
  },
  {
   "cell_type": "code",
   "execution_count": null,
   "metadata": {
    "colab": {
     "base_uri": "https://localhost:8080/",
     "height": 161
    },
    "executionInfo": {
     "elapsed": 1899,
     "status": "ok",
     "timestamp": 1717522492964,
     "user": {
      "displayName": "David Henriques",
      "userId": "12666549553310163307"
     },
     "user_tz": -60
    },
    "id": "19xNqyODV9U8",
    "outputId": "5a5587fd-da37-4e28-feb2-ea826aca0d22"
   },
   "outputs": [
    {
     "name": "stdout",
     "output_type": "stream",
     "text": [
      "[{'Header1': 'Hello world', 'Header2': '', 'Header3': ''}, {'Header1': '', 'Header2': '', 'Header3': ''}, {'Header1': '', 'Header2': '', 'Header3': 'Goodbye world'}]\n"
     ]
    },
    {
     "data": {
      "application/vnd.google.colaboratory.intrinsic+json": {
       "summary": "{\n  \"name\": \"pd\",\n  \"rows\": 3,\n  \"fields\": [\n    {\n      \"column\": \"Header1\",\n      \"properties\": {\n        \"dtype\": \"string\",\n        \"num_unique_values\": 2,\n        \"samples\": [\n          \"\",\n          \"Hello world\"\n        ],\n        \"semantic_type\": \"\",\n        \"description\": \"\"\n      }\n    },\n    {\n      \"column\": \"Header2\",\n      \"properties\": {\n        \"dtype\": \"object\",\n        \"num_unique_values\": 1,\n        \"samples\": [\n          \"\"\n        ],\n        \"semantic_type\": \"\",\n        \"description\": \"\"\n      }\n    },\n    {\n      \"column\": \"Header3\",\n      \"properties\": {\n        \"dtype\": \"string\",\n        \"num_unique_values\": 2,\n        \"samples\": [\n          \"Goodbye world\"\n        ],\n        \"semantic_type\": \"\",\n        \"description\": \"\"\n      }\n    }\n  ]\n}",
       "type": "dataframe"
      },
      "text/html": [
       "\n",
       "  <div id=\"df-3c47ea41-94e9-461e-b38c-471746c84546\" class=\"colab-df-container\">\n",
       "    <div>\n",
       "<style scoped>\n",
       "    .dataframe tbody tr th:only-of-type {\n",
       "        vertical-align: middle;\n",
       "    }\n",
       "\n",
       "    .dataframe tbody tr th {\n",
       "        vertical-align: top;\n",
       "    }\n",
       "\n",
       "    .dataframe thead th {\n",
       "        text-align: right;\n",
       "    }\n",
       "</style>\n",
       "<table border=\"1\" class=\"dataframe\">\n",
       "  <thead>\n",
       "    <tr style=\"text-align: right;\">\n",
       "      <th></th>\n",
       "      <th>Header1</th>\n",
       "      <th>Header2</th>\n",
       "      <th>Header3</th>\n",
       "    </tr>\n",
       "  </thead>\n",
       "  <tbody>\n",
       "    <tr>\n",
       "      <th>0</th>\n",
       "      <td>Hello world</td>\n",
       "      <td></td>\n",
       "      <td></td>\n",
       "    </tr>\n",
       "    <tr>\n",
       "      <th>1</th>\n",
       "      <td></td>\n",
       "      <td></td>\n",
       "      <td></td>\n",
       "    </tr>\n",
       "    <tr>\n",
       "      <th>2</th>\n",
       "      <td></td>\n",
       "      <td></td>\n",
       "      <td>Goodbye world</td>\n",
       "    </tr>\n",
       "  </tbody>\n",
       "</table>\n",
       "</div>\n",
       "    <div class=\"colab-df-buttons\">\n",
       "\n",
       "  <div class=\"colab-df-container\">\n",
       "    <button class=\"colab-df-convert\" onclick=\"convertToInteractive('df-3c47ea41-94e9-461e-b38c-471746c84546')\"\n",
       "            title=\"Convert this dataframe to an interactive table.\"\n",
       "            style=\"display:none;\">\n",
       "\n",
       "  <svg xmlns=\"http://www.w3.org/2000/svg\" height=\"24px\" viewBox=\"0 -960 960 960\">\n",
       "    <path d=\"M120-120v-720h720v720H120Zm60-500h600v-160H180v160Zm220 220h160v-160H400v160Zm0 220h160v-160H400v160ZM180-400h160v-160H180v160Zm440 0h160v-160H620v160ZM180-180h160v-160H180v160Zm440 0h160v-160H620v160Z\"/>\n",
       "  </svg>\n",
       "    </button>\n",
       "\n",
       "  <style>\n",
       "    .colab-df-container {\n",
       "      display:flex;\n",
       "      gap: 12px;\n",
       "    }\n",
       "\n",
       "    .colab-df-convert {\n",
       "      background-color: #E8F0FE;\n",
       "      border: none;\n",
       "      border-radius: 50%;\n",
       "      cursor: pointer;\n",
       "      display: none;\n",
       "      fill: #1967D2;\n",
       "      height: 32px;\n",
       "      padding: 0 0 0 0;\n",
       "      width: 32px;\n",
       "    }\n",
       "\n",
       "    .colab-df-convert:hover {\n",
       "      background-color: #E2EBFA;\n",
       "      box-shadow: 0px 1px 2px rgba(60, 64, 67, 0.3), 0px 1px 3px 1px rgba(60, 64, 67, 0.15);\n",
       "      fill: #174EA6;\n",
       "    }\n",
       "\n",
       "    .colab-df-buttons div {\n",
       "      margin-bottom: 4px;\n",
       "    }\n",
       "\n",
       "    [theme=dark] .colab-df-convert {\n",
       "      background-color: #3B4455;\n",
       "      fill: #D2E3FC;\n",
       "    }\n",
       "\n",
       "    [theme=dark] .colab-df-convert:hover {\n",
       "      background-color: #434B5C;\n",
       "      box-shadow: 0px 1px 3px 1px rgba(0, 0, 0, 0.15);\n",
       "      filter: drop-shadow(0px 1px 2px rgba(0, 0, 0, 0.3));\n",
       "      fill: #FFFFFF;\n",
       "    }\n",
       "  </style>\n",
       "\n",
       "    <script>\n",
       "      const buttonEl =\n",
       "        document.querySelector('#df-3c47ea41-94e9-461e-b38c-471746c84546 button.colab-df-convert');\n",
       "      buttonEl.style.display =\n",
       "        google.colab.kernel.accessAllowed ? 'block' : 'none';\n",
       "\n",
       "      async function convertToInteractive(key) {\n",
       "        const element = document.querySelector('#df-3c47ea41-94e9-461e-b38c-471746c84546');\n",
       "        const dataTable =\n",
       "          await google.colab.kernel.invokeFunction('convertToInteractive',\n",
       "                                                    [key], {});\n",
       "        if (!dataTable) return;\n",
       "\n",
       "        const docLinkHtml = 'Like what you see? Visit the ' +\n",
       "          '<a target=\"_blank\" href=https://colab.research.google.com/notebooks/data_table.ipynb>data table notebook</a>'\n",
       "          + ' to learn more about interactive tables.';\n",
       "        element.innerHTML = '';\n",
       "        dataTable['output_type'] = 'display_data';\n",
       "        await google.colab.output.renderOutput(dataTable, element);\n",
       "        const docLink = document.createElement('div');\n",
       "        docLink.innerHTML = docLinkHtml;\n",
       "        element.appendChild(docLink);\n",
       "      }\n",
       "    </script>\n",
       "  </div>\n",
       "\n",
       "\n",
       "<div id=\"df-e97c73e1-a0c9-48b5-b8b4-a9f4dd78d5b4\">\n",
       "  <button class=\"colab-df-quickchart\" onclick=\"quickchart('df-e97c73e1-a0c9-48b5-b8b4-a9f4dd78d5b4')\"\n",
       "            title=\"Suggest charts\"\n",
       "            style=\"display:none;\">\n",
       "\n",
       "<svg xmlns=\"http://www.w3.org/2000/svg\" height=\"24px\"viewBox=\"0 0 24 24\"\n",
       "     width=\"24px\">\n",
       "    <g>\n",
       "        <path d=\"M19 3H5c-1.1 0-2 .9-2 2v14c0 1.1.9 2 2 2h14c1.1 0 2-.9 2-2V5c0-1.1-.9-2-2-2zM9 17H7v-7h2v7zm4 0h-2V7h2v10zm4 0h-2v-4h2v4z\"/>\n",
       "    </g>\n",
       "</svg>\n",
       "  </button>\n",
       "\n",
       "<style>\n",
       "  .colab-df-quickchart {\n",
       "      --bg-color: #E8F0FE;\n",
       "      --fill-color: #1967D2;\n",
       "      --hover-bg-color: #E2EBFA;\n",
       "      --hover-fill-color: #174EA6;\n",
       "      --disabled-fill-color: #AAA;\n",
       "      --disabled-bg-color: #DDD;\n",
       "  }\n",
       "\n",
       "  [theme=dark] .colab-df-quickchart {\n",
       "      --bg-color: #3B4455;\n",
       "      --fill-color: #D2E3FC;\n",
       "      --hover-bg-color: #434B5C;\n",
       "      --hover-fill-color: #FFFFFF;\n",
       "      --disabled-bg-color: #3B4455;\n",
       "      --disabled-fill-color: #666;\n",
       "  }\n",
       "\n",
       "  .colab-df-quickchart {\n",
       "    background-color: var(--bg-color);\n",
       "    border: none;\n",
       "    border-radius: 50%;\n",
       "    cursor: pointer;\n",
       "    display: none;\n",
       "    fill: var(--fill-color);\n",
       "    height: 32px;\n",
       "    padding: 0;\n",
       "    width: 32px;\n",
       "  }\n",
       "\n",
       "  .colab-df-quickchart:hover {\n",
       "    background-color: var(--hover-bg-color);\n",
       "    box-shadow: 0 1px 2px rgba(60, 64, 67, 0.3), 0 1px 3px 1px rgba(60, 64, 67, 0.15);\n",
       "    fill: var(--button-hover-fill-color);\n",
       "  }\n",
       "\n",
       "  .colab-df-quickchart-complete:disabled,\n",
       "  .colab-df-quickchart-complete:disabled:hover {\n",
       "    background-color: var(--disabled-bg-color);\n",
       "    fill: var(--disabled-fill-color);\n",
       "    box-shadow: none;\n",
       "  }\n",
       "\n",
       "  .colab-df-spinner {\n",
       "    border: 2px solid var(--fill-color);\n",
       "    border-color: transparent;\n",
       "    border-bottom-color: var(--fill-color);\n",
       "    animation:\n",
       "      spin 1s steps(1) infinite;\n",
       "  }\n",
       "\n",
       "  @keyframes spin {\n",
       "    0% {\n",
       "      border-color: transparent;\n",
       "      border-bottom-color: var(--fill-color);\n",
       "      border-left-color: var(--fill-color);\n",
       "    }\n",
       "    20% {\n",
       "      border-color: transparent;\n",
       "      border-left-color: var(--fill-color);\n",
       "      border-top-color: var(--fill-color);\n",
       "    }\n",
       "    30% {\n",
       "      border-color: transparent;\n",
       "      border-left-color: var(--fill-color);\n",
       "      border-top-color: var(--fill-color);\n",
       "      border-right-color: var(--fill-color);\n",
       "    }\n",
       "    40% {\n",
       "      border-color: transparent;\n",
       "      border-right-color: var(--fill-color);\n",
       "      border-top-color: var(--fill-color);\n",
       "    }\n",
       "    60% {\n",
       "      border-color: transparent;\n",
       "      border-right-color: var(--fill-color);\n",
       "    }\n",
       "    80% {\n",
       "      border-color: transparent;\n",
       "      border-right-color: var(--fill-color);\n",
       "      border-bottom-color: var(--fill-color);\n",
       "    }\n",
       "    90% {\n",
       "      border-color: transparent;\n",
       "      border-bottom-color: var(--fill-color);\n",
       "    }\n",
       "  }\n",
       "</style>\n",
       "\n",
       "  <script>\n",
       "    async function quickchart(key) {\n",
       "      const quickchartButtonEl =\n",
       "        document.querySelector('#' + key + ' button');\n",
       "      quickchartButtonEl.disabled = true;  // To prevent multiple clicks.\n",
       "      quickchartButtonEl.classList.add('colab-df-spinner');\n",
       "      try {\n",
       "        const charts = await google.colab.kernel.invokeFunction(\n",
       "            'suggestCharts', [key], {});\n",
       "      } catch (error) {\n",
       "        console.error('Error during call to suggestCharts:', error);\n",
       "      }\n",
       "      quickchartButtonEl.classList.remove('colab-df-spinner');\n",
       "      quickchartButtonEl.classList.add('colab-df-quickchart-complete');\n",
       "    }\n",
       "    (() => {\n",
       "      let quickchartButtonEl =\n",
       "        document.querySelector('#df-e97c73e1-a0c9-48b5-b8b4-a9f4dd78d5b4 button');\n",
       "      quickchartButtonEl.style.display =\n",
       "        google.colab.kernel.accessAllowed ? 'block' : 'none';\n",
       "    })();\n",
       "  </script>\n",
       "</div>\n",
       "    </div>\n",
       "  </div>\n"
      ],
      "text/plain": [
       "       Header1 Header2        Header3\n",
       "0  Hello world                       \n",
       "1                                    \n",
       "2                       Goodbye world"
      ]
     },
     "execution_count": 61,
     "metadata": {},
     "output_type": "execute_result"
    }
   ],
   "source": [
    "# or in a different form, which may be more helpful, but would not be available natively\n",
    "print(worksheet.get_all_records())\n",
    "pd.DataFrame(worksheet.get_all_records())"
   ]
  },
  {
   "cell_type": "code",
   "execution_count": null,
   "metadata": {
    "colab": {
     "base_uri": "https://localhost:8080/"
    },
    "executionInfo": {
     "elapsed": 1000,
     "status": "ok",
     "timestamp": 1717522531485,
     "user": {
      "displayName": "David Henriques",
      "userId": "12666549553310163307"
     },
     "user_tz": -60
    },
    "id": "3oCDBlz0Wu6e",
    "outputId": "2d1dfd06-2b75-4b45-bcf2-6b7c209ace50"
   },
   "outputs": [
    {
     "data": {
      "text/plain": [
       "[<Cell R2C1 'Hello world'>, <Cell R4C3 'Goodbye world'>]"
      ]
     },
     "execution_count": 62,
     "metadata": {},
     "output_type": "execute_result"
    }
   ],
   "source": [
    "# A final example\n",
    "import re\n",
    "worksheet.findall(re.compile('world'))"
   ]
  },
  {
   "cell_type": "code",
   "execution_count": null,
   "metadata": {
    "colab": {
     "base_uri": "https://localhost:8080/"
    },
    "executionInfo": {
     "elapsed": 3451,
     "status": "ok",
     "timestamp": 1717522856814,
     "user": {
      "displayName": "David Henriques",
      "userId": "12666549553310163307"
     },
     "user_tz": -60
    },
    "id": "az2AfDRAvW0C",
    "outputId": "c0aa374b-e50f-40e0-f99a-a4ed5f3fbae1"
   },
   "outputs": [
    {
     "data": {
      "text/plain": [
       "{'spreadsheetId': '1or4qvyhhqaUkd3mj-R43OG98cK8XkV0lFYifdaCMAGs',\n",
       " 'updates': {'spreadsheetId': '1or4qvyhhqaUkd3mj-R43OG98cK8XkV0lFYifdaCMAGs',\n",
       "  'updatedRange': 'Sheet2!A2:E3',\n",
       "  'updatedRows': 2,\n",
       "  'updatedColumns': 5,\n",
       "  'updatedCells': 9}}"
      ]
     },
     "execution_count": 63,
     "metadata": {},
     "output_type": "execute_result"
    }
   ],
   "source": [
    "# As another example, the native API has functions to add a row at once, which would require a loop and multiple requests if we wanted to add a bunch of rows,\n",
    "# But since this a natural action to dowith the API\n",
    "\n",
    "# Define the index and number of rows to insert; Also: new way to refer to sheets\n",
    "worksheet = sheet.worksheet(\"Sheet2\")\n",
    "values = [['hello','is','it','me'],['I','live','in','multiple','rows']]\n",
    "\n",
    "# Perform batch insertion\n",
    "worksheet.insert_rows(values, row=2)"
   ]
  },
  {
   "cell_type": "code",
   "execution_count": null,
   "metadata": {
    "id": "xDeZESoLVXio"
   },
   "outputs": [],
   "source": []
  }
 ],
 "metadata": {
  "colab": {
   "provenance": []
  },
  "kernelspec": {
   "display_name": "base",
   "language": "python",
   "name": "python3"
  },
  "language_info": {
   "codemirror_mode": {
    "name": "ipython",
    "version": 3
   },
   "file_extension": ".py",
   "mimetype": "text/x-python",
   "name": "python",
   "nbconvert_exporter": "python",
   "pygments_lexer": "ipython3",
   "version": "3.12.4"
  }
 },
 "nbformat": 4,
 "nbformat_minor": 0
}
