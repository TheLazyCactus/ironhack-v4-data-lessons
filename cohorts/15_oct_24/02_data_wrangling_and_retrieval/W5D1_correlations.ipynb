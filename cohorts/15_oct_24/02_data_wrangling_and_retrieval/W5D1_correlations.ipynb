{
 "cells": [
  {
   "cell_type": "markdown",
   "metadata": {},
   "source": [
    "**Table of contents**<a id='toc0_'></a>    \n",
    "- [Relationships between variables](#toc1_)    \n",
    "- [Covariance](#toc2_)    \n",
    "  - [Measures of correlation](#toc2_1_)    \n",
    "    - [Pearson correlation](#toc2_1_1_)    \n",
    "    - [Spearman correlation](#toc2_1_2_)    \n",
    "    - [Kendall Tau correlation](#toc2_1_3_)    \n",
    "- [Correlation vs causation](#toc3_)    \n",
    "- [Extra: Correlation among different types of variables](#toc4_)    \n",
    "- [Extra: Covariance maths](#toc5_)    \n",
    "- [Extra: StatQuest Videos](#toc6_)    \n",
    "\n",
    "<!-- vscode-jupyter-toc-config\n",
    "\tnumbering=false\n",
    "\tanchor=true\n",
    "\tflat=false\n",
    "\tminLevel=1\n",
    "\tmaxLevel=6\n",
    "\t/vscode-jupyter-toc-config -->\n",
    "<!-- THIS CELL WILL BE REPLACED ON TOC UPDATE. DO NOT WRITE YOUR TEXT IN THIS CELL -->"
   ]
  },
  {
   "cell_type": "markdown",
   "metadata": {},
   "source": [
    "# <a id='toc1_'></a>[Relationships between variables](#toc0_)"
   ]
  },
  {
   "cell_type": "markdown",
   "metadata": {
    "id": "zLujt4x7W6oL"
   },
   "source": [
    "![image.png](https://imgs.search.brave.com/uatPOeWfRfnVWY2MwwPaLkKXledacH5nbNl_JyHVcB0/rs:fit:860:0:0/g:ce/aHR0cHM6Ly93d3cu/c2ltcGx5cHN5Y2hv/bG9neS5vcmcvd3At/Y29udGVudC91cGxv/YWRzL2NvcnJlbGF0/aW9uLmpwZw)"
   ]
  },
  {
   "cell_type": "code",
   "execution_count": 1,
   "metadata": {
    "executionInfo": {
     "elapsed": 2100,
     "status": "ok",
     "timestamp": 1694253243831,
     "user": {
      "displayName": "Susan Ndinoshinge",
      "userId": "16659780857992036365"
     },
     "user_tz": -120
    },
    "id": "nksewFznW6oN"
   },
   "outputs": [],
   "source": [
    "import numpy as np\n",
    "import pandas as pd\n",
    "# Show floats with 2 decimals\n",
    "pd.options.display.float_format = '{:,.2f}'.format\n",
    "\n",
    "import matplotlib.pyplot as plt\n",
    "import seaborn as sns\n",
    "import plotly.express as px"
   ]
  },
  {
   "cell_type": "code",
   "execution_count": 2,
   "metadata": {
    "colab": {
     "base_uri": "https://localhost:8080/",
     "height": 204
    },
    "executionInfo": {
     "elapsed": 295,
     "status": "ok",
     "timestamp": 1694253293710,
     "user": {
      "displayName": "Susan Ndinoshinge",
      "userId": "16659780857992036365"
     },
     "user_tz": -120
    },
    "id": "TWPSAUuUW6oO",
    "outputId": "fcc7ba7c-c044-482d-8354-c7b09783760e"
   },
   "outputs": [
    {
     "data": {
      "text/html": [
       "<div>\n",
       "<style scoped>\n",
       "    .dataframe tbody tr th:only-of-type {\n",
       "        vertical-align: middle;\n",
       "    }\n",
       "\n",
       "    .dataframe tbody tr th {\n",
       "        vertical-align: top;\n",
       "    }\n",
       "\n",
       "    .dataframe thead th {\n",
       "        text-align: right;\n",
       "    }\n",
       "</style>\n",
       "<table border=\"1\" class=\"dataframe\">\n",
       "  <thead>\n",
       "    <tr style=\"text-align: right;\">\n",
       "      <th></th>\n",
       "      <th>company</th>\n",
       "      <th>rank</th>\n",
       "      <th>rank_change</th>\n",
       "      <th>revenue</th>\n",
       "      <th>profit</th>\n",
       "      <th>num. of employees</th>\n",
       "      <th>sector</th>\n",
       "      <th>city</th>\n",
       "      <th>state</th>\n",
       "      <th>newcomer</th>\n",
       "      <th>ceo_founder</th>\n",
       "      <th>ceo_woman</th>\n",
       "      <th>profitable</th>\n",
       "      <th>prev_rank</th>\n",
       "      <th>CEO</th>\n",
       "      <th>Website</th>\n",
       "      <th>Ticker</th>\n",
       "      <th>Market Cap</th>\n",
       "    </tr>\n",
       "  </thead>\n",
       "  <tbody>\n",
       "    <tr>\n",
       "      <th>0</th>\n",
       "      <td>Walmart</td>\n",
       "      <td>1</td>\n",
       "      <td>0.00</td>\n",
       "      <td>523,964.00</td>\n",
       "      <td>14,881.00</td>\n",
       "      <td>2200000</td>\n",
       "      <td>Retailing</td>\n",
       "      <td>Bentonville</td>\n",
       "      <td>AR</td>\n",
       "      <td>no</td>\n",
       "      <td>no</td>\n",
       "      <td>no</td>\n",
       "      <td>yes</td>\n",
       "      <td>1.0</td>\n",
       "      <td>C. Douglas McMillon</td>\n",
       "      <td>https://www.stock.walmart.com</td>\n",
       "      <td>WMT</td>\n",
       "      <td>411690</td>\n",
       "    </tr>\n",
       "    <tr>\n",
       "      <th>1</th>\n",
       "      <td>Amazon</td>\n",
       "      <td>2</td>\n",
       "      <td>3.00</td>\n",
       "      <td>280,522.00</td>\n",
       "      <td>11,588.00</td>\n",
       "      <td>798000</td>\n",
       "      <td>Retailing</td>\n",
       "      <td>Seattle</td>\n",
       "      <td>WA</td>\n",
       "      <td>no</td>\n",
       "      <td>yes</td>\n",
       "      <td>no</td>\n",
       "      <td>yes</td>\n",
       "      <td>5.0</td>\n",
       "      <td>Jeffrey P. Bezos</td>\n",
       "      <td>https://www.amazon.com</td>\n",
       "      <td>AMZN</td>\n",
       "      <td>1637405</td>\n",
       "    </tr>\n",
       "    <tr>\n",
       "      <th>2</th>\n",
       "      <td>Exxon Mobil</td>\n",
       "      <td>3</td>\n",
       "      <td>-1.00</td>\n",
       "      <td>264,938.00</td>\n",
       "      <td>14,340.00</td>\n",
       "      <td>74900</td>\n",
       "      <td>Energy</td>\n",
       "      <td>Irving</td>\n",
       "      <td>TX</td>\n",
       "      <td>no</td>\n",
       "      <td>no</td>\n",
       "      <td>no</td>\n",
       "      <td>yes</td>\n",
       "      <td>2.0</td>\n",
       "      <td>Darren W. Woods</td>\n",
       "      <td>https://www.exxonmobil.com</td>\n",
       "      <td>XOM</td>\n",
       "      <td>177923</td>\n",
       "    </tr>\n",
       "    <tr>\n",
       "      <th>3</th>\n",
       "      <td>Apple</td>\n",
       "      <td>4</td>\n",
       "      <td>-1.00</td>\n",
       "      <td>260,174.00</td>\n",
       "      <td>55,256.00</td>\n",
       "      <td>137000</td>\n",
       "      <td>Technology</td>\n",
       "      <td>Cupertino</td>\n",
       "      <td>CA</td>\n",
       "      <td>no</td>\n",
       "      <td>no</td>\n",
       "      <td>no</td>\n",
       "      <td>yes</td>\n",
       "      <td>3.0</td>\n",
       "      <td>Timothy D. Cook</td>\n",
       "      <td>https://www.apple.com</td>\n",
       "      <td>AAPL</td>\n",
       "      <td>2221176</td>\n",
       "    </tr>\n",
       "    <tr>\n",
       "      <th>4</th>\n",
       "      <td>CVS Health</td>\n",
       "      <td>5</td>\n",
       "      <td>3.00</td>\n",
       "      <td>256,776.00</td>\n",
       "      <td>6,634.00</td>\n",
       "      <td>290000</td>\n",
       "      <td>Health Care</td>\n",
       "      <td>Woonsocket</td>\n",
       "      <td>RI</td>\n",
       "      <td>no</td>\n",
       "      <td>no</td>\n",
       "      <td>yes</td>\n",
       "      <td>yes</td>\n",
       "      <td>8.0</td>\n",
       "      <td>Karen S. Lynch</td>\n",
       "      <td>https://www.cvshealth.com</td>\n",
       "      <td>CVS</td>\n",
       "      <td>98496</td>\n",
       "    </tr>\n",
       "  </tbody>\n",
       "</table>\n",
       "</div>"
      ],
      "text/plain": [
       "       company  rank  rank_change    revenue    profit  num. of employees  \\\n",
       "0      Walmart     1         0.00 523,964.00 14,881.00            2200000   \n",
       "1       Amazon     2         3.00 280,522.00 11,588.00             798000   \n",
       "2  Exxon Mobil     3        -1.00 264,938.00 14,340.00              74900   \n",
       "3        Apple     4        -1.00 260,174.00 55,256.00             137000   \n",
       "4   CVS Health     5         3.00 256,776.00  6,634.00             290000   \n",
       "\n",
       "        sector         city state newcomer ceo_founder ceo_woman profitable  \\\n",
       "0    Retailing  Bentonville    AR       no          no        no        yes   \n",
       "1    Retailing      Seattle    WA       no         yes        no        yes   \n",
       "2       Energy       Irving    TX       no          no        no        yes   \n",
       "3   Technology    Cupertino    CA       no          no        no        yes   \n",
       "4  Health Care   Woonsocket    RI       no          no       yes        yes   \n",
       "\n",
       "  prev_rank                  CEO                        Website Ticker  \\\n",
       "0       1.0  C. Douglas McMillon  https://www.stock.walmart.com    WMT   \n",
       "1       5.0     Jeffrey P. Bezos         https://www.amazon.com   AMZN   \n",
       "2       2.0      Darren W. Woods     https://www.exxonmobil.com    XOM   \n",
       "3       3.0      Timothy D. Cook          https://www.apple.com   AAPL   \n",
       "4       8.0       Karen S. Lynch      https://www.cvshealth.com    CVS   \n",
       "\n",
       "  Market Cap  \n",
       "0     411690  \n",
       "1    1637405  \n",
       "2     177923  \n",
       "3    2221176  \n",
       "4      98496  "
      ]
     },
     "execution_count": 2,
     "metadata": {},
     "output_type": "execute_result"
    }
   ],
   "source": [
    "fortune = pd.read_csv(\"https://raw.githubusercontent.com/data-bootcamp-v4/data/main/Fortune_1000.csv\")\n",
    "fortune.head()"
   ]
  },
  {
   "cell_type": "markdown",
   "metadata": {},
   "source": [
    "# <a id='toc2_'></a>[Covariance](#toc0_)\n",
    "\n",
    "> Covariance measures how variables vary together. A positive covariance means that the variables vary together in the same direction, a negative covariance means they vary in the opposite direction and 0 covariance means that the variables don’t vary together or they are independent of each other."
   ]
  },
  {
   "cell_type": "markdown",
   "metadata": {},
   "source": [
    "![image.png](../../../img/cov_less_0.png) ![image](../../../img/cov_around_0.png) ![image](../../../img/cov_more_0.png)  \n",
    "\n",
    "Source: [Wikipedia](https://en.wikipedia.org/wiki/Covariance)"
   ]
  },
  {
   "cell_type": "code",
   "execution_count": 3,
   "metadata": {
    "colab": {
     "base_uri": "https://localhost:8080/"
    },
    "executionInfo": {
     "elapsed": 227,
     "status": "ok",
     "timestamp": 1694253349091,
     "user": {
      "displayName": "Susan Ndinoshinge",
      "userId": "16659780857992036365"
     },
     "user_tz": -120
    },
    "id": "MKzfTNNUW6oT",
    "outputId": "9677472f-1c5d-40b1-bfeb-8c4692002c87"
   },
   "outputs": [
    {
     "data": {
      "text/plain": [
       "array([[1.2084643e+09,           nan],\n",
       "       [          nan,           nan]])"
      ]
     },
     "execution_count": 3,
     "metadata": {},
     "output_type": "execute_result"
    }
   ],
   "source": [
    "# Initial covariance\n",
    "np.cov(fortune.revenue, fortune.profit)"
   ]
  },
  {
   "cell_type": "markdown",
   "metadata": {
    "id": "y0i_abX_W6oV"
   },
   "source": [
    "Why do you think there are NaNs in the covariance matrix?"
   ]
  },
  {
   "cell_type": "code",
   "execution_count": 4,
   "metadata": {
    "colab": {
     "base_uri": "https://localhost:8080/"
    },
    "executionInfo": {
     "elapsed": 232,
     "status": "ok",
     "timestamp": 1694253453409,
     "user": {
      "displayName": "Susan Ndinoshinge",
      "userId": "16659780857992036365"
     },
     "user_tz": -120
    },
    "id": "InJlGmvjW6oV",
    "outputId": "e4b60034-3170-4dfc-8824-486200eeaf96"
   },
   "outputs": [
    {
     "data": {
      "text/plain": [
       "array([[1.21058071e+09, 9.71236789e+07],\n",
       "       [9.71236789e+07, 2.03928053e+07]])"
      ]
     },
     "execution_count": 4,
     "metadata": {},
     "output_type": "execute_result"
    }
   ],
   "source": [
    "# Fix dataframe and get covariance\n",
    "fortune.dropna(subset ='profit', inplace=True)\n",
    "np.cov(fortune.revenue, fortune.profit)"
   ]
  },
  {
   "cell_type": "markdown",
   "metadata": {
    "id": "1sdyka9gW6oX"
   },
   "source": [
    "We can extract the covariance by getting the second element in the 1st row:"
   ]
  },
  {
   "cell_type": "code",
   "execution_count": 5,
   "metadata": {
    "colab": {
     "base_uri": "https://localhost:8080/"
    },
    "executionInfo": {
     "elapsed": 233,
     "status": "ok",
     "timestamp": 1694253514419,
     "user": {
      "displayName": "Susan Ndinoshinge",
      "userId": "16659780857992036365"
     },
     "user_tz": -120
    },
    "id": "g390NbMuW6oX",
    "outputId": "3710c33f-d2b3-435c-c19b-149487891195"
   },
   "outputs": [
    {
     "data": {
      "text/plain": [
       "97123678.85155453"
      ]
     },
     "execution_count": 5,
     "metadata": {},
     "output_type": "execute_result"
    }
   ],
   "source": [
    "# Extract covariance\n",
    "cov_matrix = np.cov(fortune.revenue, fortune.profit)\n",
    "cov_matrix[0,1]"
   ]
  },
  {
   "cell_type": "markdown",
   "metadata": {
    "id": "qOtT8EQ3W6oX"
   },
   "source": [
    "What does a positive covariance mean?"
   ]
  },
  {
   "cell_type": "markdown",
   "metadata": {
    "id": "96zV-v_lW6oY"
   },
   "source": [
    "⚠️ **Covariance doesn't measure how strongly the variables vary together!** ⚠️ That's why we use correlation.\n",
    "\n",
    "Example: With covariance, we can say that when revenue increases, profit also increases but not by how much."
   ]
  },
  {
   "cell_type": "markdown",
   "metadata": {},
   "source": [
    "## <a id='toc2_1_'></a>[Measures of correlation](#toc0_)\n",
    "\n",
    "> Measures the relationship and the dependency between two variables. “Covariance” indicates the direction of the linear relationship > between variables. “Correlation” measures the direction and strength of the linear relationship between two variables. They can be > calculated by:\n",
    "\n",
    "* Pearson: Measures the strength of **linear** correlation between 2 numerical continuous variables\n",
    "* Spearman: Measures the strength of **non-linear** correlation between 2 numerical variables (discrete and/or continuous)\n",
    "> * Kendall: similar to Spearman, but sample sizes are small and is less sensitive to outliers.\n",
    "\n",
    "This [Stackexchange answer](https://datascience.stackexchange.com/a/64261) explains quite well the differences and assumptions of each correlation."
   ]
  },
  {
   "cell_type": "code",
   "execution_count": 6,
   "metadata": {
    "colab": {
     "base_uri": "https://localhost:8080/",
     "height": 449
    },
    "executionInfo": {
     "elapsed": 694,
     "status": "ok",
     "timestamp": 1694253731995,
     "user": {
      "displayName": "Susan Ndinoshinge",
      "userId": "16659780857992036365"
     },
     "user_tz": -120
    },
    "id": "HQt1K7rQW6oZ",
    "outputId": "d74cc9d2-12a0-419d-b837-c36c47ce6906"
   },
   "outputs": [
    {
     "data": {
      "image/png": "[encoded data removed]",
      "text/plain": [
       "<Figure size 640x480 with 1 Axes>"
      ]
     },
     "metadata": {},
     "output_type": "display_data"
    }
   ],
   "source": [
    "# Let's explore the relationship between profit and revenue like we did last time\n",
    "plt.scatter(fortune.revenue, fortune.profit)\n",
    "plt.xlabel('revenue')\n",
    "plt.ylabel('profit')\n",
    "plt.show()"
   ]
  },
  {
   "cell_type": "code",
   "execution_count": 36,
   "metadata": {},
   "outputs": [
    {
     "data": {
      "text/html": [
       "<div>\n",
       "<style scoped>\n",
       "    .dataframe tbody tr th:only-of-type {\n",
       "        vertical-align: middle;\n",
       "    }\n",
       "\n",
       "    .dataframe tbody tr th {\n",
       "        vertical-align: top;\n",
       "    }\n",
       "\n",
       "    .dataframe thead th {\n",
       "        text-align: right;\n",
       "    }\n",
       "</style>\n",
       "<table border=\"1\" class=\"dataframe\">\n",
       "  <thead>\n",
       "    <tr style=\"text-align: right;\">\n",
       "      <th></th>\n",
       "      <th>company</th>\n",
       "      <th>rank</th>\n",
       "      <th>rank_change</th>\n",
       "      <th>revenue</th>\n",
       "      <th>profit</th>\n",
       "      <th>num. of employees</th>\n",
       "      <th>sector</th>\n",
       "      <th>city</th>\n",
       "      <th>state</th>\n",
       "      <th>newcomer</th>\n",
       "      <th>ceo_founder</th>\n",
       "      <th>ceo_woman</th>\n",
       "      <th>profitable</th>\n",
       "      <th>prev_rank</th>\n",
       "      <th>CEO</th>\n",
       "      <th>Website</th>\n",
       "      <th>Ticker</th>\n",
       "      <th>Market Cap</th>\n",
       "    </tr>\n",
       "  </thead>\n",
       "  <tbody>\n",
       "    <tr>\n",
       "      <th>0</th>\n",
       "      <td>Walmart</td>\n",
       "      <td>1</td>\n",
       "      <td>0.00</td>\n",
       "      <td>523,964.00</td>\n",
       "      <td>14,881.00</td>\n",
       "      <td>2200000</td>\n",
       "      <td>Retailing</td>\n",
       "      <td>Bentonville</td>\n",
       "      <td>AR</td>\n",
       "      <td>no</td>\n",
       "      <td>no</td>\n",
       "      <td>no</td>\n",
       "      <td>yes</td>\n",
       "      <td>1.0</td>\n",
       "      <td>C. Douglas McMillon</td>\n",
       "      <td>https://www.stock.walmart.com</td>\n",
       "      <td>WMT</td>\n",
       "      <td>411,690.00</td>\n",
       "    </tr>\n",
       "  </tbody>\n",
       "</table>\n",
       "</div>"
      ],
      "text/plain": [
       "   company  rank  rank_change    revenue    profit  num. of employees  \\\n",
       "0  Walmart     1         0.00 523,964.00 14,881.00            2200000   \n",
       "\n",
       "      sector         city state newcomer ceo_founder ceo_woman profitable  \\\n",
       "0  Retailing  Bentonville    AR       no          no        no        yes   \n",
       "\n",
       "  prev_rank                  CEO                        Website Ticker  \\\n",
       "0       1.0  C. Douglas McMillon  https://www.stock.walmart.com    WMT   \n",
       "\n",
       "   Market Cap  \n",
       "0  411,690.00  "
      ]
     },
     "execution_count": 36,
     "metadata": {},
     "output_type": "execute_result"
    }
   ],
   "source": [
    "fortune[fortune.revenue > 500_000]"
   ]
  },
  {
   "cell_type": "markdown",
   "metadata": {},
   "source": [
    "### <a id='toc2_1_1_'></a>[Pearson correlation](#toc0_)\n",
    "\n",
    "- Measures the strength of **linear** correlation between 2 numerical continuous variables\n",
    "\n",
    "![pearson](https://imgs.search.brave.com/4_7sQIEbqLJM53We4YKYA13ibgVmnBKksdKFpRQvaLU/rs:fit:860:0:0/g:ce/aHR0cHM6Ly93d3cu/cXVlc3Rpb25wcm8u/Y29tL2Jsb2cvd3At/Y29udGVudC91cGxv/YWRzLzIwMjAvMDQv/UGVhcnNvbi1jb3Jy/ZWxhdGlvbi1jb2Vm/ZmljaWVudC0xLmpw/Zw)"
   ]
  },
  {
   "cell_type": "code",
   "execution_count": 7,
   "metadata": {
    "colab": {
     "base_uri": "https://localhost:8080/",
     "height": 204
    },
    "executionInfo": {
     "elapsed": 363,
     "status": "ok",
     "timestamp": 1694254001482,
     "user": {
      "displayName": "Susan Ndinoshinge",
      "userId": "16659780857992036365"
     },
     "user_tz": -120
    },
    "id": "al3IaReoW6ob",
    "outputId": "b084fe69-ce71-4070-ed4c-fc3a31c3c327"
   },
   "outputs": [
    {
     "data": {
      "text/html": [
       "<div>\n",
       "<style scoped>\n",
       "    .dataframe tbody tr th:only-of-type {\n",
       "        vertical-align: middle;\n",
       "    }\n",
       "\n",
       "    .dataframe tbody tr th {\n",
       "        vertical-align: top;\n",
       "    }\n",
       "\n",
       "    .dataframe thead th {\n",
       "        text-align: right;\n",
       "    }\n",
       "</style>\n",
       "<table border=\"1\" class=\"dataframe\">\n",
       "  <thead>\n",
       "    <tr style=\"text-align: right;\">\n",
       "      <th></th>\n",
       "      <th>rank</th>\n",
       "      <th>rank_change</th>\n",
       "      <th>revenue</th>\n",
       "      <th>profit</th>\n",
       "      <th>num. of employees</th>\n",
       "    </tr>\n",
       "  </thead>\n",
       "  <tbody>\n",
       "    <tr>\n",
       "      <th>rank</th>\n",
       "      <td>1.00</td>\n",
       "      <td>-0.05</td>\n",
       "      <td>-0.52</td>\n",
       "      <td>-0.36</td>\n",
       "      <td>-0.36</td>\n",
       "    </tr>\n",
       "    <tr>\n",
       "      <th>rank_change</th>\n",
       "      <td>-0.05</td>\n",
       "      <td>1.00</td>\n",
       "      <td>0.02</td>\n",
       "      <td>0.04</td>\n",
       "      <td>0.01</td>\n",
       "    </tr>\n",
       "    <tr>\n",
       "      <th>revenue</th>\n",
       "      <td>-0.52</td>\n",
       "      <td>0.02</td>\n",
       "      <td>1.00</td>\n",
       "      <td>0.62</td>\n",
       "      <td>0.73</td>\n",
       "    </tr>\n",
       "    <tr>\n",
       "      <th>profit</th>\n",
       "      <td>-0.36</td>\n",
       "      <td>0.04</td>\n",
       "      <td>0.62</td>\n",
       "      <td>1.00</td>\n",
       "      <td>0.36</td>\n",
       "    </tr>\n",
       "    <tr>\n",
       "      <th>num. of employees</th>\n",
       "      <td>-0.36</td>\n",
       "      <td>0.01</td>\n",
       "      <td>0.73</td>\n",
       "      <td>0.36</td>\n",
       "      <td>1.00</td>\n",
       "    </tr>\n",
       "  </tbody>\n",
       "</table>\n",
       "</div>"
      ],
      "text/plain": [
       "                   rank  rank_change  revenue  profit  num. of employees\n",
       "rank               1.00        -0.05    -0.52   -0.36              -0.36\n",
       "rank_change       -0.05         1.00     0.02    0.04               0.01\n",
       "revenue           -0.52         0.02     1.00    0.62               0.73\n",
       "profit            -0.36         0.04     0.62    1.00               0.36\n",
       "num. of employees -0.36         0.01     0.73    0.36               1.00"
      ]
     },
     "execution_count": 7,
     "metadata": {},
     "output_type": "execute_result"
    }
   ],
   "source": [
    "# Check correlation matrix - default is pearson correlation\n",
    "fortune.corr(numeric_only=True)"
   ]
  },
  {
   "cell_type": "code",
   "execution_count": 9,
   "metadata": {
    "colab": {
     "base_uri": "https://localhost:8080/",
     "height": 238
    },
    "executionInfo": {
     "elapsed": 218,
     "status": "ok",
     "timestamp": 1694254048398,
     "user": {
      "displayName": "Susan Ndinoshinge",
      "userId": "16659780857992036365"
     },
     "user_tz": -120
    },
    "id": "rmd0OdBGW6oc",
    "outputId": "57dd2346-a55a-4422-a76e-90283ea469b4"
   },
   "outputs": [
    {
     "data": {
      "text/html": [
       "<style type=\"text/css\">\n",
       "#T_3bded_row0_col0, #T_3bded_row1_col1, #T_3bded_row2_col2, #T_3bded_row3_col3, #T_3bded_row4_col4 {\n",
       "  background-color: #006837;\n",
       "  color: #f1f1f1;\n",
       "}\n",
       "#T_3bded_row0_col1, #T_3bded_row0_col2, #T_3bded_row0_col3, #T_3bded_row0_col4, #T_3bded_row2_col0 {\n",
       "  background-color: #a50026;\n",
       "  color: #f1f1f1;\n",
       "}\n",
       "#T_3bded_row1_col0 {\n",
       "  background-color: #fdb365;\n",
       "  color: #000000;\n",
       "}\n",
       "#T_3bded_row1_col2 {\n",
       "  background-color: #fec877;\n",
       "  color: #000000;\n",
       "}\n",
       "#T_3bded_row1_col3 {\n",
       "  background-color: #fca85e;\n",
       "  color: #000000;\n",
       "}\n",
       "#T_3bded_row1_col4 {\n",
       "  background-color: #fa9b58;\n",
       "  color: #000000;\n",
       "}\n",
       "#T_3bded_row2_col1 {\n",
       "  background-color: #c41e27;\n",
       "  color: #f1f1f1;\n",
       "}\n",
       "#T_3bded_row2_col3 {\n",
       "  background-color: #9bd469;\n",
       "  color: #000000;\n",
       "}\n",
       "#T_3bded_row2_col4 {\n",
       "  background-color: #66bd63;\n",
       "  color: #f1f1f1;\n",
       "}\n",
       "#T_3bded_row3_col0, #T_3bded_row4_col0 {\n",
       "  background-color: #d93429;\n",
       "  color: #f1f1f1;\n",
       "}\n",
       "#T_3bded_row3_col1 {\n",
       "  background-color: #ce2827;\n",
       "  color: #f1f1f1;\n",
       "}\n",
       "#T_3bded_row3_col2 {\n",
       "  background-color: #87cb67;\n",
       "  color: #000000;\n",
       "}\n",
       "#T_3bded_row3_col4, #T_3bded_row4_col3 {\n",
       "  background-color: #f5fbb2;\n",
       "  color: #000000;\n",
       "}\n",
       "#T_3bded_row4_col1 {\n",
       "  background-color: #c21c27;\n",
       "  color: #f1f1f1;\n",
       "}\n",
       "#T_3bded_row4_col2 {\n",
       "  background-color: #54b45f;\n",
       "  color: #f1f1f1;\n",
       "}\n",
       "</style>\n",
       "<table id=\"T_3bded\">\n",
       "  <thead>\n",
       "    <tr>\n",
       "      <th class=\"blank level0\" >&nbsp;</th>\n",
       "      <th id=\"T_3bded_level0_col0\" class=\"col_heading level0 col0\" >rank</th>\n",
       "      <th id=\"T_3bded_level0_col1\" class=\"col_heading level0 col1\" >rank_change</th>\n",
       "      <th id=\"T_3bded_level0_col2\" class=\"col_heading level0 col2\" >revenue</th>\n",
       "      <th id=\"T_3bded_level0_col3\" class=\"col_heading level0 col3\" >profit</th>\n",
       "      <th id=\"T_3bded_level0_col4\" class=\"col_heading level0 col4\" >num. of employees</th>\n",
       "    </tr>\n",
       "  </thead>\n",
       "  <tbody>\n",
       "    <tr>\n",
       "      <th id=\"T_3bded_level0_row0\" class=\"row_heading level0 row0\" >rank</th>\n",
       "      <td id=\"T_3bded_row0_col0\" class=\"data row0 col0\" >1.00</td>\n",
       "      <td id=\"T_3bded_row0_col1\" class=\"data row0 col1\" >-0.05</td>\n",
       "      <td id=\"T_3bded_row0_col2\" class=\"data row0 col2\" >-0.52</td>\n",
       "      <td id=\"T_3bded_row0_col3\" class=\"data row0 col3\" >-0.36</td>\n",
       "      <td id=\"T_3bded_row0_col4\" class=\"data row0 col4\" >-0.36</td>\n",
       "    </tr>\n",
       "    <tr>\n",
       "      <th id=\"T_3bded_level0_row1\" class=\"row_heading level0 row1\" >rank_change</th>\n",
       "      <td id=\"T_3bded_row1_col0\" class=\"data row1 col0\" >-0.05</td>\n",
       "      <td id=\"T_3bded_row1_col1\" class=\"data row1 col1\" >1.00</td>\n",
       "      <td id=\"T_3bded_row1_col2\" class=\"data row1 col2\" >0.02</td>\n",
       "      <td id=\"T_3bded_row1_col3\" class=\"data row1 col3\" >0.04</td>\n",
       "      <td id=\"T_3bded_row1_col4\" class=\"data row1 col4\" >0.01</td>\n",
       "    </tr>\n",
       "    <tr>\n",
       "      <th id=\"T_3bded_level0_row2\" class=\"row_heading level0 row2\" >revenue</th>\n",
       "      <td id=\"T_3bded_row2_col0\" class=\"data row2 col0\" >-0.52</td>\n",
       "      <td id=\"T_3bded_row2_col1\" class=\"data row2 col1\" >0.02</td>\n",
       "      <td id=\"T_3bded_row2_col2\" class=\"data row2 col2\" >1.00</td>\n",
       "      <td id=\"T_3bded_row2_col3\" class=\"data row2 col3\" >0.62</td>\n",
       "      <td id=\"T_3bded_row2_col4\" class=\"data row2 col4\" >0.73</td>\n",
       "    </tr>\n",
       "    <tr>\n",
       "      <th id=\"T_3bded_level0_row3\" class=\"row_heading level0 row3\" >profit</th>\n",
       "      <td id=\"T_3bded_row3_col0\" class=\"data row3 col0\" >-0.36</td>\n",
       "      <td id=\"T_3bded_row3_col1\" class=\"data row3 col1\" >0.04</td>\n",
       "      <td id=\"T_3bded_row3_col2\" class=\"data row3 col2\" >0.62</td>\n",
       "      <td id=\"T_3bded_row3_col3\" class=\"data row3 col3\" >1.00</td>\n",
       "      <td id=\"T_3bded_row3_col4\" class=\"data row3 col4\" >0.36</td>\n",
       "    </tr>\n",
       "    <tr>\n",
       "      <th id=\"T_3bded_level0_row4\" class=\"row_heading level0 row4\" >num. of employees</th>\n",
       "      <td id=\"T_3bded_row4_col0\" class=\"data row4 col0\" >-0.36</td>\n",
       "      <td id=\"T_3bded_row4_col1\" class=\"data row4 col1\" >0.01</td>\n",
       "      <td id=\"T_3bded_row4_col2\" class=\"data row4 col2\" >0.73</td>\n",
       "      <td id=\"T_3bded_row4_col3\" class=\"data row4 col3\" >0.36</td>\n",
       "      <td id=\"T_3bded_row4_col4\" class=\"data row4 col4\" >1.00</td>\n",
       "    </tr>\n",
       "  </tbody>\n",
       "</table>\n"
      ],
      "text/plain": [
       "<pandas.io.formats.style.Styler at 0x22f3aa5c380>"
      ]
     },
     "execution_count": 9,
     "metadata": {},
     "output_type": "execute_result"
    }
   ],
   "source": [
    "# Add styling\n",
    "fortune_corr = fortune.corr(numeric_only=True)\n",
    "fortune_corr.style.background_gradient(cmap='RdYlGn').format('{:,.2f}')"
   ]
  },
  {
   "cell_type": "code",
   "execution_count": null,
   "metadata": {},
   "outputs": [],
   "source": [
    "fortune = fortune[fortune['Market Cap'] != '-']\n"
   ]
  },
  {
   "cell_type": "code",
   "execution_count": 13,
   "metadata": {},
   "outputs": [
    {
     "name": "stderr",
     "output_type": "stream",
     "text": [
      "C:\\Users\\UTILISATEUR\\AppData\\Local\\Temp\\ipykernel_36424\\3767736722.py:1: SettingWithCopyWarning: \n",
      "A value is trying to be set on a copy of a slice from a DataFrame.\n",
      "Try using .loc[row_indexer,col_indexer] = value instead\n",
      "\n",
      "See the caveats in the documentation: https://pandas.pydata.org/pandas-docs/stable/user_guide/indexing.html#returning-a-view-versus-a-copy\n",
      "  fortune['Market Cap'] = pd.to_numeric(fortune['Market Cap'], errors='coerce')\n"
     ]
    }
   ],
   "source": [
    "fortune['Market Cap'] = pd.to_numeric(fortune['Market Cap'], errors='coerce')"
   ]
  },
  {
   "cell_type": "code",
   "execution_count": 14,
   "metadata": {
    "colab": {
     "base_uri": "https://localhost:8080/",
     "height": 572
    },
    "executionInfo": {
     "elapsed": 988,
     "status": "ok",
     "timestamp": 1694254077876,
     "user": {
      "displayName": "Susan Ndinoshinge",
      "userId": "16659780857992036365"
     },
     "user_tz": -120
    },
    "id": "4QYafAGnW6oc",
    "outputId": "6cb7feed-020c-40ae-cb1a-6605bacb5c6c"
   },
   "outputs": [
    {
     "data": {
      "text/plain": [
       "<Axes: >"
      ]
     },
     "execution_count": 14,
     "metadata": {},
     "output_type": "execute_result"
    },
    {
     "data": {
      "image/png": "[encoded data removed]",
      "text/plain": [
       "<Figure size 640x480 with 2 Axes>"
      ]
     },
     "metadata": {},
     "output_type": "display_data"
    }
   ],
   "source": [
    "# Create heatmap in seaborn\n",
    "sns.heatmap(fortune_corr, annot=True)"
   ]
  },
  {
   "cell_type": "markdown",
   "metadata": {
    "id": "LXt36bW9W6od"
   },
   "source": [
    "Let's remove the duplicated values in our plot:"
   ]
  },
  {
   "cell_type": "code",
   "execution_count": 15,
   "metadata": {
    "colab": {
     "base_uri": "https://localhost:8080/",
     "height": 566
    },
    "executionInfo": {
     "elapsed": 736,
     "status": "ok",
     "timestamp": 1694254273121,
     "user": {
      "displayName": "Susan Ndinoshinge",
      "userId": "16659780857992036365"
     },
     "user_tz": -120
    },
    "id": "JJgKH6LHW6od",
    "outputId": "0445d072-05f1-4be8-ffdc-f9b1ec07e15e"
   },
   "outputs": [
    {
     "data": {
      "text/plain": [
       "<Axes: >"
      ]
     },
     "execution_count": 15,
     "metadata": {},
     "output_type": "execute_result"
    },
    {
     "data": {
      "image/png": "[encoded data removed]",
      "text/plain": [
       "<Figure size 640x480 with 2 Axes>"
      ]
     },
     "metadata": {},
     "output_type": "display_data"
    }
   ],
   "source": [
    "# Create mask for upper triangle\n",
    "mask = np.zeros_like(fortune_corr)\n",
    "mask[np.triu_indices_from(mask)] = True\n",
    "\n",
    "# Plot heatmap\n",
    "sns.heatmap(fortune_corr, mask =mask, annot=True, cmap = 'RdYlGn')"
   ]
  },
  {
   "cell_type": "markdown",
   "metadata": {},
   "source": [
    "### <a id='toc2_1_2_'></a>[Spearman correlation](#toc0_)\n",
    "\n",
    "- Measures the strength of **non-linear** correlation between 2 numerical variables (discrete and/or continuous)\n",
    "\n",
    "![spearman](https://imgs.search.brave.com/V76zc-JGOOuPAUO-S0KYm46FuQPrFY3cH4lX2kavgQw/rs:fit:860:0:0/g:ce/aHR0cHM6Ly93d3cu/c2ltcGxpbGVhcm4u/Y29tL2ljZTkvZnJl/ZV9yZXNvdXJjZXNf/YXJ0aWNsZV90aHVt/Yi9TcGVhcm1hbiVF/MiU4MCU5OXNfUmFu/a19Db3JyZWxhdGlv/bl8xLmpwZw)"
   ]
  },
  {
   "cell_type": "code",
   "execution_count": 17,
   "metadata": {
    "colab": {
     "base_uri": "https://localhost:8080/",
     "height": 238
    },
    "executionInfo": {
     "elapsed": 292,
     "status": "ok",
     "timestamp": 1694254322999,
     "user": {
      "displayName": "Susan Ndinoshinge",
      "userId": "16659780857992036365"
     },
     "user_tz": -120
    },
    "id": "BsS0rguPW6oe",
    "outputId": "38f3a537-4f48-4ee4-e989-aa3880baa826"
   },
   "outputs": [
    {
     "data": {
      "text/html": [
       "<div>\n",
       "<style scoped>\n",
       "    .dataframe tbody tr th:only-of-type {\n",
       "        vertical-align: middle;\n",
       "    }\n",
       "\n",
       "    .dataframe tbody tr th {\n",
       "        vertical-align: top;\n",
       "    }\n",
       "\n",
       "    .dataframe thead th {\n",
       "        text-align: right;\n",
       "    }\n",
       "</style>\n",
       "<table border=\"1\" class=\"dataframe\">\n",
       "  <thead>\n",
       "    <tr style=\"text-align: right;\">\n",
       "      <th></th>\n",
       "      <th>rank</th>\n",
       "      <th>rank_change</th>\n",
       "      <th>revenue</th>\n",
       "      <th>profit</th>\n",
       "      <th>num. of employees</th>\n",
       "      <th>Market Cap</th>\n",
       "    </tr>\n",
       "  </thead>\n",
       "  <tbody>\n",
       "    <tr>\n",
       "      <th>rank</th>\n",
       "      <td>1.00</td>\n",
       "      <td>-0.02</td>\n",
       "      <td>-1.00</td>\n",
       "      <td>-0.54</td>\n",
       "      <td>-0.64</td>\n",
       "      <td>-0.57</td>\n",
       "    </tr>\n",
       "    <tr>\n",
       "      <th>rank_change</th>\n",
       "      <td>-0.02</td>\n",
       "      <td>1.00</td>\n",
       "      <td>0.02</td>\n",
       "      <td>0.15</td>\n",
       "      <td>0.05</td>\n",
       "      <td>0.12</td>\n",
       "    </tr>\n",
       "    <tr>\n",
       "      <th>revenue</th>\n",
       "      <td>-1.00</td>\n",
       "      <td>0.02</td>\n",
       "      <td>1.00</td>\n",
       "      <td>0.54</td>\n",
       "      <td>0.64</td>\n",
       "      <td>0.57</td>\n",
       "    </tr>\n",
       "    <tr>\n",
       "      <th>profit</th>\n",
       "      <td>-0.54</td>\n",
       "      <td>0.15</td>\n",
       "      <td>0.54</td>\n",
       "      <td>1.00</td>\n",
       "      <td>0.34</td>\n",
       "      <td>0.76</td>\n",
       "    </tr>\n",
       "    <tr>\n",
       "      <th>num. of employees</th>\n",
       "      <td>-0.64</td>\n",
       "      <td>0.05</td>\n",
       "      <td>0.64</td>\n",
       "      <td>0.34</td>\n",
       "      <td>1.00</td>\n",
       "      <td>0.41</td>\n",
       "    </tr>\n",
       "    <tr>\n",
       "      <th>Market Cap</th>\n",
       "      <td>-0.57</td>\n",
       "      <td>0.12</td>\n",
       "      <td>0.57</td>\n",
       "      <td>0.76</td>\n",
       "      <td>0.41</td>\n",
       "      <td>1.00</td>\n",
       "    </tr>\n",
       "  </tbody>\n",
       "</table>\n",
       "</div>"
      ],
      "text/plain": [
       "                   rank  rank_change  revenue  profit  num. of employees  \\\n",
       "rank               1.00        -0.02    -1.00   -0.54              -0.64   \n",
       "rank_change       -0.02         1.00     0.02    0.15               0.05   \n",
       "revenue           -1.00         0.02     1.00    0.54               0.64   \n",
       "profit            -0.54         0.15     0.54    1.00               0.34   \n",
       "num. of employees -0.64         0.05     0.64    0.34               1.00   \n",
       "Market Cap        -0.57         0.12     0.57    0.76               0.41   \n",
       "\n",
       "                   Market Cap  \n",
       "rank                    -0.57  \n",
       "rank_change              0.12  \n",
       "revenue                  0.57  \n",
       "profit                   0.76  \n",
       "num. of employees        0.41  \n",
       "Market Cap               1.00  "
      ]
     },
     "execution_count": 17,
     "metadata": {},
     "output_type": "execute_result"
    }
   ],
   "source": [
    "# Check correlation matrix\n",
    "round(fortune.corr(numeric_only=True, method='spearman'), 2)"
   ]
  },
  {
   "cell_type": "code",
   "execution_count": 19,
   "metadata": {
    "colab": {
     "base_uri": "https://localhost:8080/",
     "height": 238
    },
    "executionInfo": {
     "elapsed": 231,
     "status": "ok",
     "timestamp": 1694254418672,
     "user": {
      "displayName": "Susan Ndinoshinge",
      "userId": "16659780857992036365"
     },
     "user_tz": -120
    },
    "id": "pAmyqFtPW6oe",
    "outputId": "955d3213-1b16-4bf6-f4c9-73a9f0cc6e64"
   },
   "outputs": [
    {
     "data": {
      "text/html": [
       "<style type=\"text/css\">\n",
       "#T_cdc11_row0_col0, #T_cdc11_row1_col1, #T_cdc11_row2_col2, #T_cdc11_row3_col3, #T_cdc11_row4_col4, #T_cdc11_row5_col5 {\n",
       "  background-color: #006837;\n",
       "  color: #f1f1f1;\n",
       "}\n",
       "#T_cdc11_row0_col1, #T_cdc11_row0_col2, #T_cdc11_row0_col3, #T_cdc11_row0_col4, #T_cdc11_row0_col5, #T_cdc11_row2_col0 {\n",
       "  background-color: #a50026;\n",
       "  color: #f1f1f1;\n",
       "}\n",
       "#T_cdc11_row1_col0 {\n",
       "  background-color: #fffcba;\n",
       "  color: #000000;\n",
       "}\n",
       "#T_cdc11_row1_col2 {\n",
       "  background-color: #fbfdba;\n",
       "  color: #000000;\n",
       "}\n",
       "#T_cdc11_row1_col3 {\n",
       "  background-color: #fff0a6;\n",
       "  color: #000000;\n",
       "}\n",
       "#T_cdc11_row1_col4 {\n",
       "  background-color: #fee797;\n",
       "  color: #000000;\n",
       "}\n",
       "#T_cdc11_row1_col5 {\n",
       "  background-color: #feec9f;\n",
       "  color: #000000;\n",
       "}\n",
       "#T_cdc11_row2_col1 {\n",
       "  background-color: #bb1526;\n",
       "  color: #f1f1f1;\n",
       "}\n",
       "#T_cdc11_row2_col3 {\n",
       "  background-color: #a2d76a;\n",
       "  color: #000000;\n",
       "}\n",
       "#T_cdc11_row2_col4 {\n",
       "  background-color: #73c264;\n",
       "  color: #000000;\n",
       "}\n",
       "#T_cdc11_row2_col5 {\n",
       "  background-color: #93d168;\n",
       "  color: #000000;\n",
       "}\n",
       "#T_cdc11_row3_col0 {\n",
       "  background-color: #f67f4b;\n",
       "  color: #f1f1f1;\n",
       "}\n",
       "#T_cdc11_row3_col1 {\n",
       "  background-color: #eb5a3a;\n",
       "  color: #f1f1f1;\n",
       "}\n",
       "#T_cdc11_row3_col2 {\n",
       "  background-color: #78c565;\n",
       "  color: #000000;\n",
       "}\n",
       "#T_cdc11_row3_col4 {\n",
       "  background-color: #daf08d;\n",
       "  color: #000000;\n",
       "}\n",
       "#T_cdc11_row3_col5, #T_cdc11_row5_col3 {\n",
       "  background-color: #42ac5a;\n",
       "  color: #f1f1f1;\n",
       "}\n",
       "#T_cdc11_row4_col0 {\n",
       "  background-color: #ee613e;\n",
       "  color: #f1f1f1;\n",
       "}\n",
       "#T_cdc11_row4_col1 {\n",
       "  background-color: #c82227;\n",
       "  color: #f1f1f1;\n",
       "}\n",
       "#T_cdc11_row4_col2 {\n",
       "  background-color: #57b65f;\n",
       "  color: #f1f1f1;\n",
       "}\n",
       "#T_cdc11_row4_col3 {\n",
       "  background-color: #e3f399;\n",
       "  color: #000000;\n",
       "}\n",
       "#T_cdc11_row4_col5 {\n",
       "  background-color: #cbe982;\n",
       "  color: #000000;\n",
       "}\n",
       "#T_cdc11_row5_col0 {\n",
       "  background-color: #f57547;\n",
       "  color: #f1f1f1;\n",
       "}\n",
       "#T_cdc11_row5_col1 {\n",
       "  background-color: #e14430;\n",
       "  color: #f1f1f1;\n",
       "}\n",
       "#T_cdc11_row5_col2 {\n",
       "  background-color: #6ec064;\n",
       "  color: #000000;\n",
       "}\n",
       "#T_cdc11_row5_col4 {\n",
       "  background-color: #c3e67d;\n",
       "  color: #000000;\n",
       "}\n",
       "</style>\n",
       "<table id=\"T_cdc11\">\n",
       "  <thead>\n",
       "    <tr>\n",
       "      <th class=\"blank level0\" >&nbsp;</th>\n",
       "      <th id=\"T_cdc11_level0_col0\" class=\"col_heading level0 col0\" >rank</th>\n",
       "      <th id=\"T_cdc11_level0_col1\" class=\"col_heading level0 col1\" >rank_change</th>\n",
       "      <th id=\"T_cdc11_level0_col2\" class=\"col_heading level0 col2\" >revenue</th>\n",
       "      <th id=\"T_cdc11_level0_col3\" class=\"col_heading level0 col3\" >profit</th>\n",
       "      <th id=\"T_cdc11_level0_col4\" class=\"col_heading level0 col4\" >num. of employees</th>\n",
       "      <th id=\"T_cdc11_level0_col5\" class=\"col_heading level0 col5\" >Market Cap</th>\n",
       "    </tr>\n",
       "  </thead>\n",
       "  <tbody>\n",
       "    <tr>\n",
       "      <th id=\"T_cdc11_level0_row0\" class=\"row_heading level0 row0\" >rank</th>\n",
       "      <td id=\"T_cdc11_row0_col0\" class=\"data row0 col0\" >1.00</td>\n",
       "      <td id=\"T_cdc11_row0_col1\" class=\"data row0 col1\" >-0.02</td>\n",
       "      <td id=\"T_cdc11_row0_col2\" class=\"data row0 col2\" >-1.00</td>\n",
       "      <td id=\"T_cdc11_row0_col3\" class=\"data row0 col3\" >-0.54</td>\n",
       "      <td id=\"T_cdc11_row0_col4\" class=\"data row0 col4\" >-0.64</td>\n",
       "      <td id=\"T_cdc11_row0_col5\" class=\"data row0 col5\" >-0.57</td>\n",
       "    </tr>\n",
       "    <tr>\n",
       "      <th id=\"T_cdc11_level0_row1\" class=\"row_heading level0 row1\" >rank_change</th>\n",
       "      <td id=\"T_cdc11_row1_col0\" class=\"data row1 col0\" >-0.02</td>\n",
       "      <td id=\"T_cdc11_row1_col1\" class=\"data row1 col1\" >1.00</td>\n",
       "      <td id=\"T_cdc11_row1_col2\" class=\"data row1 col2\" >0.02</td>\n",
       "      <td id=\"T_cdc11_row1_col3\" class=\"data row1 col3\" >0.15</td>\n",
       "      <td id=\"T_cdc11_row1_col4\" class=\"data row1 col4\" >0.05</td>\n",
       "      <td id=\"T_cdc11_row1_col5\" class=\"data row1 col5\" >0.12</td>\n",
       "    </tr>\n",
       "    <tr>\n",
       "      <th id=\"T_cdc11_level0_row2\" class=\"row_heading level0 row2\" >revenue</th>\n",
       "      <td id=\"T_cdc11_row2_col0\" class=\"data row2 col0\" >-1.00</td>\n",
       "      <td id=\"T_cdc11_row2_col1\" class=\"data row2 col1\" >0.02</td>\n",
       "      <td id=\"T_cdc11_row2_col2\" class=\"data row2 col2\" >1.00</td>\n",
       "      <td id=\"T_cdc11_row2_col3\" class=\"data row2 col3\" >0.54</td>\n",
       "      <td id=\"T_cdc11_row2_col4\" class=\"data row2 col4\" >0.64</td>\n",
       "      <td id=\"T_cdc11_row2_col5\" class=\"data row2 col5\" >0.57</td>\n",
       "    </tr>\n",
       "    <tr>\n",
       "      <th id=\"T_cdc11_level0_row3\" class=\"row_heading level0 row3\" >profit</th>\n",
       "      <td id=\"T_cdc11_row3_col0\" class=\"data row3 col0\" >-0.54</td>\n",
       "      <td id=\"T_cdc11_row3_col1\" class=\"data row3 col1\" >0.15</td>\n",
       "      <td id=\"T_cdc11_row3_col2\" class=\"data row3 col2\" >0.54</td>\n",
       "      <td id=\"T_cdc11_row3_col3\" class=\"data row3 col3\" >1.00</td>\n",
       "      <td id=\"T_cdc11_row3_col4\" class=\"data row3 col4\" >0.34</td>\n",
       "      <td id=\"T_cdc11_row3_col5\" class=\"data row3 col5\" >0.76</td>\n",
       "    </tr>\n",
       "    <tr>\n",
       "      <th id=\"T_cdc11_level0_row4\" class=\"row_heading level0 row4\" >num. of employees</th>\n",
       "      <td id=\"T_cdc11_row4_col0\" class=\"data row4 col0\" >-0.64</td>\n",
       "      <td id=\"T_cdc11_row4_col1\" class=\"data row4 col1\" >0.05</td>\n",
       "      <td id=\"T_cdc11_row4_col2\" class=\"data row4 col2\" >0.64</td>\n",
       "      <td id=\"T_cdc11_row4_col3\" class=\"data row4 col3\" >0.34</td>\n",
       "      <td id=\"T_cdc11_row4_col4\" class=\"data row4 col4\" >1.00</td>\n",
       "      <td id=\"T_cdc11_row4_col5\" class=\"data row4 col5\" >0.41</td>\n",
       "    </tr>\n",
       "    <tr>\n",
       "      <th id=\"T_cdc11_level0_row5\" class=\"row_heading level0 row5\" >Market Cap</th>\n",
       "      <td id=\"T_cdc11_row5_col0\" class=\"data row5 col0\" >-0.57</td>\n",
       "      <td id=\"T_cdc11_row5_col1\" class=\"data row5 col1\" >0.12</td>\n",
       "      <td id=\"T_cdc11_row5_col2\" class=\"data row5 col2\" >0.57</td>\n",
       "      <td id=\"T_cdc11_row5_col3\" class=\"data row5 col3\" >0.76</td>\n",
       "      <td id=\"T_cdc11_row5_col4\" class=\"data row5 col4\" >0.41</td>\n",
       "      <td id=\"T_cdc11_row5_col5\" class=\"data row5 col5\" >1.00</td>\n",
       "    </tr>\n",
       "  </tbody>\n",
       "</table>\n"
      ],
      "text/plain": [
       "<pandas.io.formats.style.Styler at 0x22f3ee0c110>"
      ]
     },
     "execution_count": 19,
     "metadata": {},
     "output_type": "execute_result"
    }
   ],
   "source": [
    "# Add styling\n",
    "fortune_corr = fortune.corr(numeric_only=True, method = 'spearman')\n",
    "fortune_corr.style.background_gradient(cmap='RdYlGn').format('{:,.2f}')"
   ]
  },
  {
   "cell_type": "code",
   "execution_count": 20,
   "metadata": {
    "colab": {
     "base_uri": "https://localhost:8080/",
     "height": 566
    },
    "executionInfo": {
     "elapsed": 602,
     "status": "ok",
     "timestamp": 1694254500976,
     "user": {
      "displayName": "Susan Ndinoshinge",
      "userId": "16659780857992036365"
     },
     "user_tz": -120
    },
    "id": "_8AJSraXW6oe",
    "outputId": "e92bd5a2-a823-4fb3-cb9c-1b48f5211e3b"
   },
   "outputs": [
    {
     "data": {
      "text/plain": [
       "<Axes: >"
      ]
     },
     "execution_count": 20,
     "metadata": {},
     "output_type": "execute_result"
    },
    {
     "data": {
      "image/png": "[encoded data removed]",
      "text/plain": [
       "<Figure size 640x480 with 2 Axes>"
      ]
     },
     "metadata": {},
     "output_type": "display_data"
    }
   ],
   "source": [
    "# Create heatmap in seaborn without upper triangle\n",
    "mask = np.zeros_like(fortune_corr)\n",
    "mask[np.triu_indices_from(mask)] = True\n",
    "\n",
    "sns.heatmap(fortune_corr, mask=mask, annot=True, cmap='RdYlGn')\n",
    "\n"
   ]
  },
  {
   "cell_type": "code",
   "execution_count": 22,
   "metadata": {},
   "outputs": [
    {
     "data": {
      "text/plain": [
       "<Axes: xlabel='revenue', ylabel='num. of employees'>"
      ]
     },
     "execution_count": 22,
     "metadata": {},
     "output_type": "execute_result"
    },
    {
     "data": {
      "image/png": "[encoded data removed]",
      "text/plain": [
       "<Figure size 640x480 with 1 Axes>"
      ]
     },
     "metadata": {},
     "output_type": "display_data"
    }
   ],
   "source": [
    "sns.scatterplot(x =fortune.revenue, y=fortune['num. of employees'])"
   ]
  },
  {
   "cell_type": "code",
   "execution_count": 24,
   "metadata": {},
   "outputs": [
    {
     "data": {
      "text/plain": [
       "<Axes: xlabel='Market Cap', ylabel='num. of employees'>"
      ]
     },
     "execution_count": 24,
     "metadata": {},
     "output_type": "execute_result"
    },
    {
     "data": {
      "image/png": "[encoded data removed]",
      "text/plain": [
       "<Figure size 640x480 with 1 Axes>"
      ]
     },
     "metadata": {},
     "output_type": "display_data"
    }
   ],
   "source": [
    "sns.scatterplot(x =fortune['Market Cap'], y=fortune['num. of employees'])"
   ]
  },
  {
   "cell_type": "markdown",
   "metadata": {},
   "source": [
    "### <a id='toc2_1_3_'></a>[Kendall Tau correlation](#toc0_)"
   ]
  },
  {
   "cell_type": "markdown",
   "metadata": {
    "id": "kY18ePG2W6of"
   },
   "source": [
    "> * Kendall: similar to Spearman, but sample sizes are small and is less sensitive to outliers."
   ]
  },
  {
   "cell_type": "code",
   "execution_count": 25,
   "metadata": {
    "colab": {
     "base_uri": "https://localhost:8080/",
     "height": 204
    },
    "executionInfo": {
     "elapsed": 266,
     "status": "ok",
     "timestamp": 1694255473540,
     "user": {
      "displayName": "Susan Ndinoshinge",
      "userId": "16659780857992036365"
     },
     "user_tz": -120
    },
    "id": "cnb4RhsXW6of",
    "outputId": "c3ebbb80-39db-4193-abaf-ac4fd706999b"
   },
   "outputs": [
    {
     "data": {
      "text/html": [
       "<style type=\"text/css\">\n",
       "#T_0f639_row0_col0, #T_0f639_row1_col1, #T_0f639_row2_col2, #T_0f639_row3_col3, #T_0f639_row4_col4, #T_0f639_row5_col5 {\n",
       "  background-color: #006837;\n",
       "  color: #f1f1f1;\n",
       "}\n",
       "#T_0f639_row0_col1, #T_0f639_row0_col2, #T_0f639_row0_col3, #T_0f639_row0_col4, #T_0f639_row0_col5, #T_0f639_row2_col0 {\n",
       "  background-color: #a50026;\n",
       "  color: #f1f1f1;\n",
       "}\n",
       "#T_0f639_row1_col0 {\n",
       "  background-color: #fffcba;\n",
       "  color: #000000;\n",
       "}\n",
       "#T_0f639_row1_col2 {\n",
       "  background-color: #fbfdba;\n",
       "  color: #000000;\n",
       "}\n",
       "#T_0f639_row1_col3 {\n",
       "  background-color: #fff0a6;\n",
       "  color: #000000;\n",
       "}\n",
       "#T_0f639_row1_col4 {\n",
       "  background-color: #fee797;\n",
       "  color: #000000;\n",
       "}\n",
       "#T_0f639_row1_col5 {\n",
       "  background-color: #feec9f;\n",
       "  color: #000000;\n",
       "}\n",
       "#T_0f639_row2_col1 {\n",
       "  background-color: #bb1526;\n",
       "  color: #f1f1f1;\n",
       "}\n",
       "#T_0f639_row2_col3 {\n",
       "  background-color: #a2d76a;\n",
       "  color: #000000;\n",
       "}\n",
       "#T_0f639_row2_col4 {\n",
       "  background-color: #73c264;\n",
       "  color: #000000;\n",
       "}\n",
       "#T_0f639_row2_col5 {\n",
       "  background-color: #93d168;\n",
       "  color: #000000;\n",
       "}\n",
       "#T_0f639_row3_col0 {\n",
       "  background-color: #f67f4b;\n",
       "  color: #f1f1f1;\n",
       "}\n",
       "#T_0f639_row3_col1 {\n",
       "  background-color: #eb5a3a;\n",
       "  color: #f1f1f1;\n",
       "}\n",
       "#T_0f639_row3_col2 {\n",
       "  background-color: #78c565;\n",
       "  color: #000000;\n",
       "}\n",
       "#T_0f639_row3_col4 {\n",
       "  background-color: #daf08d;\n",
       "  color: #000000;\n",
       "}\n",
       "#T_0f639_row3_col5, #T_0f639_row5_col3 {\n",
       "  background-color: #42ac5a;\n",
       "  color: #f1f1f1;\n",
       "}\n",
       "#T_0f639_row4_col0 {\n",
       "  background-color: #ee613e;\n",
       "  color: #f1f1f1;\n",
       "}\n",
       "#T_0f639_row4_col1 {\n",
       "  background-color: #c82227;\n",
       "  color: #f1f1f1;\n",
       "}\n",
       "#T_0f639_row4_col2 {\n",
       "  background-color: #57b65f;\n",
       "  color: #f1f1f1;\n",
       "}\n",
       "#T_0f639_row4_col3 {\n",
       "  background-color: #e3f399;\n",
       "  color: #000000;\n",
       "}\n",
       "#T_0f639_row4_col5 {\n",
       "  background-color: #cbe982;\n",
       "  color: #000000;\n",
       "}\n",
       "#T_0f639_row5_col0 {\n",
       "  background-color: #f57547;\n",
       "  color: #f1f1f1;\n",
       "}\n",
       "#T_0f639_row5_col1 {\n",
       "  background-color: #e14430;\n",
       "  color: #f1f1f1;\n",
       "}\n",
       "#T_0f639_row5_col2 {\n",
       "  background-color: #6ec064;\n",
       "  color: #000000;\n",
       "}\n",
       "#T_0f639_row5_col4 {\n",
       "  background-color: #c3e67d;\n",
       "  color: #000000;\n",
       "}\n",
       "</style>\n",
       "<table id=\"T_0f639\">\n",
       "  <thead>\n",
       "    <tr>\n",
       "      <th class=\"blank level0\" >&nbsp;</th>\n",
       "      <th id=\"T_0f639_level0_col0\" class=\"col_heading level0 col0\" >rank</th>\n",
       "      <th id=\"T_0f639_level0_col1\" class=\"col_heading level0 col1\" >rank_change</th>\n",
       "      <th id=\"T_0f639_level0_col2\" class=\"col_heading level0 col2\" >revenue</th>\n",
       "      <th id=\"T_0f639_level0_col3\" class=\"col_heading level0 col3\" >profit</th>\n",
       "      <th id=\"T_0f639_level0_col4\" class=\"col_heading level0 col4\" >num. of employees</th>\n",
       "      <th id=\"T_0f639_level0_col5\" class=\"col_heading level0 col5\" >Market Cap</th>\n",
       "    </tr>\n",
       "  </thead>\n",
       "  <tbody>\n",
       "    <tr>\n",
       "      <th id=\"T_0f639_level0_row0\" class=\"row_heading level0 row0\" >rank</th>\n",
       "      <td id=\"T_0f639_row0_col0\" class=\"data row0 col0\" >1.00</td>\n",
       "      <td id=\"T_0f639_row0_col1\" class=\"data row0 col1\" >-0.02</td>\n",
       "      <td id=\"T_0f639_row0_col2\" class=\"data row0 col2\" >-1.00</td>\n",
       "      <td id=\"T_0f639_row0_col3\" class=\"data row0 col3\" >-0.54</td>\n",
       "      <td id=\"T_0f639_row0_col4\" class=\"data row0 col4\" >-0.64</td>\n",
       "      <td id=\"T_0f639_row0_col5\" class=\"data row0 col5\" >-0.57</td>\n",
       "    </tr>\n",
       "    <tr>\n",
       "      <th id=\"T_0f639_level0_row1\" class=\"row_heading level0 row1\" >rank_change</th>\n",
       "      <td id=\"T_0f639_row1_col0\" class=\"data row1 col0\" >-0.02</td>\n",
       "      <td id=\"T_0f639_row1_col1\" class=\"data row1 col1\" >1.00</td>\n",
       "      <td id=\"T_0f639_row1_col2\" class=\"data row1 col2\" >0.02</td>\n",
       "      <td id=\"T_0f639_row1_col3\" class=\"data row1 col3\" >0.15</td>\n",
       "      <td id=\"T_0f639_row1_col4\" class=\"data row1 col4\" >0.05</td>\n",
       "      <td id=\"T_0f639_row1_col5\" class=\"data row1 col5\" >0.12</td>\n",
       "    </tr>\n",
       "    <tr>\n",
       "      <th id=\"T_0f639_level0_row2\" class=\"row_heading level0 row2\" >revenue</th>\n",
       "      <td id=\"T_0f639_row2_col0\" class=\"data row2 col0\" >-1.00</td>\n",
       "      <td id=\"T_0f639_row2_col1\" class=\"data row2 col1\" >0.02</td>\n",
       "      <td id=\"T_0f639_row2_col2\" class=\"data row2 col2\" >1.00</td>\n",
       "      <td id=\"T_0f639_row2_col3\" class=\"data row2 col3\" >0.54</td>\n",
       "      <td id=\"T_0f639_row2_col4\" class=\"data row2 col4\" >0.64</td>\n",
       "      <td id=\"T_0f639_row2_col5\" class=\"data row2 col5\" >0.57</td>\n",
       "    </tr>\n",
       "    <tr>\n",
       "      <th id=\"T_0f639_level0_row3\" class=\"row_heading level0 row3\" >profit</th>\n",
       "      <td id=\"T_0f639_row3_col0\" class=\"data row3 col0\" >-0.54</td>\n",
       "      <td id=\"T_0f639_row3_col1\" class=\"data row3 col1\" >0.15</td>\n",
       "      <td id=\"T_0f639_row3_col2\" class=\"data row3 col2\" >0.54</td>\n",
       "      <td id=\"T_0f639_row3_col3\" class=\"data row3 col3\" >1.00</td>\n",
       "      <td id=\"T_0f639_row3_col4\" class=\"data row3 col4\" >0.34</td>\n",
       "      <td id=\"T_0f639_row3_col5\" class=\"data row3 col5\" >0.76</td>\n",
       "    </tr>\n",
       "    <tr>\n",
       "      <th id=\"T_0f639_level0_row4\" class=\"row_heading level0 row4\" >num. of employees</th>\n",
       "      <td id=\"T_0f639_row4_col0\" class=\"data row4 col0\" >-0.64</td>\n",
       "      <td id=\"T_0f639_row4_col1\" class=\"data row4 col1\" >0.05</td>\n",
       "      <td id=\"T_0f639_row4_col2\" class=\"data row4 col2\" >0.64</td>\n",
       "      <td id=\"T_0f639_row4_col3\" class=\"data row4 col3\" >0.34</td>\n",
       "      <td id=\"T_0f639_row4_col4\" class=\"data row4 col4\" >1.00</td>\n",
       "      <td id=\"T_0f639_row4_col5\" class=\"data row4 col5\" >0.41</td>\n",
       "    </tr>\n",
       "    <tr>\n",
       "      <th id=\"T_0f639_level0_row5\" class=\"row_heading level0 row5\" >Market Cap</th>\n",
       "      <td id=\"T_0f639_row5_col0\" class=\"data row5 col0\" >-0.57</td>\n",
       "      <td id=\"T_0f639_row5_col1\" class=\"data row5 col1\" >0.12</td>\n",
       "      <td id=\"T_0f639_row5_col2\" class=\"data row5 col2\" >0.57</td>\n",
       "      <td id=\"T_0f639_row5_col3\" class=\"data row5 col3\" >0.76</td>\n",
       "      <td id=\"T_0f639_row5_col4\" class=\"data row5 col4\" >0.41</td>\n",
       "      <td id=\"T_0f639_row5_col5\" class=\"data row5 col5\" >1.00</td>\n",
       "    </tr>\n",
       "  </tbody>\n",
       "</table>\n"
      ],
      "text/plain": [
       "<pandas.io.formats.style.Styler at 0x22f3f477530>"
      ]
     },
     "execution_count": 25,
     "metadata": {},
     "output_type": "execute_result"
    }
   ],
   "source": [
    "# Check correlation matrix\n",
    "fortune.corr(method = 'kendall', numeric_only=True)\n",
    "fortune_corr.style.background_gradient(cmap='RdYlGn').format('{:,.2f}')"
   ]
  },
  {
   "cell_type": "code",
   "execution_count": 26,
   "metadata": {
    "colab": {
     "base_uri": "https://localhost:8080/",
     "height": 204
    },
    "executionInfo": {
     "elapsed": 249,
     "status": "ok",
     "timestamp": 1694254873366,
     "user": {
      "displayName": "Susan Ndinoshinge",
      "userId": "16659780857992036365"
     },
     "user_tz": -120
    },
    "id": "nY6boAnjW6oj",
    "outputId": "abe99a93-8b6a-4865-cfb2-0a02aec8659c"
   },
   "outputs": [
    {
     "data": {
      "text/html": [
       "<style type=\"text/css\">\n",
       "#T_3beef_row0_col0, #T_3beef_row1_col1, #T_3beef_row2_col2, #T_3beef_row3_col3, #T_3beef_row4_col4, #T_3beef_row5_col5 {\n",
       "  background-color: #006837;\n",
       "  color: #f1f1f1;\n",
       "}\n",
       "#T_3beef_row0_col1, #T_3beef_row0_col2, #T_3beef_row0_col3, #T_3beef_row0_col4, #T_3beef_row0_col5, #T_3beef_row2_col0 {\n",
       "  background-color: #a50026;\n",
       "  color: #f1f1f1;\n",
       "}\n",
       "#T_3beef_row1_col0 {\n",
       "  background-color: #fffcba;\n",
       "  color: #000000;\n",
       "}\n",
       "#T_3beef_row1_col2 {\n",
       "  background-color: #fbfdba;\n",
       "  color: #000000;\n",
       "}\n",
       "#T_3beef_row1_col3 {\n",
       "  background-color: #fff0a6;\n",
       "  color: #000000;\n",
       "}\n",
       "#T_3beef_row1_col4 {\n",
       "  background-color: #fee797;\n",
       "  color: #000000;\n",
       "}\n",
       "#T_3beef_row1_col5 {\n",
       "  background-color: #feec9f;\n",
       "  color: #000000;\n",
       "}\n",
       "#T_3beef_row2_col1 {\n",
       "  background-color: #bb1526;\n",
       "  color: #f1f1f1;\n",
       "}\n",
       "#T_3beef_row2_col3 {\n",
       "  background-color: #a2d76a;\n",
       "  color: #000000;\n",
       "}\n",
       "#T_3beef_row2_col4 {\n",
       "  background-color: #73c264;\n",
       "  color: #000000;\n",
       "}\n",
       "#T_3beef_row2_col5 {\n",
       "  background-color: #93d168;\n",
       "  color: #000000;\n",
       "}\n",
       "#T_3beef_row3_col0 {\n",
       "  background-color: #f67f4b;\n",
       "  color: #f1f1f1;\n",
       "}\n",
       "#T_3beef_row3_col1 {\n",
       "  background-color: #eb5a3a;\n",
       "  color: #f1f1f1;\n",
       "}\n",
       "#T_3beef_row3_col2 {\n",
       "  background-color: #78c565;\n",
       "  color: #000000;\n",
       "}\n",
       "#T_3beef_row3_col4 {\n",
       "  background-color: #daf08d;\n",
       "  color: #000000;\n",
       "}\n",
       "#T_3beef_row3_col5, #T_3beef_row5_col3 {\n",
       "  background-color: #42ac5a;\n",
       "  color: #f1f1f1;\n",
       "}\n",
       "#T_3beef_row4_col0 {\n",
       "  background-color: #ee613e;\n",
       "  color: #f1f1f1;\n",
       "}\n",
       "#T_3beef_row4_col1 {\n",
       "  background-color: #c82227;\n",
       "  color: #f1f1f1;\n",
       "}\n",
       "#T_3beef_row4_col2 {\n",
       "  background-color: #57b65f;\n",
       "  color: #f1f1f1;\n",
       "}\n",
       "#T_3beef_row4_col3 {\n",
       "  background-color: #e3f399;\n",
       "  color: #000000;\n",
       "}\n",
       "#T_3beef_row4_col5 {\n",
       "  background-color: #cbe982;\n",
       "  color: #000000;\n",
       "}\n",
       "#T_3beef_row5_col0 {\n",
       "  background-color: #f57547;\n",
       "  color: #f1f1f1;\n",
       "}\n",
       "#T_3beef_row5_col1 {\n",
       "  background-color: #e14430;\n",
       "  color: #f1f1f1;\n",
       "}\n",
       "#T_3beef_row5_col2 {\n",
       "  background-color: #6ec064;\n",
       "  color: #000000;\n",
       "}\n",
       "#T_3beef_row5_col4 {\n",
       "  background-color: #c3e67d;\n",
       "  color: #000000;\n",
       "}\n",
       "</style>\n",
       "<table id=\"T_3beef\">\n",
       "  <thead>\n",
       "    <tr>\n",
       "      <th class=\"blank level0\" >&nbsp;</th>\n",
       "      <th id=\"T_3beef_level0_col0\" class=\"col_heading level0 col0\" >rank</th>\n",
       "      <th id=\"T_3beef_level0_col1\" class=\"col_heading level0 col1\" >rank_change</th>\n",
       "      <th id=\"T_3beef_level0_col2\" class=\"col_heading level0 col2\" >revenue</th>\n",
       "      <th id=\"T_3beef_level0_col3\" class=\"col_heading level0 col3\" >profit</th>\n",
       "      <th id=\"T_3beef_level0_col4\" class=\"col_heading level0 col4\" >num. of employees</th>\n",
       "      <th id=\"T_3beef_level0_col5\" class=\"col_heading level0 col5\" >Market Cap</th>\n",
       "    </tr>\n",
       "  </thead>\n",
       "  <tbody>\n",
       "    <tr>\n",
       "      <th id=\"T_3beef_level0_row0\" class=\"row_heading level0 row0\" >rank</th>\n",
       "      <td id=\"T_3beef_row0_col0\" class=\"data row0 col0\" >1.00</td>\n",
       "      <td id=\"T_3beef_row0_col1\" class=\"data row0 col1\" >-0.02</td>\n",
       "      <td id=\"T_3beef_row0_col2\" class=\"data row0 col2\" >-1.00</td>\n",
       "      <td id=\"T_3beef_row0_col3\" class=\"data row0 col3\" >-0.54</td>\n",
       "      <td id=\"T_3beef_row0_col4\" class=\"data row0 col4\" >-0.64</td>\n",
       "      <td id=\"T_3beef_row0_col5\" class=\"data row0 col5\" >-0.57</td>\n",
       "    </tr>\n",
       "    <tr>\n",
       "      <th id=\"T_3beef_level0_row1\" class=\"row_heading level0 row1\" >rank_change</th>\n",
       "      <td id=\"T_3beef_row1_col0\" class=\"data row1 col0\" >-0.02</td>\n",
       "      <td id=\"T_3beef_row1_col1\" class=\"data row1 col1\" >1.00</td>\n",
       "      <td id=\"T_3beef_row1_col2\" class=\"data row1 col2\" >0.02</td>\n",
       "      <td id=\"T_3beef_row1_col3\" class=\"data row1 col3\" >0.15</td>\n",
       "      <td id=\"T_3beef_row1_col4\" class=\"data row1 col4\" >0.05</td>\n",
       "      <td id=\"T_3beef_row1_col5\" class=\"data row1 col5\" >0.12</td>\n",
       "    </tr>\n",
       "    <tr>\n",
       "      <th id=\"T_3beef_level0_row2\" class=\"row_heading level0 row2\" >revenue</th>\n",
       "      <td id=\"T_3beef_row2_col0\" class=\"data row2 col0\" >-1.00</td>\n",
       "      <td id=\"T_3beef_row2_col1\" class=\"data row2 col1\" >0.02</td>\n",
       "      <td id=\"T_3beef_row2_col2\" class=\"data row2 col2\" >1.00</td>\n",
       "      <td id=\"T_3beef_row2_col3\" class=\"data row2 col3\" >0.54</td>\n",
       "      <td id=\"T_3beef_row2_col4\" class=\"data row2 col4\" >0.64</td>\n",
       "      <td id=\"T_3beef_row2_col5\" class=\"data row2 col5\" >0.57</td>\n",
       "    </tr>\n",
       "    <tr>\n",
       "      <th id=\"T_3beef_level0_row3\" class=\"row_heading level0 row3\" >profit</th>\n",
       "      <td id=\"T_3beef_row3_col0\" class=\"data row3 col0\" >-0.54</td>\n",
       "      <td id=\"T_3beef_row3_col1\" class=\"data row3 col1\" >0.15</td>\n",
       "      <td id=\"T_3beef_row3_col2\" class=\"data row3 col2\" >0.54</td>\n",
       "      <td id=\"T_3beef_row3_col3\" class=\"data row3 col3\" >1.00</td>\n",
       "      <td id=\"T_3beef_row3_col4\" class=\"data row3 col4\" >0.34</td>\n",
       "      <td id=\"T_3beef_row3_col5\" class=\"data row3 col5\" >0.76</td>\n",
       "    </tr>\n",
       "    <tr>\n",
       "      <th id=\"T_3beef_level0_row4\" class=\"row_heading level0 row4\" >num. of employees</th>\n",
       "      <td id=\"T_3beef_row4_col0\" class=\"data row4 col0\" >-0.64</td>\n",
       "      <td id=\"T_3beef_row4_col1\" class=\"data row4 col1\" >0.05</td>\n",
       "      <td id=\"T_3beef_row4_col2\" class=\"data row4 col2\" >0.64</td>\n",
       "      <td id=\"T_3beef_row4_col3\" class=\"data row4 col3\" >0.34</td>\n",
       "      <td id=\"T_3beef_row4_col4\" class=\"data row4 col4\" >1.00</td>\n",
       "      <td id=\"T_3beef_row4_col5\" class=\"data row4 col5\" >0.41</td>\n",
       "    </tr>\n",
       "    <tr>\n",
       "      <th id=\"T_3beef_level0_row5\" class=\"row_heading level0 row5\" >Market Cap</th>\n",
       "      <td id=\"T_3beef_row5_col0\" class=\"data row5 col0\" >-0.57</td>\n",
       "      <td id=\"T_3beef_row5_col1\" class=\"data row5 col1\" >0.12</td>\n",
       "      <td id=\"T_3beef_row5_col2\" class=\"data row5 col2\" >0.57</td>\n",
       "      <td id=\"T_3beef_row5_col3\" class=\"data row5 col3\" >0.76</td>\n",
       "      <td id=\"T_3beef_row5_col4\" class=\"data row5 col4\" >0.41</td>\n",
       "      <td id=\"T_3beef_row5_col5\" class=\"data row5 col5\" >1.00</td>\n",
       "    </tr>\n",
       "  </tbody>\n",
       "</table>\n"
      ],
      "text/plain": [
       "<pandas.io.formats.style.Styler at 0x22f3aa57740>"
      ]
     },
     "execution_count": 26,
     "metadata": {},
     "output_type": "execute_result"
    }
   ],
   "source": [
    "# Add styling\n",
    "\n",
    "fortune_corr.style.background_gradient(cmap='RdYlGn').format('{:,.2f}')"
   ]
  },
  {
   "cell_type": "code",
   "execution_count": 28,
   "metadata": {
    "executionInfo": {
     "elapsed": 247,
     "status": "ok",
     "timestamp": 1694254876456,
     "user": {
      "displayName": "Susan Ndinoshinge",
      "userId": "16659780857992036365"
     },
     "user_tz": -120
    },
    "id": "YqtryPasW6oj"
   },
   "outputs": [
    {
     "data": {
      "text/plain": [
       "<Axes: >"
      ]
     },
     "execution_count": 28,
     "metadata": {},
     "output_type": "execute_result"
    },
    {
     "data": {
      "image/png": "[encoded data removed]",
      "text/plain": [
       "<Figure size 640x480 with 2 Axes>"
      ]
     },
     "metadata": {},
     "output_type": "display_data"
    }
   ],
   "source": [
    "# Create heatmap in seaborn without upper triangle\n",
    "mask = np.zeros_like(fortune_corr)\n",
    "mask[np.triu_indices_from(mask)] = True\n",
    "\n",
    "sns.heatmap(fortune_corr, mask=mask, annot=True, cmap='RdYlGn')"
   ]
  },
  {
   "cell_type": "code",
   "execution_count": 30,
   "metadata": {},
   "outputs": [
    {
     "data": {
      "text/plain": [
       "<Axes: >"
      ]
     },
     "execution_count": 30,
     "metadata": {},
     "output_type": "execute_result"
    },
    {
     "data": {
      "image/png": "[encoded data removed]",
      "text/plain": [
       "<Figure size 640x480 with 2 Axes>"
      ]
     },
     "metadata": {},
     "output_type": "display_data"
    }
   ],
   "source": [
    "#Smaller sample size \n",
    "fortune_100 = fortune.iloc[:100, :]\n",
    "fortune_spearman = fortune_100.corr(method = 'spearman', numeric_only=True)\n",
    "\n",
    "\n",
    "mask = np.zeros_like(fortune_spearman)\n",
    "mask[np.triu_indices_from(mask)] = True\n",
    "\n",
    "sns.heatmap(fortune_spearman, mask=mask, annot=True, cmap='RdYlGn')"
   ]
  },
  {
   "cell_type": "code",
   "execution_count": 31,
   "metadata": {},
   "outputs": [
    {
     "data": {
      "text/plain": [
       "<Axes: >"
      ]
     },
     "execution_count": 31,
     "metadata": {},
     "output_type": "execute_result"
    },
    {
     "data": {
      "image/png": "[encoded data removed]",
      "text/plain": [
       "<Figure size 640x480 with 2 Axes>"
      ]
     },
     "metadata": {},
     "output_type": "display_data"
    }
   ],
   "source": [
    "fortune_Kendall= fortune_100.corr(method = 'kendall', numeric_only=True)\n",
    "\n",
    "mask = np.zeros_like(fortune_Kendall)\n",
    "mask[np.triu_indices_from(mask)] = True\n",
    "\n",
    "sns.heatmap(fortune_Kendall, mask=mask, annot=True, cmap='RdYlGn')"
   ]
  },
  {
   "cell_type": "markdown",
   "metadata": {},
   "source": [
    "# <a id='toc3_'></a>[Correlation vs causation](#toc0_)"
   ]
  },
  {
   "cell_type": "markdown",
   "metadata": {},
   "source": [
    "One good way to understand that correlation is not causation is to look at completely unrelated events and see that they have some degree of association, such as the [number of master degrees awarded in journalism and the number of solar panels in Malta](https://www.tylervigen.com/spurious/correlation/1874_masters-degrees-awarded-in-communication-journalism-and-related-programs_correlates-with_solar-power-generated-in-malta):  \n",
    "\n",
    "![](../../../img/spurious-correlations.png)  \n",
    "\n",
    "Finding a correlation between 2 variables is merely the first step in establishing a causal relationship. However, other conditions must also be met:\n",
    " - time sequence, i.e. the alleged cause must occur before the event\n",
    " - a plausible reasoning for causal relationship, or as Wikipedia puts it: \"a plausible physical or information-theoretical mechanism for an observed effect to follow from a possible cause\"\n",
    " - the \"causal\" variable needs to be the only variable that could be responsible for the observed effect, i.e. there shouldn't be any other common or alternative variables that could explain the effect (e.g. [confounders](https://sphweb.bumc.bu.edu/otlt/mph-modules/bs/bs704-ep713_confounding-em/bs704-ep713_confounding-em_print.html#:~:text=Identifying%20Confounding,for%20a%20potential%20confounding%20factor.))\n",
    "\n",
    "Although the 2nd and 3rd items could be reasonably easy to fulfill, the 4th item takes considerably more thought (e.g. experimental design) and mathematical rigour. There is a whole field dedicated to causal relationships called Causal Analysis and whilst it's not yet very applied in ML, it did start to gain more traction - e.g. [Causal ML library](https://causalml.readthedocs.io/en/latest/about.html) and [Causal ML book](https://causalml-book.org/)."
   ]
  },
  {
   "cell_type": "markdown",
   "metadata": {},
   "source": [
    "# <a id='toc4_'></a>[Extra: Correlation among different types of variables](#toc0_)"
   ]
  },
  {
   "cell_type": "markdown",
   "metadata": {
    "id": "TesMVkFzW6ok"
   },
   "source": [
    "We typically look at correlation between numerical values only as it's the simplest to quantify. However, if you are interested in learning about different types of correlations, e.g. categorical & categorical data, numerical & categorical data, you can read [this article](https://archive.ph/20210208110902/https://medium.com/@outside2SDs/an-overview-of-correlation-measures-between-categorical-and-continuous-variables-4c7f85610365)."
   ]
  },
  {
   "cell_type": "markdown",
   "metadata": {},
   "source": [
    "# <a id='toc5_'></a>[Extra: Covariance maths](#toc0_)"
   ]
  },
  {
   "cell_type": "markdown",
   "metadata": {
    "id": "pz7MQOgXW6ok"
   },
   "source": [
    "This is the covariance in typical maths syntax:  \n",
    "  \n",
    "![image.png](https://miro.medium.com/v2/resize:fit:828/0*Vf0PmWaZUL4CtPC_)\n",
    "\n",
    "Where:\n",
    "- Σ = big sigma greek letter. In maths, this means sum.\n",
    "- d = In general maths, this is a differential (fancy for very, very small interval). In this context, it means the difference between a variable and its mean.\n",
    "- n = sample size"
   ]
  },
  {
   "cell_type": "markdown",
   "metadata": {
    "id": "xgWzAZwjW6ol"
   },
   "source": [
    "It is called covariance because it looks at the variance of 2 variables instead of 1. If you remember, the variance was the squared sum of differences between elements and their mean:"
   ]
  },
  {
   "cell_type": "code",
   "execution_count": 35,
   "metadata": {},
   "outputs": [
    {
     "data": {
      "text/html": [
       "<div>\n",
       "<style scoped>\n",
       "    .dataframe tbody tr th:only-of-type {\n",
       "        vertical-align: middle;\n",
       "    }\n",
       "\n",
       "    .dataframe tbody tr th {\n",
       "        vertical-align: top;\n",
       "    }\n",
       "\n",
       "    .dataframe thead th {\n",
       "        text-align: right;\n",
       "    }\n",
       "</style>\n",
       "<table border=\"1\" class=\"dataframe\">\n",
       "  <thead>\n",
       "    <tr style=\"text-align: right;\">\n",
       "      <th></th>\n",
       "      <th>shoe_sizes</th>\n",
       "      <th>heights</th>\n",
       "    </tr>\n",
       "  </thead>\n",
       "  <tbody>\n",
       "    <tr>\n",
       "      <th>0</th>\n",
       "      <td>46.00</td>\n",
       "      <td>185</td>\n",
       "    </tr>\n",
       "    <tr>\n",
       "      <th>1</th>\n",
       "      <td>45.00</td>\n",
       "      <td>184</td>\n",
       "    </tr>\n",
       "    <tr>\n",
       "      <th>2</th>\n",
       "      <td>44.50</td>\n",
       "      <td>183</td>\n",
       "    </tr>\n",
       "    <tr>\n",
       "      <th>3</th>\n",
       "      <td>44.00</td>\n",
       "      <td>182</td>\n",
       "    </tr>\n",
       "    <tr>\n",
       "      <th>4</th>\n",
       "      <td>43.00</td>\n",
       "      <td>181</td>\n",
       "    </tr>\n",
       "    <tr>\n",
       "      <th>5</th>\n",
       "      <td>43.00</td>\n",
       "      <td>181</td>\n",
       "    </tr>\n",
       "    <tr>\n",
       "      <th>6</th>\n",
       "      <td>43.00</td>\n",
       "      <td>174</td>\n",
       "    </tr>\n",
       "    <tr>\n",
       "      <th>7</th>\n",
       "      <td>43.00</td>\n",
       "      <td>174</td>\n",
       "    </tr>\n",
       "    <tr>\n",
       "      <th>8</th>\n",
       "      <td>42.50</td>\n",
       "      <td>173</td>\n",
       "    </tr>\n",
       "    <tr>\n",
       "      <th>9</th>\n",
       "      <td>42.00</td>\n",
       "      <td>170</td>\n",
       "    </tr>\n",
       "    <tr>\n",
       "      <th>10</th>\n",
       "      <td>41.00</td>\n",
       "      <td>169</td>\n",
       "    </tr>\n",
       "    <tr>\n",
       "      <th>11</th>\n",
       "      <td>40.00</td>\n",
       "      <td>169</td>\n",
       "    </tr>\n",
       "    <tr>\n",
       "      <th>12</th>\n",
       "      <td>39.00</td>\n",
       "      <td>165</td>\n",
       "    </tr>\n",
       "    <tr>\n",
       "      <th>13</th>\n",
       "      <td>38.00</td>\n",
       "      <td>160</td>\n",
       "    </tr>\n",
       "    <tr>\n",
       "      <th>14</th>\n",
       "      <td>37.00</td>\n",
       "      <td>160</td>\n",
       "    </tr>\n",
       "  </tbody>\n",
       "</table>\n",
       "</div>"
      ],
      "text/plain": [
       "    shoe_sizes  heights\n",
       "0        46.00      185\n",
       "1        45.00      184\n",
       "2        44.50      183\n",
       "3        44.00      182\n",
       "4        43.00      181\n",
       "5        43.00      181\n",
       "6        43.00      174\n",
       "7        43.00      174\n",
       "8        42.50      173\n",
       "9        42.00      170\n",
       "10       41.00      169\n",
       "11       40.00      169\n",
       "12       39.00      165\n",
       "13       38.00      160\n",
       "14       37.00      160"
      ]
     },
     "execution_count": 35,
     "metadata": {},
     "output_type": "execute_result"
    }
   ],
   "source": [
    "shoe_sizes = [46, 45, 44.5, 44, 43, 43, 43, 43, 42.5, 42, 41, 40, 39, 38, 37]\n",
    "heights = [185, 184, 183, 182, 181, 181, 174, 174, 173, 170, 169, 169, 165, 160, 160]\n",
    "\n",
    "my_class_df = pd.DataFrame({\n",
    "    \"shoe_sizes\": shoe_sizes,\n",
    "    \"heights\": heights\n",
    "})\n",
    "\n",
    "my_class_df"
   ]
  },
  {
   "cell_type": "code",
   "execution_count": null,
   "metadata": {
    "id": "LC0hdprEW6ol"
   },
   "outputs": [],
   "source": [
    "shoe_sizes = [46, 45, 44.5, 44, 43, 43, 43, 43, 42.5, 42, 41, 40, 39, 38, 37]\n",
    "heights = [185, 184, 183, 182, 181, 181, 174, 174, 173, 170, 169, 169, 165, 160, 160]\n",
    "\n",
    "shoe_size_mean = np.mean(shoe_sizes)\n",
    "height_mean = np.mean(heights)"
   ]
  },
  {
   "cell_type": "code",
   "execution_count": null,
   "metadata": {},
   "outputs": [],
   "source": []
  },
  {
   "cell_type": "code",
   "execution_count": null,
   "metadata": {
    "id": "6uhRNfQaW6ol"
   },
   "outputs": [],
   "source": [
    "variance = sum([(shoe_size - shoe_size_mean) ** 2 for shoe_size in shoe_sizes])\n",
    "variance"
   ]
  },
  {
   "cell_type": "markdown",
   "metadata": {
    "id": "Vedo1IBwW6ol"
   },
   "source": [
    "We can also write the square as a product:"
   ]
  },
  {
   "cell_type": "code",
   "execution_count": null,
   "metadata": {
    "id": "9XkDHqF0W6on"
   },
   "outputs": [],
   "source": [
    "variance = sum([(shoe_size - shoe_size_mean) * (shoe_size - shoe_size_mean) for shoe_size in shoe_sizes])\n",
    "variance"
   ]
  },
  {
   "cell_type": "markdown",
   "metadata": {
    "id": "eGF6i-AnW6oo"
   },
   "source": [
    "And we can see how the covariance is simply replacing the second difference with that of another variable:"
   ]
  },
  {
   "cell_type": "code",
   "execution_count": null,
   "metadata": {
    "id": "aI1zfpmOW6oo"
   },
   "outputs": [],
   "source": [
    "covariance = sum([(shoe_size - shoe_size_mean) * (height - height_mean) for (shoe_size, height) in zip(shoe_sizes, heights)])\n",
    "covariance"
   ]
  },
  {
   "cell_type": "markdown",
   "metadata": {
    "id": "2BI0FN0dW6oo"
   },
   "source": [
    "The covariance is positive, therefore when the height increases, the shoe size also increases and viceversa, which makes sense."
   ]
  },
  {
   "cell_type": "markdown",
   "metadata": {},
   "source": [
    "# <a id='toc6_'></a>[Extra: StatQuest Videos](#toc0_)\n",
    "\n",
    "- [Covariance: Clearly Explained!](https://www.youtube.com/watch?v=qtaqvPAeEJY) - 22 min\n",
    "- [Pearson Correlation: Clearly Explained!](https://www.youtube.com/watch?v=xZ_z8KWkhXE) - 19 min"
   ]
  }
 ],
 "metadata": {
  "colab": {
   "provenance": []
  },
  "kernelspec": {
   "display_name": "base",
   "language": "python",
   "name": "python3"
  },
  "language_info": {
   "codemirror_mode": {
    "name": "ipython",
    "version": 3
   },
   "file_extension": ".py",
   "mimetype": "text/x-python",
   "name": "python",
   "nbconvert_exporter": "python",
   "pygments_lexer": "ipython3",
   "version": "3.12.4"
  },
  "orig_nbformat": 4
 },
 "nbformat": 4,
 "nbformat_minor": 0
}
