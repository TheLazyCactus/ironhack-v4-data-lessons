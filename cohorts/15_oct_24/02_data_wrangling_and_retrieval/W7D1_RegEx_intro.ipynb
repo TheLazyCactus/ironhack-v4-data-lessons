{
 "cells": [
  {
   "cell_type": "markdown",
   "id": "b9d6495f",
   "metadata": {},
   "source": [
    "# <a id='toc1_'></a>[Regular Expressions (Regex)](#toc0_)\n"
   ]
  },
  {
   "cell_type": "markdown",
   "id": "9d5fff0f",
   "metadata": {},
   "source": [
    "Regex, short for Regular Expression, is a **sequence of characters** that **defines a search pattern**. "
   ]
  },
  {
   "cell_type": "markdown",
   "id": "1d77881a",
   "metadata": {},
   "source": [
    "**Table of contents**<a id='toc0_'></a>    \n",
    "- [Regular Expressions (Regex)](#toc1_)    \n",
    "  - [Why RegEx?](#toc1_1_)    \n",
    "  - [RegEx intuition](#toc1_2_)    \n",
    "  - [RegEx Cheat Sheet](#toc1_3_)    \n",
    "- [RegEx in Python 🐍 - Python's `re` Module](#toc2_)    \n",
    "  - [Common Regex Functions](#toc2_1_)    \n",
    "      - [`re.search(pattern, string)`:](#toc2_1_1_1_)    \n",
    "      - [`re.findall(pattern, string)`:](#toc2_1_1_2_)    \n",
    "      - [`re.match(pattern, string)`:](#toc2_1_1_3_)    \n",
    "      - [`re.finditer(pattern, string)`:](#toc2_1_1_4_)    \n",
    "      - [`re.sub(pattern, replacement, string)`:](#toc2_1_1_5_)    \n",
    "      - [`re.split(pattern, string)`:](#toc2_1_1_6_)    \n",
    "    - [Note](#toc2_1_2_)    \n",
    "- [RegEx patterns](#toc3_)    \n",
    "  - [General tokens](#toc3_1_)    \n",
    "  - [Quantifiers](#toc3_2_)    \n",
    "  - [Collections](#toc3_3_)    \n",
    "  - [💡 Exercise 1: Help Elton out](#toc3_4_)    \n",
    "  - [💡Exercise 2: Email patterns](#toc3_5_)    \n",
    "- [Extra: Weird number formats](#toc4_)    \n",
    "- [Extra: `re` in web scraping](#toc5_)    \n",
    "\n",
    "<!-- vscode-jupyter-toc-config\n",
    "\tnumbering=false\n",
    "\tanchor=true\n",
    "\tflat=false\n",
    "\tminLevel=1\n",
    "\tmaxLevel=6\n",
    "\t/vscode-jupyter-toc-config -->\n",
    "<!-- THIS CELL WILL BE REPLACED ON TOC UPDATE. DO NOT WRITE YOUR TEXT IN THIS CELL -->"
   ]
  },
  {
   "cell_type": "markdown",
   "id": "c60c9535",
   "metadata": {},
   "source": [
    "## <a id='toc1_1_'></a>[Why RegEx?](#toc0_)"
   ]
  },
  {
   "cell_type": "code",
   "execution_count": 49,
   "id": "353243cd",
   "metadata": {},
   "outputs": [
    {
     "data": {
      "text/plain": [
       "True"
      ]
     },
     "execution_count": 49,
     "metadata": {},
     "output_type": "execute_result"
    }
   ],
   "source": [
    "0 in [0, 1, 2]"
   ]
  },
  {
   "cell_type": "code",
   "execution_count": 51,
   "id": "8d08872d",
   "metadata": {},
   "outputs": [
    {
     "data": {
      "text/plain": [
       "True"
      ]
     },
     "execution_count": 51,
     "metadata": {},
     "output_type": "execute_result"
    }
   ],
   "source": [
    "# string in string - \"at\" in\n",
    "(\"cat\" or \"hat\" or \"mat\") in \"My cat went to look at my hat on the mat\""
   ]
  },
  {
   "cell_type": "code",
   "execution_count": null,
   "id": "700a4ae2",
   "metadata": {},
   "outputs": [],
   "source": []
  },
  {
   "cell_type": "markdown",
   "id": "8b484215",
   "metadata": {},
   "source": [
    "sabinagio@xyz.com\n",
    "\n",
    "sabinagioxyz.com"
   ]
  },
  {
   "cell_type": "markdown",
   "id": "2195bd5a",
   "metadata": {},
   "source": [
    "S@B1naGIO\n",
    "\n",
    "sabinagio"
   ]
  },
  {
   "cell_type": "code",
   "execution_count": null,
   "id": "0165da12",
   "metadata": {},
   "outputs": [],
   "source": []
  },
  {
   "cell_type": "code",
   "execution_count": null,
   "id": "6587a191",
   "metadata": {},
   "outputs": [],
   "source": []
  },
  {
   "cell_type": "markdown",
   "id": "433f30eb",
   "metadata": {},
   "source": [
    "Regex is commonly used for **pattern** **search**, **matching** and **data manipulation** in various types of strings.\n",
    "\n",
    "This makes it invaluable for tasks such as **data validation**, **text parsing**, and **data extraction**. Some typical applications include:\n",
    "\n",
    "1. Emails\n",
    "2. URLs\n",
    "3. Phone Numbers\n",
    "4. Dates and Times\n",
    "5. Social Security Numbers\n",
    "6. Credit Card Numbers\n",
    "7. File Paths\n",
    "8. HTML Tags\n",
    "9. Log Files\n",
    "10. Natural Language Processing"
   ]
  },
  {
   "cell_type": "markdown",
   "id": "704ecd1b",
   "metadata": {},
   "source": [
    "## <a id='toc1_2_'></a>[RegEx intuition](#toc0_)"
   ]
  },
  {
   "cell_type": "markdown",
   "id": "d6ce3bd1",
   "metadata": {},
   "source": [
    "We'll use [RegExR](https://regexr.com/) to get an idea of how RegEx works, using a few of the patterns below:"
   ]
  },
  {
   "cell_type": "markdown",
   "id": "c5e95302",
   "metadata": {},
   "source": [
    "## <a id='toc1_3_'></a>[RegEx Cheat Sheet](#toc0_)"
   ]
  },
  {
   "cell_type": "markdown",
   "id": "7f2479ec",
   "metadata": {},
   "source": [
    "![](https://github.com/data-bootcamp-v4/lessons/blob/main/img/regex.png?raw=true)"
   ]
  },
  {
   "cell_type": "markdown",
   "id": "6e767d33",
   "metadata": {},
   "source": [
    "# <a id='toc2_'></a>[RegEx in Python 🐍 - Python's `re` Module](#toc0_)\n",
    "\n",
    "Python provides the `re` module, which allows you to work with regular expressions. Before using `re`, you need to import it:"
   ]
  },
  {
   "cell_type": "code",
   "execution_count": 52,
   "id": "bc81c550",
   "metadata": {},
   "outputs": [],
   "source": [
    "import re\n",
    "import warnings\n",
    "\n",
    "warnings.filterwarnings('ignore')"
   ]
  },
  {
   "cell_type": "markdown",
   "id": "ea818d38",
   "metadata": {},
   "source": [
    "## <a id='toc2_1_'></a>[Common Regex Functions](#toc0_)\n",
    "\n",
    "Regex functions in Python allow you to find and work with patterns in strings:\n",
    "\n",
    "1. To find the pattern:\n",
    "   - `re.search(pattern, string)`: Searches the string for a match to the pattern and returns a match object if found.\n",
    "   - `re.findall(pattern, string)`: Returns all occurrences of the pattern in the string as a list of strings.\n",
    "   - `re.match(pattern, string)`: Searches the string for a match only at the beginning and returns a match object if found.\n",
    "   - `re.finditer(pattern, string)`: Returns an iterator yielding match objects for all occurrences of the pattern in the string.\n",
    "\n",
    "2. To work with the pattern:\n",
    "   - `re.sub(pattern, replacement, string)`: Replaces all occurrences of the pattern in the string with the replacement string.\n",
    "   - `re.split(pattern, string)`: Splits the string by occurrences of the pattern and returns a list of substrings.\n",
    "\n"
   ]
  },
  {
   "cell_type": "markdown",
   "id": "4b4191d6",
   "metadata": {},
   "source": [
    "#### <a id='toc2_1_1_1_'></a>[`re.search(pattern, string)`:](#toc0_)\n",
    "   - Searches the `string` for a match to the `pattern`.\n",
    "   - Returns a match object if the pattern is found, otherwise returns `None`.\n"
   ]
  },
  {
   "cell_type": "markdown",
   "id": "82d62fd2-eeb7-4269-83df-60850dc14f71",
   "metadata": {},
   "source": [
    " We can use the `re.search()` function to find specific patterns within a string. Let's explore some regex patterns and how they work:"
   ]
  },
  {
   "cell_type": "code",
   "execution_count": 56,
   "id": "613c7d88-28bd-46c8-8171-14072b557aa6",
   "metadata": {},
   "outputs": [
    {
     "name": "stdout",
     "output_type": "stream",
     "text": [
      "Match found: <re.Match object; span=(7, 8), match='1'>\n",
      "Match: 1\n",
      "Position: (7, 8)\n"
     ]
    }
   ],
   "source": [
    "text = 'I have 10 apples   and  2 bananas.'\n",
    "pattern='\\d'    # numeric, 1 characters\n",
    "\n",
    "result = re.search(pattern, text)\n",
    "\n",
    "if result:\n",
    "    print(f\"Match found: {result}\")\n",
    "    print(f\"Match: {result.group()}\")\n",
    "    print(f\"Position: {result.span()}\")\n",
    "else:\n",
    "    print(\"No match found.\")"
   ]
  },
  {
   "cell_type": "code",
   "execution_count": 55,
   "id": "2e12c2ea",
   "metadata": {},
   "outputs": [
    {
     "name": "stdout",
     "output_type": "stream",
     "text": [
      "Match found: I\n"
     ]
    }
   ],
   "source": [
    "pattern = '\\w' # matches any word character. A word character includes alphanumeric characters (letters and digits) and underscores (_). It is equivalent to [a-zA-Z0-9_].\n",
    "\n",
    "result = re.search(pattern, text) # Returns first match, 'I'\n",
    "if result:\n",
    "    print(f\"Match found: {result.group()}\")\n",
    "else:\n",
    "    print(\"No match found.\")"
   ]
  },
  {
   "cell_type": "markdown",
   "id": "13e6c696",
   "metadata": {},
   "source": [
    "#### <a id='toc2_1_1_2_'></a>[`re.findall(pattern, string)`:](#toc0_)\n",
    "   - Returns all occurrences of the `pattern` in the `string` as a list of strings.\n"
   ]
  },
  {
   "cell_type": "code",
   "execution_count": 54,
   "id": "6573b9b9",
   "metadata": {},
   "outputs": [
    {
     "name": "stdout",
     "output_type": "stream",
     "text": [
      "Occurrences: ['1', '0', '2']\n"
     ]
    }
   ],
   "source": [
    "pattern = '\\d' # numerico, 1 o mas caracteres\n",
    "text = 'I have 10 apples   and  2 bananas.'\n",
    "\n",
    "result = re.findall(pattern, text)\n",
    "print(f\"Occurrences: {result}\")"
   ]
  },
  {
   "cell_type": "markdown",
   "id": "be6f2e1b",
   "metadata": {},
   "source": [
    "We'll take a quick break now to look into [RegEx patterns](#regex-patterns) before going into all the `re` functions!"
   ]
  },
  {
   "cell_type": "markdown",
   "id": "47358ffe",
   "metadata": {},
   "source": [
    "#### <a id='toc2_1_1_3_'></a>[`re.match(pattern, string)`:](#toc0_)\n",
    "   - Searches the `string` for a match only at the beginning.\n",
    "   - Returns a match object if the pattern is found at the start, otherwise returns `None`."
   ]
  },
  {
   "cell_type": "code",
   "execution_count": null,
   "id": "ed6b4bb0-6d4f-4d83-b53c-a2a8ccf34269",
   "metadata": {},
   "outputs": [],
   "source": [
    "pattern = '\\w' # matches any word character. A word character includes alphanumeric characters (letters and digits) and underscores (_). It is equivalent to [a-zA-Z0-9_].\n",
    "text = ' I have an apple and a banana.'\n",
    "\n",
    "result = re.match(pattern, text)\n",
    "if result:\n",
    "    print(f\"Match found: {result.group()}\")\n",
    "else:\n",
    "    print(\"No match found.\")"
   ]
  },
  {
   "cell_type": "markdown",
   "id": "2be210d5",
   "metadata": {},
   "source": [
    "Since there is a space at the beginning of the text, and that is not an alphanumeric character, returns match not found."
   ]
  },
  {
   "cell_type": "markdown",
   "id": "4a4e3c6f",
   "metadata": {},
   "source": [
    "#### <a id='toc2_1_1_4_'></a>[`re.finditer(pattern, string)`:](#toc0_)\n",
    "   - Returns an iterator yielding match objects for all occurrences of the `pattern` in the `string`."
   ]
  },
  {
   "cell_type": "code",
   "execution_count": null,
   "id": "8b568045",
   "metadata": {},
   "outputs": [],
   "source": [
    "pattern = '\\d+'\n",
    "text = 'I have 3 apples and 5 bananas.'\n",
    "\n",
    "matches = re.finditer(pattern, text)\n",
    "for match in matches:\n",
    "    print(f\"Match found: {match.group()}\")"
   ]
  },
  {
   "cell_type": "markdown",
   "id": "07cbd763",
   "metadata": {},
   "source": [
    "#### <a id='toc2_1_1_5_'></a>[`re.sub(pattern, replacement, string)`:](#toc0_)\n",
    "   - Replaces all occurrences of the `pattern` in the `string` with the `replacement` string."
   ]
  },
  {
   "cell_type": "code",
   "execution_count": null,
   "id": "8e3e5e39-9817-43fb-a751-6a7debe3edbe",
   "metadata": {},
   "outputs": [],
   "source": [
    "pattern = r'apples'\n",
    "text = 'I have 3 apples and apples.'\n",
    "\n",
    "result = re.sub(pattern, 'oranges', text)\n",
    "print(f\"Updated text: {result}\")"
   ]
  },
  {
   "cell_type": "code",
   "execution_count": null,
   "id": "618f9634",
   "metadata": {},
   "outputs": [],
   "source": [
    "re.sub('\\d+', '', text)   # replaces numbers for nothing"
   ]
  },
  {
   "cell_type": "markdown",
   "id": "4b08c655",
   "metadata": {},
   "source": [
    "#### <a id='toc2_1_1_6_'></a>[`re.split(pattern, string)`:](#toc0_)\n",
    "   - Splits the `string` by occurrences of the `pattern` and returns a list of substrings.\n"
   ]
  },
  {
   "cell_type": "code",
   "execution_count": null,
   "id": "9c055020",
   "metadata": {},
   "outputs": [],
   "source": [
    "pattern = '\\s+' # matches one or more occurrences of whitespace characters\n",
    "\n",
    "\n",
    "result = re.split(pattern, text)\n",
    "print(f\"Splitted text: {result}\")"
   ]
  },
  {
   "cell_type": "markdown",
   "id": "3be09b30",
   "metadata": {},
   "source": [
    "### <a id='toc2_1_2_'></a>[Note](#toc0_)\n",
    "\n",
    "You can use Python functions, for example `re.sub()` instead of `replace()`, or `re.split()` instead of `split()`, if you don't need a regex pattern."
   ]
  },
  {
   "cell_type": "markdown",
   "id": "a3e7b405",
   "metadata": {},
   "source": [
    "# <a id='toc3_'></a>[RegEx patterns](#toc0_)"
   ]
  },
  {
   "cell_type": "markdown",
   "id": "0bd76949",
   "metadata": {},
   "source": [
    "## <a id='toc3_1_'></a>[General tokens](#toc0_)"
   ]
  },
  {
   "cell_type": "markdown",
   "id": "801ea34a",
   "metadata": {},
   "source": [
    "`\\d` - digit  \n",
    "`\\w` - word character, i.e. no symbols  \n",
    "`\\s` - space character, e.g. space, tab (`\\t`), newline (`\\n`)  \n",
    "`.` - any character  \n",
    "**`^` - start of line  \n",
    "`$`- end of line  **"
   ]
  },
  {
   "cell_type": "code",
   "execution_count": 57,
   "id": "fb74b0ca",
   "metadata": {},
   "outputs": [
    {
     "name": "stdout",
     "output_type": "stream",
     "text": [
      "<re.Match object; span=(7, 8), match='1'>\n",
      "1\n",
      "(7, 8)\n",
      "['1', '0', '2']\n"
     ]
    }
   ],
   "source": [
    "text = 'I have 10 apples   and  2 bananas.'\n",
    "pattern='\\d'    # numeric, 1 character\n",
    "\n",
    "# Get first result\n",
    "result = re.search(pattern, text)\n",
    "\n",
    "print(result)\n",
    "print(result.group())\n",
    "print(result.span())\n",
    "\n",
    "# Get all matches\n",
    "result = re.findall(pattern, text)\n",
    "\n",
    "print(result)"
   ]
  },
  {
   "cell_type": "code",
   "execution_count": 59,
   "id": "a0b444e6",
   "metadata": {},
   "outputs": [
    {
     "name": "stdout",
     "output_type": "stream",
     "text": [
      "None\n"
     ]
    }
   ],
   "source": [
    "text = 'I have 10 apples   and  2 bananas.'\n",
    "pattern='^\\d'    # numeric, 1 character\n",
    "\n",
    "# Get first result\n",
    "result = re.search(pattern, text)\n",
    "print(result)"
   ]
  },
  {
   "cell_type": "code",
   "execution_count": 72,
   "id": "06cce526",
   "metadata": {},
   "outputs": [
    {
     "name": "stdout",
     "output_type": "stream",
     "text": [
      "<re.Match object; span=(0, 1), match='1'>\n"
     ]
    }
   ],
   "source": [
    "text = '1 have 10 apples   and  2 bananesaugkrneahbrebwrhas.'\n",
    "pattern='^\\d'    # numeric, 1 character # caret\n",
    "\n",
    "# Get first result\n",
    "result = re.search(pattern, text)\n",
    "print(result)"
   ]
  },
  {
   "cell_type": "code",
   "execution_count": 69,
   "id": "1a983912",
   "metadata": {},
   "outputs": [
    {
     "name": "stdout",
     "output_type": "stream",
     "text": [
      "<re.Match object; span=(66, 67), match='.'>\n"
     ]
    }
   ],
   "source": [
    "text = 'I have 10 orange apples  banananananannanananananna and  2 bananas.'\n",
    "pattern='\\.$'    # numeric, 1 character\n",
    "\n",
    "# Get first result\n",
    "result = re.search(pattern, text)\n",
    "print(result)"
   ]
  },
  {
   "cell_type": "code",
   "execution_count": 87,
   "id": "0ff0b159",
   "metadata": {},
   "outputs": [
    {
     "name": "stdout",
     "output_type": "stream",
     "text": [
      "<re.Match object; span=(7, 9), match='10'>\n",
      "['10', '22']\n"
     ]
    }
   ],
   "source": [
    "# How can I change this pattern to look at 2 digits instead of 1?\n",
    "text = '1 have 10 apples   and  22 bananesaugkrneahbrebwrhas.'\n",
    "pattern='\\\\b\\d{2}\\\\b'    # numeric, 1 character # caret\n",
    "\n",
    "# Get first result\n",
    "result = re.search(pattern, text)\n",
    "print(result)\n",
    "\n",
    "# Get all matches\n",
    "result = re.findall(pattern, text)\n",
    "print(result)"
   ]
  },
  {
   "cell_type": "code",
   "execution_count": null,
   "id": "803eb8b2",
   "metadata": {},
   "outputs": [],
   "source": [
    "# Get first result\n",
    "result = re.search(pattern, text)\n",
    "\n",
    "print(result)\n",
    "print(result.group())\n",
    "print(result.span())\n",
    "\n",
    "# Get all matches\n",
    "result = re.findall(pattern, text)\n",
    "\n",
    "print(result)"
   ]
  },
  {
   "cell_type": "code",
   "execution_count": 88,
   "id": "e9477a8a",
   "metadata": {},
   "outputs": [
    {
     "name": "stdout",
     "output_type": "stream",
     "text": [
      "<re.Match object; span=(0, 1), match='I'>\n",
      "I\n",
      "(0, 1)\n",
      "['I', 'w', 'o', 'u', 'l', 'd', 'l', 'i', 'k', 'e', 't', 'o', 'f', 'i', 'n', 'd', 'a', 'w', 'h', 'i', 't', 'e', 'c', 'o', 'u', 'r', 't', 'a', 'i', 'n']\n"
     ]
    }
   ],
   "source": [
    "text = 'I would like to find a white courtain.'\n",
    "pattern='\\w'    # word character, 1 characters\n",
    "\n",
    "# Get first result\n",
    "result = re.search(pattern, text)\n",
    "\n",
    "print(result)\n",
    "print(result.group())\n",
    "print(result.span())\n",
    "\n",
    "# Get all matches\n",
    "result = re.findall(pattern, text)\n",
    "\n",
    "print(result)"
   ]
  },
  {
   "cell_type": "code",
   "execution_count": 92,
   "id": "4ba3bf19",
   "metadata": {},
   "outputs": [
    {
     "name": "stdout",
     "output_type": "stream",
     "text": [
      "<re.Match object; span=(29, 37), match='courtain'>\n",
      "courtain\n",
      "(29, 37)\n",
      "['courtain']\n"
     ]
    }
   ],
   "source": [
    "# How can I change to find only the single-letter word?\n",
    "text = 'I would like to find a white courtain.'\n",
    "pattern='\\\\bcourtain\\\\b'    # word character, 1 characters\n",
    "\n",
    "# Get first result\n",
    "result = re.search(pattern, text)\n",
    "\n",
    "print(result)\n",
    "print(result.group())\n",
    "print(result.span())\n",
    "\n",
    "# Get all matches\n",
    "result = re.findall(pattern, text)\n",
    "\n",
    "print(result)"
   ]
  },
  {
   "cell_type": "code",
   "execution_count": 106,
   "id": "97e0d1fe",
   "metadata": {},
   "outputs": [
    {
     "name": "stdout",
     "output_type": "stream",
     "text": [
      "US match: <re.Match object; span=(47, 52), match='color'>\n",
      "GB match: <re.Match object; span=(48, 54), match='colour'>\n",
      "Gibberish match: None\n",
      "Loooooong match: <re.Match object; span=(48, 97), match='colooooooooooooooooooooooooooooooooooooooooooooor>\n",
      "Wrong match: None\n"
     ]
    }
   ],
   "source": [
    "# How can I change to find only the single-letter word?\n",
    "text_US = 'I would like to find a courtain of my favorite color.'\n",
    "text_GB = 'I would like to find a courtain of my favourite colour.'\n",
    "text_gibberish = 'I would like to find a courtain of my favourite colobr.'\n",
    "text_loooooooooooooooong = 'I would like to find a courtain of my favourite colooooooooooooooooooooooooooooooooooooooooooooor.'\n",
    "text_wrong = 'I would like to find a courtain of my favourite colr.'\n",
    "pattern='\\\\bcolo+u*r\\\\b'    # word character, 1 characters\n",
    "\n",
    "# Get first result\n",
    "result = re.search(pattern, text_US)\n",
    "print(\"US match:\", result)\n",
    "result = re.search(pattern, text_GB)\n",
    "print(\"GB match:\", result)\n",
    "result = re.search(pattern, text_gibberish)\n",
    "print(\"Gibberish match:\", result)\n",
    "result = re.search(pattern, text_loooooooooooooooong)\n",
    "print(\"Loooooong match:\", result)\n",
    "result = re.search(pattern, text_wrong)\n",
    "print(\"Wrong match:\", result)"
   ]
  },
  {
   "cell_type": "code",
   "execution_count": null,
   "id": "17931c36",
   "metadata": {},
   "outputs": [],
   "source": [
    "# What if my text was formatted like this?\n",
    "text = 'I.would.like.to.find.a.white.courtain.'"
   ]
  },
  {
   "cell_type": "code",
   "execution_count": null,
   "id": "7dacc978",
   "metadata": {},
   "outputs": [],
   "source": [
    "pattern = r\"co.kie\" # The dot (.) in regex represents any character (except newline, \\n).\n",
    "text = \"I love my cookie and coke.\"\n",
    "\n",
    "# Get first result\n",
    "result = re.search(pattern, text)\n",
    "\n",
    "print(result)\n",
    "print(result.group())\n",
    "print(result.span())\n",
    "\n",
    "# Get all matches\n",
    "result = re.findall(pattern, text)\n",
    "\n",
    "print(result)"
   ]
  },
  {
   "cell_type": "code",
   "execution_count": null,
   "id": "4bcf51dc",
   "metadata": {},
   "outputs": [],
   "source": [
    "pattern = r\"that$\" # The dot (.) in regex represents any character (except newline, \\n).\n",
    "text = \"I want to have a look at that\"\n",
    "\n",
    "# Get first result\n",
    "result = re.search(pattern, text)\n",
    "\n",
    "print(result)\n",
    "print(result.group())\n",
    "print(result.span())"
   ]
  },
  {
   "cell_type": "code",
   "execution_count": null,
   "id": "a6612d21",
   "metadata": {},
   "outputs": [],
   "source": [
    "# How can I change this pattern to accommodate punctuation?"
   ]
  },
  {
   "cell_type": "code",
   "execution_count": null,
   "id": "89c32f12",
   "metadata": {},
   "outputs": [],
   "source": [
    "# What if we had a mix of sentences with and without punctuation?"
   ]
  },
  {
   "cell_type": "markdown",
   "id": "7b45b126",
   "metadata": {},
   "source": [
    "## <a id='toc3_2_'></a>[Quantifiers](#toc0_)"
   ]
  },
  {
   "cell_type": "markdown",
   "id": "a36b7a26",
   "metadata": {},
   "source": [
    "`?` - 1 or no character  \n",
    "`+` - 1 or more characters   \n",
    "`*` - 0 or more characters   \n",
    "`{k}` - k characters  \n",
    "`{k, n}` - between k and n characters  \n",
    "\n",
    "Interestingly called a quantifier but not really a quantifier:  \n",
    "`|` - or  "
   ]
  },
  {
   "cell_type": "code",
   "execution_count": null,
   "id": "b813d093",
   "metadata": {},
   "outputs": [],
   "source": [
    "# Quantifiers specify how many times a character or group should repeat.\n",
    "pattern = r\"\\d{3}-\\d{2}-\\d{4}\" #3 digits - 3 digits - 4 digits\n",
    "text = \"My social security number is 123-45-6789.\"\n",
    "\n",
    "result = re.search(pattern, text)\n",
    "if result:\n",
    "    print(\"SSN found:\", result.group())\n",
    "else:\n",
    "    print(\"No SSN found.\")\n"
   ]
  },
  {
   "cell_type": "code",
   "execution_count": null,
   "id": "e73edf6f",
   "metadata": {},
   "outputs": [],
   "source": [
    "pattern = r\"apple|banana\" # Alternation allows matching one of several patterns separated by |.\n",
    "text = \"I have a banana and an apple.\"\n",
    "\n",
    "result = re.search(pattern, text)\n",
    "if result:\n",
    "    print(\"Fruit found:\", result.group())\n",
    "else:\n",
    "    print(\"No fruit found.\")"
   ]
  },
  {
   "cell_type": "markdown",
   "id": "bbea77ef",
   "metadata": {},
   "source": [
    "## <a id='toc3_3_'></a>[Collections](#toc0_)"
   ]
  },
  {
   "cell_type": "markdown",
   "id": "2dc0ea86",
   "metadata": {},
   "source": [
    "`[a-z]` - all lowercase letters  \n",
    "`[A-Z]` - all uppercase letters  \n",
    "`[asdf]` - all lowercase letters in this sequence  \n",
    "`[^asdf]` - all letters except the lowercase letters in this sequence  "
   ]
  },
  {
   "cell_type": "code",
   "execution_count": 109,
   "id": "0a2816ae",
   "metadata": {},
   "outputs": [
    {
     "name": "stdout",
     "output_type": "stream",
     "text": [
      "Vowel found: e\n",
      "['e', 'i', 'e', 'e', 'a']\n"
     ]
    }
   ],
   "source": [
    "pattern = r\"[aei]\" # Character classes allow matching any one of several characters at a specific position.\n",
    "text = \"The quick brown fox jumps over the lazy dog.\"\n",
    "\n",
    "result = re.search(pattern, text)\n",
    "if result:\n",
    "    print(\"Vowel found:\", result.group())\n",
    "else:\n",
    "    print(\"No vowel found.\")\n",
    "\n",
    "results = re.findall(pattern, text)\n",
    "print(results)"
   ]
  },
  {
   "cell_type": "code",
   "execution_count": 120,
   "id": "9f510843",
   "metadata": {},
   "outputs": [
    {
     "name": "stdout",
     "output_type": "stream",
     "text": [
      "Vowel found: a\n",
      "['a', 'quick', 'over', 'the', 'lazy']\n"
     ]
    }
   ],
   "source": [
    "pattern = r\"\\w*[aei]\\w*\" # Character classes allow matching any one of several characters at a specific position.\n",
    "text = \"a quick brown fox jumps over the lazy dog.\"\n",
    "\n",
    "result = re.search(pattern, text)\n",
    "if result:\n",
    "    print(\"Vowel found:\", result.group())\n",
    "else:\n",
    "    print(\"No vowel found.\")\n",
    "\n",
    "results = re.findall(pattern, text)\n",
    "print(results)"
   ]
  },
  {
   "cell_type": "code",
   "execution_count": null,
   "id": "f4772fd5",
   "metadata": {},
   "outputs": [],
   "source": [
    "# What if the text was uppercase?\n",
    "text = \"THE QUICK BROWN FOX JUMPS OVER THE LAZY DOG.\""
   ]
  },
  {
   "cell_type": "markdown",
   "id": "1c0a241b",
   "metadata": {},
   "source": [
    "## <a id='toc3_4_'></a>[💡 Exercise 1: Help Elton out](#toc0_)"
   ]
  },
  {
   "cell_type": "markdown",
   "id": "73f1aaaf",
   "metadata": {},
   "source": [
    "How would you find `looooaaaaaoooaoaoaong` and `looaaooaoooaaoooot` in the sentence:\n",
    "`Elton, this is a looooaaaaaoooaoaoaong sentence with a looaaooaoooaaoooot of repetition`?"
   ]
  },
  {
   "cell_type": "code",
   "execution_count": null,
   "id": "e92a1b86",
   "metadata": {},
   "outputs": [],
   "source": [
    "# Your code here"
   ]
  },
  {
   "cell_type": "markdown",
   "id": "6102fe7f",
   "metadata": {},
   "source": [
    "In addition to using the plus sign (`+`) to look for one or more characters, you can also use the asterisk (`*`) for sets of characters that may appear zero or more times:"
   ]
  },
  {
   "cell_type": "code",
   "execution_count": 45,
   "id": "64b42409",
   "metadata": {},
   "outputs": [
    {
     "data": {
      "text/plain": [
       "['lto', 'loo', 'loo']"
      ]
     },
     "execution_count": 45,
     "metadata": {},
     "output_type": "execute_result"
    }
   ],
   "source": [
    "# WIll 'o' appear at all?\n",
    "re.findall('l.[nto]g?','Elton, this is a loooooong sentence with a looooooooooooot of repetition')"
   ]
  },
  {
   "cell_type": "markdown",
   "id": "fbf9b307",
   "metadata": {},
   "source": [
    "## <a id='toc3_5_'></a>[💡Exercise 2: Email patterns](#toc0_)"
   ]
  },
  {
   "cell_type": "markdown",
   "id": "d0327c4f",
   "metadata": {},
   "source": [
    "Lets look at the regex pattern `[\\w\\.]+@\\w+\\.\\w+`, designed to match email addresses:\n",
    "\n",
    "1. `[\\w\\.]+`: Matches one or more occurrences of word characters or dots (`.`).\n",
    "   - `\\w` represents word characters (letters, digits, and underscores).\n",
    "   - `\\.` matches a literal dot (period).\n",
    "\n",
    "2. `@`: Matches the `@` symbol.\n",
    "\n",
    "3. `\\w+`: Matches one or more occurrences of word characters after the `@` symbol.\n",
    "   - `\\w` represents word characters (letters, digits, and underscores).\n",
    "\n",
    "4. `\\.`: Matches a literal dot (period).\n",
    "\n",
    "5. `\\w+`: Matches one or more occurrences of word characters after the dot.\n",
    "   - `\\w` represents word characters (letters, digits, and underscores).\n"
   ]
  },
  {
   "cell_type": "code",
   "execution_count": null,
   "id": "bf812281",
   "metadata": {},
   "outputs": [],
   "source": [
    "emails_text = \"\"\"\n",
    "Here are some made-up email addresses:\n",
    "john.doe@example.com\n",
    "mary_smith123@gmail.com\n",
    "theodore@example.co.uk\n",
    "contact_us@company.net\n",
    "info123@yahoo.com\n",
    "alice.bob@example.org\n",
    "support@website.io\n",
    "sales.department@example.com\n",
    "test.email@domain.com\n",
    "random.email@subdomain.co\n",
    "\"\"\"\n",
    "\n",
    "pattern = '[\\w\\.]+@\\w+\\.\\w+'\n",
    "\n",
    "re.findall(pattern, emails_text)"
   ]
  },
  {
   "cell_type": "markdown",
   "id": "2c09b48e",
   "metadata": {},
   "source": [
    "What do you observe in the result? How would you fix it?"
   ]
  },
  {
   "cell_type": "code",
   "execution_count": null,
   "id": "f5a6bdeb",
   "metadata": {},
   "outputs": [],
   "source": [
    "# Your answer here"
   ]
  },
  {
   "cell_type": "markdown",
   "id": "2321c357",
   "metadata": {},
   "source": [
    "# <a id='toc4_'></a>[Extra: Weird number formats](#toc0_)"
   ]
  },
  {
   "cell_type": "code",
   "execution_count": null,
   "id": "a0474cdc",
   "metadata": {},
   "outputs": [],
   "source": [
    "string = 'The phone numbers, as they gave them to us, are 00351 933456789, +351927654321, 00351 915 678 901, 969 343 291'"
   ]
  },
  {
   "cell_type": "code",
   "execution_count": null,
   "id": "21c66c99",
   "metadata": {},
   "outputs": [],
   "source": [
    "re.findall('((\\+\\d{3}|00\\d{3} ?)?)((\\d{3} ?){3})', string)"
   ]
  },
  {
   "cell_type": "code",
   "execution_count": null,
   "id": "a8f920a4",
   "metadata": {},
   "outputs": [],
   "source": [
    "# Get just the phone numbers\n",
    "groupings_complex = re.findall('((\\+\\d{3} ?|00\\d{3} ?)?)((\\d{3} ?){3})', string)\n",
    "list(map( (lambda x : x[2]), groupings_complex))"
   ]
  },
  {
   "cell_type": "markdown",
   "id": "e1a52816",
   "metadata": {},
   "source": [
    "# <a id='toc5_'></a>[Extra: `re` in web scraping](#toc0_)"
   ]
  },
  {
   "cell_type": "markdown",
   "id": "1a63e44f",
   "metadata": {},
   "source": [
    "In addition to using the `BeautifulSoup` library to search for HTML tags, attributes and CSS selectors, we can also use RegEx to find patterns:"
   ]
  },
  {
   "cell_type": "code",
   "execution_count": null,
   "id": "e75a62d1",
   "metadata": {},
   "outputs": [],
   "source": [
    "# I will create a typical pattern for matching a script tag\n",
    "pattern = '<script>.*</script>'"
   ]
  },
  {
   "cell_type": "code",
   "execution_count": null,
   "id": "74385110",
   "metadata": {},
   "outputs": [],
   "source": [
    "# Then I'll just get the Wikipedia landing page for my example\n",
    "import requests\n",
    "response = requests.get('https://wikipedia.com')\n",
    "response.content"
   ]
  },
  {
   "cell_type": "code",
   "execution_count": null,
   "id": "5d117b85",
   "metadata": {},
   "outputs": [],
   "source": [
    "# Now I'll extract the JS scripts from the page:\n",
    "re.findall(pattern, response.content)"
   ]
  },
  {
   "cell_type": "markdown",
   "id": "4ea1a488",
   "metadata": {},
   "source": [
    "I get an error because the HTML response content is a bytes-like (computer readable) object instead of a string, so I need to convert it to a string (human-readable) object before I find my pattern: "
   ]
  },
  {
   "cell_type": "code",
   "execution_count": null,
   "id": "1e263e13",
   "metadata": {},
   "outputs": [],
   "source": [
    "re.findall(pattern, str(response.content))"
   ]
  }
 ],
 "metadata": {
  "kernelspec": {
   "display_name": "base",
   "language": "python",
   "name": "python3"
  },
  "language_info": {
   "codemirror_mode": {
    "name": "ipython",
    "version": 3
   },
   "file_extension": ".py",
   "mimetype": "text/x-python",
   "name": "python",
   "nbconvert_exporter": "python",
   "pygments_lexer": "ipython3",
   "version": "3.12.4"
  },
  "toc": {
   "base_numbering": 1,
   "nav_menu": {},
   "number_sections": true,
   "sideBar": true,
   "skip_h1_title": false,
   "title_cell": "Table of Contents",
   "title_sidebar": "Contents",
   "toc_cell": true,
   "toc_position": {},
   "toc_section_display": true,
   "toc_window_display": false
  }
 },
 "nbformat": 4,
 "nbformat_minor": 5
}
