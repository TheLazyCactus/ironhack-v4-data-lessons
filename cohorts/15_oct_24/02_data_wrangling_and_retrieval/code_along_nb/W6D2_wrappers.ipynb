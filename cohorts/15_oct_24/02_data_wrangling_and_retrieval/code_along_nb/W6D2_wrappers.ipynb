{
 "cells": [
  {
   "cell_type": "code",
   "execution_count": null,
   "metadata": {
    "colab": {
     "base_uri": "https://localhost:8080/"
    },
    "executionInfo": {
     "elapsed": 6992,
     "status": "ok",
     "timestamp": 1717519370720,
     "user": {
      "displayName": "David Henriques",
      "userId": "12666549553310163307"
     },
     "user_tz": -60
    },
    "id": "SRlgoQe5jRRc",
    "outputId": "a2992f0d-4de9-4953-bcc9-0184a2f2dabb"
   },
   "outputs": [],
   "source": [
    "!pip install --upgrade gspread"
   ]
  },
  {
   "cell_type": "code",
   "execution_count": null,
   "metadata": {
    "id": "lf8PQQN5tbxe"
   },
   "outputs": [],
   "source": [
    "# go to https://console.developers.google.com/\n",
    "# click \"Create project\" (top right)\n",
    "# click \"enable APIS and Services\" (top center)\n",
    "# Enable the Google Sheets API for your project (select the Google Sheets option), then click \"Enable\"\n",
    "# APIS & SERVICES (left) -> Credentials ->\n",
    "# Create Credentials (Top) -> API key\n",
    "# Create Credentials (Top) -> Service account -> name your service account -> create and continue -> Role = Owner -> Done\n",
    "# Select service account -> Keys (Top center) -> Add key -> Create new key -> Download JSON\n",
    "\n",
    "# share the sheet with the service account and all users"
   ]
  },
  {
   "cell_type": "code",
   "execution_count": null,
   "metadata": {
    "id": "ynRmA84zkIOk"
   },
   "outputs": [],
   "source": [
    "import requests\n",
    "import gspread\n",
    "import json\n",
    "import pandas as pd"
   ]
  },
  {
   "cell_type": "code",
   "execution_count": null,
   "metadata": {
    "colab": {
     "base_uri": "https://localhost:8080/"
    },
    "executionInfo": {
     "elapsed": 12235,
     "status": "ok",
     "timestamp": 1717520046532,
     "user": {
      "displayName": "David Henriques",
      "userId": "12666549553310163307"
     },
     "user_tz": -60
    },
    "id": "AElt1ikEZoKN",
    "outputId": "3627c0c1-6f4e-409a-86fd-d4182fd71d31"
   },
   "outputs": [],
   "source": [
    "spreadsheet_id = input('write your spreadsheet id: ')"
   ]
  },
  {
   "cell_type": "code",
   "execution_count": null,
   "metadata": {
    "colab": {
     "base_uri": "https://localhost:8080/",
     "height": 35
    },
    "executionInfo": {
     "elapsed": 399,
     "status": "ok",
     "timestamp": 1717520060929,
     "user": {
      "displayName": "David Henriques",
      "userId": "12666549553310163307"
     },
     "user_tz": -60
    },
    "id": "gQ2QkSDiZ1zV",
    "outputId": "b3f5685c-ade7-46bf-fd41-7a09590c13e2"
   },
   "outputs": [],
   "source": [
    "# check spreadsheet_id"
   ]
  },
  {
   "cell_type": "code",
   "execution_count": null,
   "metadata": {
    "id": "lOv5uBUctrWO"
   },
   "outputs": [],
   "source": [
    "range_name = 'Sheet1!A2:A2'\n",
    "url = 'https://sheets.googleapis.com/v4/spreadsheets/'+spreadsheet_id+'/values/'+range_name"
   ]
  },
  {
   "cell_type": "code",
   "execution_count": null,
   "metadata": {
    "colab": {
     "base_uri": "https://localhost:8080/"
    },
    "executionInfo": {
     "elapsed": 1823,
     "status": "ok",
     "timestamp": 1717520226604,
     "user": {
      "displayName": "David Henriques",
      "userId": "12666549553310163307"
     },
     "user_tz": -60
    },
    "id": "3KNglPTBtsPk",
    "outputId": "f70ded59-91a2-49a2-d6ee-b06593b7f06e"
   },
   "outputs": [],
   "source": [
    "# request method\n",
    "response = requests.get(url)\n",
    "response.json()"
   ]
  },
  {
   "cell_type": "markdown",
   "metadata": {
    "id": "IA8grcETtdny"
   },
   "source": [
    "Handling secrets: secrets files, .gitignore and other prod tricks"
   ]
  },
  {
   "cell_type": "code",
   "execution_count": null,
   "metadata": {
    "id": "cSd4NDNrcojb"
   },
   "outputs": [],
   "source": [
    "credentials_file = 'spreadsheet_secrets.txt'\n",
    "handler = open(credentials_file, 'r')\n",
    "lines = handler.readlines()\n",
    "handler.close()"
   ]
  },
  {
   "cell_type": "code",
   "execution_count": null,
   "metadata": {
    "id": "I_7kLlj6dD1j"
   },
   "outputs": [],
   "source": [
    "API_key = lines[0]\n",
    "params = {\n",
    "   'key': API_key\n",
    "}\n",
    "headers = {\n",
    "   'Content-Type': 'application/json'\n",
    "}"
   ]
  },
  {
   "cell_type": "code",
   "execution_count": null,
   "metadata": {
    "id": "JerVKh50ko-O"
   },
   "outputs": [],
   "source": [
    "response = requests.get(url, headers=headers, params=params)"
   ]
  },
  {
   "cell_type": "code",
   "execution_count": null,
   "metadata": {
    "colab": {
     "base_uri": "https://localhost:8080/"
    },
    "executionInfo": {
     "elapsed": 4,
     "status": "ok",
     "timestamp": 1717521640853,
     "user": {
      "displayName": "David Henriques",
      "userId": "12666549553310163307"
     },
     "user_tz": -60
    },
    "id": "6wKRpRngkpA4",
    "outputId": "8b10bff9-f3d5-4d1a-ad1e-1be312f3fd2f"
   },
   "outputs": [],
   "source": [
    "response.json()"
   ]
  },
  {
   "cell_type": "code",
   "execution_count": null,
   "metadata": {
    "id": "RnG4agm6TZuW"
   },
   "outputs": [],
   "source": [
    "json_credentials_path = 'ironhackapiwrappersclass-133f259abbb8.json'"
   ]
  },
  {
   "cell_type": "markdown",
   "metadata": {
    "id": "1PD__W3TNmpN"
   },
   "source": [
    "This is *not* how we would typically handle a request in production, for that we would use an more advanced authentication method, such as OAuth, which essentially generates Authentication keys with a timeout. However that is kind of a bother to handle, requiring even a call to *another* API to generate the keys"
   ]
  },
  {
   "cell_type": "code",
   "execution_count": null,
   "metadata": {
    "id": "CiBRCmLoTVkG"
   },
   "outputs": [],
   "source": [
    "with open(json_credentials_path) as json_file:\n",
    "        credentials_data = json.load(json_file)\n",
    "#credentials_data"
   ]
  },
  {
   "cell_type": "code",
   "execution_count": null,
   "metadata": {
    "id": "pOb0SzJ2Oqdg"
   },
   "outputs": [],
   "source": [
    "# Example, this is how you would generate a temporary access token...\n",
    "# import requests\n",
    "# import json\n",
    "# from google.auth import crypt\n",
    "# from google.auth import jwt\n",
    "\n",
    "# def get_access_token(json_credentials_path):\n",
    "#     url = 'https://oauth2.googleapis.com/token'\n",
    "#     headers = {'Content-Type': 'application/x-www-form-urlencoded'}\n",
    "#     data = {'grant_type': 'urn:ietf:params:oauth:grant-type:jwt-bearer','assertion': create_assertion(json_credentials_path)}\n",
    "#     response = requests.post(url, headers=headers, data=data)\n",
    "#     return response.json().get('access_token')\n",
    "\n",
    "# def create_assertion(json_credentials_path):\n",
    "#     with open(json_credentials_path) as json_file:\n",
    "#         credentials_data = json.load(json_file)\n",
    "#     credentials = jwt.Credentials.from_service_account_info(credentials_data,audience=\"https://sheets.googleapis.com/\")\n",
    "#     return credentials.signer.sign(b'')\n",
    "\n",
    "# json_credentials_path = 'ironhackapiwrappersclass-133f259abbb8.json'\n",
    "# access_token = get_access_token(json_credentials_path)"
   ]
  },
  {
   "cell_type": "markdown",
   "metadata": {
    "id": "TDXSbnT7Ts41"
   },
   "source": [
    "And then this access token times out after a few minutes and a new one has to be generated. It is a bother and we instead usually use a wrapper..."
   ]
  },
  {
   "cell_type": "markdown",
   "metadata": {
    "id": "0zMCl_fAGayh"
   },
   "source": [
    "A wrapper handles the basic requests of an API in ways that are more functionally meaningful.\n",
    "\n",
    "An API Wrapper can be used to add functionality that the API might not have itself, for example, by making one or more requests and templating the resulting (usually JSON) responses into a useful data structure appropriate for the language you are using (say a pandas dataframe, for example).\n",
    "\n",
    "Another reason wrappers are used is to make it easier to use an API. Handling authentication, parameters, batching requests and generally abstracting away background admin we don't usually care so much about functionally."
   ]
  },
  {
   "cell_type": "code",
   "execution_count": null,
   "metadata": {
    "id": "QP7G0kMVr04c"
   },
   "outputs": [],
   "source": [
    "gc = gspread.service_account(filename=json_credentials_path)"
   ]
  },
  {
   "cell_type": "code",
   "execution_count": null,
   "metadata": {
    "id": "aVxtdTuqlKMo"
   },
   "outputs": [],
   "source": [
    "sheet = gc.open_by_key(spreadsheet_id)"
   ]
  },
  {
   "cell_type": "code",
   "execution_count": null,
   "metadata": {
    "id": "Yh27BMpZTUJh"
   },
   "outputs": [],
   "source": [
    "worksheet = sheet.get_worksheet(0)"
   ]
  },
  {
   "cell_type": "code",
   "execution_count": null,
   "metadata": {
    "colab": {
     "base_uri": "https://localhost:8080/"
    },
    "executionInfo": {
     "elapsed": 2,
     "status": "ok",
     "timestamp": 1717522325831,
     "user": {
      "displayName": "David Henriques",
      "userId": "12666549553310163307"
     },
     "user_tz": -60
    },
    "id": "osOTklifqCH1",
    "outputId": "d8e79c50-7231-47cd-f19d-aa8f2f076323"
   },
   "outputs": [],
   "source": [
    "worksheet"
   ]
  },
  {
   "cell_type": "code",
   "execution_count": null,
   "metadata": {
    "colab": {
     "base_uri": "https://localhost:8080/"
    },
    "executionInfo": {
     "elapsed": 869,
     "status": "ok",
     "timestamp": 1717522406955,
     "user": {
      "displayName": "David Henriques",
      "userId": "12666549553310163307"
     },
     "user_tz": -60
    },
    "id": "gTZTBLFLkpHZ",
    "outputId": "f56182c7-0851-492b-f75c-f0da551437ec"
   },
   "outputs": [],
   "source": [
    "# get all values is not available in the original API (where you need to specify the range), but it's a natural call to make\n",
    "worksheet.get_all_values()"
   ]
  },
  {
   "cell_type": "code",
   "execution_count": null,
   "metadata": {
    "colab": {
     "base_uri": "https://localhost:8080/",
     "height": 161
    },
    "executionInfo": {
     "elapsed": 1899,
     "status": "ok",
     "timestamp": 1717522492964,
     "user": {
      "displayName": "David Henriques",
      "userId": "12666549553310163307"
     },
     "user_tz": -60
    },
    "id": "19xNqyODV9U8",
    "outputId": "5a5587fd-da37-4e28-feb2-ea826aca0d22"
   },
   "outputs": [],
   "source": [
    "# or in a different form, which may be more helpful, but would not be available natively\n",
    "print(worksheet.get_all_records())\n",
    "pd.DataFrame(worksheet.get_all_records())"
   ]
  },
  {
   "cell_type": "code",
   "execution_count": null,
   "metadata": {
    "colab": {
     "base_uri": "https://localhost:8080/"
    },
    "executionInfo": {
     "elapsed": 1000,
     "status": "ok",
     "timestamp": 1717522531485,
     "user": {
      "displayName": "David Henriques",
      "userId": "12666549553310163307"
     },
     "user_tz": -60
    },
    "id": "3oCDBlz0Wu6e",
    "outputId": "2d1dfd06-2b75-4b45-bcf2-6b7c209ace50"
   },
   "outputs": [],
   "source": [
    "# A final example\n",
    "import re\n",
    "worksheet.findall(re.compile('world'))"
   ]
  },
  {
   "cell_type": "code",
   "execution_count": null,
   "metadata": {
    "colab": {
     "base_uri": "https://localhost:8080/"
    },
    "executionInfo": {
     "elapsed": 3451,
     "status": "ok",
     "timestamp": 1717522856814,
     "user": {
      "displayName": "David Henriques",
      "userId": "12666549553310163307"
     },
     "user_tz": -60
    },
    "id": "az2AfDRAvW0C",
    "outputId": "c0aa374b-e50f-40e0-f99a-a4ed5f3fbae1"
   },
   "outputs": [],
   "source": [
    "# As another example, the native API has functions to add a row at once, which would require a loop and multiple requests if we wanted to add a bunch of rows,\n",
    "# But since this a natural action to do with the API\n",
    "\n",
    "# Define the index and number of rows to insert; Also: new way to refer to sheets\n",
    "worksheet = sheet.worksheet(\"Sheet2\")\n",
    "values = [['hello','is','it','me'],['I','live','in','multiple','rows']]\n",
    "\n",
    "# Perform batch insertion\n",
    "worksheet.insert_rows(values, row=2)"
   ]
  },
  {
   "cell_type": "code",
   "execution_count": null,
   "metadata": {
    "id": "xDeZESoLVXio"
   },
   "outputs": [],
   "source": []
  }
 ],
 "metadata": {
  "colab": {
   "provenance": []
  },
  "kernelspec": {
   "display_name": "Python 3",
   "name": "python3"
  },
  "language_info": {
   "name": "python"
  }
 },
 "nbformat": 4,
 "nbformat_minor": 0
}
