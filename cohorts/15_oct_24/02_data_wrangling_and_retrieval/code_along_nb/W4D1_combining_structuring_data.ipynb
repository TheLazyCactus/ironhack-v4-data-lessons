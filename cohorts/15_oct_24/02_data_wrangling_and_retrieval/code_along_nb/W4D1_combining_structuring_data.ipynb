{
 "cells": [
  {
   "cell_type": "markdown",
   "metadata": {
    "id": "ZharljNsul_m",
    "toc": true
   },
   "source": [
    "<h1>Table of Contents<span class=\"tocSkip\"></span></h1>\n",
    "<div class=\"toc\"><ul class=\"toc-item\"><li><span><a href=\"#Data-Transformation:-Combining-and-Structuring-Data\" data-toc-modified-id=\"Data-Transformation:-Combining-and-Structuring-Data-1\"><span class=\"toc-item-num\">1&nbsp;&nbsp;</span>Data Transformation: Combining and Structuring Data</a></span><ul class=\"toc-item\"><li><span><a href=\"#Combining-Data\" data-toc-modified-id=\"Combining-Data-1.1\"><span class=\"toc-item-num\">1.1&nbsp;&nbsp;</span>Combining Data</a></span><ul class=\"toc-item\"><li><span><a href=\"#concat\" data-toc-modified-id=\"concat-1.1.1\"><span class=\"toc-item-num\">1.1.1&nbsp;&nbsp;</span><code>concat</code></a></span><ul class=\"toc-item\"><li><span><a href=\"#axis=0\" data-toc-modified-id=\"axis=0-1.1.1.1\"><span class=\"toc-item-num\">1.1.1.1&nbsp;&nbsp;</span><code>axis=0</code></a></span></li><li><span><a href=\"#axis=1\" data-toc-modified-id=\"axis=1-1.1.1.2\"><span class=\"toc-item-num\">1.1.1.2&nbsp;&nbsp;</span><code>axis=1</code></a></span></li><li><span><a href=\"#join=&quot;inner&quot;\" data-toc-modified-id=\"join=&quot;inner&quot;-1.1.1.3\"><span class=\"toc-item-num\">1.1.1.3&nbsp;&nbsp;</span><code>join=\"inner\"</code></a></span></li></ul></li><li><span><a href=\"#merge\" data-toc-modified-id=\"merge-1.1.2\"><span class=\"toc-item-num\">1.1.2&nbsp;&nbsp;</span><code>merge</code></a></span></li><li><span><a href=\"#join\" data-toc-modified-id=\"join-1.1.3\"><span class=\"toc-item-num\">1.1.3&nbsp;&nbsp;</span><code>join</code></a></span></li><li><span><a href=\"#Summary\" data-toc-modified-id=\"Summary-1.1.4\"><span class=\"toc-item-num\">1.1.4&nbsp;&nbsp;</span>Summary</a></span></li><li><span><a href=\"#💡-Check-for-understanding\" data-toc-modified-id=\"💡-Check-for-understanding-1.1.5\"><span class=\"toc-item-num\">1.1.5&nbsp;&nbsp;</span>💡 Check for understanding</a></span></li></ul></li><li><span><a href=\"#Structuring-Data-with-Pivot,-Stack/Unstack,-and-Melt\" data-toc-modified-id=\"Structuring-Data-with-Pivot,-Stack/Unstack,-and-Melt-1.2\"><span class=\"toc-item-num\">1.2&nbsp;&nbsp;</span>Structuring Data with Pivot, Stack/Unstack, and Melt</a></span><ul class=\"toc-item\"><li><span><a href=\"#Pivot\" data-toc-modified-id=\"Pivot-1.2.1\"><span class=\"toc-item-num\">1.2.1&nbsp;&nbsp;</span>Pivot</a></span></li><li><span><a href=\"#Stack-and-Unstack\" data-toc-modified-id=\"Stack-and-Unstack-1.2.2\"><span class=\"toc-item-num\">1.2.2&nbsp;&nbsp;</span>Stack and Unstack</a></span></li><li><span><a href=\"#Melt\" data-toc-modified-id=\"Melt-1.2.3\"><span class=\"toc-item-num\">1.2.3&nbsp;&nbsp;</span>Melt</a></span></li><li><span><a href=\"#Summary\" data-toc-modified-id=\"Summary-1.2.4\"><span class=\"toc-item-num\">1.2.4&nbsp;&nbsp;</span>Summary</a></span></li><li><span><a href=\"#💡-Check-for-understanding\" data-toc-modified-id=\"💡-Check-for-understanding-1.2.5\"><span class=\"toc-item-num\">1.2.5&nbsp;&nbsp;</span>💡 Check for understanding</a></span></li></ul></li></ul></li></ul></div>"
   ]
  },
  {
   "cell_type": "markdown",
   "metadata": {
    "id": "DELJNOmjul_r"
   },
   "source": [
    "# Data Transformation: Combining and Structuring Data"
   ]
  },
  {
   "cell_type": "markdown",
   "metadata": {
    "id": "CmkUZc6Uul_r"
   },
   "source": [
    "## Combining Data\n",
    "\n",
    "When working with data, you often encounter situations where you need to combine or merge multiple datasets to gain more insights or perform further analysis.\n",
    "\n",
    "Pandas provides functions for [combining different data sets](http://pandas.pydata.org/pandas-docs/stable/merging.html) based on [relational algebra](https://en.wikipedia.org/wiki/Relational_algebra): `join`, `merge` and `concat`."
   ]
  },
  {
   "cell_type": "code",
   "execution_count": 2,
   "metadata": {},
   "outputs": [],
   "source": [
    "import pandas as pd"
   ]
  },
  {
   "cell_type": "code",
   "execution_count": 3,
   "metadata": {},
   "outputs": [
    {
     "data": {
      "text/html": [
       "<div>\n",
       "<style scoped>\n",
       "    .dataframe tbody tr th:only-of-type {\n",
       "        vertical-align: middle;\n",
       "    }\n",
       "\n",
       "    .dataframe tbody tr th {\n",
       "        vertical-align: top;\n",
       "    }\n",
       "\n",
       "    .dataframe thead th {\n",
       "        text-align: right;\n",
       "    }\n",
       "</style>\n",
       "<table border=\"1\" class=\"dataframe\">\n",
       "  <thead>\n",
       "    <tr style=\"text-align: right;\">\n",
       "      <th></th>\n",
       "      <th>Date</th>\n",
       "      <th>Product</th>\n",
       "      <th>Quantity_Sold</th>\n",
       "    </tr>\n",
       "  </thead>\n",
       "  <tbody>\n",
       "    <tr>\n",
       "      <th>0</th>\n",
       "      <td>2023-01-01</td>\n",
       "      <td>A</td>\n",
       "      <td>100</td>\n",
       "    </tr>\n",
       "    <tr>\n",
       "      <th>1</th>\n",
       "      <td>2023-01-02</td>\n",
       "      <td>B</td>\n",
       "      <td>200</td>\n",
       "    </tr>\n",
       "    <tr>\n",
       "      <th>2</th>\n",
       "      <td>2023-01-03</td>\n",
       "      <td>C</td>\n",
       "      <td>150</td>\n",
       "    </tr>\n",
       "    <tr>\n",
       "      <th>3</th>\n",
       "      <td>2023-01-04</td>\n",
       "      <td>D</td>\n",
       "      <td>120</td>\n",
       "    </tr>\n",
       "  </tbody>\n",
       "</table>\n",
       "</div>"
      ],
      "text/plain": [
       "         Date Product  Quantity_Sold\n",
       "0  2023-01-01       A            100\n",
       "1  2023-01-02       B            200\n",
       "2  2023-01-03       C            150\n",
       "3  2023-01-04       D            120"
      ]
     },
     "execution_count": 3,
     "metadata": {},
     "output_type": "execute_result"
    }
   ],
   "source": [
    "# DataFrame 1: Sales information\n",
    "df_sales = pd.DataFrame({\n",
    "    'Date': ['2023-01-01', '2023-01-02', '2023-01-03', '2023-01-04'],\n",
    "    'Product': ['A', 'B', 'C', 'D'],\n",
    "    'Quantity_Sold': [100, 200, 150, 120]\n",
    "})\n",
    "df_sales"
   ]
  },
  {
   "cell_type": "code",
   "execution_count": 4,
   "metadata": {},
   "outputs": [
    {
     "data": {
      "text/html": [
       "<div>\n",
       "<style scoped>\n",
       "    .dataframe tbody tr th:only-of-type {\n",
       "        vertical-align: middle;\n",
       "    }\n",
       "\n",
       "    .dataframe tbody tr th {\n",
       "        vertical-align: top;\n",
       "    }\n",
       "\n",
       "    .dataframe thead th {\n",
       "        text-align: right;\n",
       "    }\n",
       "</style>\n",
       "<table border=\"1\" class=\"dataframe\">\n",
       "  <thead>\n",
       "    <tr style=\"text-align: right;\">\n",
       "      <th></th>\n",
       "      <th>Date</th>\n",
       "      <th>Revenue</th>\n",
       "    </tr>\n",
       "  </thead>\n",
       "  <tbody>\n",
       "    <tr>\n",
       "      <th>0</th>\n",
       "      <td>2023-01-01</td>\n",
       "      <td>1000</td>\n",
       "    </tr>\n",
       "    <tr>\n",
       "      <th>1</th>\n",
       "      <td>2023-01-02</td>\n",
       "      <td>1500</td>\n",
       "    </tr>\n",
       "    <tr>\n",
       "      <th>2</th>\n",
       "      <td>2023-01-03</td>\n",
       "      <td>1200</td>\n",
       "    </tr>\n",
       "    <tr>\n",
       "      <th>3</th>\n",
       "      <td>2023-01-05</td>\n",
       "      <td>800</td>\n",
       "    </tr>\n",
       "  </tbody>\n",
       "</table>\n",
       "</div>"
      ],
      "text/plain": [
       "         Date  Revenue\n",
       "0  2023-01-01     1000\n",
       "1  2023-01-02     1500\n",
       "2  2023-01-03     1200\n",
       "3  2023-01-05      800"
      ]
     },
     "execution_count": 4,
     "metadata": {},
     "output_type": "execute_result"
    }
   ],
   "source": [
    "# DataFrame 2: Revenue information\n",
    "df_revenue = pd.DataFrame({\n",
    "    'Date': ['2023-01-01', '2023-01-02', '2023-01-03', '2023-01-05'],\n",
    "    'Revenue': [1000, 1500, 1200, 800]\n",
    "})\n",
    "df_revenue"
   ]
  },
  {
   "cell_type": "code",
   "execution_count": 5,
   "metadata": {},
   "outputs": [
    {
     "data": {
      "text/html": [
       "<div>\n",
       "<style scoped>\n",
       "    .dataframe tbody tr th:only-of-type {\n",
       "        vertical-align: middle;\n",
       "    }\n",
       "\n",
       "    .dataframe tbody tr th {\n",
       "        vertical-align: top;\n",
       "    }\n",
       "\n",
       "    .dataframe thead th {\n",
       "        text-align: right;\n",
       "    }\n",
       "</style>\n",
       "<table border=\"1\" class=\"dataframe\">\n",
       "  <thead>\n",
       "    <tr style=\"text-align: right;\">\n",
       "      <th></th>\n",
       "      <th>Date</th>\n",
       "      <th>Costs</th>\n",
       "    </tr>\n",
       "  </thead>\n",
       "  <tbody>\n",
       "    <tr>\n",
       "      <th>0</th>\n",
       "      <td>2023-01-01</td>\n",
       "      <td>500</td>\n",
       "    </tr>\n",
       "    <tr>\n",
       "      <th>1</th>\n",
       "      <td>2023-01-03</td>\n",
       "      <td>700</td>\n",
       "    </tr>\n",
       "    <tr>\n",
       "      <th>2</th>\n",
       "      <td>2023-01-04</td>\n",
       "      <td>600</td>\n",
       "    </tr>\n",
       "    <tr>\n",
       "      <th>3</th>\n",
       "      <td>2023-01-05</td>\n",
       "      <td>400</td>\n",
       "    </tr>\n",
       "  </tbody>\n",
       "</table>\n",
       "</div>"
      ],
      "text/plain": [
       "         Date  Costs\n",
       "0  2023-01-01    500\n",
       "1  2023-01-03    700\n",
       "2  2023-01-04    600\n",
       "3  2023-01-05    400"
      ]
     },
     "execution_count": 5,
     "metadata": {},
     "output_type": "execute_result"
    }
   ],
   "source": [
    "# DataFrame 3: Costs information\n",
    "df_costs = pd.DataFrame({\n",
    "    'Date': ['2023-01-01', '2023-01-03', '2023-01-04', '2023-01-05'],\n",
    "    'Costs': [500, 700, 600, 400]\n",
    "})\n",
    "df_costs"
   ]
  },
  {
   "cell_type": "code",
   "execution_count": 6,
   "metadata": {},
   "outputs": [
    {
     "data": {
      "text/html": [
       "<div>\n",
       "<style scoped>\n",
       "    .dataframe tbody tr th:only-of-type {\n",
       "        vertical-align: middle;\n",
       "    }\n",
       "\n",
       "    .dataframe tbody tr th {\n",
       "        vertical-align: top;\n",
       "    }\n",
       "\n",
       "    .dataframe thead th {\n",
       "        text-align: right;\n",
       "    }\n",
       "</style>\n",
       "<table border=\"1\" class=\"dataframe\">\n",
       "  <thead>\n",
       "    <tr style=\"text-align: right;\">\n",
       "      <th></th>\n",
       "      <th>Date</th>\n",
       "      <th>Product</th>\n",
       "      <th>Quantity_Sold</th>\n",
       "    </tr>\n",
       "  </thead>\n",
       "  <tbody>\n",
       "    <tr>\n",
       "      <th>0</th>\n",
       "      <td>2023-01-04</td>\n",
       "      <td>A</td>\n",
       "      <td>100</td>\n",
       "    </tr>\n",
       "    <tr>\n",
       "      <th>1</th>\n",
       "      <td>2023-01-05</td>\n",
       "      <td>A</td>\n",
       "      <td>100</td>\n",
       "    </tr>\n",
       "    <tr>\n",
       "      <th>2</th>\n",
       "      <td>2023-01-06</td>\n",
       "      <td>B</td>\n",
       "      <td>200</td>\n",
       "    </tr>\n",
       "    <tr>\n",
       "      <th>3</th>\n",
       "      <td>2023-01-07</td>\n",
       "      <td>C</td>\n",
       "      <td>150</td>\n",
       "    </tr>\n",
       "    <tr>\n",
       "      <th>4</th>\n",
       "      <td>2023-01-08</td>\n",
       "      <td>D</td>\n",
       "      <td>120</td>\n",
       "    </tr>\n",
       "  </tbody>\n",
       "</table>\n",
       "</div>"
      ],
      "text/plain": [
       "         Date Product  Quantity_Sold\n",
       "0  2023-01-04       A            100\n",
       "1  2023-01-05       A            100\n",
       "2  2023-01-06       B            200\n",
       "3  2023-01-07       C            150\n",
       "4  2023-01-08       D            120"
      ]
     },
     "execution_count": 6,
     "metadata": {},
     "output_type": "execute_result"
    }
   ],
   "source": [
    "# DataFrame 1: Sales information next 4 months\n",
    "df_sales_2 = pd.DataFrame({\n",
    "    'Date': ['2023-01-04', '2023-01-05', '2023-01-06', '2023-01-07', '2023-01-08'],\n",
    "    'Product': ['A', 'A', 'B', 'C', 'D'],\n",
    "    'Quantity_Sold': [100, 100, 200, 150, 120]\n",
    "})\n",
    "df_sales_2"
   ]
  },
  {
   "cell_type": "markdown",
   "metadata": {
    "id": "2um5_QD9ul_s"
   },
   "source": [
    "### `concat`\n",
    "\n",
    "- `concat` is usually used when you want to combine two or more DataFrames vertically or horizontally.\n",
    "- It is commonly used when you have data split across multiple files or sources and want to stack them together to create a larger dataset.\n",
    "- Vertical concatenation is used when you want to add more rows to an existing DataFrame.\n",
    "- Horizontal concatenation is used when you want to add more columns to an existing DataFrame.\n",
    "- Example: combining monthly or yearly sales data: Suppose you have sales data for a retail store split across multiple files, where each file contains sales data for a specific month or year. You can use concat to vertically stack these DataFrames and create a single DataFrame containing the complete sales data for all months or years."
   ]
  },
  {
   "cell_type": "markdown",
   "metadata": {
    "id": "u29jqUJ8ul_s"
   },
   "source": [
    "`pd.concat` is used to concatenate multiple DataFrames.\n",
    "- The `axis` parameter determines the axis along which the DataFrames will be stacked. `axis=0` (the default) stacks the DataFrames vertically (along rows), while `axis=1` stacks them horizontally (along columns)."
   ]
  },
  {
   "cell_type": "markdown",
   "metadata": {
    "id": "CM_1JeCEul_s"
   },
   "source": [
    "#### `axis=0`"
   ]
  },
  {
   "cell_type": "code",
   "execution_count": 7,
   "metadata": {
    "id": "161xLJIvul_t"
   },
   "outputs": [],
   "source": [
    "# Concatenate the sales, and sales_2 vertically (along rows)"
   ]
  },
  {
   "cell_type": "code",
   "execution_count": 8,
   "metadata": {
    "id": "HjzEzHDiul_t"
   },
   "outputs": [],
   "source": [
    "# Concatenate the sales, revenue, and costs DataFrames vertically (along rows)"
   ]
  },
  {
   "cell_type": "markdown",
   "metadata": {
    "id": "tKdzgLbAul_t"
   },
   "source": [
    "#### `axis=1`"
   ]
  },
  {
   "cell_type": "code",
   "execution_count": 9,
   "metadata": {
    "id": "3RC7tJecul_t"
   },
   "outputs": [],
   "source": [
    "# Concatenate the sales, revenue, and costs DataFrames horizontally (along columns)"
   ]
  },
  {
   "cell_type": "code",
   "execution_count": 10,
   "metadata": {},
   "outputs": [],
   "source": [
    "# Can see date discrepancy better if we look at sales_2:"
   ]
  },
  {
   "cell_type": "markdown",
   "metadata": {},
   "source": [
    "### Join types\n",
    "\n",
    "Whenever joining 2 tables, we always keep all the columns from both tables.\n",
    "\n",
    "Then, depending on the join type, we will:\n",
    "- **Inner join**: Keep only rows present in both tables\n",
    "- **Outer join**: Keep all rows present in either table\n",
    "- **Left join**: Keep all rows present in left/first table\n",
    "- **Right join**: Keep all rows present in right/second table\n",
    "\n",
    "**Self-join** and **Cross-join** will be discussed during the SQL classes."
   ]
  },
  {
   "cell_type": "markdown",
   "metadata": {},
   "source": [
    "![](https://cdn.educba.com/academy/wp-content/uploads/2019/10/Types-of-Join-inSQL.jpg.webp)  \n",
    "(Source: [Educba.com](https://educba.com))"
   ]
  },
  {
   "cell_type": "markdown",
   "metadata": {},
   "source": [
    "### `merge`"
   ]
  },
  {
   "cell_type": "markdown",
   "metadata": {
    "id": "zNqBZeipul_u"
   },
   "source": [
    "Merge is used to combine DataFrames based on a common column. By default, `merge` performs an *inner join*, where only the matching rows between the DataFrames are included in the result."
   ]
  },
  {
   "cell_type": "code",
   "execution_count": 11,
   "metadata": {
    "id": "zZgz7_gWul_u"
   },
   "outputs": [
    {
     "data": {
      "text/plain": [
       "0    2023-01-01\n",
       "1    2023-01-02\n",
       "2    2023-01-03\n",
       "3    2023-01-05\n",
       "Name: Date, dtype: object"
      ]
     },
     "execution_count": 11,
     "metadata": {},
     "output_type": "execute_result"
    }
   ],
   "source": [
    "df_revenue.Date"
   ]
  },
  {
   "cell_type": "code",
   "execution_count": 12,
   "metadata": {
    "id": "NJQX1e0aul_u"
   },
   "outputs": [],
   "source": [
    "# Merge the sales and revenue DataFrames on the 'Date' column (inner join)\n",
    "# Only rows with a common value in the 'Date' column, present in both DataFrames, are included in the merged result."
   ]
  },
  {
   "cell_type": "markdown",
   "metadata": {
    "id": "ysB5YPxOul_u"
   },
   "source": [
    "If you want to perform an outer join, where all rows from both DataFrames are included, you can use `how='outer'`."
   ]
  },
  {
   "cell_type": "code",
   "execution_count": 13,
   "metadata": {
    "id": "b1wciD4vul_u"
   },
   "outputs": [],
   "source": [
    "# Merge the sales and revenue DataFrames on the 'Date' column (outer join)"
   ]
  },
  {
   "cell_type": "markdown",
   "metadata": {
    "id": "B3aHV0ojul_v"
   },
   "source": [
    "If you want to include all rows from the left DataFrame and only the matching rows from the right DataFrame, you can use `how='left'`."
   ]
  },
  {
   "cell_type": "code",
   "execution_count": 14,
   "metadata": {
    "id": "7aaRNG7sul_v"
   },
   "outputs": [],
   "source": [
    "# Merge the sales and revenue DataFrames on the 'Date' column (left join)"
   ]
  },
  {
   "cell_type": "markdown",
   "metadata": {
    "id": "SaSbSaL9ul_v"
   },
   "source": [
    "Similarly, if you want to include all rows from the right DataFrame and only the matching rows from the left DataFrame, you can use `how='right'`."
   ]
  },
  {
   "cell_type": "code",
   "execution_count": 15,
   "metadata": {
    "id": "W04N0-u5ul_v"
   },
   "outputs": [],
   "source": [
    "# Merge the sales and revenue DataFrames on the 'Date' column (right join)"
   ]
  },
  {
   "cell_type": "markdown",
   "metadata": {
    "id": "gxtToCOzul_v"
   },
   "source": [
    "In these examples, we had the same column ('Date') in both DataFrames, but this is not always the case. To perform such joins, we use the `left_on` and `right_on` parameters."
   ]
  },
  {
   "cell_type": "markdown",
   "metadata": {
    "id": "6hcVA5dQul_v"
   },
   "source": [
    "`df1.merge(df2, left_on='col_1', right_on='col_2', how='inner')`"
   ]
  },
  {
   "cell_type": "code",
   "execution_count": 16,
   "metadata": {},
   "outputs": [],
   "source": [
    "# Merge revenue and sales on Date - default"
   ]
  },
  {
   "cell_type": "code",
   "execution_count": 17,
   "metadata": {},
   "outputs": [
    {
     "data": {
      "text/html": [
       "<div>\n",
       "<style scoped>\n",
       "    .dataframe tbody tr th:only-of-type {\n",
       "        vertical-align: middle;\n",
       "    }\n",
       "\n",
       "    .dataframe tbody tr th {\n",
       "        vertical-align: top;\n",
       "    }\n",
       "\n",
       "    .dataframe thead th {\n",
       "        text-align: right;\n",
       "    }\n",
       "</style>\n",
       "<table border=\"1\" class=\"dataframe\">\n",
       "  <thead>\n",
       "    <tr style=\"text-align: right;\">\n",
       "      <th></th>\n",
       "      <th>Date_1</th>\n",
       "      <th>Revenue</th>\n",
       "    </tr>\n",
       "  </thead>\n",
       "  <tbody>\n",
       "    <tr>\n",
       "      <th>0</th>\n",
       "      <td>2023-01-01</td>\n",
       "      <td>1000</td>\n",
       "    </tr>\n",
       "    <tr>\n",
       "      <th>1</th>\n",
       "      <td>2023-01-02</td>\n",
       "      <td>1500</td>\n",
       "    </tr>\n",
       "    <tr>\n",
       "      <th>2</th>\n",
       "      <td>2023-01-03</td>\n",
       "      <td>1200</td>\n",
       "    </tr>\n",
       "    <tr>\n",
       "      <th>3</th>\n",
       "      <td>2023-01-05</td>\n",
       "      <td>800</td>\n",
       "    </tr>\n",
       "  </tbody>\n",
       "</table>\n",
       "</div>"
      ],
      "text/plain": [
       "       Date_1  Revenue\n",
       "0  2023-01-01     1000\n",
       "1  2023-01-02     1500\n",
       "2  2023-01-03     1200\n",
       "3  2023-01-05      800"
      ]
     },
     "metadata": {},
     "output_type": "display_data"
    },
    {
     "data": {
      "text/html": [
       "<div>\n",
       "<style scoped>\n",
       "    .dataframe tbody tr th:only-of-type {\n",
       "        vertical-align: middle;\n",
       "    }\n",
       "\n",
       "    .dataframe tbody tr th {\n",
       "        vertical-align: top;\n",
       "    }\n",
       "\n",
       "    .dataframe thead th {\n",
       "        text-align: right;\n",
       "    }\n",
       "</style>\n",
       "<table border=\"1\" class=\"dataframe\">\n",
       "  <thead>\n",
       "    <tr style=\"text-align: right;\">\n",
       "      <th></th>\n",
       "      <th>Date_2</th>\n",
       "      <th>Product</th>\n",
       "      <th>Quantity_Sold</th>\n",
       "    </tr>\n",
       "  </thead>\n",
       "  <tbody>\n",
       "    <tr>\n",
       "      <th>0</th>\n",
       "      <td>2023-01-01</td>\n",
       "      <td>A</td>\n",
       "      <td>100</td>\n",
       "    </tr>\n",
       "    <tr>\n",
       "      <th>1</th>\n",
       "      <td>2023-01-02</td>\n",
       "      <td>B</td>\n",
       "      <td>200</td>\n",
       "    </tr>\n",
       "    <tr>\n",
       "      <th>2</th>\n",
       "      <td>2023-01-03</td>\n",
       "      <td>C</td>\n",
       "      <td>150</td>\n",
       "    </tr>\n",
       "    <tr>\n",
       "      <th>3</th>\n",
       "      <td>2023-01-04</td>\n",
       "      <td>D</td>\n",
       "      <td>120</td>\n",
       "    </tr>\n",
       "  </tbody>\n",
       "</table>\n",
       "</div>"
      ],
      "text/plain": [
       "       Date_2 Product  Quantity_Sold\n",
       "0  2023-01-01       A            100\n",
       "1  2023-01-02       B            200\n",
       "2  2023-01-03       C            150\n",
       "3  2023-01-04       D            120"
      ]
     },
     "metadata": {},
     "output_type": "display_data"
    }
   ],
   "source": [
    "# Rename date columns\n",
    "df_revenue.rename({'Date': 'Date_1'}, axis=1, inplace=True)\n",
    "df_sales.rename({'Date': 'Date_2'}, axis=1, inplace=True)\n",
    "\n",
    "display(df_revenue)\n",
    "display(df_sales)"
   ]
  },
  {
   "cell_type": "code",
   "execution_count": 18,
   "metadata": {},
   "outputs": [],
   "source": [
    "# Illustrate merge with different column names"
   ]
  },
  {
   "cell_type": "markdown",
   "metadata": {
    "id": "N3RRjWltul_v"
   },
   "source": [
    "### `join`"
   ]
  },
  {
   "cell_type": "markdown",
   "metadata": {
    "id": "nGSmpslaul_v"
   },
   "source": [
    "`join()` works similarly to `merge()`. It is also used to combine DataFrames. However, there are some differences between the two:\n",
    "\n",
    "1. **Method of Combination:**\n",
    "   - `join()`: Combines DataFrames **based on their indexes**. It uses the index as the key to align the rows.\n",
    "   - `merge()`: Combines DataFrames **based on the values in specified columns**. It can use one or more columns as the keys to align the rows.\n",
    "\n",
    "2. **Default Behavior:**\n",
    "   - `join()`: By default, performs a left join, keeping all rows from the left DataFrame and filling missing values with NaN from the right DataFrame.\n",
    "   - `merge()`: By default, performs an inner join, keeping only the rows with matching values in both DataFrames.\n",
    "\n"
   ]
  },
  {
   "cell_type": "markdown",
   "metadata": {
    "id": "C_RRsYbYul_v"
   },
   "source": [
    "First, we set the 'Date' column as the index for all three DataFrames, as follows:"
   ]
  },
  {
   "cell_type": "code",
   "execution_count": 19,
   "metadata": {
    "id": "qc_Svgaiul_v"
   },
   "outputs": [],
   "source": [
    "# Set index for dfs"
   ]
  },
  {
   "cell_type": "markdown",
   "metadata": {
    "id": "p-67XB_gul_w"
   },
   "source": [
    "Next, we use the `join()` method on `df_sales` to merge it with `df_revenue` and `df_costs`. By default, `join()` uses the 'Date' column as the key to merge the DataFrames.\n",
    "\n",
    "The resulting df_combined DataFrame will contain all rows from df_sales along with corresponding revenue and costs information, where available. If there is no data for a specific date in either df_revenue or df_costs, the corresponding values will be filled with NaN."
   ]
  },
  {
   "cell_type": "code",
   "execution_count": 20,
   "metadata": {
    "id": "Zl5wUEzhul_w"
   },
   "outputs": [],
   "source": [
    "# By default is a Left Join: Keep all rows from the left DataFrame and fill missing values with NaN from the right DataFrame.\n",
    "# Join all dfs "
   ]
  },
  {
   "cell_type": "code",
   "execution_count": 21,
   "metadata": {
    "id": "cIui12A3ul_w"
   },
   "outputs": [],
   "source": [
    "# Inner Join: Only include rows with matching 'Date' values in both DataFrames."
   ]
  },
  {
   "cell_type": "code",
   "execution_count": 22,
   "metadata": {
    "id": "BceBVKW_ul_w"
   },
   "outputs": [],
   "source": [
    "# Outer Join: Include all rows from both DataFrames and fill missing values with NaN where data is not available."
   ]
  },
  {
   "cell_type": "markdown",
   "metadata": {
    "id": "uWmYZpkaul_w"
   },
   "source": [
    "### Summary\n",
    "\n",
    "- `concat` is used to combine two or more DataFrames vertically or horizontally. It's often used when data is split across multiple files and you want to create a larger dataset.\n",
    "  - Vertical concatenation adds more rows to a DataFrame.\n",
    "  - Horizontal concatenation adds more columns to a DataFrame.\n",
    "  - `pd.concat` is used with the `axis` parameter determining the axis along which the DataFrames will be stacked (`axis=0` for rows and `axis=1` for columns).\n",
    "  - The `join` parameter determines how to handle overlapping columns during concatenation. `join='outer'` includes all columns and fills missing values with NaN, while `join='inner'` includes only overlapping columns.\n",
    "- `merge` is used to combine DataFrames based on a common column.\n",
    "  - By default, `merge` performs an inner join, including only the matching rows between the DataFrames.\n",
    "  - `how='outer'` performs an outer join, including all rows from both DataFrames.\n",
    "  - `how='left'` performs a left join, including all rows from the left DataFrame and only matching rows from the right.\n",
    "  - `how='right'` performs a right join, including all rows from the right DataFrame and only matching rows from the left.\n",
    "  - If the columns to join on don't have the same name, `left_on` and `right_on` parameters are used.\n",
    "- `join` is used to combine DataFrames based on their indexes.\n",
    "  - By default, `join` performs a left join.\n",
    "  - The DataFrame's index can be set using `set_index` and then `join` can be used to merge on this index.\n",
    "  - Different types of joins (inner, outer) can be performed using the `how` parameter in the `join` function."
   ]
  },
  {
   "cell_type": "markdown",
   "metadata": {
    "id": "T83qToc9ul_w"
   },
   "source": [
    "### 💡 Check for understanding"
   ]
  },
  {
   "cell_type": "code",
   "execution_count": 23,
   "metadata": {
    "id": "O5UGyOrdul_w"
   },
   "outputs": [],
   "source": [
    "import pandas as pd\n",
    "\n",
    "# Dataset 1: Student information\n",
    "df_students = pd.DataFrame({\n",
    "    'StudentID': ['S1', 'S2', 'S3', 'S4'],\n",
    "    'Name': ['Alice', 'Bob', 'Charlie', 'Dave'],\n",
    "    'Major': ['Physics', 'Mathematics', 'Chemistry', 'Biology']\n",
    "})\n",
    "\n",
    "# Create df_students_2 DataFrame\n",
    "df_students_2 = pd.DataFrame({\n",
    "    'StudentID': ['S5', 'S6'],\n",
    "    'Name': ['Eve', 'Frank'],\n",
    "    'Major': ['English', 'Computer Science']\n",
    "})\n",
    "\n",
    "# Dataset 2: Course enrollment information\n",
    "df_courses = pd.DataFrame({\n",
    "    'StudentID': ['S1', 'S2', 'S3', 'S5'],\n",
    "    'Course': ['Physics 101', 'Mathematics 101', 'Chemistry 101', 'Biology 101']\n",
    "})\n",
    "\n",
    "# Dataset 3: Student grades\n",
    "df_grades = pd.DataFrame({\n",
    "    'StudentID': ['S1', 'S3', 'S4', 'S6'],\n",
    "    'Grade': ['A', 'B', 'A', 'C']\n",
    "})"
   ]
  },
  {
   "cell_type": "markdown",
   "metadata": {
    "id": "hS1wNzchul_x"
   },
   "source": [
    "1. Create a new DataFrame that contains the information from both `df_students` and `df_students_2`.\n",
    "\n",
    "2. Merge `df_students` and `df_courses` on the 'StudentID' column. Try all four types of merges (inner, outer, left, and right) and observe the differences.\n",
    "\n",
    "3. Set 'StudentID' as the index for `df_students`, `df_courses`, and `df_grades`. Then use `df_students.join` to combine all three datasets. Try different types of joins (inner, outer) and observe the differences."
   ]
  },
  {
   "cell_type": "code",
   "execution_count": 24,
   "metadata": {},
   "outputs": [],
   "source": [
    "# Your answer goes here"
   ]
  },
  {
   "cell_type": "markdown",
   "metadata": {
    "id": "XRSh6LOHul_y"
   },
   "source": [
    "## Structuring Data with Pivot, Stack/Unstack, and Melt"
   ]
  },
  {
   "cell_type": "markdown",
   "metadata": {
    "id": "a-3XT1zzul_y"
   },
   "source": [
    "These methods are useful for restructuring, aggregating, and reshaping data to better analyze and visualize it."
   ]
  },
  {
   "cell_type": "markdown",
   "metadata": {
    "id": "UVAvZBmTul_y"
   },
   "source": [
    "### Pivot"
   ]
  },
  {
   "cell_type": "markdown",
   "metadata": {
    "id": "O0x1eXt_ul_y"
   },
   "source": [
    "- Pivot is used to create a new derived table from another one.\n",
    "- Allows us to reshape a DataFrame based on column values.\n",
    "- Converts unique values from one column into multiple columns."
   ]
  },
  {
   "cell_type": "markdown",
   "metadata": {
    "id": "USHSpFV_ul_y"
   },
   "source": [
    "![](https://github.com/data-bootcamp-v4/lessons/blob/main/img/pivot.png?raw=true)"
   ]
  },
  {
   "cell_type": "code",
   "execution_count": 25,
   "metadata": {
    "id": "t-eYQaNnul_y"
   },
   "outputs": [],
   "source": [
    "import pandas as pd\n",
    "\n",
    "# Load world population dataset from an online source\n",
    "url = 'https://raw.githubusercontent.com/data-bootcamp-v4/data/main/worldstats.csv'\n",
    "df = pd.read_csv(url)"
   ]
  },
  {
   "cell_type": "code",
   "execution_count": 26,
   "metadata": {
    "id": "K81upZ8_ul_y"
   },
   "outputs": [
    {
     "data": {
      "text/html": [
       "<div>\n",
       "<style scoped>\n",
       "    .dataframe tbody tr th:only-of-type {\n",
       "        vertical-align: middle;\n",
       "    }\n",
       "\n",
       "    .dataframe tbody tr th {\n",
       "        vertical-align: top;\n",
       "    }\n",
       "\n",
       "    .dataframe thead th {\n",
       "        text-align: right;\n",
       "    }\n",
       "</style>\n",
       "<table border=\"1\" class=\"dataframe\">\n",
       "  <thead>\n",
       "    <tr style=\"text-align: right;\">\n",
       "      <th></th>\n",
       "      <th>country</th>\n",
       "      <th>year</th>\n",
       "      <th>Population</th>\n",
       "      <th>GDP</th>\n",
       "    </tr>\n",
       "  </thead>\n",
       "  <tbody>\n",
       "    <tr>\n",
       "      <th>0</th>\n",
       "      <td>Arab World</td>\n",
       "      <td>2015</td>\n",
       "      <td>392022276.0</td>\n",
       "      <td>2.530102e+12</td>\n",
       "    </tr>\n",
       "    <tr>\n",
       "      <th>1</th>\n",
       "      <td>Arab World</td>\n",
       "      <td>2014</td>\n",
       "      <td>384222592.0</td>\n",
       "      <td>2.873600e+12</td>\n",
       "    </tr>\n",
       "    <tr>\n",
       "      <th>2</th>\n",
       "      <td>Arab World</td>\n",
       "      <td>2013</td>\n",
       "      <td>376504253.0</td>\n",
       "      <td>2.846994e+12</td>\n",
       "    </tr>\n",
       "    <tr>\n",
       "      <th>3</th>\n",
       "      <td>Arab World</td>\n",
       "      <td>2012</td>\n",
       "      <td>368802611.0</td>\n",
       "      <td>2.773270e+12</td>\n",
       "    </tr>\n",
       "    <tr>\n",
       "      <th>4</th>\n",
       "      <td>Arab World</td>\n",
       "      <td>2011</td>\n",
       "      <td>361031820.0</td>\n",
       "      <td>2.497945e+12</td>\n",
       "    </tr>\n",
       "    <tr>\n",
       "      <th>5</th>\n",
       "      <td>Arab World</td>\n",
       "      <td>2010</td>\n",
       "      <td>353112237.0</td>\n",
       "      <td>2.103825e+12</td>\n",
       "    </tr>\n",
       "    <tr>\n",
       "      <th>6</th>\n",
       "      <td>Arab World</td>\n",
       "      <td>2009</td>\n",
       "      <td>345054176.0</td>\n",
       "      <td>1.798878e+12</td>\n",
       "    </tr>\n",
       "    <tr>\n",
       "      <th>7</th>\n",
       "      <td>Arab World</td>\n",
       "      <td>2008</td>\n",
       "      <td>336886468.0</td>\n",
       "      <td>2.081343e+12</td>\n",
       "    </tr>\n",
       "    <tr>\n",
       "      <th>8</th>\n",
       "      <td>Arab World</td>\n",
       "      <td>2007</td>\n",
       "      <td>328766559.0</td>\n",
       "      <td>1.641666e+12</td>\n",
       "    </tr>\n",
       "    <tr>\n",
       "      <th>9</th>\n",
       "      <td>Arab World</td>\n",
       "      <td>2006</td>\n",
       "      <td>320906736.0</td>\n",
       "      <td>1.404190e+12</td>\n",
       "    </tr>\n",
       "  </tbody>\n",
       "</table>\n",
       "</div>"
      ],
      "text/plain": [
       "      country  year   Population           GDP\n",
       "0  Arab World  2015  392022276.0  2.530102e+12\n",
       "1  Arab World  2014  384222592.0  2.873600e+12\n",
       "2  Arab World  2013  376504253.0  2.846994e+12\n",
       "3  Arab World  2012  368802611.0  2.773270e+12\n",
       "4  Arab World  2011  361031820.0  2.497945e+12\n",
       "5  Arab World  2010  353112237.0  2.103825e+12\n",
       "6  Arab World  2009  345054176.0  1.798878e+12\n",
       "7  Arab World  2008  336886468.0  2.081343e+12\n",
       "8  Arab World  2007  328766559.0  1.641666e+12\n",
       "9  Arab World  2006  320906736.0  1.404190e+12"
      ]
     },
     "execution_count": 26,
     "metadata": {},
     "output_type": "execute_result"
    }
   ],
   "source": [
    "df.head(10)"
   ]
  },
  {
   "cell_type": "code",
   "execution_count": 27,
   "metadata": {},
   "outputs": [
    {
     "data": {
      "text/html": [
       "<div>\n",
       "<style scoped>\n",
       "    .dataframe tbody tr th:only-of-type {\n",
       "        vertical-align: middle;\n",
       "    }\n",
       "\n",
       "    .dataframe tbody tr th {\n",
       "        vertical-align: top;\n",
       "    }\n",
       "\n",
       "    .dataframe thead th {\n",
       "        text-align: right;\n",
       "    }\n",
       "</style>\n",
       "<table border=\"1\" class=\"dataframe\">\n",
       "  <thead>\n",
       "    <tr style=\"text-align: right;\">\n",
       "      <th></th>\n",
       "      <th>country</th>\n",
       "      <th>year</th>\n",
       "      <th>Population</th>\n",
       "      <th>GDP</th>\n",
       "    </tr>\n",
       "  </thead>\n",
       "  <tbody>\n",
       "    <tr>\n",
       "      <th>0</th>\n",
       "      <td>Arab World</td>\n",
       "      <td>2015</td>\n",
       "      <td>392,022,276.0</td>\n",
       "      <td>2,530,101,503,617.0</td>\n",
       "    </tr>\n",
       "    <tr>\n",
       "      <th>1</th>\n",
       "      <td>Arab World</td>\n",
       "      <td>2014</td>\n",
       "      <td>384,222,592.0</td>\n",
       "      <td>2,873,599,811,404.6</td>\n",
       "    </tr>\n",
       "    <tr>\n",
       "      <th>2</th>\n",
       "      <td>Arab World</td>\n",
       "      <td>2013</td>\n",
       "      <td>376,504,253.0</td>\n",
       "      <td>2,846,994,251,978.4</td>\n",
       "    </tr>\n",
       "    <tr>\n",
       "      <th>3</th>\n",
       "      <td>Arab World</td>\n",
       "      <td>2012</td>\n",
       "      <td>368,802,611.0</td>\n",
       "      <td>2,773,269,952,553.3</td>\n",
       "    </tr>\n",
       "    <tr>\n",
       "      <th>4</th>\n",
       "      <td>Arab World</td>\n",
       "      <td>2011</td>\n",
       "      <td>361,031,820.0</td>\n",
       "      <td>2,497,944,765,462.0</td>\n",
       "    </tr>\n",
       "  </tbody>\n",
       "</table>\n",
       "</div>"
      ],
      "text/plain": [
       "      country  year    Population                 GDP\n",
       "0  Arab World  2015 392,022,276.0 2,530,101,503,617.0\n",
       "1  Arab World  2014 384,222,592.0 2,873,599,811,404.6\n",
       "2  Arab World  2013 376,504,253.0 2,846,994,251,978.4\n",
       "3  Arab World  2012 368,802,611.0 2,773,269,952,553.3\n",
       "4  Arab World  2011 361,031,820.0 2,497,944,765,462.0"
      ]
     },
     "execution_count": 27,
     "metadata": {},
     "output_type": "execute_result"
    }
   ],
   "source": [
    "# Format pandas to not see scientific notation \n",
    "pd.options.display.float_format = '{:,.1f}'.format\n",
    "df.head()"
   ]
  },
  {
   "cell_type": "code",
   "execution_count": null,
   "metadata": {
    "id": "k9DBiPgdul_z"
   },
   "outputs": [],
   "source": [
    "# Pivot the DataFrame to see the GDP based on the country and year"
   ]
  },
  {
   "cell_type": "markdown",
   "metadata": {
    "id": "Fns9j8Sjul_0"
   },
   "source": [
    "### Stack and Unstack"
   ]
  },
  {
   "cell_type": "markdown",
   "metadata": {
    "id": "uKqDsu7rul_0"
   },
   "source": [
    "In pandas, `stack()` and `unstack()` are two methods used to transform data between \"wide\" and \"long\" formats in a DataFrame.\n",
    "\n",
    "- `stack()`: This method \"stacks\" the data, converting the **columns into rows**, and results in a multi-level index. It is useful when you have a DataFrame with multiple columns representing similar data, and you want to combine them into a single column.\n",
    "\n",
    "- `unstack()`: This method does the opposite of `stack()`. It \"unstacks\" the data, converting the **index back into columns**, and results in a more \"wide\" format. It is useful when you have a DataFrame with multi-level index and you want to separate the levels into separate columns.\n"
   ]
  },
  {
   "cell_type": "markdown",
   "metadata": {
    "id": "a5IOK8c0ul_0"
   },
   "source": [
    "![](https://github.com/data-bootcamp-v4/lessons/blob/main/img/stack.png?raw=true)"
   ]
  },
  {
   "cell_type": "code",
   "execution_count": null,
   "metadata": {},
   "outputs": [],
   "source": [
    "# Stack the DataFrame to convert columns into rows and create a Series"
   ]
  },
  {
   "cell_type": "code",
   "execution_count": null,
   "metadata": {
    "id": "rxe3gjk5ul_0"
   },
   "outputs": [],
   "source": [
    "# Create a multi-index DataFrame to help the stacking make more sense"
   ]
  },
  {
   "cell_type": "code",
   "execution_count": null,
   "metadata": {
    "id": "8OlhxWNeul_0"
   },
   "outputs": [],
   "source": [
    "# Stack the new DataFrame"
   ]
  },
  {
   "cell_type": "code",
   "execution_count": null,
   "metadata": {},
   "outputs": [],
   "source": [
    "# Unstack full df"
   ]
  },
  {
   "cell_type": "code",
   "execution_count": null,
   "metadata": {
    "id": "JyDXPEaLul_0"
   },
   "outputs": [],
   "source": [
    "# Unstack only the year"
   ]
  },
  {
   "cell_type": "markdown",
   "metadata": {
    "id": "HvJFWc9Hul_1"
   },
   "source": [
    "### Melt"
   ]
  },
  {
   "cell_type": "markdown",
   "metadata": {
    "id": "4sctzSq1ul_1"
   },
   "source": [
    "The `melt()` function in pandas is used to transform a DataFrame from a **wide format to a long format**, which is often more suitable for certain data analysis tasks. In the wide format, each row represents a unique observation, and each column represents a different variable. However, in the long format, multiple rows may represent the same observation, and a new column is introduced to distinguish between the different variables."
   ]
  },
  {
   "cell_type": "markdown",
   "metadata": {
    "id": "P0BF5UUMul_1"
   },
   "source": [
    "![](https://github.com/data-bootcamp-v4/lessons/blob/main/img/melt.png?raw=true)"
   ]
  },
  {
   "cell_type": "code",
   "execution_count": null,
   "metadata": {
    "id": "WMVHDgIYul_1"
   },
   "outputs": [],
   "source": [
    "# Melt is stack's cool cousin, that has more control over what columns are transformed"
   ]
  },
  {
   "cell_type": "markdown",
   "metadata": {
    "id": "RE9YvEe6ul_1"
   },
   "source": [
    "### Summary"
   ]
  },
  {
   "cell_type": "markdown",
   "metadata": {
    "id": "7yERr76hul_1"
   },
   "source": [
    "- `pivot` is used to create a new derived table from an existing one by reshaping a DataFrame based on column values and converting unique values from one column into multiple columns.\n",
    "- `stack` and `unstack` are used to transform data between \"wide\" and \"long\" formats.\n",
    "  - `stack` converts columns into rows, leading to a multi-level index. It's useful when multiple columns represent similar data that you want to combine into a single column.\n",
    "  - `unstack` does the opposite of `stack`, converting the index back into columns and leading to a more \"wide\" format. It's useful when a DataFrame has a multi-level index that you want to separate into different columns.\n",
    "- `melt` transforms a DataFrame from a wide format to a long format. It's useful for certain data analysis tasks where each row represents a unique observation in the wide format, but in the long format, multiple rows represent the same observation, and a new column is introduced to distinguish between different variables."
   ]
  },
  {
   "cell_type": "markdown",
   "metadata": {
    "id": "XG913Gotul_1"
   },
   "source": [
    "### 💡 Check for understanding"
   ]
  },
  {
   "cell_type": "markdown",
   "metadata": {
    "id": "k1xgA7hpul_1"
   },
   "source": [
    "You are given a DataFrame with sales data for a company. The DataFrame contains information about the sales of various products in different regions. Create a summary of the total sales for each product in each region.\n",
    "\n",
    "\n",
    "Dataset:\n",
    "\n",
    "```python\n",
    "import pandas as pd\n",
    "\n",
    "data = {\n",
    "    'Product': ['A', 'B', 'C', 'A', 'B', 'C', 'A', 'B', 'C'],\n",
    "    'Region': ['North', 'North', 'North', 'South', 'South', 'South', 'East', 'East', 'East'],\n",
    "    'Sales': [100, 150, 200, 120, 180, 240, 80, 110, 160]\n",
    "}\n",
    "\n",
    "df = pd.DataFrame(data)\n",
    "```\n",
    "\n",
    "Expected output:\n",
    "\n",
    "```python\n",
    "Region   East  North  South\n",
    "\n",
    "Product                    \n",
    "\n",
    "A          80    100    120\n",
    "\n",
    "B         110    150    180\n",
    "\n",
    "C         160    200    240\n",
    "```"
   ]
  },
  {
   "cell_type": "code",
   "execution_count": null,
   "metadata": {
    "id": "A7UsQtbOul_1"
   },
   "outputs": [],
   "source": [
    "# Your code here"
   ]
  }
 ],
 "metadata": {
  "colab": {
   "provenance": []
  },
  "kernelspec": {
   "display_name": "base",
   "language": "python",
   "name": "python3"
  },
  "language_info": {
   "codemirror_mode": {
    "name": "ipython",
    "version": 3
   },
   "file_extension": ".py",
   "mimetype": "text/x-python",
   "name": "python",
   "nbconvert_exporter": "python",
   "pygments_lexer": "ipython3",
   "version": "3.9.13"
  },
  "toc": {
   "base_numbering": 1,
   "nav_menu": {},
   "number_sections": true,
   "sideBar": false,
   "skip_h1_title": false,
   "title_cell": "Table of Contents",
   "title_sidebar": "Contents",
   "toc_cell": true,
   "toc_position": {
    "height": "537.273px",
    "left": "304.999px",
    "top": "110.824px",
    "width": "426.996px"
   },
   "toc_section_display": true,
   "toc_window_display": true
  }
 },
 "nbformat": 4,
 "nbformat_minor": 4
}
