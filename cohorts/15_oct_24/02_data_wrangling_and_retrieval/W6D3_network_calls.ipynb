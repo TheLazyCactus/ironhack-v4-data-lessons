{
 "cells": [
  {
   "cell_type": "code",
   "execution_count": null,
   "metadata": {
    "id": "n_gcBt1kuC-X"
   },
   "outputs": [],
   "source": [
    "import requests\n",
    "import pandas as pd"
   ]
  },
  {
   "cell_type": "markdown",
   "metadata": {
    "id": "V7iRZbaOuC-Z"
   },
   "source": [
    "### Extracting data from vivino hidden API  (https://www.vivino.com/)"
   ]
  },
  {
   "cell_type": "markdown",
   "metadata": {
    "id": "8MF523ZHuC-Z"
   },
   "source": [
    "#### 1 - Getting wines list based on parameters criteria"
   ]
  },
  {
   "cell_type": "code",
   "execution_count": null,
   "metadata": {
    "id": "ZuTXlHHjuC-Z"
   },
   "outputs": [],
   "source": [
    "import requests\n",
    "\n",
    "# if cookies not working anymore, add yours or don't pass them in request\n",
    "cookies = {\n",
    "    'first_time_visit': 'rx1nhTIgI2H3TunQE6lrd%2BduYI8dcrY4yxpO2Uj%2B9yS3Nwn2hhLxKY1S5xoGbnFYLSdogDwlAiKm9XYGiwsuqjpNvpvCJpLdrxFmZXaUGg2b40cCJGDxnGTWDA2ZUrDB%2BhY%3D--1wsDSAmFQsQO1Oe0--o%2F%2FcTWgvjpAa57%2FIo%2BY9kA%3D%3D',\n",
    "    'client_cache_key': 'qskn%2FeQI4YMOqbWN3lwEvodVAUk%2BBTJCDjTOvtk%2F4Z0TpdyYuSGq7G43TTC9Hox5GCPnm%2FdjyNlPCU8EII4nOQGmgmqpSBANkrzYaszyTyyRr8JzxWfb7N6X1%2FqEPFRloj7GluWBdzC1P07yU4vGxTzS--QupWEnPJPwfpFTAo--rKgKPs9rDHprokDS8yOcgA%3D%3D',\n",
    "    'anonymous_tracking_id': 'Z3PbwEUMw4tn7c1MS%2F8y1ruOGTgD0vuMDW%2FhvlOvlawvzZuF5TNtQtAG6eGKu4kXIpLL6GXAc657iR6gqn%2FoL1Jc8xDvFGwNNKfE%2FG1sah2jCyZFkiYj5JG0bOAdd%2FK1YCOZSLXMQExgtYaLY8rbr7Vr6ZBFEnffd3PFJ0JeLw8L3y6sGfyF3hpw%2Fvp6pTGaPM2L--I3saoUXxb9IVh2Zy--fXqeVKK3F9E3wvMHyuaW8g%3D%3D',\n",
    "    'eeny_meeny_personalized_upsell_module_v2': 'Y8o9oxOuREVu6h5%2Bs%2Fa7zUqvTkEZPCXsa5HlaQ8DDC0ruPg6DI0QwmV1zuCRQqGLCoest6lhtLg4yr22lWI1VQ%3D%3D',\n",
    "    'eeny_meeny_value_for_money_highlight_v1': 'MLMKoK1%2F4b9LfvPGQRbWiSi7T8r0zGHj13G9nN%2ByZC8kFtAT%2FjThmBEcmDAi0I%2FzEhWLvAuedYTW0ZyYJzoH%2Fw%3D%3D',\n",
    "    'eeny_meeny_cellar_on_web_v1': 'oklMALA4B3s5b9xCtXY2r5KCNkZ%2FlpnO62ALihp9bj9009Tb6NsKu7A9DEKAVr3W95zpijMsWLPKhsUVC4BAvg%3D%3D',\n",
    "    'mp_bee7544764ece4336acb3b402265c80c_mixpanel': '%7B%22distinct_id%22%3A%20%22%24device%3A18ff775367a215-0f6c2cd1772261-16525634-16a7f0-18ff775367a215%22%2C%22%24device_id%22%3A%20%2218ff775367a215-0f6c2cd1772261-16525634-16a7f0-18ff775367a215%22%2C%22%24initial_referrer%22%3A%20%22%24direct%22%2C%22%24initial_referring_domain%22%3A%20%22%24direct%22%2C%22__mps%22%3A%20%7B%7D%2C%22__mpso%22%3A%20%7B%22%24initial_referrer%22%3A%20%22%24direct%22%2C%22%24initial_referring_domain%22%3A%20%22%24direct%22%7D%2C%22__mpus%22%3A%20%7B%7D%2C%22__mpa%22%3A%20%7B%7D%2C%22__mpu%22%3A%20%7B%7D%2C%22__mpr%22%3A%20%5B%5D%2C%22__mpap%22%3A%20%5B%5D%7D',\n",
    "    '_gcl_au': '1.1.328504936.1717843605',\n",
    "    '_fbp': 'fb.1.1717843605333.789650107399714401',\n",
    "    '__attentive_id': '4dcd7660673a4f8e884b02b823db1c4f',\n",
    "    '_attn_': 'eyJ1Ijoie1wiY29cIjoxNzE3ODQzNjA1MzQwLFwidW9cIjoxNzE3ODQzNjA1MzQwLFwibWFcIjoyMTkwMCxcImluXCI6ZmFsc2UsXCJ2YWxcIjpcIjRkY2Q3NjYwNjczYTRmOGU4ODRiMDJiODIzZGIxYzRmXCJ9In0=',\n",
    "    '_gid': 'GA1.2.1230717079.1717843605',\n",
    "    '__attentive_cco': '1717843605393',\n",
    "    '_pin_unauth': 'dWlkPVpURTNaamM0TVRrdE4ySmhaQzAwTmpJNExXSXdOR0V0T1RjMk5HWmxPRGRsTUdZNA',\n",
    "    '__attentive_dv': '1',\n",
    "    'didomi_token': 'eyJ1c2VyX2lkIjoiMThmZjc3NTMtNjI5MS02YzhkLThjMjItZDBkNGRkY2MxMTM1IiwiY3JlYXRlZCI6IjIwMjQtMDYtMDhUMTA6NDY6NDUuMDMzWiIsInVwZGF0ZWQiOiIyMDI0LTA2LTA4VDEwOjQ2OjQ5Ljk0NFoiLCJ2ZXJzaW9uIjoyLCJwdXJwb3NlcyI6eyJlbmFibGVkIjpbImRldmljZV9jaGFyYWN0ZXJpc3RpY3MiLCJnZW9sb2NhdGlvbl9kYXRhIl19LCJwdXJwb3Nlc19saSI6eyJlbmFibGVkIjpbImRldmljZV9jaGFyYWN0ZXJpc3RpY3MiLCJnZW9fYWRzIl19LCJ2ZW5kb3JzIjp7ImVuYWJsZWQiOlsiZ29vZ2xlIiwiYW1hem9uIiwiYzptaXhwYW5lbCIsImM6aW1wYWN0IiwiYzpzdGVlbC1ob3VzZS1tZWRpYSIsImM6Z29vZ2xlYW5hLTRUWG5KaWdSIl19LCJ2ZW5kb3JzX2xpIjp7ImVuYWJsZWQiOlsiZ29vZ2xlIiwiYzptaXhwYW5lbC0zMnFpRVlEcCIsImM6aGVhcC15N0VKcnpraSJdfSwiYWMiOiJBRm1BQ0FGay5BRm1BQ0FGayJ9',\n",
    "    'euconsent-v2': 'CP_5DYAP_5DYAAHABBENA3EsAP_gAEPgAAZQKMtV_H__bW1r8X73aftkeY1P9_j77sQxBhfJE-4FzLvW_JwXx2ExNA36tqIKmRIEu3bBIQNlHJDUTVCgaogVryDMakWcoTNKJ6BkiFMRO2dYCF5vmwtj-QKY5vr993dx2D-t_dv83dzyz4VHn3a5_2e0WJCdA58tDfv9bROb-9IPd_58v4v0_F_rE2_eT1l_tevp7D9-cts7_XW-9_fff79Ll9-mCjIBZhoVEAdYEhIQaBhBAgBUFYQEUCAAAAEgaICAEwYFOwMAl1hIgBACgAGCAEAAKMgAQAAAQAIRABAAUCAACAQKAAEACAYCAAgYAAQAWAgEAAIDoEKYEECgWACRmREKYEIUCQQEtlQgkAQIK4QhFngAQCImCgAAAAAKwABAWCwOJJASoSCBLiDaAAAgAQCCACoQScmAAIAjZag8GTaMrSANDThKgAAA.f_wACHwAAAAA',\n",
    "    'recently_viewed': 'bve4W9vBCysDV7U5VWAMa1XDM3dBVrqWOYZ4mK%2FkHtZ8KXWDlgdcKvzxC5iPOJMqqiJsc9xZwTeBnr3Z%2FUpNTj6rWNCVLlDpybX%2FQPGe07OXovG7ddYFzwTGuW7YQnpwjyZCHmMO%2FXqPB30bNWjQ0ls9AUdV--8QQRr9VG5m5qKvCN--mXFra%2FdL%2BwsSHQK4mxI3OA%3D%3D',\n",
    "    'ab.storage.deviceId.932da152-bffc-4d62-a719-894efe56ebac': 'g%3A526a5c0d-e7da-0c5c-334b-710d7d93a952%7Ce%3Aundefined%7Cc%3A1717843605137%7Cl%3A1717852189671',\n",
    "    '__attentive_ss_referrer': 'ORGANIC',\n",
    "    '__gads': 'ID=34cd7efccbea9317:T=1717844115:RT=1717853728:S=ALNI_MY_pII4mD04LoNGC0xaN6BORqrm1Q',\n",
    "    '__gpi': 'UID=00000d80263ce899:T=1717844115:RT=1717853728:S=ALNI_MYb-Qye9G_r75GH0Qfv4txAOPbJgg',\n",
    "    '__eoi': 'ID=4b9746a60685e0b4:T=1717844115:RT=1717853728:S=AA-AfjbdI3bBKDBLS0lgzsKtJZ9p',\n",
    "    'ab.storage.sessionId.932da152-bffc-4d62-a719-894efe56ebac': 'g%3A16d76b3e-c5d4-faa1-2979-25f49df95ee2%7Ce%3A1717855567580%7Cc%3A1717852189671%7Cl%3A1717853767580',\n",
    "    '_ga_D35SJB5ZNL': 'GS1.1.1717852189.2.1.1717853767.18.0.0',\n",
    "    '_ga': 'GA1.2.1408866905.1717843605',\n",
    "    '_uetsid': '664a7e40258411ef8c9a8ffd5852e895',\n",
    "    '_uetvid': '664a96c0258411efb8d907e5e93f8b29',\n",
    "    '__attentive_pv': '20',\n",
    "    'cto_bundle': '_Kr7VV9oaENReGolMkZyUndMTllsT0p1NWdDU0hSMG1JckJ2YVB5MkhwRzhjdklNU2pXaGQlMkZnVGl4OEE3eUt2eFN0SHZaZ29ORGNnMm5OWEw0c1J6ekcwbDN4QVFFcEJ3Z25MZHJlam5kJTJGbHZpUWlEYyUyQnJNbThvSHBMWTRUUkxFdTJsMzZMSHY5aVIlMkZ0eGRJbUlvJTJGcXY5YzRhY0xZdU9CRXBjeVRrZzMxeGJJNXM4Q2lRb2RDWkR1RnkyODJwN25tTjlJY01QNkpMcDFxSHVKZjA1JTJCUCUyQkNnZ0VOTnF2bjA1akJTbGJuJTJGY2pkTGppR2ZOSWxqaUZEZ0hyOU82azdJS24xVTY4',\n",
    "    'csrf_token': 'yK2W5PKx4giugYpmCaG_-Sl6WHktmV56W-JpEi7upTAKTHI8f-tS1dvM803AGpyWFUeq16NuSPLTfVmyFpuG6w',\n",
    "    '_ruby-web_session': 'ZJswSSZtyRwW6e%2FTbak7Qn%2B0FlFZKMhnBbDRXxBT6JxEjJYyiX10vD%2B9xFYIy%2FzsdZomI2IVZtA1SkLSCxeu3gDJEiVJXOVlHl5zRAKDXUKX5KJm84NaRDpP1R%2B9AxwDMxRdgZBH1wr2EDChgR89qfFcJdS9MyJ6WvujgFQR7fSDxcOyWAW1SznnjlnV1hTFsA1NUEN%2FDcAgZ8Ad9u7Dltn94OJfFVmGmJeJCdaUeCmFvBb1azDRuAepq16o8l%2BU7vbpzLUlqJ8hAuUeinUcUSl4lj1L5i48TWJZ3qSVLkyWCW8YFHamrjkbvaCep2u5ECeCN3ExVUZ7Fjh2mz0QxyiFUH0qEPzIbW5fqBnZgfZ9ar0YmqpLclIzAtIEG2fSgWh2QQ1eD%2F0AVqwXNfHk--986sWkH6rJjSy8A9--Pp0pvMBkZ8fnKKW5G2u0gw%3D%3D',\n",
    "}\n",
    "\n",
    "headers = {\n",
    "    'authority': 'www.vivino.com',\n",
    "    'accept': 'application/json',\n",
    "    'accept-language': 'en-GB,en-US;q=0.9,en;q=0.8',\n",
    "    'content-type': 'application/json',\n",
    "    # 'cookie': 'first_time_visit=rx1nhTIgI2H3TunQE6lrd%2BduYI8dcrY4yxpO2Uj%2B9yS3Nwn2hhLxKY1S5xoGbnFYLSdogDwlAiKm9XYGiwsuqjpNvpvCJpLdrxFmZXaUGg2b40cCJGDxnGTWDA2ZUrDB%2BhY%3D--1wsDSAmFQsQO1Oe0--o%2F%2FcTWgvjpAa57%2FIo%2BY9kA%3D%3D; client_cache_key=qskn%2FeQI4YMOqbWN3lwEvodVAUk%2BBTJCDjTOvtk%2F4Z0TpdyYuSGq7G43TTC9Hox5GCPnm%2FdjyNlPCU8EII4nOQGmgmqpSBANkrzYaszyTyyRr8JzxWfb7N6X1%2FqEPFRloj7GluWBdzC1P07yU4vGxTzS--QupWEnPJPwfpFTAo--rKgKPs9rDHprokDS8yOcgA%3D%3D; anonymous_tracking_id=Z3PbwEUMw4tn7c1MS%2F8y1ruOGTgD0vuMDW%2FhvlOvlawvzZuF5TNtQtAG6eGKu4kXIpLL6GXAc657iR6gqn%2FoL1Jc8xDvFGwNNKfE%2FG1sah2jCyZFkiYj5JG0bOAdd%2FK1YCOZSLXMQExgtYaLY8rbr7Vr6ZBFEnffd3PFJ0JeLw8L3y6sGfyF3hpw%2Fvp6pTGaPM2L--I3saoUXxb9IVh2Zy--fXqeVKK3F9E3wvMHyuaW8g%3D%3D; eeny_meeny_personalized_upsell_module_v2=Y8o9oxOuREVu6h5%2Bs%2Fa7zUqvTkEZPCXsa5HlaQ8DDC0ruPg6DI0QwmV1zuCRQqGLCoest6lhtLg4yr22lWI1VQ%3D%3D; eeny_meeny_value_for_money_highlight_v1=MLMKoK1%2F4b9LfvPGQRbWiSi7T8r0zGHj13G9nN%2ByZC8kFtAT%2FjThmBEcmDAi0I%2FzEhWLvAuedYTW0ZyYJzoH%2Fw%3D%3D; eeny_meeny_cellar_on_web_v1=oklMALA4B3s5b9xCtXY2r5KCNkZ%2FlpnO62ALihp9bj9009Tb6NsKu7A9DEKAVr3W95zpijMsWLPKhsUVC4BAvg%3D%3D; mp_bee7544764ece4336acb3b402265c80c_mixpanel=%7B%22distinct_id%22%3A%20%22%24device%3A18ff775367a215-0f6c2cd1772261-16525634-16a7f0-18ff775367a215%22%2C%22%24device_id%22%3A%20%2218ff775367a215-0f6c2cd1772261-16525634-16a7f0-18ff775367a215%22%2C%22%24initial_referrer%22%3A%20%22%24direct%22%2C%22%24initial_referring_domain%22%3A%20%22%24direct%22%2C%22__mps%22%3A%20%7B%7D%2C%22__mpso%22%3A%20%7B%22%24initial_referrer%22%3A%20%22%24direct%22%2C%22%24initial_referring_domain%22%3A%20%22%24direct%22%7D%2C%22__mpus%22%3A%20%7B%7D%2C%22__mpa%22%3A%20%7B%7D%2C%22__mpu%22%3A%20%7B%7D%2C%22__mpr%22%3A%20%5B%5D%2C%22__mpap%22%3A%20%5B%5D%7D; _gcl_au=1.1.328504936.1717843605; _fbp=fb.1.1717843605333.789650107399714401; __attentive_id=4dcd7660673a4f8e884b02b823db1c4f; _attn_=eyJ1Ijoie1wiY29cIjoxNzE3ODQzNjA1MzQwLFwidW9cIjoxNzE3ODQzNjA1MzQwLFwibWFcIjoyMTkwMCxcImluXCI6ZmFsc2UsXCJ2YWxcIjpcIjRkY2Q3NjYwNjczYTRmOGU4ODRiMDJiODIzZGIxYzRmXCJ9In0=; _gid=GA1.2.1230717079.1717843605; __attentive_cco=1717843605393; _pin_unauth=dWlkPVpURTNaamM0TVRrdE4ySmhaQzAwTmpJNExXSXdOR0V0T1RjMk5HWmxPRGRsTUdZNA; __attentive_dv=1; didomi_token=eyJ1c2VyX2lkIjoiMThmZjc3NTMtNjI5MS02YzhkLThjMjItZDBkNGRkY2MxMTM1IiwiY3JlYXRlZCI6IjIwMjQtMDYtMDhUMTA6NDY6NDUuMDMzWiIsInVwZGF0ZWQiOiIyMDI0LTA2LTA4VDEwOjQ2OjQ5Ljk0NFoiLCJ2ZXJzaW9uIjoyLCJwdXJwb3NlcyI6eyJlbmFibGVkIjpbImRldmljZV9jaGFyYWN0ZXJpc3RpY3MiLCJnZW9sb2NhdGlvbl9kYXRhIl19LCJwdXJwb3Nlc19saSI6eyJlbmFibGVkIjpbImRldmljZV9jaGFyYWN0ZXJpc3RpY3MiLCJnZW9fYWRzIl19LCJ2ZW5kb3JzIjp7ImVuYWJsZWQiOlsiZ29vZ2xlIiwiYW1hem9uIiwiYzptaXhwYW5lbCIsImM6aW1wYWN0IiwiYzpzdGVlbC1ob3VzZS1tZWRpYSIsImM6Z29vZ2xlYW5hLTRUWG5KaWdSIl19LCJ2ZW5kb3JzX2xpIjp7ImVuYWJsZWQiOlsiZ29vZ2xlIiwiYzptaXhwYW5lbC0zMnFpRVlEcCIsImM6aGVhcC15N0VKcnpraSJdfSwiYWMiOiJBRm1BQ0FGay5BRm1BQ0FGayJ9; euconsent-v2=CP_5DYAP_5DYAAHABBENA3EsAP_gAEPgAAZQKMtV_H__bW1r8X73aftkeY1P9_j77sQxBhfJE-4FzLvW_JwXx2ExNA36tqIKmRIEu3bBIQNlHJDUTVCgaogVryDMakWcoTNKJ6BkiFMRO2dYCF5vmwtj-QKY5vr993dx2D-t_dv83dzyz4VHn3a5_2e0WJCdA58tDfv9bROb-9IPd_58v4v0_F_rE2_eT1l_tevp7D9-cts7_XW-9_fff79Ll9-mCjIBZhoVEAdYEhIQaBhBAgBUFYQEUCAAAAEgaICAEwYFOwMAl1hIgBACgAGCAEAAKMgAQAAAQAIRABAAUCAACAQKAAEACAYCAAgYAAQAWAgEAAIDoEKYEECgWACRmREKYEIUCQQEtlQgkAQIK4QhFngAQCImCgAAAAAKwABAWCwOJJASoSCBLiDaAAAgAQCCACoQScmAAIAjZag8GTaMrSANDThKgAAA.f_wACHwAAAAA; recently_viewed=bve4W9vBCysDV7U5VWAMa1XDM3dBVrqWOYZ4mK%2FkHtZ8KXWDlgdcKvzxC5iPOJMqqiJsc9xZwTeBnr3Z%2FUpNTj6rWNCVLlDpybX%2FQPGe07OXovG7ddYFzwTGuW7YQnpwjyZCHmMO%2FXqPB30bNWjQ0ls9AUdV--8QQRr9VG5m5qKvCN--mXFra%2FdL%2BwsSHQK4mxI3OA%3D%3D; ab.storage.deviceId.932da152-bffc-4d62-a719-894efe56ebac=g%3A526a5c0d-e7da-0c5c-334b-710d7d93a952%7Ce%3Aundefined%7Cc%3A1717843605137%7Cl%3A1717852189671; __attentive_ss_referrer=ORGANIC; __gads=ID=34cd7efccbea9317:T=1717844115:RT=1717853728:S=ALNI_MY_pII4mD04LoNGC0xaN6BORqrm1Q; __gpi=UID=00000d80263ce899:T=1717844115:RT=1717853728:S=ALNI_MYb-Qye9G_r75GH0Qfv4txAOPbJgg; __eoi=ID=4b9746a60685e0b4:T=1717844115:RT=1717853728:S=AA-AfjbdI3bBKDBLS0lgzsKtJZ9p; ab.storage.sessionId.932da152-bffc-4d62-a719-894efe56ebac=g%3A16d76b3e-c5d4-faa1-2979-25f49df95ee2%7Ce%3A1717855567580%7Cc%3A1717852189671%7Cl%3A1717853767580; _ga_D35SJB5ZNL=GS1.1.1717852189.2.1.1717853767.18.0.0; _ga=GA1.2.1408866905.1717843605; _uetsid=664a7e40258411ef8c9a8ffd5852e895; _uetvid=664a96c0258411efb8d907e5e93f8b29; __attentive_pv=20; cto_bundle=_Kr7VV9oaENReGolMkZyUndMTllsT0p1NWdDU0hSMG1JckJ2YVB5MkhwRzhjdklNU2pXaGQlMkZnVGl4OEE3eUt2eFN0SHZaZ29ORGNnMm5OWEw0c1J6ekcwbDN4QVFFcEJ3Z25MZHJlam5kJTJGbHZpUWlEYyUyQnJNbThvSHBMWTRUUkxFdTJsMzZMSHY5aVIlMkZ0eGRJbUlvJTJGcXY5YzRhY0xZdU9CRXBjeVRrZzMxeGJJNXM4Q2lRb2RDWkR1RnkyODJwN25tTjlJY01QNkpMcDFxSHVKZjA1JTJCUCUyQkNnZ0VOTnF2bjA1akJTbGJuJTJGY2pkTGppR2ZOSWxqaUZEZ0hyOU82azdJS24xVTY4; csrf_token=yK2W5PKx4giugYpmCaG_-Sl6WHktmV56W-JpEi7upTAKTHI8f-tS1dvM803AGpyWFUeq16NuSPLTfVmyFpuG6w; _ruby-web_session=ZJswSSZtyRwW6e%2FTbak7Qn%2B0FlFZKMhnBbDRXxBT6JxEjJYyiX10vD%2B9xFYIy%2FzsdZomI2IVZtA1SkLSCxeu3gDJEiVJXOVlHl5zRAKDXUKX5KJm84NaRDpP1R%2B9AxwDMxRdgZBH1wr2EDChgR89qfFcJdS9MyJ6WvujgFQR7fSDxcOyWAW1SznnjlnV1hTFsA1NUEN%2FDcAgZ8Ad9u7Dltn94OJfFVmGmJeJCdaUeCmFvBb1azDRuAepq16o8l%2BU7vbpzLUlqJ8hAuUeinUcUSl4lj1L5i48TWJZ3qSVLkyWCW8YFHamrjkbvaCep2u5ECeCN3ExVUZ7Fjh2mz0QxyiFUH0qEPzIbW5fqBnZgfZ9ar0YmqpLclIzAtIEG2fSgWh2QQ1eD%2F0AVqwXNfHk--986sWkH6rJjSy8A9--Pp0pvMBkZ8fnKKW5G2u0gw%3D%3D; _dd_s=rum=0&expire=1717854878282',\n",
    "    #'referer': 'https://www.vivino.com/explore?e=eJzLzcyzNTZQy02ssDUyMlArsDVUKy-JjrU1BABiIAdd',\n",
    "    'sec-ch-ua': '\"Google Chrome\";v=\"119\", \"Chromium\";v=\"119\", \"Not?A_Brand\";v=\"24\"',\n",
    "    'sec-ch-ua-mobile': '?0',\n",
    "    'sec-ch-ua-platform': '\"macOS\"',\n",
    "    'sec-fetch-dest': 'empty',\n",
    "    'sec-fetch-mode': 'cors',\n",
    "    'sec-fetch-site': 'same-origin',\n",
    "    'user-agent': 'Mozilla/5.0 (Macintosh; Intel Mac OS X 10_15_7) AppleWebKit/537.36 (KHTML, like Gecko) Chrome/119.0.0.0 Safari/537.36',\n",
    "    'x-requested-with': 'XMLHttpRequest',\n",
    "}\n",
    "\n",
    "params = {\n",
    "    'country_code': 'PT',\n",
    "    'currency_code': 'EUR',\n",
    "    #'grape_filter': 'varietal',\n",
    "    'min_rating': '3.8',\n",
    "    'order_by': 'ratings_average',\n",
    "    'order': 'desc',\n",
    "    'price_range_max': '220',\n",
    "    'price_range_min': '22',\n",
    "    'wine_type_ids[]': '1',\n",
    "    'page': '2',\n",
    "    'language': 'en',\n",
    "}\n",
    "\n",
    "response = requests.get('https://www.vivino.com/api/explore/explore', params=params, cookies=cookies, headers=headers)"
   ]
  },
  {
   "cell_type": "code",
   "execution_count": null,
   "metadata": {
    "colab": {
     "base_uri": "https://localhost:8080/",
     "height": 206
    },
    "id": "UF0x7-a9uC-a",
    "outputId": "3d2f62cf-4e54-40fa-a0e6-d227d4d303a8"
   },
   "outputs": [],
   "source": [
    "wines_df = pd.DataFrame(response.json()['explore_vintage']['matches'])\n",
    "wines_df.head()"
   ]
  },
  {
   "cell_type": "markdown",
   "metadata": {
    "id": "Z9a4jWHIuC-a"
   },
   "source": [
    "#### 2 - Get all the countries"
   ]
  },
  {
   "cell_type": "code",
   "execution_count": null,
   "metadata": {
    "id": "3_aY3_D7uC-a"
   },
   "outputs": [],
   "source": [
    "import requests\n",
    "\n",
    "headers = {\n",
    "    'sec-ch-ua': '\"Google Chrome\";v=\"119\", \"Chromium\";v=\"119\", \"Not?A_Brand\";v=\"24\"',\n",
    "    'sec-ch-ua-mobile': '?0',\n",
    "    'User-Agent': 'Mozilla/5.0 (Macintosh; Intel Mac OS X 10_15_7) AppleWebKit/537.36 (KHTML, like Gecko) Chrome/119.0.0.0 Safari/537.36',\n",
    "    'Content-Type': 'application/json',\n",
    "    'Accept': 'application/json',\n",
    "    'Referer': 'https://www.vivino.com/explore?e=eJwrL4mOtTVUKwdRRgAgBwRK',\n",
    "    'X-Requested-With': 'XMLHttpRequest',\n",
    "    'sec-ch-ua-platform': '\"macOS\"',\n",
    "}\n",
    "\n",
    "params = {\n",
    "    'cache_key': '446940327868b531465eb227a2d75b29ca7c63eb4c20ce9efcff',\n",
    "    'language': 'en',\n",
    "}\n",
    "\n",
    "# notice that now we're fetching for another vivino api endpoint\n",
    "# before it was the explore endpoint and now we're accessing the countries endpoint\n",
    "response = requests.get('https://www.vivino.com/api/countries', params=params, headers=headers)"
   ]
  },
  {
   "cell_type": "code",
   "execution_count": null,
   "metadata": {
    "colab": {
     "base_uri": "https://localhost:8080/",
     "height": 206
    },
    "id": "33nD_PNKuC-b",
    "outputId": "1e1164a4-13e2-47f9-d730-4f90b941accc"
   },
   "outputs": [],
   "source": [
    "countries_df = pd.DataFrame(response.json()['countries'])\n",
    "countries_df.head()"
   ]
  },
  {
   "cell_type": "markdown",
   "metadata": {
    "id": "Be2wCmNxuC-b"
   },
   "source": [
    "#### 3 - Get all the foods"
   ]
  },
  {
   "cell_type": "code",
   "execution_count": null,
   "metadata": {
    "id": "TjCjnaktuC-b"
   },
   "outputs": [],
   "source": [
    "import requests\n",
    "\n",
    "headers = {\n",
    "    'sec-ch-ua': '\"Google Chrome\";v=\"119\", \"Chromium\";v=\"119\", \"Not?A_Brand\";v=\"24\"',\n",
    "    'sec-ch-ua-mobile': '?0',\n",
    "    'User-Agent': 'Mozilla/5.0 (Macintosh; Intel Mac OS X 10_15_7) AppleWebKit/537.36 (KHTML, like Gecko) Chrome/119.0.0.0 Safari/537.36',\n",
    "    'Content-Type': 'application/json',\n",
    "    'Accept': 'application/json',\n",
    "    'Referer': 'https://www.vivino.com/explore?e=eJxLriyOjrXNqwIADmkDLQ%3D%3D',\n",
    "    'X-Requested-With': 'XMLHttpRequest',\n",
    "    'sec-ch-ua-platform': '\"macOS\"',\n",
    "}\n",
    "\n",
    "params = {\n",
    "    #'cache_key': '446940327868b531465eb227a2d75b29ca7c63eb4c20ce9efcff',\n",
    "    'language': 'en',\n",
    "}\n",
    "\n",
    "response = requests.get('https://www.vivino.com/api/foods/', params=params, headers=headers)"
   ]
  },
  {
   "cell_type": "code",
   "execution_count": null,
   "metadata": {
    "colab": {
     "base_uri": "https://localhost:8080/"
    },
    "id": "wtYgek6cuC-b",
    "outputId": "8615240b-2505-4e21-9739-7e77fb7b76ef"
   },
   "outputs": [],
   "source": [
    "response.json()"
   ]
  },
  {
   "cell_type": "code",
   "execution_count": null,
   "metadata": {
    "id": "9r8UWMG8uC-b",
    "outputId": "3dfffaf8-a7d3-44b7-cf4d-382a9f62c505"
   },
   "outputs": [],
   "source": [
    "foods_df = pd.DataFrame(response.json()['foods'])\n",
    "foods_df.head()"
   ]
  },
  {
   "cell_type": "markdown",
   "metadata": {
    "id": "lhRWFbAQuC-b"
   },
   "source": [
    "#### 4 - Get all the grapes"
   ]
  },
  {
   "cell_type": "code",
   "execution_count": null,
   "metadata": {
    "id": "8OlnEJ8nuC-b"
   },
   "outputs": [],
   "source": [
    "import requests\n",
    "\n",
    "headers = {\n",
    "    'sec-ch-ua': '\"Google Chrome\";v=\"119\", \"Chromium\";v=\"119\", \"Not?A_Brand\";v=\"24\"',\n",
    "    'sec-ch-ua-mobile': '?0',\n",
    "    'User-Agent': 'Mozilla/5.0 (Macintosh; Intel Mac OS X 10_15_7) AppleWebKit/537.36 (KHTML, like Gecko) Chrome/119.0.0.0 Safari/537.36',\n",
    "    'Content-Type': 'application/json',\n",
    "    'Accept': 'application/json',\n",
    "    'Referer': 'https://www.vivino.com/explore?e=eJwrL4mOtTVUKwdRRgAgBwRK',\n",
    "    'X-Requested-With': 'XMLHttpRequest',\n",
    "    'sec-ch-ua-platform': '\"macOS\"',\n",
    "}\n",
    "\n",
    "params = {\n",
    "    'cache_key': '446940327868b531465eb227a2d75b29ca7c63eb4c20ce9efcff',\n",
    "    'language': 'en',\n",
    "}\n",
    "\n",
    "response = requests.get('https://www.vivino.com/api/grapes', params=params, headers=headers)"
   ]
  },
  {
   "cell_type": "code",
   "execution_count": null,
   "metadata": {
    "colab": {
     "base_uri": "https://localhost:8080/"
    },
    "id": "JWtNhAZUuC-b",
    "outputId": "ac25d941-b7a5-4bce-8cac-04339c780cab"
   },
   "outputs": [],
   "source": [
    "response.json()"
   ]
  },
  {
   "cell_type": "code",
   "execution_count": null,
   "metadata": {
    "colab": {
     "base_uri": "https://localhost:8080/",
     "height": 423
    },
    "id": "4gLuFDoGuC-c",
    "outputId": "2b951d56-3632-46b5-cc0f-8462d6245469"
   },
   "outputs": [],
   "source": [
    "grapes_df = pd.DataFrame(response.json()['grapes'])\n",
    "grapes_df"
   ]
  },
  {
   "cell_type": "markdown",
   "metadata": {
    "id": "zTo4JcHpuC-c"
   },
   "source": [
    "#### 5 - Get reviews of a wine (wine - example: https://www.vivino.com/tenuta-ulisse-limited-edition-10-vendemmie-montepulciano-dabruzzo/w/6139455?price_id=34949644)"
   ]
  },
  {
   "cell_type": "code",
   "execution_count": null,
   "metadata": {
    "id": "J2W_D5VwuC-c"
   },
   "outputs": [],
   "source": [
    "import requests\n",
    "\n",
    "cookies = {\n",
    "    'first_time_visit': 'GVj8YLcYZB4ELXIGSHP46Rw9J%2FIszm5rUOLGgdznLlr3KN4RQgRMKZxfbeaUdGn1VL84m9ZzN%2BiMfMhX39lEIZAdZLXVUH8ZwW2lhyNhBVbkKj1obaH6GmaZ4JDc1p1qsXI%3D--EgVXebLPQp0VJoGL--wzEXGKVXl%2BOrGNcwcMg6xg%3D%3D',\n",
    "    'anonymous_tracking_id': 'sKA4pvJaBmbyVwKkDUzpnTYiWZ9T2i2Myi3GZtQLYzncUz4krgemvTtWixykkhEWtnJbZdw%2FeivpdnSpMp0LQ4ahK1trRgZBnUvVdMMmHxHq9jvGeFhgSpsf2zcgV%2Fpuy3oEiOpl8wk5e9bB1MPFxXcApsuR53hIVbegNF9TXsrCPaNKch%2B62SQcwtn4AjW0Ye6h--l2V0%2FETvZ%2BwKHspl--uUEFWjxy%2FpVqMOSYPFpuKw%3D%3D',\n",
    "    'eeny_meeny_explorer_card_v2': 'po88oOL38xSgHSfRlRdllEoZR2TLXbEskGHOVFSkpUZqFMDws43DIYRzsMVo2wYZvBASuB5%2BSfROofme7vVaeQ%3D%3D',\n",
    "    'mp_bee7544764ece4336acb3b402265c80c_mixpanel': '%7B%22distinct_id%22%3A%20%22%24device%3A1933497549017b-084baab67a9e4d-1f525636-16a7f0-1933497549017b%22%2C%22%24device_id%22%3A%20%221933497549017b-084baab67a9e4d-1f525636-16a7f0-1933497549017b%22%2C%22%24search_engine%22%3A%20%22google%22%2C%22%24initial_referrer%22%3A%20%22https%3A%2F%2Fwww.google.com%2F%22%2C%22%24initial_referring_domain%22%3A%20%22www.google.com%22%2C%22__mps%22%3A%20%7B%7D%2C%22__mpso%22%3A%20%7B%22%24initial_referrer%22%3A%20%22https%3A%2F%2Fwww.google.com%2F%22%2C%22%24initial_referring_domain%22%3A%20%22www.google.com%22%7D%2C%22__mpus%22%3A%20%7B%7D%2C%22__mpa%22%3A%20%7B%7D%2C%22__mpu%22%3A%20%7B%7D%2C%22__mpr%22%3A%20%5B%5D%2C%22__mpap%22%3A%20%5B%5D%7D',\n",
    "    '_gcl_au': '1.1.826562795.1731754153',\n",
    "    '_fbp': 'fb.1.1731754153539.784231012804706668',\n",
    "    '_pin_unauth': 'dWlkPU1HSTVOemcxWVRndE16ZzFNaTAwWW1RM0xXRmxZVE10WW1SaVpEZzRZek0wTWpBMw',\n",
    "    'didomi_token': 'eyJ1c2VyX2lkIjoiMThmZjc3NTMtNjI5MS02YzhkLThjMjItZDBkNGRkY2MxMTM1IiwiY3JlYXRlZCI6IjIwMjQtMDYtMDhUMTA6NDY6NDUuMDMzWiIsInVwZGF0ZWQiOiIyMDI0LTExLTE2VDEwOjQ5OjE0LjI0MFoiLCJ2ZXJzaW9uIjoyLCJwdXJwb3NlcyI6eyJlbmFibGVkIjpbImRldmljZV9jaGFyYWN0ZXJpc3RpY3MiLCJnZW9sb2NhdGlvbl9kYXRhIl19LCJwdXJwb3Nlc19saSI6eyJlbmFibGVkIjpbImRldmljZV9jaGFyYWN0ZXJpc3RpY3MiLCJnZW9fYWRzIl19LCJ2ZW5kb3JzIjp7ImVuYWJsZWQiOlsiZ29vZ2xlIiwiYW1hem9uIiwiYzptaXhwYW5lbCIsImM6aW1wYWN0IiwiYzpzdGVlbC1ob3VzZS1tZWRpYSIsImM6Z29vZ2xlYW5hLTRUWG5KaWdSIiwic2FsZXNmb3JjZSIsImM6bGlua2VkaW4tbWFya2V0aW5nLXNvbHV0aW9ucyIsImM6c3BvdGlmeS1lbWJlZCIsImM6aHVic3BvdCIsImM6dGFwYWRpbmMtVkRUVVVjS3ciLCJjOmJpbmctYWRzIiwiYzp5YWhvby1hZC1leGNoYW5nZSIsImM6YmFpZHUtYWRzIiwiYzppbnRlbGxpYWQiLCJjOmhpLW1lZGlhLXBlcmZvcm1hbmNlIiwiYzp5dW1lIiwiYzpsaW5rZWRpbiIsImM6bWVkaWEtaW1wYWN0IiwiYzphZG1vYiIsImM6YW5hbGlnaHRzLTdteUVIM2VrIiwiYzp2dW5nbGUtQlBDTm1xQ0oiLCJjOmF3cy1jbG91ZGZyb250IiwiYzpkaXN0cmljdG0tQllFQUVCbUgiLCJjOm9wdG9tYXRvbi1od3p3aTNhVCIsImM6aW5zdGFncmFtIiwiYzpwbGF0Zm9ybTM2LVFWVWVSM0tZIiwiYzp5b3VzZWUta2o2ZjI0RTkiLCJjOm1pY3Jvc29mdCIsImM6aGF2YXNtZWRpLUJBRzdwSkRlIiwiYzpwaW50ZXJlc3QiLCJjOmRtYWluc3RpdC1OUnEyQUtjQyIsImM6ZnJhY3Rpb25hbC1uMmpZREZQTiIsImM6aWduaXRpb25vLUxWQU1aZG5qIiwiYzpkaWRvbWkiLCJjOmFkYWNhZG90ZS1mYmtQd05jOSIsImM6YWRtZXRyaWNzLTc3blpYV2I5Il19LCJ2ZW5kb3JzX2xpIjp7ImVuYWJsZWQiOlsiZ29vZ2xlIiwiYzptaXhwYW5lbC0zMnFpRVlEcCIsImM6aGVhcC15N0VKcnpraSJdfSwiYWMiOiJOYU9DT0FFWUFMSUFYUUEyQUI2QUVxQU1RQWNnQk53Q2hnR2ZBUE5BZTRCN3dFT0FJLUFlcUJCc0NJZ0VSd0lrZ1NpQWxxQkw4Q2ZnRmh3TEhnV3BBd3NCaUlERklHS3dNNWdaMUEzS0J5Z0Rwd0hWZ093Z2pOQklRQ1F3RXhBSnpnVHZBbm5CUVFDZ3dGQ0lLU1FVckFwYkJXZkN3VUxCZ1dXQXN6QlowQzBjRnBZTGFnWE9ndXFCZ0NERGdHSFFNYmdZN0F5ZkJtMEROd0dmZzFvdy5OYU9DT0FFWUFMSUFYUUEyQUI2QUVxQU1RQWNnQk53Q2hnR2ZBUE5BZTRCN3dFT0FJLUFlcUJCc0NJZ0VSd0lrZ1NpQWxxQkw4Q2ZnRmh3TEhnV3BBd3NCaUlERklHS3dNNWdaMUEzS0J5Z0Rwd0hWZ093Z2pOQklRQ1F3RXhBSnpnVHZBbm5CUVFDZ3dGQ0lLU1FVckFwYkJXZkN3VUxCZ1dXQXN6QlowQzBjRnBZTGFnWE9ndXFCZ0NERGdHSFFNYmdZN0F5ZkJtMEROd0dmZzFvdyJ9',\n",
    "    'euconsent-v2': 'CP_5DYAQILsUAAHABBENBPFsAP_gAEPgAAZQKMtV_H__bW1r8X73aftkeY1P9_j77sQxBhfJE-4FzLvW_JwXx2ExNA36tqIKmRIEu3bBIQNlHJDUTVCgaogVryDMakWcoTNKJ6BkiFMRO2dYCF5vmwtj-QKY5vr993dx2D-t_dv83dzyz4VHn3a5_2e0WJCdA58tDfv9bROb-9IPd_58v4v0_F_rE2_eT1l_tevp7D9-cts7_XW-9_fff79Ll9-mCjIBJhoVEAdYEhIQaBhBAgBUFYQEUCAAAAEgaICAEwYFOwMAl1hIgBACgAGCAEAAIMgAQAAAQAIRABAAUCAACAQKAAEACAYCAAgYAAQAWAgEAAIDoEKYEECgWACRmREKYEIUCQQEtlQgkAQIK4QhFngAQCImCgAAAAAKwABAWCwOJJASoSCBLiDaAAAgAQCCACoQScmAAIAjZag8GDaMrSAMDTBIgAAA.f_wACHwAAAAA',\n",
    "    '__attentive_id': '52609d7b4ca6407e9c5697d9f762c0cf',\n",
    "    '_attn_': 'eyJ1Ijoie1wiY29cIjoxNzMxNzU0MTU0NjI4LFwidW9cIjoxNzMxNzU0MTU0NjI4LFwibWFcIjoyMTkwMCxcImluXCI6ZmFsc2UsXCJ2YWxcIjpcIjUyNjA5ZDdiNGNhNjQwN2U5YzU2OTdkOWY3NjJjMGNmXCJ9In0=',\n",
    "    '__attentive_cco': '1731754154629',\n",
    "    '__attentive_dv': '1',\n",
    "    '__attentive_ss_referrer': 'https://www.google.com/',\n",
    "    'idw-fe-id': 'ec77c805-9e62-450e-888d-973ef3927eff',\n",
    "    '_cc_id': '136f4624e25f1316e506cc8314549779',\n",
    "    'panoramaId_expiry': '1732358987631',\n",
    "    'panoramaId': '03a9329f1f0519eaed6a609c25c6c8bd038a4fccd2beeedb62b0813772797b81',\n",
    "    'panoramaIdType': 'panoIndiv',\n",
    "    'recently_viewed': 'qY8dSOpaLLCv83gT0E1JFNN8FbXFeFbzQia4ME17F82yoCG3l8wXsiG%2BxE%2FiwXYT10ws%2F0G3aF%2BkRlwnTiEM7ryVr5xAqWjgUVAvp4RQIaTdItghy7Ii3Q0kZHwZ5TVdGfdzdjU%2FtbTET6vVK3Vn%2FqKVm6tVHsRP4YKHV%2FsglBr5%2F9c0tXMCU0E0HFKjUaIMVxs3UIU88hrbxqJXh6DN9HNw%2B1448pwFrungq2egO%2Bxsv59bIuD8TG3ClpRZQYF9LZGbyZqJblqqxF0960NA2HAJdt4R5wX5phKcLntW%2BZhm%2F6IxuOttGUgoJW6jCTAeCJVU2UfXECm2z%2BHmDbDEf7mzwYnJxQdPOiA3lVNCWA1vazTn7iRk6juEsZ5vBtJ8peAjDeqcJNOLm0828NcufMC%2BQjIRXUjxwiUfsWRN%2BrgWJ4JN5%2B1BtUpmlhGQgmQ4rUOo27w8zb4IAocWDnrH0HgmZgCxmPIwo4uM1ANRa35j9gLB3gXXuVLh71NdRMdVSOruhpfol2D9D8PlVD1xLpB9Av3l--JscB%2BE9kD7PoJjfn--biDt6x%2BqZdNh0AjMaOdI1g%3D%3D',\n",
    "    'client_cache_key': 'oCMtOjPH2JKGJ1Bcf5yWWCP5M0KQvuZMzZFVCCSYZ3BnoMx3wtOX%2FT%2BCTksPDCl8kRN5X3K6qC24hkCh%2FWzI8qBqXWcQkSmGAEPt9b8w2f67IRAHg5aljFjzYrPTJKQ%2BxSRyKi%2FxiWmY300iQFMCppOQ--DalQq7v%2B%2FC4Z%2Bgla--xGQ0Jn7fcu1AkxPDNIKWUA%3D%3D',\n",
    "    'ab.storage.deviceId.932da152-bffc-4d62-a719-894efe56ebac': 'g%3A526a5c0d-e7da-0c5c-334b-710d7d93a952%7Ce%3Aundefined%7Cc%3A1717843605137%7Cl%3A1732326870486',\n",
    "    '_gid': 'GA1.2.349098403.1732326871',\n",
    "    '_ga_D35SJB5ZNL': 'GS1.1.1732326870.3.0.1732326870.60.0.0',\n",
    "    'ab.storage.sessionId.932da152-bffc-4d62-a719-894efe56ebac': 'g%3A40771fb1-444c-4f1c-12fe-5c2d3ee6f0d0%7Ce%3A1732328670858%7Cc%3A1732326870485%7Cl%3A1732326870858',\n",
    "    '_clck': 'jdm82i%7C2%7Cfr4%7C0%7C1781',\n",
    "    'cto_bundle': 'yIFkcl9oaENReGolMkZyUndMTllsT0p1NWdDU0FSUjR6c3J5TzFqWlpBQXJRaDVoVmRpRjd6dlRLNXRWY3ZTQ2h2aWlmJTJCJTJGUG9HV1BnZjdQMyUyQklrWDE2RlZQdDRGODk4M0tpMXJMbkUzOUxuVXFtd3AlMkJIVDFUUXlYajVnTThWZ2NubzRHV1MzR0ltRCUyRlhMSkh6ZVpyWkNXbFh4VlZZZ1ZYY0IlMkJ4MGQlMkJKZDRTRjVEUVhtajBKajdMZVB6aVFXNXB0ZEFHNDFhMVdhSVRtamhiSXpZMlVWb281d2F6aUJuZyUyQlRoSEZzN1VqamVUYWpLSllTNTN2TWdNbk93bm5pcU5nT2VFTnpoOUFtZE44TDVjMGRBZWlyeW5UeENkR0czJTJCODh2MjQlMkJUUXhkQlFoOCUyQmRrS2p5bUIlMkZ1SGJJbUliVk5BJTJCWlBQVWkxRlpaZEZGYVE3MzNyVUdWVWZVMUUlMkZWTm9PMiUyRnZYNG0wNnVaTXVSWWVQcyUzRA',\n",
    "    '__gads': 'ID=668847d14e9834e9:T=1731754187:RT=1732326871:S=ALNI_MYZFl92wNR3wM1_zMN1uVbg8BrBSg',\n",
    "    '__gpi': 'UID=00000f966d263ea0:T=1731754187:RT=1732326871:S=ALNI_MZlYVWGpc-bGVa8fu2Hg5Ua0V8t5w',\n",
    "    '__eoi': 'ID=cab20012017f2266:T=1731754187:RT=1732326871:S=AA-AfjauSiJOciUWtzbaMZedFP7l',\n",
    "    '_clsk': 'hw69l7%7C1732326871544%7C1%7C0%7Ci.clarity.ms%2Fcollect',\n",
    "    '__attentive_pv': '3',\n",
    "    '_ga': 'GA1.2.116078845.1731754154',\n",
    "    '_uetsid': 'e131ae20a93d11ef8ca5131c1362ce5a',\n",
    "    '_uetvid': '664a96c0258411efb8d907e5e93f8b29',\n",
    "    'csrf_token': 'OCiHzFcMC_X_C-V9w5Ol9w50G351m6yXIxC18Z1kIIJj5WsBxFPTtp8rztB48eWZmMfqCSMVzP21eE2DZWnzTQ',\n",
    "    '_ruby-web_session': 'RVYikWaSimmkrxi7OZnhEs0KIJ9%2Fg49Tj07qFQcAeZamdAtsZbbdTTLc%2Fraj%2Bwvv3f0DI%2FpqEkG1Z0zQpYF%2B2WBt%2BgwvR3a9BfczOvqIcKFqwulN%2BiHvN7eLcAl1lAEcGdsRQ96c%2FnREqpPq33G8TEpFvk3TfgvBWFQmwm1xFPdBxW1SB8HL0mS24VcdJkv6uzCFO0g7YrV%2BAyOsb%2BoEADCxMTBTtNRJiEWLrAPVA8p%2B0qV2m%2BWnxa3%2BhRN9%2FGEddkm8QnRd5%2FARbm58R1tXfe%2FWKvJmSAEyr0fsd6cRTWRj1EdetDHfDgOJh3jw67knxsjtcmZaWFWqcAsoxnYNvSnLgGgMqQX4OIxM%2FiRa21oNNgAoZEt60I1YXouJgPedDylBNAQsQY6iLBJ2dbHICeE93K2IH8h3Y0n02qcOMv4hyymX04Cluir08LjAgqsm43VOvuSaJ9o%2F2maTDoo6cVEYrz13zzHopwVq5nJBGCmFC3%2BvMitJNxmWO12B1sNQv%2BrfCg9D4g%3D%3D--hY9Gvh7YcUPmiTeY--jzcVXp%2BPyFIGorr6AGlUOg%3D%3D',\n",
    "    '_pbjs_userid_consent_data': '6803032713249827',\n",
    "    '_dd_s': 'rum=0&expire=1732327840445',\n",
    "}\n",
    "\n",
    "headers = {\n",
    "    'accept': 'application/json',\n",
    "    'accept-language': 'en-GB,en-US;q=0.9,en;q=0.8',\n",
    "    'content-type': 'application/json',\n",
    "    # 'cookie': 'first_time_visit=GVj8YLcYZB4ELXIGSHP46Rw9J%2FIszm5rUOLGgdznLlr3KN4RQgRMKZxfbeaUdGn1VL84m9ZzN%2BiMfMhX39lEIZAdZLXVUH8ZwW2lhyNhBVbkKj1obaH6GmaZ4JDc1p1qsXI%3D--EgVXebLPQp0VJoGL--wzEXGKVXl%2BOrGNcwcMg6xg%3D%3D; anonymous_tracking_id=sKA4pvJaBmbyVwKkDUzpnTYiWZ9T2i2Myi3GZtQLYzncUz4krgemvTtWixykkhEWtnJbZdw%2FeivpdnSpMp0LQ4ahK1trRgZBnUvVdMMmHxHq9jvGeFhgSpsf2zcgV%2Fpuy3oEiOpl8wk5e9bB1MPFxXcApsuR53hIVbegNF9TXsrCPaNKch%2B62SQcwtn4AjW0Ye6h--l2V0%2FETvZ%2BwKHspl--uUEFWjxy%2FpVqMOSYPFpuKw%3D%3D; eeny_meeny_explorer_card_v2=po88oOL38xSgHSfRlRdllEoZR2TLXbEskGHOVFSkpUZqFMDws43DIYRzsMVo2wYZvBASuB5%2BSfROofme7vVaeQ%3D%3D; mp_bee7544764ece4336acb3b402265c80c_mixpanel=%7B%22distinct_id%22%3A%20%22%24device%3A1933497549017b-084baab67a9e4d-1f525636-16a7f0-1933497549017b%22%2C%22%24device_id%22%3A%20%221933497549017b-084baab67a9e4d-1f525636-16a7f0-1933497549017b%22%2C%22%24search_engine%22%3A%20%22google%22%2C%22%24initial_referrer%22%3A%20%22https%3A%2F%2Fwww.google.com%2F%22%2C%22%24initial_referring_domain%22%3A%20%22www.google.com%22%2C%22__mps%22%3A%20%7B%7D%2C%22__mpso%22%3A%20%7B%22%24initial_referrer%22%3A%20%22https%3A%2F%2Fwww.google.com%2F%22%2C%22%24initial_referring_domain%22%3A%20%22www.google.com%22%7D%2C%22__mpus%22%3A%20%7B%7D%2C%22__mpa%22%3A%20%7B%7D%2C%22__mpu%22%3A%20%7B%7D%2C%22__mpr%22%3A%20%5B%5D%2C%22__mpap%22%3A%20%5B%5D%7D; _gcl_au=1.1.826562795.1731754153; _fbp=fb.1.1731754153539.784231012804706668; _pin_unauth=dWlkPU1HSTVOemcxWVRndE16ZzFNaTAwWW1RM0xXRmxZVE10WW1SaVpEZzRZek0wTWpBMw; didomi_token=eyJ1c2VyX2lkIjoiMThmZjc3NTMtNjI5MS02YzhkLThjMjItZDBkNGRkY2MxMTM1IiwiY3JlYXRlZCI6IjIwMjQtMDYtMDhUMTA6NDY6NDUuMDMzWiIsInVwZGF0ZWQiOiIyMDI0LTExLTE2VDEwOjQ5OjE0LjI0MFoiLCJ2ZXJzaW9uIjoyLCJwdXJwb3NlcyI6eyJlbmFibGVkIjpbImRldmljZV9jaGFyYWN0ZXJpc3RpY3MiLCJnZW9sb2NhdGlvbl9kYXRhIl19LCJwdXJwb3Nlc19saSI6eyJlbmFibGVkIjpbImRldmljZV9jaGFyYWN0ZXJpc3RpY3MiLCJnZW9fYWRzIl19LCJ2ZW5kb3JzIjp7ImVuYWJsZWQiOlsiZ29vZ2xlIiwiYW1hem9uIiwiYzptaXhwYW5lbCIsImM6aW1wYWN0IiwiYzpzdGVlbC1ob3VzZS1tZWRpYSIsImM6Z29vZ2xlYW5hLTRUWG5KaWdSIiwic2FsZXNmb3JjZSIsImM6bGlua2VkaW4tbWFya2V0aW5nLXNvbHV0aW9ucyIsImM6c3BvdGlmeS1lbWJlZCIsImM6aHVic3BvdCIsImM6dGFwYWRpbmMtVkRUVVVjS3ciLCJjOmJpbmctYWRzIiwiYzp5YWhvby1hZC1leGNoYW5nZSIsImM6YmFpZHUtYWRzIiwiYzppbnRlbGxpYWQiLCJjOmhpLW1lZGlhLXBlcmZvcm1hbmNlIiwiYzp5dW1lIiwiYzpsaW5rZWRpbiIsImM6bWVkaWEtaW1wYWN0IiwiYzphZG1vYiIsImM6YW5hbGlnaHRzLTdteUVIM2VrIiwiYzp2dW5nbGUtQlBDTm1xQ0oiLCJjOmF3cy1jbG91ZGZyb250IiwiYzpkaXN0cmljdG0tQllFQUVCbUgiLCJjOm9wdG9tYXRvbi1od3p3aTNhVCIsImM6aW5zdGFncmFtIiwiYzpwbGF0Zm9ybTM2LVFWVWVSM0tZIiwiYzp5b3VzZWUta2o2ZjI0RTkiLCJjOm1pY3Jvc29mdCIsImM6aGF2YXNtZWRpLUJBRzdwSkRlIiwiYzpwaW50ZXJlc3QiLCJjOmRtYWluc3RpdC1OUnEyQUtjQyIsImM6ZnJhY3Rpb25hbC1uMmpZREZQTiIsImM6aWduaXRpb25vLUxWQU1aZG5qIiwiYzpkaWRvbWkiLCJjOmFkYWNhZG90ZS1mYmtQd05jOSIsImM6YWRtZXRyaWNzLTc3blpYV2I5Il19LCJ2ZW5kb3JzX2xpIjp7ImVuYWJsZWQiOlsiZ29vZ2xlIiwiYzptaXhwYW5lbC0zMnFpRVlEcCIsImM6aGVhcC15N0VKcnpraSJdfSwiYWMiOiJOYU9DT0FFWUFMSUFYUUEyQUI2QUVxQU1RQWNnQk53Q2hnR2ZBUE5BZTRCN3dFT0FJLUFlcUJCc0NJZ0VSd0lrZ1NpQWxxQkw4Q2ZnRmh3TEhnV3BBd3NCaUlERklHS3dNNWdaMUEzS0J5Z0Rwd0hWZ093Z2pOQklRQ1F3RXhBSnpnVHZBbm5CUVFDZ3dGQ0lLU1FVckFwYkJXZkN3VUxCZ1dXQXN6QlowQzBjRnBZTGFnWE9ndXFCZ0NERGdHSFFNYmdZN0F5ZkJtMEROd0dmZzFvdy5OYU9DT0FFWUFMSUFYUUEyQUI2QUVxQU1RQWNnQk53Q2hnR2ZBUE5BZTRCN3dFT0FJLUFlcUJCc0NJZ0VSd0lrZ1NpQWxxQkw4Q2ZnRmh3TEhnV3BBd3NCaUlERklHS3dNNWdaMUEzS0J5Z0Rwd0hWZ093Z2pOQklRQ1F3RXhBSnpnVHZBbm5CUVFDZ3dGQ0lLU1FVckFwYkJXZkN3VUxCZ1dXQXN6QlowQzBjRnBZTGFnWE9ndXFCZ0NERGdHSFFNYmdZN0F5ZkJtMEROd0dmZzFvdyJ9; euconsent-v2=CP_5DYAQILsUAAHABBENBPFsAP_gAEPgAAZQKMtV_H__bW1r8X73aftkeY1P9_j77sQxBhfJE-4FzLvW_JwXx2ExNA36tqIKmRIEu3bBIQNlHJDUTVCgaogVryDMakWcoTNKJ6BkiFMRO2dYCF5vmwtj-QKY5vr993dx2D-t_dv83dzyz4VHn3a5_2e0WJCdA58tDfv9bROb-9IPd_58v4v0_F_rE2_eT1l_tevp7D9-cts7_XW-9_fff79Ll9-mCjIBJhoVEAdYEhIQaBhBAgBUFYQEUCAAAAEgaICAEwYFOwMAl1hIgBACgAGCAEAAIMgAQAAAQAIRABAAUCAACAQKAAEACAYCAAgYAAQAWAgEAAIDoEKYEECgWACRmREKYEIUCQQEtlQgkAQIK4QhFngAQCImCgAAAAAKwABAWCwOJJASoSCBLiDaAAAgAQCCACoQScmAAIAjZag8GDaMrSAMDTBIgAAA.f_wACHwAAAAA; __attentive_id=52609d7b4ca6407e9c5697d9f762c0cf; _attn_=eyJ1Ijoie1wiY29cIjoxNzMxNzU0MTU0NjI4LFwidW9cIjoxNzMxNzU0MTU0NjI4LFwibWFcIjoyMTkwMCxcImluXCI6ZmFsc2UsXCJ2YWxcIjpcIjUyNjA5ZDdiNGNhNjQwN2U5YzU2OTdkOWY3NjJjMGNmXCJ9In0=; __attentive_cco=1731754154629; __attentive_dv=1; __attentive_ss_referrer=https://www.google.com/; idw-fe-id=ec77c805-9e62-450e-888d-973ef3927eff; _cc_id=136f4624e25f1316e506cc8314549779; panoramaId_expiry=1732358987631; panoramaId=03a9329f1f0519eaed6a609c25c6c8bd038a4fccd2beeedb62b0813772797b81; panoramaIdType=panoIndiv; recently_viewed=qY8dSOpaLLCv83gT0E1JFNN8FbXFeFbzQia4ME17F82yoCG3l8wXsiG%2BxE%2FiwXYT10ws%2F0G3aF%2BkRlwnTiEM7ryVr5xAqWjgUVAvp4RQIaTdItghy7Ii3Q0kZHwZ5TVdGfdzdjU%2FtbTET6vVK3Vn%2FqKVm6tVHsRP4YKHV%2FsglBr5%2F9c0tXMCU0E0HFKjUaIMVxs3UIU88hrbxqJXh6DN9HNw%2B1448pwFrungq2egO%2Bxsv59bIuD8TG3ClpRZQYF9LZGbyZqJblqqxF0960NA2HAJdt4R5wX5phKcLntW%2BZhm%2F6IxuOttGUgoJW6jCTAeCJVU2UfXECm2z%2BHmDbDEf7mzwYnJxQdPOiA3lVNCWA1vazTn7iRk6juEsZ5vBtJ8peAjDeqcJNOLm0828NcufMC%2BQjIRXUjxwiUfsWRN%2BrgWJ4JN5%2B1BtUpmlhGQgmQ4rUOo27w8zb4IAocWDnrH0HgmZgCxmPIwo4uM1ANRa35j9gLB3gXXuVLh71NdRMdVSOruhpfol2D9D8PlVD1xLpB9Av3l--JscB%2BE9kD7PoJjfn--biDt6x%2BqZdNh0AjMaOdI1g%3D%3D; client_cache_key=oCMtOjPH2JKGJ1Bcf5yWWCP5M0KQvuZMzZFVCCSYZ3BnoMx3wtOX%2FT%2BCTksPDCl8kRN5X3K6qC24hkCh%2FWzI8qBqXWcQkSmGAEPt9b8w2f67IRAHg5aljFjzYrPTJKQ%2BxSRyKi%2FxiWmY300iQFMCppOQ--DalQq7v%2B%2FC4Z%2Bgla--xGQ0Jn7fcu1AkxPDNIKWUA%3D%3D; ab.storage.deviceId.932da152-bffc-4d62-a719-894efe56ebac=g%3A526a5c0d-e7da-0c5c-334b-710d7d93a952%7Ce%3Aundefined%7Cc%3A1717843605137%7Cl%3A1732326870486; _gid=GA1.2.349098403.1732326871; _ga_D35SJB5ZNL=GS1.1.1732326870.3.0.1732326870.60.0.0; ab.storage.sessionId.932da152-bffc-4d62-a719-894efe56ebac=g%3A40771fb1-444c-4f1c-12fe-5c2d3ee6f0d0%7Ce%3A1732328670858%7Cc%3A1732326870485%7Cl%3A1732326870858; _clck=jdm82i%7C2%7Cfr4%7C0%7C1781; cto_bundle=yIFkcl9oaENReGolMkZyUndMTllsT0p1NWdDU0FSUjR6c3J5TzFqWlpBQXJRaDVoVmRpRjd6dlRLNXRWY3ZTQ2h2aWlmJTJCJTJGUG9HV1BnZjdQMyUyQklrWDE2RlZQdDRGODk4M0tpMXJMbkUzOUxuVXFtd3AlMkJIVDFUUXlYajVnTThWZ2NubzRHV1MzR0ltRCUyRlhMSkh6ZVpyWkNXbFh4VlZZZ1ZYY0IlMkJ4MGQlMkJKZDRTRjVEUVhtajBKajdMZVB6aVFXNXB0ZEFHNDFhMVdhSVRtamhiSXpZMlVWb281d2F6aUJuZyUyQlRoSEZzN1VqamVUYWpLSllTNTN2TWdNbk93bm5pcU5nT2VFTnpoOUFtZE44TDVjMGRBZWlyeW5UeENkR0czJTJCODh2MjQlMkJUUXhkQlFoOCUyQmRrS2p5bUIlMkZ1SGJJbUliVk5BJTJCWlBQVWkxRlpaZEZGYVE3MzNyVUdWVWZVMUUlMkZWTm9PMiUyRnZYNG0wNnVaTXVSWWVQcyUzRA; __gads=ID=668847d14e9834e9:T=1731754187:RT=1732326871:S=ALNI_MYZFl92wNR3wM1_zMN1uVbg8BrBSg; __gpi=UID=00000f966d263ea0:T=1731754187:RT=1732326871:S=ALNI_MZlYVWGpc-bGVa8fu2Hg5Ua0V8t5w; __eoi=ID=cab20012017f2266:T=1731754187:RT=1732326871:S=AA-AfjauSiJOciUWtzbaMZedFP7l; _clsk=hw69l7%7C1732326871544%7C1%7C0%7Ci.clarity.ms%2Fcollect; __attentive_pv=3; _ga=GA1.2.116078845.1731754154; _uetsid=e131ae20a93d11ef8ca5131c1362ce5a; _uetvid=664a96c0258411efb8d907e5e93f8b29; csrf_token=OCiHzFcMC_X_C-V9w5Ol9w50G351m6yXIxC18Z1kIIJj5WsBxFPTtp8rztB48eWZmMfqCSMVzP21eE2DZWnzTQ; _ruby-web_session=RVYikWaSimmkrxi7OZnhEs0KIJ9%2Fg49Tj07qFQcAeZamdAtsZbbdTTLc%2Fraj%2Bwvv3f0DI%2FpqEkG1Z0zQpYF%2B2WBt%2BgwvR3a9BfczOvqIcKFqwulN%2BiHvN7eLcAl1lAEcGdsRQ96c%2FnREqpPq33G8TEpFvk3TfgvBWFQmwm1xFPdBxW1SB8HL0mS24VcdJkv6uzCFO0g7YrV%2BAyOsb%2BoEADCxMTBTtNRJiEWLrAPVA8p%2B0qV2m%2BWnxa3%2BhRN9%2FGEddkm8QnRd5%2FARbm58R1tXfe%2FWKvJmSAEyr0fsd6cRTWRj1EdetDHfDgOJh3jw67knxsjtcmZaWFWqcAsoxnYNvSnLgGgMqQX4OIxM%2FiRa21oNNgAoZEt60I1YXouJgPedDylBNAQsQY6iLBJ2dbHICeE93K2IH8h3Y0n02qcOMv4hyymX04Cluir08LjAgqsm43VOvuSaJ9o%2F2maTDoo6cVEYrz13zzHopwVq5nJBGCmFC3%2BvMitJNxmWO12B1sNQv%2BrfCg9D4g%3D%3D--hY9Gvh7YcUPmiTeY--jzcVXp%2BPyFIGorr6AGlUOg%3D%3D; _pbjs_userid_consent_data=6803032713249827; _dd_s=rum=0&expire=1732327840445',\n",
    "    'priority': 'u=1, i',\n",
    "    'referer': 'https://www.vivino.com/US-CA/en/tenuta-ulisse-limited-edition-10-vendemmie-montepulciano-dabruzzo/w/6139455?price_id=34949644',\n",
    "    'sec-ch-ua': '\"Chromium\";v=\"130\", \"Google Chrome\";v=\"130\", \"Not?A_Brand\";v=\"99\"',\n",
    "    'sec-ch-ua-mobile': '?0',\n",
    "    'sec-ch-ua-platform': '\"macOS\"',\n",
    "    'sec-fetch-dest': 'empty',\n",
    "    'sec-fetch-mode': 'cors',\n",
    "    'sec-fetch-site': 'same-origin',\n",
    "    'user-agent': 'Mozilla/5.0 (Macintosh; Intel Mac OS X 10_15_7) AppleWebKit/537.36 (KHTML, like Gecko) Chrome/130.0.0.0 Safari/537.36',\n",
    "    'x-requested-with': 'XMLHttpRequest',\n",
    "}\n",
    "\n",
    "params = {\n",
    "    'per_page': '50',\n",
    "    'page': '2',\n",
    "    'year': 'N.V.',\n",
    "    'language': 'en',\n",
    "}\n",
    "\n",
    "response = requests.get('https://www.vivino.com/api/wines/6139455/reviews', params=params, cookies=cookies, headers=headers)"
   ]
  },
  {
   "cell_type": "code",
   "execution_count": null,
   "metadata": {
    "colab": {
     "base_uri": "https://localhost:8080/"
    },
    "id": "RKVgSs1luC-c",
    "outputId": "a5f8ae5c-4126-4485-a7c5-14c32283ae09"
   },
   "outputs": [],
   "source": [
    "response.json()"
   ]
  },
  {
   "cell_type": "code",
   "execution_count": null,
   "metadata": {
    "colab": {
     "base_uri": "https://localhost:8080/",
     "height": 379
    },
    "id": "IY65V6DruC-c",
    "outputId": "231e1154-591f-492d-a587-36b03de88651"
   },
   "outputs": [],
   "source": [
    "reviews_df = pd.DataFrame(response.json()['reviews'])\n",
    "reviews_df.head()"
   ]
  },
  {
   "cell_type": "code",
   "execution_count": null,
   "metadata": {
    "colab": {
     "base_uri": "https://localhost:8080/"
    },
    "id": "RF2LQI_buC-c",
    "outputId": "47d22fa1-b1cf-4e9e-ebbd-0b39ccc95402"
   },
   "outputs": [],
   "source": [
    "reviews_df.shape"
   ]
  },
  {
   "cell_type": "code",
   "execution_count": null,
   "metadata": {
    "id": "D3PUIsDtvaR7"
   },
   "outputs": [],
   "source": []
  }
 ],
 "metadata": {
  "colab": {
   "provenance": []
  },
  "kernelspec": {
   "display_name": "Python 3",
   "language": "python",
   "name": "python3"
  },
  "language_info": {
   "codemirror_mode": {
    "name": "ipython",
    "version": 3
   },
   "file_extension": ".py",
   "mimetype": "text/x-python",
   "name": "python",
   "nbconvert_exporter": "python",
   "pygments_lexer": "ipython3",
   "version": "3.8.10"
  }
 },
 "nbformat": 4,
 "nbformat_minor": 0
}
