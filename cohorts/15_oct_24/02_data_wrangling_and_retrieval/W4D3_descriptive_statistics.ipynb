{
 "cells": [
  {
   "cell_type": "markdown",
   "id": "eb77cd5d",
   "metadata": {},
   "source": [
    "# Descriptive Statistics Notebook\n",
    "\n",
    "## Index\n",
    "\n",
    "1. [Central Location Measures](#Location-Measures)\n",
    "    - Mean\n",
    "    - Median\n",
    "    - Mode\n",
    "\n",
    "2. [Non- central Location Measurres](#Non-Central-Location-Measures)\n",
    "    - Min, max\n",
    "    - Quartiles\n",
    "    - Percentiles\n",
    "\n",
    "3. [Dispersion Measures](#Dispersion-Measures)\n",
    "    - IQR - Inter Quartile Range\n",
    "    - Variance\n",
    "    - Standard Deviation\n",
    "    - Coeficient of Variation\n",
    "    - Advanced - Extra\n"
   ]
  },
  {
   "cell_type": "code",
   "execution_count": 1,
   "metadata": {},
   "outputs": [],
   "source": [
    "# Importing packages\n",
    "\n",
    "import numpy as np\n",
    "import matplotlib.pyplot as plt"
   ]
  },
  {
   "cell_type": "markdown",
   "id": "ce67e02d",
   "metadata": {},
   "source": [
    "# Central Location Measures"
   ]
  },
  {
   "cell_type": "markdown",
   "id": "46ea885e",
   "metadata": {},
   "source": [
    "## Mean"
   ]
  },
  {
   "cell_type": "code",
   "execution_count": 2,
   "metadata": {
    "colab": {
     "base_uri": "https://localhost:8080/"
    },
    "executionInfo": {
     "elapsed": 2,
     "status": "ok",
     "timestamp": 1714200010839,
     "user": {
      "displayName": "Gonçalo Jardim",
      "userId": "12269190236703436081"
     },
     "user_tz": -60
    },
    "id": "tEnIyrm56s2j",
    "outputId": "4ea976da-60f6-46fc-fe25-968510f1fe4c"
   },
   "outputs": [
    {
     "data": {
      "text/plain": [
       "array([53, 47, 77, 66, 64, 47, 71, 47, 58, 24, 74, 41, 64, 36, 49, 36, 55,\n",
       "       45, 75, 61, 73, 29, 78, 45, 63, 61, 34, 78, 64, 37, 25, 42, 37, 57,\n",
       "       46, 56, 75, 21, 37, 59, 20, 76, 22, 68, 27, 76, 51, 75, 76, 23, 20,\n",
       "       69, 47, 57, 40, 58, 30, 75, 72, 78, 26, 74, 42, 26, 38, 69, 32, 21,\n",
       "       56, 34, 79, 71, 50, 32, 44, 63, 74, 49, 62, 65, 34, 34, 45, 62, 45,\n",
       "       59, 65, 69, 50, 69, 54, 75, 46, 60, 58, 50, 51, 50, 26, 65, 58, 43,\n",
       "       29, 31, 28, 24, 53, 35, 39, 28, 48, 45, 51, 45, 66, 29, 30, 71, 37,\n",
       "       57, 44, 21, 41, 52, 70, 41, 68, 49, 71, 66, 79, 32, 70, 45, 55, 54,\n",
       "       71, 51, 26, 44, 20, 67, 43, 66, 79, 61, 22, 60, 46, 62, 44, 41, 60,\n",
       "       55, 40, 57, 42, 36, 51, 48, 48, 70, 78, 44, 47, 33, 74, 32, 34, 55,\n",
       "       32, 55, 27, 57, 53, 24, 69, 33, 38, 44, 41, 42, 58, 39, 60, 52, 67,\n",
       "       75, 54, 42, 56, 22, 78, 32, 55, 26, 46, 65, 59, 32, 49, 67, 54, 37,\n",
       "       33, 45, 30, 46, 29, 52, 64, 62, 45, 78, 37, 39, 35, 21, 40, 62, 33,\n",
       "       36, 64, 65, 52, 29, 34, 48, 48, 45, 59, 74, 21, 24, 65, 58, 37, 73,\n",
       "       38, 53, 45, 28, 24, 34, 69, 55, 32, 67, 53, 21, 44, 59, 79, 39, 79,\n",
       "       50, 74, 41, 33, 29, 79, 69, 55, 43, 68, 67, 31, 34, 37, 58, 75, 68,\n",
       "       78, 79, 60, 39, 74, 34, 62, 58, 51, 21, 55, 32, 51, 50, 62, 55, 67,\n",
       "       47, 36, 53, 73, 37, 33, 58, 60, 28, 22, 26, 28, 41, 40, 77, 25, 72,\n",
       "       61, 76, 21, 46, 45, 37, 71, 65, 57, 76, 47, 63, 22, 35, 79, 67, 46,\n",
       "       37, 76, 73, 39, 29, 54, 66, 44, 46, 60, 44, 43, 43, 65, 73, 36, 61,\n",
       "       52, 29, 71, 65, 66, 72, 63, 50, 27, 61, 43, 27, 63, 50, 63, 54, 23,\n",
       "       29, 33, 28, 34, 51, 62, 78, 33, 46, 64, 43, 60, 74, 77, 41, 44, 60,\n",
       "       76, 22, 79, 34, 45, 67, 49, 51, 22, 39, 67, 39, 30, 73, 77, 60, 70,\n",
       "       51, 54, 39, 20, 26, 33, 45, 37, 30, 39, 73, 77, 59, 32, 50, 36, 51,\n",
       "       41, 76, 50, 29, 73, 33, 43, 50, 65, 28, 44, 32, 78, 68, 52, 43, 58,\n",
       "       76, 42, 76, 45, 65, 42, 74, 60, 38, 38, 33, 63, 68, 52, 26, 42, 67,\n",
       "       63, 26, 40, 38, 53, 54, 75, 70, 31, 62, 28, 73, 44, 24, 77, 29, 55,\n",
       "       77, 25, 67, 43, 55, 78, 58, 49, 20, 44, 72, 73, 28, 38, 26, 72, 23,\n",
       "       42, 56, 64, 33, 67, 54, 46, 35, 28, 59, 59, 48, 59, 49, 79, 62, 78,\n",
       "       58, 29, 35, 59, 46, 30, 51])"
      ]
     },
     "execution_count": 2,
     "metadata": {},
     "output_type": "execute_result"
    }
   ],
   "source": [
    "dataset = np.random.randint(20,80,size = 500)\n",
    "dataset"
   ]
  },
  {
   "cell_type": "code",
   "execution_count": 5,
   "metadata": {
    "colab": {
     "base_uri": "https://localhost:8080/"
    },
    "executionInfo": {
     "elapsed": 245,
     "status": "ok",
     "timestamp": 1714200019605,
     "user": {
      "displayName": "Gonçalo Jardim",
      "userId": "12269190236703436081"
     },
     "user_tz": -60
    },
    "id": "FhF5VHzp63uj",
    "outputId": "81fb62b7-9eb7-45b5-b122-d478422c883d"
   },
   "outputs": [
    {
     "name": "stdout",
     "output_type": "stream",
     "text": [
      "50.334\n",
      "50.334\n"
     ]
    }
   ],
   "source": [
    "# calculate the mean/average\n",
    "\n",
    "mean = (np.sum(dataset))/len(dataset)\n",
    "print(mean)\n",
    "\n",
    "# there is a function for this in numpy\n",
    "print(dataset.mean())\n",
    "\n",
    "# mean is a measure of location/center\n",
    "# problem of mean: it is very sensitive to outliers\n",
    "\n",
    "mean_data_2 = (np.sum(dataset))/dataset.size"
   ]
  },
  {
   "cell_type": "code",
   "execution_count": 6,
   "metadata": {},
   "outputs": [
    {
     "data": {
      "text/plain": [
       "True"
      ]
     },
     "execution_count": 6,
     "metadata": {},
     "output_type": "execute_result"
    }
   ],
   "source": [
    "mean == mean_data_2"
   ]
  },
  {
   "cell_type": "markdown",
   "id": "e6b9872d",
   "metadata": {},
   "source": [
    "## Median"
   ]
  },
  {
   "cell_type": "code",
   "execution_count": 4,
   "metadata": {
    "colab": {
     "base_uri": "https://localhost:8080/"
    },
    "executionInfo": {
     "elapsed": 237,
     "status": "ok",
     "timestamp": 1714200040559,
     "user": {
      "displayName": "Gonçalo Jardim",
      "userId": "12269190236703436081"
     },
     "user_tz": -60
    },
    "id": "5hx4RyYB8LdC",
    "outputId": "1ffbf339-a45c-46c4-9bfb-993fbbabc8b3"
   },
   "outputs": [
    {
     "name": "stdout",
     "output_type": "stream",
     "text": [
      "21\n",
      "21\n",
      "50.0\n"
     ]
    }
   ],
   "source": [
    "# median -> the central number/ middle value\n",
    "# understand why the median is barely affected by outliers\n",
    "# because outliers only count as \"one more element\" and barely change the center\n",
    "print(np.sort(dataset)[5])\n",
    "print(np.sort(dataset)[6])\n",
    "print(np.median(dataset))"
   ]
  },
  {
   "cell_type": "markdown",
   "id": "894d6d25",
   "metadata": {},
   "source": [
    "## Mode"
   ]
  },
  {
   "cell_type": "code",
   "execution_count": 7,
   "metadata": {
    "colab": {
     "base_uri": "https://localhost:8080/"
    },
    "executionInfo": {
     "elapsed": 1094,
     "status": "ok",
     "timestamp": 1714200053134,
     "user": {
      "displayName": "Gonçalo Jardim",
      "userId": "12269190236703436081"
     },
     "user_tz": -60
    },
    "id": "fPayHz2L88yw",
    "outputId": "67dfc9a6-dcd3-47e1-8a58-8ad4f618eb40"
   },
   "outputs": [
    {
     "data": {
      "text/plain": [
       "ModeResult(mode=45, count=15)"
      ]
     },
     "execution_count": 7,
     "metadata": {},
     "output_type": "execute_result"
    }
   ],
   "source": [
    "# mode is the most frequent value aka: the one that appears the most\n",
    "# numpy doesnt have an easy mode function\n",
    "# https://www.scipy.org/\n",
    "from scipy import stats\n",
    "\n",
    "stats.mode(dataset)\n",
    "#mode method returns 2 elements -> the mode, and the count of that element"
   ]
  },
  {
   "cell_type": "code",
   "execution_count": 8,
   "metadata": {},
   "outputs": [
    {
     "data": {
      "text/plain": [
       "array([20, 20, 20, 20, 20, 21, 21, 21, 21, 21, 21, 21, 21, 22, 22, 22, 22,\n",
       "       22, 22, 22, 23, 23, 23, 24, 24, 24, 24, 24, 24, 25, 25, 25, 26, 26,\n",
       "       26, 26, 26, 26, 26, 26, 26, 26, 27, 27, 27, 27, 28, 28, 28, 28, 28,\n",
       "       28, 28, 28, 28, 28, 29, 29, 29, 29, 29, 29, 29, 29, 29, 29, 29, 29,\n",
       "       30, 30, 30, 30, 30, 30, 31, 31, 31, 32, 32, 32, 32, 32, 32, 32, 32,\n",
       "       32, 32, 32, 33, 33, 33, 33, 33, 33, 33, 33, 33, 33, 33, 33, 34, 34,\n",
       "       34, 34, 34, 34, 34, 34, 34, 34, 34, 35, 35, 35, 35, 35, 36, 36, 36,\n",
       "       36, 36, 36, 36, 37, 37, 37, 37, 37, 37, 37, 37, 37, 37, 37, 37, 38,\n",
       "       38, 38, 38, 38, 38, 38, 39, 39, 39, 39, 39, 39, 39, 39, 39, 39, 40,\n",
       "       40, 40, 40, 40, 41, 41, 41, 41, 41, 41, 41, 41, 41, 42, 42, 42, 42,\n",
       "       42, 42, 42, 42, 42, 43, 43, 43, 43, 43, 43, 43, 43, 43, 43, 44, 44,\n",
       "       44, 44, 44, 44, 44, 44, 44, 44, 44, 44, 44, 45, 45, 45, 45, 45, 45,\n",
       "       45, 45, 45, 45, 45, 45, 45, 45, 45, 46, 46, 46, 46, 46, 46, 46, 46,\n",
       "       46, 46, 46, 47, 47, 47, 47, 47, 47, 47, 48, 48, 48, 48, 48, 48, 49,\n",
       "       49, 49, 49, 49, 49, 49, 50, 50, 50, 50, 50, 50, 50, 50, 50, 50, 50,\n",
       "       51, 51, 51, 51, 51, 51, 51, 51, 51, 51, 51, 51, 52, 52, 52, 52, 52,\n",
       "       52, 52, 53, 53, 53, 53, 53, 53, 53, 54, 54, 54, 54, 54, 54, 54, 54,\n",
       "       54, 55, 55, 55, 55, 55, 55, 55, 55, 55, 55, 55, 55, 56, 56, 56, 56,\n",
       "       57, 57, 57, 57, 57, 57, 58, 58, 58, 58, 58, 58, 58, 58, 58, 58, 58,\n",
       "       58, 59, 59, 59, 59, 59, 59, 59, 59, 59, 59, 60, 60, 60, 60, 60, 60,\n",
       "       60, 60, 60, 60, 60, 61, 61, 61, 61, 61, 61, 62, 62, 62, 62, 62, 62,\n",
       "       62, 62, 62, 62, 63, 63, 63, 63, 63, 63, 63, 63, 64, 64, 64, 64, 64,\n",
       "       64, 64, 65, 65, 65, 65, 65, 65, 65, 65, 65, 65, 65, 66, 66, 66, 66,\n",
       "       66, 66, 67, 67, 67, 67, 67, 67, 67, 67, 67, 67, 67, 67, 68, 68, 68,\n",
       "       68, 68, 68, 69, 69, 69, 69, 69, 69, 69, 70, 70, 70, 70, 70, 71, 71,\n",
       "       71, 71, 71, 71, 71, 72, 72, 72, 72, 72, 73, 73, 73, 73, 73, 73, 73,\n",
       "       73, 73, 73, 74, 74, 74, 74, 74, 74, 74, 74, 74, 75, 75, 75, 75, 75,\n",
       "       75, 75, 75, 76, 76, 76, 76, 76, 76, 76, 76, 76, 76, 77, 77, 77, 77,\n",
       "       77, 77, 77, 78, 78, 78, 78, 78, 78, 78, 78, 78, 78, 78, 79, 79, 79,\n",
       "       79, 79, 79, 79, 79, 79, 79])"
      ]
     },
     "execution_count": 8,
     "metadata": {},
     "output_type": "execute_result"
    }
   ],
   "source": [
    "np.sort(dataset)"
   ]
  },
  {
   "cell_type": "code",
   "execution_count": null,
   "metadata": {
    "colab": {
     "base_uri": "https://localhost:8080/"
    },
    "executionInfo": {
     "elapsed": 238,
     "status": "ok",
     "timestamp": 1714200056494,
     "user": {
      "displayName": "Gonçalo Jardim",
      "userId": "12269190236703436081"
     },
     "user_tz": -60
    },
    "id": "yWiHrtvH1yt7",
    "outputId": "521e968a-a6f9-4219-9348-cb36841bda03"
   },
   "outputs": [],
   "source": [
    "dataset"
   ]
  },
  {
   "cell_type": "markdown",
   "metadata": {},
   "source": [
    "# Non-Central Location Measures"
   ]
  },
  {
   "cell_type": "markdown",
   "metadata": {},
   "source": [
    "## Min and max"
   ]
  },
  {
   "cell_type": "code",
   "execution_count": 9,
   "metadata": {},
   "outputs": [
    {
     "name": "stdout",
     "output_type": "stream",
     "text": [
      "20\n",
      "79\n"
     ]
    }
   ],
   "source": [
    "print(dataset.min())\n",
    "print(dataset.max())"
   ]
  },
  {
   "cell_type": "markdown",
   "metadata": {},
   "source": [
    "## Quartiles and percentiles"
   ]
  },
  {
   "cell_type": "code",
   "execution_count": 10,
   "metadata": {},
   "outputs": [
    {
     "name": "stdout",
     "output_type": "stream",
     "text": [
      "the first quartile is 37.0\n",
      "the second quartile is 50.0\n",
      "the third quartile is 64.0\n"
     ]
    }
   ],
   "source": [
    "# calculated the lower quartile -> the position where 25% of my data \"has passed\"\n",
    "q1 = np.quantile(dataset, 0.25)#, interpolation='midpoint')\n",
    "print(\"the first quartile is\", q1)\n",
    "q2 = np.quantile(dataset, 0.50)\n",
    "print(\"the second quartile is\",q2)\n",
    "q3 = np.quantile(dataset, 0.75)\n",
    "print(\"the third quartile is\", q3)"
   ]
  },
  {
   "cell_type": "code",
   "execution_count": 21,
   "metadata": {},
   "outputs": [
    {
     "data": {
      "text/plain": [
       "(array([  0.,  68.,  84.,  92., 174.,  82.]),\n",
       " array([ 0., 20., 30., 40., 50., 70., 80.]),\n",
       " <BarContainer object of 6 artists>)"
      ]
     },
     "execution_count": 21,
     "metadata": {},
     "output_type": "execute_result"
    },
    {
     "data": {
      "image/png": "[encoded data removed]",
      "text/plain": [
       "<Figure size 640x480 with 1 Axes>"
      ]
     },
     "metadata": {},
     "output_type": "display_data"
    }
   ],
   "source": [
    "# plotting histograms allows us to visualize nicely the distribution of our data\n",
    "# this histograms creates \"buckets/boxes\" of values and then places the numbers of the dataset in each box and counts\n",
    "plt.hist(dataset, bins =[0, 20, 30, 40, 50, 70, 80])\n",
    "#only x param in hist\n",
    "#plt.show()\n"
   ]
  },
  {
   "cell_type": "code",
   "execution_count": 23,
   "metadata": {},
   "outputs": [
    {
     "data": {
      "image/png": "[encoded data removed]",
      "text/plain": [
       "<Figure size 640x480 with 1 Axes>"
      ]
     },
     "metadata": {},
     "output_type": "display_data"
    }
   ],
   "source": [
    "# plotting histograms allows us to visualize nicely the distribution of our data\n",
    "# this histograms creates \"buckets/boxes\" of values and then places the numbers of the dataset in each box and counts\n",
    "plt.hist(dataset, bins =10)\n",
    "#only x param in hist\n",
    "#plt.show()\n",
    "\n",
    "#plt.hist(dataset, bins = 20, cumulative = True)\n",
    "#plt.hlines([125,250,375],20,85,colors = 'r')\n",
    "plt.vlines([q1,q2,q3],0,60,colors='r', label= [q1,q2,q3])\n",
    "plt.show()"
   ]
  },
  {
   "cell_type": "code",
   "execution_count": null,
   "metadata": {},
   "outputs": [
    {
     "data": {
      "image/png": "[encoded data removed]",
      "text/plain": [
       "<Figure size 640x480 with 1 Axes>"
      ]
     },
     "metadata": {},
     "output_type": "display_data"
    }
   ],
   "source": [
    "# the box plot brings together all this information\n",
    "plt.boxplot(dataset)\n",
    "plt.show()\n",
    "#We can see min, max, first quartile, median and third quartile"
   ]
  },
  {
   "cell_type": "code",
   "execution_count": 24,
   "metadata": {},
   "outputs": [],
   "source": [
    "#Can use a column of a dataframe instead of an array"
   ]
  },
  {
   "cell_type": "markdown",
   "id": "b0cb39e2",
   "metadata": {},
   "source": [
    "# Dispersion Measures"
   ]
  },
  {
   "cell_type": "markdown",
   "metadata": {},
   "source": [
    "## IQR - Inter Quartile Range"
   ]
  },
  {
   "cell_type": "code",
   "execution_count": null,
   "metadata": {},
   "outputs": [],
   "source": [
    "# Interquartile Range\n",
    "\n",
    "# range\n",
    "print(dataset.max() - dataset.min())\n",
    "\n",
    "# what information does the IQR give you about how spread out the data is?\n",
    "# between the upper quartile and the lower quartile lies for sure 50% of the data\n",
    "#it's a measure of how spread out, 50% of the data is?\n",
    "iqr = q3 - q1\n",
    "print(iqr)"
   ]
  },
  {
   "cell_type": "code",
   "execution_count": null,
   "metadata": {},
   "outputs": [],
   "source": [
    "dataset-np.mean(dataset)"
   ]
  },
  {
   "cell_type": "code",
   "execution_count": null,
   "metadata": {},
   "outputs": [],
   "source": [
    "np.square(dataset-np.mean(dataset))"
   ]
  },
  {
   "cell_type": "markdown",
   "metadata": {},
   "source": [
    "## Variance"
   ]
  },
  {
   "cell_type": "code",
   "execution_count": null,
   "metadata": {},
   "outputs": [],
   "source": [
    "# variance\n",
    "\n",
    "# we square the differences between the mean and each point\n",
    "squared_differences = np.square(dataset-np.mean(dataset))\n",
    "variance = np.sum(squared_differences)/len(dataset)"
   ]
  },
  {
   "cell_type": "markdown",
   "metadata": {},
   "source": [
    "## Standard Deviation"
   ]
  },
  {
   "cell_type": "code",
   "execution_count": null,
   "metadata": {},
   "outputs": [],
   "source": [
    "# is the variance a meaningful indicator? why?\n",
    "# the units of the variance are the square of the units of each elements\n",
    "# makes it hard to relate to the average.\n",
    "\n",
    "standard_deviation = np.sqrt(variance)\n",
    "\n",
    "\n",
    "\n",
    "# the standard deviation has the correct units compared to each element\n",
    "\n",
    "print(\"\"\"The \"typical\" variation of ages in this data set is \"\"\", standard_deviation)\n"
   ]
  },
  {
   "cell_type": "code",
   "execution_count": null,
   "metadata": {},
   "outputs": [],
   "source": [
    "dataset2 = []"
   ]
  },
  {
   "cell_type": "code",
   "execution_count": null,
   "metadata": {},
   "outputs": [],
   "source": [
    "np.std(dataset)/np.mean(dataset)"
   ]
  },
  {
   "cell_type": "code",
   "execution_count": null,
   "metadata": {},
   "outputs": [],
   "source": [
    "np.std(dataset2)/np.mean(dataset2)"
   ]
  },
  {
   "cell_type": "markdown",
   "metadata": {},
   "source": [
    "## Coefficient of Variation"
   ]
  },
  {
   "cell_type": "code",
   "execution_count": null,
   "metadata": {},
   "outputs": [],
   "source": [
    "# coefficient of variation. standard deviation as percentage of mean\n",
    "\n",
    "cv = standard_deviation/np.mean(dataset)\n",
    "print(cv)\n",
    "\n",
    "#big advantage -> this indicator has no units -> its a relative indicator\n",
    "# very useful when comparing the variations of measures with different units\n",
    "\n",
    "#e.g.\n",
    "#webdev cohort std of height = 20 cm\n",
    "#cv_webdev = 35%\n",
    "#data cohort std of ages = 4 years\n",
    "#cv_data = 15%\n",
    "#what has more variation? heights in webdev of ages in data?\n",
    "#based on CV I can say that ages in data, has less variation than heights in webdev\n",
    "\n",
    "\n",
    "\n",
    "# one BIG disadvantage of CV -> non-linear data transformations\n",
    "\n",
    "# these numbers are exactly the same but in two different scales\n",
    "# celsius faranheit scale example  D*(9/5) + 32 = F\n",
    "\n",
    "Celsius =  [0, 10, 20, 30, 40]\n",
    "Fahrenheit =  [32, 50, 68, 86, 104]\n",
    "\n",
    "print(np.std(Celsius)/np.mean(Celsius))\n",
    "print(np.std(Fahrenheit)/np.mean(Fahrenheit))"
   ]
  },
  {
   "cell_type": "markdown",
   "id": "f75ed14c",
   "metadata": {},
   "source": [
    "### Advanced - Extra"
   ]
  },
  {
   "cell_type": "code",
   "execution_count": null,
   "metadata": {},
   "outputs": [],
   "source": [
    "#ADVANCED: Rankine is to Farenheight what Kelvin is to Celsius (-273.15), which means there is a linear relation between Kelvin and Rankine\n",
    "#(9/5) to be exact\n",
    "Kelvin = [273.15, 283.15, 293.15, 303.15, 313.15]\n",
    "Rankine = [491.67, 509.67, 527.67, 545.67, 563.67]\n",
    "#print(np.divide(np.array(Rankine),np.array(Kelvin)))\n",
    "\n",
    "print(np.std(Kelvin)/np.mean(Kelvin))\n",
    "print(np.std(Rankine)/np.mean(Rankine))"
   ]
  }
 ],
 "metadata": {
  "colab": {
   "provenance": []
  },
  "kernelspec": {
   "display_name": "base",
   "language": "python",
   "name": "python3"
  },
  "language_info": {
   "codemirror_mode": {
    "name": "ipython",
    "version": 3
   },
   "file_extension": ".py",
   "mimetype": "text/x-python",
   "name": "python",
   "nbconvert_exporter": "python",
   "pygments_lexer": "ipython3",
   "version": "3.12.4"
  }
 },
 "nbformat": 4,
 "nbformat_minor": 0
}
