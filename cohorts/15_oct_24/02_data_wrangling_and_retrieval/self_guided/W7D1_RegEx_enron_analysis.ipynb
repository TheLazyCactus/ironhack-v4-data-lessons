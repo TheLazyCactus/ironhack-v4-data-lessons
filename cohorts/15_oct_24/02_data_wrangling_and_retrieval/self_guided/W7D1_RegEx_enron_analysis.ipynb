{
 "cells": [
  {
   "cell_type": "markdown",
   "metadata": {},
   "source": [
    "**Table of contents**<a id='toc0_'></a>    \n",
    "- [Enron email analysis](#toc1_)    \n",
    "  - [💡 Do it yourself](#toc1_1_)    \n",
    "  - [💡 Do it yourself](#toc1_2_)    \n",
    "- [References/Acknowledgments](#toc2_)    \n",
    "\n",
    "<!-- vscode-jupyter-toc-config\n",
    "\tnumbering=false\n",
    "\tanchor=true\n",
    "\tflat=false\n",
    "\tminLevel=1\n",
    "\tmaxLevel=6\n",
    "\t/vscode-jupyter-toc-config -->\n",
    "<!-- THIS CELL WILL BE REPLACED ON TOC UPDATE. DO NOT WRITE YOUR TEXT IN THIS CELL -->"
   ]
  },
  {
   "cell_type": "markdown",
   "metadata": {},
   "source": [
    "# <a id='toc1_'></a>[Enron email analysis](#toc0_)"
   ]
  },
  {
   "cell_type": "code",
   "execution_count": null,
   "metadata": {},
   "outputs": [],
   "source": [
    "# Your BFF is back\n",
    "import pandas as pd"
   ]
  },
  {
   "cell_type": "code",
   "execution_count": null,
   "metadata": {},
   "outputs": [],
   "source": [
    "# Read our dataset and get an idea of how it looks like\n",
    "enron = pd.read_csv('enron.csv')\n",
    "display(enron.shape)\n",
    "enron.head()"
   ]
  },
  {
   "cell_type": "code",
   "execution_count": null,
   "metadata": {},
   "outputs": [],
   "source": [
    "# How does a message look like?\n",
    "print(enron.iloc[0]['raw message'])"
   ]
  },
  {
   "cell_type": "markdown",
   "metadata": {},
   "source": [
    "We see we have a sender (`From:`), a subject (`Subject:`), CC, BCC, the date (`Date:`) and the body (`body:`) of the message. Therefore, we can parse our dataset so it has a column for each of these bits of information."
   ]
  },
  {
   "cell_type": "code",
   "execution_count": null,
   "metadata": {},
   "outputs": [],
   "source": [
    "# Get the sender/s of the message\n",
    "def get_sender(message):\n",
    "    return re.findall('From: [\\w@\\.]+ ', message)"
   ]
  },
  {
   "cell_type": "code",
   "execution_count": null,
   "metadata": {},
   "outputs": [],
   "source": [
    "# Apply to dataframe\n",
    "enron['From'] = enron['raw message'].apply(get_sender)\n",
    "enron"
   ]
  },
  {
   "cell_type": "markdown",
   "metadata": {},
   "source": [
    "What if there's no `From:`? We can extract the first email we find instead:"
   ]
  },
  {
   "cell_type": "code",
   "execution_count": null,
   "metadata": {},
   "outputs": [],
   "source": [
    "# Let's do it better\n",
    "def get_sender(message):\n",
    "    return re.findall('(From: )([\\w\\@\\.-]+)( )',message)[0][1]"
   ]
  },
  {
   "cell_type": "code",
   "execution_count": null,
   "metadata": {},
   "outputs": [],
   "source": [
    "enron['From'] = enron['raw message'].apply(get_sender)\n",
    "enron"
   ]
  },
  {
   "cell_type": "markdown",
   "metadata": {},
   "source": [
    "What if there's no email at all?"
   ]
  },
  {
   "cell_type": "code",
   "execution_count": null,
   "metadata": {},
   "outputs": [],
   "source": [
    "def get_sender(message):\n",
    "    try:\n",
    "        out = re.findall('(From: )([\\w\\@\\.-]+)( )', message)[0][1]\n",
    "    except:\n",
    "        out = ''\n",
    "    return out"
   ]
  },
  {
   "cell_type": "code",
   "execution_count": null,
   "metadata": {},
   "outputs": [],
   "source": [
    "enron['From'] = enron['raw message'].apply(get_sender)\n",
    "enron"
   ]
  },
  {
   "cell_type": "markdown",
   "metadata": {},
   "source": [
    "## <a id='toc1_1_'></a>[💡 Do it yourself](#toc0_)"
   ]
  },
  {
   "cell_type": "markdown",
   "metadata": {},
   "source": [
    "Following a similar logic, extract the recipient column!"
   ]
  },
  {
   "cell_type": "code",
   "execution_count": null,
   "metadata": {},
   "outputs": [],
   "source": [
    "# Your code here\n",
    "\n",
    "#solution\n",
    "def get_receiver(message):\n",
    "  to_list = re.findall('To:.*Subject:',message)\n",
    "  if len(to_list)>0:\n",
    "    out = to_list\n",
    "  else:\n",
    "    out=''\n",
    "  return out"
   ]
  },
  {
   "cell_type": "code",
   "execution_count": null,
   "metadata": {},
   "outputs": [],
   "source": [
    "enron['To'] = enron['raw message'].apply(get_receiver)\n",
    "enron\n"
   ]
  },
  {
   "cell_type": "code",
   "execution_count": null,
   "metadata": {},
   "outputs": [],
   "source": [
    "# Your code here\n",
    "\n",
    "#solution\n",
    "def get_receiver(message):\n",
    "  to_list = re.findall('(To: )([\\w\\@\\.-]+)([ ,])',message)\n",
    "  if len(to_list)>0:\n",
    "    out = to_list[0][1]\n",
    "  else:\n",
    "    out=''\n",
    "  return out"
   ]
  },
  {
   "cell_type": "code",
   "execution_count": null,
   "metadata": {},
   "outputs": [],
   "source": [
    "enron['To'] = enron['raw message'].apply(get_receiver)\n",
    "enron\n"
   ]
  },
  {
   "cell_type": "code",
   "execution_count": null,
   "metadata": {},
   "outputs": [],
   "source": [
    "print(enron.iloc[3]['raw message'])"
   ]
  },
  {
   "cell_type": "markdown",
   "metadata": {},
   "source": [
    "Now let's get the date in a column:"
   ]
  },
  {
   "cell_type": "code",
   "execution_count": null,
   "metadata": {},
   "outputs": [],
   "source": [
    "# Check raw message again\n",
    "print(enron.iloc[0]['raw message'])"
   ]
  },
  {
   "cell_type": "markdown",
   "metadata": {},
   "source": [
    "We see the date is formatted like: {`Day of the week` (3 letters)}, {`Day`} {`Month` (3 letters)} {`Year` (4 digits)} {`Hours`}:{`Minutes`}:{`Seconds`} {`Time zone` (+/- 4 digits)} ({`Timezone name`})"
   ]
  },
  {
   "cell_type": "code",
   "execution_count": null,
   "metadata": {},
   "outputs": [],
   "source": [
    "date_pattern = 'Date: \\w{3}, \\d{1,2} \\w{3} \\d{4}'\n",
    "enron['Date'] = enron['raw message'].apply(lambda x: re.findall(date_pattern, x)[0])\n",
    "enron"
   ]
  },
  {
   "cell_type": "code",
   "execution_count": null,
   "metadata": {},
   "outputs": [],
   "source": [
    "# Let's remove the Date\n",
    "date_pattern = '(Date: )(\\w{3}, \\d{1,2} \\w{3} \\d{4})'\n",
    "enron['Date'] = enron['raw message'].apply(lambda x: re.findall(date_pattern, x)[0][1])\n",
    "enron"
   ]
  },
  {
   "cell_type": "code",
   "execution_count": null,
   "metadata": {},
   "outputs": [],
   "source": [
    "# Let's remove the day of the week\n",
    "date_pattern = '(Date: )(\\w{3}, )(\\d{1,2} \\w{3} \\d{4})'\n",
    "enron['Date'] = enron['raw message'].apply(lambda x: re.findall(date_pattern, x)[0][2])\n",
    "enron"
   ]
  },
  {
   "cell_type": "markdown",
   "metadata": {},
   "source": [
    "Let's also find potential names by looking for the following pattern: {`First Name`} {`Last Name`}"
   ]
  },
  {
   "cell_type": "code",
   "execution_count": null,
   "metadata": {},
   "outputs": [],
   "source": [
    "def names_mentioned_narrow_down(message):\n",
    "    return re.findall('[A-Z][a-z]+ [A-Z][a-z]+', message)"
   ]
  },
  {
   "cell_type": "markdown",
   "metadata": {},
   "source": [
    "**Notes:**\n",
    "- This time we don't use `\\w` as we know that names do not have digits (unless you're `X AE A-XII`, formerly known as `X Æ A-12`)\n",
    "- We can define ranges of characters to search for `[a-z]`\n",
    "- We can specify the capitalization of the range we're interested in `[A-Z]`, `[a-z]`, or `[A-z]` "
   ]
  },
  {
   "cell_type": "code",
   "execution_count": null,
   "metadata": {},
   "outputs": [],
   "source": [
    "enron['names_mentioned'] = enron['raw message'].apply(names_mentioned_narrow_down)\n",
    "enron"
   ]
  },
  {
   "cell_type": "markdown",
   "metadata": {},
   "source": [
    "## <a id='toc1_2_'></a>[💡 Do it yourself](#toc0_)"
   ]
  },
  {
   "cell_type": "markdown",
   "metadata": {},
   "source": [
    "Now find the emails mentioned!"
   ]
  },
  {
   "cell_type": "code",
   "execution_count": null,
   "metadata": {},
   "outputs": [],
   "source": [
    "# Your code here"
   ]
  },
  {
   "cell_type": "markdown",
   "metadata": {},
   "source": [
    "We can also extract any phone numbers that appear in our message, as they typically have this pattern: `###-###-###`"
   ]
  },
  {
   "cell_type": "code",
   "execution_count": null,
   "metadata": {},
   "outputs": [],
   "source": [
    "def phone_nr_mentioned(message):\n",
    "    return re.findall('([0-9]{3}-[0-9]{3}-[0-9]{3})', message)"
   ]
  },
  {
   "cell_type": "code",
   "execution_count": null,
   "metadata": {},
   "outputs": [],
   "source": [
    "enron['phone_nr_mentioned'] = enron['raw message'].apply(phone_nr_mentioned)\n",
    "enron"
   ]
  },
  {
   "cell_type": "markdown",
   "metadata": {},
   "source": [
    "# <a id='toc2_'></a>[References/Acknowledgments](#toc0_)\n",
    "\n",
    "This lesson was taken from David Henriques with a couple of edits."
   ]
  }
 ],
 "metadata": {
  "colab": {
   "provenance": []
  },
  "kernelspec": {
   "display_name": "Python 3",
   "name": "python3"
  },
  "language_info": {
   "codemirror_mode": {
    "name": "ipython",
    "version": 3
   },
   "file_extension": ".py",
   "mimetype": "text/x-python",
   "name": "python",
   "nbconvert_exporter": "python",
   "pygments_lexer": "ipython3",
   "version": "3.9.13"
  }
 },
 "nbformat": 4,
 "nbformat_minor": 0
}
