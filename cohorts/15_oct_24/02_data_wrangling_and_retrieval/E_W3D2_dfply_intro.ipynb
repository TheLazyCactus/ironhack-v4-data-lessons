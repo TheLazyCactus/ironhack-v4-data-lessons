{
 "cells": [
  {
   "attachments": {},
   "cell_type": "markdown",
   "metadata": {},
   "source": [
    "# Data exploration & preprocessing and the `dfply` library\n",
    "\n",
    "`dfply` is a library that allows manipulation of pandas dataframes using \"pipes\", or operators such as `>>` or `>>=`, which make code much easier to read compared to using the operations provided by the `pandas` library. You can find the full library documentation [here](https://github.com/kieferk/dfply)."
   ]
  },
  {
   "attachments": {},
   "cell_type": "markdown",
   "metadata": {},
   "source": [
    "First things first... let's install!"
   ]
  },
  {
   "cell_type": "code",
   "execution_count": null,
   "metadata": {},
   "outputs": [],
   "source": [
    "# !pip install dfply\n",
    "\n",
    "# We'll directly import all functions from dfply\n",
    "from dfply import * "
   ]
  },
  {
   "attachments": {},
   "cell_type": "markdown",
   "metadata": {},
   "source": [
    "![Diamond image](https://imgs.search.brave.com/9G9zDX2B07vBNRsjS3uhXz_axrgqmj0ulCY1P2nO90k/rs:fit:844:225:1/g:ce/aHR0cHM6Ly90c2U0/Lm1tLmJpbmcubmV0/L3RoP2lkPU9JUC54/R1BTRkJvRUx2WkUt/OFBKUjIxUFh3SGFF/SyZwaWQ9QXBp)"
   ]
  },
  {
   "cell_type": "code",
   "execution_count": null,
   "metadata": {},
   "outputs": [],
   "source": [
    "# dfply comes with an in-built generic dataset\n",
    "diamonds.head()"
   ]
  },
  {
   "attachments": {},
   "cell_type": "markdown",
   "metadata": {},
   "source": [
    "# How did I find this?\n",
    "\n",
    "I regularly follow a Data Science weekly newsletter called [Data Elixir](https://dataelixir.com/), which compiles industry news, articles, and tips which I highly recommend! This newsletter is also how I learnt that the Dunning-Kruger effect, or the belief that \"stupid people don't know they're stupid\", is actually [statistics gone wrong](https://economicsfromthetopdown.com/2022/04/08/the-dunning-kruger-effect-is-autocorrelation/#fn2) ... "
   ]
  },
  {
   "attachments": {},
   "cell_type": "markdown",
   "metadata": {},
   "source": [
    "# Pipeline operators"
   ]
  },
  {
   "attachments": {},
   "cell_type": "markdown",
   "metadata": {},
   "source": [
    "## 1. Create and display a new dataframe (`>>`)"
   ]
  },
  {
   "cell_type": "code",
   "execution_count": null,
   "metadata": {},
   "outputs": [],
   "source": [
    "diamonds >> head(5)"
   ]
  },
  {
   "cell_type": "code",
   "execution_count": null,
   "metadata": {},
   "outputs": [],
   "source": [
    "diamonds >> head(5) >> tail(3)"
   ]
  },
  {
   "cell_type": "code",
   "execution_count": null,
   "metadata": {},
   "outputs": [],
   "source": [
    "diamonds.head(5).tail(3)"
   ]
  },
  {
   "cell_type": "code",
   "execution_count": null,
   "metadata": {},
   "outputs": [],
   "source": [
    "diamonds_5 = diamonds >> head(5)\n",
    "diamonds_5"
   ]
  },
  {
   "attachments": {},
   "cell_type": "markdown",
   "metadata": {},
   "source": [
    "## 2. Replace current dataframe (`>>=`)"
   ]
  },
  {
   "cell_type": "code",
   "execution_count": null,
   "metadata": {},
   "outputs": [],
   "source": [
    "diamonds >>= head(3)"
   ]
  },
  {
   "cell_type": "code",
   "execution_count": null,
   "metadata": {},
   "outputs": [],
   "source": [
    "diamonds"
   ]
  },
  {
   "attachments": {},
   "cell_type": "markdown",
   "metadata": {},
   "source": [
    "We haven't seen yet why `dfply` is better than `pandas` as showing the `head` & `tail` of a dataframe is a relatively basic task but stay tuned!"
   ]
  },
  {
   "attachments": {},
   "cell_type": "markdown",
   "metadata": {},
   "source": [
    "# Selecting & Filtering"
   ]
  },
  {
   "attachments": {},
   "cell_type": "markdown",
   "metadata": {},
   "source": [
    "## 1. Select & drop (columns)"
   ]
  },
  {
   "attachments": {},
   "cell_type": "markdown",
   "metadata": {},
   "source": [
    "The beauty of the select function is that it allows you to select column names by:\n",
    "- name (e.g. `price`)\n",
    "- number (e.g. 1)\n",
    "- name as attribute (e.g. `X.price`, we'll get back to this later) "
   ]
  },
  {
   "cell_type": "code",
   "execution_count": null,
   "metadata": {},
   "outputs": [],
   "source": [
    "diamonds >> select(1, X.price, ['x', 'y']) >> head(2)"
   ]
  },
  {
   "attachments": {},
   "cell_type": "markdown",
   "metadata": {},
   "source": [
    "We'll try something similar with `pandas`:"
   ]
  },
  {
   "cell_type": "code",
   "execution_count": null,
   "metadata": {},
   "outputs": [],
   "source": [
    "try:\n",
    "    diamonds[1]\n",
    "except Exception as e:\n",
    "    print(f\"Following exception occurred: {repr(e)}\")"
   ]
  },
  {
   "attachments": {},
   "cell_type": "markdown",
   "metadata": {},
   "source": [
    "We need to use `iloc` (`integer location`) to get the first column:"
   ]
  },
  {
   "cell_type": "code",
   "execution_count": null,
   "metadata": {},
   "outputs": [],
   "source": [
    "diamonds.iloc[:, 1]"
   ]
  },
  {
   "attachments": {},
   "cell_type": "markdown",
   "metadata": {},
   "source": [
    "However, we cannot mix up column names with column numbers!"
   ]
  },
  {
   "cell_type": "code",
   "execution_count": null,
   "metadata": {},
   "outputs": [],
   "source": [
    "try:\n",
    "    diamonds.loc[:, ['price', 1]]\n",
    "except Exception as e:\n",
    "    print(f\"Following exception occurred: {repr(e)}\")"
   ]
  },
  {
   "cell_type": "code",
   "execution_count": null,
   "metadata": {},
   "outputs": [],
   "source": [
    "try:\n",
    "    diamonds.iloc[:, ['price', 1]]\n",
    "except Exception as e:\n",
    "    print(f\"Following exception occurred: {repr(e)}\")"
   ]
  },
  {
   "attachments": {},
   "cell_type": "markdown",
   "metadata": {},
   "source": [
    "This already shows one cool thing about `dfply` - it's more flexible than `pandas`! Plus you can also do this cool trick:"
   ]
  },
  {
   "cell_type": "code",
   "execution_count": null,
   "metadata": {},
   "outputs": [],
   "source": [
    "diamonds >> select(starts_with('c')) "
   ]
  },
  {
   "attachments": {},
   "cell_type": "markdown",
   "metadata": {},
   "source": [
    "Drop is just the opposite of select, and has the same functionalities as the latter so we won't spend too much time on it:"
   ]
  },
  {
   "cell_type": "code",
   "execution_count": null,
   "metadata": {},
   "outputs": [],
   "source": [
    "diamonds >> drop(starts_with('c')) "
   ]
  },
  {
   "attachments": {},
   "cell_type": "markdown",
   "metadata": {},
   "source": [
    "## 2. Masking (a.k.a. my favourite function ever!!)"
   ]
  },
  {
   "cell_type": "code",
   "execution_count": null,
   "metadata": {},
   "outputs": [],
   "source": [
    "diamonds >> mask(X.cut == 'Ideal')"
   ]
  },
  {
   "attachments": {},
   "cell_type": "markdown",
   "metadata": {},
   "source": [
    "Now you can see why I don't like the `pandas` version as much:"
   ]
  },
  {
   "cell_type": "code",
   "execution_count": null,
   "metadata": {},
   "outputs": [],
   "source": [
    "diamonds[diamonds.cut == 'Ideal']"
   ]
  },
  {
   "attachments": {},
   "cell_type": "markdown",
   "metadata": {},
   "source": [
    "It's the same and just slightly more difficult to read but not impossible. However, when you start adding more conditions you can more easily see the difference!"
   ]
  },
  {
   "cell_type": "code",
   "execution_count": null,
   "metadata": {},
   "outputs": [],
   "source": [
    "# Let's first reload the dataset\n",
    "from dfply import diamonds\n",
    "diamonds"
   ]
  },
  {
   "cell_type": "code",
   "execution_count": null,
   "metadata": {},
   "outputs": [],
   "source": [
    "diamonds >> mask(X.cut == 'Ideal') \\\n",
    "         >> mask(X.table > 60) \\\n",
    "         >> mask(X.x > 4)"
   ]
  },
  {
   "attachments": {},
   "cell_type": "markdown",
   "metadata": {},
   "source": [
    "You can also write it like this but I don't recommend it because it's less readable:"
   ]
  },
  {
   "cell_type": "code",
   "execution_count": null,
   "metadata": {},
   "outputs": [],
   "source": [
    "diamonds >> mask(X.cut == 'Ideal', X.table > 60, X.x > 4)"
   ]
  },
  {
   "attachments": {},
   "cell_type": "markdown",
   "metadata": {},
   "source": [
    "The `pandas` version looks slightly more cluttered:"
   ]
  },
  {
   "cell_type": "code",
   "execution_count": null,
   "metadata": {},
   "outputs": [],
   "source": [
    "diamonds[(diamonds.cut == 'Ideal') \\\n",
    "            & (diamonds.table > 60) \\\n",
    "            & (diamonds.x > 4)]"
   ]
  },
  {
   "attachments": {},
   "cell_type": "markdown",
   "metadata": {},
   "source": [
    "And in real life you can really see how organizing data preprocessing steps by using pipes improves your code readability tremendously:"
   ]
  },
  {
   "attachments": {},
   "cell_type": "markdown",
   "metadata": {},
   "source": [
    "Example from my work:  \n",
    "![](masking_example_1.png)  \n",
    "\n",
    "How would this look in `pandas`?"
   ]
  },
  {
   "cell_type": "code",
   "execution_count": null,
   "metadata": {},
   "outputs": [],
   "source": [
    "# scope3_reported = reported_df[(reported_df.emission_co2e_indirect_scope3_total.isna() == False) & \\\n",
    "#                               (reported_df.emission_co2e_indirect_scope2_total.isna() == False) & \\\n",
    "#                               (reported_df.emission_co2e_direct_scope1_total.isna() == False)]"
   ]
  },
  {
   "attachments": {},
   "cell_type": "markdown",
   "metadata": {},
   "source": [
    "What about using `OR` conditions? In this case, the `mask` function very closely resembles the `pandas` alternative:"
   ]
  },
  {
   "cell_type": "code",
   "execution_count": null,
   "metadata": {},
   "outputs": [],
   "source": [
    "diamonds >> mask((X.cut == 'Ideal') | (X.table < 60) | (X.x < 4))"
   ]
  },
  {
   "cell_type": "code",
   "execution_count": null,
   "metadata": {},
   "outputs": [],
   "source": [
    "diamonds[(diamonds.cut == 'Ideal') \\\n",
    "            | (diamonds.table < 60) \\\n",
    "            | (diamonds.x < 4)]"
   ]
  },
  {
   "attachments": {},
   "cell_type": "markdown",
   "metadata": {},
   "source": [
    "# Joining dataframes"
   ]
  },
  {
   "attachments": {},
   "cell_type": "markdown",
   "metadata": {},
   "source": [
    "When it comes to joining dataframes, you already know that you can use `pd.concat` and `pd.join` (or the general version, `pd.merge`). \n",
    "\n",
    "For `pd.concat`, `dfply` has two great replacements in terms of readability: the `bind_rows` & `bind_cols` functions!"
   ]
  },
  {
   "cell_type": "code",
   "execution_count": null,
   "metadata": {},
   "outputs": [],
   "source": [
    "# Let's first get 2 dataframes:\n",
    "a = pd.DataFrame({\n",
    "        'x1':['A','B','C'],\n",
    "        'x2':[1,2,3]\n",
    "    })\n",
    "display(a)\n",
    "\n",
    "c = pd.DataFrame({\n",
    "      'x1':['B','C','D'],\n",
    "      'x2':[2,3,4]\n",
    "})\n",
    "display(c)"
   ]
  },
  {
   "cell_type": "code",
   "execution_count": null,
   "metadata": {},
   "outputs": [],
   "source": [
    "a >> bind_rows(c)"
   ]
  },
  {
   "cell_type": "code",
   "execution_count": null,
   "metadata": {},
   "outputs": [],
   "source": [
    "pd.concat([a, c], axis=0)"
   ]
  },
  {
   "cell_type": "code",
   "execution_count": null,
   "metadata": {},
   "outputs": [],
   "source": [
    "a >> bind_cols(c)"
   ]
  },
  {
   "cell_type": "code",
   "execution_count": null,
   "metadata": {},
   "outputs": [],
   "source": [
    "pd.concat([a, c], axis=1)"
   ]
  },
  {
   "attachments": {},
   "cell_type": "markdown",
   "metadata": {},
   "source": [
    "However, when it comes to joining dataframes, `dfply`'s functions (`inner_join`, `left_join`, `right_join`, `outer_join`) are great when the dataframes columns have the same names (as it fulfills the same role as `pd.join`) but it's not as useful when names aren't standardized! For example:"
   ]
  },
  {
   "cell_type": "code",
   "execution_count": null,
   "metadata": {},
   "outputs": [],
   "source": [
    "# We'll create a diamonds copy and change the df name\n",
    "diamonds_copy = diamonds.copy()\n",
    "diamonds_copy >>= rename(color_tag=X.color)\n",
    "diamonds_copy >> head(5)"
   ]
  },
  {
   "cell_type": "code",
   "execution_count": null,
   "metadata": {},
   "outputs": [],
   "source": [
    "# I'm selecting only 2 columns and 50 rows to avoid any memory issues\n",
    "pd.merge(diamonds.loc[:50, ['carat', 'color']], diamonds_copy.loc[:50, ['clarity', 'color_tag']], how='inner',left_on='color', right_on='color_tag')"
   ]
  },
  {
   "cell_type": "code",
   "execution_count": null,
   "metadata": {},
   "outputs": [],
   "source": [
    "# Now I'll try to join the two dataframes (selecting 2 columns from each table for simplicity):\n",
    "try:\n",
    "    diamonds.loc[:50, ['carat', 'color']] >> inner_join(diamonds_copy.loc[:50, ['clarity', 'color_tag']], by=['color', 'color_tag'])\n",
    "except Exception as e:\n",
    "    print(repr(e))"
   ]
  },
  {
   "attachments": {},
   "cell_type": "markdown",
   "metadata": {},
   "source": [
    "# Summary statistics"
   ]
  },
  {
   "cell_type": "code",
   "execution_count": null,
   "metadata": {},
   "outputs": [],
   "source": [
    "round(diamonds.describe(), 2)"
   ]
  },
  {
   "cell_type": "markdown",
   "metadata": {},
   "source": [
    "`describe` is an amazing method for getting a quick feeling for the data you're working with, however, as a growing data analyst, you might need a bit more than that later on. For example, how about the mean per `cut` or `color`?"
   ]
  },
  {
   "cell_type": "code",
   "execution_count": null,
   "metadata": {},
   "outputs": [],
   "source": [
    "diamonds >> group_by('cut') >> summarize(price_mean=X.price.mean().round(2), price_std=X.price.std().round(2))"
   ]
  },
  {
   "attachments": {},
   "cell_type": "markdown",
   "metadata": {},
   "source": [
    "`summarize_each` is a shorter way of summarizing the data in case you wanted to look at the same summary statistics - the drawback here is that it's more difficult to customize your functions!"
   ]
  },
  {
   "cell_type": "code",
   "execution_count": null,
   "metadata": {},
   "outputs": [],
   "source": [
    "diamonds >> group_by(X.cut) >> summarize_each([np.mean, np.var, np.min, np.max], X.price, 4)"
   ]
  },
  {
   "attachments": {},
   "cell_type": "markdown",
   "metadata": {},
   "source": [
    "<details>\n",
    "<summary>\n",
    "<b>Question for the class:</b> What other way of checking the price mean per cut could we use? 👀\n",
    "</summary>\n",
    "\n",
    "```\n",
    "import plotly.express as px\n",
    "px.box(diamonds, x='price', color='cut')\n",
    "```\n",
    "</details>"
   ]
  },
  {
   "attachments": {},
   "cell_type": "markdown",
   "metadata": {},
   "source": [
    "# Who said ranking was just for SQL?"
   ]
  },
  {
   "cell_type": "code",
   "execution_count": null,
   "metadata": {},
   "outputs": [],
   "source": [
    "diamonds >> select(X.price) >> mutate(price_drank=dense_rank(X.price)) >> head(6)"
   ]
  }
 ],
 "metadata": {
  "kernelspec": {
   "display_name": "base",
   "language": "python",
   "name": "python3"
  },
  "language_info": {
   "codemirror_mode": {
    "name": "ipython",
    "version": 3
   },
   "file_extension": ".py",
   "mimetype": "text/x-python",
   "name": "python",
   "nbconvert_exporter": "python",
   "pygments_lexer": "ipython3",
   "version": "3.9.13"
  },
  "orig_nbformat": 4,
  "vscode": {
   "interpreter": {
    "hash": "89f309fc510569326e958f3e3e82d3e25292ddb234b2d9b2d9997a51e80537a4"
   }
  }
 },
 "nbformat": 4,
 "nbformat_minor": 2
}
