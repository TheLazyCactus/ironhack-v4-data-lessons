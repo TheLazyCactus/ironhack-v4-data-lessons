{
  "cells": [
    {
      "cell_type": "code",
      "execution_count": null,
      "metadata": {
        "id": "W4oll1EPBrve"
      },
      "outputs": [],
      "source": [
        "import pandas as pd\n",
        "import numpy as np\n",
        "import matplotlib.pyplot as plt"
      ]
    },
    {
      "cell_type": "code",
      "execution_count": null,
      "metadata": {
        "colab": {
          "base_uri": "https://localhost:8080/",
          "height": 206
        },
        "id": "rBFv9gHrBuYk",
        "outputId": "a4a49e74-f910-4133-c28a-4b3398943d89"
      },
      "outputs": [],
      "source": [
        "# the following dataset emulates the joint information from a companies HR file and medical exam\n",
        "# our goal is to try to approximate salaries from this information\n",
        "# we have chosen to use a KNN regression\n",
        "salary = pd.read_csv('salaries.csv')\n",
        "salary.head()"
      ]
    },
    {
      "cell_type": "code",
      "execution_count": null,
      "metadata": {
        "colab": {
          "base_uri": "https://localhost:8080/"
        },
        "id": "s9PQovX1Obyx",
        "outputId": "286b6356-d873-4967-c992-d0c5fd835a57"
      },
      "outputs": [],
      "source": [
        "salary.shape"
      ]
    },
    {
      "cell_type": "markdown",
      "metadata": {
        "id": "0v2b81CIOHbV"
      },
      "source": [
        "# Formal transformations"
      ]
    },
    {
      "cell_type": "code",
      "execution_count": null,
      "metadata": {
        "colab": {
          "base_uri": "https://localhost:8080/"
        },
        "id": "9ns2zeYjGHC7",
        "outputId": "c8e7bbc2-364d-43f2-f8e7-888bbd705661"
      },
      "outputs": [],
      "source": [
        "salary['Daltonic'].value_counts()"
      ]
    },
    {
      "cell_type": "code",
      "execution_count": null,
      "metadata": {
        "colab": {
          "base_uri": "https://localhost:8080/",
          "height": 206
        },
        "id": "awMDa2KpB5GO",
        "outputId": "439b9c0e-4d56-4e2a-ffb8-91afb049b3ad"
      },
      "outputs": [],
      "source": [
        "# one hot encoding\n",
        "# you can also use sklearn.preprocessing.OneHotEncoder\n",
        "#since we only accept numeric values, we have to turn the categorical variables into numerics\n",
        "pd.get_dummies(salary['Daltonic'],prefix='Dalt',drop_first=True).head()"
      ]
    },
    {
      "cell_type": "code",
      "execution_count": null,
      "metadata": {
        "colab": {
          "base_uri": "https://localhost:8080/",
          "height": 487
        },
        "id": "Kfz6ZMQIDDmX",
        "outputId": "c770e5b0-52b4-4f03-fc83-c990bccad748"
      },
      "outputs": [],
      "source": [
        "salary_transformed = pd.merge(left = salary,\n",
        "                              right = pd.get_dummies(salary['Daltonic'],prefix='Daltonic',drop_first=True),\n",
        "                              left_index=True,\n",
        "                              right_index=True)\n",
        "salary_transformed"
      ]
    },
    {
      "cell_type": "code",
      "execution_count": null,
      "metadata": {
        "colab": {
          "base_uri": "https://localhost:8080/"
        },
        "id": "gEP6NxYxudbN",
        "outputId": "5721a366-761e-4fe7-c56e-dd2244c5aab2"
      },
      "outputs": [],
      "source": [
        "# Binning: To turn numeric features into categorical ones. In this case we're not going to use categorical features, but for the record:\n",
        "pd.cut(salary['Height'],5,labels=['very short','short','average','tall','very tall'])"
      ]
    },
    {
      "cell_type": "code",
      "execution_count": null,
      "metadata": {
        "colab": {
          "base_uri": "https://localhost:8080/",
          "height": 270
        },
        "id": "TO7ZBPKfvjE6",
        "outputId": "f60a5a92-9e99-4a46-fb37-5e9ecc597c1f"
      },
      "outputs": [],
      "source": [
        "salary_transformed['Height_classes'] = pd.cut(salary['Height'],5,labels=['very short','short','average','tall','very tall'])\n",
        "salary_transformed.head()"
      ]
    },
    {
      "cell_type": "code",
      "execution_count": null,
      "metadata": {
        "colab": {
          "base_uri": "https://localhost:8080/",
          "height": 270
        },
        "id": "OYkZCRN2DFXx",
        "outputId": "18b1eaa0-f5b2-4970-93ca-1f46d0277b96"
      },
      "outputs": [],
      "source": [
        "# label encoding - for when the categories need to be numbers but the values of those numbers do not matter\n",
        "# you can also use sklearn.preprocessing.LabelEncoder\n",
        "salary_transformed['Experience_label'] = salary_transformed['Experience'].replace({'Junior':0,'Senior':1})\n",
        "salary_transformed['Gender_label'] = salary_transformed['Gender'].replace({'Male':0,'Female':1})\n",
        "salary_transformed.head()"
      ]
    },
    {
      "cell_type": "code",
      "execution_count": null,
      "metadata": {
        "colab": {
          "base_uri": "https://localhost:8080/",
          "height": 270
        },
        "id": "Jm3zu28ODID0",
        "outputId": "8b563e1c-3c66-4206-e9a2-21d7f7bf5f82"
      },
      "outputs": [],
      "source": [
        "# we can now drop the non-numerics and keep only numeric columns\n",
        "salary_transformed = salary_transformed.drop(columns=['Experience','Gender','Daltonic','Height_classes'])\n",
        "salary_transformed.head()"
      ]
    },
    {
      "cell_type": "code",
      "execution_count": null,
      "metadata": {
        "colab": {
          "base_uri": "https://localhost:8080/",
          "height": 305
        },
        "id": "g-8iZSgKW4oP",
        "outputId": "ec274513-5b7a-4d6d-d806-80cad5ef9432"
      },
      "outputs": [],
      "source": [
        "# now we will create the usual train-test splits\n",
        "\n",
        "from sklearn.model_selection import train_test_split\n",
        "\n",
        "X_train, X_test,y_train, y_test = train_test_split(salary_transformed.drop(columns = ['Salary']),salary_transformed['Salary'])\n",
        "\n",
        "print(X_train.shape)\n",
        "print(X_test.shape)\n",
        "X_train.head()"
      ]
    },
    {
      "cell_type": "code",
      "execution_count": null,
      "metadata": {
        "colab": {
          "base_uri": "https://localhost:8080/",
          "height": 270
        },
        "id": "vs2aiwz_7coc",
        "outputId": "fb169bda-bc97-4cbb-f715-4358a42260b3"
      },
      "outputs": [],
      "source": [
        "X_test.head()"
      ]
    },
    {
      "cell_type": "code",
      "execution_count": null,
      "metadata": {
        "id": "a33qj6ZLDqwQ"
      },
      "outputs": [],
      "source": [
        "# let's jump right to a model\n",
        "# notice the KNN regressor version\n",
        "from sklearn.neighbors import KNeighborsRegressor\n",
        "# measuring MSE score <- mean square error (real salary - predicted salary)**2\n",
        "\n",
        "\n",
        "# create knn, don't forget Hyperparameter\n",
        "knn = KNeighborsRegressor(n_neighbors=3)"
      ]
    },
    {
      "cell_type": "code",
      "execution_count": null,
      "metadata": {
        "colab": {
          "base_uri": "https://localhost:8080/"
        },
        "id": "xpUX5OJwDsux",
        "outputId": "58e0cad3-8b23-47bb-85b2-81c6a1e45bd4"
      },
      "outputs": [],
      "source": [
        "# training the model on raw data\n",
        "knn.fit(X_train, y_train)\n",
        "# testing algorithm on raw test\n",
        "pred = knn.predict(X_test)\n",
        "pred"
      ]
    },
    {
      "cell_type": "code",
      "execution_count": null,
      "metadata": {
        "colab": {
          "base_uri": "https://localhost:8080/"
        },
        "id": "Z33xrtDPNQX4",
        "outputId": "45383c2d-765d-47a3-c696-a20c43b64f89"
      },
      "outputs": [],
      "source": [
        "np.array(y_test)"
      ]
    },
    {
      "cell_type": "code",
      "execution_count": null,
      "metadata": {
        "colab": {
          "base_uri": "https://localhost:8080/"
        },
        "id": "A2JXMV8VNMjN",
        "outputId": "2f112130-d216-4047-f31d-b53a774b3c68"
      },
      "outputs": [],
      "source": [
        "np.sqrt(mean_squared_error(y_test,pred))"
      ]
    },
    {
      "cell_type": "markdown",
      "metadata": {
        "id": "HwWWzXWoOMwl"
      },
      "source": [
        "# Normalization"
      ]
    },
    {
      "cell_type": "code",
      "execution_count": null,
      "metadata": {
        "id": "E0T-3YdZDujx"
      },
      "outputs": [],
      "source": [
        "#let's apply a normalization of the features since \"flexibility\" seems to count 200 times more than Daltonic_None\n",
        "from sklearn.preprocessing import MinMaxScaler\n",
        "# from sklearn.preprocessing import StandardScaler\n",
        "\n",
        "# create normalization object from scikit learn package, and \"fit\" it to the features in hand\n",
        "normalizer = MinMaxScaler()\n",
        "# notice how we only use the **X_train** data to fit?\n",
        "# we want to use only the training data to normalize (establishing maximum and minimum values) to avoid data \"leakage\" from the test dataset\n",
        "# if we used data from the test dataset, the test results would be biased by having some info from the test set\n",
        "normalizer = normalizer.fit(X_train)"
      ]
    },
    {
      "cell_type": "code",
      "execution_count": null,
      "metadata": {
        "colab": {
          "base_uri": "https://localhost:8080/",
          "height": 250
        },
        "id": "r1zXzz0MuGOY",
        "outputId": "aa3b7516-077d-4d9e-aa57-3b2fc6487283"
      },
      "outputs": [],
      "source": [
        "# now that we have our normalizer we use it for both training and testing (and in the future for unseen data as well!)\n",
        "X_train_normalized = normalizer.transform(X_train)\n",
        "X_train_normalized = pd.DataFrame(X_train_normalized,columns=X_train.columns)\n",
        "X_train_normalized.head()"
      ]
    },
    {
      "cell_type": "code",
      "execution_count": null,
      "metadata": {
        "colab": {
          "base_uri": "https://localhost:8080/",
          "height": 250
        },
        "id": "A0jz2TjZUuKn",
        "outputId": "511be83e-c985-4689-c232-dc798236a38b"
      },
      "outputs": [],
      "source": [
        "X_test_normalized = normalizer.transform(X_test)\n",
        "X_test_normalized = pd.DataFrame(X_test_normalized,columns=X_test.columns)\n",
        "X_test_normalized.head()"
      ]
    },
    {
      "cell_type": "code",
      "execution_count": null,
      "metadata": {
        "colab": {
          "base_uri": "https://localhost:8080/"
        },
        "id": "CIdW6y_mD6_g",
        "outputId": "7eefdd33-0918-47f2-f297-183e6685376a"
      },
      "outputs": [],
      "source": [
        "# let's see if this normalization improves our model\n",
        "# creating model\n",
        "knn = KNeighborsRegressor(n_neighbors=3)\n",
        "# training the model on normalized data\n",
        "knn.fit(X_train_normalized, y_train)\n",
        "# testing algorithm on normalized test\n",
        "pred = knn.predict(X_test_normalized)\n",
        "\n",
        "np.sqrt(mean_squared_error(y_test,pred))\n",
        "#much better!"
      ]
    },
    {
      "cell_type": "markdown",
      "metadata": {
        "id": "GSO2YyfAOBiO"
      },
      "source": [
        "# Correlation Tresholds"
      ]
    },
    {
      "cell_type": "code",
      "execution_count": null,
      "metadata": {
        "colab": {
          "base_uri": "https://localhost:8080/",
          "height": 458
        },
        "id": "zdbrsbtYD_QJ",
        "outputId": "948bdbf9-6eaa-4442-f1ab-10f36ce3afcd"
      },
      "outputs": [],
      "source": [
        "# let's see if our variables are too dependent\n",
        "pyplot as plt"
      ]
    },
    {
      "cell_type": "code",
      "execution_count": null,
      "metadata": {
        "colab": {
          "base_uri": "https://localhost:8080/",
          "height": 1000
        },
        "id": "5DfCvvd1EBLy",
        "outputId": "c411f8d6-c44d-4423-c0d6-59c268229f78"
      },
      "outputs": [],
      "source": [
        "#A very common way to visualize the results discussed above is to create a correlation matrix.\n",
        "# This is shown below.\n",
        "# Only the lower triangular component of the matrix is shown due to the fact that\n",
        "# the upper and lower (triangular) parts of the matrix are equal\n",
        "import matplotlib.pyplot as plt\n",
        "import seaborn as sn\n",
        "\n",
        "corr=np.abs(X_train_normalized.corr())\n",
        "\n",
        "#Set up mask for triangle representation\n",
        "mask = np.zeros_like(corr, dtype=np.bool)\n",
        "mask[np.triu_indices_from(mask)] = True\n",
        "\n",
        "# Set up the matplotlib figure\n",
        "f, ax = plt.subplots(figsize=(14, 14))\n",
        "# Generate a custom diverging colormap\n",
        "cmap = sn.diverging_palette(220, 10, as_cmap=True)\n",
        "# Draw the heatmap with the mask and correct aspect ratio\n",
        "sn.heatmap(corr, mask=mask,  vmax=1,square=True, linewidths=.5, cbar_kws={\"shrink\": .5},annot = corr)\n",
        "\n",
        "plt.show()"
      ]
    },
    {
      "cell_type": "code",
      "execution_count": null,
      "metadata": {
        "colab": {
          "base_uri": "https://localhost:8080/",
          "height": 250
        },
        "id": "uWDnrSvgcKFB",
        "outputId": "59525133-6c93-4661-a3c4-5f77cbe9d6a5"
      },
      "outputs": [],
      "source": [
        "X_train_normalized.head()"
      ]
    },
    {
      "cell_type": "code",
      "execution_count": null,
      "metadata": {
        "id": "3E0d-qW_ED1a"
      },
      "outputs": [],
      "source": [
        "# very clear that all variables are essentially the same! Except for experience!\n",
        "# what is the effect of this?\n",
        "\n",
        "#let's get rid of such variables\n",
        "X_train_reduced = X_train_normalized[['Gender_label','Experience_label']]\n",
        "X_test_reduced = X_test_normalized[['Gender_label','Experience_label']]"
      ]
    },
    {
      "cell_type": "code",
      "execution_count": null,
      "metadata": {
        "colab": {
          "base_uri": "https://localhost:8080/"
        },
        "id": "aC4pmBt5EK36",
        "outputId": "1d43fded-43ea-46b1-b4d4-99cd8b921923"
      },
      "outputs": [],
      "source": [
        "# creating our knn model\n",
        "knn = KNeighborsRegressor(n_neighbors=3)\n",
        "# training the model on reduced, normalized data\n",
        "knn.fit(X_train_reduced, y_train)\n",
        "# testing algorithm on reduced, normalized test\n",
        "pred = knn.predict(X_test_reduced)\n",
        "\n",
        "np.sqrt(mean_squared_error(y_test,pred))"
      ]
    },
    {
      "cell_type": "markdown",
      "metadata": {
        "id": "fnP8TETIPKD0"
      },
      "source": [
        "# Feature manipulation for signal boosting"
      ]
    },
    {
      "cell_type": "code",
      "execution_count": null,
      "metadata": {
        "colab": {
          "base_uri": "https://localhost:8080/",
          "height": 206
        },
        "id": "2XGhRfEuIEon",
        "outputId": "b5a9d7fd-9043-4596-f7c3-176d906cc407"
      },
      "outputs": [],
      "source": [
        "# we want to understand what drives loss of energy in our windfarms\n",
        "energy = pd.read_csv('energy_loss.csv')\n",
        "energy.head()"
      ]
    },
    {
      "cell_type": "code",
      "execution_count": null,
      "metadata": {
        "id": "QKcGsAjYIEvK"
      },
      "outputs": [],
      "source": [
        "# let's try to predict it \"raw\"\n",
        "X = energy[['Voltage','Rotation','Stability']]\n",
        "y = energy['Loss']"
      ]
    },
    {
      "cell_type": "code",
      "execution_count": null,
      "metadata": {
        "colab": {
          "base_uri": "https://localhost:8080/"
        },
        "id": "mR8VIvkZIShb",
        "outputId": "d46ed049-2845-4c6b-83b6-9dc006851950"
      },
      "outputs": [],
      "source": [
        "import numpy as np\n",
        "from sklearn.linear_model import LinearRegression\n",
        "\n",
        "reg = LinearRegression()\n",
        "reg.fit(X, y)\n",
        "reg.score(X, y)"
      ]
    },
    {
      "cell_type": "code",
      "execution_count": null,
      "metadata": {
        "id": "wCP6T9wzIUJV"
      },
      "outputs": [],
      "source": [
        "# however we know the optimal values of Voltage, Rotation and Stability from an engineer\n",
        "energy_transformed = energy.copy()\n",
        "energy_transformed['Voltage'] = np.square(energy_transformed['Voltage']-100)\n",
        "energy_transformed['Rotation'] = np.square(energy_transformed['Rotation']-150)\n",
        "energy_transformed['Stability'] = np.square(energy_transformed['Stability']-90)\n",
        "X = energy_transformed[['Voltage','Rotation','Stability']]\n",
        "y = energy_transformed['Loss']"
      ]
    },
    {
      "cell_type": "code",
      "execution_count": null,
      "metadata": {
        "colab": {
          "base_uri": "https://localhost:8080/",
          "height": 423
        },
        "id": "Z43Aq7WTaq9a",
        "outputId": "2c4753a7-2146-4815-8dcd-a56bb1aeb85b"
      },
      "outputs": [],
      "source": [
        "X"
      ]
    },
    {
      "cell_type": "code",
      "execution_count": null,
      "metadata": {
        "colab": {
          "base_uri": "https://localhost:8080/"
        },
        "id": "-wSwXMTaIWEC",
        "outputId": "f4aa9148-a96d-40af-b477-bfc69fdcde0f"
      },
      "outputs": [],
      "source": [
        "# the model improves dramatically\n",
        "import numpy as np\n",
        "from sklearn.linear_model import LinearRegression\n",
        "\n",
        "reg = LinearRegression()\n",
        "reg.fit(X, y)\n",
        "reg.score(X, y)"
      ]
    },
    {
      "cell_type": "code",
      "execution_count": null,
      "metadata": {
        "id": "y-niH3b7vCK_"
      },
      "outputs": [],
      "source": []
    }
  ],
  "metadata": {
    "colab": {
      "provenance": []
    },
    "kernelspec": {
      "display_name": "Python 3",
      "language": "python",
      "name": "python3"
    },
    "language_info": {
      "codemirror_mode": {
        "name": "ipython",
        "version": 3
      },
      "file_extension": ".py",
      "mimetype": "text/x-python",
      "name": "python",
      "nbconvert_exporter": "python",
      "pygments_lexer": "ipython3",
      "version": "3.8.10"
    }
  },
  "nbformat": 4,
  "nbformat_minor": 0
}
