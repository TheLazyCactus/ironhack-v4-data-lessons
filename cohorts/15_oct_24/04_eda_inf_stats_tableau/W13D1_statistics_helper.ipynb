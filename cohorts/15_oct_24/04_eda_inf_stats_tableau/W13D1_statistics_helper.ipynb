{
 "cells": [
  {
   "cell_type": "markdown",
   "metadata": {},
   "source": [
    "**Table of contents**<a id='toc0_'></a>    \n",
    "- [What is statistics?](#toc1_)    \n",
    "- [Why statistics?](#toc2_)    \n",
    "- [Descriptive vs Inferential Statistics](#toc3_)    \n",
    "- [What is data?](#toc4_)    \n",
    "- [Types of data](#toc5_)    \n",
    "      - [Example: Which 🍕 place should I choose when I'm REALLY hungry?](#toc5_1_1_1_)    \n",
    "  - [Measures of shape](#toc5_2_)    \n",
    "    - [Skewdness](#toc5_2_1_)    \n",
    "    - [Kurtosis](#toc5_2_2_)    \n",
    "- [Resources](#toc6_)    \n",
    "- [Extra: Sources of error in data analysis](#toc7_)    \n",
    "\n",
    "<!-- vscode-jupyter-toc-config\n",
    "\tnumbering=false\n",
    "\tanchor=true\n",
    "\tflat=false\n",
    "\tminLevel=1\n",
    "\tmaxLevel=6\n",
    "\t/vscode-jupyter-toc-config -->\n",
    "<!-- THIS CELL WILL BE REPLACED ON TOC UPDATE. DO NOT WRITE YOUR TEXT IN THIS CELL -->"
   ]
  },
  {
   "cell_type": "markdown",
   "metadata": {},
   "source": [
    "# <a id='toc1_'></a>[What is statistics?](#toc0_)\n",
    "\n",
    "> **The field of statistics is the science of learning from data**. Statistical knowledge helps you use the proper methods to collect the data, employ the correct analyses, and effectively present the results. Statistics is a crucial process behind how we make discoveries in science, make decisions based on data, and make predictions. Statistics allows you to understand a subject much more deeply."
   ]
  },
  {
   "cell_type": "markdown",
   "metadata": {
    "id": "rQt1GNA0qZrw"
   },
   "source": [
    "![image.png](https://imgs.search.brave.com/4UsygL-suDTzNKxxfxwrpIJ-HFVKZQdHETwC8AQdruM/rs:fit:860:0:0/g:ce/aHR0cHM6Ly9sb3Zl/c3RhdHMuZmlsZXMu/d29yZHByZXNzLmNv/bS8yMDEyLzA3L3do/YXQtaWYtaS10b2xk/LXlvdS1kYXRhLWFy/ZW50LWluc2lnaHRz/LmpwZw)"
   ]
  },
  {
   "cell_type": "markdown",
   "metadata": {},
   "source": [
    "# <a id='toc2_'></a>[Why statistics?](#toc0_)"
   ]
  },
  {
   "cell_type": "markdown",
   "metadata": {
    "id": "sSDAHnh2qZrz"
   },
   "source": [
    " > Statistics facilitates the creation of new knowledge.\n",
    "\n",
    " Also, knowing statistics well allows you to avoid drawing wrong conclusions. One great example of this is the Dunning-Kruger effect, which is not a real phenomenom but [an example of incorrectly interpreting charts](https://economicsfromthetopdown.com/2022/04/08/the-dunning-kruger-effect-is-autocorrelation/#fn2):\n",
    "\n",
    " ![image.png](https://i0.wp.com/economicsfromthetopdown.com/wp-content/uploads/2022/04/dk_label_1.png?w=723&ssl=1)\n",
    "\n",
    "> Statistics allow you to evaluate claims based on quantitative evidence and help you differentiate between reasonable and dubious conclusions. That aspect is particularly vital these days because data are so plentiful along with interpretations presented by people with unknown motivations.\n"
   ]
  },
  {
   "cell_type": "markdown",
   "metadata": {
    "id": "mYGA8Bf_qZr0"
   },
   "source": [
    "<a href=\"https://imgflip.com/i/7y0to9\"><img src=\"https://i.imgflip.com/7y0to9.jpg\" title=\"made at imgflip.com\"/></a><div><a href=\"https://imgflip.com/memegenerator\">from Imgflip Meme Generator</a></div>"
   ]
  },
  {
   "cell_type": "markdown",
   "metadata": {},
   "source": [
    "# <a id='toc3_'></a>[Descriptive vs Inferential Statistics](#toc0_)"
   ]
  },
  {
   "cell_type": "markdown",
   "metadata": {
    "id": "hQsmW2QNqZr2"
   },
   "source": [
    "![image.png](https://github.com/sabinagio/data-analytics/blob/main/images/descriptive_vs_inferential.png?raw=True)"
   ]
  },
  {
   "cell_type": "markdown",
   "metadata": {
    "id": "Njgb0Mx5qZr3"
   },
   "source": [
    "|                            | Descriptive Statistics                                      | Inferential Statistics  \n",
    "| -------------------------- | --------------------------------------------------------------- | -------------------------\n",
    "| Purpose                    | Describe and summarize data                                                    | Make inferences and draw conclusions about a population based on sample data |\n",
    "| Data Analysis              | Analyzes and interprets the characteristics of a dataset        | Uses sample data to make generalizations or predictions about a larger population |\n",
    "| Population vs Sample       | Focuses on the entire population or dataset                     | Focuses on a subset of the population (sample) to draw conclusions about the entire population |\n",
    "| Measurements               | Provides measures of central tendency and dispersion            | Estimates parameters, tests hypotheses, and determines the level of confidence or significance in the results |\n",
    "| Examples                   | Mean, median, mode, standard deviation, range, frequency tables | Hypothesis testing, confidence intervals, regression analysis, ANOVA (analysis of variance), chi-square tests, t-tests, etc. |\n",
    "| Goal                       | Summarize, organize, and present data                           | Generalize findings to a larger population, make predictions, test hypotheses, evaluate relationships, and support decision-making |\n",
    "| Population Parameters      | Not typically estimated                                         | Estimated using sample statistics (e.g., sample mean as an estimate of population mean) |\n",
    "| Sample Representativeness  | Not required                                                    | Crucial; the sample should be representative of the population to ensure accurate inferences |"
   ]
  },
  {
   "cell_type": "markdown",
   "metadata": {
    "id": "bJhMwq8hqZr4"
   },
   "source": [
    "Today we will focus on **descriptive statistics**."
   ]
  },
  {
   "cell_type": "markdown",
   "metadata": {},
   "source": [
    "# <a id='toc4_'></a>[What is data?](#toc0_)"
   ]
  },
  {
   "cell_type": "markdown",
   "metadata": {
    "id": "ZMqAVYL6qZr4"
   },
   "source": [
    "> Data are evidence you can use to answer questions. For example:   \n",
    "\n",
    "**Descriptive statistics questions**\n",
    "- How much did sales improve for a supermarket in the past 2 years?\n",
    "- What score do the highest performing students get in the SAT exams?\n",
    "- What do people Google search the most around Christmas?\n",
    "\n",
    "**Inferential statistics questions**\n",
    "> •Do flu shots prevent the flu?   \n",
    "> •Does exercise improve your health?   \n",
    ">•Does a gasoline additive improve gas mileage?  \n"
   ]
  },
  {
   "cell_type": "markdown",
   "metadata": {},
   "source": [
    "# <a id='toc5_'></a>[Types of data](#toc0_)"
   ]
  },
  {
   "cell_type": "markdown",
   "metadata": {
    "id": "7Zm9m_KIqZr5"
   },
   "source": [
    "![image.png](https://github.com/sabinagio/data-analytics/blob/main/images/data_types.png?raw=True)"
   ]
  },
  {
   "cell_type": "markdown",
   "metadata": {
    "id": "ExyJTDGoqZr6"
   },
   "source": [
    "<span style=\"color:orange\">Is time a numerical discrete or continuous variable?</span>"
   ]
  },
  {
   "cell_type": "markdown",
   "metadata": {
    "id": "EuaYdFo3qZsU"
   },
   "source": [
    "> ### Why Understanding Variability is Important   \n",
    "\n",
    "\n",
    "> Analysts frequently use the mean to summarize the center of a population or a process. While the mean is relevant, people often react to variability even more. When a distribution has lower variability, the values in a dataset are more consistent. However, when the variability is higher, the data points are more dissimilar and extreme values become more likely. Consequently, **understanding variability helps you grasp the likelihood of unusual events**."
   ]
  },
  {
   "cell_type": "markdown",
   "metadata": {
    "id": "8EtYcgRmqZsU"
   },
   "source": [
    "![image (9).png](https://github.com/sabinagio/data-analytics/blob/main/images/distribution_variability.png?raw=True)"
   ]
  },
  {
   "cell_type": "markdown",
   "metadata": {},
   "source": [
    "#### <a id='toc5_1_1_1_'></a>[Example: Which 🍕 place should I choose when I'm REALLY hungry?](#toc0_)\n",
    "\n",
    "> Let’s take a look at two hypothetical pizza restaurants. They both advertise a mean delivery time of 20 minutes. When we’re ravenous, they sound equally good! However, this equivalence can be deceptive! To determine the restaurant that you should order from when you’re hungry, we need to analyze their variability.\n",
    "\n",
    "> The graphs below display the distribution of delivery times and provide the answer.\n",
    "\n",
    "![image (10).png](https://github.com/sabinagio/data-analytics/blob/main/images/pizza_high_variability.png?raw=True)![image (11).png](https://github.com/sabinagio/data-analytics/blob/main/images/pizza_low_variability.png?raw=True)"
   ]
  },
  {
   "cell_type": "markdown",
   "metadata": {
    "id": "Xi6UXm33qZsV"
   },
   "source": [
    "> Nearly 16% of the deliveries for the high variability restaurant exceed 30 minutes. On the other hand, only 2% of the deliveries take too long with the low variability restaurant. They both have an average delivery time of 20 minutes, but I know where I’d place my order when I’m hungry!"
   ]
  },
  {
   "cell_type": "markdown",
   "metadata": {},
   "source": [
    "## <a id='toc5_2_'></a>[Measures of shape](#toc0_)"
   ]
  },
  {
   "cell_type": "markdown",
   "metadata": {
    "id": "EuG2-NX2qZsb"
   },
   "source": [
    "> + **Skewness** is a measurement of the distortion of symmetrical distribution or asymmetry in a data set.\n",
    "> + **Kurtosis** is a measure of the tailedness of a distribution. Tailedness is how often outliers occur."
   ]
  },
  {
   "cell_type": "markdown",
   "metadata": {},
   "source": [
    "### <a id='toc5_2_1_'></a>[Skewdness](#toc0_)"
   ]
  },
  {
   "cell_type": "markdown",
   "metadata": {
    "id": "OZTC7NROqZsb"
   },
   "source": [
    "> + **Skewness** is a measurement of the distortion of symmetrical distribution or asymmetry in a data set."
   ]
  },
  {
   "cell_type": "markdown",
   "metadata": {
    "id": "4ihXasx0qZsc"
   },
   "source": [
    "![image (12).png](https://github.com/sabinagio/data-analytics/blob/main/images/skewness.png?raw=True)"
   ]
  },
  {
   "cell_type": "markdown",
   "metadata": {
    "id": "dmyuZsqXqZsc"
   },
   "source": [
    "**Normal distribution**:  \n",
    "- data points are equally distributed around the mean\n",
    "- `Mode = Median = Mean`\n",
    "\n",
    "**Positively skewed distribution**:  \n",
    "- most of the data points are below the mean (i.e. the mean is more positive)\n",
    "- `Mode < Median < Mean`\n",
    "\n",
    "**Negatively skewed distribution**:\n",
    "- most of the data points are above the mean (i.e. the mean is more negative)\n",
    "- `Mode > Median > Mean`"
   ]
  },
  {
   "cell_type": "markdown",
   "metadata": {
    "id": "99wy9q1nqZsf"
   },
   "source": [
    "We can also get an idea of skewness from box plots:  \n",
    "\n",
    "![image (13).png](https://github.com/sabinagio/data-analytics/blob/main/images/quartiles_distributions_box_plots.png?raw=True)"
   ]
  },
  {
   "cell_type": "markdown",
   "metadata": {},
   "source": [
    "### <a id='toc5_2_2_'></a>[Kurtosis](#toc0_)"
   ]
  },
  {
   "cell_type": "markdown",
   "metadata": {
    "id": "7dP15orHqZsf"
   },
   "source": [
    "> + Kurtosis is a measure of the tailedness of a distribution. Tailedness is how often outliers occur."
   ]
  },
  {
   "cell_type": "markdown",
   "metadata": {
    "id": "-Qv00ZXiqZsf"
   },
   "source": [
    "![image.png](https://imgs.search.brave.com/3klMtOz-A_6d6Nbe31s558TJL5fnyOtscuMhm6f2YPA/rs:fit:860:0:0/g:ce/aHR0cHM6Ly93d3cu/c2ltcGx5cHN5Y2hv/bG9neS5vcmcvd3At/Y29udGVudC91cGxv/YWRzL0t1cnRvc2lz/LmdpZg.gif)"
   ]
  },
  {
   "cell_type": "markdown",
   "metadata": {
    "id": "HoYLzP5vqZsg"
   },
   "source": [
    "*Notes:*\n",
    "- Meso = middle in Greek. The mesokurtic curve corresponds to the typical symmetrical normal distribution.\n",
    "- Lepto = thin in Greek. Lepto also means minute in Greek, so you can think it looks thin like a minute.\n",
    "- Platy = wide in Greek. It also sounds like platypus, so think of something flat like the platypus tail."
   ]
  },
  {
   "cell_type": "markdown",
   "metadata": {
    "id": "Biu4nP4NqZsg"
   },
   "source": [
    "![values](https://archive.ph/Y4za4/20e270146abbc12d53842787265b02f0a6a2cc08.webp)"
   ]
  },
  {
   "cell_type": "code",
   "execution_count": null,
   "metadata": {
    "id": "KbnkYWtkqZsg"
   },
   "outputs": [],
   "source": [
    "from scipy.stats import kurtosis\n",
    "print(kurtosis(fortune.dropna(subset='profit').profit, fisher=False))"
   ]
  },
  {
   "cell_type": "markdown",
   "metadata": {
    "id": "WIoAte8PqZsg"
   },
   "source": [
    "*Note:*  \n",
    "> Setting `fisher=False` in the above code does the calculation of the Pearson’s definition of kurtosis where the kurtosis value for normal distribution = 3:"
   ]
  },
  {
   "cell_type": "markdown",
   "metadata": {},
   "source": [
    "# <a id='toc6_'></a>[Resources](#toc0_)\n",
    "\n",
    "- [StatQuest - Statistics Fundamentals](https://www.youtube.com/watch?v=vikkiwjQqfU&list=PLblh5JKOoLUK0FLuzwntyYI10UQFUhsY9) - for now, the first 3 videos.\n",
    "- [Statistics by Jim - Intro to Statistics](https://www.amazon.com/dp/1735431109) - pretty good intro where many examples in this lesson were taken from, but you have to bear with the ugly charts 😃\n",
    "- [Statistics by Jim - the blog](https://statisticsbyjim.com/graphs/) - only if you're super keen, lots of interesting topics, many more advanced!\n",
    "- [Our World in Data](https://ourworldindata.org/) - specific case studies centered on social issues such as pandemics, mental health, economic inequalities, etc."
   ]
  },
  {
   "cell_type": "markdown",
   "metadata": {},
   "source": [
    "# <a id='toc7_'></a>[Extra: Sources of error in data analysis](#toc0_)\n",
    "\n",
    "For a more detailed overview of where statistics can go wrong, [here is an article](https://archive.ph/20230428034256/https://towardsdatascience.com/misleading-with-data-statistics-c6d506bdb9cf) for you. Some of the concepts here may be unfamiliar (A/B testing, p-values) but worry not, by the mid-bootcamp project we will learn about all of these techniques!\n",
    "\n",
    "![image.png](https://archive.ph/C26ns/e5f3e70310de0774fa88fd91e02f6fafbfe99b34.webp)"
   ]
  }
 ],
 "metadata": {
  "colab": {
   "provenance": []
  },
  "kernelspec": {
   "display_name": "Python 3 (ipykernel)",
   "language": "python",
   "name": "python3"
  },
  "language_info": {
   "codemirror_mode": {
    "name": "ipython",
    "version": 3
   },
   "file_extension": ".py",
   "mimetype": "text/x-python",
   "name": "python",
   "nbconvert_exporter": "python",
   "pygments_lexer": "ipython3",
   "version": "3.9.13"
  }
 },
 "nbformat": 4,
 "nbformat_minor": 1
}
