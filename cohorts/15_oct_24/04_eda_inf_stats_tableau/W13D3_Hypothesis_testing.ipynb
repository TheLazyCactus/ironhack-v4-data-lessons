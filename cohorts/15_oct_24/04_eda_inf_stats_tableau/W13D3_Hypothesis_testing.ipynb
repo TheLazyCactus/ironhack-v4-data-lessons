{
 "cells": [
  {
   "cell_type": "markdown",
   "metadata": {},
   "source": [
    "# CLT & Hypothesis Testing"
   ]
  },
  {
   "cell_type": "code",
   "execution_count": 1,
   "metadata": {},
   "outputs": [],
   "source": [
    "#Libraries\n",
    "import pandas as pd\n",
    "import numpy as np\n",
    "import matplotlib.pyplot as plt\n",
    "import scipy.stats as st"
   ]
  },
  {
   "cell_type": "markdown",
   "metadata": {},
   "source": [
    "**Central Limit Theorem**"
   ]
  },
  {
   "cell_type": "markdown",
   "metadata": {},
   "source": [
    "Central Limit Theorem claims that, no matter the shape of the population distribution, the average of a large number of samples will always be equal to the population mean."
   ]
  },
  {
   "cell_type": "markdown",
   "metadata": {},
   "source": [
    "In order to demonstrate the workings of the Central Limit Theorem, let's first create a population dataset. This simulated population will serve as a basis for later comparison with sampling distributions, showcasing how CLT facilitates accurate inferences even when only samples, rather than the entire population, are analyzed."
   ]
  },
  {
   "cell_type": "code",
   "execution_count": 2,
   "metadata": {},
   "outputs": [
    {
     "data": {
      "text/plain": [
       "array([182.82014335, 197.28793985, 166.40483171, ..., 183.77468532,\n",
       "       187.5675017 , 164.86976933])"
      ]
     },
     "execution_count": 2,
     "metadata": {},
     "output_type": "execute_result"
    }
   ],
   "source": [
    "#Let's create a POPULATION of heights\n",
    "\n",
    "heights = np.random.uniform(low=155, high=200, size=100000)\n",
    "\n",
    "heights"
   ]
  },
  {
   "cell_type": "code",
   "execution_count": 48,
   "metadata": {},
   "outputs": [
    {
     "data": {
      "image/png": "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",
      "text/plain": [
       "<Figure size 640x480 with 1 Axes>"
      ]
     },
     "metadata": {},
     "output_type": "display_data"
    }
   ],
   "source": [
    "plt.hist(heights)\n",
    "plt.show()"
   ]
  },
  {
   "cell_type": "code",
   "execution_count": 16,
   "metadata": {},
   "outputs": [
    {
     "name": "stdout",
     "output_type": "stream",
     "text": [
      "The population mean height is 177.44711040462127\n"
     ]
    }
   ],
   "source": [
    "print(f\"The population mean height is {heights.mean()}\")"
   ]
  },
  {
   "cell_type": "markdown",
   "metadata": {},
   "source": [
    "Now lets take some samples from the population"
   ]
  },
  {
   "cell_type": "code",
<<<<<<< HEAD
   "execution_count": 3,
=======
   "execution_count": 28,
>>>>>>> upstream/main
   "metadata": {},
   "outputs": [],
   "source": [
    "#collecting 100 samples of 100 observations each\n",
<<<<<<< HEAD
    "heights_samples = [np.mean(np.random.choice(heights, 100))for _ in range(100)]"
=======
    "heights_samples = [np.mean(np.random.choice(heights, 100)) for _ in range(100)]"
>>>>>>> upstream/main
   ]
  },
  {
   "cell_type": "markdown",
   "metadata": {},
   "source": [
    "Let's now plot the sampling distribution"
   ]
  },
  {
   "cell_type": "code",
<<<<<<< HEAD
   "execution_count": 4,
=======
   "execution_count": 29,
>>>>>>> upstream/main
   "metadata": {},
   "outputs": [
    {
     "data": {
      "image/png": "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",
      "text/plain": [
       "<Figure size 640x480 with 1 Axes>"
      ]
     },
     "metadata": {},
     "output_type": "display_data"
    },
    {
     "name": "stdout",
     "output_type": "stream",
     "text": [
<<<<<<< HEAD
      "The mean of the sampling distribution is 177.62123977843441\n"
     ]
=======
      "The mean of the sampling distribution is 177.77827019173415\n"
     ]
    },
    {
     "data": {
      "application/vnd.plotly.v1+json": {
       "config": {
        "plotlyServerURL": "https://plot.ly"
       },
       "data": [
        {
         "alignmentgroup": "True",
         "bingroup": "x",
         "hovertemplate": "variable=0<br>value=%{x}<br>count=%{y}<extra></extra>",
         "legendgroup": "0",
         "marker": {
          "color": "#636efa",
          "pattern": {
           "shape": ""
          }
         },
         "name": "0",
         "offsetgroup": "0",
         "orientation": "v",
         "showlegend": true,
         "type": "histogram",
         "x": [
          178.1179053523582,
          176.7387127857065,
          179.66394854937312,
          178.10074798131046,
          174.6971036329733,
          178.5848668511961,
          178.61066553527115,
          175.50443608459204,
          177.60175578500284,
          178.0265757304075,
          176.99777070632106,
          177.4929999515048,
          176.51601722417686,
          175.43351460556448,
          179.98190510961732,
          179.0224702989408,
          177.6728093264985,
          177.36555330821156,
          176.1235220058566,
          177.73537731628102,
          176.43795977209314,
          179.8680824413132,
          178.24616839720719,
          177.88427155850226,
          178.2415760880957,
          179.61699064070416,
          177.9061810415942,
          179.08309359244828,
          179.46376532542408,
          175.4470218656527,
          177.52536345123448,
          177.51770193626322,
          177.60495677638053,
          177.4636991187895,
          178.83403211568836,
          178.0602459140413,
          176.84153645479208,
          177.45923084587565,
          179.13600653943678,
          178.4717086380356,
          179.3814803596611,
          178.0839340778496,
          176.35704576790675,
          177.5260722555703,
          178.6701289663185,
          178.42766333371918,
          176.94886953962757,
          177.8501650790621,
          178.00488879715743,
          180.47776475834954,
          176.7798601491837,
          176.8183665588171,
          178.7557551959903,
          176.12986149746249,
          176.07240867580603,
          179.0865559662512,
          175.94967805996868,
          179.50389140223177,
          177.39349910924673,
          176.83904845012495,
          176.97599385767117,
          174.96378664116168,
          175.90631052840175,
          178.58891541722625,
          181.19925199389465,
          179.2920196748128,
          176.42027255125657,
          177.17219720877335,
          178.02029612741666,
          177.0445830513689,
          179.52111049343523,
          178.05271202105408,
          180.52604753484556,
          177.880020509689,
          179.67001246070436,
          178.08448941176937,
          177.41727197285707,
          177.30734581274035,
          178.23518885330694,
          178.51000001677573,
          176.86969867945004,
          175.73409949702761,
          179.55664494942735,
          180.42231398555833,
          178.98454825122576,
          177.27576571247,
          176.684610750307,
          177.7002539207834,
          178.20282303227782,
          175.48243292646424,
          174.4789708439268,
          179.44099808120188,
          177.32621196351465,
          176.96417930766646,
          177.60732440528045,
          177.0679256295988,
          178.64408159074782,
          177.32017392779142,
          177.68798199861894,
          177.43296492587143
         ],
         "xaxis": "x",
         "yaxis": "y"
        }
       ],
       "layout": {
        "barmode": "relative",
        "legend": {
         "title": {
          "text": "variable"
         },
         "tracegroupgap": 0
        },
        "margin": {
         "t": 60
        },
        "template": {
         "data": {
          "bar": [
           {
            "error_x": {
             "color": "#2a3f5f"
            },
            "error_y": {
             "color": "#2a3f5f"
            },
            "marker": {
             "line": {
              "color": "#E5ECF6",
              "width": 0.5
             },
             "pattern": {
              "fillmode": "overlay",
              "size": 10,
              "solidity": 0.2
             }
            },
            "type": "bar"
           }
          ],
          "barpolar": [
           {
            "marker": {
             "line": {
              "color": "#E5ECF6",
              "width": 0.5
             },
             "pattern": {
              "fillmode": "overlay",
              "size": 10,
              "solidity": 0.2
             }
            },
            "type": "barpolar"
           }
          ],
          "carpet": [
           {
            "aaxis": {
             "endlinecolor": "#2a3f5f",
             "gridcolor": "white",
             "linecolor": "white",
             "minorgridcolor": "white",
             "startlinecolor": "#2a3f5f"
            },
            "baxis": {
             "endlinecolor": "#2a3f5f",
             "gridcolor": "white",
             "linecolor": "white",
             "minorgridcolor": "white",
             "startlinecolor": "#2a3f5f"
            },
            "type": "carpet"
           }
          ],
          "choropleth": [
           {
            "colorbar": {
             "outlinewidth": 0,
             "ticks": ""
            },
            "type": "choropleth"
           }
          ],
          "contour": [
           {
            "colorbar": {
             "outlinewidth": 0,
             "ticks": ""
            },
            "colorscale": [
             [
              0,
              "#0d0887"
             ],
             [
              0.1111111111111111,
              "#46039f"
             ],
             [
              0.2222222222222222,
              "#7201a8"
             ],
             [
              0.3333333333333333,
              "#9c179e"
             ],
             [
              0.4444444444444444,
              "#bd3786"
             ],
             [
              0.5555555555555556,
              "#d8576b"
             ],
             [
              0.6666666666666666,
              "#ed7953"
             ],
             [
              0.7777777777777778,
              "#fb9f3a"
             ],
             [
              0.8888888888888888,
              "#fdca26"
             ],
             [
              1,
              "#f0f921"
             ]
            ],
            "type": "contour"
           }
          ],
          "contourcarpet": [
           {
            "colorbar": {
             "outlinewidth": 0,
             "ticks": ""
            },
            "type": "contourcarpet"
           }
          ],
          "heatmap": [
           {
            "colorbar": {
             "outlinewidth": 0,
             "ticks": ""
            },
            "colorscale": [
             [
              0,
              "#0d0887"
             ],
             [
              0.1111111111111111,
              "#46039f"
             ],
             [
              0.2222222222222222,
              "#7201a8"
             ],
             [
              0.3333333333333333,
              "#9c179e"
             ],
             [
              0.4444444444444444,
              "#bd3786"
             ],
             [
              0.5555555555555556,
              "#d8576b"
             ],
             [
              0.6666666666666666,
              "#ed7953"
             ],
             [
              0.7777777777777778,
              "#fb9f3a"
             ],
             [
              0.8888888888888888,
              "#fdca26"
             ],
             [
              1,
              "#f0f921"
             ]
            ],
            "type": "heatmap"
           }
          ],
          "heatmapgl": [
           {
            "colorbar": {
             "outlinewidth": 0,
             "ticks": ""
            },
            "colorscale": [
             [
              0,
              "#0d0887"
             ],
             [
              0.1111111111111111,
              "#46039f"
             ],
             [
              0.2222222222222222,
              "#7201a8"
             ],
             [
              0.3333333333333333,
              "#9c179e"
             ],
             [
              0.4444444444444444,
              "#bd3786"
             ],
             [
              0.5555555555555556,
              "#d8576b"
             ],
             [
              0.6666666666666666,
              "#ed7953"
             ],
             [
              0.7777777777777778,
              "#fb9f3a"
             ],
             [
              0.8888888888888888,
              "#fdca26"
             ],
             [
              1,
              "#f0f921"
             ]
            ],
            "type": "heatmapgl"
           }
          ],
          "histogram": [
           {
            "marker": {
             "pattern": {
              "fillmode": "overlay",
              "size": 10,
              "solidity": 0.2
             }
            },
            "type": "histogram"
           }
          ],
          "histogram2d": [
           {
            "colorbar": {
             "outlinewidth": 0,
             "ticks": ""
            },
            "colorscale": [
             [
              0,
              "#0d0887"
             ],
             [
              0.1111111111111111,
              "#46039f"
             ],
             [
              0.2222222222222222,
              "#7201a8"
             ],
             [
              0.3333333333333333,
              "#9c179e"
             ],
             [
              0.4444444444444444,
              "#bd3786"
             ],
             [
              0.5555555555555556,
              "#d8576b"
             ],
             [
              0.6666666666666666,
              "#ed7953"
             ],
             [
              0.7777777777777778,
              "#fb9f3a"
             ],
             [
              0.8888888888888888,
              "#fdca26"
             ],
             [
              1,
              "#f0f921"
             ]
            ],
            "type": "histogram2d"
           }
          ],
          "histogram2dcontour": [
           {
            "colorbar": {
             "outlinewidth": 0,
             "ticks": ""
            },
            "colorscale": [
             [
              0,
              "#0d0887"
             ],
             [
              0.1111111111111111,
              "#46039f"
             ],
             [
              0.2222222222222222,
              "#7201a8"
             ],
             [
              0.3333333333333333,
              "#9c179e"
             ],
             [
              0.4444444444444444,
              "#bd3786"
             ],
             [
              0.5555555555555556,
              "#d8576b"
             ],
             [
              0.6666666666666666,
              "#ed7953"
             ],
             [
              0.7777777777777778,
              "#fb9f3a"
             ],
             [
              0.8888888888888888,
              "#fdca26"
             ],
             [
              1,
              "#f0f921"
             ]
            ],
            "type": "histogram2dcontour"
           }
          ],
          "mesh3d": [
           {
            "colorbar": {
             "outlinewidth": 0,
             "ticks": ""
            },
            "type": "mesh3d"
           }
          ],
          "parcoords": [
           {
            "line": {
             "colorbar": {
              "outlinewidth": 0,
              "ticks": ""
             }
            },
            "type": "parcoords"
           }
          ],
          "pie": [
           {
            "automargin": true,
            "type": "pie"
           }
          ],
          "scatter": [
           {
            "fillpattern": {
             "fillmode": "overlay",
             "size": 10,
             "solidity": 0.2
            },
            "type": "scatter"
           }
          ],
          "scatter3d": [
           {
            "line": {
             "colorbar": {
              "outlinewidth": 0,
              "ticks": ""
             }
            },
            "marker": {
             "colorbar": {
              "outlinewidth": 0,
              "ticks": ""
             }
            },
            "type": "scatter3d"
           }
          ],
          "scattercarpet": [
           {
            "marker": {
             "colorbar": {
              "outlinewidth": 0,
              "ticks": ""
             }
            },
            "type": "scattercarpet"
           }
          ],
          "scattergeo": [
           {
            "marker": {
             "colorbar": {
              "outlinewidth": 0,
              "ticks": ""
             }
            },
            "type": "scattergeo"
           }
          ],
          "scattergl": [
           {
            "marker": {
             "colorbar": {
              "outlinewidth": 0,
              "ticks": ""
             }
            },
            "type": "scattergl"
           }
          ],
          "scattermapbox": [
           {
            "marker": {
             "colorbar": {
              "outlinewidth": 0,
              "ticks": ""
             }
            },
            "type": "scattermapbox"
           }
          ],
          "scatterpolar": [
           {
            "marker": {
             "colorbar": {
              "outlinewidth": 0,
              "ticks": ""
             }
            },
            "type": "scatterpolar"
           }
          ],
          "scatterpolargl": [
           {
            "marker": {
             "colorbar": {
              "outlinewidth": 0,
              "ticks": ""
             }
            },
            "type": "scatterpolargl"
           }
          ],
          "scatterternary": [
           {
            "marker": {
             "colorbar": {
              "outlinewidth": 0,
              "ticks": ""
             }
            },
            "type": "scatterternary"
           }
          ],
          "surface": [
           {
            "colorbar": {
             "outlinewidth": 0,
             "ticks": ""
            },
            "colorscale": [
             [
              0,
              "#0d0887"
             ],
             [
              0.1111111111111111,
              "#46039f"
             ],
             [
              0.2222222222222222,
              "#7201a8"
             ],
             [
              0.3333333333333333,
              "#9c179e"
             ],
             [
              0.4444444444444444,
              "#bd3786"
             ],
             [
              0.5555555555555556,
              "#d8576b"
             ],
             [
              0.6666666666666666,
              "#ed7953"
             ],
             [
              0.7777777777777778,
              "#fb9f3a"
             ],
             [
              0.8888888888888888,
              "#fdca26"
             ],
             [
              1,
              "#f0f921"
             ]
            ],
            "type": "surface"
           }
          ],
          "table": [
           {
            "cells": {
             "fill": {
              "color": "#EBF0F8"
             },
             "line": {
              "color": "white"
             }
            },
            "header": {
             "fill": {
              "color": "#C8D4E3"
             },
             "line": {
              "color": "white"
             }
            },
            "type": "table"
           }
          ]
         },
         "layout": {
          "annotationdefaults": {
           "arrowcolor": "#2a3f5f",
           "arrowhead": 0,
           "arrowwidth": 1
          },
          "autotypenumbers": "strict",
          "coloraxis": {
           "colorbar": {
            "outlinewidth": 0,
            "ticks": ""
           }
          },
          "colorscale": {
           "diverging": [
            [
             0,
             "#8e0152"
            ],
            [
             0.1,
             "#c51b7d"
            ],
            [
             0.2,
             "#de77ae"
            ],
            [
             0.3,
             "#f1b6da"
            ],
            [
             0.4,
             "#fde0ef"
            ],
            [
             0.5,
             "#f7f7f7"
            ],
            [
             0.6,
             "#e6f5d0"
            ],
            [
             0.7,
             "#b8e186"
            ],
            [
             0.8,
             "#7fbc41"
            ],
            [
             0.9,
             "#4d9221"
            ],
            [
             1,
             "#276419"
            ]
           ],
           "sequential": [
            [
             0,
             "#0d0887"
            ],
            [
             0.1111111111111111,
             "#46039f"
            ],
            [
             0.2222222222222222,
             "#7201a8"
            ],
            [
             0.3333333333333333,
             "#9c179e"
            ],
            [
             0.4444444444444444,
             "#bd3786"
            ],
            [
             0.5555555555555556,
             "#d8576b"
            ],
            [
             0.6666666666666666,
             "#ed7953"
            ],
            [
             0.7777777777777778,
             "#fb9f3a"
            ],
            [
             0.8888888888888888,
             "#fdca26"
            ],
            [
             1,
             "#f0f921"
            ]
           ],
           "sequentialminus": [
            [
             0,
             "#0d0887"
            ],
            [
             0.1111111111111111,
             "#46039f"
            ],
            [
             0.2222222222222222,
             "#7201a8"
            ],
            [
             0.3333333333333333,
             "#9c179e"
            ],
            [
             0.4444444444444444,
             "#bd3786"
            ],
            [
             0.5555555555555556,
             "#d8576b"
            ],
            [
             0.6666666666666666,
             "#ed7953"
            ],
            [
             0.7777777777777778,
             "#fb9f3a"
            ],
            [
             0.8888888888888888,
             "#fdca26"
            ],
            [
             1,
             "#f0f921"
            ]
           ]
          },
          "colorway": [
           "#636efa",
           "#EF553B",
           "#00cc96",
           "#ab63fa",
           "#FFA15A",
           "#19d3f3",
           "#FF6692",
           "#B6E880",
           "#FF97FF",
           "#FECB52"
          ],
          "font": {
           "color": "#2a3f5f"
          },
          "geo": {
           "bgcolor": "white",
           "lakecolor": "white",
           "landcolor": "#E5ECF6",
           "showlakes": true,
           "showland": true,
           "subunitcolor": "white"
          },
          "hoverlabel": {
           "align": "left"
          },
          "hovermode": "closest",
          "mapbox": {
           "style": "light"
          },
          "paper_bgcolor": "white",
          "plot_bgcolor": "#E5ECF6",
          "polar": {
           "angularaxis": {
            "gridcolor": "white",
            "linecolor": "white",
            "ticks": ""
           },
           "bgcolor": "#E5ECF6",
           "radialaxis": {
            "gridcolor": "white",
            "linecolor": "white",
            "ticks": ""
           }
          },
          "scene": {
           "xaxis": {
            "backgroundcolor": "#E5ECF6",
            "gridcolor": "white",
            "gridwidth": 2,
            "linecolor": "white",
            "showbackground": true,
            "ticks": "",
            "zerolinecolor": "white"
           },
           "yaxis": {
            "backgroundcolor": "#E5ECF6",
            "gridcolor": "white",
            "gridwidth": 2,
            "linecolor": "white",
            "showbackground": true,
            "ticks": "",
            "zerolinecolor": "white"
           },
           "zaxis": {
            "backgroundcolor": "#E5ECF6",
            "gridcolor": "white",
            "gridwidth": 2,
            "linecolor": "white",
            "showbackground": true,
            "ticks": "",
            "zerolinecolor": "white"
           }
          },
          "shapedefaults": {
           "line": {
            "color": "#2a3f5f"
           }
          },
          "ternary": {
           "aaxis": {
            "gridcolor": "white",
            "linecolor": "white",
            "ticks": ""
           },
           "baxis": {
            "gridcolor": "white",
            "linecolor": "white",
            "ticks": ""
           },
           "bgcolor": "#E5ECF6",
           "caxis": {
            "gridcolor": "white",
            "linecolor": "white",
            "ticks": ""
           }
          },
          "title": {
           "x": 0.05
          },
          "xaxis": {
           "automargin": true,
           "gridcolor": "white",
           "linecolor": "white",
           "ticks": "",
           "title": {
            "standoff": 15
           },
           "zerolinecolor": "white",
           "zerolinewidth": 2
          },
          "yaxis": {
           "automargin": true,
           "gridcolor": "white",
           "linecolor": "white",
           "ticks": "",
           "title": {
            "standoff": 15
           },
           "zerolinecolor": "white",
           "zerolinewidth": 2
          }
         }
        },
        "xaxis": {
         "anchor": "y",
         "domain": [
          0,
          1
         ],
         "title": {
          "text": "value"
         }
        },
        "yaxis": {
         "anchor": "x",
         "domain": [
          0,
          1
         ],
         "title": {
          "text": "count"
         }
        }
       }
      }
     },
     "metadata": {},
     "output_type": "display_data"
>>>>>>> upstream/main
    }
   ],
   "source": [
    "plt.hist(heights_samples)\n",
    "plt.show()\n",
    "print(f\"The mean of the sampling distribution is {np.mean(heights_samples)}\")"
   ]
  },
  {
   "cell_type": "markdown",
   "metadata": {},
   "source": [
    "As shown in this example, irrespectively of the shape of the population distribution, **the mean of the sampling distribution equals the population mean** and follows a normal distribution.\n",
    "\n",
    "The standard deviation of the sampling distribution can also be manipulated (by increasing sample size) and we calculate it with the following expression:\n",
    "\n"
   ]
  },
  {
   "cell_type": "markdown",
   "metadata": {},
   "source": [
    "![](https://github.com/data-bootcamp-v4/lessons/blob/main/img/std-samp-dist.png?raw=true)"
   ]
  },
  {
   "cell_type": "markdown",
   "metadata": {},
   "source": [
    "This formula implies that if we have a bigger sample the standard deviation of the sampling distribution will decrease. Let's observe it with some examples"
   ]
  },
  {
   "cell_type": "code",
<<<<<<< HEAD
   "execution_count": 56,
=======
   "execution_count": 30,
>>>>>>> upstream/main
   "metadata": {},
   "outputs": [
    {
     "data": {
<<<<<<< HEAD
      "image/png": "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",
=======
      "image/png": "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",
>>>>>>> upstream/main
      "text/plain": [
       "<Figure size 640x480 with 2 Axes>"
      ]
     },
     "metadata": {},
     "output_type": "display_data"
    }
   ],
   "source": [
    "#Generate small samples\n",
    "heights_samples_10 = [np.mean(np.random.choice(heights, 10))for _ in range(100)]\n",
    "\n",
    "#Generate bigger samples\n",
    "heights_samples_100 = [np.mean(np.random.choice(heights, 100))for _ in range(100)]\n",
    "\n",
    "_, charts = plt.subplots(nrows = 1, ncols=2, sharex=True)\n",
    "charts[0].set_title(\"Sampling Distribution with n=10\", fontsize=10)\n",
    "charts[0].hist(heights_samples_10)\n",
    "\n",
    "charts[1].set_title(\"Sampling Distribution with n=100\", fontsize=10)\n",
    "charts[1].hist(heights_samples_100)\n",
    "plt.show()"
   ]
  },
  {
   "cell_type": "markdown",
   "metadata": {},
   "source": [
    "As shown in the sampling distributions plots above, larger samples sizes help us control **variation due to sample**."
   ]
  },
  {
   "cell_type": "markdown",
   "metadata": {},
   "source": [
    "# Hypothesis Testing"
   ]
  },
  {
   "cell_type": "markdown",
   "metadata": {},
   "source": [
    "### One Sample T-test"
   ]
  },
  {
   "cell_type": "code",
<<<<<<< HEAD
   "execution_count": 5,
=======
   "execution_count": 31,
>>>>>>> upstream/main
   "metadata": {},
   "outputs": [
    {
     "data": {
      "text/html": [
       "<div>\n",
       "<style scoped>\n",
       "    .dataframe tbody tr th:only-of-type {\n",
       "        vertical-align: middle;\n",
       "    }\n",
       "\n",
       "    .dataframe tbody tr th {\n",
       "        vertical-align: top;\n",
       "    }\n",
       "\n",
       "    .dataframe thead th {\n",
       "        text-align: right;\n",
       "    }\n",
       "</style>\n",
       "<table border=\"1\" class=\"dataframe\">\n",
       "  <thead>\n",
       "    <tr style=\"text-align: right;\">\n",
       "      <th></th>\n",
       "      <th>PassengerId</th>\n",
       "      <th>Survived</th>\n",
       "      <th>Pclass</th>\n",
       "      <th>Name</th>\n",
       "      <th>Sex</th>\n",
       "      <th>Age</th>\n",
       "      <th>SibSp</th>\n",
       "      <th>Parch</th>\n",
       "      <th>Ticket</th>\n",
       "      <th>Fare</th>\n",
       "      <th>Cabin</th>\n",
       "      <th>Embarked</th>\n",
       "    </tr>\n",
       "  </thead>\n",
       "  <tbody>\n",
       "    <tr>\n",
       "      <th>0</th>\n",
       "      <td>1</td>\n",
       "      <td>0</td>\n",
       "      <td>3</td>\n",
       "      <td>Braund, Mr. Owen Harris</td>\n",
       "      <td>male</td>\n",
       "      <td>22.0</td>\n",
       "      <td>1</td>\n",
       "      <td>0</td>\n",
       "      <td>A/5 21171</td>\n",
       "      <td>7.2500</td>\n",
       "      <td>NaN</td>\n",
       "      <td>S</td>\n",
       "    </tr>\n",
       "    <tr>\n",
       "      <th>1</th>\n",
       "      <td>2</td>\n",
       "      <td>1</td>\n",
       "      <td>1</td>\n",
       "      <td>Cumings, Mrs. John Bradley (Florence Briggs Th...</td>\n",
       "      <td>female</td>\n",
       "      <td>38.0</td>\n",
       "      <td>1</td>\n",
       "      <td>0</td>\n",
       "      <td>PC 17599</td>\n",
       "      <td>71.2833</td>\n",
       "      <td>C85</td>\n",
       "      <td>C</td>\n",
       "    </tr>\n",
       "    <tr>\n",
       "      <th>2</th>\n",
       "      <td>3</td>\n",
       "      <td>1</td>\n",
       "      <td>3</td>\n",
       "      <td>Heikkinen, Miss. Laina</td>\n",
       "      <td>female</td>\n",
       "      <td>26.0</td>\n",
       "      <td>0</td>\n",
       "      <td>0</td>\n",
       "      <td>STON/O2. 3101282</td>\n",
       "      <td>7.9250</td>\n",
       "      <td>NaN</td>\n",
       "      <td>S</td>\n",
       "    </tr>\n",
       "    <tr>\n",
       "      <th>3</th>\n",
       "      <td>4</td>\n",
       "      <td>1</td>\n",
       "      <td>1</td>\n",
       "      <td>Futrelle, Mrs. Jacques Heath (Lily May Peel)</td>\n",
       "      <td>female</td>\n",
       "      <td>35.0</td>\n",
       "      <td>1</td>\n",
       "      <td>0</td>\n",
       "      <td>113803</td>\n",
       "      <td>53.1000</td>\n",
       "      <td>C123</td>\n",
       "      <td>S</td>\n",
       "    </tr>\n",
       "    <tr>\n",
       "      <th>4</th>\n",
       "      <td>5</td>\n",
       "      <td>0</td>\n",
       "      <td>3</td>\n",
       "      <td>Allen, Mr. William Henry</td>\n",
       "      <td>male</td>\n",
       "      <td>35.0</td>\n",
       "      <td>0</td>\n",
       "      <td>0</td>\n",
       "      <td>373450</td>\n",
       "      <td>8.0500</td>\n",
       "      <td>NaN</td>\n",
       "      <td>S</td>\n",
       "    </tr>\n",
       "  </tbody>\n",
       "</table>\n",
       "</div>"
      ],
      "text/plain": [
       "   PassengerId  Survived  Pclass  \\\n",
       "0            1         0       3   \n",
       "1            2         1       1   \n",
       "2            3         1       3   \n",
       "3            4         1       1   \n",
       "4            5         0       3   \n",
       "\n",
       "                                                Name     Sex   Age  SibSp  \\\n",
       "0                            Braund, Mr. Owen Harris    male  22.0      1   \n",
       "1  Cumings, Mrs. John Bradley (Florence Briggs Th...  female  38.0      1   \n",
       "2                             Heikkinen, Miss. Laina  female  26.0      0   \n",
       "3       Futrelle, Mrs. Jacques Heath (Lily May Peel)  female  35.0      1   \n",
       "4                           Allen, Mr. William Henry    male  35.0      0   \n",
       "\n",
       "   Parch            Ticket     Fare Cabin Embarked  \n",
       "0      0         A/5 21171   7.2500   NaN        S  \n",
       "1      0          PC 17599  71.2833   C85        C  \n",
       "2      0  STON/O2. 3101282   7.9250   NaN        S  \n",
       "3      0            113803  53.1000  C123        S  \n",
       "4      0            373450   8.0500   NaN        S  "
      ]
     },
<<<<<<< HEAD
     "execution_count": 5,
=======
     "execution_count": 31,
>>>>>>> upstream/main
     "metadata": {},
     "output_type": "execute_result"
    }
   ],
   "source": [
    "#Load the data\n",
    "\n",
    "df = pd.read_csv(\"https://raw.githubusercontent.com/data-bootcamp-v4/data/main/titanic_train.csv\")\n",
    "df.head()"
   ]
  },
  {
   "cell_type": "code",
<<<<<<< HEAD
   "execution_count": 14,
=======
   "execution_count": 32,
>>>>>>> upstream/main
   "metadata": {},
   "outputs": [
    {
     "data": {
      "text/plain": [
       "(891, 12)"
      ]
     },
<<<<<<< HEAD
     "execution_count": 14,
=======
     "execution_count": 32,
>>>>>>> upstream/main
     "metadata": {},
     "output_type": "execute_result"
    }
   ],
   "source": [
    "df.shape"
   ]
  },
  {
   "cell_type": "markdown",
   "metadata": {},
   "source": [
    "**Let's check if 1st class ticket prices, traditionally thought to be $65, actually align with historical data through statistical testing.**\n",
    "\n",
    "First we are breaking it down step by step"
   ]
  },
  {
   "cell_type": "markdown",
   "metadata": {},
   "source": [
    "##### Set Hypothesis"
   ]
  },
  {
   "cell_type": "code",
   "execution_count": 9,
   "metadata": {},
   "outputs": [],
   "source": [
    "#Set the hypothesis\n",
    "\n",
    "#H0: mu 1st class_prices = 65\n",
    "#H1: mu 1st class_prices!= 65"
   ]
  },
  {
   "cell_type": "markdown",
   "metadata": {},
   "source": [
    "##### Choose significance level"
   ]
  },
  {
   "cell_type": "code",
<<<<<<< HEAD
   "execution_count": 6,
=======
   "execution_count": 33,
>>>>>>> upstream/main
   "metadata": {},
   "outputs": [],
   "source": [
    "alpha = 0.05 \n",
    "#We want to be incorrectly refuse the hypothesis when it was true only 5 % of the time"
   ]
  },
  {
   "cell_type": "markdown",
   "metadata": {},
   "source": [
    "##### Collect data"
   ]
  },
  {
   "cell_type": "code",
<<<<<<< HEAD
   "execution_count": 9,
=======
   "execution_count": 38,
>>>>>>> upstream/main
   "metadata": {},
   "outputs": [
    {
     "data": {
      "text/plain": [
       "84.1546875"
      ]
     },
<<<<<<< HEAD
     "execution_count": 9,
=======
     "execution_count": 38,
>>>>>>> upstream/main
     "metadata": {},
     "output_type": "execute_result"
    }
   ],
   "source": [
    "first_class = df[df[\"Pclass\"]==1][\"Fare\"]\n",
    "first_class.mean()"
   ]
  },
  {
   "cell_type": "markdown",
   "metadata": {},
   "source": [
    "##### Compute Test Statistic"
   ]
  },
  {
   "cell_type": "code",
<<<<<<< HEAD
   "execution_count": 8,
=======
   "execution_count": 35,
>>>>>>> upstream/main
   "metadata": {},
   "outputs": [
    {
     "data": {
      "text/plain": [
<<<<<<< HEAD
       "3.5916550768855235"
      ]
     },
     "execution_count": 8,
=======
       "3.591655076885525"
      ]
     },
     "execution_count": 35,
>>>>>>> upstream/main
     "metadata": {},
     "output_type": "execute_result"
    }
   ],
   "source": [
    "#In order to calculate test statistic we need\n",
    "\n",
    "#sample mean\n",
    "mean = first_class.mean()\n",
    "\n",
    "#standard deviation of sample\n",
    "s = first_class.std(ddof=1)\n",
    "\n",
    "#sample size\n",
    "n = len(first_class)\n",
    "\n",
    "#hypothesized population mean\n",
    "mu = 65\n",
    "\n",
    "stat = (mean - mu)/(s/np.sqrt(n))\n",
    "stat"
   ]
  },
  {
   "cell_type": "markdown",
   "metadata": {},
   "source": [
    "##### Determine p_value"
   ]
  },
  {
   "cell_type": "markdown",
   "metadata": {},
   "source": [
    "- In two-tailed test we can obtain the p_value using --> st.t.sf(abs(stat), n-1)*2\n",
    "\n",
    "- In one-tailed test we can obtain the p_value using --> st.t.sf(abs(stat), n-1)"
   ]
  },
  {
   "cell_type": "code",
<<<<<<< HEAD
   "execution_count": 10,
=======
   "execution_count": 36,
>>>>>>> upstream/main
   "metadata": {},
   "outputs": [
    {
     "data": {
      "text/plain": [
<<<<<<< HEAD
       "0.000407204077221344"
      ]
     },
     "execution_count": 10,
=======
       "0.00040720407722134215"
      ]
     },
     "execution_count": 36,
>>>>>>> upstream/main
     "metadata": {},
     "output_type": "execute_result"
    }
   ],
   "source": [
    "p_value = st.t.sf(abs(stat), n-1)*2\n",
    "p_value"
   ]
  },
  {
   "cell_type": "markdown",
   "metadata": {},
   "source": [
    "p value is on the tail"
   ]
  },
  {
   "attachments": {
    "image.png": {
     "image/png": "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"
    }
   },
   "cell_type": "markdown",
   "metadata": {},
   "source": [
    "![image.png](attachment:image.png)"
   ]
  },
  {
   "cell_type": "markdown",
   "metadata": {},
   "source": [
    "##### Decision-making"
   ]
  },
  {
   "cell_type": "code",
<<<<<<< HEAD
   "execution_count": 11,
=======
   "execution_count": 37,
>>>>>>> upstream/main
   "metadata": {},
   "outputs": [
    {
     "name": "stdout",
     "output_type": "stream",
     "text": [
      "We reject the null hypotesis\n"
     ]
    }
   ],
   "source": [
    "if p_value > alpha:\n",
    "    print(\"We are not able to reject the null hypothesis\")\n",
    "else:\n",
    "    print(\"We reject the null hypotesis\")"
   ]
  },
  {
   "cell_type": "markdown",
   "metadata": {},
   "source": [
    "In this case because the p_value is lower our significance level, we can indeed reject the null hypothesis that claims 1st class tickets costs on average 60$."
   ]
  },
  {
   "cell_type": "markdown",
   "metadata": {},
   "source": [
    "**Python way**"
   ]
  },
  {
   "cell_type": "code",
<<<<<<< HEAD
   "execution_count": 27,
=======
   "execution_count": 39,
>>>>>>> upstream/main
   "metadata": {},
   "outputs": [
    {
     "data": {
      "text/plain": [
       "TtestResult(statistic=3.591655076885525, pvalue=0.00040720407722134215, df=215)"
      ]
     },
<<<<<<< HEAD
     "execution_count": 27,
=======
     "execution_count": 39,
>>>>>>> upstream/main
     "metadata": {},
     "output_type": "execute_result"
    }
   ],
   "source": [
    "st.ttest_1samp(first_class, 65)"
   ]
  },
  {
   "cell_type": "markdown",
   "metadata": {},
   "source": [
    "**What if we believe that prices are more expensive than 65$ ?**"
   ]
  },
  {
   "cell_type": "code",
   "execution_count": 32,
   "metadata": {},
   "outputs": [],
   "source": [
    "#Set hypothesis\n",
    "\n",
    "#H0: mu 1st class_prices <= 65\n",
    "#H1: mu 1st class_prices > 65\n",
    "\n",
    "#with alpha = 0.05"
   ]
  },
  {
   "cell_type": "code",
<<<<<<< HEAD
   "execution_count": 35,
=======
   "execution_count": 40,
>>>>>>> upstream/main
   "metadata": {},
   "outputs": [
    {
     "data": {
      "text/plain": [
       "TtestResult(statistic=3.591655076885525, pvalue=0.00020360203861067108, df=215)"
      ]
     },
<<<<<<< HEAD
     "execution_count": 35,
=======
     "execution_count": 40,
>>>>>>> upstream/main
     "metadata": {},
     "output_type": "execute_result"
    }
   ],
   "source": [
    "st.ttest_1samp(first_class, 65, alternative = \"greater\")"
   ]
  },
  {
   "cell_type": "markdown",
   "metadata": {},
   "source": [
    "We also reject the null hypothesis that claimed 1st class prices on average equal or lower than 65.\n",
    "\n",
    "We can say we obtained enough evidence to reject the null hypothesis"
   ]
  },
  {
   "cell_type": "markdown",
   "metadata": {},
   "source": [
    "### Two Sample T-test"
   ]
  },
  {
   "cell_type": "code",
<<<<<<< HEAD
   "execution_count": 12,
=======
   "execution_count": 41,
>>>>>>> upstream/main
   "metadata": {},
   "outputs": [
    {
     "data": {
      "text/html": [
       "<div>\n",
       "<style scoped>\n",
       "    .dataframe tbody tr th:only-of-type {\n",
       "        vertical-align: middle;\n",
       "    }\n",
       "\n",
       "    .dataframe tbody tr th {\n",
       "        vertical-align: top;\n",
       "    }\n",
       "\n",
       "    .dataframe thead th {\n",
       "        text-align: right;\n",
       "    }\n",
       "</style>\n",
       "<table border=\"1\" class=\"dataframe\">\n",
       "  <thead>\n",
       "    <tr style=\"text-align: right;\">\n",
       "      <th></th>\n",
       "      <th>PassengerId</th>\n",
       "      <th>Survived</th>\n",
       "      <th>Pclass</th>\n",
       "      <th>Name</th>\n",
       "      <th>Sex</th>\n",
       "      <th>Age</th>\n",
       "      <th>SibSp</th>\n",
       "      <th>Parch</th>\n",
       "      <th>Ticket</th>\n",
       "      <th>Fare</th>\n",
       "      <th>Cabin</th>\n",
       "      <th>Embarked</th>\n",
       "    </tr>\n",
       "  </thead>\n",
       "  <tbody>\n",
       "    <tr>\n",
       "      <th>0</th>\n",
       "      <td>1</td>\n",
       "      <td>0</td>\n",
       "      <td>3</td>\n",
       "      <td>Braund, Mr. Owen Harris</td>\n",
       "      <td>male</td>\n",
       "      <td>22.0</td>\n",
       "      <td>1</td>\n",
       "      <td>0</td>\n",
       "      <td>A/5 21171</td>\n",
       "      <td>7.2500</td>\n",
       "      <td>NaN</td>\n",
       "      <td>S</td>\n",
       "    </tr>\n",
       "    <tr>\n",
       "      <th>1</th>\n",
       "      <td>2</td>\n",
       "      <td>1</td>\n",
       "      <td>1</td>\n",
       "      <td>Cumings, Mrs. John Bradley (Florence Briggs Th...</td>\n",
       "      <td>female</td>\n",
       "      <td>38.0</td>\n",
       "      <td>1</td>\n",
       "      <td>0</td>\n",
       "      <td>PC 17599</td>\n",
       "      <td>71.2833</td>\n",
       "      <td>C85</td>\n",
       "      <td>C</td>\n",
       "    </tr>\n",
       "    <tr>\n",
       "      <th>2</th>\n",
       "      <td>3</td>\n",
       "      <td>1</td>\n",
       "      <td>3</td>\n",
       "      <td>Heikkinen, Miss. Laina</td>\n",
       "      <td>female</td>\n",
       "      <td>26.0</td>\n",
       "      <td>0</td>\n",
       "      <td>0</td>\n",
       "      <td>STON/O2. 3101282</td>\n",
       "      <td>7.9250</td>\n",
       "      <td>NaN</td>\n",
       "      <td>S</td>\n",
       "    </tr>\n",
       "    <tr>\n",
       "      <th>3</th>\n",
       "      <td>4</td>\n",
       "      <td>1</td>\n",
       "      <td>1</td>\n",
       "      <td>Futrelle, Mrs. Jacques Heath (Lily May Peel)</td>\n",
       "      <td>female</td>\n",
       "      <td>35.0</td>\n",
       "      <td>1</td>\n",
       "      <td>0</td>\n",
       "      <td>113803</td>\n",
       "      <td>53.1000</td>\n",
       "      <td>C123</td>\n",
       "      <td>S</td>\n",
       "    </tr>\n",
       "    <tr>\n",
       "      <th>4</th>\n",
       "      <td>5</td>\n",
       "      <td>0</td>\n",
       "      <td>3</td>\n",
       "      <td>Allen, Mr. William Henry</td>\n",
       "      <td>male</td>\n",
       "      <td>35.0</td>\n",
       "      <td>0</td>\n",
       "      <td>0</td>\n",
       "      <td>373450</td>\n",
       "      <td>8.0500</td>\n",
       "      <td>NaN</td>\n",
       "      <td>S</td>\n",
       "    </tr>\n",
       "  </tbody>\n",
       "</table>\n",
       "</div>"
      ],
      "text/plain": [
       "   PassengerId  Survived  Pclass  \\\n",
       "0            1         0       3   \n",
       "1            2         1       1   \n",
       "2            3         1       3   \n",
       "3            4         1       1   \n",
       "4            5         0       3   \n",
       "\n",
       "                                                Name     Sex   Age  SibSp  \\\n",
       "0                            Braund, Mr. Owen Harris    male  22.0      1   \n",
       "1  Cumings, Mrs. John Bradley (Florence Briggs Th...  female  38.0      1   \n",
       "2                             Heikkinen, Miss. Laina  female  26.0      0   \n",
       "3       Futrelle, Mrs. Jacques Heath (Lily May Peel)  female  35.0      1   \n",
       "4                           Allen, Mr. William Henry    male  35.0      0   \n",
       "\n",
       "   Parch            Ticket     Fare Cabin Embarked  \n",
       "0      0         A/5 21171   7.2500   NaN        S  \n",
       "1      0          PC 17599  71.2833   C85        C  \n",
       "2      0  STON/O2. 3101282   7.9250   NaN        S  \n",
       "3      0            113803  53.1000  C123        S  \n",
       "4      0            373450   8.0500   NaN        S  "
      ]
     },
<<<<<<< HEAD
     "execution_count": 12,
=======
     "execution_count": 41,
>>>>>>> upstream/main
     "metadata": {},
     "output_type": "execute_result"
    }
   ],
   "source": [
    "#Load the data - we are going to use titanic dataset\n",
    "\n",
    "df = pd.read_csv(\"https://raw.githubusercontent.com/data-bootcamp-v4/data/main/titanic_train.csv\")\n",
    "df.head()"
   ]
  },
  {
   "cell_type": "markdown",
   "metadata": {},
   "source": [
    "We want to test if the average ticket price is the same for males and females"
   ]
  },
  {
   "cell_type": "code",
<<<<<<< HEAD
   "execution_count": 13,
=======
   "execution_count": 42,
>>>>>>> upstream/main
   "metadata": {},
   "outputs": [],
   "source": [
    "df_female = df[df[\"Sex\"]==\"female\"][\"Fare\"]\n",
    "df_male = df[df[\"Sex\"]==\"male\"][\"Fare\"]"
   ]
  },
  {
   "cell_type": "code",
   "execution_count": null,
   "metadata": {},
   "outputs": [],
   "source": [
    "#Set the hypothesis\n",
    "\n",
    "#H0: mu_price male = mu_price female\n",
    "#H1: mu_price male != mu_price female\n",
    "\n",
    "#significance level = 0.05"
   ]
  },
  {
   "cell_type": "code",
<<<<<<< HEAD
   "execution_count": 73,
=======
   "execution_count": 43,
>>>>>>> upstream/main
   "metadata": {},
   "outputs": [
    {
     "data": {
      "text/plain": [
<<<<<<< HEAD
       "Ttest_indResult(statistic=-5.077499013458909, pvalue=5.388057409693902e-07)"
      ]
     },
     "execution_count": 73,
=======
       "TtestResult(statistic=-5.077499013458909, pvalue=5.388057409693902e-07, df=504.9643005334164)"
      ]
     },
     "execution_count": 43,
>>>>>>> upstream/main
     "metadata": {},
     "output_type": "execute_result"
    }
   ],
   "source": [
    "st.ttest_ind(df_male,df_female, equal_var=False)\n",
    "#p value very low so ticket price were different"
   ]
  },
  {
   "cell_type": "markdown",
   "metadata": {},
   "source": [
    "Because p_value is lower than significance level, we reject the null hypothesis, this means that prices, on average, paid by males and females is indeed diferent"
   ]
  },
  {
   "cell_type": "markdown",
   "metadata": {},
   "source": [
    "### Paired Sample T-test"
   ]
  },
  {
   "cell_type": "markdown",
   "metadata": {},
   "source": [
    "We aim to assess the effectiveness of a medical drug in controlling blood pressure.\n",
    "\n",
    " We have obtained readings of individuals' blood pressure both before and after taking the drug"
   ]
  },
  {
   "cell_type": "code",
<<<<<<< HEAD
   "execution_count": 14,
=======
   "execution_count": 44,
>>>>>>> upstream/main
   "metadata": {},
   "outputs": [
    {
     "data": {
      "text/html": [
       "<div>\n",
       "<style scoped>\n",
       "    .dataframe tbody tr th:only-of-type {\n",
       "        vertical-align: middle;\n",
       "    }\n",
       "\n",
       "    .dataframe tbody tr th {\n",
       "        vertical-align: top;\n",
       "    }\n",
       "\n",
       "    .dataframe thead th {\n",
       "        text-align: right;\n",
       "    }\n",
       "</style>\n",
       "<table border=\"1\" class=\"dataframe\">\n",
       "  <thead>\n",
       "    <tr style=\"text-align: right;\">\n",
       "      <th></th>\n",
       "      <th>before</th>\n",
       "      <th>after</th>\n",
       "    </tr>\n",
       "  </thead>\n",
       "  <tbody>\n",
       "    <tr>\n",
       "      <th>0</th>\n",
       "      <td>136.713072</td>\n",
       "      <td>92.432965</td>\n",
       "    </tr>\n",
       "    <tr>\n",
       "      <th>1</th>\n",
       "      <td>134.735618</td>\n",
       "      <td>105.022643</td>\n",
       "    </tr>\n",
       "    <tr>\n",
       "      <th>2</th>\n",
       "      <td>127.529115</td>\n",
       "      <td>82.242766</td>\n",
       "    </tr>\n",
       "    <tr>\n",
       "      <th>3</th>\n",
       "      <td>144.527126</td>\n",
       "      <td>93.607172</td>\n",
       "    </tr>\n",
       "    <tr>\n",
       "      <th>4</th>\n",
       "      <td>124.214720</td>\n",
       "      <td>103.212223</td>\n",
       "    </tr>\n",
       "    <tr>\n",
       "      <th>...</th>\n",
       "      <td>...</td>\n",
       "      <td>...</td>\n",
       "    </tr>\n",
       "    <tr>\n",
       "      <th>95</th>\n",
       "      <td>120.302824</td>\n",
       "      <td>85.128581</td>\n",
       "    </tr>\n",
       "    <tr>\n",
       "      <th>96</th>\n",
       "      <td>134.806478</td>\n",
       "      <td>106.925426</td>\n",
       "    </tr>\n",
       "    <tr>\n",
       "      <th>97</th>\n",
       "      <td>144.919839</td>\n",
       "      <td>83.105975</td>\n",
       "    </tr>\n",
       "    <tr>\n",
       "      <th>98</th>\n",
       "      <td>139.673854</td>\n",
       "      <td>87.560306</td>\n",
       "    </tr>\n",
       "    <tr>\n",
       "      <th>99</th>\n",
       "      <td>138.389444</td>\n",
       "      <td>99.392115</td>\n",
       "    </tr>\n",
       "  </tbody>\n",
       "</table>\n",
       "<p>100 rows × 2 columns</p>\n",
       "</div>"
      ],
      "text/plain": [
       "        before       after\n",
       "0   136.713072   92.432965\n",
       "1   134.735618  105.022643\n",
       "2   127.529115   82.242766\n",
       "3   144.527126   93.607172\n",
       "4   124.214720  103.212223\n",
       "..         ...         ...\n",
       "95  120.302824   85.128581\n",
       "96  134.806478  106.925426\n",
       "97  144.919839   83.105975\n",
       "98  139.673854   87.560306\n",
       "99  138.389444   99.392115\n",
       "\n",
       "[100 rows x 2 columns]"
      ]
     },
<<<<<<< HEAD
     "execution_count": 14,
=======
     "execution_count": 44,
>>>>>>> upstream/main
     "metadata": {},
     "output_type": "execute_result"
    }
   ],
   "source": [
    "#Load data\n",
    "df = pd.read_csv(r\"https://raw.githubusercontent.com/data-bootcamp-v4/data/main/blood_pressure.csv\")\n",
    "df"
   ]
  },
  {
   "cell_type": "code",
<<<<<<< HEAD
   "execution_count": 15,
=======
   "execution_count": 46,
>>>>>>> upstream/main
   "metadata": {},
   "outputs": [],
   "source": [
    "#Set hypothesis\n",
    "\n",
    "#H0: mu before = mu after\n",
    "#H1: mu before != mu after\n",
    "\n",
    "#Significance level -> 0.05\n",
    "alpha = 0.01"
   ]
  },
  {
   "cell_type": "code",
<<<<<<< HEAD
   "execution_count": 17,
=======
   "execution_count": 49,
>>>>>>> upstream/main
   "metadata": {},
   "outputs": [
    {
     "name": "stdout",
     "output_type": "stream",
     "text": [
      "7.303035069607835e-48\n"
     ]
    }
   ],
   "source": [
    "_, p_value = st.ttest_rel(df[\"before\"], df[\"after\"])\n",
    "print(p_value)"
   ]
  },
  {
   "cell_type": "code",
<<<<<<< HEAD
   "execution_count": 18,
=======
   "execution_count": 48,
>>>>>>> upstream/main
   "metadata": {},
   "outputs": [
    {
     "name": "stdout",
     "output_type": "stream",
     "text": [
      "We reject the null hypothesis\n"
     ]
    }
   ],
   "source": [
    "if p_value > alpha:\n",
    "    print(\"We are not able to reject the null hypothesis\")\n",
    "else:\n",
    "    print(\"We reject the null hypothesis\")"
   ]
  },
  {
   "cell_type": "markdown",
   "metadata": {},
   "source": [
    "to know if it influencing + or - do one tail test"
   ]
  },
  {
   "cell_type": "markdown",
   "metadata": {},
   "source": [
    "We reject the null hypothesis, therefore we can conclude the average blood pressure before and after taking the drug is not equal"
   ]
  },
  {
   "cell_type": "markdown",
   "metadata": {},
   "source": [
    "### ANOVA"
   ]
  },
  {
   "cell_type": "code",
<<<<<<< HEAD
   "execution_count": 19,
=======
   "execution_count": 50,
>>>>>>> upstream/main
   "metadata": {},
   "outputs": [
    {
     "data": {
      "text/html": [
       "<div>\n",
       "<style scoped>\n",
       "    .dataframe tbody tr th:only-of-type {\n",
       "        vertical-align: middle;\n",
       "    }\n",
       "\n",
       "    .dataframe tbody tr th {\n",
       "        vertical-align: top;\n",
       "    }\n",
       "\n",
       "    .dataframe thead th {\n",
       "        text-align: right;\n",
       "    }\n",
       "</style>\n",
       "<table border=\"1\" class=\"dataframe\">\n",
       "  <thead>\n",
       "    <tr style=\"text-align: right;\">\n",
       "      <th></th>\n",
       "      <th>work_year</th>\n",
       "      <th>experience_level</th>\n",
       "      <th>employment_type</th>\n",
       "      <th>job_title</th>\n",
       "      <th>salary</th>\n",
       "      <th>salary_currency</th>\n",
       "      <th>salary_in_usd</th>\n",
       "      <th>employee_residence</th>\n",
       "      <th>remote_ratio</th>\n",
       "      <th>company_location</th>\n",
       "      <th>company_size</th>\n",
       "    </tr>\n",
       "  </thead>\n",
       "  <tbody>\n",
       "    <tr>\n",
       "      <th>0</th>\n",
       "      <td>2023</td>\n",
       "      <td>Senior</td>\n",
       "      <td>Full Time</td>\n",
       "      <td>Principal Data Scientist</td>\n",
       "      <td>80000</td>\n",
       "      <td>EUR</td>\n",
       "      <td>85847</td>\n",
       "      <td>ES</td>\n",
       "      <td>100</td>\n",
       "      <td>ES</td>\n",
       "      <td>Large</td>\n",
       "    </tr>\n",
       "    <tr>\n",
       "      <th>1</th>\n",
       "      <td>2023</td>\n",
       "      <td>Mid</td>\n",
       "      <td>Contract</td>\n",
       "      <td>ML Engineer</td>\n",
       "      <td>30000</td>\n",
       "      <td>USD</td>\n",
       "      <td>30000</td>\n",
       "      <td>US</td>\n",
       "      <td>100</td>\n",
       "      <td>US</td>\n",
       "      <td>Small</td>\n",
       "    </tr>\n",
       "    <tr>\n",
       "      <th>2</th>\n",
       "      <td>2023</td>\n",
       "      <td>Mid</td>\n",
       "      <td>Contract</td>\n",
       "      <td>ML Engineer</td>\n",
       "      <td>25500</td>\n",
       "      <td>USD</td>\n",
       "      <td>25500</td>\n",
       "      <td>US</td>\n",
       "      <td>100</td>\n",
       "      <td>US</td>\n",
       "      <td>Small</td>\n",
       "    </tr>\n",
       "    <tr>\n",
       "      <th>3</th>\n",
       "      <td>2023</td>\n",
       "      <td>Senior</td>\n",
       "      <td>Full Time</td>\n",
       "      <td>Data Scientist</td>\n",
       "      <td>175000</td>\n",
       "      <td>USD</td>\n",
       "      <td>175000</td>\n",
       "      <td>CA</td>\n",
       "      <td>100</td>\n",
       "      <td>CA</td>\n",
       "      <td>Medium</td>\n",
       "    </tr>\n",
       "    <tr>\n",
       "      <th>4</th>\n",
       "      <td>2023</td>\n",
       "      <td>Senior</td>\n",
       "      <td>Full Time</td>\n",
       "      <td>Data Scientist</td>\n",
       "      <td>120000</td>\n",
       "      <td>USD</td>\n",
       "      <td>120000</td>\n",
       "      <td>CA</td>\n",
       "      <td>100</td>\n",
       "      <td>CA</td>\n",
       "      <td>Medium</td>\n",
       "    </tr>\n",
       "  </tbody>\n",
       "</table>\n",
       "</div>"
      ],
      "text/plain": [
       "   work_year experience_level employment_type                 job_title  \\\n",
       "0       2023           Senior       Full Time  Principal Data Scientist   \n",
       "1       2023              Mid        Contract               ML Engineer   \n",
       "2       2023              Mid        Contract               ML Engineer   \n",
       "3       2023           Senior       Full Time            Data Scientist   \n",
       "4       2023           Senior       Full Time            Data Scientist   \n",
       "\n",
       "   salary salary_currency  salary_in_usd employee_residence  remote_ratio  \\\n",
       "0   80000             EUR          85847                 ES           100   \n",
       "1   30000             USD          30000                 US           100   \n",
       "2   25500             USD          25500                 US           100   \n",
       "3  175000             USD         175000                 CA           100   \n",
       "4  120000             USD         120000                 CA           100   \n",
       "\n",
       "  company_location company_size  \n",
       "0               ES        Large  \n",
       "1               US        Small  \n",
       "2               US        Small  \n",
       "3               CA       Medium  \n",
       "4               CA       Medium  "
      ]
     },
<<<<<<< HEAD
     "execution_count": 19,
=======
     "execution_count": 50,
>>>>>>> upstream/main
     "metadata": {},
     "output_type": "execute_result"
    }
   ],
   "source": [
    "#Load the data\n",
    "\n",
    "df = pd.read_csv(\"https://raw.githubusercontent.com/data-bootcamp-v4/data/main/data_science_salaries.csv\")\n",
    "df.head()"
   ]
  },
  {
   "cell_type": "markdown",
   "metadata": {},
   "source": [
    "Curious about salaries of data scientists, we're checking if company size will have an impact on people's salaries.\n",
    "\n",
    "In order to procede with the test we must acknowledge that we have 3 differents groups"
   ]
  },
  {
   "cell_type": "code",
<<<<<<< HEAD
   "execution_count": 20,
=======
   "execution_count": 51,
>>>>>>> upstream/main
   "metadata": {},
   "outputs": [
    {
     "data": {
      "text/plain": [
       "array(['Large', 'Small', 'Medium'], dtype=object)"
      ]
     },
<<<<<<< HEAD
     "execution_count": 20,
=======
     "execution_count": 51,
>>>>>>> upstream/main
     "metadata": {},
     "output_type": "execute_result"
    }
   ],
   "source": [
    "df[\"company_size\"].unique()"
   ]
  },
  {
   "cell_type": "code",
<<<<<<< HEAD
   "execution_count": 21,
=======
   "execution_count": 52,
>>>>>>> upstream/main
   "metadata": {},
   "outputs": [],
   "source": [
    "df_small = df[(df[\"company_size\"]==\"Small\") & (df[\"job_title\"]==\"Data Scientist\")][\"salary_in_usd\"]\n",
    "df_medium = df[(df[\"company_size\"]==\"Medium\") & (df[\"job_title\"]==\"Data Scientist\")][\"salary_in_usd\"]\n",
    "df_large = df[(df[\"company_size\"]==\"Large\") & (df[\"job_title\"]==\"Data Scientist\")][\"salary_in_usd\"]"
   ]
  },
  {
   "cell_type": "code",
   "execution_count": 53,
   "metadata": {},
   "outputs": [
    {
     "data": {
      "text/plain": [
       "F_onewayResult(statistic=54.13023877571759, pvalue=7.803716022966444e-23)"
      ]
     },
<<<<<<< HEAD
     "execution_count": 22,
=======
     "execution_count": 53,
>>>>>>> upstream/main
     "metadata": {},
     "output_type": "execute_result"
    }
   ],
   "source": [
    "#Set the hypothesis\n",
    "\n",
    "#H0: mu df_small = mu df_medium = mu df_large\n",
    "#H1: mu df_small != mu df_medium != mu df_large\n",
    "\n",
    "#Lets choose significance level of 10%\n",
    "alpha = 0.10\n",
    "\n",
    "st.f_oneway(df_small, df_medium, df_large)\n",
    "#small p value so there is a difference"
   ]
  },
  {
   "cell_type": "markdown",
   "metadata": {},
   "source": [
    "With such a small p_value, we once again, can reject the null hypothesis, therefore the company size will indeed have an impact of data scientists salary"
   ]
  },
  {
   "cell_type": "code",
   "execution_count": null,
   "metadata": {},
   "outputs": [],
   "source": [
    "p = 0.05\n",
<<<<<<< HEAD
    "#Don ferroni correction\n",
    "#n_test = number of test\n",
    "p = 0.05/n_tests"
=======
    "\n",
    "# Bonferroni correction\n",
    "n_tests = 3\n",
    "p = 0.05 / n_tests"
>>>>>>> upstream/main
   ]
  }
 ],
 "metadata": {
  "kernelspec": {
   "display_name": "base",
   "language": "python",
   "name": "python3"
  },
  "language_info": {
   "codemirror_mode": {
    "name": "ipython",
    "version": 3
   },
   "file_extension": ".py",
   "mimetype": "text/x-python",
   "name": "python",
   "nbconvert_exporter": "python",
   "pygments_lexer": "ipython3",
   "version": "3.12.4"
  }
 },
 "nbformat": 4,
 "nbformat_minor": 2
}
