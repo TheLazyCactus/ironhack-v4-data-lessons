{
 "cells": [
  {
   "cell_type": "markdown",
   "metadata": {
    "toc": true
   },
   "source": [
    "<h1>Table of Contents<span class=\"tocSkip\"></span></h1>\n",
    "<div class=\"toc\"><ul class=\"toc-item\"><li><span><a href=\"#Functions\" data-toc-modified-id=\"Functions-1\"><span class=\"toc-item-num\">1&nbsp;&nbsp;</span>Functions</a></span></li><li><span><a href=\"#Built-in-Functions\" data-toc-modified-id=\"Built-in-Functions-2\"><span class=\"toc-item-num\">2&nbsp;&nbsp;</span>Built-in Functions</a></span></li><li><span><a href=\"#User-Defined-Functions\" data-toc-modified-id=\"User-Defined-Functions-3\"><span class=\"toc-item-num\">3&nbsp;&nbsp;</span>User-Defined Functions</a></span><ul class=\"toc-item\"><li><span><a href=\"#Function-definition\" data-toc-modified-id=\"Function-definition-3.1\"><span class=\"toc-item-num\">3.1&nbsp;&nbsp;</span>Function definition</a></span></li><li><span><a href=\"#Function-call\" data-toc-modified-id=\"Function-call-3.2\"><span class=\"toc-item-num\">3.2&nbsp;&nbsp;</span>Function call</a></span></li><li><span><a href=\"#Examples\" data-toc-modified-id=\"Examples-3.3\"><span class=\"toc-item-num\">3.3&nbsp;&nbsp;</span>Examples</a></span></li><li><span><a href=\"#Parameters\" data-toc-modified-id=\"Parameters-3.4\"><span class=\"toc-item-num\">3.4&nbsp;&nbsp;</span>Parameters</a></span><ul class=\"toc-item\"><li><span><a href=\"#Calling-a-function-with-the-key=-value-syntax\" data-toc-modified-id=\"Calling-a-function-with-the-key=-value-syntax-3.4.1\"><span class=\"toc-item-num\">3.4.1&nbsp;&nbsp;</span>Calling a function with the key= value syntax</a></span></li><li><span><a href=\"#Returning-many-values\" data-toc-modified-id=\"Returning-many-values-3.4.2\"><span class=\"toc-item-num\">3.4.2&nbsp;&nbsp;</span>Returning many values</a></span></li><li><span><a href=\"#Setting-a-Default-Parameter-Value\" data-toc-modified-id=\"Setting-a-Default-Parameter-Value-3.4.3\"><span class=\"toc-item-num\">3.4.3&nbsp;&nbsp;</span>Setting a Default Parameter Value</a></span></li></ul></li><li><span><a href=\"#Scope\" data-toc-modified-id=\"Scope-3.5\"><span class=\"toc-item-num\">3.5&nbsp;&nbsp;</span>Scope</a></span><ul class=\"toc-item\"><li><span><a href=\"#Local-Scope\" data-toc-modified-id=\"Local-Scope-3.5.1\"><span class=\"toc-item-num\">3.5.1&nbsp;&nbsp;</span>Local Scope</a></span></li><li><span><a href=\"#Global-Scope\" data-toc-modified-id=\"Global-Scope-3.5.2\"><span class=\"toc-item-num\">3.5.2&nbsp;&nbsp;</span>Global Scope</a></span></li></ul></li><li><span><a href=\"#Concatenating-Methods\" data-toc-modified-id=\"Concatenating-Methods-3.6\"><span class=\"toc-item-num\">3.6&nbsp;&nbsp;</span>Concatenating Methods</a></span></li><li><span><a href=\"#Functions-with-no-params-and-no-return\" data-toc-modified-id=\"Functions-with-no-params-and-no-return-3.7\"><span class=\"toc-item-num\">3.7&nbsp;&nbsp;</span>Functions with no params and no return</a></span></li><li><span><a href=\"#Print-vs-Return\" data-toc-modified-id=\"Print-vs-Return-3.8\"><span class=\"toc-item-num\">3.8&nbsp;&nbsp;</span>Print vs Return</a></span></li><li><span><a href=\"#💡-Check-for-understanding\" data-toc-modified-id=\"💡-Check-for-understanding-3.9\"><span class=\"toc-item-num\">3.9&nbsp;&nbsp;</span>💡 Check for understanding</a></span></li></ul></li><li><span><a href=\"#Summary\" data-toc-modified-id=\"Summary-4\"><span class=\"toc-item-num\">4&nbsp;&nbsp;</span>Summary</a></span></li><li><span><a href=\"#Extra:-Args-and-Kwargs\" data-toc-modified-id=\"Extra:-Args-and-Kwargs-5\"><span class=\"toc-item-num\">5&nbsp;&nbsp;</span>Extra: Args and Kwargs</a></span></li></ul></div>"
   ]
  },
  {
   "cell_type": "code",
   "execution_count": 1,
   "metadata": {},
   "outputs": [],
   "source": [
    "def my_pretty_function(some_argument_here):\n",
    "    # you might do some operations here\n",
    "    pass"
   ]
  },
  {
   "cell_type": "code",
   "execution_count": 2,
   "metadata": {},
   "outputs": [
    {
     "data": {
      "text/plain": [
       "1"
      ]
     },
     "execution_count": 2,
     "metadata": {},
     "output_type": "execute_result"
    }
   ],
   "source": [
    "[1, 2, 3, 4]\n",
    "\n",
    "min([1, 2, 3, 4])"
   ]
  },
  {
   "cell_type": "markdown",
   "metadata": {},
   "source": [
    "# Functions"
   ]
  },
  {
   "cell_type": "markdown",
   "metadata": {},
   "source": [
    "![elgif](https://media.giphy.com/media/CuMiNoTRz2bYc/giphy.gif)"
   ]
  },
  {
   "cell_type": "markdown",
   "metadata": {},
   "source": [
    "- Functions are reusable blocks of code that perform specific tasks.\n",
    "- They allow you to break down complex problems into smaller, manageable parts.\n",
    "- Functions take inputs (arguments) and produce outputs (return values)."
   ]
  },
  {
   "cell_type": "markdown",
   "metadata": {},
   "source": [
    "In Python, there are several types of functions, each serving different purposes and use cases. The main types of functions in Python are:\n",
    "\n",
    "1. Built-in Functions:\n",
    "   - These are functions that are pre-defined in Python and are available for use without the need for any import or additional setup.\n",
    "   - Examples include `print()`, `len()`, `max()`, `min()`, `sum()`, `range()`, etc.\n",
    "\n",
    "2. User-Defined Functions:\n",
    "   - These are functions that you define yourself using the `def` keyword, allowing you to create custom functions to perform specific tasks.\n",
    "   - User-defined functions are essential for breaking down complex problems into smaller, more manageable pieces of code.\n",
    "\n",
    "3. Anonymous Functions (Lambda Functions):\n",
    "   - These are small, single-line functions created using the `lambda` keyword.\n",
    "   - Lambda functions are used when a quick and short function is needed for a specific task without the formal `def` function definition.\n",
    "   - They are often used as arguments in higher-order functions like `map()`, `filter()`, and `sorted()`.\n",
    "\n",
    "4. Higher-Order Functions:\n",
    "   - These are functions that can take other functions as arguments or return functions as results.\n",
    "   - Examples include `map()`, `filter()`, `sorted()`, `reduce()`, etc.\n",
    "   - Higher-order functions provide a powerful way to work with functions and collections in Python.\n",
    "\n",
    "5. Recursive Functions:\n",
    "   - These are functions that call themselves to solve a problem by breaking it down into smaller instances of the same problem.\n",
    "   - Recursive functions are useful for solving problems that exhibit a recursive structure.\n",
    "\n",
    "6. Generator Functions:\n",
    "   - These are functions that use the `yield` keyword instead of `return` to return a sequence of values (an iterable).\n",
    "   - Generator functions can be used to create iterators and produce values one at a time, conserving memory and enabling lazy evaluation.\n",
    "\n",
    "In this lesson, we'll look into:\n",
    "- 1. Built-in Functions\n",
    "- 2. User-Defined Functions\n",
    "\n",
    "In another lesson (`Lambda, Map, Reduce and Filter`), we'll look into:\n",
    "- 3. Anonymous Functions (Lambda Functions)\n",
    "- 4. Higher-Order Functions\n",
    "\n",
    "In an extra lesson, we'll look into:\n",
    "- 6. Generator Functions"
   ]
  },
  {
   "cell_type": "code",
   "execution_count": 91,
   "metadata": {},
   "outputs": [
    {
     "data": {
      "text/plain": [
       "4"
      ]
     },
     "execution_count": 91,
     "metadata": {},
     "output_type": "execute_result"
    }
   ],
   "source": [
    "def square(x):\n",
    "    return x ** 2\n",
    "\n",
    "square(2)"
   ]
  },
  {
   "cell_type": "code",
   "execution_count": 92,
   "metadata": {},
   "outputs": [
    {
     "data": {
      "text/plain": [
       "4"
      ]
     },
     "execution_count": 92,
     "metadata": {},
     "output_type": "execute_result"
    }
   ],
   "source": [
    "square = lambda x: x ** 2\n",
    "square(2)"
   ]
  },
  {
   "cell_type": "code",
   "execution_count": 94,
   "metadata": {},
   "outputs": [],
   "source": [
    "def call_to_website(counter=5):\n",
    "    try:\n",
    "        # Code to do a request\n",
    "        pass\n",
    "        print(\"This worked\")\n",
    "    except:\n",
    "        print(\"It didn't work\")\n",
    "        counter -= 1\n",
    "        call_to_website(counter=counter)"
   ]
  },
  {
   "cell_type": "code",
   "execution_count": 95,
   "metadata": {},
   "outputs": [
    {
     "name": "stdout",
     "output_type": "stream",
     "text": [
      "This worked\n"
     ]
    }
   ],
   "source": [
    "call_to_website(3)"
   ]
  },
  {
   "cell_type": "code",
   "execution_count": 108,
   "metadata": {},
   "outputs": [],
   "source": [
    "import time\n",
    "\n",
    "def call_to_website(counter=5):\n",
    "    try:\n",
    "        # Code to do a request\n",
    "        raise ValueError(\"I don't want this to work\")\n",
    "        print(\"This worked\")\n",
    "    except:\n",
    "        print(\"It didn't work\")\n",
    "        time.sleep(1)\n",
    "        counter -= 1\n",
    "        if counter == 0:\n",
    "            # break\n",
    "            print(\"I've exhausted all my searches\")\n",
    "            # return  \"I've exhausted all my searches\" # This is necessary to avoid recursive function hell\n",
    "        call_to_website(counter=counter)"
   ]
  },
  {
   "cell_type": "code",
   "execution_count": 107,
   "metadata": {},
   "outputs": [
    {
     "name": "stdout",
     "output_type": "stream",
     "text": [
      "It didn't work\n",
      "It didn't work\n",
      "It didn't work\n",
      "I've exhausted all my searches\n"
     ]
    }
   ],
   "source": [
    "a = call_to_website(3)"
   ]
  },
  {
   "cell_type": "code",
   "execution_count": 109,
   "metadata": {},
   "outputs": [
    {
     "name": "stdout",
     "output_type": "stream",
     "text": [
      "It didn't work\n",
      "It didn't work\n",
      "It didn't work\n",
      "I've exhausted all my searches\n",
      "It didn't work\n",
      "It didn't work\n",
      "It didn't work\n",
      "It didn't work\n",
      "It didn't work\n",
      "It didn't work\n"
     ]
    },
    {
     "ename": "KeyboardInterrupt",
     "evalue": "",
     "output_type": "error",
     "traceback": [
      "\u001b[1;31m---------------------------------------------------------------------------\u001b[0m",
      "\u001b[1;31mValueError\u001b[0m                                Traceback (most recent call last)",
      "Cell \u001b[1;32mIn[108], line 6\u001b[0m, in \u001b[0;36mcall_to_website\u001b[1;34m(counter)\u001b[0m\n\u001b[0;32m      4\u001b[0m \u001b[38;5;28;01mtry\u001b[39;00m:\n\u001b[0;32m      5\u001b[0m     \u001b[38;5;66;03m# Code to do a request\u001b[39;00m\n\u001b[1;32m----> 6\u001b[0m     \u001b[38;5;28;01mraise\u001b[39;00m \u001b[38;5;167;01mValueError\u001b[39;00m(\u001b[38;5;124m\"\u001b[39m\u001b[38;5;124mI don\u001b[39m\u001b[38;5;124m'\u001b[39m\u001b[38;5;124mt want this to work\u001b[39m\u001b[38;5;124m\"\u001b[39m)\n\u001b[0;32m      7\u001b[0m     \u001b[38;5;28mprint\u001b[39m(\u001b[38;5;124m\"\u001b[39m\u001b[38;5;124mThis worked\u001b[39m\u001b[38;5;124m\"\u001b[39m)\n",
      "\u001b[1;31mValueError\u001b[0m: I don't want this to work",
      "\nDuring handling of the above exception, another exception occurred:\n",
      "\u001b[1;31mValueError\u001b[0m                                Traceback (most recent call last)",
      "Cell \u001b[1;32mIn[108], line 6\u001b[0m, in \u001b[0;36mcall_to_website\u001b[1;34m(counter)\u001b[0m\n\u001b[0;32m      4\u001b[0m \u001b[38;5;28;01mtry\u001b[39;00m:\n\u001b[0;32m      5\u001b[0m     \u001b[38;5;66;03m# Code to do a request\u001b[39;00m\n\u001b[1;32m----> 6\u001b[0m     \u001b[38;5;28;01mraise\u001b[39;00m \u001b[38;5;167;01mValueError\u001b[39;00m(\u001b[38;5;124m\"\u001b[39m\u001b[38;5;124mI don\u001b[39m\u001b[38;5;124m'\u001b[39m\u001b[38;5;124mt want this to work\u001b[39m\u001b[38;5;124m\"\u001b[39m)\n\u001b[0;32m      7\u001b[0m     \u001b[38;5;28mprint\u001b[39m(\u001b[38;5;124m\"\u001b[39m\u001b[38;5;124mThis worked\u001b[39m\u001b[38;5;124m\"\u001b[39m)\n",
      "\u001b[1;31mValueError\u001b[0m: I don't want this to work",
      "\nDuring handling of the above exception, another exception occurred:\n",
      "\u001b[1;31mValueError\u001b[0m                                Traceback (most recent call last)",
      "Cell \u001b[1;32mIn[108], line 6\u001b[0m, in \u001b[0;36mcall_to_website\u001b[1;34m(counter)\u001b[0m\n\u001b[0;32m      4\u001b[0m \u001b[38;5;28;01mtry\u001b[39;00m:\n\u001b[0;32m      5\u001b[0m     \u001b[38;5;66;03m# Code to do a request\u001b[39;00m\n\u001b[1;32m----> 6\u001b[0m     \u001b[38;5;28;01mraise\u001b[39;00m \u001b[38;5;167;01mValueError\u001b[39;00m(\u001b[38;5;124m\"\u001b[39m\u001b[38;5;124mI don\u001b[39m\u001b[38;5;124m'\u001b[39m\u001b[38;5;124mt want this to work\u001b[39m\u001b[38;5;124m\"\u001b[39m)\n\u001b[0;32m      7\u001b[0m     \u001b[38;5;28mprint\u001b[39m(\u001b[38;5;124m\"\u001b[39m\u001b[38;5;124mThis worked\u001b[39m\u001b[38;5;124m\"\u001b[39m)\n",
      "\u001b[1;31mValueError\u001b[0m: I don't want this to work",
      "\nDuring handling of the above exception, another exception occurred:\n",
      "\u001b[1;31mValueError\u001b[0m                                Traceback (most recent call last)",
      "Cell \u001b[1;32mIn[108], line 6\u001b[0m, in \u001b[0;36mcall_to_website\u001b[1;34m(counter)\u001b[0m\n\u001b[0;32m      4\u001b[0m \u001b[38;5;28;01mtry\u001b[39;00m:\n\u001b[0;32m      5\u001b[0m     \u001b[38;5;66;03m# Code to do a request\u001b[39;00m\n\u001b[1;32m----> 6\u001b[0m     \u001b[38;5;28;01mraise\u001b[39;00m \u001b[38;5;167;01mValueError\u001b[39;00m(\u001b[38;5;124m\"\u001b[39m\u001b[38;5;124mI don\u001b[39m\u001b[38;5;124m'\u001b[39m\u001b[38;5;124mt want this to work\u001b[39m\u001b[38;5;124m\"\u001b[39m)\n\u001b[0;32m      7\u001b[0m     \u001b[38;5;28mprint\u001b[39m(\u001b[38;5;124m\"\u001b[39m\u001b[38;5;124mThis worked\u001b[39m\u001b[38;5;124m\"\u001b[39m)\n",
      "\u001b[1;31mValueError\u001b[0m: I don't want this to work",
      "\nDuring handling of the above exception, another exception occurred:\n",
      "\u001b[1;31mValueError\u001b[0m                                Traceback (most recent call last)",
      "Cell \u001b[1;32mIn[108], line 6\u001b[0m, in \u001b[0;36mcall_to_website\u001b[1;34m(counter)\u001b[0m\n\u001b[0;32m      4\u001b[0m \u001b[38;5;28;01mtry\u001b[39;00m:\n\u001b[0;32m      5\u001b[0m     \u001b[38;5;66;03m# Code to do a request\u001b[39;00m\n\u001b[1;32m----> 6\u001b[0m     \u001b[38;5;28;01mraise\u001b[39;00m \u001b[38;5;167;01mValueError\u001b[39;00m(\u001b[38;5;124m\"\u001b[39m\u001b[38;5;124mI don\u001b[39m\u001b[38;5;124m'\u001b[39m\u001b[38;5;124mt want this to work\u001b[39m\u001b[38;5;124m\"\u001b[39m)\n\u001b[0;32m      7\u001b[0m     \u001b[38;5;28mprint\u001b[39m(\u001b[38;5;124m\"\u001b[39m\u001b[38;5;124mThis worked\u001b[39m\u001b[38;5;124m\"\u001b[39m)\n",
      "\u001b[1;31mValueError\u001b[0m: I don't want this to work",
      "\nDuring handling of the above exception, another exception occurred:\n",
      "\u001b[1;31mValueError\u001b[0m                                Traceback (most recent call last)",
      "Cell \u001b[1;32mIn[108], line 6\u001b[0m, in \u001b[0;36mcall_to_website\u001b[1;34m(counter)\u001b[0m\n\u001b[0;32m      4\u001b[0m \u001b[38;5;28;01mtry\u001b[39;00m:\n\u001b[0;32m      5\u001b[0m     \u001b[38;5;66;03m# Code to do a request\u001b[39;00m\n\u001b[1;32m----> 6\u001b[0m     \u001b[38;5;28;01mraise\u001b[39;00m \u001b[38;5;167;01mValueError\u001b[39;00m(\u001b[38;5;124m\"\u001b[39m\u001b[38;5;124mI don\u001b[39m\u001b[38;5;124m'\u001b[39m\u001b[38;5;124mt want this to work\u001b[39m\u001b[38;5;124m\"\u001b[39m)\n\u001b[0;32m      7\u001b[0m     \u001b[38;5;28mprint\u001b[39m(\u001b[38;5;124m\"\u001b[39m\u001b[38;5;124mThis worked\u001b[39m\u001b[38;5;124m\"\u001b[39m)\n",
      "\u001b[1;31mValueError\u001b[0m: I don't want this to work",
      "\nDuring handling of the above exception, another exception occurred:\n",
      "\u001b[1;31mValueError\u001b[0m                                Traceback (most recent call last)",
      "Cell \u001b[1;32mIn[108], line 6\u001b[0m, in \u001b[0;36mcall_to_website\u001b[1;34m(counter)\u001b[0m\n\u001b[0;32m      4\u001b[0m \u001b[38;5;28;01mtry\u001b[39;00m:\n\u001b[0;32m      5\u001b[0m     \u001b[38;5;66;03m# Code to do a request\u001b[39;00m\n\u001b[1;32m----> 6\u001b[0m     \u001b[38;5;28;01mraise\u001b[39;00m \u001b[38;5;167;01mValueError\u001b[39;00m(\u001b[38;5;124m\"\u001b[39m\u001b[38;5;124mI don\u001b[39m\u001b[38;5;124m'\u001b[39m\u001b[38;5;124mt want this to work\u001b[39m\u001b[38;5;124m\"\u001b[39m)\n\u001b[0;32m      7\u001b[0m     \u001b[38;5;28mprint\u001b[39m(\u001b[38;5;124m\"\u001b[39m\u001b[38;5;124mThis worked\u001b[39m\u001b[38;5;124m\"\u001b[39m)\n",
      "\u001b[1;31mValueError\u001b[0m: I don't want this to work",
      "\nDuring handling of the above exception, another exception occurred:\n",
      "\u001b[1;31mValueError\u001b[0m                                Traceback (most recent call last)",
      "Cell \u001b[1;32mIn[108], line 6\u001b[0m, in \u001b[0;36mcall_to_website\u001b[1;34m(counter)\u001b[0m\n\u001b[0;32m      4\u001b[0m \u001b[38;5;28;01mtry\u001b[39;00m:\n\u001b[0;32m      5\u001b[0m     \u001b[38;5;66;03m# Code to do a request\u001b[39;00m\n\u001b[1;32m----> 6\u001b[0m     \u001b[38;5;28;01mraise\u001b[39;00m \u001b[38;5;167;01mValueError\u001b[39;00m(\u001b[38;5;124m\"\u001b[39m\u001b[38;5;124mI don\u001b[39m\u001b[38;5;124m'\u001b[39m\u001b[38;5;124mt want this to work\u001b[39m\u001b[38;5;124m\"\u001b[39m)\n\u001b[0;32m      7\u001b[0m     \u001b[38;5;28mprint\u001b[39m(\u001b[38;5;124m\"\u001b[39m\u001b[38;5;124mThis worked\u001b[39m\u001b[38;5;124m\"\u001b[39m)\n",
      "\u001b[1;31mValueError\u001b[0m: I don't want this to work",
      "\nDuring handling of the above exception, another exception occurred:\n",
      "\u001b[1;31mValueError\u001b[0m                                Traceback (most recent call last)",
      "Cell \u001b[1;32mIn[108], line 6\u001b[0m, in \u001b[0;36mcall_to_website\u001b[1;34m(counter)\u001b[0m\n\u001b[0;32m      4\u001b[0m \u001b[38;5;28;01mtry\u001b[39;00m:\n\u001b[0;32m      5\u001b[0m     \u001b[38;5;66;03m# Code to do a request\u001b[39;00m\n\u001b[1;32m----> 6\u001b[0m     \u001b[38;5;28;01mraise\u001b[39;00m \u001b[38;5;167;01mValueError\u001b[39;00m(\u001b[38;5;124m\"\u001b[39m\u001b[38;5;124mI don\u001b[39m\u001b[38;5;124m'\u001b[39m\u001b[38;5;124mt want this to work\u001b[39m\u001b[38;5;124m\"\u001b[39m)\n\u001b[0;32m      7\u001b[0m     \u001b[38;5;28mprint\u001b[39m(\u001b[38;5;124m\"\u001b[39m\u001b[38;5;124mThis worked\u001b[39m\u001b[38;5;124m\"\u001b[39m)\n",
      "\u001b[1;31mValueError\u001b[0m: I don't want this to work",
      "\nDuring handling of the above exception, another exception occurred:\n",
      "\u001b[1;31mKeyboardInterrupt\u001b[0m                         Traceback (most recent call last)",
      "Cell \u001b[1;32mIn[109], line 1\u001b[0m\n\u001b[1;32m----> 1\u001b[0m a \u001b[38;5;241m=\u001b[39m call_to_website(\u001b[38;5;241m3\u001b[39m)\n",
      "Cell \u001b[1;32mIn[108], line 16\u001b[0m, in \u001b[0;36mcall_to_website\u001b[1;34m(counter)\u001b[0m\n\u001b[0;32m     14\u001b[0m     \u001b[38;5;28mprint\u001b[39m(\u001b[38;5;124m\"\u001b[39m\u001b[38;5;124mI\u001b[39m\u001b[38;5;124m'\u001b[39m\u001b[38;5;124mve exhausted all my searches\u001b[39m\u001b[38;5;124m\"\u001b[39m)\n\u001b[0;32m     15\u001b[0m     \u001b[38;5;66;03m# return  \"I've exhausted all my searches\" # This is necessary to avoid recursive function hell\u001b[39;00m\n\u001b[1;32m---> 16\u001b[0m call_to_website(counter\u001b[38;5;241m=\u001b[39mcounter)\n",
      "Cell \u001b[1;32mIn[108], line 16\u001b[0m, in \u001b[0;36mcall_to_website\u001b[1;34m(counter)\u001b[0m\n\u001b[0;32m     14\u001b[0m     \u001b[38;5;28mprint\u001b[39m(\u001b[38;5;124m\"\u001b[39m\u001b[38;5;124mI\u001b[39m\u001b[38;5;124m'\u001b[39m\u001b[38;5;124mve exhausted all my searches\u001b[39m\u001b[38;5;124m\"\u001b[39m)\n\u001b[0;32m     15\u001b[0m     \u001b[38;5;66;03m# return  \"I've exhausted all my searches\" # This is necessary to avoid recursive function hell\u001b[39;00m\n\u001b[1;32m---> 16\u001b[0m call_to_website(counter\u001b[38;5;241m=\u001b[39mcounter)\n",
      "    \u001b[1;31m[... skipping similar frames: call_to_website at line 16 (5 times)]\u001b[0m\n",
      "Cell \u001b[1;32mIn[108], line 16\u001b[0m, in \u001b[0;36mcall_to_website\u001b[1;34m(counter)\u001b[0m\n\u001b[0;32m     14\u001b[0m     \u001b[38;5;28mprint\u001b[39m(\u001b[38;5;124m\"\u001b[39m\u001b[38;5;124mI\u001b[39m\u001b[38;5;124m'\u001b[39m\u001b[38;5;124mve exhausted all my searches\u001b[39m\u001b[38;5;124m\"\u001b[39m)\n\u001b[0;32m     15\u001b[0m     \u001b[38;5;66;03m# return  \"I've exhausted all my searches\" # This is necessary to avoid recursive function hell\u001b[39;00m\n\u001b[1;32m---> 16\u001b[0m call_to_website(counter\u001b[38;5;241m=\u001b[39mcounter)\n",
      "Cell \u001b[1;32mIn[108], line 10\u001b[0m, in \u001b[0;36mcall_to_website\u001b[1;34m(counter)\u001b[0m\n\u001b[0;32m      8\u001b[0m \u001b[38;5;28;01mexcept\u001b[39;00m:\n\u001b[0;32m      9\u001b[0m     \u001b[38;5;28mprint\u001b[39m(\u001b[38;5;124m\"\u001b[39m\u001b[38;5;124mIt didn\u001b[39m\u001b[38;5;124m'\u001b[39m\u001b[38;5;124mt work\u001b[39m\u001b[38;5;124m\"\u001b[39m)\n\u001b[1;32m---> 10\u001b[0m     time\u001b[38;5;241m.\u001b[39msleep(\u001b[38;5;241m1\u001b[39m)\n\u001b[0;32m     11\u001b[0m     counter \u001b[38;5;241m-\u001b[39m\u001b[38;5;241m=\u001b[39m \u001b[38;5;241m1\u001b[39m\n\u001b[0;32m     12\u001b[0m     \u001b[38;5;28;01mif\u001b[39;00m counter \u001b[38;5;241m==\u001b[39m \u001b[38;5;241m0\u001b[39m:\n\u001b[0;32m     13\u001b[0m         \u001b[38;5;66;03m# break\u001b[39;00m\n",
      "\u001b[1;31mKeyboardInterrupt\u001b[0m: "
     ]
    }
   ],
   "source": [
    "a = call_to_website(3)"
   ]
  },
  {
   "cell_type": "code",
   "execution_count": 101,
   "metadata": {},
   "outputs": [],
   "source": [
    "a"
   ]
  },
  {
   "cell_type": "code",
   "execution_count": 102,
   "metadata": {},
   "outputs": [
    {
     "name": "stdout",
     "output_type": "stream",
     "text": [
      "None\n"
     ]
    }
   ],
   "source": [
    "print(a)"
   ]
  },
  {
   "cell_type": "markdown",
   "metadata": {},
   "source": [
    "# Built-in Functions\n",
    "\n",
    "Python provides a set of built-in functions (pre-written code) that can be used directly. \n",
    "Some commonly used built-in functions are print(), len(), input(), type(), range(), max(), min(), and sum().\n",
    "These functions are already available in Python and can be used in any program.\n",
    "\n",
    "Using Built-in Functions:\n",
    "\n",
    "To use a built-in function, you simply write the function name followed by parentheses, optionally passing any required arguments.\n",
    "- Example 1: print(\"Hello, world!\") - This prints the specified text to the console.\n",
    "- Example 2: length = len(\"Hello\") - This returns the length of the given string and assigns it to the variable length."
   ]
  },
  {
   "cell_type": "code",
   "execution_count": null,
   "metadata": {},
   "outputs": [],
   "source": []
  },
  {
   "cell_type": "markdown",
   "metadata": {},
   "source": [
    "# User-Defined Functions"
   ]
  },
  {
   "cell_type": "markdown",
   "metadata": {},
   "source": [
    "## Function definition"
   ]
  },
  {
   "cell_type": "markdown",
   "metadata": {},
   "source": [
    "A function in Python has the following basic structure:\n",
    "\n",
    "```python\n",
    "def function_name(parameters):\n",
    "    # Function body\n",
    "    # Code statements\n",
    "    # Return statement (optional)\n",
    "\n",
    "```"
   ]
  },
  {
   "cell_type": "markdown",
   "metadata": {},
   "source": [
    "- `def` is used to define a function.\n",
    "- `function_name` is the name given to the function.\n",
    "- `parameters` (optional) are inputs that the function can accept.\n",
    "- The code block within a function starts with a colon (:) and is mandatory.\n",
    "- The function body contains the code statements that define its functionality.\n",
    "- A `return` statement (optional) specifies the value the function should output."
   ]
  },
  {
   "cell_type": "markdown",
   "metadata": {},
   "source": [
    "![](https://github.com/data-bootcamp-v4/lessons/blob/main/img/functions.png?raw=true)"
   ]
  },
  {
   "cell_type": "markdown",
   "metadata": {},
   "source": [
    "## Function call"
   ]
  },
  {
   "cell_type": "markdown",
   "metadata": {},
   "source": [
    "To use a function, we need to call it by its name and pass the required arguments (if any)."
   ]
  },
  {
   "cell_type": "markdown",
   "metadata": {},
   "source": [
    "```python\n",
    "result = function_name(arguments)\n",
    "```"
   ]
  },
  {
   "cell_type": "markdown",
   "metadata": {},
   "source": [
    "- `result` is a variable that stores the output value of the function (if it has a return statement).\n",
    "- `arguments` (optional) are values passed to the function's parameters (if any)."
   ]
  },
  {
   "cell_type": "markdown",
   "metadata": {},
   "source": [
    "## Examples"
   ]
  },
  {
   "cell_type": "markdown",
   "metadata": {},
   "source": [
    "Let's create a simple function that says hello. It doesn't take any parameters (between the parenthesis ()) and it doesn't return anything. It just prints a string."
   ]
  },
  {
   "cell_type": "code",
   "execution_count": null,
   "metadata": {},
   "outputs": [],
   "source": [
    "def say_hello():\n",
    "    print(\"Hello, world!\") # just added a tool to our toolbox, no output"
   ]
  },
  {
   "cell_type": "code",
   "execution_count": null,
   "metadata": {},
   "outputs": [
    {
     "name": "stdout",
     "output_type": "stream",
     "text": [
      "Hello, world!\n"
     ]
    }
   ],
   "source": [
    "say_hello() # calling the function"
   ]
  },
  {
   "cell_type": "code",
   "execution_count": 5,
   "metadata": {},
   "outputs": [
    {
     "name": "stdout",
     "output_type": "stream",
     "text": [
      "Hello, world!\n",
      "Hello, world!\n",
      "Hello, world!\n",
      "Hello, world!\n",
      "Hello, world!\n",
      "Hello, world!\n",
      "Hello, world!\n",
      "Hello, world!\n",
      "Hello, world!\n",
      "Hello, world!\n"
     ]
    }
   ],
   "source": [
    "say_hello()\n",
    "say_hello()\n",
    "say_hello()\n",
    "say_hello()\n",
    "say_hello()\n",
    "say_hello()\n",
    "say_hello()\n",
    "say_hello()\n",
    "say_hello()\n",
    "say_hello()"
   ]
  },
  {
   "cell_type": "markdown",
   "metadata": {},
   "source": [
    "Let's create a simple function that calculates the square of a number:"
   ]
  },
  {
   "cell_type": "markdown",
   "metadata": {},
   "source": [
    "- We define a function called square that takes a single parameter, number.\n",
    "- The function calculates the square of the input number and stores the result in the result variable.\n",
    "- Finally, the function returns the result using the return statement."
   ]
  },
  {
   "cell_type": "code",
   "execution_count": null,
   "metadata": {},
   "outputs": [],
   "source": [
    "def some_random_op(x: int) -> int: # type hints, not necessary/compulsory, but they are good practice when you have more complex codebases\n",
    "    \"\"\"Add 2 and find out whether number is even or odd.\n",
    "    \"\"\"\n",
    "    x += 2\n",
    "    x %= 2\n",
    "    return x"
   ]
  },
  {
   "cell_type": "markdown",
   "metadata": {},
   "source": [
    "To use the square function, we can call it and pass an argument:"
   ]
  },
  {
   "cell_type": "code",
   "execution_count": 14,
   "metadata": {},
   "outputs": [
    {
     "name": "stdout",
     "output_type": "stream",
     "text": [
      "1\n",
      "0\n",
      "1\n"
     ]
    }
   ],
   "source": [
    "print(some_random_op(3))\n",
    "print(some_random_op(4))\n",
    "print(some_random_op(5))"
   ]
  },
  {
   "cell_type": "code",
   "execution_count": 7,
   "metadata": {},
   "outputs": [
    {
     "data": {
      "text/plain": [
       "9"
      ]
     },
     "execution_count": 7,
     "metadata": {},
     "output_type": "execute_result"
    }
   ],
   "source": [
    "square(3)"
   ]
  },
  {
   "cell_type": "code",
   "execution_count": 9,
   "metadata": {},
   "outputs": [
    {
     "data": {
      "text/plain": [
       "9"
      ]
     },
     "execution_count": 9,
     "metadata": {},
     "output_type": "execute_result"
    }
   ],
   "source": [
    "3 ** 2"
   ]
  },
  {
   "cell_type": "code",
   "execution_count": 8,
   "metadata": {},
   "outputs": [
    {
     "data": {
      "text/plain": [
       "16"
      ]
     },
     "execution_count": 8,
     "metadata": {},
     "output_type": "execute_result"
    }
   ],
   "source": [
    "square(4)"
   ]
  },
  {
   "cell_type": "markdown",
   "metadata": {},
   "source": [
    "- We assign the value 5 to the variable x.\n",
    "- We call the square function, passing x as an argument.\n",
    "- The function calculates the square of x (which is 25) and returns the result."
   ]
  },
  {
   "cell_type": "markdown",
   "metadata": {},
   "source": [
    "Let's look at another example. Let's define a function that adds two numbers."
   ]
  },
  {
   "cell_type": "code",
   "execution_count": null,
   "metadata": {},
   "outputs": [],
   "source": []
  },
  {
   "cell_type": "markdown",
   "metadata": {},
   "source": [
    "This function takes two numbers as input (num1 and num2), adds them together, and returns the sum. You can call this function with any two numbers and it will return their sum."
   ]
  },
  {
   "cell_type": "code",
   "execution_count": null,
   "metadata": {},
   "outputs": [],
   "source": []
  },
  {
   "cell_type": "markdown",
   "metadata": {},
   "source": [
    "## Parameters\n",
    "\n",
    "**Creating a function**\n",
    "- Default Parameter Value: we can define a default value for an argument.\n",
    "\n",
    "**Calling a function**\n",
    "- By default, a function must be called with the correct number of arguments. Meaning that if your function expects 2 arguments, you have to call the function with 2 arguments, not more, and not less.\n",
    "- You can pass arguments by just passing values. In this case, the order of the parameters matter.\n",
    "Instead of just passing values, you can also send arguments with the key = value syntax. This way the order of the arguments does not matter.\n",
    "- Default Parameter Value: If we call the function without a defined argument, it uses the default value. We can only do this if there is a default value declared when creating the function.\n",
    "\n",
    "```python\n",
    "def function_name(arg1, arg2=3):\n",
    "    \"\"\"\n",
    "    docstring\n",
    "    \"\"\"\n",
    "    ...\n",
    "    ...\n",
    "    return value1, value2\n",
    "```\n"
   ]
  },
  {
   "cell_type": "markdown",
   "metadata": {},
   "source": [
    "### Calling a function with the key= value syntax"
   ]
  },
  {
   "cell_type": "code",
   "execution_count": 16,
   "metadata": {},
   "outputs": [],
   "source": [
    "def create_student_dict(name, email=\"NA\"):\n",
    "    return {\n",
    "        \"Name\": name,\n",
    "        \"Email\": email\n",
    "    }"
   ]
  },
  {
   "cell_type": "code",
   "execution_count": 17,
   "metadata": {},
   "outputs": [
    {
     "data": {
      "text/plain": [
       "{'Name': 'MV', 'Email': 'NA'}"
      ]
     },
     "execution_count": 17,
     "metadata": {},
     "output_type": "execute_result"
    }
   ],
   "source": [
    "create_student_dict(\"MV\")"
   ]
  },
  {
   "cell_type": "code",
   "execution_count": 18,
   "metadata": {},
   "outputs": [
    {
     "data": {
      "text/plain": [
       "{'Name': 'MV', 'Email': 'mv@imawesome.org'}"
      ]
     },
     "execution_count": 18,
     "metadata": {},
     "output_type": "execute_result"
    }
   ],
   "source": [
    "create_student_dict(\"MV\", email=\"mv@imawesome.org\")"
   ]
  },
  {
   "cell_type": "code",
   "execution_count": 19,
   "metadata": {},
   "outputs": [
    {
     "data": {
      "text/plain": [
       "{'Name': 'MV', 'Email': 'mv@imawesome.org'}"
      ]
     },
     "execution_count": 19,
     "metadata": {},
     "output_type": "execute_result"
    }
   ],
   "source": [
    "create_student_dict(name=\"MV\", email=\"mv@imawesome.org\")"
   ]
  },
  {
   "cell_type": "code",
   "execution_count": null,
   "metadata": {},
   "outputs": [
    {
     "data": {
      "text/plain": [
       "{'Name': 'mv@imawesome.org', 'Email': 'MV'}"
      ]
     },
     "execution_count": 20,
     "metadata": {},
     "output_type": "execute_result"
    }
   ],
   "source": [
    "create_student_dict(\"mv@imawesome.org\", \"MV\") # order of positional arguments matters"
   ]
  },
  {
   "cell_type": "code",
   "execution_count": null,
   "metadata": {},
   "outputs": [
    {
     "ename": "TypeError",
     "evalue": "create_student_dict() missing 1 required positional argument: 'name'",
     "output_type": "error",
     "traceback": [
      "\u001b[1;31m---------------------------------------------------------------------------\u001b[0m",
      "\u001b[1;31mTypeError\u001b[0m                                 Traceback (most recent call last)",
      "Cell \u001b[1;32mIn[21], line 1\u001b[0m\n\u001b[1;32m----> 1\u001b[0m create_student_dict()\n",
      "\u001b[1;31mTypeError\u001b[0m: create_student_dict() missing 1 required positional argument: 'name'"
     ]
    }
   ],
   "source": [
    "create_student_dict() # the name argument MUST be added"
   ]
  },
  {
   "cell_type": "code",
   "execution_count": null,
   "metadata": {},
   "outputs": [
    {
     "ename": "SyntaxError",
     "evalue": "positional argument follows keyword argument (2725733103.py, line 1)",
     "output_type": "error",
     "traceback": [
      "\u001b[1;36m  Cell \u001b[1;32mIn[22], line 1\u001b[1;36m\u001b[0m\n\u001b[1;33m    create_student_dict(email=\"mv@imawesome.org\", \"MV\")\u001b[0m\n\u001b[1;37m                                                      ^\u001b[0m\n\u001b[1;31mSyntaxError\u001b[0m\u001b[1;31m:\u001b[0m positional argument follows keyword argument\n"
     ]
    }
   ],
   "source": [
    "create_student_dict(email=\"mv@imawesome.org\", \"MV\") # you start with positional/mandatory args, then you continue with keyword/optional arguments"
   ]
  },
  {
   "cell_type": "code",
   "execution_count": null,
   "metadata": {},
   "outputs": [
    {
     "data": {
      "text/plain": [
       "{'Name': 'MV', 'Email': 'mv@imawesome.org'}"
      ]
     },
     "execution_count": 23,
     "metadata": {},
     "output_type": "execute_result"
    }
   ],
   "source": [
    "create_student_dict(email=\"mv@imawesome.org\", name=\"MV\") # If I name every argument, the order doesn't matter"
   ]
  },
  {
   "cell_type": "code",
   "execution_count": 24,
   "metadata": {},
   "outputs": [
    {
     "data": {
      "text/plain": [
       "{'Name': 'MV', 'Email': 'mv@imawesome.org'}"
      ]
     },
     "execution_count": 24,
     "metadata": {},
     "output_type": "execute_result"
    }
   ],
   "source": [
    "student_dict = create_student_dict(email=\"mv@imawesome.org\", name=\"MV\")\n",
    "student_dict"
   ]
  },
  {
   "cell_type": "code",
   "execution_count": 25,
   "metadata": {},
   "outputs": [
    {
     "ename": "SyntaxError",
     "evalue": "keyword argument repeated: email (2495417025.py, line 1)",
     "output_type": "error",
     "traceback": [
      "\u001b[1;36m  Cell \u001b[1;32mIn[25], line 1\u001b[1;36m\u001b[0m\n\u001b[1;33m    create_student_dict(email=\"mv@imawesome.org\", name=\"MV\", email=\"dt@imawesome.org\", name=\"DT\")\u001b[0m\n\u001b[1;37m                                                             ^\u001b[0m\n\u001b[1;31mSyntaxError\u001b[0m\u001b[1;31m:\u001b[0m keyword argument repeated: email\n"
     ]
    }
   ],
   "source": [
    "create_student_dict(email=\"mv@imawesome.org\", name=\"MV\", email=\"dt@imawesome.org\", name=\"DT\")"
   ]
  },
  {
   "cell_type": "code",
   "execution_count": 26,
   "metadata": {},
   "outputs": [
    {
     "data": {
      "text/plain": [
       "{'Name': 'DT', 'Email': 'dt@imawesome.org'}"
      ]
     },
     "execution_count": 26,
     "metadata": {},
     "output_type": "execute_result"
    }
   ],
   "source": [
    "create_student_dict(email=\"dt@imawesome.org\", name=\"DT\")"
   ]
  },
  {
   "cell_type": "markdown",
   "metadata": {},
   "source": [
    "### Returning many values"
   ]
  },
  {
   "cell_type": "code",
   "execution_count": 27,
   "metadata": {},
   "outputs": [],
   "source": [
    "def echo(name, email=\"NA\"):\n",
    "    return name, email"
   ]
  },
  {
   "cell_type": "code",
   "execution_count": 28,
   "metadata": {},
   "outputs": [
    {
     "data": {
      "text/plain": [
       "('nui', 'nui@imsuperawesome.org')"
      ]
     },
     "execution_count": 28,
     "metadata": {},
     "output_type": "execute_result"
    }
   ],
   "source": [
    "echo(\"nui\", \"nui@imsuperawesome.org\")"
   ]
  },
  {
   "cell_type": "code",
   "execution_count": 29,
   "metadata": {},
   "outputs": [
    {
     "data": {
      "text/plain": [
       "('nui', 'nui@imsuperawesome.org')"
      ]
     },
     "execution_count": 29,
     "metadata": {},
     "output_type": "execute_result"
    }
   ],
   "source": [
    "nui_info = echo(\"nui\", \"nui@imsuperawesome.org\")\n",
    "nui_info"
   ]
  },
  {
   "cell_type": "code",
   "execution_count": 31,
   "metadata": {},
   "outputs": [
    {
     "name": "stdout",
     "output_type": "stream",
     "text": [
      "nui\n",
      "nui@imsuperawesome.org\n"
     ]
    }
   ],
   "source": [
    "nui_name, nui_email = echo(\"nui\", \"nui@imsuperawesome.org\")\n",
    "print(nui_name)\n",
    "print(nui_email)"
   ]
  },
  {
   "cell_type": "markdown",
   "metadata": {},
   "source": [
    "### Setting a Default Parameter Value"
   ]
  },
  {
   "cell_type": "markdown",
   "metadata": {},
   "source": [
    "Setting a default parameter value in a function allows you to define a default value that will be used if an argument is not provided when calling the function. This provides flexibility and allows the function to work with different inputs without explicitly specifying all the arguments every time.\n",
    "\n",
    "Here's an example to illustrate setting a default parameter value:"
   ]
  },
  {
   "cell_type": "code",
   "execution_count": null,
   "metadata": {},
   "outputs": [],
   "source": []
  },
  {
   "cell_type": "markdown",
   "metadata": {},
   "source": [
    "If you have parameters with default values and parameters without default values, the ones with **default values should come after the ones without default values**.\n"
   ]
  },
  {
   "cell_type": "code",
   "execution_count": null,
   "metadata": {},
   "outputs": [],
   "source": []
  },
  {
   "cell_type": "markdown",
   "metadata": {},
   "source": [
    "## Scope"
   ]
  },
  {
   "cell_type": "markdown",
   "metadata": {},
   "source": [
    "In Python, the concept of scope refers to the visibility and accessibility of variables within different parts of your code. Understanding function scope is crucial for writing modular and organized programs. Let's explore the different aspects of function scope through examples."
   ]
  },
  {
   "cell_type": "markdown",
   "metadata": {},
   "source": [
    "### Local Scope\n",
    "\n",
    "Variables defined inside a function have local scope.\n",
    "\n",
    "They are accessible only within the function they are defined in.\n",
    "\n",
    "Example:"
   ]
  },
  {
   "cell_type": "code",
   "execution_count": null,
   "metadata": {},
   "outputs": [],
   "source": [
    "x = 3 # Global scope - these variables are available across the whole notebook\n",
    "\n",
    "def add_numbers():\n",
    "    x = 2   # Functions are like Las Vegas, what happens in the function stays in the function\n",
    "    y = 4   # Local scope - these variables are only available inside add_numbers\n",
    "    return x + y"
   ]
  },
  {
   "cell_type": "code",
   "execution_count": null,
   "metadata": {},
   "outputs": [
    {
     "name": "stdout",
     "output_type": "stream",
     "text": [
      "3\n"
     ]
    }
   ],
   "source": [
    "print(x)"
   ]
  },
  {
   "cell_type": "code",
   "execution_count": 34,
   "metadata": {},
   "outputs": [
    {
     "ename": "NameError",
     "evalue": "name 'y' is not defined",
     "output_type": "error",
     "traceback": [
      "\u001b[1;31m---------------------------------------------------------------------------\u001b[0m",
      "\u001b[1;31mNameError\u001b[0m                                 Traceback (most recent call last)",
      "Cell \u001b[1;32mIn[34], line 1\u001b[0m\n\u001b[1;32m----> 1\u001b[0m \u001b[38;5;28mprint\u001b[39m(y)\n",
      "\u001b[1;31mNameError\u001b[0m: name 'y' is not defined"
     ]
    }
   ],
   "source": [
    "print(y)"
   ]
  },
  {
   "cell_type": "code",
   "execution_count": 38,
   "metadata": {},
   "outputs": [
    {
     "name": "stdout",
     "output_type": "stream",
     "text": [
      "6\n"
     ]
    },
    {
     "ename": "NameError",
     "evalue": "name 'y' is not defined",
     "output_type": "error",
     "traceback": [
      "\u001b[1;31m---------------------------------------------------------------------------\u001b[0m",
      "\u001b[1;31mNameError\u001b[0m                                 Traceback (most recent call last)",
      "Cell \u001b[1;32mIn[38], line 2\u001b[0m\n\u001b[0;32m      1\u001b[0m \u001b[38;5;28mprint\u001b[39m(add_numbers())\n\u001b[1;32m----> 2\u001b[0m \u001b[38;5;28mprint\u001b[39m(y)\n",
      "\u001b[1;31mNameError\u001b[0m: name 'y' is not defined"
     ]
    }
   ],
   "source": [
    "print(add_numbers())\n",
    "print(y)"
   ]
  },
  {
   "cell_type": "code",
   "execution_count": 39,
   "metadata": {},
   "outputs": [
    {
     "name": "stdout",
     "output_type": "stream",
     "text": [
      "6\n"
     ]
    }
   ],
   "source": [
    "y = add_numbers()\n",
    "print(y)"
   ]
  },
  {
   "cell_type": "code",
   "execution_count": 40,
   "metadata": {},
   "outputs": [
    {
     "name": "stdout",
     "output_type": "stream",
     "text": [
      "6\n"
     ]
    }
   ],
   "source": [
    "print(y)"
   ]
  },
  {
   "cell_type": "markdown",
   "metadata": {},
   "source": [
    "### Global Scope\n",
    "\n",
    "Variables defined outside of any function have global scope.\n",
    "\n",
    "They can be accessed and modified from anywhere in the code.\n",
    "\n",
    "Example:"
   ]
  },
  {
   "cell_type": "code",
   "execution_count": 59,
   "metadata": {},
   "outputs": [],
   "source": [
    "x = 3\n",
    "\n",
    "def add_numbers():\n",
    "    y = 2\n",
    "    x = y + x \n",
    "    return x"
   ]
  },
  {
   "cell_type": "code",
   "execution_count": 60,
   "metadata": {},
   "outputs": [
    {
     "ename": "UnboundLocalError",
     "evalue": "cannot access local variable 'x' where it is not associated with a value",
     "output_type": "error",
     "traceback": [
      "\u001b[1;31m---------------------------------------------------------------------------\u001b[0m",
      "\u001b[1;31mUnboundLocalError\u001b[0m                         Traceback (most recent call last)",
      "Cell \u001b[1;32mIn[60], line 1\u001b[0m\n\u001b[1;32m----> 1\u001b[0m add_numbers()\n\u001b[0;32m      2\u001b[0m \u001b[38;5;28mprint\u001b[39m(x)\n",
      "Cell \u001b[1;32mIn[59], line 5\u001b[0m, in \u001b[0;36madd_numbers\u001b[1;34m()\u001b[0m\n\u001b[0;32m      3\u001b[0m \u001b[38;5;28;01mdef\u001b[39;00m \u001b[38;5;21madd_numbers\u001b[39m():\n\u001b[0;32m      4\u001b[0m     y \u001b[38;5;241m=\u001b[39m \u001b[38;5;241m2\u001b[39m\n\u001b[1;32m----> 5\u001b[0m     x \u001b[38;5;241m=\u001b[39m y \u001b[38;5;241m+\u001b[39m x \n\u001b[0;32m      6\u001b[0m     \u001b[38;5;28;01mreturn\u001b[39;00m x\n",
      "\u001b[1;31mUnboundLocalError\u001b[0m: cannot access local variable 'x' where it is not associated with a value"
     ]
    }
   ],
   "source": [
    "add_numbers()\n",
    "print(x)"
   ]
  },
  {
   "cell_type": "code",
   "execution_count": 62,
   "metadata": {},
   "outputs": [],
   "source": [
    "x = 3\n",
    "\n",
    "def add_numbers(number):\n",
    "    y = 2\n",
    "    number += y \n",
    "    return number"
   ]
  },
  {
   "cell_type": "code",
   "execution_count": 63,
   "metadata": {},
   "outputs": [
    {
     "name": "stdout",
     "output_type": "stream",
     "text": [
      "3\n"
     ]
    }
   ],
   "source": [
    "add_numbers(x) # outside of the function\n",
    "print(x)"
   ]
  },
  {
   "cell_type": "code",
   "execution_count": 51,
   "metadata": {},
   "outputs": [
    {
     "data": {
      "text/plain": [
       "11"
      ]
     },
     "execution_count": 51,
     "metadata": {},
     "output_type": "execute_result"
    }
   ],
   "source": [
    "add_numbers(number=x)"
   ]
  },
  {
   "cell_type": "code",
   "execution_count": 52,
   "metadata": {},
   "outputs": [
    {
     "data": {
      "text/plain": [
       "9"
      ]
     },
     "execution_count": 52,
     "metadata": {},
     "output_type": "execute_result"
    }
   ],
   "source": [
    "x"
   ]
  },
  {
   "cell_type": "markdown",
   "metadata": {},
   "source": [
    "⚠ **Important**: Even though the code above works, it shouldn't be done like that. Using **global variables inside functions is considered bad programming practice**."
   ]
  },
  {
   "cell_type": "markdown",
   "metadata": {},
   "source": [
    "**To avoid using global variables inside the function, you can pass the variable as a parameter to the function**. Here's how you can modify the code above to achieve this:"
   ]
  },
  {
   "cell_type": "code",
   "execution_count": 70,
   "metadata": {},
   "outputs": [],
   "source": [
    "x = 3 # global x\n",
    "\n",
    "def add_numbers():\n",
    "    y = 4\n",
    "    x = 1    # local x\n",
    "    print(\"x inside my function is:\", x)\n",
    "    x = y + x \n",
    "    return x"
   ]
  },
  {
   "cell_type": "code",
   "execution_count": 72,
   "metadata": {},
   "outputs": [
    {
     "name": "stdout",
     "output_type": "stream",
     "text": [
      "x inside my function is: 1\n",
      "5\n",
      "x outside my function is: 3\n"
     ]
    }
   ],
   "source": [
    "print(add_numbers())\n",
    "print(\"x outside my function is:\", x)"
   ]
  },
  {
   "cell_type": "code",
   "execution_count": null,
   "metadata": {},
   "outputs": [],
   "source": [
    "x = 3\n",
    "\n",
    "def add_numbers():\n",
    "    y = 4\n",
    "    global x    # Don't use this, really\n",
    "    print(\"x inside my function is:\", x)\n",
    "    x = y + x \n",
    "    return x"
   ]
  },
  {
   "cell_type": "code",
   "execution_count": 74,
   "metadata": {},
   "outputs": [
    {
     "name": "stdout",
     "output_type": "stream",
     "text": [
      "x inside my function is: 3\n",
      "7\n",
      "7\n"
     ]
    }
   ],
   "source": [
    "print(add_numbers())\n",
    "print(x)"
   ]
  },
  {
   "cell_type": "markdown",
   "metadata": {},
   "source": [
    "In this modified code, the my_function() function accepts a parameter var. When calling the function my_function(global_var), we pass the value of the global variable global_var as an argument. Inside the function, the value is accessed through the var parameter. This way, we avoid using a global variable directly inside the function."
   ]
  },
  {
   "cell_type": "markdown",
   "metadata": {},
   "source": [
    "## Functions with no params and no return"
   ]
  },
  {
   "cell_type": "markdown",
   "metadata": {},
   "source": [
    "Functions in Python can be defined without parameters and without a return statement. Let's break down their characteristics:\n",
    "\n",
    "Functions with no parameters:\n",
    "- These functions are defined without any input parameters or arguments.\n",
    "- They perform a specific set of tasks or operations using the code statements within their body.\n",
    "- They do not require any external information to execute their functionality.\n",
    "- They can still access and use global variables or variables defined outside the function.\n",
    "\n",
    "Here's an example of a function with no parameters:"
   ]
  },
  {
   "cell_type": "code",
   "execution_count": 75,
   "metadata": {},
   "outputs": [],
   "source": [
    "def boilerplate_message():\n",
    "    print(\"\"\"Lorem Ipsum is simply dummy text of the printing and typesetting industry. Lorem Ipsum has been the industry's standard dummy text ever since the 1500s, when an unknown printer took a galley of type and scrambled it to make a type specimen book. It has survived not only five centuries, but also the leap into electronic typesetting, remaining essentially unchanged. It was popularised in the 1960s with the release of Letraset sheets containing Lorem Ipsum passages, and more recently with desktop publishing software like Aldus PageMaker including versions of Lorem Ipsum.\"\"\")"
   ]
  },
  {
   "cell_type": "code",
   "execution_count": 76,
   "metadata": {},
   "outputs": [
    {
     "name": "stdout",
     "output_type": "stream",
     "text": [
      "Lorem Ipsum is simply dummy text of the printing and typesetting industry. Lorem Ipsum has been the industry's standard dummy text ever since the 1500s, when an unknown printer took a galley of type and scrambled it to make a type specimen book. It has survived not only five centuries, but also the leap into electronic typesetting, remaining essentially unchanged. It was popularised in the 1960s with the release of Letraset sheets containing Lorem Ipsum passages, and more recently with desktop publishing software like Aldus PageMaker including versions of Lorem Ipsum.\n"
     ]
    }
   ],
   "source": [
    "app_running = True\n",
    "\n",
    "if app_running:\n",
    "    boilerplate_message()\n",
    "else:\n",
    "    print(\"nothing happens\")"
   ]
  },
  {
   "cell_type": "code",
   "execution_count": null,
   "metadata": {},
   "outputs": [
    {
     "name": "stdout",
     "output_type": "stream",
     "text": [
      "Lorem Ipsum is simply dummy text of the printing and typesetting industry. Lorem Ipsum has been the industry's standard dummy text ever since the 1500s, when an unknown printer took a galley of type and scrambled it to make a type specimen book. It has survived not only five centuries, but also the leap into electronic typesetting, remaining essentially unchanged. It was popularised in the 1960s with the release of Letraset sheets containing Lorem Ipsum passages, and more recently with desktop publishing software like Aldus PageMaker including versions of Lorem Ipsum.boilerplate_message\n"
     ]
    }
   ],
   "source": [
    "if app_running:\n",
    "    print(\"\"\"Lorem Ipsum is simply dummy text of the printing and typesetting industry. Lorem Ipsum has been the industry's standard dummy text ever since the 1500s, when an unknown printer took a galley of type and scrambled it to make a type specimen book. It has survived not only five centuries, but also the leap into electronic typesetting, remaining essentially unchanged. It was popularised in the 1960s with the release of Letraset sheets containing Lorem Ipsum passages, and more recently with desktop publishing software like Aldus PageMaker including versions of Lorem Ipsum.boilerplate_message\"\"\")\n",
    "else:\n",
    "    print(\"nothing happens\")"
   ]
  },
  {
   "cell_type": "markdown",
   "metadata": {},
   "source": [
    "If a function doesn't have a return, then it returns:\n",
    "```python\n",
    "None\n",
    "```"
   ]
  },
  {
   "cell_type": "code",
   "execution_count": 80,
   "metadata": {},
   "outputs": [
    {
     "name": "stdout",
     "output_type": "stream",
     "text": [
      "Lorem Ipsum is simply dummy text of the printing and typesetting industry. Lorem Ipsum has been the industry's standard dummy text ever since the 1500s, when an unknown printer took a galley of type and scrambled it to make a type specimen book. It has survived not only five centuries, but also the leap into electronic typesetting, remaining essentially unchanged. It was popularised in the 1960s with the release of Letraset sheets containing Lorem Ipsum passages, and more recently with desktop publishing software like Aldus PageMaker including versions of Lorem Ipsum.\n",
      "None\n"
     ]
    }
   ],
   "source": [
    "print(boilerplate_message())"
   ]
  },
  {
   "cell_type": "code",
   "execution_count": 82,
   "metadata": {},
   "outputs": [],
   "source": [
    "def boilerplate_message():\n",
    "    # print(\"yadda yadda\")\n",
    "    return \"yadda yadda\""
   ]
  },
  {
   "cell_type": "code",
   "execution_count": 83,
   "metadata": {},
   "outputs": [
    {
     "data": {
      "text/plain": [
       "'yadda yadda'"
      ]
     },
     "execution_count": 83,
     "metadata": {},
     "output_type": "execute_result"
    }
   ],
   "source": [
    "boilerplate_message()"
   ]
  },
  {
   "cell_type": "code",
   "execution_count": 84,
   "metadata": {},
   "outputs": [
    {
     "name": "stdout",
     "output_type": "stream",
     "text": [
      "yadda yadda\n"
     ]
    }
   ],
   "source": [
    "print(boilerplate_message())"
   ]
  },
  {
   "cell_type": "code",
   "execution_count": 85,
   "metadata": {},
   "outputs": [
    {
     "name": "stdout",
     "output_type": "stream",
     "text": [
      "yadda yadda\n"
     ]
    }
   ],
   "source": [
    "x = boilerplate_message()\n",
    "print(x)"
   ]
  },
  {
   "cell_type": "code",
   "execution_count": 86,
   "metadata": {},
   "outputs": [],
   "source": [
    "def boilerplate_message():\n",
    "    print(\"yadda yadda\")\n",
    "    # return \"yadda yadda\""
   ]
  },
  {
   "cell_type": "code",
   "execution_count": 87,
   "metadata": {},
   "outputs": [
    {
     "name": "stdout",
     "output_type": "stream",
     "text": [
      "yadda yadda\n"
     ]
    }
   ],
   "source": [
    "boilerplate_message()"
   ]
  },
  {
   "cell_type": "code",
   "execution_count": 88,
   "metadata": {},
   "outputs": [
    {
     "name": "stdout",
     "output_type": "stream",
     "text": [
      "yadda yadda\n",
      "None\n"
     ]
    }
   ],
   "source": [
    "print(boilerplate_message())"
   ]
  },
  {
   "cell_type": "code",
   "execution_count": 89,
   "metadata": {},
   "outputs": [
    {
     "name": "stdout",
     "output_type": "stream",
     "text": [
      "yadda yadda\n",
      "None\n"
     ]
    }
   ],
   "source": [
    "x = boilerplate_message()\n",
    "print(x)"
   ]
  },
  {
   "cell_type": "markdown",
   "metadata": {},
   "source": [
    "Functions with no return statement:\n",
    "- These functions perform certain operations or tasks, but they do not explicitly return any value using the `return` statement.\n",
    "- They might modify global variables or perform other actions, but they don't provide a specific value as an output.\n",
    "- When called, they can execute their code and affect the program state but don't produce a value that can be assigned to a variable or used in an expression.\n",
    "\n",
    "Here's an example of a function without a return statement:"
   ]
  },
  {
   "cell_type": "code",
   "execution_count": null,
   "metadata": {},
   "outputs": [],
   "source": []
  },
  {
   "cell_type": "markdown",
   "metadata": {},
   "source": [
    "In this example, the `display_message()` function doesn't have a return statement. It simply prints the message \"This is a message.\" when called."
   ]
  },
  {
   "cell_type": "markdown",
   "metadata": {},
   "source": [
    "## Print vs Return"
   ]
  },
  {
   "cell_type": "markdown",
   "metadata": {},
   "source": [
    "- Printing is used to display information on the console, but it doesn't store the value for further use.\n",
    "- Returning is used to provide a value from a function that can be stored, modified, or used in other parts of the program.\n",
    "\n",
    "When deciding whether to print or return a value from a function:\n",
    "- If you need to store or modify the value later on, use the `return` statement.\n",
    "- If you only need to display the value without further manipulation, printing it is sufficient."
   ]
  },
  {
   "cell_type": "markdown",
   "metadata": {},
   "source": [
    "## Concatenating Methods"
   ]
  },
  {
   "cell_type": "markdown",
   "metadata": {},
   "source": [
    "Concatenating methods in Python refers to chaining multiple method calls together, where the output or result of one method is passed as input to another method. This allows for a more concise and expressive way of performing multiple operations on an object or data.\n",
    "\n",
    "Here's an example to illustrate concatenating methods:"
   ]
  },
  {
   "cell_type": "code",
   "execution_count": null,
   "metadata": {},
   "outputs": [],
   "source": []
  },
  {
   "cell_type": "markdown",
   "metadata": {},
   "source": [
    "In this example, we start with the string `text` which contains the phrase \"Hello, World!\". We then chain multiple methods together to perform operations on this string:\n",
    "\n",
    "1. The `upper()` method is called on `text` to convert all characters to uppercase.\n",
    "2. The `replace()` method is called on the result of `upper()` to replace the substring \"WORLD\" with \"Python\".\n",
    "3. The `strip()` method is called on the result of `replace()` to remove the exclamation mark at the end of the string.\n",
    "\n",
    "By chaining these methods together, we can perform multiple operations on the `text` string in a single line of code.\n",
    "\n",
    "It's important to note that the order of method calls matters. Each method is applied to the result of the previous method call. Therefore, understanding the behavior and return values of each method is crucial to ensure the desired operations are performed correctly.\n"
   ]
  },
  {
   "cell_type": "markdown",
   "metadata": {},
   "source": [
    "# Generator Functions"
   ]
  },
  {
   "cell_type": "markdown",
   "metadata": {},
   "source": [
    "In Python, **generator functions are a powerful and efficient way to create iterators** and produce a sequence of values one at a time.\n",
    "\n",
    "Unlike regular functions that use `return` to provide the entire result, generator functions use the `yield` keyword to generate values on-the-fly as they are requested."
   ]
  },
  {
   "cell_type": "markdown",
   "metadata": {},
   "source": [
    "## Syntax of Generator Functions\n",
    "\n",
    "```python\n",
    "def generator_function():\n",
    "    # Code to generate values\n",
    "    yield value\n",
    "    # Code continues...\n",
    "```\n"
   ]
  },
  {
   "cell_type": "markdown",
   "metadata": {},
   "source": [
    "\n",
    "## Key Concepts\n",
    "\n",
    "1. **The `yield` Statement:** The `yield` statement is the heart of a generator function. When a generator function is called, the execution starts from the beginning of the function until the first `yield` statement. It yields the value and pauses the function's state, allowing it to be resumed later to produce the next value.\n",
    "\n",
    "2. **Generator Iterators:** When calling a generator function, it does not execute the entire function at once. Instead, it returns a generator object, which is an iterator. Each time the generator's `next()` method is called or when used in a loop, the function resumes execution from where it left off and continues until the next `yield` statement."
   ]
  },
  {
   "cell_type": "markdown",
   "metadata": {},
   "source": [
    "## Example of a Generator Function"
   ]
  },
  {
   "cell_type": "code",
   "execution_count": null,
   "metadata": {},
   "outputs": [],
   "source": [
    "def countdown(n):\n",
    "    while n > 0:\n",
    "        yield n # outputs n but then it doesn't stop the function\n",
    "        n -= 1"
   ]
  },
  {
   "cell_type": "code",
   "execution_count": 111,
   "metadata": {},
   "outputs": [
    {
     "data": {
      "text/plain": [
       "<generator object countdown at 0x000001361354BB80>"
      ]
     },
     "execution_count": 111,
     "metadata": {},
     "output_type": "execute_result"
    }
   ],
   "source": [
    "countdown(5)"
   ]
  },
  {
   "cell_type": "code",
   "execution_count": 112,
   "metadata": {},
   "outputs": [
    {
     "name": "stdout",
     "output_type": "stream",
     "text": [
      "5\n",
      "4\n",
      "3\n",
      "2\n",
      "1\n"
     ]
    }
   ],
   "source": [
    "for output in countdown(5):\n",
    "    print(output)"
   ]
  },
  {
   "cell_type": "markdown",
   "metadata": {},
   "source": [
    "\n",
    "\n",
    "1. **Using the `next()` Method Alone:**\n",
    "When using the `next()` method directly with a generator, you have more fine-grained control over the iteration process. You can call `next()` on the generator to get the next value one at a time. This approach is useful when you need to access specific values from the generator or when you want to stop the iteration at a certain point.\n"
   ]
  },
  {
   "cell_type": "code",
   "execution_count": 114,
   "metadata": {},
   "outputs": [
    {
     "data": {
      "text/plain": [
       "5"
      ]
     },
     "execution_count": 114,
     "metadata": {},
     "output_type": "execute_result"
    }
   ],
   "source": [
    "countdown_gen = countdown(5)\n",
    "next(countdown_gen)"
   ]
  },
  {
   "cell_type": "code",
   "execution_count": 115,
   "metadata": {},
   "outputs": [
    {
     "data": {
      "text/plain": [
       "4"
      ]
     },
     "execution_count": 115,
     "metadata": {},
     "output_type": "execute_result"
    }
   ],
   "source": [
    "next(countdown_gen)"
   ]
  },
  {
   "cell_type": "code",
   "execution_count": 116,
   "metadata": {},
   "outputs": [
    {
     "data": {
      "text/plain": [
       "3"
      ]
     },
     "execution_count": 116,
     "metadata": {},
     "output_type": "execute_result"
    }
   ],
   "source": [
    "next(countdown_gen)"
   ]
  },
  {
   "cell_type": "code",
   "execution_count": 117,
   "metadata": {},
   "outputs": [
    {
     "data": {
      "text/plain": [
       "2"
      ]
     },
     "execution_count": 117,
     "metadata": {},
     "output_type": "execute_result"
    }
   ],
   "source": [
    "next(countdown_gen)"
   ]
  },
  {
   "cell_type": "code",
   "execution_count": 118,
   "metadata": {},
   "outputs": [
    {
     "data": {
      "text/plain": [
       "1"
      ]
     },
     "execution_count": 118,
     "metadata": {},
     "output_type": "execute_result"
    }
   ],
   "source": [
    "next(countdown_gen)"
   ]
  },
  {
   "cell_type": "code",
   "execution_count": 119,
   "metadata": {},
   "outputs": [
    {
     "ename": "StopIteration",
     "evalue": "",
     "output_type": "error",
     "traceback": [
      "\u001b[1;31m---------------------------------------------------------------------------\u001b[0m",
      "\u001b[1;31mStopIteration\u001b[0m                             Traceback (most recent call last)",
      "Cell \u001b[1;32mIn[119], line 1\u001b[0m\n\u001b[1;32m----> 1\u001b[0m \u001b[38;5;28mnext\u001b[39m(countdown_gen)\n",
      "\u001b[1;31mStopIteration\u001b[0m: "
     ]
    }
   ],
   "source": [
    "next(countdown_gen)"
   ]
  },
  {
   "cell_type": "code",
   "execution_count": 123,
   "metadata": {},
   "outputs": [],
   "source": [
    "def augment_images(images):\n",
    "    for image in images:\n",
    "        image += \"_edited\"\n",
    "        # Change size\n",
    "        # Rotate size\n",
    "        # return image # This will stop the loop and it will give me only the first edited image\n",
    "        yield image # It will edit every image in my images"
   ]
  },
  {
   "cell_type": "code",
   "execution_count": null,
   "metadata": {},
   "outputs": [
    {
     "data": {
      "text/plain": [
       "<generator object augment_images at 0x0000013613FBC110>"
      ]
     },
     "execution_count": 127,
     "metadata": {},
     "output_type": "execute_result"
    }
   ],
   "source": [
    "augmentator = augment_images([\"image1\", \"image2\", \"image3\"])\n",
    "augmentator # list of functions that edit image1, image2, image3 - not executed, this is a to-do list"
   ]
  },
  {
   "cell_type": "code",
   "execution_count": null,
   "metadata": {},
   "outputs": [
    {
     "data": {
      "text/plain": [
       "['image1_edited', 'image2_edited', 'image3_edited']"
      ]
     },
     "execution_count": 128,
     "metadata": {},
     "output_type": "execute_result"
    }
   ],
   "source": [
    "edited_images = list(augmentator)\n",
    "edited_images # here I am checking my to-do list, or running each function that I put in my to-do list"
   ]
  },
  {
   "cell_type": "code",
   "execution_count": 129,
   "metadata": {},
   "outputs": [
    {
     "data": {
      "text/plain": [
       "range(0, 5)"
      ]
     },
     "execution_count": 129,
     "metadata": {},
     "output_type": "execute_result"
    }
   ],
   "source": [
    "range(5)"
   ]
  },
  {
   "cell_type": "code",
   "execution_count": 130,
   "metadata": {},
   "outputs": [
    {
     "data": {
      "text/plain": [
       "[0, 1, 2, 3, 4]"
      ]
     },
     "execution_count": 130,
     "metadata": {},
     "output_type": "execute_result"
    }
   ],
   "source": [
    "list(range(5))"
   ]
  },
  {
   "cell_type": "markdown",
   "metadata": {},
   "source": [
    "2. **Using a Loop with a Generator:**\n",
    "When using a loop with a generator, you can efficiently retrieve all the values produced by the generator in a convenient manner. The loop automatically calls the `next()` method of the generator until it is exhausted, meaning that there are no more values to yield. This way, you can easily iterate through the entire sequence of generated values without manually calling `next()` repeatedly.\n"
   ]
  },
  {
   "cell_type": "code",
   "execution_count": 131,
   "metadata": {},
   "outputs": [
    {
     "name": "stdout",
     "output_type": "stream",
     "text": [
      "0\n",
      "1\n",
      "2\n",
      "3\n",
      "4\n"
     ]
    }
   ],
   "source": [
    "# Using the generator function\n",
    "for i in range(5):\n",
    "    print(i)"
   ]
  },
  {
   "cell_type": "markdown",
   "metadata": {},
   "source": [
    "## Common Use Cases\n",
    "- Reading large files piece by piece without loading the entire file into memory.\n",
    "- Generating an infinite sequence of values, like the Fibonacci sequence.\n",
    "- Implementing custom iterators to produce values following specific rules or patterns."
   ]
  },
  {
   "cell_type": "markdown",
   "metadata": {
    "lang": "en"
   },
   "source": [
    "## 💡 Check for understanding\n"
   ]
  },
  {
   "cell_type": "markdown",
   "metadata": {},
   "source": [
    "Implement a function count_words(sentence) that counts the number of words in a given sentence. The function should return the count of words.\n",
    "\n",
    "Prompt the user to enter a sentence, call the count_words() function, and display the word count."
   ]
  },
  {
   "cell_type": "code",
   "execution_count": null,
   "metadata": {},
   "outputs": [],
   "source": [
    "# Your code goes here"
   ]
  },
  {
   "cell_type": "markdown",
   "metadata": {},
   "source": [
    "# Summary"
   ]
  },
  {
   "cell_type": "markdown",
   "metadata": {},
   "source": [
    "```\n",
    "- Functions are named blocks of code that perform specific tasks or operations.\n",
    "\n",
    "DEFINING A FUNCTION:\n",
    "def function_name(parameters):\n",
    "    # Function body\n",
    "    # Code statements\n",
    "\n",
    "CALLING A FUNCTION:\n",
    "function_name(arguments)\n",
    "\n",
    "PARAMETERS:\n",
    "- Parameters are placeholders for values that can be passed into a function.\n",
    "- Functions can have zero or more parameters.\n",
    "- Parameters can have default values.\n",
    "\n",
    "RETURNING VALUES:\n",
    "- Functions can return a value using the 'return' statement.\n",
    "- 'return' exits the function and provides the specified value as the result.\n",
    "- If no 'return' statement is provided, the function returns 'None' by default.\n",
    "\n",
    "LOCAL VARIABLES:\n",
    "- Local variables are defined within the function and only accessible within its scope.\n",
    "\n",
    "ARGUMENTS:\n",
    "- Arguments are the actual values passed to a function when it is called.\n",
    "\n",
    "REUSABILITY:\n",
    "- Functions can be reused multiple times throughout a program.\n",
    "- They enhance code organization, readability, and maintainability.\n",
    "\n",
    "SIDE EFFECTS:\n",
    "- Functions can have side effects, such as modifying global variables.\n",
    "\n",
    "SAMPLE FUNCTION DEFINITION:\n",
    "```\n",
    "```python\n",
    "def greet(name):\n",
    "    print(\"Hello, \" + name + \"!\")\n",
    "```\n",
    "```python\n",
    "SAMPLE FUNCTION CALL:\n",
    "\n",
    "greet(\"Alice\")  # Output: Hello, Alice!\n",
    "\n",
    "SAMPLE FUNCTION WITH RETURN:\n",
    "\n",
    "def add(a, b):\n",
    "    return a + b\n",
    "\n",
    "result = add(3, 4)  # Output: 7\n",
    "```\n"
   ]
  },
  {
   "cell_type": "markdown",
   "metadata": {},
   "source": [
    "# Extra: Args and Kwargs"
   ]
  },
  {
   "cell_type": "markdown",
   "metadata": {},
   "source": [
    "In Python, `*args` and `**kwargs` are special syntaxes that allow functions to accept a variable number of arguments.\n",
    "\n",
    "1. `*args` (Arbitrary Arguments):\n",
    "   - The `*args` syntax allows a function to accept any number of positional arguments.\n",
    "   - It is represented by an asterisk (`*`) followed by a parameter name (`args` is a commonly used convention, but the name can be anything).\n",
    "   - Within the function, `*args` becomes a tuple that holds all the positional arguments passed to the function."
   ]
  },
  {
   "cell_type": "code",
   "execution_count": null,
   "metadata": {},
   "outputs": [],
   "source": [
    "\n",
    "def add(*args):\n",
    "    result = 0\n",
    "    for num in args:\n",
    "        result += num\n",
    "    return result\n",
    "\n",
    "print(add(1, 2, 3))  # Output: 6\n",
    "print(add(4, 5, 6, 7))  # Output: 22"
   ]
  },
  {
   "cell_type": "markdown",
   "metadata": {},
   "source": [
    "2. `**kwargs` (Keyword Arguments):\n",
    "   - The `**kwargs` syntax allows a function to accept any number of keyword arguments.\n",
    "   - It is represented by a double asterisk (`**`) followed by a parameter name (`kwargs` is a commonly used convention, but the name can be anything).\n",
    "   - Within the function, `**kwargs` becomes a dictionary that holds all the keyword arguments passed to the function."
   ]
  },
  {
   "cell_type": "code",
   "execution_count": null,
   "metadata": {},
   "outputs": [],
   "source": [
    "def greet(**kwargs):\n",
    "    for key, value in kwargs.items():\n",
    "        print(f\"{key}: {value}\")\n",
    "\n",
    "greet(name=\"Alice\", age=25)  # Output: name: Alice, age: 25\n",
    "greet(city=\"New York\", country=\"USA\", language=\"English\")  # Output: city: New York, country: USA, language: English"
   ]
  },
  {
   "cell_type": "markdown",
   "metadata": {},
   "source": [
    "3. Combining `*args` and `**kwargs`:\n",
    "   - You can use both `*args` and `**kwargs` in the same function definition to accept a combination of positional and keyword arguments.\n",
    "   - The `*args` will collect positional arguments into a tuple, and `**kwargs` will collect keyword arguments into a dictionary."
   ]
  },
  {
   "cell_type": "code",
   "execution_count": null,
   "metadata": {},
   "outputs": [],
   "source": [
    "def example(*args, **kwargs):\n",
    "    print(\"Positional arguments:\")\n",
    "    for arg in args:\n",
    "        print(arg)\n",
    "    print(\"Keyword arguments:\")\n",
    "    for key, value in kwargs.items():\n",
    "        print(f\"{key}: {value}\")\n",
    "\n",
    "example(1, 2, 3, name=\"Alice\", age=25)"
   ]
  }
 ],
 "metadata": {
  "kernelspec": {
   "display_name": "base",
   "language": "python",
   "name": "python3"
  },
  "language_info": {
   "codemirror_mode": {
    "name": "ipython",
    "version": 3
   },
   "file_extension": ".py",
   "mimetype": "text/x-python",
   "name": "python",
   "nbconvert_exporter": "python",
   "pygments_lexer": "ipython3",
   "version": "3.12.4"
  },
  "toc": {
   "base_numbering": 1,
   "nav_menu": {},
   "number_sections": true,
   "sideBar": true,
   "skip_h1_title": false,
   "title_cell": "Table of Contents",
   "title_sidebar": "Contents",
   "toc_cell": true,
   "toc_position": {},
   "toc_section_display": true,
   "toc_window_display": false
  }
 },
 "nbformat": 4,
 "nbformat_minor": 4
}
