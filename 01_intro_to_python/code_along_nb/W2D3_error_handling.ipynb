{
 "cells": [
  {
   "cell_type": "markdown",
   "id": "e44ff701",
   "metadata": {
    "jp-MarkdownHeadingCollapsed": true,
    "toc": true
   },
   "source": [
    "<h1>Table of Contents<span class=\"tocSkip\"></span></h1>\n",
    "<div class=\"toc\"><ul class=\"toc-item\"><li><span><a href=\"#Error-Handling\" data-toc-modified-id=\"Error-Handling-1\"><span class=\"toc-item-num\">1&nbsp;&nbsp;</span>Error Handling</a></span><ul class=\"toc-item\"><li><span><a href=\"#Different-Types-of-Errors-in-Python\" data-toc-modified-id=\"Different-Types-of-Errors-in-Python-1.1\"><span class=\"toc-item-num\">1.1&nbsp;&nbsp;</span>Different Types of Errors in Python</a></span><ul class=\"toc-item\"><li><span><a href=\"#Attribute-Error\" data-toc-modified-id=\"Attribute-Error-1.1.1\"><span class=\"toc-item-num\">1.1.1&nbsp;&nbsp;</span>Attribute Error</a></span></li><li><span><a href=\"#Index-Error\" data-toc-modified-id=\"Index-Error-1.1.2\"><span class=\"toc-item-num\">1.1.2&nbsp;&nbsp;</span>Index Error</a></span></li><li><span><a href=\"#Key-Error\" data-toc-modified-id=\"Key-Error-1.1.3\"><span class=\"toc-item-num\">1.1.3&nbsp;&nbsp;</span>Key Error</a></span></li><li><span><a href=\"#Type-Error\" data-toc-modified-id=\"Type-Error-1.1.4\"><span class=\"toc-item-num\">1.1.4&nbsp;&nbsp;</span>Type Error</a></span></li><li><span><a href=\"#Value-Error\" data-toc-modified-id=\"Value-Error-1.1.5\"><span class=\"toc-item-num\">1.1.5&nbsp;&nbsp;</span>Value Error</a></span></li></ul></li><li><span><a href=\"#Error-handling\" data-toc-modified-id=\"Error-handling-1.2\"><span class=\"toc-item-num\">1.2&nbsp;&nbsp;</span>Error handling</a></span><ul class=\"toc-item\"><li><span><a href=\"#Except-with-no-specific-exception-type\" data-toc-modified-id=\"Except-with-no-specific-exception-type-1.2.1\"><span class=\"toc-item-num\">1.2.1&nbsp;&nbsp;</span>Except with no specific exception type</a></span></li><li><span><a href=\"#Saving-the-error-with-the-alias-as\" data-toc-modified-id=\"Saving-the-error-with-the-alias-as-1.2.2\"><span class=\"toc-item-num\">1.2.2&nbsp;&nbsp;</span>Saving the error with the alias <code>as</code></a></span></li></ul></li><li><span><a href=\"#Raising-errors\" data-toc-modified-id=\"Raising-errors-1.3\"><span class=\"toc-item-num\">1.3&nbsp;&nbsp;</span>Raising errors</a></span></li><li><span><a href=\"#💡-Check-for-understanding\" data-toc-modified-id=\"💡-Check-for-understanding-1.4\"><span class=\"toc-item-num\">1.4&nbsp;&nbsp;</span>💡 Check for understanding</a></span></li><li><span><a href=\"#Summary\" data-toc-modified-id=\"Summary-1.5\"><span class=\"toc-item-num\">1.5&nbsp;&nbsp;</span>Summary</a></span></li><li><span><a href=\"#Extra:-Data-validation-with-assert\" data-toc-modified-id=\"Extra:-Data-validation-with-assert-1.6\"><span class=\"toc-item-num\">1.6&nbsp;&nbsp;</span>Extra: Data validation with <code>assert</code></a></span></li></ul></li></ul></div>"
   ]
  },
  {
   "cell_type": "markdown",
   "id": "d35bfe3b-6b3f-4aa3-97ba-d0653e0eb7c6",
   "metadata": {},
   "source": [
    "# Error Handling"
   ]
  },
  {
   "cell_type": "markdown",
   "id": "1096e7fe-04c8-4a2f-a6fb-2352f39767c6",
   "metadata": {},
   "source": [
    "![elgif](https://media.giphy.com/media/WhFfFPCEDXpBe/giphy.gif)"
   ]
  },
  {
   "cell_type": "markdown",
   "id": "3abfd862-ab14-4a55-8c69-c75694cb8e6e",
   "metadata": {},
   "source": [
    "Errors (also known as exceptions) are issues in the code that will interrupt its execution. When an error occurs, the program stops running, and an error message is displayed, indicating the type of error and its location in the code."
   ]
  },
  {
   "cell_type": "code",
   "execution_count": 3,
   "id": "10f97a99-c7f1-4427-a6a4-a03f32625de6",
   "metadata": {},
   "outputs": [
    {
     "name": "stdout",
     "output_type": "stream",
     "text": [
      "-0.1\n",
      "-0.1111111111111111\n",
      "-0.125\n",
      "-0.14285714285714285\n",
      "-0.16666666666666666\n",
      "-0.2\n",
      "-0.25\n",
      "-0.3333333333333333\n",
      "-0.5\n",
      "-1.0\n"
     ]
    },
    {
     "ename": "ZeroDivisionError",
     "evalue": "division by zero",
     "output_type": "error",
     "traceback": [
      "\u001b[0;31m---------------------------------------------------------------------------\u001b[0m",
      "\u001b[0;31mZeroDivisionError\u001b[0m                         Traceback (most recent call last)",
      "Cell \u001b[0;32mIn[3], line 2\u001b[0m\n\u001b[1;32m      1\u001b[0m \u001b[38;5;28;01mfor\u001b[39;00m i \u001b[38;5;129;01min\u001b[39;00m \u001b[38;5;28mrange\u001b[39m(\u001b[38;5;241m-\u001b[39m\u001b[38;5;241m10\u001b[39m,\u001b[38;5;241m5\u001b[39m):\n\u001b[0;32m----> 2\u001b[0m     \u001b[38;5;28mprint\u001b[39m(\u001b[38;5;241;43m1\u001b[39;49m\u001b[38;5;241;43m/\u001b[39;49m\u001b[43mi\u001b[49m)\n",
      "\u001b[0;31mZeroDivisionError\u001b[0m: division by zero"
     ]
    }
   ],
   "source": [
    "for i in range(-10,5):\n",
    "    print(1/i)"
   ]
  },
  {
   "cell_type": "markdown",
   "id": "0556ab00-a074-471d-8f04-928169c92d7f",
   "metadata": {},
   "source": [
    "- Errors are a specific type of object in Python.\n",
    "- Errors can be intentionally raised using the keyword `raise`.\n",
    "\n",
    "```\n",
    "Raising an error (with raise) involves completely stopping the program.\n",
    "```\n",
    "\n",
    "- Errors often contain a message within them.\n",
    "> This message serves to help the user identify the problem and find a solution. Carefully reading the error messages is always necessary to reach a solution quickly."
   ]
  },
  {
   "cell_type": "markdown",
   "id": "0f96032e-0bd5-4c98-ae14-5ddfd57e097e",
   "metadata": {},
   "source": [
    "## Different Types of Errors in Python\n",
    "\n",
    "There are many different types of errors in Python:\n",
    "\n",
    "- `AttributeError`: Accessing a non-existent attribute of an object.\n",
    "- `ImportError`: Failing to import a module or package.\n",
    "- `ModuleNotFoundError`: Attempting to import a module that doesn't exist.\n",
    "- `IndexError`: Accessing an index that is out of range in a list or string.\n",
    "- `KeyError`: Accessing a non-existent key in a dictionary.\n",
    "- `KeyboardInterrupt`: Interrupting the program's execution with a keyboard input (e.g., pressing Ctrl+C).\n",
    "- `NameError`: Using a variable or function that is not defined.\n",
    "- `SyntaxError`: Having incorrect syntax in the code.\n",
    "- `TypeError`: Performing an operation with incompatible data types.\n",
    "- `ValueError`: Using an incorrect value or type for a function or operation.\n",
    "- `ZeroDivisionError`: Attempting to divide by zero.\n",
    "\n",
    "These are just a few examples, and you can find more in the Python [documentation](https://docs.python.org/3/library/exceptions.html). \n",
    "\n",
    "Each type of error indicates a specific issue that may occur during program execution."
   ]
  },
  {
   "cell_type": "markdown",
   "id": "ecbf21b5-873f-42ea-9989-53fbf3ced900",
   "metadata": {},
   "source": [
    "### Attribute Error"
   ]
  },
  {
   "cell_type": "code",
   "execution_count": 8,
   "id": "39294a8b-3cbf-4529-b81e-979a1b69c508",
   "metadata": {},
   "outputs": [
    {
     "data": {
      "text/plain": [
       "3"
      ]
     },
     "execution_count": 8,
     "metadata": {},
     "output_type": "execute_result"
    }
   ],
   "source": [
    "text = \"hello, world\"\n",
    "\n",
    "text.count(\"l\")\n"
   ]
  },
  {
   "cell_type": "code",
   "execution_count": 9,
   "id": "dbcd4d3f-0cbc-4c77-85e0-4eac97b16dbb",
   "metadata": {},
   "outputs": [
    {
     "ename": "AttributeError",
     "evalue": "'str' object has no attribute 'tell_me_more'",
     "output_type": "error",
     "traceback": [
      "\u001b[0;31m---------------------------------------------------------------------------\u001b[0m",
      "\u001b[0;31mAttributeError\u001b[0m                            Traceback (most recent call last)",
      "Cell \u001b[0;32mIn[9], line 1\u001b[0m\n\u001b[0;32m----> 1\u001b[0m \u001b[43mtext\u001b[49m\u001b[38;5;241;43m.\u001b[39;49m\u001b[43mtell_me_more\u001b[49m()\n",
      "\u001b[0;31mAttributeError\u001b[0m: 'str' object has no attribute 'tell_me_more'"
     ]
    }
   ],
   "source": [
    "text.tell_me_more()"
   ]
  },
  {
   "cell_type": "markdown",
   "id": "9fc4b513-95fe-4479-84ff-d09f23bc6e18",
   "metadata": {},
   "source": [
    "So let's think each student is an object:\n",
    "\n",
    "student will be the object and each student will have some attributes.\n",
    "\n",
    "\n",
    "student.name -> \"Beatriz\"\n",
    "\n",
    "student.ih_id -> 1245567\n",
    "\n",
    "student.course -> \"Data Analytics\"\n",
    "\n",
    "student.data_job  -> Error doesn't exist yet"
   ]
  },
  {
   "cell_type": "code",
   "execution_count": 10,
   "id": "6e571414-51dd-4d29-8546-6441ad13163f",
   "metadata": {},
   "outputs": [],
   "source": [
    "list_1 = [ 1,2,4,5,5]\n",
    "\n",
    "list_1.append(7)"
   ]
  },
  {
   "cell_type": "code",
   "execution_count": 11,
   "id": "221794ea-f175-450b-b403-bedc266d4131",
   "metadata": {},
   "outputs": [
    {
     "data": {
      "text/plain": [
       "[1, 2, 4, 5, 5, 7]"
      ]
     },
     "execution_count": 11,
     "metadata": {},
     "output_type": "execute_result"
    }
   ],
   "source": [
    "list_1"
   ]
  },
  {
   "cell_type": "code",
   "execution_count": 12,
   "id": "a5edf840-74aa-4e5f-8699-bd0355c4a7e9",
   "metadata": {},
   "outputs": [
    {
     "ename": "AttributeError",
     "evalue": "'list' object has no attribute 'delete_everything'",
     "output_type": "error",
     "traceback": [
      "\u001b[0;31m---------------------------------------------------------------------------\u001b[0m",
      "\u001b[0;31mAttributeError\u001b[0m                            Traceback (most recent call last)",
      "Cell \u001b[0;32mIn[12], line 1\u001b[0m\n\u001b[0;32m----> 1\u001b[0m \u001b[43mlist_1\u001b[49m\u001b[38;5;241;43m.\u001b[39;49m\u001b[43mdelete_everything\u001b[49m()\n",
      "\u001b[0;31mAttributeError\u001b[0m: 'list' object has no attribute 'delete_everything'"
     ]
    }
   ],
   "source": [
    "list_1.delete_everything()"
   ]
  },
  {
   "cell_type": "markdown",
   "id": "799ae865-5236-49e0-9516-3694f9a93b75",
   "metadata": {},
   "source": [
    "### Index Error"
   ]
  },
  {
   "cell_type": "code",
   "execution_count": 14,
   "id": "d5a6512d-c0ac-4090-adcc-84750b47a60e",
   "metadata": {},
   "outputs": [
    {
     "data": {
      "text/plain": [
       "3"
      ]
     },
     "execution_count": 14,
     "metadata": {},
     "output_type": "execute_result"
    }
   ],
   "source": [
    "numbers_list = [ 1,2,3,4]\n",
    "\n",
    "numbers_list[2]"
   ]
  },
  {
   "cell_type": "code",
   "execution_count": 15,
   "id": "2ed69165-5ea4-4507-a19e-09d3d9d6007a",
   "metadata": {},
   "outputs": [
    {
     "ename": "IndexError",
     "evalue": "list index out of range",
     "output_type": "error",
     "traceback": [
      "\u001b[0;31m---------------------------------------------------------------------------\u001b[0m",
      "\u001b[0;31mIndexError\u001b[0m                                Traceback (most recent call last)",
      "Cell \u001b[0;32mIn[15], line 1\u001b[0m\n\u001b[0;32m----> 1\u001b[0m \u001b[43mnumbers_list\u001b[49m\u001b[43m[\u001b[49m\u001b[38;5;241;43m6\u001b[39;49m\u001b[43m]\u001b[49m\n",
      "\u001b[0;31mIndexError\u001b[0m: list index out of range"
     ]
    }
   ],
   "source": [
    "numbers_list[6]"
   ]
  },
  {
   "cell_type": "markdown",
   "id": "5d0feb16-41b8-42d4-af53-13f64333fa44",
   "metadata": {},
   "source": [
    "### Key Error"
   ]
  },
  {
   "cell_type": "code",
   "execution_count": 17,
   "id": "6b79fda2-c1e3-4dc6-a4e9-44c7c00e1419",
   "metadata": {},
   "outputs": [
    {
     "data": {
      "text/plain": [
       "1245567"
      ]
     },
     "execution_count": 17,
     "metadata": {},
     "output_type": "execute_result"
    }
   ],
   "source": [
    "student = { 'name': 'Beatriz', 'ih_id':1245567, 'course':'Data Analytics'}\n",
    "\n",
    "student['ih_id']"
   ]
  },
  {
   "cell_type": "code",
   "execution_count": 18,
   "id": "4c953b10-847a-45cc-81e5-993be21e3ef8",
   "metadata": {},
   "outputs": [
    {
     "ename": "KeyError",
     "evalue": "'data_job'",
     "output_type": "error",
     "traceback": [
      "\u001b[0;31m---------------------------------------------------------------------------\u001b[0m",
      "\u001b[0;31mKeyError\u001b[0m                                  Traceback (most recent call last)",
      "Cell \u001b[0;32mIn[18], line 1\u001b[0m\n\u001b[0;32m----> 1\u001b[0m \u001b[43mstudent\u001b[49m\u001b[43m[\u001b[49m\u001b[38;5;124;43m'\u001b[39;49m\u001b[38;5;124;43mdata_job\u001b[39;49m\u001b[38;5;124;43m'\u001b[39;49m\u001b[43m]\u001b[49m\n",
      "\u001b[0;31mKeyError\u001b[0m: 'data_job'"
     ]
    }
   ],
   "source": [
    "student['data_job']"
   ]
  },
  {
   "cell_type": "markdown",
   "id": "0947b9f3-fdd4-44f1-af51-fe0f36ba1760",
   "metadata": {},
   "source": [
    "### Type Error"
   ]
  },
  {
   "cell_type": "code",
   "execution_count": 28,
   "id": "d9c2a37b-4f27-4399-b7ae-03fe6190a73f",
   "metadata": {},
   "outputs": [],
   "source": [
    "# for the data analytics students\n",
    "\n",
    "num1_height = 180\n",
    "num2_height = 178\n",
    "\n",
    "avg_height = (num1_height + num2_height) / len([num1_height, num2_height])\n",
    "\n"
   ]
  },
  {
   "cell_type": "code",
   "execution_count": 30,
   "id": "7e30e1be-8bb0-4aa4-9456-a21e17f5e117",
   "metadata": {},
   "outputs": [
    {
     "data": {
      "text/plain": [
       "179.0"
      ]
     },
     "execution_count": 30,
     "metadata": {},
     "output_type": "execute_result"
    }
   ],
   "source": [
    "avg_height"
   ]
  },
  {
   "cell_type": "code",
   "execution_count": 32,
   "id": "c70271ca-29bc-4206-b796-2a2ea5a26349",
   "metadata": {},
   "outputs": [],
   "source": [
    "# for the data analytics students\n",
    "\n",
    "wbdev1_height = int(\"180\")\n",
    "wbdev2_height = int(\"178\")\n",
    "\n",
    "avg_height = (wbdev1_height + wbdev2_height) / len([wbdev1_height, wbdev2_height])\n",
    "\n"
   ]
  },
  {
   "cell_type": "code",
   "execution_count": 33,
   "id": "1a274ab9-e355-4cc9-987a-4a7a8f3e1950",
   "metadata": {},
   "outputs": [
    {
     "data": {
      "text/plain": [
       "179.0"
      ]
     },
     "execution_count": 33,
     "metadata": {},
     "output_type": "execute_result"
    }
   ],
   "source": [
    "avg_height"
   ]
  },
  {
   "cell_type": "markdown",
   "id": "e6846c1f-9a5e-46dd-b79d-2fab0ad9ec58",
   "metadata": {},
   "source": [
    "### Value Error"
   ]
  },
  {
   "cell_type": "code",
   "execution_count": 35,
   "id": "549a53f1-ce69-4bce-867e-36d3c9e94557",
   "metadata": {},
   "outputs": [
    {
     "ename": "ValueError",
     "evalue": "invalid literal for int() with base 10: 'abcd'",
     "output_type": "error",
     "traceback": [
      "\u001b[0;31m---------------------------------------------------------------------------\u001b[0m",
      "\u001b[0;31mValueError\u001b[0m                                Traceback (most recent call last)",
      "Cell \u001b[0;32mIn[35], line 2\u001b[0m\n\u001b[1;32m      1\u001b[0m num_str \u001b[38;5;241m=\u001b[39m \u001b[38;5;124m\"\u001b[39m\u001b[38;5;124mabcd\u001b[39m\u001b[38;5;124m\"\u001b[39m\n\u001b[0;32m----> 2\u001b[0m num_int \u001b[38;5;241m=\u001b[39m \u001b[38;5;28;43mint\u001b[39;49m\u001b[43m(\u001b[49m\u001b[43mnum_str\u001b[49m\u001b[43m)\u001b[49m\n\u001b[1;32m      4\u001b[0m \u001b[38;5;28mprint\u001b[39m(num_int)\n",
      "\u001b[0;31mValueError\u001b[0m: invalid literal for int() with base 10: 'abcd'"
     ]
    }
   ],
   "source": [
    "num_str = \"abcd\"\n",
    "num_int = int(num_str)\n",
    "\n",
    "print(num_int)"
   ]
  },
  {
   "cell_type": "code",
   "execution_count": null,
   "id": "8f9a879f-7a4d-40d3-b286-38bbbd816bbb",
   "metadata": {},
   "outputs": [],
   "source": [
    "num_str = "
   ]
  },
  {
   "cell_type": "markdown",
   "id": "43687876-b9f5-477a-bfef-07a40a7ad290",
   "metadata": {
    "lang": "en"
   },
   "source": [
    "## Error handling\n",
    "\n",
    "Error handling is an essential aspect of programming, as it allows you to anticipate and manage potential issues that may arise during program execution. \n",
    "\n",
    "In Python, error handling is achieved using try-except blocks, allowing you to gracefully handle exceptions and prevent unexpected program crashes. \n",
    "\n",
    "\n",
    "\n",
    "**Syntax of Try-Except Block:**\n",
    "```python\n",
    "try:\n",
    "    # Code that may raise an exception\n",
    "except SpecificExceptionType:\n",
    "    # Code to handle the specific exception\n",
    "except AnotherExceptionType:\n",
    "    # Code to handle another specific exception\n",
    "...\n",
    "else:\n",
    "    # Code that will run if no exception occurs\n",
    "finally:\n",
    "    # Code that will always run, regardless of exceptions\n",
    "```\n",
    "\n",
    "![](https://github.com/data-bootcamp-v4/lessons/blob/main/img/error-handling.png?raw=true)\n",
    "\n",
    "**Key Concepts:**\n",
    "\n",
    "1. **Exceptions:**\n",
    "   In Python, when an error occurs during program execution, it raises an exception. Exceptions are objects that represent errors and contain information about what went wrong.\n",
    "\n",
    "2. **Try-Except Block:**\n",
    "   The try-except block is used to handle exceptions in Python. The code that may raise an exception is placed inside the `try` block. If an exception occurs, it is caught and handled in the `except` block.\n",
    "\n",
    "3. **Handling Specific Exceptions:**\n",
    "   You can specify the type of exception you want to catch in the `except` block. This allows you to handle different types of errors differently and provide appropriate error messages.\n",
    "\n",
    "4. **The Else Block**:\n",
    "    The else block, if provided, will be executed only if no exceptions occur in the try block. It allows you to include code that should run when the try block completes successfully.\n",
    "\n",
    "5. **Finally Block:**\n",
    "   The `finally` block, if provided, will be executed regardless of whether an exception occurred or not. It is typically used to perform cleanup actions or close resources."
   ]
  },
  {
   "cell_type": "code",
   "execution_count": 83,
   "id": "7b5d8e6a-406b-417e-9e0b-95b218fa1cfb",
   "metadata": {},
   "outputs": [],
   "source": [
    "def divide_numbers( num_a , num_b):\n",
    "    \"\"\" Receives 2 numbers and divides the first by the second\"\"\"\n",
    "\n",
    "    # the main logic we want to do\n",
    "        try:\n",
    "            #num_a = float(num_a)\n",
    "            #num_b = float(num_b)\n",
    "            \n",
    "            result = num_a / num_b\n",
    "            print('first print of result: ',result)\n",
    "    \n",
    "        except ZeroDivisionError:\n",
    "    \n",
    "           return \"Error: I cannot divide by zero, select another value for input number 2\"\n",
    "            \n",
    "    \n",
    "        except ValueError:\n",
    "            return \"Please always input numerical caracters.\"\n",
    "    \n",
    "    \n",
    "        except:\n",
    "            return 'I do not know exactly what happened but it failed'\n",
    "    \n",
    "    \n",
    "        # this else only works when the try works\n",
    "        else:\n",
    "            print('Division was successful')\n",
    "            return result\n",
    "    \n",
    "    \n",
    "        # this finally works for when the try statement works OR it failed and entered the except buckets:\n",
    "        finally:\n",
    "            print('Operation has been completed')\n",
    "\n",
    "\n",
    "\n",
    "\n"
   ]
  },
  {
   "cell_type": "code",
   "execution_count": 84,
   "id": "d2db5c2a-d7fb-4b7e-b463-5f338ede0b07",
   "metadata": {},
   "outputs": [
    {
     "name": "stdout",
     "output_type": "stream",
     "text": [
      "first print of result:  5.0\n",
      "Division was successful\n",
      "Operation has been completed\n"
     ]
    },
    {
     "data": {
      "text/plain": [
       "5.0"
      ]
     },
     "execution_count": 84,
     "metadata": {},
     "output_type": "execute_result"
    }
   ],
   "source": [
    "divide_numbers( 10, 2)"
   ]
  },
  {
   "cell_type": "code",
   "execution_count": 71,
   "id": "de94fb37-b78c-4820-b004-c948c3ee022d",
   "metadata": {},
   "outputs": [
    {
     "name": "stdout",
     "output_type": "stream",
     "text": [
      "1 - I'm here\n",
      "2 - I'm here\n"
     ]
    },
    {
     "data": {
      "text/plain": [
       "2.0"
      ]
     },
     "execution_count": 71,
     "metadata": {},
     "output_type": "execute_result"
    }
   ],
   "source": [
    "divide_numbers( 2, 1) "
   ]
  },
  {
   "cell_type": "code",
   "execution_count": 86,
   "id": "342d70d0-03c5-45e1-8093-918a75921a60",
   "metadata": {},
   "outputs": [
    {
     "name": "stdout",
     "output_type": "stream",
     "text": [
      "1\n",
      "2\n",
      "3\n",
      "4\n"
     ]
    }
   ],
   "source": [
    "for i in range(1,5):\n",
    "    print(i)\n",
    "\n"
   ]
  },
  {
   "cell_type": "markdown",
   "id": "c40c2d67-98fe-496f-a5ac-47cb8f95d61b",
   "metadata": {},
   "source": [
    "### Except with no specific exception type\n",
    "\n",
    "The `except` block with no specific exception type (i.e., a general `except` block) is used to catch any exception that occurs in the `try` block that is not caught by previous `except` blocks with specific exception types.\n",
    "\n",
    "Here's the syntax of a general `except` block:\n",
    "\n",
    "```python\n",
    "try:\n",
    "    # Code that may raise an exception\n",
    "except SpecificExceptionType:\n",
    "    # Code to handle a specific exception\n",
    "except AnotherExceptionType:\n",
    "    # Code to handle another specific exception\n",
    "except:\n",
    "    # Code to handle any other exception (general catch-all)\n",
    "```\n"
   ]
  },
  {
   "cell_type": "code",
   "execution_count": null,
   "id": "4ebe8e29-5d0a-4bef-b0d2-640725fe955c",
   "metadata": {},
   "outputs": [],
   "source": []
  },
  {
   "cell_type": "markdown",
   "id": "6b0d1590-46e8-4fc4-b259-83c547918950",
   "metadata": {},
   "source": [
    "### Saving the error with the alias `as`\n",
    "\n",
    "We can also save in a variable the error returned by the Exception."
   ]
  },
  {
   "cell_type": "code",
   "execution_count": 107,
   "id": "df169c69-d514-4aa7-9193-0ec1fd6b24a3",
   "metadata": {},
   "outputs": [],
   "source": [
    "def append_upper(list_):\n",
    "\n",
    "    empty_list = []\n",
    "\n",
    "    for i in range(0,5):\n",
    "        \n",
    "        try:\n",
    "            print(list_[i])\n",
    "            # we are accessing the value by using the index position and then we are upper casing the value\n",
    "            empty_list.append( list_[i].upper() )\n",
    "\n",
    "\n",
    "        except Exception as var_a:\n",
    "            print(var_a)\n",
    "\n",
    "            empty_list.append(var_a)\n",
    "            \n",
    "\n",
    "    return empty_list"
   ]
  },
  {
   "cell_type": "code",
   "execution_count": 108,
   "id": "953845f4-4090-41b6-86b9-818b16de08c5",
   "metadata": {},
   "outputs": [
    {
     "name": "stdout",
     "output_type": "stream",
     "text": [
      "beatriz\n",
      "1245\n",
      "'int' object has no attribute 'upper'\n",
      "cledenir\n",
      "tolga\n",
      "list index out of range\n"
     ]
    }
   ],
   "source": [
    "var_result = append_upper([\"beatriz\", 1245, \"cledenir\", \"tolga\"])"
   ]
  },
  {
   "cell_type": "code",
   "execution_count": 109,
   "id": "3b8ebe23-3931-4bf5-9c2c-63420592a34f",
   "metadata": {},
   "outputs": [
    {
     "data": {
      "text/plain": [
       "['BEATRIZ',\n",
       " AttributeError(\"'int' object has no attribute 'upper'\"),\n",
       " 'CLEDENIR',\n",
       " 'TOLGA',\n",
       " IndexError('list index out of range')]"
      ]
     },
     "execution_count": 109,
     "metadata": {},
     "output_type": "execute_result"
    }
   ],
   "source": [
    "var_result"
   ]
  },
  {
   "cell_type": "markdown",
   "id": "19ea7b91-3524-4af1-afe9-0f7ce6162ab4",
   "metadata": {
    "lang": "en"
   },
   "source": [
    "## Raising errors\n",
    "\n",
    "In Python, you can use the `raise` keyword to intentionally create errors (exceptions). It allows you to handle exceptional cases and provide informative feedback when something unexpected occurs during program execution.\n",
    "\n",
    "**Syntax of Raising Errors:**\n",
    "```python\n",
    "raise ErrorType(\"Optional error message\")\n",
    "```\n"
   ]
  },
  {
   "cell_type": "code",
   "execution_count": 115,
   "id": "c02cdfe8-2963-4069-8b38-344a68da588d",
   "metadata": {},
   "outputs": [],
   "source": [
    "def process_transaction( invoice_value):\n",
    "\n",
    "    if invoice_value < 100000:\n",
    "        print('Invoice is going to be paid')\n",
    "\n",
    "    else:\n",
    "        raise Exception('Invoice value above 100K$. Please re-submit or re-check invoice')\n",
    "\n",
    "    return invoice_value"
   ]
  },
  {
   "cell_type": "code",
   "execution_count": 116,
   "id": "27ab19d2-bcd9-49b1-b169-4ae160fbaf44",
   "metadata": {},
   "outputs": [
    {
     "ename": "Exception",
     "evalue": "Invoice value above 100K$. Please re-submit or re-check invoice",
     "output_type": "error",
     "traceback": [
      "\u001b[0;31m---------------------------------------------------------------------------\u001b[0m",
      "\u001b[0;31mException\u001b[0m                                 Traceback (most recent call last)",
      "Cell \u001b[0;32mIn[116], line 1\u001b[0m\n\u001b[0;32m----> 1\u001b[0m \u001b[43mprocess_transaction\u001b[49m\u001b[43m(\u001b[49m\u001b[43m \u001b[49m\u001b[38;5;241;43m190000\u001b[39;49m\u001b[43m)\u001b[49m\n",
      "Cell \u001b[0;32mIn[115], line 7\u001b[0m, in \u001b[0;36mprocess_transaction\u001b[0;34m(invoice_value)\u001b[0m\n\u001b[1;32m      4\u001b[0m     \u001b[38;5;28mprint\u001b[39m(\u001b[38;5;124m'\u001b[39m\u001b[38;5;124mInvoice is going to be paid\u001b[39m\u001b[38;5;124m'\u001b[39m)\n\u001b[1;32m      6\u001b[0m \u001b[38;5;28;01melse\u001b[39;00m:\n\u001b[0;32m----> 7\u001b[0m     \u001b[38;5;28;01mraise\u001b[39;00m \u001b[38;5;167;01mException\u001b[39;00m(\u001b[38;5;124m'\u001b[39m\u001b[38;5;124mInvoice value above 100K$. Please re-submit or re-check invoice\u001b[39m\u001b[38;5;124m'\u001b[39m)\n\u001b[1;32m      9\u001b[0m \u001b[38;5;28;01mreturn\u001b[39;00m invoice_value\n",
      "\u001b[0;31mException\u001b[0m: Invoice value above 100K$. Please re-submit or re-check invoice"
     ]
    }
   ],
   "source": [
    "process_transaction( 190000)"
   ]
  },
  {
   "cell_type": "markdown",
   "id": "978fe672-e644-4f84-a672-403f24bf9460",
   "metadata": {},
   "source": [
    "## 💡 Check for understanding"
   ]
  },
  {
   "cell_type": "markdown",
   "id": "c15172f3-f59f-4fa5-90c8-c5b15a656ceb",
   "metadata": {},
   "source": [
    "1. Define a function called `calculate_statistics(data)` that takes a list of numerical data as input and returns a dictionary containing the following statistics:\n",
    "   - Mean (average) of the data.\n",
    "   - Median (middle value) of the data.\n",
    "   - Minimum value in the data.\n",
    "   - Maximum value in the data.\n",
    "\n",
    "Use a try-except block to handle possible errors. \n",
    "\n",
    "2. In the main part of the program:\n",
    "   - Prompt the user to enter a list of numerical values separated by spaces.\n",
    "   - Convert the user input into a list of floats using a list comprehension.\n",
    "   - Call the `calculate_statistics` function with the input data and display the calculated statistics in a readable format.\n",
    "\n"
   ]
  },
  {
   "cell_type": "code",
   "execution_count": null,
   "id": "82677dfd-142f-4873-b8df-b5a85cf33567",
   "metadata": {},
   "outputs": [],
   "source": [
    "# Your code goes here"
   ]
  },
  {
   "cell_type": "markdown",
   "id": "67ee2d8d-b418-4e37-9fea-3169dd8bb418",
   "metadata": {
    "lang": "en"
   },
   "source": [
    "## Summary\n"
   ]
  },
  {
   "cell_type": "markdown",
   "id": "99e9c59d-274c-4264-8010-6a01b2f6c987",
   "metadata": {},
   "source": [
    "- Exceptions are logical errors that disrupt the flow of your code.\n",
    "- Python uses 'try-except' blocks to prevent the program from breaking when an exception occurs.\n",
    "- These blocks can be customized to handle specific exceptions, like ValueError or TypeError, or can be used generally to catch all exceptions using 'except Exception'.\n",
    "- The 'raise' keyword allows programmers to intentionally trigger exceptions.\n",
    "- This feature is crucial when you need to ensure certain conditions in your code are met. If these conditions aren't met, the exception, coupled with a user-defined message, highlights the problem.\n",
    "- Regardless of your coding environment, whether it's the terminal or a Jupyter notebook, it's essential to read these exception messages. They offer important insights into what went wrong, enabling you to quickly identify and correct errors in your code.\n",
    " "
   ]
  },
  {
   "cell_type": "markdown",
   "id": "374d1b6a-22d9-47e6-abd4-9e3513a73bd1",
   "metadata": {
    "lang": "en"
   },
   "source": [
    "## Extra: Data validation with `assert`"
   ]
  },
  {
   "cell_type": "markdown",
   "id": "832a4880-042c-4e4e-bf97-62af0d9624c1",
   "metadata": {
    "lang": "en"
   },
   "source": [
    "Python provides a way to set enforceable conditions, that is, conditions that an object must meet or else an exception will be thrown. It is like a kind of \"safety net\" against possible failures of the programmer. The `assert` statement adds controls for debugging a program. It allows us to express a condition that must always be true, and that, if not, will interrupt the program, generating an exception to handle called AssertionError. The way to call this expression is as follows:\n",
    "```python\n",
    "assert boolean condition\n",
    "```\n",
    "In case the boolean expression is true, assert does nothing. If it is false, it throws an exception. Let's see an example to understand it."
   ]
  },
  {
   "cell_type": "code",
   "execution_count": null,
   "id": "b9ecaab8-4f0c-49a3-b3a8-094521654d21",
   "metadata": {},
   "outputs": [],
   "source": [
    "assert 1 == 2, \"condition is not true\""
   ]
  },
  {
   "cell_type": "code",
   "execution_count": null,
   "id": "d150780d-6520-4a07-b56f-6d97ccde98e4",
   "metadata": {},
   "outputs": [],
   "source": []
  },
  {
   "cell_type": "code",
   "execution_count": 120,
   "id": "4c1cd28f-fd93-403b-bdd8-00ceb9a761bb",
   "metadata": {},
   "outputs": [],
   "source": [
    "## You want to confirm that an object has always the expected keys inside:\n",
    "\n",
    "expected_keys = ['name', 'ih_id', 'course']\n",
    "\n",
    "beatriz_specific = ['beatriz', 12345, 'data_analytics']\n",
    "\n",
    "\n",
    "def create_user( student_info ):\n",
    "\n",
    "    student_dict = {}\n",
    "\n",
    "    student_dict['name'] = student_info[0]\n",
    "    student_dict['ih_id'] = student_info[1]\n",
    "    student_dict['course'] = student_info[2]\n",
    "\n",
    "    return student_dict"
   ]
  },
  {
   "cell_type": "code",
   "execution_count": 122,
   "id": "7aeeb67d-02cb-4dd6-a92e-d9d7d8a1d8d5",
   "metadata": {},
   "outputs": [
    {
     "data": {
      "text/plain": [
       "{'name': 'beatriz', 'ih_id': 12345, 'course': 'data_analytics'}"
      ]
     },
     "execution_count": 122,
     "metadata": {},
     "output_type": "execute_result"
    }
   ],
   "source": [
    "beatriz_dict = create_user(beatriz_specific)\n",
    "beatriz_dict"
   ]
  },
  {
   "cell_type": "code",
   "execution_count": 127,
   "id": "f54b2e1e-54ca-445e-be53-7cff87a26d40",
   "metadata": {},
   "outputs": [
    {
     "data": {
      "text/plain": [
       "['name', 'ih_id', 'course']"
      ]
     },
     "execution_count": 127,
     "metadata": {},
     "output_type": "execute_result"
    }
   ],
   "source": [
    "list(beatriz_dict.keys())"
   ]
  },
  {
   "cell_type": "code",
   "execution_count": 130,
   "id": "c9e836ae-3aa6-4a8b-b512-1687dd23d99c",
   "metadata": {},
   "outputs": [],
   "source": [
    "beatriz_dict['student_height'] = 164"
   ]
  },
  {
   "cell_type": "code",
   "execution_count": 131,
   "id": "e8a31853-41a0-4b0e-8690-1360340886b7",
   "metadata": {},
   "outputs": [
    {
     "ename": "AssertionError",
     "evalue": "dict keys are different than expected keys",
     "output_type": "error",
     "traceback": [
      "\u001b[0;31m---------------------------------------------------------------------------\u001b[0m",
      "\u001b[0;31mAssertionError\u001b[0m                            Traceback (most recent call last)",
      "Cell \u001b[0;32mIn[131], line 1\u001b[0m\n\u001b[0;32m----> 1\u001b[0m \u001b[38;5;28;01massert\u001b[39;00m \u001b[38;5;28mlist\u001b[39m(beatriz_dict\u001b[38;5;241m.\u001b[39mkeys()) \u001b[38;5;241m==\u001b[39m expected_keys, \u001b[38;5;124m'\u001b[39m\u001b[38;5;124mdict keys are different than expected keys\u001b[39m\u001b[38;5;124m'\u001b[39m\n",
      "\u001b[0;31mAssertionError\u001b[0m: dict keys are different than expected keys"
     ]
    }
   ],
   "source": [
    "assert list(beatriz_dict.keys()) == expected_keys, 'dict keys are different than expected keys'\n"
   ]
  },
  {
   "cell_type": "code",
   "execution_count": null,
   "id": "538edfd2-7941-45ec-a3e5-42e016f25a34",
   "metadata": {},
   "outputs": [],
   "source": []
  },
  {
   "cell_type": "code",
   "execution_count": null,
   "id": "a83c1184-8091-4615-b8da-96aca1bba5c9",
   "metadata": {},
   "outputs": [],
   "source": [
    "list_ = [0 , 1, 2, 3, 4, 3]"
   ]
  },
  {
   "cell_type": "code",
   "execution_count": null,
   "id": "725f87e4-46b9-43ca-a09a-796c5e16c2dc",
   "metadata": {},
   "outputs": [],
   "source": [
    "assert len(list_) == 5, \"this is not 5\""
   ]
  },
  {
   "cell_type": "code",
   "execution_count": null,
   "id": "2096e3ea-ed5b-4ba0-9438-bca442fb6e58",
   "metadata": {},
   "outputs": [],
   "source": [
    "result_test = 0\n",
    "result_of_your_function = 255\n",
    "\n",
    "assert result_test == result_of_your_function,  \"0 != 255\"\n",
    "\n",
    "# 0 != 255"
   ]
  },
  {
   "cell_type": "code",
   "execution_count": null,
   "id": "830f637a-f041-4b42-bd43-d9372ef6f828",
   "metadata": {},
   "outputs": [],
   "source": [
    "list_ = [1, 2, 3, 4, 5]\n",
    "\n",
    "new_list = []\n",
    "\n",
    "try:\n",
    "    for n in list_:\n",
    "        assert len(list_) > 3 #this is always met\n",
    "        print(list_)\n",
    "        new_list.append(list_.pop())\n",
    "    \n",
    "except AssertionError:\n",
    "        print(\"something\")\n",
    "\n",
    "print(new_list)"
   ]
  }
 ],
 "metadata": {
  "kernelspec": {
   "display_name": "Python 3 (ipykernel)",
   "language": "python",
   "name": "python3"
  },
  "language_info": {
   "codemirror_mode": {
    "name": "ipython",
    "version": 3
   },
   "file_extension": ".py",
   "mimetype": "text/x-python",
   "name": "python",
   "nbconvert_exporter": "python",
   "pygments_lexer": "ipython3",
   "version": "3.8.10"
  },
  "toc": {
   "base_numbering": 1,
   "nav_menu": {},
   "number_sections": true,
   "sideBar": true,
   "skip_h1_title": false,
   "title_cell": "Table of Contents",
   "title_sidebar": "Contents",
   "toc_cell": true,
   "toc_position": {},
   "toc_section_display": true,
   "toc_window_display": true
  }
 },
 "nbformat": 4,
 "nbformat_minor": 5
}
