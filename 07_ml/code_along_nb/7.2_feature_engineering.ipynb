<<<<<<< HEAD
{"cells":[{"cell_type":"markdown","metadata":{"id":"66pqqERbR_TC"},"source":["## Feature Engineering"]},{"cell_type":"markdown","metadata":{"id":"bNwm83KER_TF"},"source":["Feature Engineering is crucial in Machine Learning. It involves selecting, transforming, and creating features from raw data to improve model performance and interpretability. Effective feature engineering can significantly enhance the predictive power and generalization ability of machine learning models."]},{"cell_type":"markdown","metadata":{"id":"geU3scpzR_TF"},"source":["Yesterday, in the KNN Regression aproach, we saw a pretty poor model. Let's apply some feature engineering techniques to see if it improves our model."]},{"cell_type":"markdown","metadata":{"id":"cQFKrSS2R_TF"},"source":["#### Loading and preparing the data"]},{"cell_type":"code","execution_count":2,"metadata":{"id":"WQl3rX7NR_TF"},"outputs":[],"source":["from sklearn.datasets import  fetch_california_housing\n","import pandas as pd\n","import numpy as np\n","\n","import matplotlib.pyplot as plt\n","import seaborn as sns\n","\n","from sklearn.model_selection import train_test_split\n","from sklearn.neighbors import KNeighborsRegressor\n","\n","from sklearn.preprocessing import MinMaxScaler, StandardScaler"]},{"cell_type":"code","execution_count":3,"metadata":{"id":"XDLWGDmER_TG","outputId":"08f3e5b4-d48a-4f27-d30f-57a173d1561a"},"outputs":[],"source":["#your code here"]},{"cell_type":"markdown","metadata":{"id":"nEn564aKR_TH"},"source":["#### Checking for anomalies"]},{"cell_type":"code","execution_count":4,"metadata":{"id":"0VFrlJX3R_TH","outputId":"e08fc803-b08a-47f3-fdde-a4946ca9943f"},"outputs":[],"source":["#your code here"]},{"cell_type":"markdown","metadata":{"id":"mrVsJNFhR_TH"},"source":["#### Train Test Split"]},{"cell_type":"code","execution_count":5,"metadata":{"id":"5UOl_QkoR_TI"},"outputs":[],"source":["#your code here"]},{"cell_type":"markdown","metadata":{"id":"at4JizyDR_TI"},"source":["#### Normalization"]},{"cell_type":"markdown","metadata":{"id":"z06GELOUR_TI"},"source":["During normalization or standardization, it's essential to fit the model to the training data exclusively, preventing any exposure to the test data to avoid potential data leakage issues."]},{"cell_type":"markdown","metadata":{"id":"YmBD4IINR_TI"},"source":["Create an instance of the normalizer"]},{"cell_type":"code","execution_count":6,"metadata":{"id":"pOd3-i6FR_TI"},"outputs":[],"source":["#your code here"]},{"cell_type":"markdown","metadata":{"id":"4pUtjfWOR_TI"},"source":["Fit it to our training data"]},{"cell_type":"code","execution_count":7,"metadata":{"id":"iD3WJ6ZiR_TI","outputId":"aba0bca2-6bfb-4541-d49b-102b7e48be30"},"outputs":[],"source":["#your code here"]},{"cell_type":"markdown","metadata":{"id":"x6ihgRt2R_TI"},"source":["Transforming our training and testing data"]},{"cell_type":"code","execution_count":8,"metadata":{"id":"zTXrQY7UR_TI"},"outputs":[],"source":["#your code here"]},{"cell_type":"markdown","metadata":{"id":"L4xqkOQJR_TI"},"source":["When applying transformations of our dataframe, normalizer will return an array instead of a dataframe object"]},{"cell_type":"code","execution_count":9,"metadata":{"id":"f2D6j6ErR_TI","outputId":"f5382b58-26b9-4a3c-feb0-3d6d2e64b8fd"},"outputs":[],"source":["#your code here"]},{"cell_type":"code","execution_count":10,"metadata":{"id":"iIb89YdJR_TJ","outputId":"ab052281-a562-42ac-f8ac-1558075cd69a"},"outputs":[],"source":["#your code here"]},{"cell_type":"code","execution_count":11,"metadata":{"id":"BOiL_XdwR_TJ","outputId":"f752616c-57ca-42ec-e625-c1a910776320"},"outputs":[],"source":["#your code here"]},{"cell_type":"markdown","metadata":{"id":"iMZ5ouIsR_TJ"},"source":["##### KNN Regressor - modeling"]},{"cell_type":"markdown","metadata":{"id":"m9MQEw6qR_TJ"},"source":["Let's create an instance of KNN with the same hyperparameter as before, n_neighbors = 10."]},{"cell_type":"code","execution_count":12,"metadata":{"id":"hrB1f4B2R_TJ"},"outputs":[],"source":["#your code here"]},{"cell_type":"markdown","metadata":{"id":"14hd5Qq3R_TJ"},"source":["Training KNN to our normalized data"]},{"cell_type":"code","execution_count":13,"metadata":{"id":"zuImEavmR_TJ","outputId":"58acd191-3d3d-4af3-de29-cf5bab8852ea"},"outputs":[],"source":["#your code here"]},{"cell_type":"markdown","metadata":{"id":"R9zsbDM8R_TJ"},"source":["Evaluate model's performance"]},{"cell_type":"code","execution_count":14,"metadata":{"id":"oDQMWcvJR_TJ","outputId":"9d0745ec-f60e-4780-af35-828050bb5e26"},"outputs":[],"source":["#your code here"]},{"cell_type":"markdown","metadata":{"id":"OZ1nbY9zR_TJ"},"source":["With raw data we obtain a R2 of 0.16, just by normalizing our data, model's perfomance increase a lot to a R2 of 0.70.\n","\n","This happens because KNN is a distance based algorithm, so its suffers a lot with data in completely different scales."]},{"cell_type":"markdown","metadata":{"id":"kdEDyfxvR_TJ"},"source":["## Feature Selection"]},{"cell_type":"markdown","metadata":{"id":"9cA4MW1xR_TJ"},"source":["Even though normalizing our data had a huge impact on KNN performance, we are currently using every single feature of the dataset.\n","\n","Now let's do a selection of features based on correlactions between themselves but also with the target.\n","\n","We want low correlaction between features, but high correlaction between features and our target."]},{"cell_type":"code","execution_count":15,"metadata":{"id":"_p9kostgR_TJ","outputId":"9aa13ecf-1872-4b20-fd1a-f2291c890497"},"outputs":[],"source":["#your code here"]},{"cell_type":"markdown","metadata":{"id":"S1j-1wcPR_TJ"},"source":["By the correlation matrix we can see that:\n","- \"AveRooms\" is highly correlated with \"AveBedrms\", so we drop the one less correlated with our target\n","- \"AveOccup\" and \"Population\" also have pretty low correlation with our target variable, so lets remove them from our selected features"]},{"cell_type":"code","execution_count":16,"metadata":{"id":"kD2M3pasR_TK"},"outputs":[],"source":["#your code here"]},{"cell_type":"code","execution_count":17,"metadata":{"id":"qelLKY5kR_TN","outputId":"4cf1f5b9-ec8c-428e-8615-c633b7d089f7"},"outputs":[],"source":["#your code here"]},{"cell_type":"markdown","metadata":{"id":"L_pXy5Z4R_TN"},"source":["By normalizing our data and selecting a subset of available features, we were able to massively improve our model, increasing the R2 score from 0.16 to 0.70\n","\n","Notice that we still haven't fine-tuned our hyperparameter, so we will be able to improve even more our model."]}],"metadata":{"colab":{"provenance":[]},"kernelspec":{"display_name":"Python 3","language":"python","name":"python3"},"language_info":{"codemirror_mode":{"name":"ipython","version":3},"file_extension":".py","mimetype":"text/x-python","name":"python","nbconvert_exporter":"python","pygments_lexer":"ipython3","version":"3.10.9"}},"nbformat":4,"nbformat_minor":0}
=======
{
  "cells": [
    {
      "cell_type": "code",
      "execution_count": 1,
      "metadata": {
        "id": "W4oll1EPBrve"
      },
      "outputs": [],
      "source": [
        "import pandas as pd\n",
        "import numpy as np\n",
        "import matplotlib.pyplot as plt"
      ]
    },
    {
      "cell_type": "code",
      "execution_count": 17,
      "metadata": {
        "colab": {
          "base_uri": "https://localhost:8080/",
          "height": 206
        },
        "id": "rBFv9gHrBuYk",
        "outputId": "a4a49e74-f910-4133-c28a-4b3398943d89"
      },
      "outputs": [
        {
          "data": {
            "text/html": [
              "<div>\n",
              "<style scoped>\n",
              "    .dataframe tbody tr th:only-of-type {\n",
              "        vertical-align: middle;\n",
              "    }\n",
              "\n",
              "    .dataframe tbody tr th {\n",
              "        vertical-align: top;\n",
              "    }\n",
              "\n",
              "    .dataframe thead th {\n",
              "        text-align: right;\n",
              "    }\n",
              "</style>\n",
              "<table border=\"1\" class=\"dataframe\">\n",
              "  <thead>\n",
              "    <tr style=\"text-align: right;\">\n",
              "      <th></th>\n",
              "      <th>Salary</th>\n",
              "      <th>Experience</th>\n",
              "      <th>Gender</th>\n",
              "      <th>Height</th>\n",
              "      <th>Weight</th>\n",
              "      <th>Flexibility</th>\n",
              "      <th>Strenght</th>\n",
              "      <th>BMI</th>\n",
              "      <th>BirthC</th>\n",
              "      <th>Daltonic</th>\n",
              "      <th>Estrogen</th>\n",
              "    </tr>\n",
              "  </thead>\n",
              "  <tbody>\n",
              "    <tr>\n",
              "      <th>0</th>\n",
              "      <td>32064.17357</td>\n",
              "      <td>Senior</td>\n",
              "      <td>Female</td>\n",
              "      <td>160.189080</td>\n",
              "      <td>60.110733</td>\n",
              "      <td>230.467496</td>\n",
              "      <td>227.262099</td>\n",
              "      <td>16.748028</td>\n",
              "      <td>1</td>\n",
              "      <td>NaN</td>\n",
              "      <td>74.619024</td>\n",
              "    </tr>\n",
              "    <tr>\n",
              "      <th>1</th>\n",
              "      <td>17160.86833</td>\n",
              "      <td>Junior</td>\n",
              "      <td>Female</td>\n",
              "      <td>153.100363</td>\n",
              "      <td>61.932449</td>\n",
              "      <td>260.080909</td>\n",
              "      <td>244.758004</td>\n",
              "      <td>17.101780</td>\n",
              "      <td>1</td>\n",
              "      <td>NaN</td>\n",
              "      <td>74.581776</td>\n",
              "    </tr>\n",
              "    <tr>\n",
              "      <th>2</th>\n",
              "      <td>30940.22480</td>\n",
              "      <td>Senior</td>\n",
              "      <td>Female</td>\n",
              "      <td>166.949128</td>\n",
              "      <td>58.109921</td>\n",
              "      <td>237.047355</td>\n",
              "      <td>236.998125</td>\n",
              "      <td>17.085108</td>\n",
              "      <td>1</td>\n",
              "      <td>NaN</td>\n",
              "      <td>85.510909</td>\n",
              "    </tr>\n",
              "    <tr>\n",
              "      <th>3</th>\n",
              "      <td>21036.86527</td>\n",
              "      <td>Junior</td>\n",
              "      <td>Male</td>\n",
              "      <td>173.952647</td>\n",
              "      <td>75.975594</td>\n",
              "      <td>151.578682</td>\n",
              "      <td>287.952815</td>\n",
              "      <td>21.061525</td>\n",
              "      <td>0</td>\n",
              "      <td>Dychromassy</td>\n",
              "      <td>22.091243</td>\n",
              "    </tr>\n",
              "    <tr>\n",
              "      <th>4</th>\n",
              "      <td>18855.00061</td>\n",
              "      <td>Junior</td>\n",
              "      <td>Male</td>\n",
              "      <td>180.282763</td>\n",
              "      <td>75.418624</td>\n",
              "      <td>152.502660</td>\n",
              "      <td>283.185533</td>\n",
              "      <td>21.134343</td>\n",
              "      <td>0</td>\n",
              "      <td>Dychromassy</td>\n",
              "      <td>21.749843</td>\n",
              "    </tr>\n",
              "  </tbody>\n",
              "</table>\n",
              "</div>"
            ],
            "text/plain": [
              "        Salary Experience  Gender      Height     Weight  Flexibility  \\\n",
              "0  32064.17357     Senior  Female  160.189080  60.110733   230.467496   \n",
              "1  17160.86833     Junior  Female  153.100363  61.932449   260.080909   \n",
              "2  30940.22480     Senior  Female  166.949128  58.109921   237.047355   \n",
              "3  21036.86527     Junior    Male  173.952647  75.975594   151.578682   \n",
              "4  18855.00061     Junior    Male  180.282763  75.418624   152.502660   \n",
              "\n",
              "     Strenght        BMI  BirthC     Daltonic   Estrogen  \n",
              "0  227.262099  16.748028       1          NaN  74.619024  \n",
              "1  244.758004  17.101780       1          NaN  74.581776  \n",
              "2  236.998125  17.085108       1          NaN  85.510909  \n",
              "3  287.952815  21.061525       0  Dychromassy  22.091243  \n",
              "4  283.185533  21.134343       0  Dychromassy  21.749843  "
            ]
          },
          "execution_count": 17,
          "metadata": {},
          "output_type": "execute_result"
        }
      ],
      "source": [
        "# the following dataset emulates the joint information from a companies HR file and medical exam\n",
        "# our goal is to try to approximate salaries from this information\n",
        "# we have chosen to use a KNN regression\n",
        "salary = pd.read_csv('salaries.csv')\n",
        "salary.head()"
      ]
    },
    {
      "cell_type": "code",
      "execution_count": 18,
      "metadata": {
        "colab": {
          "base_uri": "https://localhost:8080/"
        },
        "id": "s9PQovX1Obyx",
        "outputId": "286b6356-d873-4967-c992-d0c5fd835a57"
      },
      "outputs": [
        {
          "data": {
            "text/plain": [
              "(200, 11)"
            ]
          },
          "execution_count": 18,
          "metadata": {},
          "output_type": "execute_result"
        }
      ],
      "source": [
        "salary.shape"
      ]
    },
    {
      "cell_type": "markdown",
      "metadata": {
        "id": "0v2b81CIOHbV"
      },
      "source": [
        "# Formal transformations"
      ]
    },
    {
      "cell_type": "markdown",
      "metadata": {},
      "source": [
        "### One Hot encoding"
      ]
    },
    {
      "cell_type": "markdown",
      "metadata": {},
      "source": [
        "##### So far we've 3 features that are with a categorical form\n",
        "\n",
        "- Experience\n",
        "- Gender\n",
        "- Daltonic"
      ]
    },
    {
      "cell_type": "code",
      "execution_count": 19,
      "metadata": {},
      "outputs": [
        {
          "data": {
            "text/plain": [
              "Gender\n",
              "Male      101\n",
              "Female     99\n",
              "Name: count, dtype: int64"
            ]
          },
          "execution_count": 19,
          "metadata": {},
          "output_type": "execute_result"
        }
      ],
      "source": [
        "salary['Gender'].value_counts()"
      ]
    },
    {
      "cell_type": "code",
      "execution_count": 20,
      "metadata": {
        "colab": {
          "base_uri": "https://localhost:8080/"
        },
        "id": "9ns2zeYjGHC7",
        "outputId": "c8e7bbc2-364d-43f2-f8e7-888bbd705661"
      },
      "outputs": [
        {
          "data": {
            "text/plain": [
              "Daltonic\n",
              "NaN              99\n",
              "Dychromassy      53\n",
              "Monochromassy    48\n",
              "Name: count, dtype: int64"
            ]
          },
          "execution_count": 20,
          "metadata": {},
          "output_type": "execute_result"
        }
      ],
      "source": [
        "salary['Daltonic'].value_counts(dropna=False)"
      ]
    },
    {
      "cell_type": "code",
      "execution_count": 35,
      "metadata": {
        "colab": {
          "base_uri": "https://localhost:8080/",
          "height": 206
        },
        "id": "awMDa2KpB5GO",
        "outputId": "439b9c0e-4d56-4e2a-ffb8-91afb049b3ad"
      },
      "outputs": [],
      "source": [
        "#since we only accept numeric values, we have to turn the categorical variables into numerics\n",
        "# you can also use sklearn.preprocessing.OneHotEncoder\n",
        "\n",
        "dalt_df = pd.get_dummies(salary['Daltonic'], prefix='Dalt', drop_first=False, dtype=int)"
      ]
    },
    {
      "cell_type": "code",
      "execution_count": 36,
      "metadata": {},
      "outputs": [
        {
          "data": {
            "text/plain": [
              "200"
            ]
          },
          "execution_count": 36,
          "metadata": {},
          "output_type": "execute_result"
        }
      ],
      "source": [
        "salary.shape[0]"
      ]
    },
    {
      "cell_type": "code",
      "execution_count": 37,
      "metadata": {},
      "outputs": [
        {
          "data": {
            "text/plain": [
              "200"
            ]
          },
          "execution_count": 37,
          "metadata": {},
          "output_type": "execute_result"
        }
      ],
      "source": [
        "dalt_df.shape[0]"
      ]
    },
    {
      "cell_type": "code",
      "execution_count": 38,
      "metadata": {},
      "outputs": [
        {
          "data": {
            "text/plain": [
              "True"
            ]
          },
          "execution_count": 38,
          "metadata": {},
          "output_type": "execute_result"
        }
      ],
      "source": [
        "salary.shape[0] == dalt_df.shape[0]"
      ]
    },
    {
      "cell_type": "code",
      "execution_count": 39,
      "metadata": {
        "colab": {
          "base_uri": "https://localhost:8080/",
          "height": 487
        },
        "id": "Kfz6ZMQIDDmX",
        "outputId": "c770e5b0-52b4-4f03-fc83-c990bccad748"
      },
      "outputs": [],
      "source": [
        "# Join data\n",
        "salary_transformed = pd.merge(\n",
        "    salary,\n",
        "    dalt_df,\n",
        "    left_index = True,\n",
        "    right_index= True\n",
        ")"
      ]
    },
    {
      "cell_type": "code",
      "execution_count": 40,
      "metadata": {},
      "outputs": [
        {
          "data": {
            "text/html": [
              "<div>\n",
              "<style scoped>\n",
              "    .dataframe tbody tr th:only-of-type {\n",
              "        vertical-align: middle;\n",
              "    }\n",
              "\n",
              "    .dataframe tbody tr th {\n",
              "        vertical-align: top;\n",
              "    }\n",
              "\n",
              "    .dataframe thead th {\n",
              "        text-align: right;\n",
              "    }\n",
              "</style>\n",
              "<table border=\"1\" class=\"dataframe\">\n",
              "  <thead>\n",
              "    <tr style=\"text-align: right;\">\n",
              "      <th></th>\n",
              "      <th>Salary</th>\n",
              "      <th>Experience</th>\n",
              "      <th>Gender</th>\n",
              "      <th>Height</th>\n",
              "      <th>Weight</th>\n",
              "      <th>Flexibility</th>\n",
              "      <th>Strenght</th>\n",
              "      <th>BMI</th>\n",
              "      <th>BirthC</th>\n",
              "      <th>Daltonic</th>\n",
              "      <th>Estrogen</th>\n",
              "      <th>Dalt_Dychromassy</th>\n",
              "      <th>Dalt_Monochromassy</th>\n",
              "    </tr>\n",
              "  </thead>\n",
              "  <tbody>\n",
              "    <tr>\n",
              "      <th>0</th>\n",
              "      <td>32064.17357</td>\n",
              "      <td>Senior</td>\n",
              "      <td>Female</td>\n",
              "      <td>160.189080</td>\n",
              "      <td>60.110733</td>\n",
              "      <td>230.467496</td>\n",
              "      <td>227.262099</td>\n",
              "      <td>16.748028</td>\n",
              "      <td>1</td>\n",
              "      <td>NaN</td>\n",
              "      <td>74.619024</td>\n",
              "      <td>0</td>\n",
              "      <td>0</td>\n",
              "    </tr>\n",
              "    <tr>\n",
              "      <th>1</th>\n",
              "      <td>17160.86833</td>\n",
              "      <td>Junior</td>\n",
              "      <td>Female</td>\n",
              "      <td>153.100363</td>\n",
              "      <td>61.932449</td>\n",
              "      <td>260.080909</td>\n",
              "      <td>244.758004</td>\n",
              "      <td>17.101780</td>\n",
              "      <td>1</td>\n",
              "      <td>NaN</td>\n",
              "      <td>74.581776</td>\n",
              "      <td>0</td>\n",
              "      <td>0</td>\n",
              "    </tr>\n",
              "    <tr>\n",
              "      <th>2</th>\n",
              "      <td>30940.22480</td>\n",
              "      <td>Senior</td>\n",
              "      <td>Female</td>\n",
              "      <td>166.949128</td>\n",
              "      <td>58.109921</td>\n",
              "      <td>237.047355</td>\n",
              "      <td>236.998125</td>\n",
              "      <td>17.085108</td>\n",
              "      <td>1</td>\n",
              "      <td>NaN</td>\n",
              "      <td>85.510909</td>\n",
              "      <td>0</td>\n",
              "      <td>0</td>\n",
              "    </tr>\n",
              "    <tr>\n",
              "      <th>3</th>\n",
              "      <td>21036.86527</td>\n",
              "      <td>Junior</td>\n",
              "      <td>Male</td>\n",
              "      <td>173.952647</td>\n",
              "      <td>75.975594</td>\n",
              "      <td>151.578682</td>\n",
              "      <td>287.952815</td>\n",
              "      <td>21.061525</td>\n",
              "      <td>0</td>\n",
              "      <td>Dychromassy</td>\n",
              "      <td>22.091243</td>\n",
              "      <td>1</td>\n",
              "      <td>0</td>\n",
              "    </tr>\n",
              "    <tr>\n",
              "      <th>4</th>\n",
              "      <td>18855.00061</td>\n",
              "      <td>Junior</td>\n",
              "      <td>Male</td>\n",
              "      <td>180.282763</td>\n",
              "      <td>75.418624</td>\n",
              "      <td>152.502660</td>\n",
              "      <td>283.185533</td>\n",
              "      <td>21.134343</td>\n",
              "      <td>0</td>\n",
              "      <td>Dychromassy</td>\n",
              "      <td>21.749843</td>\n",
              "      <td>1</td>\n",
              "      <td>0</td>\n",
              "    </tr>\n",
              "  </tbody>\n",
              "</table>\n",
              "</div>"
            ],
            "text/plain": [
              "        Salary Experience  Gender      Height     Weight  Flexibility  \\\n",
              "0  32064.17357     Senior  Female  160.189080  60.110733   230.467496   \n",
              "1  17160.86833     Junior  Female  153.100363  61.932449   260.080909   \n",
              "2  30940.22480     Senior  Female  166.949128  58.109921   237.047355   \n",
              "3  21036.86527     Junior    Male  173.952647  75.975594   151.578682   \n",
              "4  18855.00061     Junior    Male  180.282763  75.418624   152.502660   \n",
              "\n",
              "     Strenght        BMI  BirthC     Daltonic   Estrogen  Dalt_Dychromassy  \\\n",
              "0  227.262099  16.748028       1          NaN  74.619024                 0   \n",
              "1  244.758004  17.101780       1          NaN  74.581776                 0   \n",
              "2  236.998125  17.085108       1          NaN  85.510909                 0   \n",
              "3  287.952815  21.061525       0  Dychromassy  22.091243                 1   \n",
              "4  283.185533  21.134343       0  Dychromassy  21.749843                 1   \n",
              "\n",
              "   Dalt_Monochromassy  \n",
              "0                   0  \n",
              "1                   0  \n",
              "2                   0  \n",
              "3                   0  \n",
              "4                   0  "
            ]
          },
          "execution_count": 40,
          "metadata": {},
          "output_type": "execute_result"
        }
      ],
      "source": [
        "salary_transformed.head()"
      ]
    },
    {
      "cell_type": "code",
      "execution_count": 42,
      "metadata": {},
      "outputs": [],
      "source": [
        "salary_transformed.drop(columns = ['Daltonic'], inplace=True)"
      ]
    },
    {
      "cell_type": "code",
      "execution_count": 43,
      "metadata": {},
      "outputs": [
        {
          "data": {
            "text/html": [
              "<div>\n",
              "<style scoped>\n",
              "    .dataframe tbody tr th:only-of-type {\n",
              "        vertical-align: middle;\n",
              "    }\n",
              "\n",
              "    .dataframe tbody tr th {\n",
              "        vertical-align: top;\n",
              "    }\n",
              "\n",
              "    .dataframe thead th {\n",
              "        text-align: right;\n",
              "    }\n",
              "</style>\n",
              "<table border=\"1\" class=\"dataframe\">\n",
              "  <thead>\n",
              "    <tr style=\"text-align: right;\">\n",
              "      <th></th>\n",
              "      <th>Salary</th>\n",
              "      <th>Experience</th>\n",
              "      <th>Gender</th>\n",
              "      <th>Height</th>\n",
              "      <th>Weight</th>\n",
              "      <th>Flexibility</th>\n",
              "      <th>Strenght</th>\n",
              "      <th>BMI</th>\n",
              "      <th>BirthC</th>\n",
              "      <th>Estrogen</th>\n",
              "      <th>Dalt_Dychromassy</th>\n",
              "      <th>Dalt_Monochromassy</th>\n",
              "    </tr>\n",
              "  </thead>\n",
              "  <tbody>\n",
              "    <tr>\n",
              "      <th>0</th>\n",
              "      <td>32064.17357</td>\n",
              "      <td>Senior</td>\n",
              "      <td>Female</td>\n",
              "      <td>160.189080</td>\n",
              "      <td>60.110733</td>\n",
              "      <td>230.467496</td>\n",
              "      <td>227.262099</td>\n",
              "      <td>16.748028</td>\n",
              "      <td>1</td>\n",
              "      <td>74.619024</td>\n",
              "      <td>0</td>\n",
              "      <td>0</td>\n",
              "    </tr>\n",
              "    <tr>\n",
              "      <th>1</th>\n",
              "      <td>17160.86833</td>\n",
              "      <td>Junior</td>\n",
              "      <td>Female</td>\n",
              "      <td>153.100363</td>\n",
              "      <td>61.932449</td>\n",
              "      <td>260.080909</td>\n",
              "      <td>244.758004</td>\n",
              "      <td>17.101780</td>\n",
              "      <td>1</td>\n",
              "      <td>74.581776</td>\n",
              "      <td>0</td>\n",
              "      <td>0</td>\n",
              "    </tr>\n",
              "    <tr>\n",
              "      <th>2</th>\n",
              "      <td>30940.22480</td>\n",
              "      <td>Senior</td>\n",
              "      <td>Female</td>\n",
              "      <td>166.949128</td>\n",
              "      <td>58.109921</td>\n",
              "      <td>237.047355</td>\n",
              "      <td>236.998125</td>\n",
              "      <td>17.085108</td>\n",
              "      <td>1</td>\n",
              "      <td>85.510909</td>\n",
              "      <td>0</td>\n",
              "      <td>0</td>\n",
              "    </tr>\n",
              "    <tr>\n",
              "      <th>3</th>\n",
              "      <td>21036.86527</td>\n",
              "      <td>Junior</td>\n",
              "      <td>Male</td>\n",
              "      <td>173.952647</td>\n",
              "      <td>75.975594</td>\n",
              "      <td>151.578682</td>\n",
              "      <td>287.952815</td>\n",
              "      <td>21.061525</td>\n",
              "      <td>0</td>\n",
              "      <td>22.091243</td>\n",
              "      <td>1</td>\n",
              "      <td>0</td>\n",
              "    </tr>\n",
              "    <tr>\n",
              "      <th>4</th>\n",
              "      <td>18855.00061</td>\n",
              "      <td>Junior</td>\n",
              "      <td>Male</td>\n",
              "      <td>180.282763</td>\n",
              "      <td>75.418624</td>\n",
              "      <td>152.502660</td>\n",
              "      <td>283.185533</td>\n",
              "      <td>21.134343</td>\n",
              "      <td>0</td>\n",
              "      <td>21.749843</td>\n",
              "      <td>1</td>\n",
              "      <td>0</td>\n",
              "    </tr>\n",
              "  </tbody>\n",
              "</table>\n",
              "</div>"
            ],
            "text/plain": [
              "        Salary Experience  Gender      Height     Weight  Flexibility  \\\n",
              "0  32064.17357     Senior  Female  160.189080  60.110733   230.467496   \n",
              "1  17160.86833     Junior  Female  153.100363  61.932449   260.080909   \n",
              "2  30940.22480     Senior  Female  166.949128  58.109921   237.047355   \n",
              "3  21036.86527     Junior    Male  173.952647  75.975594   151.578682   \n",
              "4  18855.00061     Junior    Male  180.282763  75.418624   152.502660   \n",
              "\n",
              "     Strenght        BMI  BirthC   Estrogen  Dalt_Dychromassy  \\\n",
              "0  227.262099  16.748028       1  74.619024                 0   \n",
              "1  244.758004  17.101780       1  74.581776                 0   \n",
              "2  236.998125  17.085108       1  85.510909                 0   \n",
              "3  287.952815  21.061525       0  22.091243                 1   \n",
              "4  283.185533  21.134343       0  21.749843                 1   \n",
              "\n",
              "   Dalt_Monochromassy  \n",
              "0                   0  \n",
              "1                   0  \n",
              "2                   0  \n",
              "3                   0  \n",
              "4                   0  "
            ]
          },
          "execution_count": 43,
          "metadata": {},
          "output_type": "execute_result"
        }
      ],
      "source": [
        "salary_transformed.head()"
      ]
    },
    {
      "cell_type": "code",
      "execution_count": null,
      "metadata": {},
      "outputs": [],
      "source": []
    },
    {
      "cell_type": "markdown",
      "metadata": {},
      "source": [
        "### Label Encoding"
      ]
    },
    {
      "cell_type": "code",
      "execution_count": 45,
      "metadata": {
        "colab": {
          "base_uri": "https://localhost:8080/",
          "height": 270
        },
        "id": "OYkZCRN2DFXx",
        "outputId": "18b1eaa0-f5b2-4970-93ca-1f46d0277b96"
      },
      "outputs": [],
      "source": [
        "# label encoding - for when the categories need to be numbers but the values of those numbers do not matter\n",
        "# you can also use sklearn.preprocessing.LabelEncoder\n",
        "\n",
        "# First clean Experience column\n",
        "salary_transformed['Experience'] = salary_transformed['Experience'].replace({'Junior': 0, 'Senior': 1})"
      ]
    },
    {
      "cell_type": "code",
      "execution_count": 47,
      "metadata": {},
      "outputs": [],
      "source": [
        "# Now with gender:\n",
        "salary_transformed['Gender'] = salary_transformed['Gender'].replace( {'Female': 1, 'Male': 0}) \n"
      ]
    },
    {
      "cell_type": "code",
      "execution_count": 48,
      "metadata": {},
      "outputs": [
        {
          "data": {
            "text/html": [
              "<div>\n",
              "<style scoped>\n",
              "    .dataframe tbody tr th:only-of-type {\n",
              "        vertical-align: middle;\n",
              "    }\n",
              "\n",
              "    .dataframe tbody tr th {\n",
              "        vertical-align: top;\n",
              "    }\n",
              "\n",
              "    .dataframe thead th {\n",
              "        text-align: right;\n",
              "    }\n",
              "</style>\n",
              "<table border=\"1\" class=\"dataframe\">\n",
              "  <thead>\n",
              "    <tr style=\"text-align: right;\">\n",
              "      <th></th>\n",
              "      <th>Salary</th>\n",
              "      <th>Experience</th>\n",
              "      <th>Gender</th>\n",
              "      <th>Height</th>\n",
              "      <th>Weight</th>\n",
              "      <th>Flexibility</th>\n",
              "      <th>Strenght</th>\n",
              "      <th>BMI</th>\n",
              "      <th>BirthC</th>\n",
              "      <th>Estrogen</th>\n",
              "      <th>Dalt_Dychromassy</th>\n",
              "      <th>Dalt_Monochromassy</th>\n",
              "    </tr>\n",
              "  </thead>\n",
              "  <tbody>\n",
              "    <tr>\n",
              "      <th>0</th>\n",
              "      <td>32064.17357</td>\n",
              "      <td>1</td>\n",
              "      <td>1</td>\n",
              "      <td>160.189080</td>\n",
              "      <td>60.110733</td>\n",
              "      <td>230.467496</td>\n",
              "      <td>227.262099</td>\n",
              "      <td>16.748028</td>\n",
              "      <td>1</td>\n",
              "      <td>74.619024</td>\n",
              "      <td>0</td>\n",
              "      <td>0</td>\n",
              "    </tr>\n",
              "    <tr>\n",
              "      <th>1</th>\n",
              "      <td>17160.86833</td>\n",
              "      <td>0</td>\n",
              "      <td>1</td>\n",
              "      <td>153.100363</td>\n",
              "      <td>61.932449</td>\n",
              "      <td>260.080909</td>\n",
              "      <td>244.758004</td>\n",
              "      <td>17.101780</td>\n",
              "      <td>1</td>\n",
              "      <td>74.581776</td>\n",
              "      <td>0</td>\n",
              "      <td>0</td>\n",
              "    </tr>\n",
              "    <tr>\n",
              "      <th>2</th>\n",
              "      <td>30940.22480</td>\n",
              "      <td>1</td>\n",
              "      <td>1</td>\n",
              "      <td>166.949128</td>\n",
              "      <td>58.109921</td>\n",
              "      <td>237.047355</td>\n",
              "      <td>236.998125</td>\n",
              "      <td>17.085108</td>\n",
              "      <td>1</td>\n",
              "      <td>85.510909</td>\n",
              "      <td>0</td>\n",
              "      <td>0</td>\n",
              "    </tr>\n",
              "    <tr>\n",
              "      <th>3</th>\n",
              "      <td>21036.86527</td>\n",
              "      <td>0</td>\n",
              "      <td>0</td>\n",
              "      <td>173.952647</td>\n",
              "      <td>75.975594</td>\n",
              "      <td>151.578682</td>\n",
              "      <td>287.952815</td>\n",
              "      <td>21.061525</td>\n",
              "      <td>0</td>\n",
              "      <td>22.091243</td>\n",
              "      <td>1</td>\n",
              "      <td>0</td>\n",
              "    </tr>\n",
              "    <tr>\n",
              "      <th>4</th>\n",
              "      <td>18855.00061</td>\n",
              "      <td>0</td>\n",
              "      <td>0</td>\n",
              "      <td>180.282763</td>\n",
              "      <td>75.418624</td>\n",
              "      <td>152.502660</td>\n",
              "      <td>283.185533</td>\n",
              "      <td>21.134343</td>\n",
              "      <td>0</td>\n",
              "      <td>21.749843</td>\n",
              "      <td>1</td>\n",
              "      <td>0</td>\n",
              "    </tr>\n",
              "  </tbody>\n",
              "</table>\n",
              "</div>"
            ],
            "text/plain": [
              "        Salary  Experience  Gender      Height     Weight  Flexibility  \\\n",
              "0  32064.17357           1       1  160.189080  60.110733   230.467496   \n",
              "1  17160.86833           0       1  153.100363  61.932449   260.080909   \n",
              "2  30940.22480           1       1  166.949128  58.109921   237.047355   \n",
              "3  21036.86527           0       0  173.952647  75.975594   151.578682   \n",
              "4  18855.00061           0       0  180.282763  75.418624   152.502660   \n",
              "\n",
              "     Strenght        BMI  BirthC   Estrogen  Dalt_Dychromassy  \\\n",
              "0  227.262099  16.748028       1  74.619024                 0   \n",
              "1  244.758004  17.101780       1  74.581776                 0   \n",
              "2  236.998125  17.085108       1  85.510909                 0   \n",
              "3  287.952815  21.061525       0  22.091243                 1   \n",
              "4  283.185533  21.134343       0  21.749843                 1   \n",
              "\n",
              "   Dalt_Monochromassy  \n",
              "0                   0  \n",
              "1                   0  \n",
              "2                   0  \n",
              "3                   0  \n",
              "4                   0  "
            ]
          },
          "execution_count": 48,
          "metadata": {},
          "output_type": "execute_result"
        }
      ],
      "source": [
        "salary_transformed.head()"
      ]
    },
    {
      "cell_type": "markdown",
      "metadata": {},
      "source": [
        "### Binning"
      ]
    },
    {
      "cell_type": "code",
      "execution_count": 49,
      "metadata": {
        "colab": {
          "base_uri": "https://localhost:8080/"
        },
        "id": "gEP6NxYxudbN",
        "outputId": "5721a366-761e-4fe7-c56e-dd2244c5aab2"
      },
      "outputs": [
        {
          "data": {
            "text/plain": [
              "0           short\n",
              "1      very short\n",
              "2         average\n",
              "3            tall\n",
              "4       very tall\n",
              "          ...    \n",
              "195       average\n",
              "196     very tall\n",
              "197    very short\n",
              "198         short\n",
              "199          tall\n",
              "Name: Height, Length: 200, dtype: category\n",
              "Categories (5, object): ['very short' < 'short' < 'average' < 'tall' < 'very tall']"
            ]
          },
          "execution_count": 49,
          "metadata": {},
          "output_type": "execute_result"
        }
      ],
      "source": [
        "# your code here\n",
        "\n",
        "pd.cut(salary_transformed['Height'], 5, labels= ['very short', 'short', 'average', 'tall', 'very tall'])"
      ]
    },
    {
      "cell_type": "code",
      "execution_count": 52,
      "metadata": {},
      "outputs": [
        {
          "data": {
            "text/plain": [
              "<Axes: >"
            ]
          },
          "execution_count": 52,
          "metadata": {},
          "output_type": "execute_result"
        },
        {
          "data": {
            "image/png": "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",
            "text/plain": [
              "<Figure size 640x480 with 1 Axes>"
            ]
          },
          "metadata": {},
          "output_type": "display_data"
        }
      ],
      "source": [
        "salary_transformed['Height'].hist()"
      ]
    },
    {
      "cell_type": "code",
      "execution_count": null,
      "metadata": {
        "colab": {
          "base_uri": "https://localhost:8080/",
          "height": 270
        },
        "id": "TO7ZBPKfvjE6",
        "outputId": "f60a5a92-9e99-4a46-fb37-5e9ecc597c1f"
      },
      "outputs": [],
      "source": [
        "# your code here"
      ]
    },
    {
      "cell_type": "markdown",
      "metadata": {},
      "source": [
        "### Feature Selection"
      ]
    },
    {
      "cell_type": "code",
      "execution_count": 53,
      "metadata": {
        "colab": {
          "base_uri": "https://localhost:8080/",
          "height": 270
        },
        "id": "Jm3zu28ODID0",
        "outputId": "8b563e1c-3c66-4206-e9a2-21d7f7bf5f82"
      },
      "outputs": [
        {
          "data": {
            "text/html": [
              "<div>\n",
              "<style scoped>\n",
              "    .dataframe tbody tr th:only-of-type {\n",
              "        vertical-align: middle;\n",
              "    }\n",
              "\n",
              "    .dataframe tbody tr th {\n",
              "        vertical-align: top;\n",
              "    }\n",
              "\n",
              "    .dataframe thead th {\n",
              "        text-align: right;\n",
              "    }\n",
              "</style>\n",
              "<table border=\"1\" class=\"dataframe\">\n",
              "  <thead>\n",
              "    <tr style=\"text-align: right;\">\n",
              "      <th></th>\n",
              "      <th>Salary</th>\n",
              "      <th>Experience</th>\n",
              "      <th>Gender</th>\n",
              "      <th>Height</th>\n",
              "      <th>Weight</th>\n",
              "      <th>Flexibility</th>\n",
              "      <th>Strenght</th>\n",
              "      <th>BMI</th>\n",
              "      <th>BirthC</th>\n",
              "      <th>Estrogen</th>\n",
              "      <th>Dalt_Dychromassy</th>\n",
              "      <th>Dalt_Monochromassy</th>\n",
              "    </tr>\n",
              "  </thead>\n",
              "  <tbody>\n",
              "    <tr>\n",
              "      <th>0</th>\n",
              "      <td>32064.17357</td>\n",
              "      <td>1</td>\n",
              "      <td>1</td>\n",
              "      <td>160.189080</td>\n",
              "      <td>60.110733</td>\n",
              "      <td>230.467496</td>\n",
              "      <td>227.262099</td>\n",
              "      <td>16.748028</td>\n",
              "      <td>1</td>\n",
              "      <td>74.619024</td>\n",
              "      <td>0</td>\n",
              "      <td>0</td>\n",
              "    </tr>\n",
              "    <tr>\n",
              "      <th>1</th>\n",
              "      <td>17160.86833</td>\n",
              "      <td>0</td>\n",
              "      <td>1</td>\n",
              "      <td>153.100363</td>\n",
              "      <td>61.932449</td>\n",
              "      <td>260.080909</td>\n",
              "      <td>244.758004</td>\n",
              "      <td>17.101780</td>\n",
              "      <td>1</td>\n",
              "      <td>74.581776</td>\n",
              "      <td>0</td>\n",
              "      <td>0</td>\n",
              "    </tr>\n",
              "    <tr>\n",
              "      <th>2</th>\n",
              "      <td>30940.22480</td>\n",
              "      <td>1</td>\n",
              "      <td>1</td>\n",
              "      <td>166.949128</td>\n",
              "      <td>58.109921</td>\n",
              "      <td>237.047355</td>\n",
              "      <td>236.998125</td>\n",
              "      <td>17.085108</td>\n",
              "      <td>1</td>\n",
              "      <td>85.510909</td>\n",
              "      <td>0</td>\n",
              "      <td>0</td>\n",
              "    </tr>\n",
              "    <tr>\n",
              "      <th>3</th>\n",
              "      <td>21036.86527</td>\n",
              "      <td>0</td>\n",
              "      <td>0</td>\n",
              "      <td>173.952647</td>\n",
              "      <td>75.975594</td>\n",
              "      <td>151.578682</td>\n",
              "      <td>287.952815</td>\n",
              "      <td>21.061525</td>\n",
              "      <td>0</td>\n",
              "      <td>22.091243</td>\n",
              "      <td>1</td>\n",
              "      <td>0</td>\n",
              "    </tr>\n",
              "    <tr>\n",
              "      <th>4</th>\n",
              "      <td>18855.00061</td>\n",
              "      <td>0</td>\n",
              "      <td>0</td>\n",
              "      <td>180.282763</td>\n",
              "      <td>75.418624</td>\n",
              "      <td>152.502660</td>\n",
              "      <td>283.185533</td>\n",
              "      <td>21.134343</td>\n",
              "      <td>0</td>\n",
              "      <td>21.749843</td>\n",
              "      <td>1</td>\n",
              "      <td>0</td>\n",
              "    </tr>\n",
              "  </tbody>\n",
              "</table>\n",
              "</div>"
            ],
            "text/plain": [
              "        Salary  Experience  Gender      Height     Weight  Flexibility  \\\n",
              "0  32064.17357           1       1  160.189080  60.110733   230.467496   \n",
              "1  17160.86833           0       1  153.100363  61.932449   260.080909   \n",
              "2  30940.22480           1       1  166.949128  58.109921   237.047355   \n",
              "3  21036.86527           0       0  173.952647  75.975594   151.578682   \n",
              "4  18855.00061           0       0  180.282763  75.418624   152.502660   \n",
              "\n",
              "     Strenght        BMI  BirthC   Estrogen  Dalt_Dychromassy  \\\n",
              "0  227.262099  16.748028       1  74.619024                 0   \n",
              "1  244.758004  17.101780       1  74.581776                 0   \n",
              "2  236.998125  17.085108       1  85.510909                 0   \n",
              "3  287.952815  21.061525       0  22.091243                 1   \n",
              "4  283.185533  21.134343       0  21.749843                 1   \n",
              "\n",
              "   Dalt_Monochromassy  \n",
              "0                   0  \n",
              "1                   0  \n",
              "2                   0  \n",
              "3                   0  \n",
              "4                   0  "
            ]
          },
          "execution_count": 53,
          "metadata": {},
          "output_type": "execute_result"
        }
      ],
      "source": [
        "# we can now drop the non-numerics and keep only numeric columns\n",
        "salary_transformed.head()"
      ]
    },
    {
      "cell_type": "markdown",
      "metadata": {},
      "source": [
        "## ML Workflow"
      ]
    },
    {
      "cell_type": "markdown",
      "metadata": {},
      "source": [
        "#### Train Test Split"
      ]
    },
    {
      "cell_type": "code",
      "execution_count": null,
      "metadata": {
        "colab": {
          "base_uri": "https://localhost:8080/",
          "height": 305
        },
        "id": "g-8iZSgKW4oP",
        "outputId": "ec274513-5b7a-4d6d-d806-80cad5ef9432"
      },
      "outputs": [],
      "source": [
        "# now we will create the usual train-test splits\n",
        "# 1st Step - Train test split\n",
        "from sklearn.model_selection import train_test_split\n",
        "\n",
        "X_train, X_test, y_train, y_test = train_test_split(salary_transformed.drop(columns= ['Salary']) , salary_transformed['Salary'])"
      ]
    },
    {
      "cell_type": "code",
      "execution_count": 59,
      "metadata": {},
      "outputs": [
        {
          "data": {
            "text/html": [
              "<div>\n",
              "<style scoped>\n",
              "    .dataframe tbody tr th:only-of-type {\n",
              "        vertical-align: middle;\n",
              "    }\n",
              "\n",
              "    .dataframe tbody tr th {\n",
              "        vertical-align: top;\n",
              "    }\n",
              "\n",
              "    .dataframe thead th {\n",
              "        text-align: right;\n",
              "    }\n",
              "</style>\n",
              "<table border=\"1\" class=\"dataframe\">\n",
              "  <thead>\n",
              "    <tr style=\"text-align: right;\">\n",
              "      <th></th>\n",
              "      <th>Experience</th>\n",
              "      <th>Gender</th>\n",
              "      <th>Height</th>\n",
              "      <th>Weight</th>\n",
              "      <th>Flexibility</th>\n",
              "      <th>Strenght</th>\n",
              "      <th>BMI</th>\n",
              "      <th>BirthC</th>\n",
              "      <th>Estrogen</th>\n",
              "      <th>Dalt_Dychromassy</th>\n",
              "      <th>Dalt_Monochromassy</th>\n",
              "    </tr>\n",
              "  </thead>\n",
              "  <tbody>\n",
              "    <tr>\n",
              "      <th>151</th>\n",
              "      <td>1</td>\n",
              "      <td>0</td>\n",
              "      <td>172.082169</td>\n",
              "      <td>74.493871</td>\n",
              "      <td>155.865072</td>\n",
              "      <td>297.362430</td>\n",
              "      <td>20.687836</td>\n",
              "      <td>0</td>\n",
              "      <td>38.227479</td>\n",
              "      <td>1</td>\n",
              "      <td>0</td>\n",
              "    </tr>\n",
              "    <tr>\n",
              "      <th>78</th>\n",
              "      <td>0</td>\n",
              "      <td>1</td>\n",
              "      <td>160.229924</td>\n",
              "      <td>58.396466</td>\n",
              "      <td>251.113546</td>\n",
              "      <td>242.197543</td>\n",
              "      <td>16.838857</td>\n",
              "      <td>1</td>\n",
              "      <td>78.502634</td>\n",
              "      <td>0</td>\n",
              "      <td>0</td>\n",
              "    </tr>\n",
              "    <tr>\n",
              "      <th>67</th>\n",
              "      <td>0</td>\n",
              "      <td>0</td>\n",
              "      <td>167.065275</td>\n",
              "      <td>75.318809</td>\n",
              "      <td>143.833127</td>\n",
              "      <td>278.239918</td>\n",
              "      <td>21.364245</td>\n",
              "      <td>0</td>\n",
              "      <td>23.119205</td>\n",
              "      <td>0</td>\n",
              "      <td>1</td>\n",
              "    </tr>\n",
              "    <tr>\n",
              "      <th>180</th>\n",
              "      <td>1</td>\n",
              "      <td>0</td>\n",
              "      <td>169.980629</td>\n",
              "      <td>77.338248</td>\n",
              "      <td>145.420523</td>\n",
              "      <td>290.684120</td>\n",
              "      <td>21.014314</td>\n",
              "      <td>0</td>\n",
              "      <td>27.127027</td>\n",
              "      <td>1</td>\n",
              "      <td>0</td>\n",
              "    </tr>\n",
              "    <tr>\n",
              "      <th>126</th>\n",
              "      <td>0</td>\n",
              "      <td>0</td>\n",
              "      <td>171.259976</td>\n",
              "      <td>78.850788</td>\n",
              "      <td>155.987223</td>\n",
              "      <td>270.656088</td>\n",
              "      <td>20.992895</td>\n",
              "      <td>0</td>\n",
              "      <td>26.737261</td>\n",
              "      <td>0</td>\n",
              "      <td>1</td>\n",
              "    </tr>\n",
              "  </tbody>\n",
              "</table>\n",
              "</div>"
            ],
            "text/plain": [
              "     Experience  Gender      Height     Weight  Flexibility    Strenght  \\\n",
              "151           1       0  172.082169  74.493871   155.865072  297.362430   \n",
              "78            0       1  160.229924  58.396466   251.113546  242.197543   \n",
              "67            0       0  167.065275  75.318809   143.833127  278.239918   \n",
              "180           1       0  169.980629  77.338248   145.420523  290.684120   \n",
              "126           0       0  171.259976  78.850788   155.987223  270.656088   \n",
              "\n",
              "           BMI  BirthC   Estrogen  Dalt_Dychromassy  Dalt_Monochromassy  \n",
              "151  20.687836       0  38.227479                 1                   0  \n",
              "78   16.838857       1  78.502634                 0                   0  \n",
              "67   21.364245       0  23.119205                 0                   1  \n",
              "180  21.014314       0  27.127027                 1                   0  \n",
              "126  20.992895       0  26.737261                 0                   1  "
            ]
          },
          "execution_count": 59,
          "metadata": {},
          "output_type": "execute_result"
        }
      ],
      "source": [
        "X_train.head()"
      ]
    },
    {
      "cell_type": "code",
      "execution_count": 60,
      "metadata": {},
      "outputs": [
        {
          "data": {
            "text/plain": [
              "151    28403.76857\n",
              "78     16754.28692\n",
              "67     21096.74094\n",
              "180    27758.56537\n",
              "126    18427.04505\n",
              "          ...     \n",
              "64     19437.53692\n",
              "55     23862.51106\n",
              "23     32376.58654\n",
              "188    18716.19988\n",
              "134    18268.38050\n",
              "Name: Salary, Length: 150, dtype: float64"
            ]
          },
          "execution_count": 60,
          "metadata": {},
          "output_type": "execute_result"
        }
      ],
      "source": [
        "y_train"
      ]
    },
    {
      "cell_type": "code",
      "execution_count": 62,
      "metadata": {},
      "outputs": [
        {
          "data": {
            "text/html": [
              "<div>\n",
              "<style scoped>\n",
              "    .dataframe tbody tr th:only-of-type {\n",
              "        vertical-align: middle;\n",
              "    }\n",
              "\n",
              "    .dataframe tbody tr th {\n",
              "        vertical-align: top;\n",
              "    }\n",
              "\n",
              "    .dataframe thead th {\n",
              "        text-align: right;\n",
              "    }\n",
              "</style>\n",
              "<table border=\"1\" class=\"dataframe\">\n",
              "  <thead>\n",
              "    <tr style=\"text-align: right;\">\n",
              "      <th></th>\n",
              "      <th>Experience</th>\n",
              "      <th>Gender</th>\n",
              "      <th>Height</th>\n",
              "      <th>Weight</th>\n",
              "      <th>Flexibility</th>\n",
              "      <th>Strenght</th>\n",
              "      <th>BMI</th>\n",
              "      <th>BirthC</th>\n",
              "      <th>Estrogen</th>\n",
              "      <th>Dalt_Dychromassy</th>\n",
              "      <th>Dalt_Monochromassy</th>\n",
              "    </tr>\n",
              "  </thead>\n",
              "  <tbody>\n",
              "    <tr>\n",
              "      <th>197</th>\n",
              "      <td>0</td>\n",
              "      <td>1</td>\n",
              "      <td>155.145032</td>\n",
              "      <td>60.678250</td>\n",
              "      <td>256.835440</td>\n",
              "      <td>237.695512</td>\n",
              "      <td>17.206375</td>\n",
              "      <td>1</td>\n",
              "      <td>89.997758</td>\n",
              "      <td>0</td>\n",
              "      <td>0</td>\n",
              "    </tr>\n",
              "    <tr>\n",
              "      <th>39</th>\n",
              "      <td>1</td>\n",
              "      <td>1</td>\n",
              "      <td>156.975492</td>\n",
              "      <td>59.361570</td>\n",
              "      <td>233.463280</td>\n",
              "      <td>238.264813</td>\n",
              "      <td>16.906473</td>\n",
              "      <td>1</td>\n",
              "      <td>73.899216</td>\n",
              "      <td>0</td>\n",
              "      <td>0</td>\n",
              "    </tr>\n",
              "    <tr>\n",
              "      <th>165</th>\n",
              "      <td>0</td>\n",
              "      <td>0</td>\n",
              "      <td>166.164335</td>\n",
              "      <td>73.665095</td>\n",
              "      <td>151.312887</td>\n",
              "      <td>278.935306</td>\n",
              "      <td>20.888815</td>\n",
              "      <td>0</td>\n",
              "      <td>21.399421</td>\n",
              "      <td>0</td>\n",
              "      <td>1</td>\n",
              "    </tr>\n",
              "    <tr>\n",
              "      <th>7</th>\n",
              "      <td>1</td>\n",
              "      <td>1</td>\n",
              "      <td>167.547341</td>\n",
              "      <td>62.551188</td>\n",
              "      <td>241.467970</td>\n",
              "      <td>233.996195</td>\n",
              "      <td>17.241721</td>\n",
              "      <td>1</td>\n",
              "      <td>74.494835</td>\n",
              "      <td>0</td>\n",
              "      <td>0</td>\n",
              "    </tr>\n",
              "    <tr>\n",
              "      <th>61</th>\n",
              "      <td>0</td>\n",
              "      <td>0</td>\n",
              "      <td>178.791357</td>\n",
              "      <td>71.997537</td>\n",
              "      <td>150.533117</td>\n",
              "      <td>266.554634</td>\n",
              "      <td>21.051751</td>\n",
              "      <td>0</td>\n",
              "      <td>30.076617</td>\n",
              "      <td>0</td>\n",
              "      <td>1</td>\n",
              "    </tr>\n",
              "  </tbody>\n",
              "</table>\n",
              "</div>"
            ],
            "text/plain": [
              "     Experience  Gender      Height     Weight  Flexibility    Strenght  \\\n",
              "197           0       1  155.145032  60.678250   256.835440  237.695512   \n",
              "39            1       1  156.975492  59.361570   233.463280  238.264813   \n",
              "165           0       0  166.164335  73.665095   151.312887  278.935306   \n",
              "7             1       1  167.547341  62.551188   241.467970  233.996195   \n",
              "61            0       0  178.791357  71.997537   150.533117  266.554634   \n",
              "\n",
              "           BMI  BirthC   Estrogen  Dalt_Dychromassy  Dalt_Monochromassy  \n",
              "197  17.206375       1  89.997758                 0                   0  \n",
              "39   16.906473       1  73.899216                 0                   0  \n",
              "165  20.888815       0  21.399421                 0                   1  \n",
              "7    17.241721       1  74.494835                 0                   0  \n",
              "61   21.051751       0  30.076617                 0                   1  "
            ]
          },
          "execution_count": 62,
          "metadata": {},
          "output_type": "execute_result"
        }
      ],
      "source": [
        "X_test.head()"
      ]
    },
    {
      "cell_type": "code",
      "execution_count": 63,
      "metadata": {},
      "outputs": [
        {
          "data": {
            "text/plain": [
              "197    20806.61816\n",
              "39     28541.31073\n",
              "165    13539.09696\n",
              "7      32004.40358\n",
              "61     20189.43041\n",
              "124    28146.71803\n",
              "182    30262.18034\n",
              "81     18492.09158\n",
              "193    30316.12097\n",
              "120    20456.25856\n",
              "0      32064.17357\n",
              "179    25360.87935\n",
              "99     22615.35436\n",
              "103    20218.31183\n",
              "85     28323.03100\n",
              "107    21861.16491\n",
              "171    19526.06186\n",
              "194    31487.11054\n",
              "15     19694.85027\n",
              "40     30290.39204\n",
              "128    28864.84268\n",
              "79     26631.85415\n",
              "63     34017.02702\n",
              "19     21523.13140\n",
              "185    29505.50875\n",
              "14     31683.59025\n",
              "175    29322.75374\n",
              "32     35011.12381\n",
              "169    24701.01208\n",
              "148    19796.22265\n",
              "153    30069.97897\n",
              "73     17213.90890\n",
              "141    20528.24474\n",
              "17     27867.30303\n",
              "142    33724.45844\n",
              "22     28999.91370\n",
              "68     20908.84842\n",
              "190    29138.19701\n",
              "123    29940.82986\n",
              "94     28591.35093\n",
              "173    32688.67554\n",
              "181    35317.85842\n",
              "115    28821.86628\n",
              "50     19075.60403\n",
              "143    24874.53286\n",
              "116    31726.42665\n",
              "86     33774.33988\n",
              "158    15011.96080\n",
              "127    14561.47040\n",
              "25     25644.19311\n",
              "Name: Salary, dtype: float64"
            ]
          },
          "execution_count": 63,
          "metadata": {},
          "output_type": "execute_result"
        }
      ],
      "source": [
        "y_test"
      ]
    },
    {
      "cell_type": "markdown",
      "metadata": {},
      "source": []
    },
    {
      "cell_type": "markdown",
      "metadata": {},
      "source": [
        "#### Model creation"
      ]
    },
    {
      "cell_type": "code",
      "execution_count": 64,
      "metadata": {
        "id": "a33qj6ZLDqwQ"
      },
      "outputs": [],
      "source": [
        "# let's jump right to a model\n",
        "# notice the KNN regressor version\n",
        "from sklearn.neighbors import KNeighborsRegressor\n",
        "\n",
        "# create knn, don't forget Hyperparameter\n",
        "knn = KNeighborsRegressor(n_neighbors=3)"
      ]
    },
    {
      "cell_type": "code",
      "execution_count": 77,
      "metadata": {},
      "outputs": [
        {
          "data": {
            "text/html": [
              "<div>\n",
              "<style scoped>\n",
              "    .dataframe tbody tr th:only-of-type {\n",
              "        vertical-align: middle;\n",
              "    }\n",
              "\n",
              "    .dataframe tbody tr th {\n",
              "        vertical-align: top;\n",
              "    }\n",
              "\n",
              "    .dataframe thead th {\n",
              "        text-align: right;\n",
              "    }\n",
              "</style>\n",
              "<table border=\"1\" class=\"dataframe\">\n",
              "  <thead>\n",
              "    <tr style=\"text-align: right;\">\n",
              "      <th></th>\n",
              "      <th>Salary</th>\n",
              "      <th>Experience</th>\n",
              "      <th>Gender</th>\n",
              "      <th>Height</th>\n",
              "      <th>Weight</th>\n",
              "      <th>Flexibility</th>\n",
              "      <th>Strenght</th>\n",
              "      <th>BMI</th>\n",
              "      <th>BirthC</th>\n",
              "      <th>Estrogen</th>\n",
              "      <th>Dalt_Dychromassy</th>\n",
              "      <th>Dalt_Monochromassy</th>\n",
              "    </tr>\n",
              "  </thead>\n",
              "  <tbody>\n",
              "    <tr>\n",
              "      <th>0</th>\n",
              "      <td>32064.17357</td>\n",
              "      <td>1</td>\n",
              "      <td>1</td>\n",
              "      <td>160.189080</td>\n",
              "      <td>60.110733</td>\n",
              "      <td>230.467496</td>\n",
              "      <td>227.262099</td>\n",
              "      <td>16.748028</td>\n",
              "      <td>1</td>\n",
              "      <td>74.619024</td>\n",
              "      <td>0</td>\n",
              "      <td>0</td>\n",
              "    </tr>\n",
              "    <tr>\n",
              "      <th>1</th>\n",
              "      <td>17160.86833</td>\n",
              "      <td>0</td>\n",
              "      <td>1</td>\n",
              "      <td>153.100363</td>\n",
              "      <td>61.932449</td>\n",
              "      <td>260.080909</td>\n",
              "      <td>244.758004</td>\n",
              "      <td>17.101780</td>\n",
              "      <td>1</td>\n",
              "      <td>74.581776</td>\n",
              "      <td>0</td>\n",
              "      <td>0</td>\n",
              "    </tr>\n",
              "    <tr>\n",
              "      <th>2</th>\n",
              "      <td>30940.22480</td>\n",
              "      <td>1</td>\n",
              "      <td>1</td>\n",
              "      <td>166.949128</td>\n",
              "      <td>58.109921</td>\n",
              "      <td>237.047355</td>\n",
              "      <td>236.998125</td>\n",
              "      <td>17.085108</td>\n",
              "      <td>1</td>\n",
              "      <td>85.510909</td>\n",
              "      <td>0</td>\n",
              "      <td>0</td>\n",
              "    </tr>\n",
              "    <tr>\n",
              "      <th>3</th>\n",
              "      <td>21036.86527</td>\n",
              "      <td>0</td>\n",
              "      <td>0</td>\n",
              "      <td>173.952647</td>\n",
              "      <td>75.975594</td>\n",
              "      <td>151.578682</td>\n",
              "      <td>287.952815</td>\n",
              "      <td>21.061525</td>\n",
              "      <td>0</td>\n",
              "      <td>22.091243</td>\n",
              "      <td>1</td>\n",
              "      <td>0</td>\n",
              "    </tr>\n",
              "    <tr>\n",
              "      <th>4</th>\n",
              "      <td>18855.00061</td>\n",
              "      <td>0</td>\n",
              "      <td>0</td>\n",
              "      <td>180.282763</td>\n",
              "      <td>75.418624</td>\n",
              "      <td>152.502660</td>\n",
              "      <td>283.185533</td>\n",
              "      <td>21.134343</td>\n",
              "      <td>0</td>\n",
              "      <td>21.749843</td>\n",
              "      <td>1</td>\n",
              "      <td>0</td>\n",
              "    </tr>\n",
              "  </tbody>\n",
              "</table>\n",
              "</div>"
            ],
            "text/plain": [
              "        Salary  Experience  Gender      Height     Weight  Flexibility  \\\n",
              "0  32064.17357           1       1  160.189080  60.110733   230.467496   \n",
              "1  17160.86833           0       1  153.100363  61.932449   260.080909   \n",
              "2  30940.22480           1       1  166.949128  58.109921   237.047355   \n",
              "3  21036.86527           0       0  173.952647  75.975594   151.578682   \n",
              "4  18855.00061           0       0  180.282763  75.418624   152.502660   \n",
              "\n",
              "     Strenght        BMI  BirthC   Estrogen  Dalt_Dychromassy  \\\n",
              "0  227.262099  16.748028       1  74.619024                 0   \n",
              "1  244.758004  17.101780       1  74.581776                 0   \n",
              "2  236.998125  17.085108       1  85.510909                 0   \n",
              "3  287.952815  21.061525       0  22.091243                 1   \n",
              "4  283.185533  21.134343       0  21.749843                 1   \n",
              "\n",
              "   Dalt_Monochromassy  \n",
              "0                   0  \n",
              "1                   0  \n",
              "2                   0  \n",
              "3                   0  \n",
              "4                   0  "
            ]
          },
          "execution_count": 77,
          "metadata": {},
          "output_type": "execute_result"
        }
      ],
      "source": [
        "salary_transformed.head()"
      ]
    },
    {
      "cell_type": "markdown",
      "metadata": {},
      "source": [
        "#### Model Fit"
      ]
    },
    {
      "cell_type": "code",
      "execution_count": 66,
      "metadata": {
        "colab": {
          "base_uri": "https://localhost:8080/"
        },
        "id": "xpUX5OJwDsux",
        "outputId": "58e0cad3-8b23-47bb-85b2-81c6a1e45bd4"
      },
      "outputs": [
        {
          "data": {
            "text/html": [
              "<style>#sk-container-id-1 {color: black;}#sk-container-id-1 pre{padding: 0;}#sk-container-id-1 div.sk-toggleable {background-color: white;}#sk-container-id-1 label.sk-toggleable__label {cursor: pointer;display: block;width: 100%;margin-bottom: 0;padding: 0.3em;box-sizing: border-box;text-align: center;}#sk-container-id-1 label.sk-toggleable__label-arrow:before {content: \"▸\";float: left;margin-right: 0.25em;color: #696969;}#sk-container-id-1 label.sk-toggleable__label-arrow:hover:before {color: black;}#sk-container-id-1 div.sk-estimator:hover label.sk-toggleable__label-arrow:before {color: black;}#sk-container-id-1 div.sk-toggleable__content {max-height: 0;max-width: 0;overflow: hidden;text-align: left;background-color: #f0f8ff;}#sk-container-id-1 div.sk-toggleable__content pre {margin: 0.2em;color: black;border-radius: 0.25em;background-color: #f0f8ff;}#sk-container-id-1 input.sk-toggleable__control:checked~div.sk-toggleable__content {max-height: 200px;max-width: 100%;overflow: auto;}#sk-container-id-1 input.sk-toggleable__control:checked~label.sk-toggleable__label-arrow:before {content: \"▾\";}#sk-container-id-1 div.sk-estimator input.sk-toggleable__control:checked~label.sk-toggleable__label {background-color: #d4ebff;}#sk-container-id-1 div.sk-label input.sk-toggleable__control:checked~label.sk-toggleable__label {background-color: #d4ebff;}#sk-container-id-1 input.sk-hidden--visually {border: 0;clip: rect(1px 1px 1px 1px);clip: rect(1px, 1px, 1px, 1px);height: 1px;margin: -1px;overflow: hidden;padding: 0;position: absolute;width: 1px;}#sk-container-id-1 div.sk-estimator {font-family: monospace;background-color: #f0f8ff;border: 1px dotted black;border-radius: 0.25em;box-sizing: border-box;margin-bottom: 0.5em;}#sk-container-id-1 div.sk-estimator:hover {background-color: #d4ebff;}#sk-container-id-1 div.sk-parallel-item::after {content: \"\";width: 100%;border-bottom: 1px solid gray;flex-grow: 1;}#sk-container-id-1 div.sk-label:hover label.sk-toggleable__label {background-color: #d4ebff;}#sk-container-id-1 div.sk-serial::before {content: \"\";position: absolute;border-left: 1px solid gray;box-sizing: border-box;top: 0;bottom: 0;left: 50%;z-index: 0;}#sk-container-id-1 div.sk-serial {display: flex;flex-direction: column;align-items: center;background-color: white;padding-right: 0.2em;padding-left: 0.2em;position: relative;}#sk-container-id-1 div.sk-item {position: relative;z-index: 1;}#sk-container-id-1 div.sk-parallel {display: flex;align-items: stretch;justify-content: center;background-color: white;position: relative;}#sk-container-id-1 div.sk-item::before, #sk-container-id-1 div.sk-parallel-item::before {content: \"\";position: absolute;border-left: 1px solid gray;box-sizing: border-box;top: 0;bottom: 0;left: 50%;z-index: -1;}#sk-container-id-1 div.sk-parallel-item {display: flex;flex-direction: column;z-index: 1;position: relative;background-color: white;}#sk-container-id-1 div.sk-parallel-item:first-child::after {align-self: flex-end;width: 50%;}#sk-container-id-1 div.sk-parallel-item:last-child::after {align-self: flex-start;width: 50%;}#sk-container-id-1 div.sk-parallel-item:only-child::after {width: 0;}#sk-container-id-1 div.sk-dashed-wrapped {border: 1px dashed gray;margin: 0 0.4em 0.5em 0.4em;box-sizing: border-box;padding-bottom: 0.4em;background-color: white;}#sk-container-id-1 div.sk-label label {font-family: monospace;font-weight: bold;display: inline-block;line-height: 1.2em;}#sk-container-id-1 div.sk-label-container {text-align: center;}#sk-container-id-1 div.sk-container {/* jupyter's `normalize.less` sets `[hidden] { display: none; }` but bootstrap.min.css set `[hidden] { display: none !important; }` so we also need the `!important` here to be able to override the default hidden behavior on the sphinx rendered scikit-learn.org. See: https://github.com/scikit-learn/scikit-learn/issues/21755 */display: inline-block !important;position: relative;}#sk-container-id-1 div.sk-text-repr-fallback {display: none;}</style><div id=\"sk-container-id-1\" class=\"sk-top-container\"><div class=\"sk-text-repr-fallback\"><pre>KNeighborsRegressor(n_neighbors=3)</pre><b>In a Jupyter environment, please rerun this cell to show the HTML representation or trust the notebook. <br />On GitHub, the HTML representation is unable to render, please try loading this page with nbviewer.org.</b></div><div class=\"sk-container\" hidden><div class=\"sk-item\"><div class=\"sk-estimator sk-toggleable\"><input class=\"sk-toggleable__control sk-hidden--visually\" id=\"sk-estimator-id-1\" type=\"checkbox\" checked><label for=\"sk-estimator-id-1\" class=\"sk-toggleable__label sk-toggleable__label-arrow\">KNeighborsRegressor</label><div class=\"sk-toggleable__content\"><pre>KNeighborsRegressor(n_neighbors=3)</pre></div></div></div></div></div>"
            ],
            "text/plain": [
              "KNeighborsRegressor(n_neighbors=3)"
            ]
          },
          "execution_count": 66,
          "metadata": {},
          "output_type": "execute_result"
        }
      ],
      "source": [
        "# training the model on raw data\n",
        "knn.fit(X_train, y_train)"
      ]
    },
    {
      "cell_type": "markdown",
      "metadata": {},
      "source": [
        "#### Model predict"
      ]
    },
    {
      "cell_type": "code",
      "execution_count": 79,
      "metadata": {},
      "outputs": [
        {
          "data": {
            "text/html": [
              "<div>\n",
              "<style scoped>\n",
              "    .dataframe tbody tr th:only-of-type {\n",
              "        vertical-align: middle;\n",
              "    }\n",
              "\n",
              "    .dataframe tbody tr th {\n",
              "        vertical-align: top;\n",
              "    }\n",
              "\n",
              "    .dataframe thead th {\n",
              "        text-align: right;\n",
              "    }\n",
              "</style>\n",
              "<table border=\"1\" class=\"dataframe\">\n",
              "  <thead>\n",
              "    <tr style=\"text-align: right;\">\n",
              "      <th></th>\n",
              "      <th>Experience</th>\n",
              "      <th>Gender</th>\n",
              "      <th>Height</th>\n",
              "      <th>Weight</th>\n",
              "      <th>Flexibility</th>\n",
              "      <th>Strenght</th>\n",
              "      <th>BMI</th>\n",
              "      <th>BirthC</th>\n",
              "      <th>Estrogen</th>\n",
              "      <th>Dalt_Dychromassy</th>\n",
              "      <th>Dalt_Monochromassy</th>\n",
              "    </tr>\n",
              "  </thead>\n",
              "  <tbody>\n",
              "    <tr>\n",
              "      <th>197</th>\n",
              "      <td>0</td>\n",
              "      <td>1</td>\n",
              "      <td>155.145032</td>\n",
              "      <td>60.678250</td>\n",
              "      <td>256.835440</td>\n",
              "      <td>237.695512</td>\n",
              "      <td>17.206375</td>\n",
              "      <td>1</td>\n",
              "      <td>89.997758</td>\n",
              "      <td>0</td>\n",
              "      <td>0</td>\n",
              "    </tr>\n",
              "    <tr>\n",
              "      <th>39</th>\n",
              "      <td>1</td>\n",
              "      <td>1</td>\n",
              "      <td>156.975492</td>\n",
              "      <td>59.361570</td>\n",
              "      <td>233.463280</td>\n",
              "      <td>238.264813</td>\n",
              "      <td>16.906473</td>\n",
              "      <td>1</td>\n",
              "      <td>73.899216</td>\n",
              "      <td>0</td>\n",
              "      <td>0</td>\n",
              "    </tr>\n",
              "    <tr>\n",
              "      <th>165</th>\n",
              "      <td>0</td>\n",
              "      <td>0</td>\n",
              "      <td>166.164335</td>\n",
              "      <td>73.665095</td>\n",
              "      <td>151.312887</td>\n",
              "      <td>278.935306</td>\n",
              "      <td>20.888815</td>\n",
              "      <td>0</td>\n",
              "      <td>21.399421</td>\n",
              "      <td>0</td>\n",
              "      <td>1</td>\n",
              "    </tr>\n",
              "    <tr>\n",
              "      <th>7</th>\n",
              "      <td>1</td>\n",
              "      <td>1</td>\n",
              "      <td>167.547341</td>\n",
              "      <td>62.551188</td>\n",
              "      <td>241.467970</td>\n",
              "      <td>233.996195</td>\n",
              "      <td>17.241721</td>\n",
              "      <td>1</td>\n",
              "      <td>74.494835</td>\n",
              "      <td>0</td>\n",
              "      <td>0</td>\n",
              "    </tr>\n",
              "    <tr>\n",
              "      <th>61</th>\n",
              "      <td>0</td>\n",
              "      <td>0</td>\n",
              "      <td>178.791357</td>\n",
              "      <td>71.997537</td>\n",
              "      <td>150.533117</td>\n",
              "      <td>266.554634</td>\n",
              "      <td>21.051751</td>\n",
              "      <td>0</td>\n",
              "      <td>30.076617</td>\n",
              "      <td>0</td>\n",
              "      <td>1</td>\n",
              "    </tr>\n",
              "  </tbody>\n",
              "</table>\n",
              "</div>"
            ],
            "text/plain": [
              "     Experience  Gender      Height     Weight  Flexibility    Strenght  \\\n",
              "197           0       1  155.145032  60.678250   256.835440  237.695512   \n",
              "39            1       1  156.975492  59.361570   233.463280  238.264813   \n",
              "165           0       0  166.164335  73.665095   151.312887  278.935306   \n",
              "7             1       1  167.547341  62.551188   241.467970  233.996195   \n",
              "61            0       0  178.791357  71.997537   150.533117  266.554634   \n",
              "\n",
              "           BMI  BirthC   Estrogen  Dalt_Dychromassy  Dalt_Monochromassy  \n",
              "197  17.206375       1  89.997758                 0                   0  \n",
              "39   16.906473       1  73.899216                 0                   0  \n",
              "165  20.888815       0  21.399421                 0                   1  \n",
              "7    17.241721       1  74.494835                 0                   0  \n",
              "61   21.051751       0  30.076617                 0                   1  "
            ]
          },
          "execution_count": 79,
          "metadata": {},
          "output_type": "execute_result"
        }
      ],
      "source": [
        "X_test.head()"
      ]
    },
    {
      "cell_type": "code",
      "execution_count": 80,
      "metadata": {},
      "outputs": [
        {
          "data": {
            "text/plain": [
              "197    20806.61816\n",
              "39     28541.31073\n",
              "165    13539.09696\n",
              "7      32004.40358\n",
              "61     20189.43041\n",
              "124    28146.71803\n",
              "182    30262.18034\n",
              "81     18492.09158\n",
              "193    30316.12097\n",
              "120    20456.25856\n",
              "0      32064.17357\n",
              "179    25360.87935\n",
              "99     22615.35436\n",
              "103    20218.31183\n",
              "85     28323.03100\n",
              "107    21861.16491\n",
              "171    19526.06186\n",
              "194    31487.11054\n",
              "15     19694.85027\n",
              "40     30290.39204\n",
              "128    28864.84268\n",
              "79     26631.85415\n",
              "63     34017.02702\n",
              "19     21523.13140\n",
              "185    29505.50875\n",
              "14     31683.59025\n",
              "175    29322.75374\n",
              "32     35011.12381\n",
              "169    24701.01208\n",
              "148    19796.22265\n",
              "153    30069.97897\n",
              "73     17213.90890\n",
              "141    20528.24474\n",
              "17     27867.30303\n",
              "142    33724.45844\n",
              "22     28999.91370\n",
              "68     20908.84842\n",
              "190    29138.19701\n",
              "123    29940.82986\n",
              "94     28591.35093\n",
              "173    32688.67554\n",
              "181    35317.85842\n",
              "115    28821.86628\n",
              "50     19075.60403\n",
              "143    24874.53286\n",
              "116    31726.42665\n",
              "86     33774.33988\n",
              "158    15011.96080\n",
              "127    14561.47040\n",
              "25     25644.19311\n",
              "Name: Salary, dtype: float64"
            ]
          },
          "execution_count": 80,
          "metadata": {},
          "output_type": "execute_result"
        }
      ],
      "source": [
        "y_test"
      ]
    },
    {
      "cell_type": "code",
      "execution_count": 81,
      "metadata": {
        "colab": {
          "base_uri": "https://localhost:8080/"
        },
        "id": "Z33xrtDPNQX4",
        "outputId": "45383c2d-765d-47a3-c696-a20c43b64f89"
      },
      "outputs": [
        {
          "data": {
            "text/plain": [
              "array([24056.18426   , 25446.65651667, 25619.41349667, 23255.75277667,\n",
              "       26611.28558   ])"
            ]
          },
          "execution_count": 81,
          "metadata": {},
          "output_type": "execute_result"
        }
      ],
      "source": [
        "# testing algorithm on raw test\n",
        "y_pred = knn.predict(X_test)\n",
        "y_pred[:5]"
      ]
    },
    {
      "cell_type": "code",
      "execution_count": 73,
      "metadata": {},
      "outputs": [
        {
          "data": {
            "text/plain": [
              "197    20806.61816\n",
              "39     28541.31073\n",
              "165    13539.09696\n",
              "7      32004.40358\n",
              "61     20189.43041\n",
              "Name: Salary, dtype: float64"
            ]
          },
          "execution_count": 73,
          "metadata": {},
          "output_type": "execute_result"
        }
      ],
      "source": [
        "y_test[:5]"
      ]
    },
    {
      "cell_type": "markdown",
      "metadata": {},
      "source": [
        "##### Model score vs using metric"
      ]
    },
    {
      "cell_type": "code",
      "execution_count": 84,
      "metadata": {},
      "outputs": [
        {
          "name": "stdout",
          "output_type": "stream",
          "text": [
            "This is the result using model.score:  -0.04120683204432285\n"
          ]
        }
      ],
      "source": [
        "# this we are doing with the model.score\n",
        "print(\"This is the result using model.score: \", knn.score(X_test, y_test))\n"
      ]
    },
    {
      "cell_type": "code",
      "execution_count": 85,
      "metadata": {},
      "outputs": [
        {
          "name": "stdout",
          "output_type": "stream",
          "text": [
            "This is what's actually happening in the background: -0.04120683204432285\n"
          ]
        }
      ],
      "source": [
        "# this action is doing this:\n",
        "y_pred = knn.predict(X_test)\n",
        "# if it's a regression model\n",
        "from sklearn.metrics import r2_score\n",
        "r2_score(y_test, y_pred)\n",
        "print(\"This is what's actually happening in the background:\", r2_score(y_test, y_pred))\n",
        "\n"
      ]
    },
    {
      "cell_type": "markdown",
      "metadata": {},
      "source": [
        "##### For classification problems model.score calculates accuracy\n",
        "##### For regression problems model.score calculates r2_score (coefficient of determination)\n"
      ]
    },
    {
      "cell_type": "code",
      "execution_count": null,
      "metadata": {},
      "outputs": [],
      "source": []
    },
    {
      "attachments": {
        "image.png": {
          "image/png": "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"
        }
      },
      "cell_type": "markdown",
      "metadata": {},
      "source": [
        "#### Model metric - MSE\n",
        "\n",
        "![image.png](attachment:image.png)"
      ]
    },
    {
      "cell_type": "code",
      "execution_count": 74,
      "metadata": {
        "colab": {
          "base_uri": "https://localhost:8080/"
        },
        "id": "A2JXMV8VNMjN",
        "outputId": "2f112130-d216-4047-f31d-b53a774b3c68"
      },
      "outputs": [
        {
          "data": {
            "text/plain": [
              "34963531.49873303"
            ]
          },
          "execution_count": 74,
          "metadata": {},
          "output_type": "execute_result"
        }
      ],
      "source": [
        "from sklearn.metrics import mean_squared_error\n",
        "\n",
        "\n",
        "mse_salary = mean_squared_error(y_test, y_pred)\n",
        "mse_salary\n",
        "\n"
      ]
    },
    {
      "cell_type": "code",
      "execution_count": 75,
      "metadata": {},
      "outputs": [
        {
          "data": {
            "text/plain": [
              "5912.996828912817"
            ]
          },
          "execution_count": 75,
          "metadata": {},
          "output_type": "execute_result"
        }
      ],
      "source": [
        "np.sqrt(mse_salary)"
      ]
    },
    {
      "cell_type": "code",
      "execution_count": 76,
      "metadata": {},
      "outputs": [
        {
          "data": {
            "text/html": [
              "<div>\n",
              "<style scoped>\n",
              "    .dataframe tbody tr th:only-of-type {\n",
              "        vertical-align: middle;\n",
              "    }\n",
              "\n",
              "    .dataframe tbody tr th {\n",
              "        vertical-align: top;\n",
              "    }\n",
              "\n",
              "    .dataframe thead th {\n",
              "        text-align: right;\n",
              "    }\n",
              "</style>\n",
              "<table border=\"1\" class=\"dataframe\">\n",
              "  <thead>\n",
              "    <tr style=\"text-align: right;\">\n",
              "      <th></th>\n",
              "      <th>Salary</th>\n",
              "      <th>Experience</th>\n",
              "      <th>Gender</th>\n",
              "      <th>Height</th>\n",
              "      <th>Weight</th>\n",
              "      <th>Flexibility</th>\n",
              "      <th>Strenght</th>\n",
              "      <th>BMI</th>\n",
              "      <th>BirthC</th>\n",
              "      <th>Estrogen</th>\n",
              "      <th>Dalt_Dychromassy</th>\n",
              "      <th>Dalt_Monochromassy</th>\n",
              "    </tr>\n",
              "  </thead>\n",
              "  <tbody>\n",
              "    <tr>\n",
              "      <th>0</th>\n",
              "      <td>32064.17357</td>\n",
              "      <td>1</td>\n",
              "      <td>1</td>\n",
              "      <td>160.189080</td>\n",
              "      <td>60.110733</td>\n",
              "      <td>230.467496</td>\n",
              "      <td>227.262099</td>\n",
              "      <td>16.748028</td>\n",
              "      <td>1</td>\n",
              "      <td>74.619024</td>\n",
              "      <td>0</td>\n",
              "      <td>0</td>\n",
              "    </tr>\n",
              "    <tr>\n",
              "      <th>1</th>\n",
              "      <td>17160.86833</td>\n",
              "      <td>0</td>\n",
              "      <td>1</td>\n",
              "      <td>153.100363</td>\n",
              "      <td>61.932449</td>\n",
              "      <td>260.080909</td>\n",
              "      <td>244.758004</td>\n",
              "      <td>17.101780</td>\n",
              "      <td>1</td>\n",
              "      <td>74.581776</td>\n",
              "      <td>0</td>\n",
              "      <td>0</td>\n",
              "    </tr>\n",
              "    <tr>\n",
              "      <th>2</th>\n",
              "      <td>30940.22480</td>\n",
              "      <td>1</td>\n",
              "      <td>1</td>\n",
              "      <td>166.949128</td>\n",
              "      <td>58.109921</td>\n",
              "      <td>237.047355</td>\n",
              "      <td>236.998125</td>\n",
              "      <td>17.085108</td>\n",
              "      <td>1</td>\n",
              "      <td>85.510909</td>\n",
              "      <td>0</td>\n",
              "      <td>0</td>\n",
              "    </tr>\n",
              "    <tr>\n",
              "      <th>3</th>\n",
              "      <td>21036.86527</td>\n",
              "      <td>0</td>\n",
              "      <td>0</td>\n",
              "      <td>173.952647</td>\n",
              "      <td>75.975594</td>\n",
              "      <td>151.578682</td>\n",
              "      <td>287.952815</td>\n",
              "      <td>21.061525</td>\n",
              "      <td>0</td>\n",
              "      <td>22.091243</td>\n",
              "      <td>1</td>\n",
              "      <td>0</td>\n",
              "    </tr>\n",
              "    <tr>\n",
              "      <th>4</th>\n",
              "      <td>18855.00061</td>\n",
              "      <td>0</td>\n",
              "      <td>0</td>\n",
              "      <td>180.282763</td>\n",
              "      <td>75.418624</td>\n",
              "      <td>152.502660</td>\n",
              "      <td>283.185533</td>\n",
              "      <td>21.134343</td>\n",
              "      <td>0</td>\n",
              "      <td>21.749843</td>\n",
              "      <td>1</td>\n",
              "      <td>0</td>\n",
              "    </tr>\n",
              "  </tbody>\n",
              "</table>\n",
              "</div>"
            ],
            "text/plain": [
              "        Salary  Experience  Gender      Height     Weight  Flexibility  \\\n",
              "0  32064.17357           1       1  160.189080  60.110733   230.467496   \n",
              "1  17160.86833           0       1  153.100363  61.932449   260.080909   \n",
              "2  30940.22480           1       1  166.949128  58.109921   237.047355   \n",
              "3  21036.86527           0       0  173.952647  75.975594   151.578682   \n",
              "4  18855.00061           0       0  180.282763  75.418624   152.502660   \n",
              "\n",
              "     Strenght        BMI  BirthC   Estrogen  Dalt_Dychromassy  \\\n",
              "0  227.262099  16.748028       1  74.619024                 0   \n",
              "1  244.758004  17.101780       1  74.581776                 0   \n",
              "2  236.998125  17.085108       1  85.510909                 0   \n",
              "3  287.952815  21.061525       0  22.091243                 1   \n",
              "4  283.185533  21.134343       0  21.749843                 1   \n",
              "\n",
              "   Dalt_Monochromassy  \n",
              "0                   0  \n",
              "1                   0  \n",
              "2                   0  \n",
              "3                   0  \n",
              "4                   0  "
            ]
          },
          "execution_count": 76,
          "metadata": {},
          "output_type": "execute_result"
        }
      ],
      "source": [
        "salary_transformed.head()"
      ]
    },
    {
      "cell_type": "code",
      "execution_count": 86,
      "metadata": {},
      "outputs": [
        {
          "data": {
            "text/html": [
              "<div>\n",
              "<style scoped>\n",
              "    .dataframe tbody tr th:only-of-type {\n",
              "        vertical-align: middle;\n",
              "    }\n",
              "\n",
              "    .dataframe tbody tr th {\n",
              "        vertical-align: top;\n",
              "    }\n",
              "\n",
              "    .dataframe thead th {\n",
              "        text-align: right;\n",
              "    }\n",
              "</style>\n",
              "<table border=\"1\" class=\"dataframe\">\n",
              "  <thead>\n",
              "    <tr style=\"text-align: right;\">\n",
              "      <th></th>\n",
              "      <th>Experience</th>\n",
              "      <th>Gender</th>\n",
              "      <th>Height</th>\n",
              "      <th>Weight</th>\n",
              "      <th>Flexibility</th>\n",
              "      <th>Strenght</th>\n",
              "      <th>BMI</th>\n",
              "      <th>BirthC</th>\n",
              "      <th>Estrogen</th>\n",
              "      <th>Dalt_Dychromassy</th>\n",
              "      <th>Dalt_Monochromassy</th>\n",
              "    </tr>\n",
              "  </thead>\n",
              "  <tbody>\n",
              "    <tr>\n",
              "      <th>151</th>\n",
              "      <td>1</td>\n",
              "      <td>0</td>\n",
              "      <td>172.082169</td>\n",
              "      <td>74.493871</td>\n",
              "      <td>155.865072</td>\n",
              "      <td>297.362430</td>\n",
              "      <td>20.687836</td>\n",
              "      <td>0</td>\n",
              "      <td>38.227479</td>\n",
              "      <td>1</td>\n",
              "      <td>0</td>\n",
              "    </tr>\n",
              "    <tr>\n",
              "      <th>78</th>\n",
              "      <td>0</td>\n",
              "      <td>1</td>\n",
              "      <td>160.229924</td>\n",
              "      <td>58.396466</td>\n",
              "      <td>251.113546</td>\n",
              "      <td>242.197543</td>\n",
              "      <td>16.838857</td>\n",
              "      <td>1</td>\n",
              "      <td>78.502634</td>\n",
              "      <td>0</td>\n",
              "      <td>0</td>\n",
              "    </tr>\n",
              "    <tr>\n",
              "      <th>67</th>\n",
              "      <td>0</td>\n",
              "      <td>0</td>\n",
              "      <td>167.065275</td>\n",
              "      <td>75.318809</td>\n",
              "      <td>143.833127</td>\n",
              "      <td>278.239918</td>\n",
              "      <td>21.364245</td>\n",
              "      <td>0</td>\n",
              "      <td>23.119205</td>\n",
              "      <td>0</td>\n",
              "      <td>1</td>\n",
              "    </tr>\n",
              "    <tr>\n",
              "      <th>180</th>\n",
              "      <td>1</td>\n",
              "      <td>0</td>\n",
              "      <td>169.980629</td>\n",
              "      <td>77.338248</td>\n",
              "      <td>145.420523</td>\n",
              "      <td>290.684120</td>\n",
              "      <td>21.014314</td>\n",
              "      <td>0</td>\n",
              "      <td>27.127027</td>\n",
              "      <td>1</td>\n",
              "      <td>0</td>\n",
              "    </tr>\n",
              "    <tr>\n",
              "      <th>126</th>\n",
              "      <td>0</td>\n",
              "      <td>0</td>\n",
              "      <td>171.259976</td>\n",
              "      <td>78.850788</td>\n",
              "      <td>155.987223</td>\n",
              "      <td>270.656088</td>\n",
              "      <td>20.992895</td>\n",
              "      <td>0</td>\n",
              "      <td>26.737261</td>\n",
              "      <td>0</td>\n",
              "      <td>1</td>\n",
              "    </tr>\n",
              "  </tbody>\n",
              "</table>\n",
              "</div>"
            ],
            "text/plain": [
              "     Experience  Gender      Height     Weight  Flexibility    Strenght  \\\n",
              "151           1       0  172.082169  74.493871   155.865072  297.362430   \n",
              "78            0       1  160.229924  58.396466   251.113546  242.197543   \n",
              "67            0       0  167.065275  75.318809   143.833127  278.239918   \n",
              "180           1       0  169.980629  77.338248   145.420523  290.684120   \n",
              "126           0       0  171.259976  78.850788   155.987223  270.656088   \n",
              "\n",
              "           BMI  BirthC   Estrogen  Dalt_Dychromassy  Dalt_Monochromassy  \n",
              "151  20.687836       0  38.227479                 1                   0  \n",
              "78   16.838857       1  78.502634                 0                   0  \n",
              "67   21.364245       0  23.119205                 0                   1  \n",
              "180  21.014314       0  27.127027                 1                   0  \n",
              "126  20.992895       0  26.737261                 0                   1  "
            ]
          },
          "execution_count": 86,
          "metadata": {},
          "output_type": "execute_result"
        }
      ],
      "source": [
        "X_train.head()"
      ]
    },
    {
      "cell_type": "code",
      "execution_count": null,
      "metadata": {},
      "outputs": [],
      "source": [
        "# Descriptive Stats:\n",
        "# mean\n",
        "# median\n",
        "# mode\n",
        "# range\n",
        "# std - standard deviation\n",
        "# coefficient of variation\n",
        "# min \n",
        "# max\n",
        "# Quartiles\n",
        "# percentiles\n"
      ]
    },
    {
      "cell_type": "code",
      "execution_count": 87,
      "metadata": {},
      "outputs": [
        {
          "data": {
            "text/html": [
              "<div>\n",
              "<style scoped>\n",
              "    .dataframe tbody tr th:only-of-type {\n",
              "        vertical-align: middle;\n",
              "    }\n",
              "\n",
              "    .dataframe tbody tr th {\n",
              "        vertical-align: top;\n",
              "    }\n",
              "\n",
              "    .dataframe thead th {\n",
              "        text-align: right;\n",
              "    }\n",
              "</style>\n",
              "<table border=\"1\" class=\"dataframe\">\n",
              "  <thead>\n",
              "    <tr style=\"text-align: right;\">\n",
              "      <th></th>\n",
              "      <th>Salary</th>\n",
              "      <th>Experience</th>\n",
              "      <th>Gender</th>\n",
              "      <th>Height</th>\n",
              "      <th>Weight</th>\n",
              "      <th>Flexibility</th>\n",
              "      <th>Strenght</th>\n",
              "      <th>BMI</th>\n",
              "      <th>BirthC</th>\n",
              "      <th>Estrogen</th>\n",
              "      <th>Dalt_Dychromassy</th>\n",
              "      <th>Dalt_Monochromassy</th>\n",
              "    </tr>\n",
              "  </thead>\n",
              "  <tbody>\n",
              "    <tr>\n",
              "      <th>count</th>\n",
              "      <td>200.000000</td>\n",
              "      <td>200.000000</td>\n",
              "      <td>200.00000</td>\n",
              "      <td>200.000000</td>\n",
              "      <td>200.000000</td>\n",
              "      <td>200.000000</td>\n",
              "      <td>200.000000</td>\n",
              "      <td>200.000000</td>\n",
              "      <td>200.000000</td>\n",
              "      <td>200.000000</td>\n",
              "      <td>200.000000</td>\n",
              "      <td>200.000000</td>\n",
              "    </tr>\n",
              "    <tr>\n",
              "      <th>mean</th>\n",
              "      <td>24945.531069</td>\n",
              "      <td>0.520000</td>\n",
              "      <td>0.49500</td>\n",
              "      <td>167.828940</td>\n",
              "      <td>67.665904</td>\n",
              "      <td>195.876193</td>\n",
              "      <td>262.036463</td>\n",
              "      <td>19.045108</td>\n",
              "      <td>0.475000</td>\n",
              "      <td>55.283469</td>\n",
              "      <td>0.265000</td>\n",
              "      <td>0.240000</td>\n",
              "    </tr>\n",
              "    <tr>\n",
              "      <th>std</th>\n",
              "      <td>5736.485353</td>\n",
              "      <td>0.500854</td>\n",
              "      <td>0.50123</td>\n",
              "      <td>9.213061</td>\n",
              "      <td>7.935728</td>\n",
              "      <td>45.573897</td>\n",
              "      <td>25.261806</td>\n",
              "      <td>2.038495</td>\n",
              "      <td>0.500628</td>\n",
              "      <td>25.743512</td>\n",
              "      <td>0.442441</td>\n",
              "      <td>0.428155</td>\n",
              "    </tr>\n",
              "    <tr>\n",
              "      <th>min</th>\n",
              "      <td>13539.096960</td>\n",
              "      <td>0.000000</td>\n",
              "      <td>0.00000</td>\n",
              "      <td>147.163544</td>\n",
              "      <td>54.984293</td>\n",
              "      <td>130.766141</td>\n",
              "      <td>216.339372</td>\n",
              "      <td>16.336520</td>\n",
              "      <td>0.000000</td>\n",
              "      <td>19.170801</td>\n",
              "      <td>0.000000</td>\n",
              "      <td>0.000000</td>\n",
              "    </tr>\n",
              "    <tr>\n",
              "      <th>25%</th>\n",
              "      <td>19821.142833</td>\n",
              "      <td>0.000000</td>\n",
              "      <td>0.00000</td>\n",
              "      <td>160.369929</td>\n",
              "      <td>59.953004</td>\n",
              "      <td>151.409982</td>\n",
              "      <td>238.806054</td>\n",
              "      <td>17.064398</td>\n",
              "      <td>0.000000</td>\n",
              "      <td>30.103000</td>\n",
              "      <td>0.000000</td>\n",
              "      <td>0.000000</td>\n",
              "    </tr>\n",
              "    <tr>\n",
              "      <th>50%</th>\n",
              "      <td>24566.164700</td>\n",
              "      <td>1.000000</td>\n",
              "      <td>0.00000</td>\n",
              "      <td>167.911765</td>\n",
              "      <td>70.783838</td>\n",
              "      <td>169.560352</td>\n",
              "      <td>263.872022</td>\n",
              "      <td>20.238410</td>\n",
              "      <td>0.000000</td>\n",
              "      <td>41.912451</td>\n",
              "      <td>0.000000</td>\n",
              "      <td>0.000000</td>\n",
              "    </tr>\n",
              "    <tr>\n",
              "      <th>75%</th>\n",
              "      <td>29869.144700</td>\n",
              "      <td>1.000000</td>\n",
              "      <td>1.00000</td>\n",
              "      <td>174.978838</td>\n",
              "      <td>75.029274</td>\n",
              "      <td>240.055744</td>\n",
              "      <td>283.741327</td>\n",
              "      <td>21.030361</td>\n",
              "      <td>1.000000</td>\n",
              "      <td>81.018662</td>\n",
              "      <td>1.000000</td>\n",
              "      <td>0.000000</td>\n",
              "    </tr>\n",
              "    <tr>\n",
              "      <th>max</th>\n",
              "      <td>35317.858420</td>\n",
              "      <td>1.000000</td>\n",
              "      <td>1.00000</td>\n",
              "      <td>187.750789</td>\n",
              "      <td>79.816476</td>\n",
              "      <td>263.497104</td>\n",
              "      <td>309.800073</td>\n",
              "      <td>21.858290</td>\n",
              "      <td>1.000000</td>\n",
              "      <td>91.361100</td>\n",
              "      <td>1.000000</td>\n",
              "      <td>1.000000</td>\n",
              "    </tr>\n",
              "  </tbody>\n",
              "</table>\n",
              "</div>"
            ],
            "text/plain": [
              "             Salary  Experience     Gender      Height      Weight  \\\n",
              "count    200.000000  200.000000  200.00000  200.000000  200.000000   \n",
              "mean   24945.531069    0.520000    0.49500  167.828940   67.665904   \n",
              "std     5736.485353    0.500854    0.50123    9.213061    7.935728   \n",
              "min    13539.096960    0.000000    0.00000  147.163544   54.984293   \n",
              "25%    19821.142833    0.000000    0.00000  160.369929   59.953004   \n",
              "50%    24566.164700    1.000000    0.00000  167.911765   70.783838   \n",
              "75%    29869.144700    1.000000    1.00000  174.978838   75.029274   \n",
              "max    35317.858420    1.000000    1.00000  187.750789   79.816476   \n",
              "\n",
              "       Flexibility    Strenght         BMI      BirthC    Estrogen  \\\n",
              "count   200.000000  200.000000  200.000000  200.000000  200.000000   \n",
              "mean    195.876193  262.036463   19.045108    0.475000   55.283469   \n",
              "std      45.573897   25.261806    2.038495    0.500628   25.743512   \n",
              "min     130.766141  216.339372   16.336520    0.000000   19.170801   \n",
              "25%     151.409982  238.806054   17.064398    0.000000   30.103000   \n",
              "50%     169.560352  263.872022   20.238410    0.000000   41.912451   \n",
              "75%     240.055744  283.741327   21.030361    1.000000   81.018662   \n",
              "max     263.497104  309.800073   21.858290    1.000000   91.361100   \n",
              "\n",
              "       Dalt_Dychromassy  Dalt_Monochromassy  \n",
              "count        200.000000          200.000000  \n",
              "mean           0.265000            0.240000  \n",
              "std            0.442441            0.428155  \n",
              "min            0.000000            0.000000  \n",
              "25%            0.000000            0.000000  \n",
              "50%            0.000000            0.000000  \n",
              "75%            1.000000            0.000000  \n",
              "max            1.000000            1.000000  "
            ]
          },
          "execution_count": 87,
          "metadata": {},
          "output_type": "execute_result"
        }
      ],
      "source": [
        "salary_transformed.describe()"
      ]
    },
    {
      "cell_type": "markdown",
      "metadata": {},
      "source": [
        "## Improving model using Feature Scaling and Selection"
      ]
    },
    {
      "attachments": {
        "image.png": {
          "image/png": "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"
        }
      },
      "cell_type": "markdown",
      "metadata": {},
      "source": [
        "![image.png](attachment:image.png)"
      ]
    },
    {
      "cell_type": "code",
      "execution_count": 88,
      "metadata": {},
      "outputs": [
        {
          "data": {
            "text/html": [
              "<div>\n",
              "<style scoped>\n",
              "    .dataframe tbody tr th:only-of-type {\n",
              "        vertical-align: middle;\n",
              "    }\n",
              "\n",
              "    .dataframe tbody tr th {\n",
              "        vertical-align: top;\n",
              "    }\n",
              "\n",
              "    .dataframe thead th {\n",
              "        text-align: right;\n",
              "    }\n",
              "</style>\n",
              "<table border=\"1\" class=\"dataframe\">\n",
              "  <thead>\n",
              "    <tr style=\"text-align: right;\">\n",
              "      <th></th>\n",
              "      <th>Salary</th>\n",
              "      <th>Experience</th>\n",
              "      <th>Gender</th>\n",
              "      <th>Height</th>\n",
              "      <th>Weight</th>\n",
              "      <th>Flexibility</th>\n",
              "      <th>Strenght</th>\n",
              "      <th>BMI</th>\n",
              "      <th>BirthC</th>\n",
              "      <th>Estrogen</th>\n",
              "      <th>Dalt_Dychromassy</th>\n",
              "      <th>Dalt_Monochromassy</th>\n",
              "    </tr>\n",
              "  </thead>\n",
              "  <tbody>\n",
              "    <tr>\n",
              "      <th>0</th>\n",
              "      <td>32064.17357</td>\n",
              "      <td>1</td>\n",
              "      <td>1</td>\n",
              "      <td>160.18908</td>\n",
              "      <td>60.110733</td>\n",
              "      <td>230.467496</td>\n",
              "      <td>227.262099</td>\n",
              "      <td>16.748028</td>\n",
              "      <td>1</td>\n",
              "      <td>74.619024</td>\n",
              "      <td>0</td>\n",
              "      <td>0</td>\n",
              "    </tr>\n",
              "  </tbody>\n",
              "</table>\n",
              "</div>"
            ],
            "text/plain": [
              "        Salary  Experience  Gender     Height     Weight  Flexibility  \\\n",
              "0  32064.17357           1       1  160.18908  60.110733   230.467496   \n",
              "\n",
              "     Strenght        BMI  BirthC   Estrogen  Dalt_Dychromassy  \\\n",
              "0  227.262099  16.748028       1  74.619024                 0   \n",
              "\n",
              "   Dalt_Monochromassy  \n",
              "0                   0  "
            ]
          },
          "execution_count": 88,
          "metadata": {},
          "output_type": "execute_result"
        }
      ],
      "source": [
        "# Height:\n",
        "# min : 147.163544\t\n",
        "# max : 187.750789\n",
        "\n",
        "salary_transformed.head(1)"
      ]
    },
    {
      "cell_type": "code",
      "execution_count": 89,
      "metadata": {},
      "outputs": [
        {
          "data": {
            "text/plain": [
              "0.325"
            ]
          },
          "execution_count": 89,
          "metadata": {},
          "output_type": "execute_result"
        }
      ],
      "source": [
        "entry_1_minmax_scaled = (160 - 147) / (187 - 147)\n",
        "entry_1_minmax_scaled"
      ]
    },
    {
      "cell_type": "markdown",
      "metadata": {
        "id": "HwWWzXWoOMwl"
      },
      "source": [
        "### Normalization"
      ]
    },
    {
      "cell_type": "code",
      "execution_count": 91,
      "metadata": {
        "id": "E0T-3YdZDujx"
      },
      "outputs": [
        {
          "data": {
            "text/html": [
              "<style>#sk-container-id-2 {color: black;}#sk-container-id-2 pre{padding: 0;}#sk-container-id-2 div.sk-toggleable {background-color: white;}#sk-container-id-2 label.sk-toggleable__label {cursor: pointer;display: block;width: 100%;margin-bottom: 0;padding: 0.3em;box-sizing: border-box;text-align: center;}#sk-container-id-2 label.sk-toggleable__label-arrow:before {content: \"▸\";float: left;margin-right: 0.25em;color: #696969;}#sk-container-id-2 label.sk-toggleable__label-arrow:hover:before {color: black;}#sk-container-id-2 div.sk-estimator:hover label.sk-toggleable__label-arrow:before {color: black;}#sk-container-id-2 div.sk-toggleable__content {max-height: 0;max-width: 0;overflow: hidden;text-align: left;background-color: #f0f8ff;}#sk-container-id-2 div.sk-toggleable__content pre {margin: 0.2em;color: black;border-radius: 0.25em;background-color: #f0f8ff;}#sk-container-id-2 input.sk-toggleable__control:checked~div.sk-toggleable__content {max-height: 200px;max-width: 100%;overflow: auto;}#sk-container-id-2 input.sk-toggleable__control:checked~label.sk-toggleable__label-arrow:before {content: \"▾\";}#sk-container-id-2 div.sk-estimator input.sk-toggleable__control:checked~label.sk-toggleable__label {background-color: #d4ebff;}#sk-container-id-2 div.sk-label input.sk-toggleable__control:checked~label.sk-toggleable__label {background-color: #d4ebff;}#sk-container-id-2 input.sk-hidden--visually {border: 0;clip: rect(1px 1px 1px 1px);clip: rect(1px, 1px, 1px, 1px);height: 1px;margin: -1px;overflow: hidden;padding: 0;position: absolute;width: 1px;}#sk-container-id-2 div.sk-estimator {font-family: monospace;background-color: #f0f8ff;border: 1px dotted black;border-radius: 0.25em;box-sizing: border-box;margin-bottom: 0.5em;}#sk-container-id-2 div.sk-estimator:hover {background-color: #d4ebff;}#sk-container-id-2 div.sk-parallel-item::after {content: \"\";width: 100%;border-bottom: 1px solid gray;flex-grow: 1;}#sk-container-id-2 div.sk-label:hover label.sk-toggleable__label {background-color: #d4ebff;}#sk-container-id-2 div.sk-serial::before {content: \"\";position: absolute;border-left: 1px solid gray;box-sizing: border-box;top: 0;bottom: 0;left: 50%;z-index: 0;}#sk-container-id-2 div.sk-serial {display: flex;flex-direction: column;align-items: center;background-color: white;padding-right: 0.2em;padding-left: 0.2em;position: relative;}#sk-container-id-2 div.sk-item {position: relative;z-index: 1;}#sk-container-id-2 div.sk-parallel {display: flex;align-items: stretch;justify-content: center;background-color: white;position: relative;}#sk-container-id-2 div.sk-item::before, #sk-container-id-2 div.sk-parallel-item::before {content: \"\";position: absolute;border-left: 1px solid gray;box-sizing: border-box;top: 0;bottom: 0;left: 50%;z-index: -1;}#sk-container-id-2 div.sk-parallel-item {display: flex;flex-direction: column;z-index: 1;position: relative;background-color: white;}#sk-container-id-2 div.sk-parallel-item:first-child::after {align-self: flex-end;width: 50%;}#sk-container-id-2 div.sk-parallel-item:last-child::after {align-self: flex-start;width: 50%;}#sk-container-id-2 div.sk-parallel-item:only-child::after {width: 0;}#sk-container-id-2 div.sk-dashed-wrapped {border: 1px dashed gray;margin: 0 0.4em 0.5em 0.4em;box-sizing: border-box;padding-bottom: 0.4em;background-color: white;}#sk-container-id-2 div.sk-label label {font-family: monospace;font-weight: bold;display: inline-block;line-height: 1.2em;}#sk-container-id-2 div.sk-label-container {text-align: center;}#sk-container-id-2 div.sk-container {/* jupyter's `normalize.less` sets `[hidden] { display: none; }` but bootstrap.min.css set `[hidden] { display: none !important; }` so we also need the `!important` here to be able to override the default hidden behavior on the sphinx rendered scikit-learn.org. See: https://github.com/scikit-learn/scikit-learn/issues/21755 */display: inline-block !important;position: relative;}#sk-container-id-2 div.sk-text-repr-fallback {display: none;}</style><div id=\"sk-container-id-2\" class=\"sk-top-container\"><div class=\"sk-text-repr-fallback\"><pre>MinMaxScaler()</pre><b>In a Jupyter environment, please rerun this cell to show the HTML representation or trust the notebook. <br />On GitHub, the HTML representation is unable to render, please try loading this page with nbviewer.org.</b></div><div class=\"sk-container\" hidden><div class=\"sk-item\"><div class=\"sk-estimator sk-toggleable\"><input class=\"sk-toggleable__control sk-hidden--visually\" id=\"sk-estimator-id-2\" type=\"checkbox\" checked><label for=\"sk-estimator-id-2\" class=\"sk-toggleable__label sk-toggleable__label-arrow\">MinMaxScaler</label><div class=\"sk-toggleable__content\"><pre>MinMaxScaler()</pre></div></div></div></div></div>"
            ],
            "text/plain": [
              "MinMaxScaler()"
            ]
          },
          "execution_count": 91,
          "metadata": {},
          "output_type": "execute_result"
        }
      ],
      "source": [
        "#let's apply a normalization of the features since \"flexibility\" seems to count 200 times more than Daltonic_None\n",
        "# from sklearn.preprocessing import StandardScaler\n",
        "from sklearn.preprocessing import MinMaxScaler\n",
        "\n",
        "# For scaling data we first instantiate the scaler\n",
        "normalizer = MinMaxScaler()\n",
        "\n",
        "# then we fit the scaler with our training data!!!\n",
        "normalizer = normalizer.fit(X_train)\n",
        "\n",
        "# notice how we only use the **X_train** data to fit?\n",
        "# we want to use only the training data to normalize (establishing maximum and minimum values) to avoid data \"leakage\" from the test dataset\n",
        "# if we used data from the test dataset, the test results would be biased by having some info from the test set\n",
        "\n",
        "normalizer"
      ]
    },
    {
      "cell_type": "code",
      "execution_count": 94,
      "metadata": {
        "colab": {
          "base_uri": "https://localhost:8080/",
          "height": 250
        },
        "id": "r1zXzz0MuGOY",
        "outputId": "aa3b7516-077d-4d9e-aa57-3b2fc6487283"
      },
      "outputs": [
        {
          "data": {
            "text/html": [
              "<div>\n",
              "<style scoped>\n",
              "    .dataframe tbody tr th:only-of-type {\n",
              "        vertical-align: middle;\n",
              "    }\n",
              "\n",
              "    .dataframe tbody tr th {\n",
              "        vertical-align: top;\n",
              "    }\n",
              "\n",
              "    .dataframe thead th {\n",
              "        text-align: right;\n",
              "    }\n",
              "</style>\n",
              "<table border=\"1\" class=\"dataframe\">\n",
              "  <thead>\n",
              "    <tr style=\"text-align: right;\">\n",
              "      <th></th>\n",
              "      <th>Experience</th>\n",
              "      <th>Gender</th>\n",
              "      <th>Height</th>\n",
              "      <th>Weight</th>\n",
              "      <th>Flexibility</th>\n",
              "      <th>Strenght</th>\n",
              "      <th>BMI</th>\n",
              "      <th>BirthC</th>\n",
              "      <th>Estrogen</th>\n",
              "      <th>Dalt_Dychromassy</th>\n",
              "      <th>Dalt_Monochromassy</th>\n",
              "    </tr>\n",
              "  </thead>\n",
              "  <tbody>\n",
              "    <tr>\n",
              "      <th>0</th>\n",
              "      <td>1.0</td>\n",
              "      <td>0.0</td>\n",
              "      <td>0.613952</td>\n",
              "      <td>0.781745</td>\n",
              "      <td>0.189096</td>\n",
              "      <td>0.908654</td>\n",
              "      <td>0.788029</td>\n",
              "      <td>0.0</td>\n",
              "      <td>0.263978</td>\n",
              "      <td>1.0</td>\n",
              "      <td>0.0</td>\n",
              "    </tr>\n",
              "    <tr>\n",
              "      <th>1</th>\n",
              "      <td>0.0</td>\n",
              "      <td>1.0</td>\n",
              "      <td>0.321933</td>\n",
              "      <td>0.121665</td>\n",
              "      <td>0.906702</td>\n",
              "      <td>0.289993</td>\n",
              "      <td>0.090974</td>\n",
              "      <td>1.0</td>\n",
              "      <td>0.821881</td>\n",
              "      <td>0.0</td>\n",
              "      <td>0.0</td>\n",
              "    </tr>\n",
              "    <tr>\n",
              "      <th>2</th>\n",
              "      <td>0.0</td>\n",
              "      <td>0.0</td>\n",
              "      <td>0.490344</td>\n",
              "      <td>0.815572</td>\n",
              "      <td>0.098447</td>\n",
              "      <td>0.694200</td>\n",
              "      <td>0.910528</td>\n",
              "      <td>0.0</td>\n",
              "      <td>0.054694</td>\n",
              "      <td>0.0</td>\n",
              "      <td>1.0</td>\n",
              "    </tr>\n",
              "    <tr>\n",
              "      <th>3</th>\n",
              "      <td>1.0</td>\n",
              "      <td>0.0</td>\n",
              "      <td>0.562174</td>\n",
              "      <td>0.898379</td>\n",
              "      <td>0.110407</td>\n",
              "      <td>0.833758</td>\n",
              "      <td>0.847155</td>\n",
              "      <td>0.0</td>\n",
              "      <td>0.110212</td>\n",
              "      <td>1.0</td>\n",
              "      <td>0.0</td>\n",
              "    </tr>\n",
              "    <tr>\n",
              "      <th>4</th>\n",
              "      <td>0.0</td>\n",
              "      <td>0.0</td>\n",
              "      <td>0.593695</td>\n",
              "      <td>0.960402</td>\n",
              "      <td>0.190017</td>\n",
              "      <td>0.609149</td>\n",
              "      <td>0.843276</td>\n",
              "      <td>0.0</td>\n",
              "      <td>0.104813</td>\n",
              "      <td>0.0</td>\n",
              "      <td>1.0</td>\n",
              "    </tr>\n",
              "  </tbody>\n",
              "</table>\n",
              "</div>"
            ],
            "text/plain": [
              "   Experience  Gender    Height    Weight  Flexibility  Strenght       BMI  \\\n",
              "0         1.0     0.0  0.613952  0.781745     0.189096  0.908654  0.788029   \n",
              "1         0.0     1.0  0.321933  0.121665     0.906702  0.289993  0.090974   \n",
              "2         0.0     0.0  0.490344  0.815572     0.098447  0.694200  0.910528   \n",
              "3         1.0     0.0  0.562174  0.898379     0.110407  0.833758  0.847155   \n",
              "4         0.0     0.0  0.593695  0.960402     0.190017  0.609149  0.843276   \n",
              "\n",
              "   BirthC  Estrogen  Dalt_Dychromassy  Dalt_Monochromassy  \n",
              "0     0.0  0.263978               1.0                 0.0  \n",
              "1     1.0  0.821881               0.0                 0.0  \n",
              "2     0.0  0.054694               0.0                 1.0  \n",
              "3     0.0  0.110212               1.0                 0.0  \n",
              "4     0.0  0.104813               0.0                 1.0  "
            ]
          },
          "execution_count": 94,
          "metadata": {},
          "output_type": "execute_result"
        }
      ],
      "source": [
        "# now that we have our normalizer we use it for both training and testing (and in the future for unseen data as well!)\n",
        "\n",
        "X_train_normalized = normalizer.transform(X_train)\n",
        "X_train_normalized = pd.DataFrame(X_train_normalized, columns = X_train.columns)\n",
        "X_train_normalized.head()"
      ]
    },
    {
      "cell_type": "code",
      "execution_count": 96,
      "metadata": {
        "colab": {
          "base_uri": "https://localhost:8080/",
          "height": 250
        },
        "id": "A0jz2TjZUuKn",
        "outputId": "511be83e-c985-4689-c232-dc798236a38b"
      },
      "outputs": [
        {
          "data": {
            "text/html": [
              "<div>\n",
              "<style scoped>\n",
              "    .dataframe tbody tr th:only-of-type {\n",
              "        vertical-align: middle;\n",
              "    }\n",
              "\n",
              "    .dataframe tbody tr th {\n",
              "        vertical-align: top;\n",
              "    }\n",
              "\n",
              "    .dataframe thead th {\n",
              "        text-align: right;\n",
              "    }\n",
              "</style>\n",
              "<table border=\"1\" class=\"dataframe\">\n",
              "  <thead>\n",
              "    <tr style=\"text-align: right;\">\n",
              "      <th></th>\n",
              "      <th>Experience</th>\n",
              "      <th>Gender</th>\n",
              "      <th>Height</th>\n",
              "      <th>Weight</th>\n",
              "      <th>Flexibility</th>\n",
              "      <th>Strenght</th>\n",
              "      <th>BMI</th>\n",
              "      <th>BirthC</th>\n",
              "      <th>Estrogen</th>\n",
              "      <th>Dalt_Dychromassy</th>\n",
              "      <th>Dalt_Monochromassy</th>\n",
              "    </tr>\n",
              "  </thead>\n",
              "  <tbody>\n",
              "    <tr>\n",
              "      <th>0</th>\n",
              "      <td>0.0</td>\n",
              "      <td>1.0</td>\n",
              "      <td>0.196650</td>\n",
              "      <td>0.215231</td>\n",
              "      <td>0.949811</td>\n",
              "      <td>0.239504</td>\n",
              "      <td>0.157532</td>\n",
              "      <td>1.0</td>\n",
              "      <td>0.981115</td>\n",
              "      <td>0.0</td>\n",
              "      <td>0.0</td>\n",
              "    </tr>\n",
              "    <tr>\n",
              "      <th>1</th>\n",
              "      <td>1.0</td>\n",
              "      <td>1.0</td>\n",
              "      <td>0.241750</td>\n",
              "      <td>0.161240</td>\n",
              "      <td>0.773724</td>\n",
              "      <td>0.245889</td>\n",
              "      <td>0.103219</td>\n",
              "      <td>1.0</td>\n",
              "      <td>0.758113</td>\n",
              "      <td>0.0</td>\n",
              "      <td>0.0</td>\n",
              "    </tr>\n",
              "    <tr>\n",
              "      <th>2</th>\n",
              "      <td>0.0</td>\n",
              "      <td>0.0</td>\n",
              "      <td>0.468147</td>\n",
              "      <td>0.747761</td>\n",
              "      <td>0.154800</td>\n",
              "      <td>0.701998</td>\n",
              "      <td>0.824427</td>\n",
              "      <td>0.0</td>\n",
              "      <td>0.030871</td>\n",
              "      <td>0.0</td>\n",
              "      <td>1.0</td>\n",
              "    </tr>\n",
              "    <tr>\n",
              "      <th>3</th>\n",
              "      <td>1.0</td>\n",
              "      <td>1.0</td>\n",
              "      <td>0.502222</td>\n",
              "      <td>0.292031</td>\n",
              "      <td>0.834032</td>\n",
              "      <td>0.198017</td>\n",
              "      <td>0.163933</td>\n",
              "      <td>1.0</td>\n",
              "      <td>0.766364</td>\n",
              "      <td>0.0</td>\n",
              "      <td>0.0</td>\n",
              "    </tr>\n",
              "    <tr>\n",
              "      <th>4</th>\n",
              "      <td>0.0</td>\n",
              "      <td>0.0</td>\n",
              "      <td>0.779255</td>\n",
              "      <td>0.679382</td>\n",
              "      <td>0.148925</td>\n",
              "      <td>0.563152</td>\n",
              "      <td>0.853935</td>\n",
              "      <td>0.0</td>\n",
              "      <td>0.151070</td>\n",
              "      <td>0.0</td>\n",
              "      <td>1.0</td>\n",
              "    </tr>\n",
              "  </tbody>\n",
              "</table>\n",
              "</div>"
            ],
            "text/plain": [
              "   Experience  Gender    Height    Weight  Flexibility  Strenght       BMI  \\\n",
              "0         0.0     1.0  0.196650  0.215231     0.949811  0.239504  0.157532   \n",
              "1         1.0     1.0  0.241750  0.161240     0.773724  0.245889  0.103219   \n",
              "2         0.0     0.0  0.468147  0.747761     0.154800  0.701998  0.824427   \n",
              "3         1.0     1.0  0.502222  0.292031     0.834032  0.198017  0.163933   \n",
              "4         0.0     0.0  0.779255  0.679382     0.148925  0.563152  0.853935   \n",
              "\n",
              "   BirthC  Estrogen  Dalt_Dychromassy  Dalt_Monochromassy  \n",
              "0     1.0  0.981115               0.0                 0.0  \n",
              "1     1.0  0.758113               0.0                 0.0  \n",
              "2     0.0  0.030871               0.0                 1.0  \n",
              "3     1.0  0.766364               0.0                 0.0  \n",
              "4     0.0  0.151070               0.0                 1.0  "
            ]
          },
          "execution_count": 96,
          "metadata": {},
          "output_type": "execute_result"
        }
      ],
      "source": [
        "# transform X_test\n",
        "X_test_normalized = normalizer.transform(X_test)\n",
        "X_test_normalized = pd.DataFrame(X_test_normalized, columns = X_test.columns)\n",
        "X_test_normalized.head()"
      ]
    },
    {
      "cell_type": "markdown",
      "metadata": {},
      "source": [
        "#### Model recreation and testing"
      ]
    },
    {
      "cell_type": "code",
      "execution_count": 99,
      "metadata": {
        "colab": {
          "base_uri": "https://localhost:8080/"
        },
        "id": "CIdW6y_mD6_g",
        "outputId": "7eefdd33-0918-47f2-f297-183e6685376a"
      },
      "outputs": [
        {
          "data": {
            "text/plain": [
              "0.6720172732333964"
            ]
          },
          "execution_count": 99,
          "metadata": {},
          "output_type": "execute_result"
        }
      ],
      "source": [
        "# let's see if this normalization improves our model\n",
        "# creating model\n",
        "knn_with_scaling =  KNeighborsRegressor(n_neighbors=3)\n",
        "# training the model on normalized data\n",
        "knn_with_scaling.fit(X_train_normalized, y_train)\n",
        "\n",
        "# testing algorithm on normalized test\n",
        "y_pred_norm = knn_with_scaling.predict(X_test_normalized)\n",
        "\n",
        "# metrics scoring\n",
        "knn_with_scaling.score(X_test_normalized, y_test)\n"
      ]
    },
    {
      "cell_type": "code",
      "execution_count": 101,
      "metadata": {},
      "outputs": [
        {
          "data": {
            "text/plain": [
              "3318.6742652946064"
            ]
          },
          "execution_count": 101,
          "metadata": {},
          "output_type": "execute_result"
        }
      ],
      "source": [
        "# MSE\n",
        "\n",
        "mse_salary_normalized = mean_squared_error(y_test, y_pred_norm)\n",
        "\n",
        "\n",
        "np.sqrt(mse_salary_normalized)\n"
      ]
    },
    {
      "cell_type": "markdown",
      "metadata": {
        "id": "GSO2YyfAOBiO"
      },
      "source": [
        "### Feature Selection - Correlation Tresholds"
      ]
    },
    {
      "cell_type": "code",
      "execution_count": null,
      "metadata": {
        "colab": {
          "base_uri": "https://localhost:8080/",
          "height": 458
        },
        "id": "zdbrsbtYD_QJ",
        "outputId": "948bdbf9-6eaa-4442-f1ab-10f36ce3afcd"
      },
      "outputs": [],
      "source": [
        "# let's see if our variables are too dependent\n",
        "pyplot as plt"
      ]
    },
    {
      "cell_type": "code",
      "execution_count": null,
      "metadata": {
        "colab": {
          "base_uri": "https://localhost:8080/",
          "height": 1000
        },
        "id": "5DfCvvd1EBLy",
        "outputId": "c411f8d6-c44d-4423-c0d6-59c268229f78"
      },
      "outputs": [],
      "source": [
        "# A very common way to visualize the results discussed above is to create a correlation matrix.\n",
        "import matplotlib.pyplot as plt\n",
        "import seaborn as sn\n",
        "\n",
        "\n",
        "\n",
        "#Set up mask for triangle representation\n",
        "\n",
        "\n",
        "# Set up the matplotlib figure\n",
        "\n",
        "# Generate a custom diverging colormap\n",
        "\n",
        "# Draw the heatmap with the mask and correct aspect ratio\n"
      ]
    },
    {
      "cell_type": "code",
      "execution_count": null,
      "metadata": {
        "id": "3E0d-qW_ED1a"
      },
      "outputs": [],
      "source": [
        "# very clear that all variables are essentially the same! Except for experience!\n",
        "# what is the effect of this?\n",
        "\n",
        "#let's get rid of such variables\n"
      ]
    },
    {
      "cell_type": "code",
      "execution_count": null,
      "metadata": {
        "colab": {
          "base_uri": "https://localhost:8080/"
        },
        "id": "aC4pmBt5EK36",
        "outputId": "1d43fded-43ea-46b1-b4d4-99cd8b921923"
      },
      "outputs": [],
      "source": [
        "# creating our knn model\n",
        "\n",
        "# training the model on reduced, normalized data\n",
        "\n",
        "# testing algorithm on reduced, normalized test\n",
        "\n",
        "\n",
        "# metrics scoring\n"
      ]
    },
    {
      "cell_type": "markdown",
      "metadata": {
        "id": "fnP8TETIPKD0"
      },
      "source": [
        "# Feature manipulation for signal boosting"
      ]
    },
    {
      "cell_type": "code",
      "execution_count": null,
      "metadata": {
        "colab": {
          "base_uri": "https://localhost:8080/",
          "height": 206
        },
        "id": "2XGhRfEuIEon",
        "outputId": "b5a9d7fd-9043-4596-f7c3-176d906cc407"
      },
      "outputs": [],
      "source": [
        "# we want to understand what drives loss of energy in our windfarms\n",
        "energy = pd.read_csv('energy_loss.csv')\n",
        "energy.head()"
      ]
    },
    {
      "cell_type": "code",
      "execution_count": null,
      "metadata": {
        "id": "QKcGsAjYIEvK"
      },
      "outputs": [],
      "source": [
        "# let's try to predict it \"raw\"\n",
        "X = energy[['Voltage','Rotation','Stability']]\n",
        "y = energy['Loss']"
      ]
    },
    {
      "cell_type": "code",
      "execution_count": null,
      "metadata": {
        "colab": {
          "base_uri": "https://localhost:8080/"
        },
        "id": "mR8VIvkZIShb",
        "outputId": "d46ed049-2845-4c6b-83b6-9dc006851950"
      },
      "outputs": [],
      "source": [
        "import numpy as np\n",
        "from sklearn.linear_model import LinearRegression\n",
        "\n",
        "reg = LinearRegression()\n",
        "reg.fit(X, y)\n",
        "reg.score(X, y)"
      ]
    },
    {
      "cell_type": "code",
      "execution_count": null,
      "metadata": {
        "id": "wCP6T9wzIUJV"
      },
      "outputs": [],
      "source": [
        "# however we know the optimal values of Voltage, Rotation and Stability from an engineer\n",
        "energy_transformed = energy.copy()\n",
        "energy_transformed['Voltage'] = np.square(energy_transformed['Voltage']-100)\n",
        "energy_transformed['Rotation'] = np.square(energy_transformed['Rotation']-150)\n",
        "energy_transformed['Stability'] = np.square(energy_transformed['Stability']-90)\n",
        "X = energy_transformed[['Voltage','Rotation','Stability']]\n",
        "y = energy_transformed['Loss']"
      ]
    },
    {
      "cell_type": "code",
      "execution_count": null,
      "metadata": {
        "colab": {
          "base_uri": "https://localhost:8080/",
          "height": 423
        },
        "id": "Z43Aq7WTaq9a",
        "outputId": "2c4753a7-2146-4815-8dcd-a56bb1aeb85b"
      },
      "outputs": [],
      "source": [
        "X"
      ]
    },
    {
      "cell_type": "code",
      "execution_count": null,
      "metadata": {
        "colab": {
          "base_uri": "https://localhost:8080/"
        },
        "id": "-wSwXMTaIWEC",
        "outputId": "f4aa9148-a96d-40af-b477-bfc69fdcde0f"
      },
      "outputs": [],
      "source": [
        "# the model improves dramatically\n",
        "import numpy as np\n",
        "from sklearn.linear_model import LinearRegression\n",
        "\n",
        "reg = LinearRegression()\n",
        "reg.fit(X, y)\n",
        "reg.score(X, y)"
      ]
    }
  ],
  "metadata": {
    "colab": {
      "provenance": []
    },
    "kernelspec": {
      "display_name": "Python 3",
      "language": "python",
      "name": "python3"
    },
    "language_info": {
      "codemirror_mode": {
        "name": "ipython",
        "version": 3
      },
      "file_extension": ".py",
      "mimetype": "text/x-python",
      "name": "python",
      "nbconvert_exporter": "python",
      "pygments_lexer": "ipython3",
      "version": "3.8.10"
    }
  },
  "nbformat": 4,
  "nbformat_minor": 0
}
>>>>>>> upstream/main
